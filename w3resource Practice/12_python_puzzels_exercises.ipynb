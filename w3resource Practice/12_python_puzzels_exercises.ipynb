{
 "cells": [
  {
   "cell_type": "markdown",
   "id": "10eb0e10-c0c3-413a-b553-984f84ba1a0a",
   "metadata": {},
   "source": [
    "### Pyhton Puzzels Exercises\n",
    "##### https://www.w3resource.com/python-exercises/challenges/1/index.php"
   ]
  },
  {
   "cell_type": "raw",
   "id": "6da6892f-b4ed-4035-8f85-f8aab668fb96",
   "metadata": {},
   "source": [
    "1. Write a Python program to calculate sum of all positive, negative integers present in a given string.\n",
    "Original string:\n",
    "-100#^sdfkj8902w3ir021@swf-20\n",
    "Sum of all positive, negative integers present in the said string:\n",
    "Positive values: 9046\n",
    "Negative values: -120"
   ]
  },
  {
   "cell_type": "code",
   "execution_count": 1,
   "id": "d7cd1039-18aa-4fa1-bda8-20fdd6f7d090",
   "metadata": {},
   "outputs": [],
   "source": [
    "import re"
   ]
  },
  {
   "cell_type": "code",
   "execution_count": 12,
   "id": "deccce95-20f5-4619-adb3-c93b5abf5b32",
   "metadata": {},
   "outputs": [
    {
     "data": {
      "text/plain": [
       "['100', '8902', '3', '021', '20']"
      ]
     },
     "execution_count": 12,
     "metadata": {},
     "output_type": "execute_result"
    }
   ],
   "source": [
    "string = \"-100#^sdfkj8902w3ir021@swf-20\"\n",
    "pattern_for_negative = r\"(-[\\d]+)\"\n",
    "pattern_for_positive = r\"([\\d]+)\"\n",
    "re.findall(pattern_for_positive, string)"
   ]
  },
  {
   "cell_type": "code",
   "execution_count": 13,
   "id": "94ef889a-1d4e-430c-8546-1809d0717aee",
   "metadata": {},
   "outputs": [],
   "source": [
    "def find_sum_of_positive_and_negatives(string):\n",
    "    pattern_for_negative = r\"(-[\\d]+)\"\n",
    "    pattern_for_positive = r\"([\\d]+)\"\n",
    "\n",
    "    sum_of_negatives = sum([int(num) for num in re.findall(pattern_for_negative, string)])\n",
    "    sum_of_positives = sum([int(num) for num in re.findall(pattern_for_positive, string)])\n",
    "\n",
    "    return (sum_of_positives, sum_of_negatives)"
   ]
  },
  {
   "cell_type": "code",
   "execution_count": 14,
   "id": "630df648-dc22-435e-ba37-eca61f02e676",
   "metadata": {},
   "outputs": [
    {
     "data": {
      "text/plain": [
       "(9046, -120)"
      ]
     },
     "execution_count": 14,
     "metadata": {},
     "output_type": "execute_result"
    }
   ],
   "source": [
    "find_sum_of_positive_and_negatives(string)"
   ]
  },
  {
   "cell_type": "code",
   "execution_count": null,
   "id": "0bebf5e7-1b8e-45d8-92aa-a87bc4b857c8",
   "metadata": {},
   "outputs": [],
   "source": []
  },
  {
   "cell_type": "raw",
   "id": "570ddb1b-5837-40f8-84bc-94c785d427ab",
   "metadata": {},
   "source": [
    "2. Write a Python program to find the index of the first term in the Fibonacci sequence to contain 500 digits.\n",
    "In mathematics, the Fibonacci numbers, commonly denoted Fn form a sequence, called the Fibonacci sequence, such that each number is the sum of the two preceding ones, starting from 0 and 1\n",
    "The Fibonacci sequence is defined by the recurrence relation:\n",
    "Fn = Fn-1 + Fn-2, where F1 = 1 and F2 = 1.\n",
    "Hence the first 12 terms will be:\n",
    "F1 = 1\n",
    "F2 = 1\n",
    "F3 = 2\n",
    "F4 = 3\n",
    "F5 = 5\n",
    "F6 = 8\n",
    "F7 = 13\n",
    "F8 = 21\n",
    "F9 = 34\n",
    "F10 = 55\n",
    "F11 = 89\n",
    "F12 = 144\n",
    "The 12th term, F12, is the first term to contain three digits."
   ]
  },
  {
   "cell_type": "code",
   "execution_count": 13,
   "id": "b7987970-bd52-4acd-a847-de302be4ae23",
   "metadata": {},
   "outputs": [],
   "source": [
    "def digits(num):\n",
    "    total = 0\n",
    "    while num>0:\n",
    "        total += 1\n",
    "        num //= 10\n",
    "    return total\n",
    "def find_fib_by_no_of_digits(num):\n",
    "    lst = []\n",
    "    lst.append(0)\n",
    "    lst.append(1)\n",
    "    i, j, k = 0, 1, 1\n",
    "    # while digits(lst[k]) != num:\n",
    "    while len(str(lst[k])) != num:\n",
    "        lst.append(lst[i]+lst[j])\n",
    "        i += 1\n",
    "        j += 1\n",
    "        k += 1\n",
    "    return (len(lst)-1, lst[-1])"
   ]
  },
  {
   "cell_type": "code",
   "execution_count": 14,
   "id": "6969ad51-61e7-4895-8ee0-d67083865031",
   "metadata": {},
   "outputs": [
    {
     "data": {
      "text/plain": [
       "(237, 15156039800290547036315704478931467953361427680642)"
      ]
     },
     "execution_count": 14,
     "metadata": {},
     "output_type": "execute_result"
    }
   ],
   "source": [
    "find_fib_by_no_of_digits(50)"
   ]
  },
  {
   "cell_type": "code",
   "execution_count": 16,
   "id": "9fe44ece-64ee-42a0-81ad-ccc0399a65e0",
   "metadata": {},
   "outputs": [
    {
     "name": "stdout",
     "output_type": "stream",
     "text": [
      "Index: 2390, Fibonacci number: 13519953418077838368801807418097207824727568752101605106137390139497373759044033027222808365646324756370801704410196143619279084626761499522563157517595983476528691176327831804238405334376075294975778202965070480198561171910878217319912660145602766858351654100802351962856028761259551479897733411471112621822898657212657624368323391521405410839886924175724827217662304926338662733086083712949789402938947883809613333437915009553129838966732542420174872456479760117440607152096919018342861214729963145\n"
     ]
    }
   ],
   "source": [
    "# or else do following\n",
    "def find_fib_by_no_of_digits(num):\n",
    "    a, b = 0, 1\n",
    "    index = 1\n",
    "\n",
    "    while len(str(b)) < num:\n",
    "        a, b = b, a + b\n",
    "        index += 1\n",
    "\n",
    "    return index, b\n",
    "\n",
    "index, fib_number = find_fib_by_no_of_digits(500)\n",
    "print(f\"Index: {index}, Fibonacci number: {fib_number}\")\n"
   ]
  },
  {
   "cell_type": "code",
   "execution_count": null,
   "id": "a7601fd4-1840-45b6-b634-cc7fa8876622",
   "metadata": {},
   "outputs": [],
   "source": []
  },
  {
   "attachments": {},
   "cell_type": "raw",
   "id": "0b501d66-344c-4fa2-ab4c-7f08f655002d",
   "metadata": {},
   "source": [
    "59. Starting with the number 1 and moving to the right in a clockwise direction a 5 by 5 spiral is formed as follows:\n",
    "\n",
    "[21,22,23,24,25]\n",
    "[20,07,08,09,10]\n",
    "[19,06,01,02,11]\n",
    "[18,05,04,03,12]\n",
    "[17,16,15,14,13]\n",
    "\n",
    "Diagonals Numbers: 21 + 7 + 1 + 3 + 13 + 25 + 9 + 5 + 17 = 101\n",
    "It can be verified that the sum of the numbers on the diagonals is 101.\n",
    "Write a Python program to compute the sum of the numbers on the diagonals in a 1001 by 1001 spiral formed in the above way.\n",
    "Sample Output:\n",
    "669171001"
   ]
  },
  {
   "cell_type": "code",
   "execution_count": 51,
   "id": "3b54d976-ec1d-4cb8-9e19-a6a495b36b39",
   "metadata": {},
   "outputs": [],
   "source": [
    "def sum_of_diagonal_nums(dimensions):\n",
    "    total = 1\n",
    "    last = 1\n",
    "    k = 2\n",
    "    l = 2\n",
    "    for i in range(1, dimensions//2+1):\n",
    "        for j in range(last+k, ((i+l)**2)+1, k):\n",
    "            total += j\n",
    "            last = j\n",
    "        k = (i+1)*2\n",
    "        l += 1\n",
    "    return total"
   ]
  },
  {
   "cell_type": "code",
   "execution_count": 52,
   "id": "d18570ce-3ee2-4ad7-9f42-c1c66f15556f",
   "metadata": {},
   "outputs": [
    {
     "data": {
      "text/plain": [
       "669171001"
      ]
     },
     "execution_count": 52,
     "metadata": {},
     "output_type": "execute_result"
    }
   ],
   "source": [
    "sum_of_diagonal_nums(1001)"
   ]
  },
  {
   "cell_type": "code",
   "execution_count": null,
   "id": "8c0a2f99-a9e4-48fa-982f-8b980c384215",
   "metadata": {},
   "outputs": [],
   "source": []
  }
 ],
 "metadata": {
  "kernelspec": {
   "display_name": "Python 3 (ipykernel)",
   "language": "python",
   "name": "python3"
  },
  "language_info": {
   "codemirror_mode": {
    "name": "ipython",
    "version": 3
   },
   "file_extension": ".py",
   "mimetype": "text/x-python",
   "name": "python",
   "nbconvert_exporter": "python",
   "pygments_lexer": "ipython3",
   "version": "3.12.7"
  }
 },
 "nbformat": 4,
 "nbformat_minor": 5
}

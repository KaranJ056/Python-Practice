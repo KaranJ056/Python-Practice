{
 "cells": [
  {
   "cell_type": "markdown",
   "id": "f2ab40e3-28bc-499d-9dd9-b412eb2235b7",
   "metadata": {},
   "source": [
    "### File Handling in Python"
   ]
  },
  {
   "cell_type": "markdown",
   "id": "06ea961c-e33c-4cc2-bd83-892a993c61b4",
   "metadata": {},
   "source": [
    "### File I/O\n",
    "##### https://www.w3resource.com/python-exercises/file/index.php"
   ]
  },
  {
   "cell_type": "markdown",
   "id": "3294d90d-de42-48a9-9b2f-c85a24086d07",
   "metadata": {},
   "source": [
    "1. Write a Python program to generate 26 text files named A.txt, B.txt, and so on up to Z.txt."
   ]
  },
  {
   "cell_type": "code",
   "execution_count": 16,
   "id": "3cb71c3a-6901-43d7-a0a6-d46badc0f3ee",
   "metadata": {},
   "outputs": [],
   "source": [
    "import string\n",
    "\n",
    "def create_a2z_txt_files(folder_name):\n",
    "    a2z_chars_list = list(string.ascii_lowercase)\n",
    "    for letter in a2z_chars_list:\n",
    "        with open(folder_name+f\"\\\\{letter.upper()}.txt\", \"w\") as file:\n",
    "            file.write(f\"This file {f\"{letter.upper()}.txt\"} is created using Python script.\")"
   ]
  },
  {
   "cell_type": "code",
   "execution_count": 17,
   "id": "f0d89b7c-bb5d-45c9-a169-668ad05ced77",
   "metadata": {},
   "outputs": [],
   "source": [
    "create_a2z_txt_files(\"7_Text_Files\")"
   ]
  },
  {
   "cell_type": "code",
   "execution_count": null,
   "id": "63390f8c-8e56-4afd-86f6-b3cc04c46a3c",
   "metadata": {},
   "outputs": [],
   "source": []
  },
  {
   "cell_type": "raw",
   "id": "e479226a-f9b6-4cf8-b9ec-cd2021cfad50",
   "metadata": {},
   "source": [
    "2. Remove the new line chars \"\\n\" from the file lines"
   ]
  },
  {
   "cell_type": "code",
   "execution_count": 24,
   "id": "67733dd1-4934-415d-a809-58bfd97d0eee",
   "metadata": {},
   "outputs": [],
   "source": [
    "def remove_new_line_chars(file_path):\n",
    "    with open(file_path, \"r\") as f:\n",
    "        lines_lst = f.readlines()\n",
    "        return [line.rstrip(\"\\n\") for line in lines_lst]"
   ]
  },
  {
   "cell_type": "code",
   "execution_count": 25,
   "id": "cafdf20c-8706-4ec0-a911-d41fe4ef9e70",
   "metadata": {},
   "outputs": [
    {
     "data": {
      "text/plain": [
       "['Python â€“ Ways to initialize list with alphabets',\n",
       " 'Last Updated : 17 Dec, 2024',\n",
       " 'While working with Python lists, sometimes we wish to initialize the list with the English alphabet a-z or A-Z. ',\n",
       " 'This article discusses various methods to achieve this using Python.',\n",
       " '',\n",
       " 'Using list() and string module',\n",
       " 'One of the simplest and most efficient methods to initialize a list with alphabets is by using the string module which contains constants like ascii_lowercase and ascii_uppercase.']"
      ]
     },
     "execution_count": 25,
     "metadata": {},
     "output_type": "execute_result"
    }
   ],
   "source": [
    "remove_new_line_chars(\"8_text.txt\")"
   ]
  },
  {
   "cell_type": "code",
   "execution_count": null,
   "id": "99163210-a45f-4fac-9e5e-399222ade14d",
   "metadata": {},
   "outputs": [],
   "source": []
  },
  {
   "cell_type": "markdown",
   "id": "e3325374-e0d4-4631-acad-8ad5d3733096",
   "metadata": {},
   "source": [
    "### CSV Files reading and writing\n",
    "##### https://www.w3resource.com/python-exercises/csv/index.php"
   ]
  },
  {
   "cell_type": "markdown",
   "id": "d78fcc4d-cdab-4bde-ba6f-956939ca4ff4",
   "metadata": {},
   "source": [
    "1. Write a Python program to write a Python list of lists to a csv file. After writing the CSV file read the CSV file and display the content. "
   ]
  },
  {
   "cell_type": "code",
   "execution_count": 33,
   "id": "f57cdd8b-aa3f-4d40-8d27-8a1620361429",
   "metadata": {},
   "outputs": [],
   "source": [
    "import csv\n",
    "\n",
    "def write_and_read_list_into_csv(lst, csv_file_path):\n",
    "    file_to_write = open(csv_file_path, mode=\"w\", encoding=\"utf-8\")\n",
    "    csv_writer = csv.writer(file_to_write, delimiter=\",\")\n",
    "    csv_writer.writerows(lst)\n",
    "    file_to_write.close()\n",
    "    print(f\"Writing to csv completed\")\n",
    "    \n",
    "    data = open(csv_file_path, encoding=\"utf-8\")\n",
    "    csv_data = csv.reader(data)\n",
    "    print(f\"Reading form csv completed\")\n",
    "    data_lines = list(csv_data)\n",
    "    for line in data_lines:\n",
    "        print(\" \".join(line))"
   ]
  },
  {
   "cell_type": "code",
   "execution_count": 34,
   "id": "f39aac0e-e509-47c7-a4f8-f2621b822984",
   "metadata": {},
   "outputs": [
    {
     "name": "stdout",
     "output_type": "stream",
     "text": [
      "Writing to csv completed\n",
      "Reading form csv completed\n",
      "10 a1 1\n",
      "\n",
      "12 a2 3\n",
      "\n",
      "14 a3 5\n",
      "\n",
      "16 a4 7\n",
      "\n",
      "18 a5 9\n",
      "\n"
     ]
    }
   ],
   "source": [
    "lst = [[10,'a1', 1], [12,'a2', 3], [14, 'a3', 5], [16, 'a4', 7], [18, 'a5', 9]]\n",
    "file_path = \"8_test.csv\"\n",
    "\n",
    "write_and_read_list_into_csv(lst, file_path)"
   ]
  },
  {
   "cell_type": "code",
   "execution_count": null,
   "id": "396769a4-a0f3-4b06-a2be-bfe74af0d0f5",
   "metadata": {},
   "outputs": [],
   "source": []
  }
 ],
 "metadata": {
  "kernelspec": {
   "display_name": "Python 3 (ipykernel)",
   "language": "python",
   "name": "python3"
  },
  "language_info": {
   "codemirror_mode": {
    "name": "ipython",
    "version": 3
   },
   "file_extension": ".py",
   "mimetype": "text/x-python",
   "name": "python",
   "nbconvert_exporter": "python",
   "pygments_lexer": "ipython3",
   "version": "3.12.7"
  }
 },
 "nbformat": 4,
 "nbformat_minor": 5
}

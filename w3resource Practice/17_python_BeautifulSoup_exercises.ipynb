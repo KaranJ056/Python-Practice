{
 "cells": [
  {
   "cell_type": "markdown",
   "id": "82329d9a-f48d-4682-b9d5-27e53fbf2318",
   "metadata": {},
   "source": [
    "### Python BeautifulSoup Exercises\n",
    "##### https://www.w3resource.com/python-exercises/BeautifulSoup/index.php"
   ]
  },
  {
   "cell_type": "markdown",
   "id": "a4e9296b-fe9b-4fc7-9e37-8ae2a5eab35b",
   "metadata": {},
   "source": [
    "#1. Write a Python program to find the first tag with a given attribute value in an html document."
   ]
  },
  {
   "cell_type": "code",
   "execution_count": 1,
   "id": "d5c4897d-8201-4865-84e1-1d35d13a691b",
   "metadata": {},
   "outputs": [],
   "source": [
    "from bs4 import BeautifulSoup\n",
    "import requests"
   ]
  },
  {
   "cell_type": "code",
   "execution_count": 42,
   "id": "b7d8a7c3-8448-4b51-b8ad-d79782fe28be",
   "metadata": {},
   "outputs": [
    {
     "name": "stdout",
     "output_type": "stream",
     "text": [
      "link\n"
     ]
    }
   ],
   "source": [
    "url = \"https://toscrape.com\"\n",
    "\n",
    "res = requests.get(url)\n",
    "\n",
    "soup = BeautifulSoup(res.text, \"html.parser\")\n",
    "print(soup.select('[href]')[0].name)"
   ]
  },
  {
   "cell_type": "code",
   "execution_count": null,
   "id": "7a788cd4-12a3-48ee-924b-a48ba7f0ea06",
   "metadata": {},
   "outputs": [],
   "source": []
  },
  {
   "cell_type": "markdown",
   "id": "a6ba378f-8a8b-49ca-b4c3-90d664c348d9",
   "metadata": {},
   "source": [
    "#2. Write a Python program to replace a given tag with whatever's inside a given tag."
   ]
  },
  {
   "cell_type": "code",
   "execution_count": 43,
   "id": "1e0688c2-ff3b-4937-aeb4-f652c45ec7c3",
   "metadata": {},
   "outputs": [
    {
     "name": "stdout",
     "output_type": "stream",
     "text": [
      "Before unwrapping: OG html: \n",
      "<div class=\"col-md-10 well\">\n",
      "<img class=\"logo\" src=\"img/zyte.png\" width=\"200px\"/>\n",
      "<h1 class=\"text-right\">Web Scraping Sandbox</h1>\n",
      "</div>\n",
      "\n",
      "After unwraping: OG html: \n",
      "<div class=\"col-md-10 well\">\n",
      "<img class=\"logo\" src=\"img/zyte.png\" width=\"200px\"/>\n",
      "Web Scraping Sandbox\n",
      "</div>\n"
     ]
    }
   ],
   "source": [
    "html = \"\"\"\n",
    "<div class=\"row\">\n",
    "    <div class=\"col-md-1\"></div>\n",
    "    <div class=\"col-md-10 well\">\n",
    "        <img class=\"logo\" src=\"img/zyte.png\" width=\"200px\">\n",
    "        <h1 class=\"text-right\">Web Scraping Sandbox</h1>\n",
    "    </div>\n",
    "</div>\n",
    "\"\"\"\n",
    "\n",
    "soup = BeautifulSoup(html, \"html.parser\")\n",
    "og = soup.find_all(\"div\")[2]\n",
    "og_h1 = og.h1\n",
    "print(\"Before unwrapping: OG html: \")\n",
    "print(og)\n",
    "\n",
    "og.h1.unwrap()\n",
    "print(\"\\nAfter unwraping: OG html: \")\n",
    "print(og)"
   ]
  },
  {
   "cell_type": "code",
   "execution_count": null,
   "id": "d97d078c-aef2-40b1-ba03-0e2af5c063bf",
   "metadata": {},
   "outputs": [],
   "source": []
  }
 ],
 "metadata": {
  "kernelspec": {
   "display_name": "Python 3 (ipykernel)",
   "language": "python",
   "name": "python3"
  },
  "language_info": {
   "codemirror_mode": {
    "name": "ipython",
    "version": 3
   },
   "file_extension": ".py",
   "mimetype": "text/x-python",
   "name": "python",
   "nbconvert_exporter": "python",
   "pygments_lexer": "ipython3",
   "version": "3.12.7"
  }
 },
 "nbformat": 4,
 "nbformat_minor": 5
}

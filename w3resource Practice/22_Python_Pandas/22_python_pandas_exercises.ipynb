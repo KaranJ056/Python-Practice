{
 "cells": [
  {
   "cell_type": "markdown",
   "id": "1b9ef8ee-cb2f-4b7c-9ef1-f9718ff1e00a",
   "metadata": {},
   "source": [
    "### Pandas Study and Exercises"
   ]
  },
  {
   "cell_type": "markdown",
   "id": "5252b0f8-c48e-4017-8cec-a1129ef8d38f",
   "metadata": {},
   "source": [
    "### Pandas Learning"
   ]
  },
  {
   "cell_type": "code",
   "execution_count": 2,
   "id": "7835d246-b78f-4010-b8a7-160de9a51628",
   "metadata": {},
   "outputs": [
    {
     "name": "stdout",
     "output_type": "stream",
     "text": [
      "Requirement already satisfied: pandas in c:\\users\\karanjjoshi\\anaconda3\\lib\\site-packages (2.2.2)\n",
      "Requirement already satisfied: numpy>=1.26.0 in c:\\users\\karanjjoshi\\anaconda3\\lib\\site-packages (from pandas) (1.26.4)\n",
      "Requirement already satisfied: python-dateutil>=2.8.2 in c:\\users\\karanjjoshi\\anaconda3\\lib\\site-packages (from pandas) (2.9.0.post0)\n",
      "Requirement already satisfied: pytz>=2020.1 in c:\\users\\karanjjoshi\\anaconda3\\lib\\site-packages (from pandas) (2024.1)\n",
      "Requirement already satisfied: tzdata>=2022.7 in c:\\users\\karanjjoshi\\anaconda3\\lib\\site-packages (from pandas) (2023.3)\n",
      "Requirement already satisfied: six>=1.5 in c:\\users\\karanjjoshi\\anaconda3\\lib\\site-packages (from python-dateutil>=2.8.2->pandas) (1.16.0)\n"
     ]
    }
   ],
   "source": [
    "!pip install pandas"
   ]
  },
  {
   "cell_type": "code",
   "execution_count": 1,
   "id": "d45e5a3d-149b-41af-858f-5df98fca4b97",
   "metadata": {},
   "outputs": [],
   "source": [
    "import pandas as pd\n",
    "import numpy as np"
   ]
  },
  {
   "cell_type": "markdown",
   "id": "dac6ed33-41a2-475e-b9ac-0b7820146ab4",
   "metadata": {},
   "source": [
    "#### Basics"
   ]
  },
  {
   "cell_type": "markdown",
   "id": "62c1fb4c-ff5d-4ddf-9e35-b0b3a7755b69",
   "metadata": {},
   "source": [
    "<code>\n",
    "Data Storage :\n",
    "    Data Frame => 2d labeled data like in SQL Table\n",
    "    Series => 1D labeled array \n",
    "</code>"
   ]
  },
  {
   "cell_type": "code",
   "execution_count": 6,
   "id": "b87e943d-b554-4be2-9ab6-ca9d8a4552bb",
   "metadata": {},
   "outputs": [
    {
     "name": "stdout",
     "output_type": "stream",
     "text": [
      "0    10\n",
      "1    20\n",
      "2    30\n",
      "3    40\n",
      "dtype: int64\n"
     ]
    }
   ],
   "source": [
    "data = [10, 20, 30, 40]\n",
    "data_series = pd.Series(data)\n",
    "print(data_series)"
   ]
  },
  {
   "cell_type": "code",
   "execution_count": 7,
   "id": "2dbf3b0a-80fd-49ee-a13a-043a723fd1ca",
   "metadata": {},
   "outputs": [
    {
     "name": "stdout",
     "output_type": "stream",
     "text": [
      "a    10\n",
      "b    20\n",
      "c    30\n",
      "d    40\n",
      "dtype: int64\n"
     ]
    }
   ],
   "source": [
    "# custom index\n",
    "data_series = pd.Series(data, index=[\"a\",\"b\",\"c\",\"d\"])\n",
    "print(data_series)"
   ]
  },
  {
   "cell_type": "code",
   "execution_count": null,
   "id": "7aff7f0a-152f-4f98-8982-34812b4d0f6f",
   "metadata": {},
   "outputs": [],
   "source": []
  },
  {
   "cell_type": "code",
   "execution_count": 8,
   "id": "b4493dae-51d4-4e12-8943-4e6e473879b6",
   "metadata": {},
   "outputs": [
    {
     "name": "stdout",
     "output_type": "stream",
     "text": [
      "      Name  Age  Salary\n",
      "0    Alice   25   50000\n",
      "1      Bob   30   60000\n",
      "2  Charlie   35   70000\n"
     ]
    }
   ],
   "source": [
    "data = {\n",
    "    'Name': ['Alice', 'Bob', 'Charlie'],\n",
    "    'Age': [25, 30, 35],\n",
    "    'Salary': [50000, 60000, 70000]\n",
    "}\n",
    "\n",
    "df = pd.DataFrame(data)\n",
    "print(df)"
   ]
  },
  {
   "cell_type": "code",
   "execution_count": 76,
   "id": "eb60e78d-8339-4db7-a2df-779b223f0b4e",
   "metadata": {},
   "outputs": [
    {
     "name": "stdout",
     "output_type": "stream",
     "text": [
      "      Name  Age  Salary\n",
      "0    Alice   25   50000\n",
      "1      Bob   30   60000\n",
      "2  Charlie   35   70000\n"
     ]
    }
   ],
   "source": [
    "data = [['Alice', 25, 50000], ['Bob', 30, 60000], ['Charlie', 35, 70000]]\n",
    "df = pd.DataFrame(data, columns=['Name', 'Age', 'Salary'])\n",
    "print(df)"
   ]
  },
  {
   "cell_type": "code",
   "execution_count": 11,
   "id": "736f4246-cd27-403a-bbdf-ced8384474af",
   "metadata": {},
   "outputs": [
    {
     "data": {
      "text/html": [
       "<div>\n",
       "<style scoped>\n",
       "    .dataframe tbody tr th:only-of-type {\n",
       "        vertical-align: middle;\n",
       "    }\n",
       "\n",
       "    .dataframe tbody tr th {\n",
       "        vertical-align: top;\n",
       "    }\n",
       "\n",
       "    .dataframe thead th {\n",
       "        text-align: right;\n",
       "    }\n",
       "</style>\n",
       "<table border=\"1\" class=\"dataframe\">\n",
       "  <thead>\n",
       "    <tr style=\"text-align: right;\">\n",
       "      <th></th>\n",
       "      <th>Name</th>\n",
       "      <th>Age</th>\n",
       "      <th>Salary</th>\n",
       "    </tr>\n",
       "  </thead>\n",
       "  <tbody>\n",
       "    <tr>\n",
       "      <th>0</th>\n",
       "      <td>Alice</td>\n",
       "      <td>25</td>\n",
       "      <td>50000</td>\n",
       "    </tr>\n",
       "    <tr>\n",
       "      <th>1</th>\n",
       "      <td>Bob</td>\n",
       "      <td>30</td>\n",
       "      <td>60000</td>\n",
       "    </tr>\n",
       "    <tr>\n",
       "      <th>2</th>\n",
       "      <td>Charlie</td>\n",
       "      <td>35</td>\n",
       "      <td>70000</td>\n",
       "    </tr>\n",
       "  </tbody>\n",
       "</table>\n",
       "</div>"
      ],
      "text/plain": [
       "      Name  Age  Salary\n",
       "0    Alice   25   50000\n",
       "1      Bob   30   60000\n",
       "2  Charlie   35   70000"
      ]
     },
     "execution_count": 11,
     "metadata": {},
     "output_type": "execute_result"
    }
   ],
   "source": [
    "df.head()"
   ]
  },
  {
   "cell_type": "code",
   "execution_count": 12,
   "id": "eb7782df-5a2e-4449-ae53-81f5d06f0fd5",
   "metadata": {},
   "outputs": [
    {
     "data": {
      "text/html": [
       "<div>\n",
       "<style scoped>\n",
       "    .dataframe tbody tr th:only-of-type {\n",
       "        vertical-align: middle;\n",
       "    }\n",
       "\n",
       "    .dataframe tbody tr th {\n",
       "        vertical-align: top;\n",
       "    }\n",
       "\n",
       "    .dataframe thead th {\n",
       "        text-align: right;\n",
       "    }\n",
       "</style>\n",
       "<table border=\"1\" class=\"dataframe\">\n",
       "  <thead>\n",
       "    <tr style=\"text-align: right;\">\n",
       "      <th></th>\n",
       "      <th>Name</th>\n",
       "      <th>Age</th>\n",
       "      <th>Salary</th>\n",
       "    </tr>\n",
       "  </thead>\n",
       "  <tbody>\n",
       "    <tr>\n",
       "      <th>0</th>\n",
       "      <td>Alice</td>\n",
       "      <td>25</td>\n",
       "      <td>50000</td>\n",
       "    </tr>\n",
       "    <tr>\n",
       "      <th>1</th>\n",
       "      <td>Bob</td>\n",
       "      <td>30</td>\n",
       "      <td>60000</td>\n",
       "    </tr>\n",
       "  </tbody>\n",
       "</table>\n",
       "</div>"
      ],
      "text/plain": [
       "    Name  Age  Salary\n",
       "0  Alice   25   50000\n",
       "1    Bob   30   60000"
      ]
     },
     "execution_count": 12,
     "metadata": {},
     "output_type": "execute_result"
    }
   ],
   "source": [
    "df.head(2)"
   ]
  },
  {
   "cell_type": "code",
   "execution_count": 13,
   "id": "26cc4348-a263-40a5-9ea9-81037419f46d",
   "metadata": {},
   "outputs": [
    {
     "data": {
      "text/plain": [
       "0      Alice\n",
       "1        Bob\n",
       "2    Charlie\n",
       "Name: Name, dtype: object"
      ]
     },
     "execution_count": 13,
     "metadata": {},
     "output_type": "execute_result"
    }
   ],
   "source": [
    "df[\"Name\"]"
   ]
  },
  {
   "cell_type": "code",
   "execution_count": 14,
   "id": "9c33b9db-a878-4bc0-88cb-5698014d6a51",
   "metadata": {},
   "outputs": [
    {
     "data": {
      "text/html": [
       "<div>\n",
       "<style scoped>\n",
       "    .dataframe tbody tr th:only-of-type {\n",
       "        vertical-align: middle;\n",
       "    }\n",
       "\n",
       "    .dataframe tbody tr th {\n",
       "        vertical-align: top;\n",
       "    }\n",
       "\n",
       "    .dataframe thead th {\n",
       "        text-align: right;\n",
       "    }\n",
       "</style>\n",
       "<table border=\"1\" class=\"dataframe\">\n",
       "  <thead>\n",
       "    <tr style=\"text-align: right;\">\n",
       "      <th></th>\n",
       "      <th>Name</th>\n",
       "      <th>Age</th>\n",
       "    </tr>\n",
       "  </thead>\n",
       "  <tbody>\n",
       "    <tr>\n",
       "      <th>0</th>\n",
       "      <td>Alice</td>\n",
       "      <td>25</td>\n",
       "    </tr>\n",
       "    <tr>\n",
       "      <th>1</th>\n",
       "      <td>Bob</td>\n",
       "      <td>30</td>\n",
       "    </tr>\n",
       "    <tr>\n",
       "      <th>2</th>\n",
       "      <td>Charlie</td>\n",
       "      <td>35</td>\n",
       "    </tr>\n",
       "  </tbody>\n",
       "</table>\n",
       "</div>"
      ],
      "text/plain": [
       "      Name  Age\n",
       "0    Alice   25\n",
       "1      Bob   30\n",
       "2  Charlie   35"
      ]
     },
     "execution_count": 14,
     "metadata": {},
     "output_type": "execute_result"
    }
   ],
   "source": [
    "df[[\"Name\", \"Age\"]]"
   ]
  },
  {
   "cell_type": "code",
   "execution_count": 15,
   "id": "a6ccbca3-96a3-4b6e-b4fb-80e5452a56c6",
   "metadata": {},
   "outputs": [
    {
     "data": {
      "text/plain": [
       "Name      Alice\n",
       "Age          25\n",
       "Salary    50000\n",
       "Name: 0, dtype: object"
      ]
     },
     "execution_count": 15,
     "metadata": {},
     "output_type": "execute_result"
    }
   ],
   "source": [
    "df.loc[0]"
   ]
  },
  {
   "cell_type": "code",
   "execution_count": 16,
   "id": "062c1640-5229-492a-b62b-2378750c81e1",
   "metadata": {},
   "outputs": [
    {
     "data": {
      "text/plain": [
       "Name        Bob\n",
       "Age          30\n",
       "Salary    60000\n",
       "Name: 1, dtype: object"
      ]
     },
     "execution_count": 16,
     "metadata": {},
     "output_type": "execute_result"
    }
   ],
   "source": [
    "df.iloc[1]"
   ]
  },
  {
   "cell_type": "code",
   "execution_count": 17,
   "id": "186491d0-2227-45f9-83ee-d2878013c3fd",
   "metadata": {},
   "outputs": [
    {
     "data": {
      "text/html": [
       "<div>\n",
       "<style scoped>\n",
       "    .dataframe tbody tr th:only-of-type {\n",
       "        vertical-align: middle;\n",
       "    }\n",
       "\n",
       "    .dataframe tbody tr th {\n",
       "        vertical-align: top;\n",
       "    }\n",
       "\n",
       "    .dataframe thead th {\n",
       "        text-align: right;\n",
       "    }\n",
       "</style>\n",
       "<table border=\"1\" class=\"dataframe\">\n",
       "  <thead>\n",
       "    <tr style=\"text-align: right;\">\n",
       "      <th></th>\n",
       "      <th>Name</th>\n",
       "      <th>Age</th>\n",
       "      <th>Salary</th>\n",
       "    </tr>\n",
       "  </thead>\n",
       "  <tbody>\n",
       "    <tr>\n",
       "      <th>1</th>\n",
       "      <td>Bob</td>\n",
       "      <td>30</td>\n",
       "      <td>60000</td>\n",
       "    </tr>\n",
       "    <tr>\n",
       "      <th>2</th>\n",
       "      <td>Charlie</td>\n",
       "      <td>35</td>\n",
       "      <td>70000</td>\n",
       "    </tr>\n",
       "  </tbody>\n",
       "</table>\n",
       "</div>"
      ],
      "text/plain": [
       "      Name  Age  Salary\n",
       "1      Bob   30   60000\n",
       "2  Charlie   35   70000"
      ]
     },
     "execution_count": 17,
     "metadata": {},
     "output_type": "execute_result"
    }
   ],
   "source": [
    "df[df[\"Age\"] > 28]"
   ]
  },
  {
   "cell_type": "code",
   "execution_count": 18,
   "id": "11e5b5f0-00e4-41bb-9afa-30fdbb5ade56",
   "metadata": {},
   "outputs": [
    {
     "data": {
      "text/html": [
       "<div>\n",
       "<style scoped>\n",
       "    .dataframe tbody tr th:only-of-type {\n",
       "        vertical-align: middle;\n",
       "    }\n",
       "\n",
       "    .dataframe tbody tr th {\n",
       "        vertical-align: top;\n",
       "    }\n",
       "\n",
       "    .dataframe thead th {\n",
       "        text-align: right;\n",
       "    }\n",
       "</style>\n",
       "<table border=\"1\" class=\"dataframe\">\n",
       "  <thead>\n",
       "    <tr style=\"text-align: right;\">\n",
       "      <th></th>\n",
       "      <th>Name</th>\n",
       "      <th>Age</th>\n",
       "      <th>Salary</th>\n",
       "      <th>Bonus</th>\n",
       "    </tr>\n",
       "  </thead>\n",
       "  <tbody>\n",
       "    <tr>\n",
       "      <th>0</th>\n",
       "      <td>Alice</td>\n",
       "      <td>25</td>\n",
       "      <td>50000</td>\n",
       "      <td>45000.0</td>\n",
       "    </tr>\n",
       "    <tr>\n",
       "      <th>1</th>\n",
       "      <td>Bob</td>\n",
       "      <td>30</td>\n",
       "      <td>60000</td>\n",
       "      <td>54000.0</td>\n",
       "    </tr>\n",
       "    <tr>\n",
       "      <th>2</th>\n",
       "      <td>Charlie</td>\n",
       "      <td>35</td>\n",
       "      <td>70000</td>\n",
       "      <td>63000.0</td>\n",
       "    </tr>\n",
       "  </tbody>\n",
       "</table>\n",
       "</div>"
      ],
      "text/plain": [
       "      Name  Age  Salary    Bonus\n",
       "0    Alice   25   50000  45000.0\n",
       "1      Bob   30   60000  54000.0\n",
       "2  Charlie   35   70000  63000.0"
      ]
     },
     "execution_count": 18,
     "metadata": {},
     "output_type": "execute_result"
    }
   ],
   "source": [
    "df[\"Bonus\"] = df[\"Salary\"] * 0.9\n",
    "df"
   ]
  },
  {
   "cell_type": "code",
   "execution_count": 19,
   "id": "b2f538c1-1567-4136-be4b-984425344d33",
   "metadata": {},
   "outputs": [],
   "source": [
    "df.drop(columns=[\"Bonus\"], inplace=True)"
   ]
  },
  {
   "cell_type": "code",
   "execution_count": 20,
   "id": "01b75a14-bcaf-4a5c-a398-e2fe9610309e",
   "metadata": {},
   "outputs": [
    {
     "data": {
      "text/html": [
       "<div>\n",
       "<style scoped>\n",
       "    .dataframe tbody tr th:only-of-type {\n",
       "        vertical-align: middle;\n",
       "    }\n",
       "\n",
       "    .dataframe tbody tr th {\n",
       "        vertical-align: top;\n",
       "    }\n",
       "\n",
       "    .dataframe thead th {\n",
       "        text-align: right;\n",
       "    }\n",
       "</style>\n",
       "<table border=\"1\" class=\"dataframe\">\n",
       "  <thead>\n",
       "    <tr style=\"text-align: right;\">\n",
       "      <th></th>\n",
       "      <th>Name</th>\n",
       "      <th>Age</th>\n",
       "      <th>Salary</th>\n",
       "    </tr>\n",
       "  </thead>\n",
       "  <tbody>\n",
       "    <tr>\n",
       "      <th>0</th>\n",
       "      <td>Alice</td>\n",
       "      <td>25</td>\n",
       "      <td>50000</td>\n",
       "    </tr>\n",
       "    <tr>\n",
       "      <th>1</th>\n",
       "      <td>Bob</td>\n",
       "      <td>30</td>\n",
       "      <td>60000</td>\n",
       "    </tr>\n",
       "    <tr>\n",
       "      <th>2</th>\n",
       "      <td>Charlie</td>\n",
       "      <td>35</td>\n",
       "      <td>70000</td>\n",
       "    </tr>\n",
       "  </tbody>\n",
       "</table>\n",
       "</div>"
      ],
      "text/plain": [
       "      Name  Age  Salary\n",
       "0    Alice   25   50000\n",
       "1      Bob   30   60000\n",
       "2  Charlie   35   70000"
      ]
     },
     "execution_count": 20,
     "metadata": {},
     "output_type": "execute_result"
    }
   ],
   "source": [
    "df"
   ]
  },
  {
   "cell_type": "code",
   "execution_count": 22,
   "id": "f8ed5d79-3caa-428d-841b-95a6f68b33cf",
   "metadata": {},
   "outputs": [
    {
     "data": {
      "text/html": [
       "<div>\n",
       "<style scoped>\n",
       "    .dataframe tbody tr th:only-of-type {\n",
       "        vertical-align: middle;\n",
       "    }\n",
       "\n",
       "    .dataframe tbody tr th {\n",
       "        vertical-align: top;\n",
       "    }\n",
       "\n",
       "    .dataframe thead th {\n",
       "        text-align: right;\n",
       "    }\n",
       "</style>\n",
       "<table border=\"1\" class=\"dataframe\">\n",
       "  <thead>\n",
       "    <tr style=\"text-align: right;\">\n",
       "      <th></th>\n",
       "      <th>Age</th>\n",
       "      <th>Salary</th>\n",
       "    </tr>\n",
       "  </thead>\n",
       "  <tbody>\n",
       "    <tr>\n",
       "      <th>count</th>\n",
       "      <td>3.0</td>\n",
       "      <td>3.0</td>\n",
       "    </tr>\n",
       "    <tr>\n",
       "      <th>mean</th>\n",
       "      <td>30.0</td>\n",
       "      <td>60000.0</td>\n",
       "    </tr>\n",
       "    <tr>\n",
       "      <th>std</th>\n",
       "      <td>5.0</td>\n",
       "      <td>10000.0</td>\n",
       "    </tr>\n",
       "    <tr>\n",
       "      <th>min</th>\n",
       "      <td>25.0</td>\n",
       "      <td>50000.0</td>\n",
       "    </tr>\n",
       "    <tr>\n",
       "      <th>25%</th>\n",
       "      <td>27.5</td>\n",
       "      <td>55000.0</td>\n",
       "    </tr>\n",
       "    <tr>\n",
       "      <th>50%</th>\n",
       "      <td>30.0</td>\n",
       "      <td>60000.0</td>\n",
       "    </tr>\n",
       "    <tr>\n",
       "      <th>75%</th>\n",
       "      <td>32.5</td>\n",
       "      <td>65000.0</td>\n",
       "    </tr>\n",
       "    <tr>\n",
       "      <th>max</th>\n",
       "      <td>35.0</td>\n",
       "      <td>70000.0</td>\n",
       "    </tr>\n",
       "  </tbody>\n",
       "</table>\n",
       "</div>"
      ],
      "text/plain": [
       "        Age   Salary\n",
       "count   3.0      3.0\n",
       "mean   30.0  60000.0\n",
       "std     5.0  10000.0\n",
       "min    25.0  50000.0\n",
       "25%    27.5  55000.0\n",
       "50%    30.0  60000.0\n",
       "75%    32.5  65000.0\n",
       "max    35.0  70000.0"
      ]
     },
     "execution_count": 22,
     "metadata": {},
     "output_type": "execute_result"
    }
   ],
   "source": [
    "df.describe() # returns simple statistics data frame"
   ]
  },
  {
   "cell_type": "code",
   "execution_count": 23,
   "id": "902f61ff-a763-40d6-af59-0fbf86a89b6b",
   "metadata": {},
   "outputs": [
    {
     "name": "stdout",
     "output_type": "stream",
     "text": [
      "<class 'pandas.core.frame.DataFrame'>\n",
      "RangeIndex: 3 entries, 0 to 2\n",
      "Data columns (total 3 columns):\n",
      " #   Column  Non-Null Count  Dtype \n",
      "---  ------  --------------  ----- \n",
      " 0   Name    3 non-null      object\n",
      " 1   Age     3 non-null      int64 \n",
      " 2   Salary  3 non-null      int64 \n",
      "dtypes: int64(2), object(1)\n",
      "memory usage: 204.0+ bytes\n"
     ]
    }
   ],
   "source": [
    "df.info()"
   ]
  },
  {
   "cell_type": "code",
   "execution_count": 77,
   "id": "ae6eaf7f-8e42-4d5d-bf6e-67dc34fd4404",
   "metadata": {},
   "outputs": [
    {
     "data": {
      "text/plain": [
       "(3, 3)"
      ]
     },
     "execution_count": 77,
     "metadata": {},
     "output_type": "execute_result"
    }
   ],
   "source": [
    "df.shape"
   ]
  },
  {
   "cell_type": "code",
   "execution_count": 79,
   "id": "bbe9c40e-7662-444e-927c-96a861beb187",
   "metadata": {},
   "outputs": [
    {
     "data": {
      "text/plain": [
       "Name      object\n",
       "Age        int64\n",
       "Salary     int64\n",
       "dtype: object"
      ]
     },
     "execution_count": 79,
     "metadata": {},
     "output_type": "execute_result"
    }
   ],
   "source": [
    "df.dtypes"
   ]
  },
  {
   "cell_type": "code",
   "execution_count": 87,
   "id": "84a22cbb-7859-4dcb-8eae-71e9d763d7e0",
   "metadata": {},
   "outputs": [
    {
     "data": {
      "text/plain": [
       "25"
      ]
     },
     "execution_count": 87,
     "metadata": {},
     "output_type": "execute_result"
    }
   ],
   "source": [
    "df.iat[0, 1]"
   ]
  },
  {
   "cell_type": "code",
   "execution_count": null,
   "id": "d0a2d47c-6587-4a62-8f49-ebab44fca624",
   "metadata": {},
   "outputs": [],
   "source": []
  },
  {
   "cell_type": "markdown",
   "id": "e529fd0f-26f5-4d69-bd2b-e68bf6112055",
   "metadata": {},
   "source": [
    "<code>\n",
    "Practice Exercises\n",
    "    \n",
    "Create a DataFrame with columns ['Name', 'Age', 'Salary']:\n",
    "Add a new column Bonus with some values.\n",
    "Remove the Age column.\n",
    "Sort the DataFrame by Salary in descending order.\n",
    "\n",
    "Given a DataFrame with missing values:\n",
    "Fill the missing values with 0.\n",
    "Drop rows with missing values in the Salary column.\n",
    "</code>"
   ]
  },
  {
   "cell_type": "code",
   "execution_count": 90,
   "id": "452d4da0-5e8f-49b7-b223-469262a39715",
   "metadata": {},
   "outputs": [
    {
     "data": {
      "text/html": [
       "<div>\n",
       "<style scoped>\n",
       "    .dataframe tbody tr th:only-of-type {\n",
       "        vertical-align: middle;\n",
       "    }\n",
       "\n",
       "    .dataframe tbody tr th {\n",
       "        vertical-align: top;\n",
       "    }\n",
       "\n",
       "    .dataframe thead th {\n",
       "        text-align: right;\n",
       "    }\n",
       "</style>\n",
       "<table border=\"1\" class=\"dataframe\">\n",
       "  <thead>\n",
       "    <tr style=\"text-align: right;\">\n",
       "      <th></th>\n",
       "      <th>Name</th>\n",
       "      <th>Salary</th>\n",
       "      <th>Bonus</th>\n",
       "    </tr>\n",
       "  </thead>\n",
       "  <tbody>\n",
       "    <tr>\n",
       "      <th>2</th>\n",
       "      <td>Charlie</td>\n",
       "      <td>70000</td>\n",
       "      <td>49000.0</td>\n",
       "    </tr>\n",
       "    <tr>\n",
       "      <th>1</th>\n",
       "      <td>Bob</td>\n",
       "      <td>60000</td>\n",
       "      <td>42000.0</td>\n",
       "    </tr>\n",
       "    <tr>\n",
       "      <th>0</th>\n",
       "      <td>Alice</td>\n",
       "      <td>50000</td>\n",
       "      <td>35000.0</td>\n",
       "    </tr>\n",
       "  </tbody>\n",
       "</table>\n",
       "</div>"
      ],
      "text/plain": [
       "      Name  Salary    Bonus\n",
       "2  Charlie   70000  49000.0\n",
       "1      Bob   60000  42000.0\n",
       "0    Alice   50000  35000.0"
      ]
     },
     "execution_count": 90,
     "metadata": {},
     "output_type": "execute_result"
    }
   ],
   "source": [
    "data = [['Alice', 25, 50000], ['Bob', 30, 60000], ['Charlie', 35, 70000]]\n",
    "df = pd.DataFrame(data, columns=['Name', 'Age', 'Salary'])\n",
    "df[\"Bonus\"] = df[\"Salary\"] * 0.7\n",
    "df.drop(columns=[\"Age\"], inplace=True)\n",
    "df.sort_values(\"Salary\", ascending=False)"
   ]
  },
  {
   "cell_type": "code",
   "execution_count": 92,
   "id": "8acc0ccf-5c34-4fd8-af08-fa04fa320388",
   "metadata": {},
   "outputs": [
    {
     "data": {
      "text/html": [
       "<div>\n",
       "<style scoped>\n",
       "    .dataframe tbody tr th:only-of-type {\n",
       "        vertical-align: middle;\n",
       "    }\n",
       "\n",
       "    .dataframe tbody tr th {\n",
       "        vertical-align: top;\n",
       "    }\n",
       "\n",
       "    .dataframe thead th {\n",
       "        text-align: right;\n",
       "    }\n",
       "</style>\n",
       "<table border=\"1\" class=\"dataframe\">\n",
       "  <thead>\n",
       "    <tr style=\"text-align: right;\">\n",
       "      <th></th>\n",
       "      <th>Name</th>\n",
       "      <th>Salary</th>\n",
       "      <th>Bonus</th>\n",
       "    </tr>\n",
       "  </thead>\n",
       "  <tbody>\n",
       "    <tr>\n",
       "      <th>0</th>\n",
       "      <td>Alice</td>\n",
       "      <td>50000</td>\n",
       "      <td>35000.0</td>\n",
       "    </tr>\n",
       "    <tr>\n",
       "      <th>1</th>\n",
       "      <td>Bob</td>\n",
       "      <td>60000</td>\n",
       "      <td>42000.0</td>\n",
       "    </tr>\n",
       "    <tr>\n",
       "      <th>2</th>\n",
       "      <td>Charlie</td>\n",
       "      <td>70000</td>\n",
       "      <td>49000.0</td>\n",
       "    </tr>\n",
       "  </tbody>\n",
       "</table>\n",
       "</div>"
      ],
      "text/plain": [
       "      Name  Salary    Bonus\n",
       "0    Alice   50000  35000.0\n",
       "1      Bob   60000  42000.0\n",
       "2  Charlie   70000  49000.0"
      ]
     },
     "execution_count": 92,
     "metadata": {},
     "output_type": "execute_result"
    }
   ],
   "source": [
    "df.fillna(\"\")\n",
    "df.dropna(subset=[\"Salary\"])"
   ]
  },
  {
   "cell_type": "code",
   "execution_count": null,
   "id": "5d268c89-d35f-4d48-8737-fe7589d21169",
   "metadata": {},
   "outputs": [],
   "source": []
  },
  {
   "cell_type": "code",
   "execution_count": null,
   "id": "e17cc98c-9f0b-42f7-a79d-1465da12cd68",
   "metadata": {},
   "outputs": [],
   "source": []
  },
  {
   "cell_type": "code",
   "execution_count": null,
   "id": "60c4818d-271e-405c-847a-9f52a0a24d0a",
   "metadata": {},
   "outputs": [],
   "source": []
  },
  {
   "cell_type": "code",
   "execution_count": null,
   "id": "53bb8fba-3fa8-4f6e-aa5c-b4d0d232bc6a",
   "metadata": {},
   "outputs": [],
   "source": []
  },
  {
   "cell_type": "code",
   "execution_count": null,
   "id": "7c2165ee-853a-4478-97a6-39e835b39957",
   "metadata": {},
   "outputs": [],
   "source": []
  },
  {
   "cell_type": "code",
   "execution_count": null,
   "id": "5917a664-3ee6-4194-ad7b-80633de7d037",
   "metadata": {},
   "outputs": [],
   "source": []
  },
  {
   "cell_type": "code",
   "execution_count": null,
   "id": "d89f5d69-59e6-484e-91f8-8941ea060ad7",
   "metadata": {},
   "outputs": [],
   "source": []
  },
  {
   "cell_type": "code",
   "execution_count": 55,
   "id": "88cf43a0-5a36-493a-b92c-7b8944b86aff",
   "metadata": {},
   "outputs": [
    {
     "data": {
      "text/plain": [
       "0    False\n",
       "1    False\n",
       "2    False\n",
       "3     True\n",
       "4    False\n",
       "5    False\n",
       "dtype: bool"
      ]
     },
     "execution_count": 55,
     "metadata": {},
     "output_type": "execute_result"
    }
   ],
   "source": [
    "pd.Series([1,2,3,None,5,6]).isna()"
   ]
  },
  {
   "cell_type": "markdown",
   "id": "f4356cc1-e1d5-4a7c-9707-513282e53356",
   "metadata": {},
   "source": [
    "<code>\n",
    "Practice Exercises\n",
    "\n",
    "Create a Pandas Series with values [12, 45, 67, 89, None, 34].\n",
    "Find the sum, mean, and standard deviation.\n",
    "Replace missing values with the mean.\n",
    "Sort values in ascending order.\n",
    "\n",
    "Create a Series of fruit names: [\"apple\", \"banana\", \"mango\", \"grape\"]\n",
    "Convert all names to uppercase.\n",
    "Count how many times the letter \"a\" appears in each name.\n",
    "Replace \"a\" with \"@\".</code>"
   ]
  },
  {
   "cell_type": "code",
   "execution_count": 56,
   "id": "c7835a04-beb7-4769-95e2-0b0c9ab69558",
   "metadata": {},
   "outputs": [
    {
     "name": "stdout",
     "output_type": "stream",
     "text": [
      "Mean : 49.4\n",
      "Sum : 247.0\n",
      "Standard Deviation : 29.72036338943385\n"
     ]
    }
   ],
   "source": [
    "ds = pd.Series([12, 45, 67, 89, None, 34])\n",
    "print(f\"Mean : {ds.mean()}\")\n",
    "print(f\"Sum : {ds.sum()}\")\n",
    "print(f\"Standard Deviation : {ds.std()}\")"
   ]
  },
  {
   "cell_type": "code",
   "execution_count": 63,
   "id": "6dc1795e-5ddc-4f84-9116-774c371d770c",
   "metadata": {},
   "outputs": [
    {
     "name": "stdout",
     "output_type": "stream",
     "text": [
      "0     APPLE\n",
      "1    BANANA\n",
      "2     MANGO\n",
      "3     GRAPE\n",
      "dtype: object\n",
      "============\n",
      "0    1\n",
      "1    3\n",
      "2    1\n",
      "3    1\n",
      "dtype: int64\n",
      "============\n",
      "0     @pple\n",
      "1    b@n@n@\n",
      "2     m@ngo\n",
      "3     gr@pe\n",
      "dtype: object\n"
     ]
    }
   ],
   "source": [
    "ds = pd.Series([\"apple\", \"banana\", \"mango\", \"grape\"])\n",
    "print(ds.str.upper())\n",
    "print(\"============\")\n",
    "print(ds.str.count(\"a\"))\n",
    "print(\"============\")\n",
    "print(ds.str.replace(\"a\",\"@\"))"
   ]
  },
  {
   "cell_type": "code",
   "execution_count": null,
   "id": "14e630c5-86b1-4efd-a5a8-0a178372b09f",
   "metadata": {},
   "outputs": [],
   "source": []
  },
  {
   "cell_type": "markdown",
   "id": "2e2f13ad-54aa-4911-8351-e7e963880e51",
   "metadata": {},
   "source": [
    "##### DataFrame Styling"
   ]
  },
  {
   "cell_type": "code",
   "execution_count": 15,
   "id": "3878c254-11a1-46db-b6e6-859406920bff",
   "metadata": {},
   "outputs": [
    {
     "data": {
      "text/html": [
       "<div>\n",
       "<style scoped>\n",
       "    .dataframe tbody tr th:only-of-type {\n",
       "        vertical-align: middle;\n",
       "    }\n",
       "\n",
       "    .dataframe tbody tr th {\n",
       "        vertical-align: top;\n",
       "    }\n",
       "\n",
       "    .dataframe thead th {\n",
       "        text-align: right;\n",
       "    }\n",
       "</style>\n",
       "<table border=\"1\" class=\"dataframe\">\n",
       "  <thead>\n",
       "    <tr style=\"text-align: right;\">\n",
       "      <th></th>\n",
       "      <th>A</th>\n",
       "      <th>B</th>\n",
       "      <th>C</th>\n",
       "      <th>D</th>\n",
       "      <th>E</th>\n",
       "    </tr>\n",
       "  </thead>\n",
       "  <tbody>\n",
       "    <tr>\n",
       "      <th>0</th>\n",
       "      <td>1.0</td>\n",
       "      <td>1.220</td>\n",
       "      <td>-3.047</td>\n",
       "      <td>5.780</td>\n",
       "      <td>5.753</td>\n",
       "    </tr>\n",
       "    <tr>\n",
       "      <th>1</th>\n",
       "      <td>2.0</td>\n",
       "      <td>-0.608</td>\n",
       "      <td>5.053</td>\n",
       "      <td>-5.176</td>\n",
       "      <td>6.764</td>\n",
       "    </tr>\n",
       "    <tr>\n",
       "      <th>2</th>\n",
       "      <td>3.0</td>\n",
       "      <td>-0.182</td>\n",
       "      <td>-6.496</td>\n",
       "      <td>6.306</td>\n",
       "      <td>2.251</td>\n",
       "    </tr>\n",
       "  </tbody>\n",
       "</table>\n",
       "</div>"
      ],
      "text/plain": [
       "     A      B      C      D      E\n",
       "0  1.0  1.220 -3.047  5.780  5.753\n",
       "1  2.0 -0.608  5.053 -5.176  6.764\n",
       "2  3.0 -0.182 -6.496  6.306  2.251"
      ]
     },
     "execution_count": 15,
     "metadata": {},
     "output_type": "execute_result"
    }
   ],
   "source": [
    "np.random.seed(78)\n",
    "\n",
    "df = pd.DataFrame({\"A\": np.linspace(1, 10, 10)})\n",
    "df = pd.concat([df, pd.DataFrame(np.round(np.random.randn(10, 4)*10, 3), columns=[\"B\", \"C\", \"D\", \"E\"])], axis=1)\n",
    "\n",
    "df.head(3)"
   ]
  },
  {
   "cell_type": "code",
   "execution_count": 31,
   "id": "87fcb624-f9de-409d-9f7d-9a5d8dca5d62",
   "metadata": {},
   "outputs": [
    {
     "data": {
      "text/html": [
       "<style type=\"text/css\">\n",
       "#T_39164_row3_col2 {\n",
       "  background-color: yellow;\n",
       "}\n",
       "</style>\n",
       "<table id=\"T_39164\">\n",
       "  <thead>\n",
       "    <tr>\n",
       "      <th class=\"blank level0\" >&nbsp;</th>\n",
       "      <th id=\"T_39164_level0_col0\" class=\"col_heading level0 col0\" >A</th>\n",
       "      <th id=\"T_39164_level0_col1\" class=\"col_heading level0 col1\" >B</th>\n",
       "      <th id=\"T_39164_level0_col2\" class=\"col_heading level0 col2\" >C</th>\n",
       "      <th id=\"T_39164_level0_col3\" class=\"col_heading level0 col3\" >D</th>\n",
       "      <th id=\"T_39164_level0_col4\" class=\"col_heading level0 col4\" >E</th>\n",
       "    </tr>\n",
       "  </thead>\n",
       "  <tbody>\n",
       "    <tr>\n",
       "      <th id=\"T_39164_level0_row0\" class=\"row_heading level0 row0\" >0</th>\n",
       "      <td id=\"T_39164_row0_col0\" class=\"data row0 col0\" >1.000000</td>\n",
       "      <td id=\"T_39164_row0_col1\" class=\"data row0 col1\" >1.220000</td>\n",
       "      <td id=\"T_39164_row0_col2\" class=\"data row0 col2\" >-3.047000</td>\n",
       "      <td id=\"T_39164_row0_col3\" class=\"data row0 col3\" >5.780000</td>\n",
       "      <td id=\"T_39164_row0_col4\" class=\"data row0 col4\" >5.753000</td>\n",
       "    </tr>\n",
       "    <tr>\n",
       "      <th id=\"T_39164_level0_row1\" class=\"row_heading level0 row1\" >1</th>\n",
       "      <td id=\"T_39164_row1_col0\" class=\"data row1 col0\" >2.000000</td>\n",
       "      <td id=\"T_39164_row1_col1\" class=\"data row1 col1\" >-0.608000</td>\n",
       "      <td id=\"T_39164_row1_col2\" class=\"data row1 col2\" >5.053000</td>\n",
       "      <td id=\"T_39164_row1_col3\" class=\"data row1 col3\" >-5.176000</td>\n",
       "      <td id=\"T_39164_row1_col4\" class=\"data row1 col4\" >6.764000</td>\n",
       "    </tr>\n",
       "    <tr>\n",
       "      <th id=\"T_39164_level0_row2\" class=\"row_heading level0 row2\" >2</th>\n",
       "      <td id=\"T_39164_row2_col0\" class=\"data row2 col0\" >3.000000</td>\n",
       "      <td id=\"T_39164_row2_col1\" class=\"data row2 col1\" >-0.182000</td>\n",
       "      <td id=\"T_39164_row2_col2\" class=\"data row2 col2\" >-6.496000</td>\n",
       "      <td id=\"T_39164_row2_col3\" class=\"data row2 col3\" >6.306000</td>\n",
       "      <td id=\"T_39164_row2_col4\" class=\"data row2 col4\" >2.251000</td>\n",
       "    </tr>\n",
       "    <tr>\n",
       "      <th id=\"T_39164_level0_row3\" class=\"row_heading level0 row3\" >3</th>\n",
       "      <td id=\"T_39164_row3_col0\" class=\"data row3 col0\" >4.000000</td>\n",
       "      <td id=\"T_39164_row3_col1\" class=\"data row3 col1\" >-8.766000</td>\n",
       "      <td id=\"T_39164_row3_col2\" class=\"data row3 col2\" >8.285000</td>\n",
       "      <td id=\"T_39164_row3_col3\" class=\"data row3 col3\" >20.928000</td>\n",
       "      <td id=\"T_39164_row3_col4\" class=\"data row3 col4\" >2.300000</td>\n",
       "    </tr>\n",
       "    <tr>\n",
       "      <th id=\"T_39164_level0_row4\" class=\"row_heading level0 row4\" >4</th>\n",
       "      <td id=\"T_39164_row4_col0\" class=\"data row4 col0\" >5.000000</td>\n",
       "      <td id=\"T_39164_row4_col1\" class=\"data row4 col1\" >6.941000</td>\n",
       "      <td id=\"T_39164_row4_col2\" class=\"data row4 col2\" >-3.851000</td>\n",
       "      <td id=\"T_39164_row4_col3\" class=\"data row4 col3\" >1.555000</td>\n",
       "      <td id=\"T_39164_row4_col4\" class=\"data row4 col4\" >9.966000</td>\n",
       "    </tr>\n",
       "    <tr>\n",
       "      <th id=\"T_39164_level0_row5\" class=\"row_heading level0 row5\" >5</th>\n",
       "      <td id=\"T_39164_row5_col0\" class=\"data row5 col0\" >6.000000</td>\n",
       "      <td id=\"T_39164_row5_col1\" class=\"data row5 col1\" >-10.641000</td>\n",
       "      <td id=\"T_39164_row5_col2\" class=\"data row5 col2\" >-3.356000</td>\n",
       "      <td id=\"T_39164_row5_col3\" class=\"data row5 col3\" >-11.556000</td>\n",
       "      <td id=\"T_39164_row5_col4\" class=\"data row5 col4\" >-12.443000</td>\n",
       "    </tr>\n",
       "    <tr>\n",
       "      <th id=\"T_39164_level0_row6\" class=\"row_heading level0 row6\" >6</th>\n",
       "      <td id=\"T_39164_row6_col0\" class=\"data row6 col0\" >7.000000</td>\n",
       "      <td id=\"T_39164_row6_col1\" class=\"data row6 col1\" >5.901000</td>\n",
       "      <td id=\"T_39164_row6_col2\" class=\"data row6 col2\" >-5.689000</td>\n",
       "      <td id=\"T_39164_row6_col3\" class=\"data row6 col3\" >19.504000</td>\n",
       "      <td id=\"T_39164_row6_col4\" class=\"data row6 col4\" >12.604000</td>\n",
       "    </tr>\n",
       "    <tr>\n",
       "      <th id=\"T_39164_level0_row7\" class=\"row_heading level0 row7\" >7</th>\n",
       "      <td id=\"T_39164_row7_col0\" class=\"data row7 col0\" >8.000000</td>\n",
       "      <td id=\"T_39164_row7_col1\" class=\"data row7 col1\" >-0.890000</td>\n",
       "      <td id=\"T_39164_row7_col2\" class=\"data row7 col2\" >4.663000</td>\n",
       "      <td id=\"T_39164_row7_col3\" class=\"data row7 col3\" >-5.450000</td>\n",
       "      <td id=\"T_39164_row7_col4\" class=\"data row7 col4\" >2.432000</td>\n",
       "    </tr>\n",
       "    <tr>\n",
       "      <th id=\"T_39164_level0_row8\" class=\"row_heading level0 row8\" >8</th>\n",
       "      <td id=\"T_39164_row8_col0\" class=\"data row8 col0\" >9.000000</td>\n",
       "      <td id=\"T_39164_row8_col1\" class=\"data row8 col1\" >-14.372000</td>\n",
       "      <td id=\"T_39164_row8_col2\" class=\"data row8 col2\" >-12.919000</td>\n",
       "      <td id=\"T_39164_row8_col3\" class=\"data row8 col3\" >3.733000</td>\n",
       "      <td id=\"T_39164_row8_col4\" class=\"data row8 col4\" >5.239000</td>\n",
       "    </tr>\n",
       "    <tr>\n",
       "      <th id=\"T_39164_level0_row9\" class=\"row_heading level0 row9\" >9</th>\n",
       "      <td id=\"T_39164_row9_col0\" class=\"data row9 col0\" >10.000000</td>\n",
       "      <td id=\"T_39164_row9_col1\" class=\"data row9 col1\" >-2.602000</td>\n",
       "      <td id=\"T_39164_row9_col2\" class=\"data row9 col2\" >-1.373000</td>\n",
       "      <td id=\"T_39164_row9_col3\" class=\"data row9 col3\" >6.687000</td>\n",
       "      <td id=\"T_39164_row9_col4\" class=\"data row9 col4\" >11.277000</td>\n",
       "    </tr>\n",
       "  </tbody>\n",
       "</table>\n"
      ],
      "text/plain": [
       "<pandas.io.formats.style.Styler at 0x23fecb86db0>"
      ]
     },
     "execution_count": 31,
     "metadata": {},
     "output_type": "execute_result"
    }
   ],
   "source": [
    "def highlight_max(s):\n",
    "    \"\"\"Highlight max value in all columns.\"\"\"\n",
    "    is_max = s == s.max()\n",
    "    return ['background-color: lightgreen' if v else '' for v in is_max]\n",
    "\n",
    "def highlight_max_col(s):\n",
    "    \"\"\"Highlight max value in a column.\"\"\"\n",
    "    is_max = s == s.max()\n",
    "    return ['background-color: yellow' if v else '' for v in is_max]\n",
    "\n",
    "df_copy = df.style.apply(highlight_max)\n",
    "df_copy = df.style.apply(highlight_max_col, subset=[\"C\"])\n",
    "df_copy"
   ]
  },
  {
   "cell_type": "code",
   "execution_count": 36,
   "id": "41955a88-9d58-4ec3-bfe0-2a11ce042931",
   "metadata": {},
   "outputs": [
    {
     "data": {
      "text/html": [
       "<style type=\"text/css\">\n",
       "#T_7a9d8_row0_col2 {\n",
       "  background-color: #d4dbe6;\n",
       "  color: #000000;\n",
       "}\n",
       "#T_7a9d8_row0_col3 {\n",
       "  background-color: #e5d8d1;\n",
       "  color: #000000;\n",
       "}\n",
       "#T_7a9d8_row1_col2 {\n",
       "  background-color: #e46e56;\n",
       "  color: #f1f1f1;\n",
       "}\n",
       "#T_7a9d8_row1_col3 {\n",
       "  background-color: #7a9df8;\n",
       "  color: #f1f1f1;\n",
       "}\n",
       "#T_7a9d8_row2_col2 {\n",
       "  background-color: #9fbfff;\n",
       "  color: #000000;\n",
       "}\n",
       "#T_7a9d8_row2_col3 {\n",
       "  background-color: #e9d5cb;\n",
       "  color: #000000;\n",
       "}\n",
       "#T_7a9d8_row3_col2, #T_7a9d8_row3_col3 {\n",
       "  background-color: #b40426;\n",
       "  color: #f1f1f1;\n",
       "}\n",
       "#T_7a9d8_row4_col2 {\n",
       "  background-color: #c9d7f0;\n",
       "  color: #000000;\n",
       "}\n",
       "#T_7a9d8_row4_col3 {\n",
       "  background-color: #c1d4f4;\n",
       "  color: #000000;\n",
       "}\n",
       "#T_7a9d8_row5_col2 {\n",
       "  background-color: #cfdaea;\n",
       "  color: #000000;\n",
       "}\n",
       "#T_7a9d8_row5_col3, #T_7a9d8_row8_col2 {\n",
       "  background-color: #3b4cc0;\n",
       "  color: #f1f1f1;\n",
       "}\n",
       "#T_7a9d8_row6_col2 {\n",
       "  background-color: #adc9fd;\n",
       "  color: #000000;\n",
       "}\n",
       "#T_7a9d8_row6_col3 {\n",
       "  background-color: #c43032;\n",
       "  color: #f1f1f1;\n",
       "}\n",
       "#T_7a9d8_row7_col2 {\n",
       "  background-color: #e8765c;\n",
       "  color: #f1f1f1;\n",
       "}\n",
       "#T_7a9d8_row7_col3 {\n",
       "  background-color: #779af7;\n",
       "  color: #f1f1f1;\n",
       "}\n",
       "#T_7a9d8_row8_col3 {\n",
       "  background-color: #d5dbe5;\n",
       "  color: #000000;\n",
       "}\n",
       "#T_7a9d8_row9_col2 {\n",
       "  background-color: #e8d6cc;\n",
       "  color: #000000;\n",
       "}\n",
       "#T_7a9d8_row9_col3 {\n",
       "  background-color: #ebd3c6;\n",
       "  color: #000000;\n",
       "}\n",
       "</style>\n",
       "<table id=\"T_7a9d8\">\n",
       "  <thead>\n",
       "    <tr>\n",
       "      <th class=\"blank level0\" >&nbsp;</th>\n",
       "      <th id=\"T_7a9d8_level0_col0\" class=\"col_heading level0 col0\" >A</th>\n",
       "      <th id=\"T_7a9d8_level0_col1\" class=\"col_heading level0 col1\" >B</th>\n",
       "      <th id=\"T_7a9d8_level0_col2\" class=\"col_heading level0 col2\" >C</th>\n",
       "      <th id=\"T_7a9d8_level0_col3\" class=\"col_heading level0 col3\" >D</th>\n",
       "      <th id=\"T_7a9d8_level0_col4\" class=\"col_heading level0 col4\" >E</th>\n",
       "    </tr>\n",
       "  </thead>\n",
       "  <tbody>\n",
       "    <tr>\n",
       "      <th id=\"T_7a9d8_level0_row0\" class=\"row_heading level0 row0\" >0</th>\n",
       "      <td id=\"T_7a9d8_row0_col0\" class=\"data row0 col0\" >1.000000</td>\n",
       "      <td id=\"T_7a9d8_row0_col1\" class=\"data row0 col1\" >1.220000</td>\n",
       "      <td id=\"T_7a9d8_row0_col2\" class=\"data row0 col2\" >-3.047000</td>\n",
       "      <td id=\"T_7a9d8_row0_col3\" class=\"data row0 col3\" >5.780000</td>\n",
       "      <td id=\"T_7a9d8_row0_col4\" class=\"data row0 col4\" >5.753000</td>\n",
       "    </tr>\n",
       "    <tr>\n",
       "      <th id=\"T_7a9d8_level0_row1\" class=\"row_heading level0 row1\" >1</th>\n",
       "      <td id=\"T_7a9d8_row1_col0\" class=\"data row1 col0\" >2.000000</td>\n",
       "      <td id=\"T_7a9d8_row1_col1\" class=\"data row1 col1\" >-0.608000</td>\n",
       "      <td id=\"T_7a9d8_row1_col2\" class=\"data row1 col2\" >5.053000</td>\n",
       "      <td id=\"T_7a9d8_row1_col3\" class=\"data row1 col3\" >-5.176000</td>\n",
       "      <td id=\"T_7a9d8_row1_col4\" class=\"data row1 col4\" >6.764000</td>\n",
       "    </tr>\n",
       "    <tr>\n",
       "      <th id=\"T_7a9d8_level0_row2\" class=\"row_heading level0 row2\" >2</th>\n",
       "      <td id=\"T_7a9d8_row2_col0\" class=\"data row2 col0\" >3.000000</td>\n",
       "      <td id=\"T_7a9d8_row2_col1\" class=\"data row2 col1\" >-0.182000</td>\n",
       "      <td id=\"T_7a9d8_row2_col2\" class=\"data row2 col2\" >-6.496000</td>\n",
       "      <td id=\"T_7a9d8_row2_col3\" class=\"data row2 col3\" >6.306000</td>\n",
       "      <td id=\"T_7a9d8_row2_col4\" class=\"data row2 col4\" >2.251000</td>\n",
       "    </tr>\n",
       "    <tr>\n",
       "      <th id=\"T_7a9d8_level0_row3\" class=\"row_heading level0 row3\" >3</th>\n",
       "      <td id=\"T_7a9d8_row3_col0\" class=\"data row3 col0\" >4.000000</td>\n",
       "      <td id=\"T_7a9d8_row3_col1\" class=\"data row3 col1\" >-8.766000</td>\n",
       "      <td id=\"T_7a9d8_row3_col2\" class=\"data row3 col2\" >8.285000</td>\n",
       "      <td id=\"T_7a9d8_row3_col3\" class=\"data row3 col3\" >20.928000</td>\n",
       "      <td id=\"T_7a9d8_row3_col4\" class=\"data row3 col4\" >2.300000</td>\n",
       "    </tr>\n",
       "    <tr>\n",
       "      <th id=\"T_7a9d8_level0_row4\" class=\"row_heading level0 row4\" >4</th>\n",
       "      <td id=\"T_7a9d8_row4_col0\" class=\"data row4 col0\" >5.000000</td>\n",
       "      <td id=\"T_7a9d8_row4_col1\" class=\"data row4 col1\" >6.941000</td>\n",
       "      <td id=\"T_7a9d8_row4_col2\" class=\"data row4 col2\" >-3.851000</td>\n",
       "      <td id=\"T_7a9d8_row4_col3\" class=\"data row4 col3\" >1.555000</td>\n",
       "      <td id=\"T_7a9d8_row4_col4\" class=\"data row4 col4\" >9.966000</td>\n",
       "    </tr>\n",
       "    <tr>\n",
       "      <th id=\"T_7a9d8_level0_row5\" class=\"row_heading level0 row5\" >5</th>\n",
       "      <td id=\"T_7a9d8_row5_col0\" class=\"data row5 col0\" >6.000000</td>\n",
       "      <td id=\"T_7a9d8_row5_col1\" class=\"data row5 col1\" >-10.641000</td>\n",
       "      <td id=\"T_7a9d8_row5_col2\" class=\"data row5 col2\" >-3.356000</td>\n",
       "      <td id=\"T_7a9d8_row5_col3\" class=\"data row5 col3\" >-11.556000</td>\n",
       "      <td id=\"T_7a9d8_row5_col4\" class=\"data row5 col4\" >-12.443000</td>\n",
       "    </tr>\n",
       "    <tr>\n",
       "      <th id=\"T_7a9d8_level0_row6\" class=\"row_heading level0 row6\" >6</th>\n",
       "      <td id=\"T_7a9d8_row6_col0\" class=\"data row6 col0\" >7.000000</td>\n",
       "      <td id=\"T_7a9d8_row6_col1\" class=\"data row6 col1\" >5.901000</td>\n",
       "      <td id=\"T_7a9d8_row6_col2\" class=\"data row6 col2\" >-5.689000</td>\n",
       "      <td id=\"T_7a9d8_row6_col3\" class=\"data row6 col3\" >19.504000</td>\n",
       "      <td id=\"T_7a9d8_row6_col4\" class=\"data row6 col4\" >12.604000</td>\n",
       "    </tr>\n",
       "    <tr>\n",
       "      <th id=\"T_7a9d8_level0_row7\" class=\"row_heading level0 row7\" >7</th>\n",
       "      <td id=\"T_7a9d8_row7_col0\" class=\"data row7 col0\" >8.000000</td>\n",
       "      <td id=\"T_7a9d8_row7_col1\" class=\"data row7 col1\" >-0.890000</td>\n",
       "      <td id=\"T_7a9d8_row7_col2\" class=\"data row7 col2\" >4.663000</td>\n",
       "      <td id=\"T_7a9d8_row7_col3\" class=\"data row7 col3\" >-5.450000</td>\n",
       "      <td id=\"T_7a9d8_row7_col4\" class=\"data row7 col4\" >2.432000</td>\n",
       "    </tr>\n",
       "    <tr>\n",
       "      <th id=\"T_7a9d8_level0_row8\" class=\"row_heading level0 row8\" >8</th>\n",
       "      <td id=\"T_7a9d8_row8_col0\" class=\"data row8 col0\" >9.000000</td>\n",
       "      <td id=\"T_7a9d8_row8_col1\" class=\"data row8 col1\" >-14.372000</td>\n",
       "      <td id=\"T_7a9d8_row8_col2\" class=\"data row8 col2\" >-12.919000</td>\n",
       "      <td id=\"T_7a9d8_row8_col3\" class=\"data row8 col3\" >3.733000</td>\n",
       "      <td id=\"T_7a9d8_row8_col4\" class=\"data row8 col4\" >5.239000</td>\n",
       "    </tr>\n",
       "    <tr>\n",
       "      <th id=\"T_7a9d8_level0_row9\" class=\"row_heading level0 row9\" >9</th>\n",
       "      <td id=\"T_7a9d8_row9_col0\" class=\"data row9 col0\" >10.000000</td>\n",
       "      <td id=\"T_7a9d8_row9_col1\" class=\"data row9 col1\" >-2.602000</td>\n",
       "      <td id=\"T_7a9d8_row9_col2\" class=\"data row9 col2\" >-1.373000</td>\n",
       "      <td id=\"T_7a9d8_row9_col3\" class=\"data row9 col3\" >6.687000</td>\n",
       "      <td id=\"T_7a9d8_row9_col4\" class=\"data row9 col4\" >11.277000</td>\n",
       "    </tr>\n",
       "  </tbody>\n",
       "</table>\n"
      ],
      "text/plain": [
       "<pandas.io.formats.style.Styler at 0x23fe58796d0>"
      ]
     },
     "execution_count": 36,
     "metadata": {},
     "output_type": "execute_result"
    }
   ],
   "source": [
    "df.style.background_gradient(cmap=\"coolwarm\", subset=[\"C\", \"D\"]) # cmap= \"coolwarm\" or \"viridis\""
   ]
  },
  {
   "cell_type": "code",
   "execution_count": 37,
   "id": "34db76a3-e4bc-4e7a-9ffd-07ea34941f5a",
   "metadata": {},
   "outputs": [
    {
     "data": {
      "text/html": [
       "<style type=\"text/css\">\n",
       "#T_86434_row0_col2 {\n",
       "  width: 10em;\n",
       "  background: linear-gradient(90deg, transparent 46.6%, lightblue 46.6%, lightblue 60.9%, transparent 60.9%);\n",
       "}\n",
       "#T_86434_row1_col2 {\n",
       "  width: 10em;\n",
       "  background: linear-gradient(90deg, transparent 60.9%, lightblue 60.9%, lightblue 84.8%, transparent 84.8%);\n",
       "}\n",
       "#T_86434_row2_col2 {\n",
       "  width: 10em;\n",
       "  background: linear-gradient(90deg, transparent 30.3%, lightblue 30.3%, lightblue 60.9%, transparent 60.9%);\n",
       "}\n",
       "#T_86434_row3_col2 {\n",
       "  width: 10em;\n",
       "  background: linear-gradient(90deg, transparent 60.9%, lightblue 60.9%, lightblue 100.0%, transparent 100.0%);\n",
       "}\n",
       "#T_86434_row4_col2 {\n",
       "  width: 10em;\n",
       "  background: linear-gradient(90deg, transparent 42.8%, lightblue 42.8%, lightblue 60.9%, transparent 60.9%);\n",
       "}\n",
       "#T_86434_row5_col2 {\n",
       "  width: 10em;\n",
       "  background: linear-gradient(90deg, transparent 45.1%, lightblue 45.1%, lightblue 60.9%, transparent 60.9%);\n",
       "}\n",
       "#T_86434_row6_col2 {\n",
       "  width: 10em;\n",
       "  background: linear-gradient(90deg, transparent 34.1%, lightblue 34.1%, lightblue 60.9%, transparent 60.9%);\n",
       "}\n",
       "#T_86434_row7_col2 {\n",
       "  width: 10em;\n",
       "  background: linear-gradient(90deg, transparent 60.9%, lightblue 60.9%, lightblue 82.9%, transparent 82.9%);\n",
       "}\n",
       "#T_86434_row8_col2 {\n",
       "  width: 10em;\n",
       "  background: linear-gradient(90deg, lightblue 60.9%, transparent 60.9%);\n",
       "}\n",
       "#T_86434_row9_col2 {\n",
       "  width: 10em;\n",
       "  background: linear-gradient(90deg, transparent 54.5%, lightblue 54.5%, lightblue 60.9%, transparent 60.9%);\n",
       "}\n",
       "</style>\n",
       "<table id=\"T_86434\">\n",
       "  <thead>\n",
       "    <tr>\n",
       "      <th class=\"blank level0\" >&nbsp;</th>\n",
       "      <th id=\"T_86434_level0_col0\" class=\"col_heading level0 col0\" >A</th>\n",
       "      <th id=\"T_86434_level0_col1\" class=\"col_heading level0 col1\" >B</th>\n",
       "      <th id=\"T_86434_level0_col2\" class=\"col_heading level0 col2\" >C</th>\n",
       "      <th id=\"T_86434_level0_col3\" class=\"col_heading level0 col3\" >D</th>\n",
       "      <th id=\"T_86434_level0_col4\" class=\"col_heading level0 col4\" >E</th>\n",
       "    </tr>\n",
       "  </thead>\n",
       "  <tbody>\n",
       "    <tr>\n",
       "      <th id=\"T_86434_level0_row0\" class=\"row_heading level0 row0\" >0</th>\n",
       "      <td id=\"T_86434_row0_col0\" class=\"data row0 col0\" >1.000000</td>\n",
       "      <td id=\"T_86434_row0_col1\" class=\"data row0 col1\" >1.220000</td>\n",
       "      <td id=\"T_86434_row0_col2\" class=\"data row0 col2\" >-3.047000</td>\n",
       "      <td id=\"T_86434_row0_col3\" class=\"data row0 col3\" >5.780000</td>\n",
       "      <td id=\"T_86434_row0_col4\" class=\"data row0 col4\" >5.753000</td>\n",
       "    </tr>\n",
       "    <tr>\n",
       "      <th id=\"T_86434_level0_row1\" class=\"row_heading level0 row1\" >1</th>\n",
       "      <td id=\"T_86434_row1_col0\" class=\"data row1 col0\" >2.000000</td>\n",
       "      <td id=\"T_86434_row1_col1\" class=\"data row1 col1\" >-0.608000</td>\n",
       "      <td id=\"T_86434_row1_col2\" class=\"data row1 col2\" >5.053000</td>\n",
       "      <td id=\"T_86434_row1_col3\" class=\"data row1 col3\" >-5.176000</td>\n",
       "      <td id=\"T_86434_row1_col4\" class=\"data row1 col4\" >6.764000</td>\n",
       "    </tr>\n",
       "    <tr>\n",
       "      <th id=\"T_86434_level0_row2\" class=\"row_heading level0 row2\" >2</th>\n",
       "      <td id=\"T_86434_row2_col0\" class=\"data row2 col0\" >3.000000</td>\n",
       "      <td id=\"T_86434_row2_col1\" class=\"data row2 col1\" >-0.182000</td>\n",
       "      <td id=\"T_86434_row2_col2\" class=\"data row2 col2\" >-6.496000</td>\n",
       "      <td id=\"T_86434_row2_col3\" class=\"data row2 col3\" >6.306000</td>\n",
       "      <td id=\"T_86434_row2_col4\" class=\"data row2 col4\" >2.251000</td>\n",
       "    </tr>\n",
       "    <tr>\n",
       "      <th id=\"T_86434_level0_row3\" class=\"row_heading level0 row3\" >3</th>\n",
       "      <td id=\"T_86434_row3_col0\" class=\"data row3 col0\" >4.000000</td>\n",
       "      <td id=\"T_86434_row3_col1\" class=\"data row3 col1\" >-8.766000</td>\n",
       "      <td id=\"T_86434_row3_col2\" class=\"data row3 col2\" >8.285000</td>\n",
       "      <td id=\"T_86434_row3_col3\" class=\"data row3 col3\" >20.928000</td>\n",
       "      <td id=\"T_86434_row3_col4\" class=\"data row3 col4\" >2.300000</td>\n",
       "    </tr>\n",
       "    <tr>\n",
       "      <th id=\"T_86434_level0_row4\" class=\"row_heading level0 row4\" >4</th>\n",
       "      <td id=\"T_86434_row4_col0\" class=\"data row4 col0\" >5.000000</td>\n",
       "      <td id=\"T_86434_row4_col1\" class=\"data row4 col1\" >6.941000</td>\n",
       "      <td id=\"T_86434_row4_col2\" class=\"data row4 col2\" >-3.851000</td>\n",
       "      <td id=\"T_86434_row4_col3\" class=\"data row4 col3\" >1.555000</td>\n",
       "      <td id=\"T_86434_row4_col4\" class=\"data row4 col4\" >9.966000</td>\n",
       "    </tr>\n",
       "    <tr>\n",
       "      <th id=\"T_86434_level0_row5\" class=\"row_heading level0 row5\" >5</th>\n",
       "      <td id=\"T_86434_row5_col0\" class=\"data row5 col0\" >6.000000</td>\n",
       "      <td id=\"T_86434_row5_col1\" class=\"data row5 col1\" >-10.641000</td>\n",
       "      <td id=\"T_86434_row5_col2\" class=\"data row5 col2\" >-3.356000</td>\n",
       "      <td id=\"T_86434_row5_col3\" class=\"data row5 col3\" >-11.556000</td>\n",
       "      <td id=\"T_86434_row5_col4\" class=\"data row5 col4\" >-12.443000</td>\n",
       "    </tr>\n",
       "    <tr>\n",
       "      <th id=\"T_86434_level0_row6\" class=\"row_heading level0 row6\" >6</th>\n",
       "      <td id=\"T_86434_row6_col0\" class=\"data row6 col0\" >7.000000</td>\n",
       "      <td id=\"T_86434_row6_col1\" class=\"data row6 col1\" >5.901000</td>\n",
       "      <td id=\"T_86434_row6_col2\" class=\"data row6 col2\" >-5.689000</td>\n",
       "      <td id=\"T_86434_row6_col3\" class=\"data row6 col3\" >19.504000</td>\n",
       "      <td id=\"T_86434_row6_col4\" class=\"data row6 col4\" >12.604000</td>\n",
       "    </tr>\n",
       "    <tr>\n",
       "      <th id=\"T_86434_level0_row7\" class=\"row_heading level0 row7\" >7</th>\n",
       "      <td id=\"T_86434_row7_col0\" class=\"data row7 col0\" >8.000000</td>\n",
       "      <td id=\"T_86434_row7_col1\" class=\"data row7 col1\" >-0.890000</td>\n",
       "      <td id=\"T_86434_row7_col2\" class=\"data row7 col2\" >4.663000</td>\n",
       "      <td id=\"T_86434_row7_col3\" class=\"data row7 col3\" >-5.450000</td>\n",
       "      <td id=\"T_86434_row7_col4\" class=\"data row7 col4\" >2.432000</td>\n",
       "    </tr>\n",
       "    <tr>\n",
       "      <th id=\"T_86434_level0_row8\" class=\"row_heading level0 row8\" >8</th>\n",
       "      <td id=\"T_86434_row8_col0\" class=\"data row8 col0\" >9.000000</td>\n",
       "      <td id=\"T_86434_row8_col1\" class=\"data row8 col1\" >-14.372000</td>\n",
       "      <td id=\"T_86434_row8_col2\" class=\"data row8 col2\" >-12.919000</td>\n",
       "      <td id=\"T_86434_row8_col3\" class=\"data row8 col3\" >3.733000</td>\n",
       "      <td id=\"T_86434_row8_col4\" class=\"data row8 col4\" >5.239000</td>\n",
       "    </tr>\n",
       "    <tr>\n",
       "      <th id=\"T_86434_level0_row9\" class=\"row_heading level0 row9\" >9</th>\n",
       "      <td id=\"T_86434_row9_col0\" class=\"data row9 col0\" >10.000000</td>\n",
       "      <td id=\"T_86434_row9_col1\" class=\"data row9 col1\" >-2.602000</td>\n",
       "      <td id=\"T_86434_row9_col2\" class=\"data row9 col2\" >-1.373000</td>\n",
       "      <td id=\"T_86434_row9_col3\" class=\"data row9 col3\" >6.687000</td>\n",
       "      <td id=\"T_86434_row9_col4\" class=\"data row9 col4\" >11.277000</td>\n",
       "    </tr>\n",
       "  </tbody>\n",
       "</table>\n"
      ],
      "text/plain": [
       "<pandas.io.formats.style.Styler at 0x23fecb6fe90>"
      ]
     },
     "execution_count": 37,
     "metadata": {},
     "output_type": "execute_result"
    }
   ],
   "source": [
    "df.style.bar(subset=[\"C\"], color='lightblue')"
   ]
  },
  {
   "cell_type": "code",
   "execution_count": 38,
   "id": "402a48fe-236e-4c67-a174-edd42f5dedd7",
   "metadata": {},
   "outputs": [
    {
     "data": {
      "text/html": [
       "<style type=\"text/css\">\n",
       "</style>\n",
       "<table id=\"T_4aa5d\">\n",
       "  <thead>\n",
       "    <tr>\n",
       "      <th class=\"blank level0\" >&nbsp;</th>\n",
       "      <th id=\"T_4aa5d_level0_col0\" class=\"col_heading level0 col0\" >A</th>\n",
       "      <th id=\"T_4aa5d_level0_col1\" class=\"col_heading level0 col1\" >B</th>\n",
       "      <th id=\"T_4aa5d_level0_col2\" class=\"col_heading level0 col2\" >C</th>\n",
       "      <th id=\"T_4aa5d_level0_col3\" class=\"col_heading level0 col3\" >D</th>\n",
       "      <th id=\"T_4aa5d_level0_col4\" class=\"col_heading level0 col4\" >E</th>\n",
       "    </tr>\n",
       "  </thead>\n",
       "  <tbody>\n",
       "    <tr>\n",
       "      <th id=\"T_4aa5d_level0_row0\" class=\"row_heading level0 row0\" >0</th>\n",
       "      <td id=\"T_4aa5d_row0_col0\" class=\"data row0 col0\" >1 years</td>\n",
       "      <td id=\"T_4aa5d_row0_col1\" class=\"data row0 col1\" >$1.22</td>\n",
       "      <td id=\"T_4aa5d_row0_col2\" class=\"data row0 col2\" >-3.047000</td>\n",
       "      <td id=\"T_4aa5d_row0_col3\" class=\"data row0 col3\" >5.780000</td>\n",
       "      <td id=\"T_4aa5d_row0_col4\" class=\"data row0 col4\" >5.753000</td>\n",
       "    </tr>\n",
       "    <tr>\n",
       "      <th id=\"T_4aa5d_level0_row1\" class=\"row_heading level0 row1\" >1</th>\n",
       "      <td id=\"T_4aa5d_row1_col0\" class=\"data row1 col0\" >2 years</td>\n",
       "      <td id=\"T_4aa5d_row1_col1\" class=\"data row1 col1\" >$-0.61</td>\n",
       "      <td id=\"T_4aa5d_row1_col2\" class=\"data row1 col2\" >5.053000</td>\n",
       "      <td id=\"T_4aa5d_row1_col3\" class=\"data row1 col3\" >-5.176000</td>\n",
       "      <td id=\"T_4aa5d_row1_col4\" class=\"data row1 col4\" >6.764000</td>\n",
       "    </tr>\n",
       "    <tr>\n",
       "      <th id=\"T_4aa5d_level0_row2\" class=\"row_heading level0 row2\" >2</th>\n",
       "      <td id=\"T_4aa5d_row2_col0\" class=\"data row2 col0\" >3 years</td>\n",
       "      <td id=\"T_4aa5d_row2_col1\" class=\"data row2 col1\" >$-0.18</td>\n",
       "      <td id=\"T_4aa5d_row2_col2\" class=\"data row2 col2\" >-6.496000</td>\n",
       "      <td id=\"T_4aa5d_row2_col3\" class=\"data row2 col3\" >6.306000</td>\n",
       "      <td id=\"T_4aa5d_row2_col4\" class=\"data row2 col4\" >2.251000</td>\n",
       "    </tr>\n",
       "    <tr>\n",
       "      <th id=\"T_4aa5d_level0_row3\" class=\"row_heading level0 row3\" >3</th>\n",
       "      <td id=\"T_4aa5d_row3_col0\" class=\"data row3 col0\" >4 years</td>\n",
       "      <td id=\"T_4aa5d_row3_col1\" class=\"data row3 col1\" >$-8.77</td>\n",
       "      <td id=\"T_4aa5d_row3_col2\" class=\"data row3 col2\" >8.285000</td>\n",
       "      <td id=\"T_4aa5d_row3_col3\" class=\"data row3 col3\" >20.928000</td>\n",
       "      <td id=\"T_4aa5d_row3_col4\" class=\"data row3 col4\" >2.300000</td>\n",
       "    </tr>\n",
       "    <tr>\n",
       "      <th id=\"T_4aa5d_level0_row4\" class=\"row_heading level0 row4\" >4</th>\n",
       "      <td id=\"T_4aa5d_row4_col0\" class=\"data row4 col0\" >5 years</td>\n",
       "      <td id=\"T_4aa5d_row4_col1\" class=\"data row4 col1\" >$6.94</td>\n",
       "      <td id=\"T_4aa5d_row4_col2\" class=\"data row4 col2\" >-3.851000</td>\n",
       "      <td id=\"T_4aa5d_row4_col3\" class=\"data row4 col3\" >1.555000</td>\n",
       "      <td id=\"T_4aa5d_row4_col4\" class=\"data row4 col4\" >9.966000</td>\n",
       "    </tr>\n",
       "    <tr>\n",
       "      <th id=\"T_4aa5d_level0_row5\" class=\"row_heading level0 row5\" >5</th>\n",
       "      <td id=\"T_4aa5d_row5_col0\" class=\"data row5 col0\" >6 years</td>\n",
       "      <td id=\"T_4aa5d_row5_col1\" class=\"data row5 col1\" >$-10.64</td>\n",
       "      <td id=\"T_4aa5d_row5_col2\" class=\"data row5 col2\" >-3.356000</td>\n",
       "      <td id=\"T_4aa5d_row5_col3\" class=\"data row5 col3\" >-11.556000</td>\n",
       "      <td id=\"T_4aa5d_row5_col4\" class=\"data row5 col4\" >-12.443000</td>\n",
       "    </tr>\n",
       "    <tr>\n",
       "      <th id=\"T_4aa5d_level0_row6\" class=\"row_heading level0 row6\" >6</th>\n",
       "      <td id=\"T_4aa5d_row6_col0\" class=\"data row6 col0\" >7 years</td>\n",
       "      <td id=\"T_4aa5d_row6_col1\" class=\"data row6 col1\" >$5.90</td>\n",
       "      <td id=\"T_4aa5d_row6_col2\" class=\"data row6 col2\" >-5.689000</td>\n",
       "      <td id=\"T_4aa5d_row6_col3\" class=\"data row6 col3\" >19.504000</td>\n",
       "      <td id=\"T_4aa5d_row6_col4\" class=\"data row6 col4\" >12.604000</td>\n",
       "    </tr>\n",
       "    <tr>\n",
       "      <th id=\"T_4aa5d_level0_row7\" class=\"row_heading level0 row7\" >7</th>\n",
       "      <td id=\"T_4aa5d_row7_col0\" class=\"data row7 col0\" >8 years</td>\n",
       "      <td id=\"T_4aa5d_row7_col1\" class=\"data row7 col1\" >$-0.89</td>\n",
       "      <td id=\"T_4aa5d_row7_col2\" class=\"data row7 col2\" >4.663000</td>\n",
       "      <td id=\"T_4aa5d_row7_col3\" class=\"data row7 col3\" >-5.450000</td>\n",
       "      <td id=\"T_4aa5d_row7_col4\" class=\"data row7 col4\" >2.432000</td>\n",
       "    </tr>\n",
       "    <tr>\n",
       "      <th id=\"T_4aa5d_level0_row8\" class=\"row_heading level0 row8\" >8</th>\n",
       "      <td id=\"T_4aa5d_row8_col0\" class=\"data row8 col0\" >9 years</td>\n",
       "      <td id=\"T_4aa5d_row8_col1\" class=\"data row8 col1\" >$-14.37</td>\n",
       "      <td id=\"T_4aa5d_row8_col2\" class=\"data row8 col2\" >-12.919000</td>\n",
       "      <td id=\"T_4aa5d_row8_col3\" class=\"data row8 col3\" >3.733000</td>\n",
       "      <td id=\"T_4aa5d_row8_col4\" class=\"data row8 col4\" >5.239000</td>\n",
       "    </tr>\n",
       "    <tr>\n",
       "      <th id=\"T_4aa5d_level0_row9\" class=\"row_heading level0 row9\" >9</th>\n",
       "      <td id=\"T_4aa5d_row9_col0\" class=\"data row9 col0\" >10 years</td>\n",
       "      <td id=\"T_4aa5d_row9_col1\" class=\"data row9 col1\" >$-2.60</td>\n",
       "      <td id=\"T_4aa5d_row9_col2\" class=\"data row9 col2\" >-1.373000</td>\n",
       "      <td id=\"T_4aa5d_row9_col3\" class=\"data row9 col3\" >6.687000</td>\n",
       "      <td id=\"T_4aa5d_row9_col4\" class=\"data row9 col4\" >11.277000</td>\n",
       "    </tr>\n",
       "  </tbody>\n",
       "</table>\n"
      ],
      "text/plain": [
       "<pandas.io.formats.style.Styler at 0x23fecb6ddc0>"
      ]
     },
     "execution_count": 38,
     "metadata": {},
     "output_type": "execute_result"
    }
   ],
   "source": [
    "df.style.format({\n",
    "    \"B\": \"${:,.2f}\",\n",
    "    \"A\": \"{:.0f} years\"\n",
    "})"
   ]
  },
  {
   "cell_type": "code",
   "execution_count": null,
   "id": "0266de3b-46d9-4897-ba2b-d09d2ab45486",
   "metadata": {},
   "outputs": [],
   "source": []
  },
  {
   "cell_type": "code",
   "execution_count": null,
   "id": "8d10ac67-1f4e-4801-9de5-cb2bed137a34",
   "metadata": {},
   "outputs": [],
   "source": []
  },
  {
   "cell_type": "code",
   "execution_count": null,
   "id": "0f7ad805-9712-48a7-a3a8-8271adecf05a",
   "metadata": {},
   "outputs": [],
   "source": []
  },
  {
   "cell_type": "code",
   "execution_count": null,
   "id": "c00c3d92-e384-48d9-a4ea-ca1dadb9e568",
   "metadata": {},
   "outputs": [],
   "source": []
  },
  {
   "cell_type": "code",
   "execution_count": null,
   "id": "270bb5a2-05ff-4749-9535-87bf3097dcb5",
   "metadata": {},
   "outputs": [],
   "source": []
  },
  {
   "cell_type": "code",
   "execution_count": null,
   "id": "c475c029-19a4-496a-8652-b57b7fc9812b",
   "metadata": {},
   "outputs": [],
   "source": []
  },
  {
   "cell_type": "code",
   "execution_count": null,
   "id": "acbd4b40-823c-408a-893d-e21053ff5681",
   "metadata": {},
   "outputs": [],
   "source": []
  },
  {
   "cell_type": "code",
   "execution_count": null,
   "id": "2ac58c23-eb12-4bdc-b961-ce4dd40aec0f",
   "metadata": {},
   "outputs": [],
   "source": []
  },
  {
   "cell_type": "code",
   "execution_count": null,
   "id": "b9f9f974-9098-410f-bede-0e22dc46ac59",
   "metadata": {},
   "outputs": [],
   "source": []
  },
  {
   "cell_type": "code",
   "execution_count": null,
   "id": "2c5d5dc2-402d-4224-bbcf-7fd4afa565c2",
   "metadata": {},
   "outputs": [],
   "source": []
  },
  {
   "cell_type": "markdown",
   "id": "6b56e31a-b158-4490-979d-5ec6d3e42d89",
   "metadata": {},
   "source": [
    "### Pandas Exercises"
   ]
  },
  {
   "cell_type": "markdown",
   "id": "8fc9b3fa-8c33-460f-9e08-ff52d5c897a0",
   "metadata": {},
   "source": [
    "### 1 Pandas Basics"
   ]
  },
  {
   "cell_type": "markdown",
   "id": "4803775c-8e89-4191-8088-b4d9d235e258",
   "metadata": {
    "jp-MarkdownHeadingCollapsed": true
   },
   "source": [
    "#### Pandas Series Exercises"
   ]
  },
  {
   "cell_type": "markdown",
   "id": "c4218123-834c-4f6d-9ef1-f1f6abe54ad0",
   "metadata": {},
   "source": [
    "#1. Write a Pandas program to change the data type of given a column or a Series."
   ]
  },
  {
   "cell_type": "code",
   "execution_count": 26,
   "id": "e1855dcf-ca4f-4893-a697-978837011a21",
   "metadata": {},
   "outputs": [
    {
     "data": {
      "text/plain": [
       "0      1\n",
       "1      2\n",
       "2      3\n",
       "3    XYZ\n",
       "4      6\n",
       "5      7\n",
       "6      8\n",
       "7    ABC\n",
       "dtype: object"
      ]
     },
     "execution_count": 26,
     "metadata": {},
     "output_type": "execute_result"
    }
   ],
   "source": [
    "ds = pd.Series([1,2,3,\"XYZ\",6,7,8,\"ABC\"])\n",
    "ds"
   ]
  },
  {
   "cell_type": "code",
   "execution_count": 28,
   "id": "eddd481c-7f00-4b8b-b130-2e1e51d0cb1d",
   "metadata": {},
   "outputs": [
    {
     "data": {
      "text/plain": [
       "0    1.0\n",
       "1    2.0\n",
       "2    3.0\n",
       "3    NaN\n",
       "4    6.0\n",
       "5    7.0\n",
       "6    8.0\n",
       "7    NaN\n",
       "dtype: float64"
      ]
     },
     "execution_count": 28,
     "metadata": {},
     "output_type": "execute_result"
    }
   ],
   "source": [
    "pd.to_numeric(ds, errors=\"coerce\")"
   ]
  },
  {
   "cell_type": "code",
   "execution_count": null,
   "id": "e3462090-6005-491e-bfe4-5821c86782e3",
   "metadata": {},
   "outputs": [],
   "source": []
  },
  {
   "cell_type": "markdown",
   "id": "35061a17-cf47-4b65-a1fd-4a5dd0627781",
   "metadata": {},
   "source": [
    "#2. Write a Pandas program to convert Series of lists to one Series."
   ]
  },
  {
   "cell_type": "markdown",
   "id": "e37527c0-4e73-42b6-8d36-a1e8a57c7664",
   "metadata": {},
   "source": [
    "<code>3 ways:\n",
    ".explode()\n",
    ".sum() and list\n",
    "itertools.chain()</code>"
   ]
  },
  {
   "cell_type": "code",
   "execution_count": 37,
   "id": "a245f294-5912-45b0-ae50-454273143f0f",
   "metadata": {},
   "outputs": [
    {
     "data": {
      "text/plain": [
       "0    [1, 2, 3, 4]\n",
       "1       [5, 6, 7]\n",
       "2          [8, 9]\n",
       "dtype: object"
      ]
     },
     "execution_count": 37,
     "metadata": {},
     "output_type": "execute_result"
    }
   ],
   "source": [
    "ds = pd.Series([[1,2,3,4],[5,6,7],[8,9]])\n",
    "ds"
   ]
  },
  {
   "cell_type": "code",
   "execution_count": 45,
   "id": "8f14522a-6c7d-4e29-ad9a-4e486cdf6c22",
   "metadata": {},
   "outputs": [
    {
     "data": {
      "text/plain": [
       "0    1\n",
       "0    2\n",
       "0    3\n",
       "0    4\n",
       "1    5\n",
       "1    6\n",
       "1    7\n",
       "2    8\n",
       "2    9\n",
       "dtype: object"
      ]
     },
     "execution_count": 45,
     "metadata": {},
     "output_type": "execute_result"
    }
   ],
   "source": [
    "#1\n",
    "flattened_ds = ds.explode()\n",
    "flattened_ds"
   ]
  },
  {
   "cell_type": "code",
   "execution_count": 36,
   "id": "7d4cc562-b4d6-4b35-b9d2-12c91414139a",
   "metadata": {},
   "outputs": [
    {
     "data": {
      "text/plain": [
       "0    1\n",
       "1    2\n",
       "2    3\n",
       "3    4\n",
       "4    5\n",
       "5    6\n",
       "6    7\n",
       "7    8\n",
       "8    9\n",
       "dtype: object"
      ]
     },
     "execution_count": 36,
     "metadata": {},
     "output_type": "execute_result"
    }
   ],
   "source": [
    "flattened_ds = flattened_ds.reset_index(drop=True)\n",
    "flattened_ds"
   ]
  },
  {
   "cell_type": "code",
   "execution_count": 46,
   "id": "2b393fcc-192b-47d8-b09d-387388b53488",
   "metadata": {},
   "outputs": [
    {
     "data": {
      "text/plain": [
       "0    1\n",
       "1    2\n",
       "2    3\n",
       "3    4\n",
       "4    5\n",
       "5    6\n",
       "6    7\n",
       "7    8\n",
       "8    9\n",
       "dtype: int64"
      ]
     },
     "execution_count": 46,
     "metadata": {},
     "output_type": "execute_result"
    }
   ],
   "source": [
    "#2\n",
    "from itertools import chain\n",
    "\n",
    "flat_ds_2 = pd.Series(chain(*ds))\n",
    "flat_ds_2"
   ]
  },
  {
   "cell_type": "code",
   "execution_count": 47,
   "id": "fa5f69f6-be72-4c12-b69e-83a579f876d2",
   "metadata": {},
   "outputs": [
    {
     "name": "stdout",
     "output_type": "stream",
     "text": [
      "0    1\n",
      "1    2\n",
      "2    3\n",
      "3    4\n",
      "4    5\n",
      "5    6\n",
      "6    7\n",
      "7    8\n",
      "8    9\n",
      "dtype: int64\n"
     ]
    }
   ],
   "source": [
    "#3 \n",
    "print(pd.Series(sum(ds.tolist(), [])))"
   ]
  },
  {
   "cell_type": "code",
   "execution_count": null,
   "id": "d237384e-fa6b-45f5-aac1-e30fb0833068",
   "metadata": {},
   "outputs": [],
   "source": []
  },
  {
   "cell_type": "markdown",
   "id": "f113062d-29bf-419e-b6c8-4aa0a6050b1a",
   "metadata": {},
   "source": [
    "#3. Write a Pandas program to check inequality over the index axis of a given dataframe and a given series."
   ]
  },
  {
   "cell_type": "code",
   "execution_count": 52,
   "id": "3b38dc44-afd3-4dfb-a6d0-dabe7489b3f3",
   "metadata": {},
   "outputs": [
    {
     "name": "stdout",
     "output_type": "stream",
     "text": [
      "       W      X     Y     Z\n",
      "0  False   True  True  True\n",
      "1  False  False  True  True\n",
      "2  False   True  True  True\n",
      "3  False  False  True  True\n",
      "4   True   True  True  True\n"
     ]
    }
   ],
   "source": [
    "df = pd.DataFrame({\n",
    "    'W':[68,75,86,80,None],\n",
    "    'X':[78,75,None,80,86], \n",
    "    'Y':[84,94,89,86,86],\n",
    "    'Z':[86,97,96,72,83]\n",
    "})\n",
    "\n",
    "ds = pd.Series([68, 75, 86, 80, None])\n",
    "\n",
    "print(df.ne(ds, axis=0))"
   ]
  },
  {
   "cell_type": "code",
   "execution_count": null,
   "id": "570aa549-1bbd-473d-9e37-e2a82862539b",
   "metadata": {},
   "outputs": [],
   "source": []
  },
  {
   "cell_type": "markdown",
   "id": "33fb7abf-bd42-4908-908d-78dd0e3d7a69",
   "metadata": {},
   "source": [
    "#4. Write a Pandas program to find the index of the first occurrence of the smallest and largest value of a given series."
   ]
  },
  {
   "cell_type": "code",
   "execution_count": 73,
   "id": "793cac08-f069-47b5-ac82-a09eb51651dc",
   "metadata": {},
   "outputs": [
    {
     "data": {
      "text/plain": [
       "14"
      ]
     },
     "execution_count": 73,
     "metadata": {},
     "output_type": "execute_result"
    }
   ],
   "source": [
    "ds = pd.Series([9,2,3,4,5,6,8,1,2,3,33,5,8,33])\n",
    "len(ds)"
   ]
  },
  {
   "cell_type": "code",
   "execution_count": 74,
   "id": "be67ea74-2c88-4cb0-9898-e2e43cc2201e",
   "metadata": {},
   "outputs": [
    {
     "name": "stdout",
     "output_type": "stream",
     "text": [
      "First occurence of min value: 7\n",
      "First occurence of max value: 10\n"
     ]
    }
   ],
   "source": [
    "print(f\"First occurence of min value: {ds.idxmin()}\")\n",
    "print(f\"First occurence of max value: {ds.idxmax()}\")"
   ]
  },
  {
   "cell_type": "code",
   "execution_count": null,
   "id": "bed4e169-0953-4c62-88d2-dd88e4526658",
   "metadata": {},
   "outputs": [],
   "source": []
  },
  {
   "cell_type": "markdown",
   "id": "4fffc7b3-c375-4e08-9d90-b7e692e7456a",
   "metadata": {
    "jp-MarkdownHeadingCollapsed": true
   },
   "source": [
    "#### DataFrame Exercises"
   ]
  },
  {
   "cell_type": "markdown",
   "id": "64905fe4-31bc-4b02-8dd2-f52e65cf899d",
   "metadata": {},
   "source": [
    "#1. Write a Pandas program to get lowest n records within each group of a given DataFrame."
   ]
  },
  {
   "cell_type": "code",
   "execution_count": 94,
   "id": "8b9ebe5a-f074-416a-8652-7d4fc733af75",
   "metadata": {},
   "outputs": [
    {
     "data": {
      "text/html": [
       "<div>\n",
       "<style scoped>\n",
       "    .dataframe tbody tr th:only-of-type {\n",
       "        vertical-align: middle;\n",
       "    }\n",
       "\n",
       "    .dataframe tbody tr th {\n",
       "        vertical-align: top;\n",
       "    }\n",
       "\n",
       "    .dataframe thead th {\n",
       "        text-align: right;\n",
       "    }\n",
       "</style>\n",
       "<table border=\"1\" class=\"dataframe\">\n",
       "  <thead>\n",
       "    <tr style=\"text-align: right;\">\n",
       "      <th></th>\n",
       "      <th>col1</th>\n",
       "      <th>col2</th>\n",
       "      <th>col3</th>\n",
       "    </tr>\n",
       "  </thead>\n",
       "  <tbody>\n",
       "    <tr>\n",
       "      <th>0</th>\n",
       "      <td>3</td>\n",
       "      <td>1</td>\n",
       "      <td>9</td>\n",
       "    </tr>\n",
       "    <tr>\n",
       "      <th>1</th>\n",
       "      <td>2</td>\n",
       "      <td>6</td>\n",
       "      <td>1</td>\n",
       "    </tr>\n",
       "    <tr>\n",
       "      <th>2</th>\n",
       "      <td>4</td>\n",
       "      <td>34</td>\n",
       "      <td>4</td>\n",
       "    </tr>\n",
       "    <tr>\n",
       "      <th>3</th>\n",
       "      <td>5</td>\n",
       "      <td>1</td>\n",
       "      <td>7</td>\n",
       "    </tr>\n",
       "    <tr>\n",
       "      <th>4</th>\n",
       "      <td>7</td>\n",
       "      <td>6</td>\n",
       "      <td>4</td>\n",
       "    </tr>\n",
       "  </tbody>\n",
       "</table>\n",
       "</div>"
      ],
      "text/plain": [
       "   col1  col2  col3\n",
       "0     3     1     9\n",
       "1     2     6     1\n",
       "2     4    34     4\n",
       "3     5     1     7\n",
       "4     7     6     4"
      ]
     },
     "execution_count": 94,
     "metadata": {},
     "output_type": "execute_result"
    }
   ],
   "source": [
    "df = pd.DataFrame({\n",
    "    \"col1\": [3,2,4,5,7,2,7,9],\n",
    "    \"col2\": [1,6,34,1,6,8,9,3],\n",
    "    \"col3\": [9,1,4,7,4,2,3,9]\n",
    "})\n",
    "df.head()"
   ]
  },
  {
   "cell_type": "code",
   "execution_count": 107,
   "id": "adda624e-89e2-4adb-aff8-947e90528d1d",
   "metadata": {},
   "outputs": [
    {
     "name": "stdout",
     "output_type": "stream",
     "text": [
      "Sorted by col1\n",
      "   col1  col2  col3\n",
      "1     2     6     1\n",
      "5     2     8     2\n",
      "0     3     1     9\n",
      "2     4    34     4\n",
      "===================\n",
      "Sorted by col2\n",
      "   col1  col2  col3\n",
      "0     3     1     9\n",
      "3     5     1     7\n",
      "7     9     3     9\n",
      "1     2     6     1\n",
      "===================\n",
      "Sorted by col3\n",
      "   col1  col2  col3\n",
      "1     2     6     1\n",
      "5     2     8     2\n",
      "6     7     9     3\n",
      "2     4    34     4\n"
     ]
    }
   ],
   "source": [
    "n = 4\n",
    "\n",
    "print(\"Sorted by col1\")\n",
    "print(df.sort_values(\"col1\").head(n))\n",
    "print(\"===================\")\n",
    "print(\"Sorted by col2\")\n",
    "print(df.sort_values(\"col2\").head(n))\n",
    "print(\"===================\")\n",
    "print(\"Sorted by col3\")\n",
    "print(df.sort_values(\"col3\").head(n))"
   ]
  },
  {
   "cell_type": "code",
   "execution_count": 109,
   "id": "5d17dbe2-922f-4391-acc4-2544e0310b39",
   "metadata": {},
   "outputs": [
    {
     "name": "stdout",
     "output_type": "stream",
     "text": [
      "Sorted by col1\n",
      "   col1  col2  col3\n",
      "1     2     6     1\n",
      "5     2     8     2\n",
      "0     3     1     9\n",
      "2     4    34     4\n",
      "===================\n",
      "Sorted by col2\n",
      "   col1  col2  col3\n",
      "0     3     1     9\n",
      "3     5     1     7\n",
      "7     9     3     9\n",
      "1     2     6     1\n",
      "===================\n",
      "Sorted by col3\n",
      "   col1  col2  col3\n",
      "1     2     6     1\n",
      "5     2     8     2\n",
      "6     7     9     3\n",
      "2     4    34     4\n"
     ]
    }
   ],
   "source": [
    "print(\"Sorted by col1\")\n",
    "print(df.nsmallest(n, \"col1\"))\n",
    "print(\"===================\")\n",
    "print(\"Sorted by col2\")\n",
    "print(df.nsmallest(n, \"col2\"))\n",
    "print(\"===================\")\n",
    "print(\"Sorted by col3\")\n",
    "print(df.nsmallest(n, \"col3\"))"
   ]
  },
  {
   "cell_type": "code",
   "execution_count": null,
   "id": "b674b952-e371-46ac-8c43-c0a23c17559d",
   "metadata": {},
   "outputs": [],
   "source": []
  },
  {
   "cell_type": "markdown",
   "id": "4c82ad38-d2b4-4074-8177-737a48e3dd41",
   "metadata": {},
   "source": [
    "#2. Write a Pandas program to convert continuous values of a column in a given DataFrame to categorical."
   ]
  },
  {
   "cell_type": "code",
   "execution_count": 114,
   "id": "cca2dc20-d7a3-44cc-8b0f-a630f947209e",
   "metadata": {},
   "outputs": [
    {
     "data": {
      "text/html": [
       "<div>\n",
       "<style scoped>\n",
       "    .dataframe tbody tr th:only-of-type {\n",
       "        vertical-align: middle;\n",
       "    }\n",
       "\n",
       "    .dataframe tbody tr th {\n",
       "        vertical-align: top;\n",
       "    }\n",
       "\n",
       "    .dataframe thead th {\n",
       "        text-align: right;\n",
       "    }\n",
       "</style>\n",
       "<table border=\"1\" class=\"dataframe\">\n",
       "  <thead>\n",
       "    <tr style=\"text-align: right;\">\n",
       "      <th></th>\n",
       "      <th>Name</th>\n",
       "      <th>Age</th>\n",
       "    </tr>\n",
       "  </thead>\n",
       "  <tbody>\n",
       "    <tr>\n",
       "      <th>0</th>\n",
       "      <td>Alberto Franco</td>\n",
       "      <td>18</td>\n",
       "    </tr>\n",
       "    <tr>\n",
       "      <th>1</th>\n",
       "      <td>Gino Mcneill</td>\n",
       "      <td>22</td>\n",
       "    </tr>\n",
       "    <tr>\n",
       "      <th>2</th>\n",
       "      <td>Ryan Parkes</td>\n",
       "      <td>40</td>\n",
       "    </tr>\n",
       "    <tr>\n",
       "      <th>3</th>\n",
       "      <td>Eesha Hinton</td>\n",
       "      <td>67</td>\n",
       "    </tr>\n",
       "    <tr>\n",
       "      <th>4</th>\n",
       "      <td>Syed Wharton</td>\n",
       "      <td>5</td>\n",
       "    </tr>\n",
       "  </tbody>\n",
       "</table>\n",
       "</div>"
      ],
      "text/plain": [
       "             Name  Age\n",
       "0  Alberto Franco   18\n",
       "1    Gino Mcneill   22\n",
       "2     Ryan Parkes   40\n",
       "3    Eesha Hinton   67\n",
       "4    Syed Wharton    5"
      ]
     },
     "execution_count": 114,
     "metadata": {},
     "output_type": "execute_result"
    }
   ],
   "source": [
    "df = pd.DataFrame({\n",
    "    'Name': ['Alberto Franco','Gino Mcneill','Ryan Parkes', 'Eesha Hinton', 'Syed Wharton'],\n",
    "    'Age': [18, 22, 40, 67, 5]\n",
    "})\n",
    "df"
   ]
  },
  {
   "cell_type": "code",
   "execution_count": 118,
   "id": "bdb917bc-3846-465e-9fab-f97fd156dd12",
   "metadata": {},
   "outputs": [],
   "source": [
    "df[\"Age Group\"] = pd.cut(df[\"Age\"], bins=[0,18,65,99], labels=[\"child\", \"adult\", \"elderly\"])"
   ]
  },
  {
   "cell_type": "code",
   "execution_count": 119,
   "id": "377a8d4b-cd2a-43d3-aeec-00c453706b3c",
   "metadata": {},
   "outputs": [
    {
     "data": {
      "text/html": [
       "<div>\n",
       "<style scoped>\n",
       "    .dataframe tbody tr th:only-of-type {\n",
       "        vertical-align: middle;\n",
       "    }\n",
       "\n",
       "    .dataframe tbody tr th {\n",
       "        vertical-align: top;\n",
       "    }\n",
       "\n",
       "    .dataframe thead th {\n",
       "        text-align: right;\n",
       "    }\n",
       "</style>\n",
       "<table border=\"1\" class=\"dataframe\">\n",
       "  <thead>\n",
       "    <tr style=\"text-align: right;\">\n",
       "      <th></th>\n",
       "      <th>Name</th>\n",
       "      <th>Age</th>\n",
       "      <th>Age Group</th>\n",
       "    </tr>\n",
       "  </thead>\n",
       "  <tbody>\n",
       "    <tr>\n",
       "      <th>0</th>\n",
       "      <td>Alberto Franco</td>\n",
       "      <td>18</td>\n",
       "      <td>child</td>\n",
       "    </tr>\n",
       "    <tr>\n",
       "      <th>1</th>\n",
       "      <td>Gino Mcneill</td>\n",
       "      <td>22</td>\n",
       "      <td>adult</td>\n",
       "    </tr>\n",
       "    <tr>\n",
       "      <th>2</th>\n",
       "      <td>Ryan Parkes</td>\n",
       "      <td>40</td>\n",
       "      <td>adult</td>\n",
       "    </tr>\n",
       "    <tr>\n",
       "      <th>3</th>\n",
       "      <td>Eesha Hinton</td>\n",
       "      <td>67</td>\n",
       "      <td>elderly</td>\n",
       "    </tr>\n",
       "    <tr>\n",
       "      <th>4</th>\n",
       "      <td>Syed Wharton</td>\n",
       "      <td>5</td>\n",
       "      <td>child</td>\n",
       "    </tr>\n",
       "  </tbody>\n",
       "</table>\n",
       "</div>"
      ],
      "text/plain": [
       "             Name  Age Age Group\n",
       "0  Alberto Franco   18     child\n",
       "1    Gino Mcneill   22     adult\n",
       "2     Ryan Parkes   40     adult\n",
       "3    Eesha Hinton   67   elderly\n",
       "4    Syed Wharton    5     child"
      ]
     },
     "execution_count": 119,
     "metadata": {},
     "output_type": "execute_result"
    }
   ],
   "source": [
    "df"
   ]
  },
  {
   "cell_type": "code",
   "execution_count": null,
   "id": "bf16631f-7b3c-49fb-b5c2-0ac6e163327b",
   "metadata": {},
   "outputs": [],
   "source": []
  },
  {
   "cell_type": "markdown",
   "id": "1f7b1a3b-1140-4b57-af89-09c2d2c1c3b7",
   "metadata": {},
   "source": [
    "### Index Exercise"
   ]
  },
  {
   "cell_type": "markdown",
   "id": "1658c11f-7b31-40dc-b254-153b9a1d77c5",
   "metadata": {},
   "source": [
    "#1. Write a Pandas program to select rows by filtering on one or more column(s) in a multi-index dataframe."
   ]
  },
  {
   "cell_type": "code",
   "execution_count": 157,
   "id": "5796385e-dbb4-4717-a6c5-1c3612a14c0f",
   "metadata": {},
   "outputs": [
    {
     "data": {
      "text/html": [
       "<div>\n",
       "<style scoped>\n",
       "    .dataframe tbody tr th:only-of-type {\n",
       "        vertical-align: middle;\n",
       "    }\n",
       "\n",
       "    .dataframe tbody tr th {\n",
       "        vertical-align: top;\n",
       "    }\n",
       "\n",
       "    .dataframe thead th {\n",
       "        text-align: right;\n",
       "    }\n",
       "</style>\n",
       "<table border=\"1\" class=\"dataframe\">\n",
       "  <thead>\n",
       "    <tr style=\"text-align: right;\">\n",
       "      <th></th>\n",
       "      <th>school_code</th>\n",
       "      <th>class</th>\n",
       "      <th>name</th>\n",
       "      <th>date_of_birth</th>\n",
       "      <th>weight</th>\n",
       "      <th>tcode</th>\n",
       "    </tr>\n",
       "  </thead>\n",
       "  <tbody>\n",
       "    <tr>\n",
       "      <th>0</th>\n",
       "      <td>s001</td>\n",
       "      <td>V</td>\n",
       "      <td>Alberto Franco</td>\n",
       "      <td>15/05/2002</td>\n",
       "      <td>35</td>\n",
       "      <td>t1</td>\n",
       "    </tr>\n",
       "    <tr>\n",
       "      <th>1</th>\n",
       "      <td>s002</td>\n",
       "      <td>V</td>\n",
       "      <td>Gino Mcneill</td>\n",
       "      <td>17/05/2002</td>\n",
       "      <td>37</td>\n",
       "      <td>t2</td>\n",
       "    </tr>\n",
       "  </tbody>\n",
       "</table>\n",
       "</div>"
      ],
      "text/plain": [
       "  school_code class            name date_of_birth  weight tcode\n",
       "0        s001     V  Alberto Franco    15/05/2002      35    t1\n",
       "1        s002     V    Gino Mcneill    17/05/2002      37    t2"
      ]
     },
     "execution_count": 157,
     "metadata": {},
     "output_type": "execute_result"
    }
   ],
   "source": [
    "df = pd.DataFrame({\n",
    "    'school_code': ['s001','s002','s003','s001','s002','s004'],\n",
    "    'class': ['V', 'V', 'VI', 'VI', 'V', 'VI'],\n",
    "    'name': ['Alberto Franco','Gino Mcneill','Ryan Parkes', 'Eesha Hinton', 'Gino Mcneill', 'David Parkes'],\n",
    "    'date_of_birth': ['15/05/2002','17/05/2002','16/02/1999','25/09/1998','11/05/2002','15/09/1997'],\n",
    "    'weight': [35, 37, 33, 30, 31, 32],\n",
    "    'tcode': ['t1', 't2', 't3', 't4', 't5', 't6']\n",
    "})\n",
    "\n",
    "df.head(2)"
   ]
  },
  {
   "cell_type": "code",
   "execution_count": 160,
   "id": "b22ed2c9-990a-4db9-8d45-a29b82efff1b",
   "metadata": {},
   "outputs": [
    {
     "data": {
      "text/html": [
       "<div>\n",
       "<style scoped>\n",
       "    .dataframe tbody tr th:only-of-type {\n",
       "        vertical-align: middle;\n",
       "    }\n",
       "\n",
       "    .dataframe tbody tr th {\n",
       "        vertical-align: top;\n",
       "    }\n",
       "\n",
       "    .dataframe thead th {\n",
       "        text-align: right;\n",
       "    }\n",
       "</style>\n",
       "<table border=\"1\" class=\"dataframe\">\n",
       "  <thead>\n",
       "    <tr style=\"text-align: right;\">\n",
       "      <th></th>\n",
       "      <th></th>\n",
       "      <th>class</th>\n",
       "      <th>name</th>\n",
       "      <th>date_of_birth</th>\n",
       "      <th>weight</th>\n",
       "    </tr>\n",
       "    <tr>\n",
       "      <th>school_code</th>\n",
       "      <th>tcode</th>\n",
       "      <th></th>\n",
       "      <th></th>\n",
       "      <th></th>\n",
       "      <th></th>\n",
       "    </tr>\n",
       "  </thead>\n",
       "  <tbody>\n",
       "    <tr>\n",
       "      <th>s001</th>\n",
       "      <th>t1</th>\n",
       "      <td>V</td>\n",
       "      <td>Alberto Franco</td>\n",
       "      <td>15/05/2002</td>\n",
       "      <td>35</td>\n",
       "    </tr>\n",
       "    <tr>\n",
       "      <th>s002</th>\n",
       "      <th>t2</th>\n",
       "      <td>V</td>\n",
       "      <td>Gino Mcneill</td>\n",
       "      <td>17/05/2002</td>\n",
       "      <td>37</td>\n",
       "    </tr>\n",
       "  </tbody>\n",
       "</table>\n",
       "</div>"
      ],
      "text/plain": [
       "                  class            name date_of_birth  weight\n",
       "school_code tcode                                            \n",
       "s001        t1        V  Alberto Franco    15/05/2002      35\n",
       "s002        t2        V    Gino Mcneill    17/05/2002      37"
      ]
     },
     "execution_count": 160,
     "metadata": {},
     "output_type": "execute_result"
    }
   ],
   "source": [
    "df2 = df.set_index([\"school_code\", \"tcode\"])\n",
    "df2.head(2)"
   ]
  },
  {
   "cell_type": "code",
   "execution_count": 161,
   "id": "5e990f23-9f16-4670-b337-8822393d6869",
   "metadata": {},
   "outputs": [
    {
     "data": {
      "text/plain": [
       "class                         V\n",
       "name             Alberto Franco\n",
       "date_of_birth        15/05/2002\n",
       "weight                       35\n",
       "Name: (s001, t1), dtype: object"
      ]
     },
     "execution_count": 161,
     "metadata": {},
     "output_type": "execute_result"
    }
   ],
   "source": [
    "df2.loc[\"s001\", \"t1\"]"
   ]
  },
  {
   "cell_type": "code",
   "execution_count": null,
   "id": "f90fe401-d046-41f9-9910-32cb8dd9e51e",
   "metadata": {},
   "outputs": [],
   "source": []
  },
  {
   "cell_type": "markdown",
   "id": "dc6e39f0-9c4b-49bc-a45d-a5a077d957b7",
   "metadata": {},
   "source": [
    "### 2 Pandas Strings and Regular Expressions Exercises"
   ]
  },
  {
   "cell_type": "markdown",
   "id": "6c7da863-fc8e-4f3a-8f18-e338727880e5",
   "metadata": {},
   "source": [
    "#1. Write a Pandas program to add leading zeros to the integer column in a pandas series and makes the length of the field to 8 digit."
   ]
  },
  {
   "cell_type": "code",
   "execution_count": 215,
   "id": "43c55ff4-82ad-48df-ad5a-b7c274c87add",
   "metadata": {},
   "outputs": [
    {
     "name": "stdout",
     "output_type": "stream",
     "text": [
      "   amount\n",
      "0      10\n",
      "1     250\n",
      "2    3000\n",
      "3   40000\n",
      "4  500000\n"
     ]
    }
   ],
   "source": [
    "nums = {'amount': [10, 250, 3000, 40000, 500000]}\n",
    "df = pd.DataFrame(nums)\n",
    "print(df)"
   ]
  },
  {
   "cell_type": "code",
   "execution_count": 216,
   "id": "4c83c267-ed0b-495b-a66f-52c134c82d38",
   "metadata": {},
   "outputs": [
    {
     "data": {
      "text/plain": [
       "array([    10,    250,   3000,  40000, 500000], dtype=int64)"
      ]
     },
     "execution_count": 216,
     "metadata": {},
     "output_type": "execute_result"
    }
   ],
   "source": [
    "df['amount'].to_numpy()"
   ]
  },
  {
   "cell_type": "code",
   "execution_count": 229,
   "id": "a35f5a01-c9ba-438e-8032-1dae71401a8b",
   "metadata": {},
   "outputs": [
    {
     "data": {
      "text/plain": [
       "0    00000010\n",
       "1    00000250\n",
       "2    00003000\n",
       "3    00040000\n",
       "4    00500000\n",
       "Name: amount, dtype: object"
      ]
     },
     "execution_count": 229,
     "metadata": {},
     "output_type": "execute_result"
    }
   ],
   "source": [
    "# one way\n",
    "df[\"amount\"] = df[\"amount\"].apply(lambda x: '{0:0>8}'.format(x))\n",
    "df[\"amount\"]"
   ]
  },
  {
   "cell_type": "code",
   "execution_count": 227,
   "id": "6cffd86b-406e-4bde-b7c0-81ff2184b607",
   "metadata": {},
   "outputs": [
    {
     "data": {
      "text/plain": [
       "0    00000010\n",
       "1    00000250\n",
       "2    00003000\n",
       "3    00040000\n",
       "4    00500000\n",
       "Name: amount, dtype: object"
      ]
     },
     "execution_count": 227,
     "metadata": {},
     "output_type": "execute_result"
    }
   ],
   "source": [
    "# 2nd way\n",
    "pd.Series(df['amount'].apply(lambda x: str(x))).str.rjust(8, \"0\")"
   ]
  },
  {
   "cell_type": "code",
   "execution_count": null,
   "id": "5fc7aec5-8932-4f9e-90b5-ff29dcd41586",
   "metadata": {},
   "outputs": [],
   "source": []
  },
  {
   "cell_type": "markdown",
   "id": "ed377b72-9905-424e-b397-c019c8c697cf",
   "metadata": {},
   "source": [
    "#2. Write a Pandas program to extract the sentences where a specific word is present in a given column of a given DataFrame."
   ]
  },
  {
   "cell_type": "code",
   "execution_count": 230,
   "id": "75f0ad94-9f8b-473d-8c80-7afd1824acd2",
   "metadata": {},
   "outputs": [
    {
     "data": {
      "text/html": [
       "<div>\n",
       "<style scoped>\n",
       "    .dataframe tbody tr th:only-of-type {\n",
       "        vertical-align: middle;\n",
       "    }\n",
       "\n",
       "    .dataframe tbody tr th {\n",
       "        vertical-align: top;\n",
       "    }\n",
       "\n",
       "    .dataframe thead th {\n",
       "        text-align: right;\n",
       "    }\n",
       "</style>\n",
       "<table border=\"1\" class=\"dataframe\">\n",
       "  <thead>\n",
       "    <tr style=\"text-align: right;\">\n",
       "      <th></th>\n",
       "      <th>company_code</th>\n",
       "      <th>date_of_sale</th>\n",
       "      <th>address</th>\n",
       "    </tr>\n",
       "  </thead>\n",
       "  <tbody>\n",
       "    <tr>\n",
       "      <th>0</th>\n",
       "      <td>Abcd</td>\n",
       "      <td>12/05/2002</td>\n",
       "      <td>9910 Surrey Avenue</td>\n",
       "    </tr>\n",
       "    <tr>\n",
       "      <th>1</th>\n",
       "      <td>EFGF</td>\n",
       "      <td>16/02/1999</td>\n",
       "      <td>92 N. Bishop Avenue</td>\n",
       "    </tr>\n",
       "    <tr>\n",
       "      <th>2</th>\n",
       "      <td>zefsalf</td>\n",
       "      <td>05/09/1998</td>\n",
       "      <td>9910 Golden Star Avenue</td>\n",
       "    </tr>\n",
       "    <tr>\n",
       "      <th>3</th>\n",
       "      <td>sdfslew</td>\n",
       "      <td>12/02/2022</td>\n",
       "      <td>102 Dunbar St.</td>\n",
       "    </tr>\n",
       "    <tr>\n",
       "      <th>4</th>\n",
       "      <td>zekfsdf</td>\n",
       "      <td>15/09/1997</td>\n",
       "      <td>17 West Livingston Court</td>\n",
       "    </tr>\n",
       "  </tbody>\n",
       "</table>\n",
       "</div>"
      ],
      "text/plain": [
       "  company_code date_of_sale                   address\n",
       "0         Abcd   12/05/2002        9910 Surrey Avenue\n",
       "1         EFGF   16/02/1999       92 N. Bishop Avenue\n",
       "2      zefsalf   05/09/1998   9910 Golden Star Avenue\n",
       "3      sdfslew   12/02/2022            102 Dunbar St.\n",
       "4      zekfsdf   15/09/1997  17 West Livingston Court"
      ]
     },
     "execution_count": 230,
     "metadata": {},
     "output_type": "execute_result"
    }
   ],
   "source": [
    "df = pd.DataFrame({\n",
    "    'company_code': ['Abcd','EFGF', 'zefsalf', 'sdfslew', 'zekfsdf'],\n",
    "    'date_of_sale': ['12/05/2002','16/02/1999','05/09/1998','12/02/2022','15/09/1997'],\n",
    "    'address': ['9910 Surrey Avenue','92 N. Bishop Avenue','9910 Golden Star Avenue', '102 Dunbar St.', '17 West Livingston Court']\n",
    "})\n",
    "df"
   ]
  },
  {
   "cell_type": "code",
   "execution_count": 231,
   "id": "157ae247-8d1f-4609-a042-291c000cffae",
   "metadata": {},
   "outputs": [],
   "source": [
    "import re"
   ]
  },
  {
   "cell_type": "code",
   "execution_count": 248,
   "id": "4b188feb-e227-4e32-a53b-7f084258b3d9",
   "metadata": {},
   "outputs": [],
   "source": [
    "pattern = r\"([^.]*Avenue[^.]*)\"\n",
    "\n",
    "df[\"filtered_sentances\"] = df[\"address\"].apply(lambda sent: re.findall(pattern, sent))"
   ]
  },
  {
   "cell_type": "code",
   "execution_count": 249,
   "id": "9ea7d9ec-f792-4373-ba4d-60a5631844b8",
   "metadata": {},
   "outputs": [
    {
     "data": {
      "text/html": [
       "<div>\n",
       "<style scoped>\n",
       "    .dataframe tbody tr th:only-of-type {\n",
       "        vertical-align: middle;\n",
       "    }\n",
       "\n",
       "    .dataframe tbody tr th {\n",
       "        vertical-align: top;\n",
       "    }\n",
       "\n",
       "    .dataframe thead th {\n",
       "        text-align: right;\n",
       "    }\n",
       "</style>\n",
       "<table border=\"1\" class=\"dataframe\">\n",
       "  <thead>\n",
       "    <tr style=\"text-align: right;\">\n",
       "      <th></th>\n",
       "      <th>company_code</th>\n",
       "      <th>date_of_sale</th>\n",
       "      <th>address</th>\n",
       "      <th>filtered_sentances</th>\n",
       "    </tr>\n",
       "  </thead>\n",
       "  <tbody>\n",
       "    <tr>\n",
       "      <th>0</th>\n",
       "      <td>Abcd</td>\n",
       "      <td>12/05/2002</td>\n",
       "      <td>9910 Surrey Avenue</td>\n",
       "      <td>[9910 Surrey Avenue]</td>\n",
       "    </tr>\n",
       "    <tr>\n",
       "      <th>1</th>\n",
       "      <td>EFGF</td>\n",
       "      <td>16/02/1999</td>\n",
       "      <td>92 N. Bishop Avenue</td>\n",
       "      <td>[ Bishop Avenue]</td>\n",
       "    </tr>\n",
       "    <tr>\n",
       "      <th>2</th>\n",
       "      <td>zefsalf</td>\n",
       "      <td>05/09/1998</td>\n",
       "      <td>9910 Golden Star Avenue</td>\n",
       "      <td>[9910 Golden Star Avenue]</td>\n",
       "    </tr>\n",
       "    <tr>\n",
       "      <th>3</th>\n",
       "      <td>sdfslew</td>\n",
       "      <td>12/02/2022</td>\n",
       "      <td>102 Dunbar St.</td>\n",
       "      <td>[]</td>\n",
       "    </tr>\n",
       "    <tr>\n",
       "      <th>4</th>\n",
       "      <td>zekfsdf</td>\n",
       "      <td>15/09/1997</td>\n",
       "      <td>17 West Livingston Court</td>\n",
       "      <td>[]</td>\n",
       "    </tr>\n",
       "  </tbody>\n",
       "</table>\n",
       "</div>"
      ],
      "text/plain": [
       "  company_code date_of_sale                   address  \\\n",
       "0         Abcd   12/05/2002        9910 Surrey Avenue   \n",
       "1         EFGF   16/02/1999       92 N. Bishop Avenue   \n",
       "2      zefsalf   05/09/1998   9910 Golden Star Avenue   \n",
       "3      sdfslew   12/02/2022            102 Dunbar St.   \n",
       "4      zekfsdf   15/09/1997  17 West Livingston Court   \n",
       "\n",
       "          filtered_sentances  \n",
       "0       [9910 Surrey Avenue]  \n",
       "1           [ Bishop Avenue]  \n",
       "2  [9910 Golden Star Avenue]  \n",
       "3                         []  \n",
       "4                         []  "
      ]
     },
     "execution_count": 249,
     "metadata": {},
     "output_type": "execute_result"
    }
   ],
   "source": [
    "df"
   ]
  },
  {
   "cell_type": "code",
   "execution_count": null,
   "id": "e7cbb4e0-f42e-450a-a2f7-5a3014494cd6",
   "metadata": {},
   "outputs": [],
   "source": []
  },
  {
   "cell_type": "markdown",
   "id": "7e0f12cc-b71f-4347-b71a-1fcbd100ddd4",
   "metadata": {},
   "source": [
    "### 3 Pandas Merging, Joining and Grouping"
   ]
  },
  {
   "cell_type": "markdown",
   "id": "fa864358-24b9-417b-af8f-0fe240ede5c0",
   "metadata": {},
   "source": [
    "#### Joining and Merging Exercises"
   ]
  },
  {
   "cell_type": "markdown",
   "id": "dab8d37c-95f7-446c-881c-5a404992b0d8",
   "metadata": {},
   "source": [
    "#1. Write a Pandas program to join the two given dataframes along rows and merge with another dataframe along the common column id."
   ]
  },
  {
   "cell_type": "code",
   "execution_count": 250,
   "id": "5f90f0b2-a0b1-43a7-b0f7-b6c56be2d1cb",
   "metadata": {},
   "outputs": [],
   "source": [
    "df1 = pd.DataFrame({\n",
    "        'student_id': ['S1', 'S2', 'S3', 'S4', 'S5'],\n",
    "         'name': ['Danniella Fenton', 'Ryder Storey', 'Bryce Jensen', 'Ed Bernal', 'Kwame Morin'], \n",
    "        'marks': [200, 210, 190, 222, 199]\n",
    "})\n",
    "\n",
    "df2 = pd.DataFrame({\n",
    "        'student_id': ['S4', 'S5', 'S6', 'S7', 'S8'],\n",
    "        'name': ['Scarlette Fisher', 'Carla Williamson', 'Dante Morse', 'Kaiser William', 'Madeeha Preston'], \n",
    "        'marks': [201, 200, 198, 219, 201]\n",
    "})\n",
    "\n",
    "exam_df = pd.DataFrame({\n",
    "        'student_id': ['S1', 'S2', 'S3', 'S4', 'S5', 'S7', 'S8', 'S9', 'S10', 'S11', 'S12', 'S13'],\n",
    "        'exam_id': [23, 45, 12, 67, 21, 55, 33, 14, 56, 83, 88, 12]\n",
    "})"
   ]
  },
  {
   "cell_type": "code",
   "execution_count": 251,
   "id": "c6feafb7-a522-466c-b4dd-d1515cc8ec0e",
   "metadata": {},
   "outputs": [
    {
     "data": {
      "text/html": [
       "<div>\n",
       "<style scoped>\n",
       "    .dataframe tbody tr th:only-of-type {\n",
       "        vertical-align: middle;\n",
       "    }\n",
       "\n",
       "    .dataframe tbody tr th {\n",
       "        vertical-align: top;\n",
       "    }\n",
       "\n",
       "    .dataframe thead th {\n",
       "        text-align: right;\n",
       "    }\n",
       "</style>\n",
       "<table border=\"1\" class=\"dataframe\">\n",
       "  <thead>\n",
       "    <tr style=\"text-align: right;\">\n",
       "      <th></th>\n",
       "      <th>student_id</th>\n",
       "      <th>name</th>\n",
       "      <th>marks</th>\n",
       "    </tr>\n",
       "  </thead>\n",
       "  <tbody>\n",
       "    <tr>\n",
       "      <th>0</th>\n",
       "      <td>S1</td>\n",
       "      <td>Danniella Fenton</td>\n",
       "      <td>200</td>\n",
       "    </tr>\n",
       "    <tr>\n",
       "      <th>1</th>\n",
       "      <td>S2</td>\n",
       "      <td>Ryder Storey</td>\n",
       "      <td>210</td>\n",
       "    </tr>\n",
       "    <tr>\n",
       "      <th>2</th>\n",
       "      <td>S3</td>\n",
       "      <td>Bryce Jensen</td>\n",
       "      <td>190</td>\n",
       "    </tr>\n",
       "    <tr>\n",
       "      <th>3</th>\n",
       "      <td>S4</td>\n",
       "      <td>Ed Bernal</td>\n",
       "      <td>222</td>\n",
       "    </tr>\n",
       "    <tr>\n",
       "      <th>4</th>\n",
       "      <td>S5</td>\n",
       "      <td>Kwame Morin</td>\n",
       "      <td>199</td>\n",
       "    </tr>\n",
       "  </tbody>\n",
       "</table>\n",
       "</div>"
      ],
      "text/plain": [
       "  student_id              name  marks\n",
       "0         S1  Danniella Fenton    200\n",
       "1         S2      Ryder Storey    210\n",
       "2         S3      Bryce Jensen    190\n",
       "3         S4         Ed Bernal    222\n",
       "4         S5       Kwame Morin    199"
      ]
     },
     "execution_count": 251,
     "metadata": {},
     "output_type": "execute_result"
    }
   ],
   "source": [
    "df1"
   ]
  },
  {
   "cell_type": "code",
   "execution_count": 252,
   "id": "bcef8e28-fab9-48ae-a3c0-78477204fe18",
   "metadata": {},
   "outputs": [
    {
     "data": {
      "text/html": [
       "<div>\n",
       "<style scoped>\n",
       "    .dataframe tbody tr th:only-of-type {\n",
       "        vertical-align: middle;\n",
       "    }\n",
       "\n",
       "    .dataframe tbody tr th {\n",
       "        vertical-align: top;\n",
       "    }\n",
       "\n",
       "    .dataframe thead th {\n",
       "        text-align: right;\n",
       "    }\n",
       "</style>\n",
       "<table border=\"1\" class=\"dataframe\">\n",
       "  <thead>\n",
       "    <tr style=\"text-align: right;\">\n",
       "      <th></th>\n",
       "      <th>student_id</th>\n",
       "      <th>name</th>\n",
       "      <th>marks</th>\n",
       "    </tr>\n",
       "  </thead>\n",
       "  <tbody>\n",
       "    <tr>\n",
       "      <th>0</th>\n",
       "      <td>S4</td>\n",
       "      <td>Scarlette Fisher</td>\n",
       "      <td>201</td>\n",
       "    </tr>\n",
       "    <tr>\n",
       "      <th>1</th>\n",
       "      <td>S5</td>\n",
       "      <td>Carla Williamson</td>\n",
       "      <td>200</td>\n",
       "    </tr>\n",
       "    <tr>\n",
       "      <th>2</th>\n",
       "      <td>S6</td>\n",
       "      <td>Dante Morse</td>\n",
       "      <td>198</td>\n",
       "    </tr>\n",
       "    <tr>\n",
       "      <th>3</th>\n",
       "      <td>S7</td>\n",
       "      <td>Kaiser William</td>\n",
       "      <td>219</td>\n",
       "    </tr>\n",
       "    <tr>\n",
       "      <th>4</th>\n",
       "      <td>S8</td>\n",
       "      <td>Madeeha Preston</td>\n",
       "      <td>201</td>\n",
       "    </tr>\n",
       "  </tbody>\n",
       "</table>\n",
       "</div>"
      ],
      "text/plain": [
       "  student_id              name  marks\n",
       "0         S4  Scarlette Fisher    201\n",
       "1         S5  Carla Williamson    200\n",
       "2         S6       Dante Morse    198\n",
       "3         S7    Kaiser William    219\n",
       "4         S8   Madeeha Preston    201"
      ]
     },
     "execution_count": 252,
     "metadata": {},
     "output_type": "execute_result"
    }
   ],
   "source": [
    "df2"
   ]
  },
  {
   "cell_type": "code",
   "execution_count": 253,
   "id": "fdb0692c-58a2-490c-80d1-13532fbf4d25",
   "metadata": {
    "scrolled": true
   },
   "outputs": [
    {
     "data": {
      "text/html": [
       "<div>\n",
       "<style scoped>\n",
       "    .dataframe tbody tr th:only-of-type {\n",
       "        vertical-align: middle;\n",
       "    }\n",
       "\n",
       "    .dataframe tbody tr th {\n",
       "        vertical-align: top;\n",
       "    }\n",
       "\n",
       "    .dataframe thead th {\n",
       "        text-align: right;\n",
       "    }\n",
       "</style>\n",
       "<table border=\"1\" class=\"dataframe\">\n",
       "  <thead>\n",
       "    <tr style=\"text-align: right;\">\n",
       "      <th></th>\n",
       "      <th>student_id</th>\n",
       "      <th>exam_id</th>\n",
       "    </tr>\n",
       "  </thead>\n",
       "  <tbody>\n",
       "    <tr>\n",
       "      <th>0</th>\n",
       "      <td>S1</td>\n",
       "      <td>23</td>\n",
       "    </tr>\n",
       "    <tr>\n",
       "      <th>1</th>\n",
       "      <td>S2</td>\n",
       "      <td>45</td>\n",
       "    </tr>\n",
       "    <tr>\n",
       "      <th>2</th>\n",
       "      <td>S3</td>\n",
       "      <td>12</td>\n",
       "    </tr>\n",
       "    <tr>\n",
       "      <th>3</th>\n",
       "      <td>S4</td>\n",
       "      <td>67</td>\n",
       "    </tr>\n",
       "    <tr>\n",
       "      <th>4</th>\n",
       "      <td>S5</td>\n",
       "      <td>21</td>\n",
       "    </tr>\n",
       "    <tr>\n",
       "      <th>5</th>\n",
       "      <td>S7</td>\n",
       "      <td>55</td>\n",
       "    </tr>\n",
       "    <tr>\n",
       "      <th>6</th>\n",
       "      <td>S8</td>\n",
       "      <td>33</td>\n",
       "    </tr>\n",
       "    <tr>\n",
       "      <th>7</th>\n",
       "      <td>S9</td>\n",
       "      <td>14</td>\n",
       "    </tr>\n",
       "    <tr>\n",
       "      <th>8</th>\n",
       "      <td>S10</td>\n",
       "      <td>56</td>\n",
       "    </tr>\n",
       "    <tr>\n",
       "      <th>9</th>\n",
       "      <td>S11</td>\n",
       "      <td>83</td>\n",
       "    </tr>\n",
       "    <tr>\n",
       "      <th>10</th>\n",
       "      <td>S12</td>\n",
       "      <td>88</td>\n",
       "    </tr>\n",
       "    <tr>\n",
       "      <th>11</th>\n",
       "      <td>S13</td>\n",
       "      <td>12</td>\n",
       "    </tr>\n",
       "  </tbody>\n",
       "</table>\n",
       "</div>"
      ],
      "text/plain": [
       "   student_id  exam_id\n",
       "0          S1       23\n",
       "1          S2       45\n",
       "2          S3       12\n",
       "3          S4       67\n",
       "4          S5       21\n",
       "5          S7       55\n",
       "6          S8       33\n",
       "7          S9       14\n",
       "8         S10       56\n",
       "9         S11       83\n",
       "10        S12       88\n",
       "11        S13       12"
      ]
     },
     "execution_count": 253,
     "metadata": {},
     "output_type": "execute_result"
    }
   ],
   "source": [
    "exam_df"
   ]
  },
  {
   "cell_type": "code",
   "execution_count": 258,
   "id": "6ba362a2-f727-402b-b6d7-139f6562b61e",
   "metadata": {},
   "outputs": [],
   "source": [
    "result = pd.concat([df1, df2])"
   ]
  },
  {
   "cell_type": "code",
   "execution_count": 261,
   "id": "61a6fd42-3549-4bc0-adbb-d64df2e41049",
   "metadata": {},
   "outputs": [
    {
     "data": {
      "text/html": [
       "<div>\n",
       "<style scoped>\n",
       "    .dataframe tbody tr th:only-of-type {\n",
       "        vertical-align: middle;\n",
       "    }\n",
       "\n",
       "    .dataframe tbody tr th {\n",
       "        vertical-align: top;\n",
       "    }\n",
       "\n",
       "    .dataframe thead th {\n",
       "        text-align: right;\n",
       "    }\n",
       "</style>\n",
       "<table border=\"1\" class=\"dataframe\">\n",
       "  <thead>\n",
       "    <tr style=\"text-align: right;\">\n",
       "      <th></th>\n",
       "      <th>student_id</th>\n",
       "      <th>name</th>\n",
       "      <th>marks</th>\n",
       "      <th>exam_id</th>\n",
       "    </tr>\n",
       "  </thead>\n",
       "  <tbody>\n",
       "    <tr>\n",
       "      <th>0</th>\n",
       "      <td>S1</td>\n",
       "      <td>Danniella Fenton</td>\n",
       "      <td>200</td>\n",
       "      <td>23</td>\n",
       "    </tr>\n",
       "    <tr>\n",
       "      <th>1</th>\n",
       "      <td>S2</td>\n",
       "      <td>Ryder Storey</td>\n",
       "      <td>210</td>\n",
       "      <td>45</td>\n",
       "    </tr>\n",
       "    <tr>\n",
       "      <th>2</th>\n",
       "      <td>S3</td>\n",
       "      <td>Bryce Jensen</td>\n",
       "      <td>190</td>\n",
       "      <td>12</td>\n",
       "    </tr>\n",
       "    <tr>\n",
       "      <th>3</th>\n",
       "      <td>S4</td>\n",
       "      <td>Ed Bernal</td>\n",
       "      <td>222</td>\n",
       "      <td>67</td>\n",
       "    </tr>\n",
       "    <tr>\n",
       "      <th>4</th>\n",
       "      <td>S5</td>\n",
       "      <td>Kwame Morin</td>\n",
       "      <td>199</td>\n",
       "      <td>21</td>\n",
       "    </tr>\n",
       "    <tr>\n",
       "      <th>5</th>\n",
       "      <td>S4</td>\n",
       "      <td>Scarlette Fisher</td>\n",
       "      <td>201</td>\n",
       "      <td>67</td>\n",
       "    </tr>\n",
       "    <tr>\n",
       "      <th>6</th>\n",
       "      <td>S5</td>\n",
       "      <td>Carla Williamson</td>\n",
       "      <td>200</td>\n",
       "      <td>21</td>\n",
       "    </tr>\n",
       "    <tr>\n",
       "      <th>7</th>\n",
       "      <td>S7</td>\n",
       "      <td>Kaiser William</td>\n",
       "      <td>219</td>\n",
       "      <td>55</td>\n",
       "    </tr>\n",
       "    <tr>\n",
       "      <th>8</th>\n",
       "      <td>S8</td>\n",
       "      <td>Madeeha Preston</td>\n",
       "      <td>201</td>\n",
       "      <td>33</td>\n",
       "    </tr>\n",
       "  </tbody>\n",
       "</table>\n",
       "</div>"
      ],
      "text/plain": [
       "  student_id              name  marks  exam_id\n",
       "0         S1  Danniella Fenton    200       23\n",
       "1         S2      Ryder Storey    210       45\n",
       "2         S3      Bryce Jensen    190       12\n",
       "3         S4         Ed Bernal    222       67\n",
       "4         S5       Kwame Morin    199       21\n",
       "5         S4  Scarlette Fisher    201       67\n",
       "6         S5  Carla Williamson    200       21\n",
       "7         S7    Kaiser William    219       55\n",
       "8         S8   Madeeha Preston    201       33"
      ]
     },
     "execution_count": 261,
     "metadata": {},
     "output_type": "execute_result"
    }
   ],
   "source": [
    "pd.merge(result, exam_df, on=\"student_id\")"
   ]
  },
  {
   "cell_type": "code",
   "execution_count": null,
   "id": "8bf9fa55-c427-4c2b-b816-1757f80fa075",
   "metadata": {},
   "outputs": [],
   "source": []
  },
  {
   "cell_type": "markdown",
   "id": "59fb8c7e-ab9f-4f08-81e9-6cb83f4fd796",
   "metadata": {},
   "source": [
    "#2. Write a Pandas program to join the two dataframes using the common column of both dataframes."
   ]
  },
  {
   "cell_type": "code",
   "execution_count": 262,
   "id": "74f7f829-08bf-47bb-8b1f-29c60e67acfb",
   "metadata": {},
   "outputs": [
    {
     "data": {
      "text/html": [
       "<div>\n",
       "<style scoped>\n",
       "    .dataframe tbody tr th:only-of-type {\n",
       "        vertical-align: middle;\n",
       "    }\n",
       "\n",
       "    .dataframe tbody tr th {\n",
       "        vertical-align: top;\n",
       "    }\n",
       "\n",
       "    .dataframe thead th {\n",
       "        text-align: right;\n",
       "    }\n",
       "</style>\n",
       "<table border=\"1\" class=\"dataframe\">\n",
       "  <thead>\n",
       "    <tr style=\"text-align: right;\">\n",
       "      <th></th>\n",
       "      <th>student_id</th>\n",
       "      <th>name_x</th>\n",
       "      <th>marks_x</th>\n",
       "      <th>name_y</th>\n",
       "      <th>marks_y</th>\n",
       "    </tr>\n",
       "  </thead>\n",
       "  <tbody>\n",
       "    <tr>\n",
       "      <th>0</th>\n",
       "      <td>S4</td>\n",
       "      <td>Ed Bernal</td>\n",
       "      <td>222</td>\n",
       "      <td>Scarlette Fisher</td>\n",
       "      <td>201</td>\n",
       "    </tr>\n",
       "    <tr>\n",
       "      <th>1</th>\n",
       "      <td>S5</td>\n",
       "      <td>Kwame Morin</td>\n",
       "      <td>199</td>\n",
       "      <td>Carla Williamson</td>\n",
       "      <td>200</td>\n",
       "    </tr>\n",
       "  </tbody>\n",
       "</table>\n",
       "</div>"
      ],
      "text/plain": [
       "  student_id       name_x  marks_x            name_y  marks_y\n",
       "0         S4    Ed Bernal      222  Scarlette Fisher      201\n",
       "1         S5  Kwame Morin      199  Carla Williamson      200"
      ]
     },
     "execution_count": 262,
     "metadata": {},
     "output_type": "execute_result"
    }
   ],
   "source": [
    "pd.merge(df1, df2, on=\"student_id\")"
   ]
  },
  {
   "cell_type": "markdown",
   "id": "cf8fd15d-d820-46e8-b4bd-6e9b03b048ff",
   "metadata": {},
   "source": [
    "#3. Write a Pandas program to Combine two DataFrame objects by filling null values in one DataFrame with non-null values from other DataFrame."
   ]
  },
  {
   "cell_type": "code",
   "execution_count": 286,
   "id": "5466330c-1886-4875-a258-b51e2d985052",
   "metadata": {},
   "outputs": [
    {
     "data": {
      "text/html": [
       "<div>\n",
       "<style scoped>\n",
       "    .dataframe tbody tr th:only-of-type {\n",
       "        vertical-align: middle;\n",
       "    }\n",
       "\n",
       "    .dataframe tbody tr th {\n",
       "        vertical-align: top;\n",
       "    }\n",
       "\n",
       "    .dataframe thead th {\n",
       "        text-align: right;\n",
       "    }\n",
       "</style>\n",
       "<table border=\"1\" class=\"dataframe\">\n",
       "  <thead>\n",
       "    <tr style=\"text-align: right;\">\n",
       "      <th></th>\n",
       "      <th>A</th>\n",
       "      <th>B</th>\n",
       "    </tr>\n",
       "  </thead>\n",
       "  <tbody>\n",
       "    <tr>\n",
       "      <th>0</th>\n",
       "      <td>1.0</td>\n",
       "      <td>3.0</td>\n",
       "    </tr>\n",
       "    <tr>\n",
       "      <th>1</th>\n",
       "      <td>0.0</td>\n",
       "      <td>4.0</td>\n",
       "    </tr>\n",
       "    <tr>\n",
       "      <th>2</th>\n",
       "      <td>3.0</td>\n",
       "      <td>5.0</td>\n",
       "    </tr>\n",
       "  </tbody>\n",
       "</table>\n",
       "</div>"
      ],
      "text/plain": [
       "     A    B\n",
       "0  1.0  3.0\n",
       "1  0.0  4.0\n",
       "2  3.0  5.0"
      ]
     },
     "execution_count": 286,
     "metadata": {},
     "output_type": "execute_result"
    }
   ],
   "source": [
    "import numpy as np\n",
    "df1 = pd.DataFrame({'A': [None, 0, None], 'B': [3, 4, 5]})\n",
    "df2 = pd.DataFrame({'A': [1, 1, 3], 'B': [3, None, 3]})\n",
    "\n",
    "resulted = df1.combine_first(df2)\n",
    "resulted"
   ]
  },
  {
   "cell_type": "code",
   "execution_count": 273,
   "id": "fc51dd20-5434-454d-a20e-d7294f35ad10",
   "metadata": {},
   "outputs": [
    {
     "data": {
      "text/html": [
       "<div>\n",
       "<style scoped>\n",
       "    .dataframe tbody tr th:only-of-type {\n",
       "        vertical-align: middle;\n",
       "    }\n",
       "\n",
       "    .dataframe tbody tr th {\n",
       "        vertical-align: top;\n",
       "    }\n",
       "\n",
       "    .dataframe thead th {\n",
       "        text-align: right;\n",
       "    }\n",
       "</style>\n",
       "<table border=\"1\" class=\"dataframe\">\n",
       "  <thead>\n",
       "    <tr style=\"text-align: right;\">\n",
       "      <th></th>\n",
       "      <th>A</th>\n",
       "      <th>B</th>\n",
       "    </tr>\n",
       "  </thead>\n",
       "  <tbody>\n",
       "    <tr>\n",
       "      <th>0</th>\n",
       "      <td>NaN</td>\n",
       "      <td>3</td>\n",
       "    </tr>\n",
       "    <tr>\n",
       "      <th>1</th>\n",
       "      <td>0.0</td>\n",
       "      <td>4</td>\n",
       "    </tr>\n",
       "    <tr>\n",
       "      <th>2</th>\n",
       "      <td>NaN</td>\n",
       "      <td>5</td>\n",
       "    </tr>\n",
       "  </tbody>\n",
       "</table>\n",
       "</div>"
      ],
      "text/plain": [
       "     A  B\n",
       "0  NaN  3\n",
       "1  0.0  4\n",
       "2  NaN  5"
      ]
     },
     "execution_count": 273,
     "metadata": {},
     "output_type": "execute_result"
    }
   ],
   "source": [
    "fina"
   ]
  },
  {
   "cell_type": "code",
   "execution_count": null,
   "id": "cd8b4e72-1072-4d32-abca-05423afea5ef",
   "metadata": {},
   "outputs": [],
   "source": []
  },
  {
   "cell_type": "markdown",
   "id": "9d96d8bd-bf59-4bd8-beab-dbf5f28567e0",
   "metadata": {},
   "source": [
    "#### Grouping and Aggregating Exercises"
   ]
  },
  {
   "cell_type": "markdown",
   "id": "a1d18e4b-8842-45b7-9267-ce3b1a62dd97",
   "metadata": {},
   "source": [
    "#1. Write a Pandas program to split the following dataframe by school code and get mean, min, and max value of age for each school."
   ]
  },
  {
   "cell_type": "code",
   "execution_count": 287,
   "id": "169c7c7a-93e7-4d05-8085-8f5a9db13dfd",
   "metadata": {},
   "outputs": [
    {
     "data": {
      "text/html": [
       "<div>\n",
       "<style scoped>\n",
       "    .dataframe tbody tr th:only-of-type {\n",
       "        vertical-align: middle;\n",
       "    }\n",
       "\n",
       "    .dataframe tbody tr th {\n",
       "        vertical-align: top;\n",
       "    }\n",
       "\n",
       "    .dataframe thead th {\n",
       "        text-align: right;\n",
       "    }\n",
       "</style>\n",
       "<table border=\"1\" class=\"dataframe\">\n",
       "  <thead>\n",
       "    <tr style=\"text-align: right;\">\n",
       "      <th></th>\n",
       "      <th>school_code</th>\n",
       "      <th>class</th>\n",
       "      <th>name</th>\n",
       "      <th>date_Of_Birth</th>\n",
       "      <th>age</th>\n",
       "      <th>height</th>\n",
       "      <th>weight</th>\n",
       "      <th>address</th>\n",
       "    </tr>\n",
       "  </thead>\n",
       "  <tbody>\n",
       "    <tr>\n",
       "      <th>S1</th>\n",
       "      <td>s001</td>\n",
       "      <td>V</td>\n",
       "      <td>Alberto Franco</td>\n",
       "      <td>15/05/2002</td>\n",
       "      <td>12</td>\n",
       "      <td>173</td>\n",
       "      <td>35</td>\n",
       "      <td>street1</td>\n",
       "    </tr>\n",
       "    <tr>\n",
       "      <th>S2</th>\n",
       "      <td>s002</td>\n",
       "      <td>V</td>\n",
       "      <td>Gino Mcneill</td>\n",
       "      <td>17/05/2002</td>\n",
       "      <td>12</td>\n",
       "      <td>192</td>\n",
       "      <td>32</td>\n",
       "      <td>street2</td>\n",
       "    </tr>\n",
       "    <tr>\n",
       "      <th>S3</th>\n",
       "      <td>s003</td>\n",
       "      <td>VI</td>\n",
       "      <td>Ryan Parkes</td>\n",
       "      <td>16/02/1999</td>\n",
       "      <td>13</td>\n",
       "      <td>186</td>\n",
       "      <td>33</td>\n",
       "      <td>street3</td>\n",
       "    </tr>\n",
       "    <tr>\n",
       "      <th>S4</th>\n",
       "      <td>s001</td>\n",
       "      <td>VI</td>\n",
       "      <td>Eesha Hinton</td>\n",
       "      <td>25/09/1998</td>\n",
       "      <td>13</td>\n",
       "      <td>167</td>\n",
       "      <td>30</td>\n",
       "      <td>street1</td>\n",
       "    </tr>\n",
       "    <tr>\n",
       "      <th>S5</th>\n",
       "      <td>s002</td>\n",
       "      <td>V</td>\n",
       "      <td>Gino Mcneill</td>\n",
       "      <td>11/05/2002</td>\n",
       "      <td>14</td>\n",
       "      <td>151</td>\n",
       "      <td>31</td>\n",
       "      <td>street2</td>\n",
       "    </tr>\n",
       "    <tr>\n",
       "      <th>S6</th>\n",
       "      <td>s004</td>\n",
       "      <td>VI</td>\n",
       "      <td>David Parkes</td>\n",
       "      <td>15/09/1997</td>\n",
       "      <td>12</td>\n",
       "      <td>159</td>\n",
       "      <td>32</td>\n",
       "      <td>street4</td>\n",
       "    </tr>\n",
       "  </tbody>\n",
       "</table>\n",
       "</div>"
      ],
      "text/plain": [
       "   school_code class            name date_Of_Birth   age  height  weight  \\\n",
       "S1        s001     V  Alberto Franco     15/05/2002   12     173      35   \n",
       "S2        s002     V    Gino Mcneill     17/05/2002   12     192      32   \n",
       "S3        s003    VI     Ryan Parkes     16/02/1999   13     186      33   \n",
       "S4        s001    VI    Eesha Hinton     25/09/1998   13     167      30   \n",
       "S5        s002     V    Gino Mcneill     11/05/2002   14     151      31   \n",
       "S6        s004    VI    David Parkes     15/09/1997   12     159      32   \n",
       "\n",
       "    address  \n",
       "S1  street1  \n",
       "S2  street2  \n",
       "S3  street3  \n",
       "S4  street1  \n",
       "S5  street2  \n",
       "S6  street4  "
      ]
     },
     "execution_count": 287,
     "metadata": {},
     "output_type": "execute_result"
    }
   ],
   "source": [
    "df = pd.DataFrame({\n",
    "    'school_code': ['s001','s002','s003','s001','s002','s004'],\n",
    "    'class': ['V', 'V', 'VI', 'VI', 'V', 'VI'],\n",
    "    'name': ['Alberto Franco','Gino Mcneill','Ryan Parkes', 'Eesha Hinton', 'Gino Mcneill', 'David Parkes'],\n",
    "    'date_Of_Birth ': ['15/05/2002','17/05/2002','16/02/1999','25/09/1998','11/05/2002','15/09/1997'],\n",
    "    'age': [12, 12, 13, 13, 14, 12],\n",
    "    'height': [173, 192, 186, 167, 151, 159],\n",
    "    'weight': [35, 32, 33, 30, 31, 32],\n",
    "    'address': ['street1', 'street2', 'street3', 'street1', 'street2', 'street4']\n",
    "}, index=['S1', 'S2', 'S3', 'S4', 'S5', 'S6'])\n",
    "\n",
    "df"
   ]
  },
  {
   "cell_type": "code",
   "execution_count": 311,
   "id": "64fddaed-adc4-4a59-9e8a-65e57f6d05ad",
   "metadata": {},
   "outputs": [],
   "source": [
    "result = df.groupby(\"school_code\").agg({\"age\": [\"mean\", \"max\", \"min\"], \"height\": [\"mean\", \"max\", \"min\"], \"weight\": [\"mean\", \"max\", \"min\"]})"
   ]
  },
  {
   "cell_type": "code",
   "execution_count": 312,
   "id": "6aae6fdd-9643-452c-834a-d4b72727b639",
   "metadata": {},
   "outputs": [
    {
     "data": {
      "text/html": [
       "<div>\n",
       "<style scoped>\n",
       "    .dataframe tbody tr th:only-of-type {\n",
       "        vertical-align: middle;\n",
       "    }\n",
       "\n",
       "    .dataframe tbody tr th {\n",
       "        vertical-align: top;\n",
       "    }\n",
       "\n",
       "    .dataframe thead tr th {\n",
       "        text-align: left;\n",
       "    }\n",
       "\n",
       "    .dataframe thead tr:last-of-type th {\n",
       "        text-align: right;\n",
       "    }\n",
       "</style>\n",
       "<table border=\"1\" class=\"dataframe\">\n",
       "  <thead>\n",
       "    <tr>\n",
       "      <th></th>\n",
       "      <th colspan=\"3\" halign=\"left\">age</th>\n",
       "      <th colspan=\"3\" halign=\"left\">height</th>\n",
       "      <th colspan=\"3\" halign=\"left\">weight</th>\n",
       "    </tr>\n",
       "    <tr>\n",
       "      <th></th>\n",
       "      <th>mean</th>\n",
       "      <th>max</th>\n",
       "      <th>min</th>\n",
       "      <th>mean</th>\n",
       "      <th>max</th>\n",
       "      <th>min</th>\n",
       "      <th>mean</th>\n",
       "      <th>max</th>\n",
       "      <th>min</th>\n",
       "    </tr>\n",
       "    <tr>\n",
       "      <th>school_code</th>\n",
       "      <th></th>\n",
       "      <th></th>\n",
       "      <th></th>\n",
       "      <th></th>\n",
       "      <th></th>\n",
       "      <th></th>\n",
       "      <th></th>\n",
       "      <th></th>\n",
       "      <th></th>\n",
       "    </tr>\n",
       "  </thead>\n",
       "  <tbody>\n",
       "    <tr>\n",
       "      <th>s001</th>\n",
       "      <td>12.5</td>\n",
       "      <td>13</td>\n",
       "      <td>12</td>\n",
       "      <td>170.0</td>\n",
       "      <td>173</td>\n",
       "      <td>167</td>\n",
       "      <td>32.5</td>\n",
       "      <td>35</td>\n",
       "      <td>30</td>\n",
       "    </tr>\n",
       "    <tr>\n",
       "      <th>s002</th>\n",
       "      <td>13.0</td>\n",
       "      <td>14</td>\n",
       "      <td>12</td>\n",
       "      <td>171.5</td>\n",
       "      <td>192</td>\n",
       "      <td>151</td>\n",
       "      <td>31.5</td>\n",
       "      <td>32</td>\n",
       "      <td>31</td>\n",
       "    </tr>\n",
       "    <tr>\n",
       "      <th>s003</th>\n",
       "      <td>13.0</td>\n",
       "      <td>13</td>\n",
       "      <td>13</td>\n",
       "      <td>186.0</td>\n",
       "      <td>186</td>\n",
       "      <td>186</td>\n",
       "      <td>33.0</td>\n",
       "      <td>33</td>\n",
       "      <td>33</td>\n",
       "    </tr>\n",
       "    <tr>\n",
       "      <th>s004</th>\n",
       "      <td>12.0</td>\n",
       "      <td>12</td>\n",
       "      <td>12</td>\n",
       "      <td>159.0</td>\n",
       "      <td>159</td>\n",
       "      <td>159</td>\n",
       "      <td>32.0</td>\n",
       "      <td>32</td>\n",
       "      <td>32</td>\n",
       "    </tr>\n",
       "  </tbody>\n",
       "</table>\n",
       "</div>"
      ],
      "text/plain": [
       "              age         height           weight        \n",
       "             mean max min   mean  max  min   mean max min\n",
       "school_code                                              \n",
       "s001         12.5  13  12  170.0  173  167   32.5  35  30\n",
       "s002         13.0  14  12  171.5  192  151   31.5  32  31\n",
       "s003         13.0  13  13  186.0  186  186   33.0  33  33\n",
       "s004         12.0  12  12  159.0  159  159   32.0  32  32"
      ]
     },
     "execution_count": 312,
     "metadata": {},
     "output_type": "execute_result"
    }
   ],
   "source": [
    "result"
   ]
  },
  {
   "cell_type": "code",
   "execution_count": null,
   "id": "4b9c0fc5-c8dd-444e-81a8-89648bcda185",
   "metadata": {},
   "outputs": [],
   "source": []
  },
  {
   "cell_type": "markdown",
   "id": "5cad8721-7ebf-4abb-ab8f-bc2c09e8fd3d",
   "metadata": {},
   "source": [
    "#2. Write a Pandas program to split the following dataset using group by on 'salesman_id' and find the first order date for each group."
   ]
  },
  {
   "cell_type": "code",
   "execution_count": 313,
   "id": "82cb58fd-3c2e-4b51-91d7-464daa428f04",
   "metadata": {},
   "outputs": [],
   "source": [
    "df = pd.DataFrame({\n",
    "    'ord_no':[70001,70009,70002,70004,70007,70005,70008,70010,70003,70012,70011,70013],\n",
    "    'purch_amt':[150.5,270.65,65.26,110.5,948.5,2400.6,5760,1983.43,2480.4,250.45, 75.29,3045.6],\n",
    "    'ord_date': ['2012-10-05','2012-09-10','2012-10-05','2012-08-17','2012-09-10','2012-07-27',\n",
    "                 '2012-09-10','2012-10-10','2012-10-10','2012-06-27','2012-08-17','2012-04-25'],\n",
    "    'customer_id':[3005,3001,3002,3009,3005,3007,3002,3004,3009,3008,3003,3002],\n",
    "    'salesman_id': [5002,5005,5001,5003,5002,5001,5001,5004,5003,5002,5004,5001]\n",
    "})"
   ]
  },
  {
   "cell_type": "code",
   "execution_count": 316,
   "id": "4fa2a8e6-ed0d-465d-b463-8d676eb5fff5",
   "metadata": {},
   "outputs": [
    {
     "data": {
      "text/html": [
       "<div>\n",
       "<style scoped>\n",
       "    .dataframe tbody tr th:only-of-type {\n",
       "        vertical-align: middle;\n",
       "    }\n",
       "\n",
       "    .dataframe tbody tr th {\n",
       "        vertical-align: top;\n",
       "    }\n",
       "\n",
       "    .dataframe thead th {\n",
       "        text-align: right;\n",
       "    }\n",
       "</style>\n",
       "<table border=\"1\" class=\"dataframe\">\n",
       "  <thead>\n",
       "    <tr style=\"text-align: right;\">\n",
       "      <th></th>\n",
       "      <th>ord_no</th>\n",
       "      <th>purch_amt</th>\n",
       "      <th>ord_date</th>\n",
       "      <th>customer_id</th>\n",
       "      <th>salesman_id</th>\n",
       "    </tr>\n",
       "  </thead>\n",
       "  <tbody>\n",
       "    <tr>\n",
       "      <th>0</th>\n",
       "      <td>70001</td>\n",
       "      <td>150.50</td>\n",
       "      <td>2012-10-05</td>\n",
       "      <td>3005</td>\n",
       "      <td>5002</td>\n",
       "    </tr>\n",
       "    <tr>\n",
       "      <th>1</th>\n",
       "      <td>70009</td>\n",
       "      <td>270.65</td>\n",
       "      <td>2012-09-10</td>\n",
       "      <td>3001</td>\n",
       "      <td>5005</td>\n",
       "    </tr>\n",
       "    <tr>\n",
       "      <th>2</th>\n",
       "      <td>70002</td>\n",
       "      <td>65.26</td>\n",
       "      <td>2012-10-05</td>\n",
       "      <td>3002</td>\n",
       "      <td>5001</td>\n",
       "    </tr>\n",
       "  </tbody>\n",
       "</table>\n",
       "</div>"
      ],
      "text/plain": [
       "   ord_no  purch_amt    ord_date  customer_id  salesman_id\n",
       "0   70001     150.50  2012-10-05         3005         5002\n",
       "1   70009     270.65  2012-09-10         3001         5005\n",
       "2   70002      65.26  2012-10-05         3002         5001"
      ]
     },
     "execution_count": 316,
     "metadata": {},
     "output_type": "execute_result"
    }
   ],
   "source": [
    "df.head(3)"
   ]
  },
  {
   "cell_type": "code",
   "execution_count": 321,
   "id": "f298d091-82ce-47cd-9e90-d61f62fedcfa",
   "metadata": {},
   "outputs": [
    {
     "data": {
      "text/plain": [
       "salesman_id\n",
       "5001    2012-04-25\n",
       "5002    2012-06-27\n",
       "5003    2012-08-17\n",
       "5004    2012-08-17\n",
       "5005    2012-09-10\n",
       "Name: ord_date, dtype: object"
      ]
     },
     "execution_count": 321,
     "metadata": {},
     "output_type": "execute_result"
    }
   ],
   "source": [
    "result = df.groupby(\"salesman_id\")\n",
    "result['ord_date'].min()"
   ]
  },
  {
   "cell_type": "code",
   "execution_count": null,
   "id": "863fd7cf-1dac-4b53-a07a-6d1c093d2403",
   "metadata": {},
   "outputs": [],
   "source": []
  },
  {
   "cell_type": "markdown",
   "id": "f1a6a7dd-c3b9-4c07-936e-7464430d42f5",
   "metadata": {},
   "source": [
    "### 4. Pandas Time Series and Date handling"
   ]
  },
  {
   "cell_type": "markdown",
   "id": "bae69f2f-47d4-4944-b128-ee05252a86d2",
   "metadata": {},
   "source": [
    "#### Time Series Exercises"
   ]
  },
  {
   "cell_type": "markdown",
   "id": "469ccb99-84d1-410d-8ae4-a092bef0ff4c",
   "metadata": {},
   "source": [
    "#1. Write a Pandas program to create a yearly time period from a specified year and display the properties of this period."
   ]
  },
  {
   "cell_type": "code",
   "execution_count": 322,
   "id": "7887423e-98c9-4ed3-826c-b2bdbe499b32",
   "metadata": {},
   "outputs": [
    {
     "data": {
      "text/plain": [
       "Period('2025', 'Y-DEC')"
      ]
     },
     "execution_count": 322,
     "metadata": {},
     "output_type": "execute_result"
    }
   ],
   "source": [
    "period = pd.Period(\"2025\", freq=\"Y\")\n",
    "period"
   ]
  },
  {
   "cell_type": "code",
   "execution_count": 324,
   "id": "2722ec91-19ac-4d1d-9316-bdcf89ece9ad",
   "metadata": {},
   "outputs": [
    {
     "name": "stdout",
     "output_type": "stream",
     "text": [
      "Period Year: 2025\n",
      "Period Start Time: 2025-01-01 00:00:00\n",
      "Period End Time: 2025-12-31 23:59:59.999999999\n",
      "Period Frequency: <YearEnd: month=12>\n"
     ]
    }
   ],
   "source": [
    "print(f\"Period Year: {period.year}\")\n",
    "print(f\"Period Start Time: {period.start_time}\")\n",
    "print(f\"Period End Time: {period.end_time}\")\n",
    "print(f\"Period Frequency: {period.freq}\")"
   ]
  },
  {
   "cell_type": "code",
   "execution_count": null,
   "id": "33636904-5d38-4746-ae0a-4d50a4cad460",
   "metadata": {},
   "outputs": [],
   "source": []
  },
  {
   "cell_type": "markdown",
   "id": "6dfcd0bc-70e9-4073-92bb-d9a6a43967fd",
   "metadata": {},
   "source": [
    "### 5. Pandas Advanced Indexing, Slicing and Filtering"
   ]
  },
  {
   "cell_type": "markdown",
   "id": "edbe160b-2cd2-4706-819c-d616223753ba",
   "metadata": {},
   "source": [
    "#### Filter Exercises"
   ]
  },
  {
   "cell_type": "markdown",
   "id": "e5ad0987-1200-41e6-aa52-d33c9ce8e722",
   "metadata": {},
   "source": [
    "#1. Write a Pandas program to display the dimensions or shape of the World alcohol consumption dataset. Also extract the column names from the dataset."
   ]
  },
  {
   "cell_type": "code",
   "execution_count": 330,
   "id": "ac42b3f9-14a1-41b0-a97c-926b5cab60fe",
   "metadata": {},
   "outputs": [
    {
     "data": {
      "text/html": [
       "<div>\n",
       "<style scoped>\n",
       "    .dataframe tbody tr th:only-of-type {\n",
       "        vertical-align: middle;\n",
       "    }\n",
       "\n",
       "    .dataframe tbody tr th {\n",
       "        vertical-align: top;\n",
       "    }\n",
       "\n",
       "    .dataframe thead th {\n",
       "        text-align: right;\n",
       "    }\n",
       "</style>\n",
       "<table border=\"1\" class=\"dataframe\">\n",
       "  <thead>\n",
       "    <tr style=\"text-align: right;\">\n",
       "      <th></th>\n",
       "      <th>Year</th>\n",
       "      <th>WHO region</th>\n",
       "      <th>Country</th>\n",
       "      <th>Beverage Types</th>\n",
       "      <th>Display Value</th>\n",
       "    </tr>\n",
       "  </thead>\n",
       "  <tbody>\n",
       "    <tr>\n",
       "      <th>0</th>\n",
       "      <td>1986</td>\n",
       "      <td>Western Pacific</td>\n",
       "      <td>Viet Nam</td>\n",
       "      <td>Wine</td>\n",
       "      <td>0.00</td>\n",
       "    </tr>\n",
       "    <tr>\n",
       "      <th>1</th>\n",
       "      <td>1986</td>\n",
       "      <td>Americas</td>\n",
       "      <td>Uruguay</td>\n",
       "      <td>Other</td>\n",
       "      <td>0.50</td>\n",
       "    </tr>\n",
       "    <tr>\n",
       "      <th>2</th>\n",
       "      <td>1985</td>\n",
       "      <td>Africa</td>\n",
       "      <td>Cte d'Ivoire</td>\n",
       "      <td>Wine</td>\n",
       "      <td>1.62</td>\n",
       "    </tr>\n",
       "    <tr>\n",
       "      <th>3</th>\n",
       "      <td>1986</td>\n",
       "      <td>Americas</td>\n",
       "      <td>Colombia</td>\n",
       "      <td>Beer</td>\n",
       "      <td>4.27</td>\n",
       "    </tr>\n",
       "    <tr>\n",
       "      <th>4</th>\n",
       "      <td>1987</td>\n",
       "      <td>Americas</td>\n",
       "      <td>Saint Kitts and Nevis</td>\n",
       "      <td>Beer</td>\n",
       "      <td>1.98</td>\n",
       "    </tr>\n",
       "  </tbody>\n",
       "</table>\n",
       "</div>"
      ],
      "text/plain": [
       "   Year       WHO region                Country Beverage Types  Display Value\n",
       "0  1986  Western Pacific               Viet Nam           Wine           0.00\n",
       "1  1986         Americas                Uruguay          Other           0.50\n",
       "2  1985           Africa           Cte d'Ivoire           Wine           1.62\n",
       "3  1986         Americas               Colombia           Beer           4.27\n",
       "4  1987         Americas  Saint Kitts and Nevis           Beer           1.98"
      ]
     },
     "execution_count": 330,
     "metadata": {},
     "output_type": "execute_result"
    }
   ],
   "source": [
    "df = pd.read_csv(\"22_world_alcohol.csv\")\n",
    "df.head()"
   ]
  },
  {
   "cell_type": "code",
   "execution_count": 336,
   "id": "21ac0714-7ade-46dc-8013-9749e59b9d24",
   "metadata": {},
   "outputs": [
    {
     "name": "stdout",
     "output_type": "stream",
     "text": [
      "Shapes: \n",
      "(100, 5)\n",
      "No of rows: 100\n",
      "No of columns: 5\n"
     ]
    }
   ],
   "source": [
    "print(f\"Shapes: \")\n",
    "print(df.shape)\n",
    "print(f\"No of rows: {df.shape[0]}\")\n",
    "print(f\"No of columns: {df.shape[1]}\")"
   ]
  },
  {
   "cell_type": "code",
   "execution_count": 338,
   "id": "5336769c-92e3-4c23-aa05-10560e365d60",
   "metadata": {},
   "outputs": [
    {
     "name": "stdout",
     "output_type": "stream",
     "text": [
      "Name of columns: \n",
      "['Year' 'WHO region' 'Country' 'Beverage Types' 'Display Value']\n"
     ]
    }
   ],
   "source": [
    "print(f\"Name of columns: \\n{df.columns.values}\")"
   ]
  },
  {
   "cell_type": "code",
   "execution_count": null,
   "id": "943d5378-6185-4fc5-aca6-10a4b6797357",
   "metadata": {},
   "outputs": [],
   "source": []
  },
  {
   "cell_type": "markdown",
   "id": "61945656-d8ec-4c10-93e3-ad9fdef27e87",
   "metadata": {},
   "source": [
    "#2. Write a Pandas program to filter all records starting from the 2nd row, access every 5th row from world alcohol consumption dataset."
   ]
  },
  {
   "cell_type": "code",
   "execution_count": 341,
   "id": "2fe657aa-0b8d-4736-a686-24c9eb542830",
   "metadata": {},
   "outputs": [
    {
     "data": {
      "text/html": [
       "<div>\n",
       "<style scoped>\n",
       "    .dataframe tbody tr th:only-of-type {\n",
       "        vertical-align: middle;\n",
       "    }\n",
       "\n",
       "    .dataframe tbody tr th {\n",
       "        vertical-align: top;\n",
       "    }\n",
       "\n",
       "    .dataframe thead th {\n",
       "        text-align: right;\n",
       "    }\n",
       "</style>\n",
       "<table border=\"1\" class=\"dataframe\">\n",
       "  <thead>\n",
       "    <tr style=\"text-align: right;\">\n",
       "      <th></th>\n",
       "      <th>Year</th>\n",
       "      <th>WHO region</th>\n",
       "      <th>Country</th>\n",
       "      <th>Beverage Types</th>\n",
       "      <th>Display Value</th>\n",
       "    </tr>\n",
       "  </thead>\n",
       "  <tbody>\n",
       "    <tr>\n",
       "      <th>1</th>\n",
       "      <td>1986</td>\n",
       "      <td>Americas</td>\n",
       "      <td>Uruguay</td>\n",
       "      <td>Other</td>\n",
       "      <td>0.50</td>\n",
       "    </tr>\n",
       "    <tr>\n",
       "      <th>6</th>\n",
       "      <td>1987</td>\n",
       "      <td>Africa</td>\n",
       "      <td>Mauritius</td>\n",
       "      <td>Wine</td>\n",
       "      <td>0.13</td>\n",
       "    </tr>\n",
       "    <tr>\n",
       "      <th>11</th>\n",
       "      <td>1989</td>\n",
       "      <td>Americas</td>\n",
       "      <td>Guatemala</td>\n",
       "      <td>Beer</td>\n",
       "      <td>0.62</td>\n",
       "    </tr>\n",
       "    <tr>\n",
       "      <th>16</th>\n",
       "      <td>1984</td>\n",
       "      <td>Americas</td>\n",
       "      <td>Costa Rica</td>\n",
       "      <td>Wine</td>\n",
       "      <td>0.06</td>\n",
       "    </tr>\n",
       "    <tr>\n",
       "      <th>21</th>\n",
       "      <td>1989</td>\n",
       "      <td>Americas</td>\n",
       "      <td>Costa Rica</td>\n",
       "      <td>Spirits</td>\n",
       "      <td>4.51</td>\n",
       "    </tr>\n",
       "  </tbody>\n",
       "</table>\n",
       "</div>"
      ],
      "text/plain": [
       "    Year WHO region     Country Beverage Types  Display Value\n",
       "1   1986   Americas     Uruguay          Other           0.50\n",
       "6   1987     Africa   Mauritius           Wine           0.13\n",
       "11  1989   Americas   Guatemala           Beer           0.62\n",
       "16  1984   Americas  Costa Rica           Wine           0.06\n",
       "21  1989   Americas  Costa Rica        Spirits           4.51"
      ]
     },
     "execution_count": 341,
     "metadata": {},
     "output_type": "execute_result"
    }
   ],
   "source": [
    "df.iloc[1::5].head()"
   ]
  },
  {
   "cell_type": "code",
   "execution_count": null,
   "id": "e7782b34-0af4-4826-b7ca-b79dcf266e2e",
   "metadata": {},
   "outputs": [],
   "source": []
  },
  {
   "cell_type": "markdown",
   "id": "46965132-9a4b-4e7e-b57b-86c044ef8de7",
   "metadata": {},
   "source": [
    "#3. Write a Pandas program to find which years have all non-zero values and which years have any non-zero values from world alcohol consumption dataset."
   ]
  },
  {
   "cell_type": "code",
   "execution_count": 342,
   "id": "1f37d44b-92ea-4ae9-abe2-9963bafa2396",
   "metadata": {},
   "outputs": [
    {
     "data": {
      "text/html": [
       "<div>\n",
       "<style scoped>\n",
       "    .dataframe tbody tr th:only-of-type {\n",
       "        vertical-align: middle;\n",
       "    }\n",
       "\n",
       "    .dataframe tbody tr th {\n",
       "        vertical-align: top;\n",
       "    }\n",
       "\n",
       "    .dataframe thead th {\n",
       "        text-align: right;\n",
       "    }\n",
       "</style>\n",
       "<table border=\"1\" class=\"dataframe\">\n",
       "  <thead>\n",
       "    <tr style=\"text-align: right;\">\n",
       "      <th></th>\n",
       "      <th>Year</th>\n",
       "      <th>WHO region</th>\n",
       "      <th>Country</th>\n",
       "      <th>Beverage Types</th>\n",
       "      <th>Display Value</th>\n",
       "    </tr>\n",
       "  </thead>\n",
       "  <tbody>\n",
       "    <tr>\n",
       "      <th>0</th>\n",
       "      <td>1986</td>\n",
       "      <td>Western Pacific</td>\n",
       "      <td>Viet Nam</td>\n",
       "      <td>Wine</td>\n",
       "      <td>0.00</td>\n",
       "    </tr>\n",
       "    <tr>\n",
       "      <th>1</th>\n",
       "      <td>1986</td>\n",
       "      <td>Americas</td>\n",
       "      <td>Uruguay</td>\n",
       "      <td>Other</td>\n",
       "      <td>0.50</td>\n",
       "    </tr>\n",
       "    <tr>\n",
       "      <th>2</th>\n",
       "      <td>1985</td>\n",
       "      <td>Africa</td>\n",
       "      <td>Cte d'Ivoire</td>\n",
       "      <td>Wine</td>\n",
       "      <td>1.62</td>\n",
       "    </tr>\n",
       "  </tbody>\n",
       "</table>\n",
       "</div>"
      ],
      "text/plain": [
       "   Year       WHO region       Country Beverage Types  Display Value\n",
       "0  1986  Western Pacific      Viet Nam           Wine           0.00\n",
       "1  1986         Americas       Uruguay          Other           0.50\n",
       "2  1985           Africa  Cte d'Ivoire           Wine           1.62"
      ]
     },
     "execution_count": 342,
     "metadata": {},
     "output_type": "execute_result"
    }
   ],
   "source": [
    "df.head(3)"
   ]
  },
  {
   "cell_type": "code",
   "execution_count": 350,
   "id": "a962663d-ebb4-4c7a-b059-147fc31e77c9",
   "metadata": {},
   "outputs": [
    {
     "data": {
      "text/html": [
       "<div>\n",
       "<style scoped>\n",
       "    .dataframe tbody tr th:only-of-type {\n",
       "        vertical-align: middle;\n",
       "    }\n",
       "\n",
       "    .dataframe tbody tr th {\n",
       "        vertical-align: top;\n",
       "    }\n",
       "\n",
       "    .dataframe thead th {\n",
       "        text-align: right;\n",
       "    }\n",
       "</style>\n",
       "<table border=\"1\" class=\"dataframe\">\n",
       "  <thead>\n",
       "    <tr style=\"text-align: right;\">\n",
       "      <th></th>\n",
       "      <th>Year</th>\n",
       "      <th>WHO region</th>\n",
       "      <th>Country</th>\n",
       "      <th>Beverage Types</th>\n",
       "      <th>Display Value</th>\n",
       "    </tr>\n",
       "  </thead>\n",
       "  <tbody>\n",
       "    <tr>\n",
       "      <th>0</th>\n",
       "      <td>1986</td>\n",
       "      <td>Western Pacific</td>\n",
       "      <td>Viet Nam</td>\n",
       "      <td>Wine</td>\n",
       "      <td>0.00</td>\n",
       "    </tr>\n",
       "    <tr>\n",
       "      <th>1</th>\n",
       "      <td>1986</td>\n",
       "      <td>Americas</td>\n",
       "      <td>Uruguay</td>\n",
       "      <td>Other</td>\n",
       "      <td>0.50</td>\n",
       "    </tr>\n",
       "    <tr>\n",
       "      <th>2</th>\n",
       "      <td>1985</td>\n",
       "      <td>Africa</td>\n",
       "      <td>Cte d'Ivoire</td>\n",
       "      <td>Wine</td>\n",
       "      <td>1.62</td>\n",
       "    </tr>\n",
       "    <tr>\n",
       "      <th>3</th>\n",
       "      <td>1986</td>\n",
       "      <td>Americas</td>\n",
       "      <td>Colombia</td>\n",
       "      <td>Beer</td>\n",
       "      <td>4.27</td>\n",
       "    </tr>\n",
       "    <tr>\n",
       "      <th>4</th>\n",
       "      <td>1987</td>\n",
       "      <td>Americas</td>\n",
       "      <td>Saint Kitts and Nevis</td>\n",
       "      <td>Beer</td>\n",
       "      <td>1.98</td>\n",
       "    </tr>\n",
       "    <tr>\n",
       "      <th>...</th>\n",
       "      <td>...</td>\n",
       "      <td>...</td>\n",
       "      <td>...</td>\n",
       "      <td>...</td>\n",
       "      <td>...</td>\n",
       "    </tr>\n",
       "    <tr>\n",
       "      <th>95</th>\n",
       "      <td>1984</td>\n",
       "      <td>Africa</td>\n",
       "      <td>Niger</td>\n",
       "      <td>Other</td>\n",
       "      <td>0.00</td>\n",
       "    </tr>\n",
       "    <tr>\n",
       "      <th>96</th>\n",
       "      <td>1985</td>\n",
       "      <td>Europe</td>\n",
       "      <td>Luxembourg</td>\n",
       "      <td>Wine</td>\n",
       "      <td>7.38</td>\n",
       "    </tr>\n",
       "    <tr>\n",
       "      <th>97</th>\n",
       "      <td>1984</td>\n",
       "      <td>South-East Asia</td>\n",
       "      <td>Indonesia</td>\n",
       "      <td>Wine</td>\n",
       "      <td>0.00</td>\n",
       "    </tr>\n",
       "    <tr>\n",
       "      <th>98</th>\n",
       "      <td>1984</td>\n",
       "      <td>Africa</td>\n",
       "      <td>Equatorial Guinea</td>\n",
       "      <td>Wine</td>\n",
       "      <td>0.00</td>\n",
       "    </tr>\n",
       "    <tr>\n",
       "      <th>99</th>\n",
       "      <td>1985</td>\n",
       "      <td>South-East Asia</td>\n",
       "      <td>Democratic People's Republic of Korea</td>\n",
       "      <td>Wine</td>\n",
       "      <td>0.00</td>\n",
       "    </tr>\n",
       "  </tbody>\n",
       "</table>\n",
       "<p>100 rows × 5 columns</p>\n",
       "</div>"
      ],
      "text/plain": [
       "    Year       WHO region                                Country  \\\n",
       "0   1986  Western Pacific                               Viet Nam   \n",
       "1   1986         Americas                                Uruguay   \n",
       "2   1985           Africa                           Cte d'Ivoire   \n",
       "3   1986         Americas                               Colombia   \n",
       "4   1987         Americas                  Saint Kitts and Nevis   \n",
       "..   ...              ...                                    ...   \n",
       "95  1984           Africa                                  Niger   \n",
       "96  1985           Europe                             Luxembourg   \n",
       "97  1984  South-East Asia                              Indonesia   \n",
       "98  1984           Africa                      Equatorial Guinea   \n",
       "99  1985  South-East Asia  Democratic People's Republic of Korea   \n",
       "\n",
       "   Beverage Types  Display Value  \n",
       "0            Wine           0.00  \n",
       "1           Other           0.50  \n",
       "2            Wine           1.62  \n",
       "3            Beer           4.27  \n",
       "4            Beer           1.98  \n",
       "..            ...            ...  \n",
       "95          Other           0.00  \n",
       "96           Wine           7.38  \n",
       "97           Wine           0.00  \n",
       "98           Wine           0.00  \n",
       "99           Wine           0.00  \n",
       "\n",
       "[100 rows x 5 columns]"
      ]
     },
     "execution_count": 350,
     "metadata": {},
     "output_type": "execute_result"
    }
   ],
   "source": [
    "df.loc[:, df.any()]"
   ]
  },
  {
   "cell_type": "code",
   "execution_count": 349,
   "id": "af82807b-31bc-466d-9635-b44760c40034",
   "metadata": {},
   "outputs": [
    {
     "data": {
      "text/html": [
       "<div>\n",
       "<style scoped>\n",
       "    .dataframe tbody tr th:only-of-type {\n",
       "        vertical-align: middle;\n",
       "    }\n",
       "\n",
       "    .dataframe tbody tr th {\n",
       "        vertical-align: top;\n",
       "    }\n",
       "\n",
       "    .dataframe thead th {\n",
       "        text-align: right;\n",
       "    }\n",
       "</style>\n",
       "<table border=\"1\" class=\"dataframe\">\n",
       "  <thead>\n",
       "    <tr style=\"text-align: right;\">\n",
       "      <th></th>\n",
       "      <th>Year</th>\n",
       "      <th>WHO region</th>\n",
       "      <th>Country</th>\n",
       "      <th>Beverage Types</th>\n",
       "    </tr>\n",
       "  </thead>\n",
       "  <tbody>\n",
       "    <tr>\n",
       "      <th>0</th>\n",
       "      <td>1986</td>\n",
       "      <td>Western Pacific</td>\n",
       "      <td>Viet Nam</td>\n",
       "      <td>Wine</td>\n",
       "    </tr>\n",
       "    <tr>\n",
       "      <th>1</th>\n",
       "      <td>1986</td>\n",
       "      <td>Americas</td>\n",
       "      <td>Uruguay</td>\n",
       "      <td>Other</td>\n",
       "    </tr>\n",
       "    <tr>\n",
       "      <th>2</th>\n",
       "      <td>1985</td>\n",
       "      <td>Africa</td>\n",
       "      <td>Cte d'Ivoire</td>\n",
       "      <td>Wine</td>\n",
       "    </tr>\n",
       "    <tr>\n",
       "      <th>3</th>\n",
       "      <td>1986</td>\n",
       "      <td>Americas</td>\n",
       "      <td>Colombia</td>\n",
       "      <td>Beer</td>\n",
       "    </tr>\n",
       "    <tr>\n",
       "      <th>4</th>\n",
       "      <td>1987</td>\n",
       "      <td>Americas</td>\n",
       "      <td>Saint Kitts and Nevis</td>\n",
       "      <td>Beer</td>\n",
       "    </tr>\n",
       "    <tr>\n",
       "      <th>...</th>\n",
       "      <td>...</td>\n",
       "      <td>...</td>\n",
       "      <td>...</td>\n",
       "      <td>...</td>\n",
       "    </tr>\n",
       "    <tr>\n",
       "      <th>95</th>\n",
       "      <td>1984</td>\n",
       "      <td>Africa</td>\n",
       "      <td>Niger</td>\n",
       "      <td>Other</td>\n",
       "    </tr>\n",
       "    <tr>\n",
       "      <th>96</th>\n",
       "      <td>1985</td>\n",
       "      <td>Europe</td>\n",
       "      <td>Luxembourg</td>\n",
       "      <td>Wine</td>\n",
       "    </tr>\n",
       "    <tr>\n",
       "      <th>97</th>\n",
       "      <td>1984</td>\n",
       "      <td>South-East Asia</td>\n",
       "      <td>Indonesia</td>\n",
       "      <td>Wine</td>\n",
       "    </tr>\n",
       "    <tr>\n",
       "      <th>98</th>\n",
       "      <td>1984</td>\n",
       "      <td>Africa</td>\n",
       "      <td>Equatorial Guinea</td>\n",
       "      <td>Wine</td>\n",
       "    </tr>\n",
       "    <tr>\n",
       "      <th>99</th>\n",
       "      <td>1985</td>\n",
       "      <td>South-East Asia</td>\n",
       "      <td>Democratic People's Republic of Korea</td>\n",
       "      <td>Wine</td>\n",
       "    </tr>\n",
       "  </tbody>\n",
       "</table>\n",
       "<p>100 rows × 4 columns</p>\n",
       "</div>"
      ],
      "text/plain": [
       "    Year       WHO region                                Country  \\\n",
       "0   1986  Western Pacific                               Viet Nam   \n",
       "1   1986         Americas                                Uruguay   \n",
       "2   1985           Africa                           Cte d'Ivoire   \n",
       "3   1986         Americas                               Colombia   \n",
       "4   1987         Americas                  Saint Kitts and Nevis   \n",
       "..   ...              ...                                    ...   \n",
       "95  1984           Africa                                  Niger   \n",
       "96  1985           Europe                             Luxembourg   \n",
       "97  1984  South-East Asia                              Indonesia   \n",
       "98  1984           Africa                      Equatorial Guinea   \n",
       "99  1985  South-East Asia  Democratic People's Republic of Korea   \n",
       "\n",
       "   Beverage Types  \n",
       "0            Wine  \n",
       "1           Other  \n",
       "2            Wine  \n",
       "3            Beer  \n",
       "4            Beer  \n",
       "..            ...  \n",
       "95          Other  \n",
       "96           Wine  \n",
       "97           Wine  \n",
       "98           Wine  \n",
       "99           Wine  \n",
       "\n",
       "[100 rows x 4 columns]"
      ]
     },
     "execution_count": 349,
     "metadata": {},
     "output_type": "execute_result"
    }
   ],
   "source": [
    "df.loc[:, df.all()]"
   ]
  },
  {
   "cell_type": "code",
   "execution_count": null,
   "id": "4d3e2d66-345f-4178-8ded-604bf314f39f",
   "metadata": {},
   "outputs": [],
   "source": []
  },
  {
   "cell_type": "markdown",
   "id": "9922f273-650e-4178-8a76-be48443ce633",
   "metadata": {},
   "source": [
    "#4. Write a Pandas program to find out the alcohol consumption details in the year '1986' or '1989' where WHO region is 'Americas' from the world alcohol consumption dataset."
   ]
  },
  {
   "cell_type": "code",
   "execution_count": 361,
   "id": "8158333e-f97b-4eee-a517-e9ed3290063a",
   "metadata": {},
   "outputs": [
    {
     "name": "stderr",
     "output_type": "stream",
     "text": [
      "C:\\Users\\KaranJJoshi\\AppData\\Local\\Temp\\ipykernel_13884\\4141644266.py:1: UserWarning: Boolean Series key will be reindexed to match DataFrame index.\n",
      "  df.query('Year  == 1986 or Year == 1989')[df[\"WHO region\"] == \"Americas\"].head()\n"
     ]
    },
    {
     "data": {
      "text/html": [
       "<div>\n",
       "<style scoped>\n",
       "    .dataframe tbody tr th:only-of-type {\n",
       "        vertical-align: middle;\n",
       "    }\n",
       "\n",
       "    .dataframe tbody tr th {\n",
       "        vertical-align: top;\n",
       "    }\n",
       "\n",
       "    .dataframe thead th {\n",
       "        text-align: right;\n",
       "    }\n",
       "</style>\n",
       "<table border=\"1\" class=\"dataframe\">\n",
       "  <thead>\n",
       "    <tr style=\"text-align: right;\">\n",
       "      <th></th>\n",
       "      <th>Year</th>\n",
       "      <th>WHO region</th>\n",
       "      <th>Country</th>\n",
       "      <th>Beverage Types</th>\n",
       "      <th>Display Value</th>\n",
       "    </tr>\n",
       "  </thead>\n",
       "  <tbody>\n",
       "    <tr>\n",
       "      <th>1</th>\n",
       "      <td>1986</td>\n",
       "      <td>Americas</td>\n",
       "      <td>Uruguay</td>\n",
       "      <td>Other</td>\n",
       "      <td>0.50</td>\n",
       "    </tr>\n",
       "    <tr>\n",
       "      <th>3</th>\n",
       "      <td>1986</td>\n",
       "      <td>Americas</td>\n",
       "      <td>Colombia</td>\n",
       "      <td>Beer</td>\n",
       "      <td>4.27</td>\n",
       "    </tr>\n",
       "    <tr>\n",
       "      <th>8</th>\n",
       "      <td>1986</td>\n",
       "      <td>Americas</td>\n",
       "      <td>Antigua and Barbuda</td>\n",
       "      <td>Spirits</td>\n",
       "      <td>1.55</td>\n",
       "    </tr>\n",
       "    <tr>\n",
       "      <th>11</th>\n",
       "      <td>1989</td>\n",
       "      <td>Americas</td>\n",
       "      <td>Guatemala</td>\n",
       "      <td>Beer</td>\n",
       "      <td>0.62</td>\n",
       "    </tr>\n",
       "    <tr>\n",
       "      <th>21</th>\n",
       "      <td>1989</td>\n",
       "      <td>Americas</td>\n",
       "      <td>Costa Rica</td>\n",
       "      <td>Spirits</td>\n",
       "      <td>4.51</td>\n",
       "    </tr>\n",
       "  </tbody>\n",
       "</table>\n",
       "</div>"
      ],
      "text/plain": [
       "    Year WHO region              Country Beverage Types  Display Value\n",
       "1   1986   Americas              Uruguay          Other           0.50\n",
       "3   1986   Americas             Colombia           Beer           4.27\n",
       "8   1986   Americas  Antigua and Barbuda        Spirits           1.55\n",
       "11  1989   Americas            Guatemala           Beer           0.62\n",
       "21  1989   Americas           Costa Rica        Spirits           4.51"
      ]
     },
     "execution_count": 361,
     "metadata": {},
     "output_type": "execute_result"
    }
   ],
   "source": [
    "df.query('Year  == 1986 or Year == 1989')[df[\"WHO region\"] == \"Americas\"].head()"
   ]
  },
  {
   "cell_type": "code",
   "execution_count": 371,
   "id": "2c536401-61b2-48a8-a56a-5263a11f2680",
   "metadata": {},
   "outputs": [
    {
     "data": {
      "text/html": [
       "<div>\n",
       "<style scoped>\n",
       "    .dataframe tbody tr th:only-of-type {\n",
       "        vertical-align: middle;\n",
       "    }\n",
       "\n",
       "    .dataframe tbody tr th {\n",
       "        vertical-align: top;\n",
       "    }\n",
       "\n",
       "    .dataframe thead th {\n",
       "        text-align: right;\n",
       "    }\n",
       "</style>\n",
       "<table border=\"1\" class=\"dataframe\">\n",
       "  <thead>\n",
       "    <tr style=\"text-align: right;\">\n",
       "      <th></th>\n",
       "      <th>Year</th>\n",
       "      <th>WHO region</th>\n",
       "      <th>Country</th>\n",
       "      <th>Beverage Types</th>\n",
       "      <th>Display Value</th>\n",
       "    </tr>\n",
       "  </thead>\n",
       "  <tbody>\n",
       "    <tr>\n",
       "      <th>1</th>\n",
       "      <td>1986</td>\n",
       "      <td>Americas</td>\n",
       "      <td>Uruguay</td>\n",
       "      <td>Other</td>\n",
       "      <td>0.50</td>\n",
       "    </tr>\n",
       "    <tr>\n",
       "      <th>3</th>\n",
       "      <td>1986</td>\n",
       "      <td>Americas</td>\n",
       "      <td>Colombia</td>\n",
       "      <td>Beer</td>\n",
       "      <td>4.27</td>\n",
       "    </tr>\n",
       "    <tr>\n",
       "      <th>8</th>\n",
       "      <td>1986</td>\n",
       "      <td>Americas</td>\n",
       "      <td>Antigua and Barbuda</td>\n",
       "      <td>Spirits</td>\n",
       "      <td>1.55</td>\n",
       "    </tr>\n",
       "    <tr>\n",
       "      <th>11</th>\n",
       "      <td>1989</td>\n",
       "      <td>Americas</td>\n",
       "      <td>Guatemala</td>\n",
       "      <td>Beer</td>\n",
       "      <td>0.62</td>\n",
       "    </tr>\n",
       "    <tr>\n",
       "      <th>21</th>\n",
       "      <td>1989</td>\n",
       "      <td>Americas</td>\n",
       "      <td>Costa Rica</td>\n",
       "      <td>Spirits</td>\n",
       "      <td>4.51</td>\n",
       "    </tr>\n",
       "  </tbody>\n",
       "</table>\n",
       "</div>"
      ],
      "text/plain": [
       "    Year WHO region              Country Beverage Types  Display Value\n",
       "1   1986   Americas              Uruguay          Other           0.50\n",
       "3   1986   Americas             Colombia           Beer           4.27\n",
       "8   1986   Americas  Antigua and Barbuda        Spirits           1.55\n",
       "11  1989   Americas            Guatemala           Beer           0.62\n",
       "21  1989   Americas           Costa Rica        Spirits           4.51"
      ]
     },
     "execution_count": 371,
     "metadata": {},
     "output_type": "execute_result"
    }
   ],
   "source": [
    "df[(df[\"Year\"].isin([1986, 1989])) & (df[\"WHO region\"] == \"Americas\")].head()"
   ]
  },
  {
   "cell_type": "code",
   "execution_count": null,
   "id": "c243eb77-561a-4e4f-82c1-a752b061c4fa",
   "metadata": {},
   "outputs": [],
   "source": []
  },
  {
   "cell_type": "markdown",
   "id": "eb415798-48b0-42ba-af00-a097b3b5e6a9",
   "metadata": {},
   "source": [
    "### Pandas Group By"
   ]
  },
  {
   "cell_type": "markdown",
   "id": "9bd9e1b1-7b24-4d53-b8a9-2f9838a595a3",
   "metadata": {},
   "source": [
    "#Example: Group Alcohol data set by WHO region and aggregate it for mean, max, min"
   ]
  },
  {
   "cell_type": "code",
   "execution_count": 375,
   "id": "96de39f0-9d25-42c8-9845-624669850da7",
   "metadata": {},
   "outputs": [
    {
     "data": {
      "text/html": [
       "<div>\n",
       "<style scoped>\n",
       "    .dataframe tbody tr th:only-of-type {\n",
       "        vertical-align: middle;\n",
       "    }\n",
       "\n",
       "    .dataframe tbody tr th {\n",
       "        vertical-align: top;\n",
       "    }\n",
       "\n",
       "    .dataframe thead tr th {\n",
       "        text-align: left;\n",
       "    }\n",
       "\n",
       "    .dataframe thead tr:last-of-type th {\n",
       "        text-align: right;\n",
       "    }\n",
       "</style>\n",
       "<table border=\"1\" class=\"dataframe\">\n",
       "  <thead>\n",
       "    <tr>\n",
       "      <th></th>\n",
       "      <th colspan=\"3\" halign=\"left\">Display Value</th>\n",
       "    </tr>\n",
       "    <tr>\n",
       "      <th></th>\n",
       "      <th>mean</th>\n",
       "      <th>max</th>\n",
       "      <th>min</th>\n",
       "    </tr>\n",
       "    <tr>\n",
       "      <th>WHO region</th>\n",
       "      <th></th>\n",
       "      <th></th>\n",
       "      <th></th>\n",
       "    </tr>\n",
       "  </thead>\n",
       "  <tbody>\n",
       "    <tr>\n",
       "      <th>Africa</th>\n",
       "      <td>0.782222</td>\n",
       "      <td>6.10</td>\n",
       "      <td>0.0</td>\n",
       "    </tr>\n",
       "    <tr>\n",
       "      <th>Americas</th>\n",
       "      <td>1.354211</td>\n",
       "      <td>4.51</td>\n",
       "      <td>0.0</td>\n",
       "    </tr>\n",
       "    <tr>\n",
       "      <th>Eastern Mediterranean</th>\n",
       "      <td>0.191111</td>\n",
       "      <td>2.22</td>\n",
       "      <td>0.0</td>\n",
       "    </tr>\n",
       "    <tr>\n",
       "      <th>Europe</th>\n",
       "      <td>2.854211</td>\n",
       "      <td>7.38</td>\n",
       "      <td>0.3</td>\n",
       "    </tr>\n",
       "    <tr>\n",
       "      <th>South-East Asia</th>\n",
       "      <td>0.000000</td>\n",
       "      <td>0.00</td>\n",
       "      <td>0.0</td>\n",
       "    </tr>\n",
       "    <tr>\n",
       "      <th>Western Pacific</th>\n",
       "      <td>0.033750</td>\n",
       "      <td>0.11</td>\n",
       "      <td>0.0</td>\n",
       "    </tr>\n",
       "  </tbody>\n",
       "</table>\n",
       "</div>"
      ],
      "text/plain": [
       "                      Display Value           \n",
       "                               mean   max  min\n",
       "WHO region                                    \n",
       "Africa                     0.782222  6.10  0.0\n",
       "Americas                   1.354211  4.51  0.0\n",
       "Eastern Mediterranean      0.191111  2.22  0.0\n",
       "Europe                     2.854211  7.38  0.3\n",
       "South-East Asia            0.000000  0.00  0.0\n",
       "Western Pacific            0.033750  0.11  0.0"
      ]
     },
     "execution_count": 375,
     "metadata": {},
     "output_type": "execute_result"
    }
   ],
   "source": [
    "df.groupby(\"WHO region\").agg({\"Display Value\": [\"mean\", \"max\", \"min\"]})"
   ]
  },
  {
   "cell_type": "code",
   "execution_count": null,
   "id": "e7515fa3-2583-4dd6-b3ac-ebad8a22f91d",
   "metadata": {},
   "outputs": [],
   "source": []
  },
  {
   "cell_type": "markdown",
   "id": "45925c5c-fc54-4758-bc74-0c67b87203d1",
   "metadata": {},
   "source": [
    "### 6. Pandas Handling Missing Values and Cleaning"
   ]
  },
  {
   "cell_type": "markdown",
   "id": "94ff14d8-0244-46f0-92c5-b7fe8cebb9e9",
   "metadata": {},
   "source": [
    "### Handling Missing Values Exercises"
   ]
  },
  {
   "cell_type": "markdown",
   "id": "b0533358-21db-450e-b25a-6873959920ba",
   "metadata": {},
   "source": [
    "#1. Write a Pandas program to count the number of missing values in each column of a given DataFrame."
   ]
  },
  {
   "cell_type": "code",
   "execution_count": 377,
   "id": "511af899-d4b2-47a7-9495-f52bc9d50f1f",
   "metadata": {
    "scrolled": true
   },
   "outputs": [
    {
     "data": {
      "text/html": [
       "<div>\n",
       "<style scoped>\n",
       "    .dataframe tbody tr th:only-of-type {\n",
       "        vertical-align: middle;\n",
       "    }\n",
       "\n",
       "    .dataframe tbody tr th {\n",
       "        vertical-align: top;\n",
       "    }\n",
       "\n",
       "    .dataframe thead th {\n",
       "        text-align: right;\n",
       "    }\n",
       "</style>\n",
       "<table border=\"1\" class=\"dataframe\">\n",
       "  <thead>\n",
       "    <tr style=\"text-align: right;\">\n",
       "      <th></th>\n",
       "      <th>ord_no</th>\n",
       "      <th>purch_amt</th>\n",
       "      <th>ord_date</th>\n",
       "      <th>customer_id</th>\n",
       "      <th>salesman_id</th>\n",
       "    </tr>\n",
       "  </thead>\n",
       "  <tbody>\n",
       "    <tr>\n",
       "      <th>0</th>\n",
       "      <td>70001.0</td>\n",
       "      <td>150.50</td>\n",
       "      <td>2012-10-05</td>\n",
       "      <td>3002</td>\n",
       "      <td>5002.0</td>\n",
       "    </tr>\n",
       "    <tr>\n",
       "      <th>1</th>\n",
       "      <td>NaN</td>\n",
       "      <td>270.65</td>\n",
       "      <td>2012-09-10</td>\n",
       "      <td>3001</td>\n",
       "      <td>5003.0</td>\n",
       "    </tr>\n",
       "    <tr>\n",
       "      <th>2</th>\n",
       "      <td>70002.0</td>\n",
       "      <td>65.26</td>\n",
       "      <td>NaN</td>\n",
       "      <td>3001</td>\n",
       "      <td>5001.0</td>\n",
       "    </tr>\n",
       "    <tr>\n",
       "      <th>3</th>\n",
       "      <td>70004.0</td>\n",
       "      <td>110.50</td>\n",
       "      <td>2012-08-17</td>\n",
       "      <td>3003</td>\n",
       "      <td>NaN</td>\n",
       "    </tr>\n",
       "    <tr>\n",
       "      <th>4</th>\n",
       "      <td>NaN</td>\n",
       "      <td>948.50</td>\n",
       "      <td>2012-09-10</td>\n",
       "      <td>3002</td>\n",
       "      <td>5002.0</td>\n",
       "    </tr>\n",
       "    <tr>\n",
       "      <th>5</th>\n",
       "      <td>70005.0</td>\n",
       "      <td>2400.60</td>\n",
       "      <td>2012-07-27</td>\n",
       "      <td>3001</td>\n",
       "      <td>5001.0</td>\n",
       "    </tr>\n",
       "    <tr>\n",
       "      <th>6</th>\n",
       "      <td>NaN</td>\n",
       "      <td>5760.00</td>\n",
       "      <td>2012-09-10</td>\n",
       "      <td>3001</td>\n",
       "      <td>5001.0</td>\n",
       "    </tr>\n",
       "    <tr>\n",
       "      <th>7</th>\n",
       "      <td>70010.0</td>\n",
       "      <td>1983.43</td>\n",
       "      <td>2012-10-10</td>\n",
       "      <td>3004</td>\n",
       "      <td>NaN</td>\n",
       "    </tr>\n",
       "    <tr>\n",
       "      <th>8</th>\n",
       "      <td>70003.0</td>\n",
       "      <td>2480.40</td>\n",
       "      <td>2012-10-10</td>\n",
       "      <td>3003</td>\n",
       "      <td>5003.0</td>\n",
       "    </tr>\n",
       "    <tr>\n",
       "      <th>9</th>\n",
       "      <td>70012.0</td>\n",
       "      <td>250.45</td>\n",
       "      <td>2012-06-27</td>\n",
       "      <td>3002</td>\n",
       "      <td>5002.0</td>\n",
       "    </tr>\n",
       "    <tr>\n",
       "      <th>10</th>\n",
       "      <td>NaN</td>\n",
       "      <td>75.29</td>\n",
       "      <td>2012-08-17</td>\n",
       "      <td>3001</td>\n",
       "      <td>5003.0</td>\n",
       "    </tr>\n",
       "    <tr>\n",
       "      <th>11</th>\n",
       "      <td>70013.0</td>\n",
       "      <td>3045.60</td>\n",
       "      <td>2012-04-25</td>\n",
       "      <td>3001</td>\n",
       "      <td>NaN</td>\n",
       "    </tr>\n",
       "  </tbody>\n",
       "</table>\n",
       "</div>"
      ],
      "text/plain": [
       "     ord_no  purch_amt    ord_date  customer_id  salesman_id\n",
       "0   70001.0     150.50  2012-10-05         3002       5002.0\n",
       "1       NaN     270.65  2012-09-10         3001       5003.0\n",
       "2   70002.0      65.26         NaN         3001       5001.0\n",
       "3   70004.0     110.50  2012-08-17         3003          NaN\n",
       "4       NaN     948.50  2012-09-10         3002       5002.0\n",
       "5   70005.0    2400.60  2012-07-27         3001       5001.0\n",
       "6       NaN    5760.00  2012-09-10         3001       5001.0\n",
       "7   70010.0    1983.43  2012-10-10         3004          NaN\n",
       "8   70003.0    2480.40  2012-10-10         3003       5003.0\n",
       "9   70012.0     250.45  2012-06-27         3002       5002.0\n",
       "10      NaN      75.29  2012-08-17         3001       5003.0\n",
       "11  70013.0    3045.60  2012-04-25         3001          NaN"
      ]
     },
     "execution_count": 377,
     "metadata": {},
     "output_type": "execute_result"
    }
   ],
   "source": [
    "df = pd.DataFrame({\n",
    "    'ord_no':[70001,np.nan,70002,70004,np.nan,70005,np.nan,70010,70003,70012,np.nan,70013],\n",
    "    'purch_amt':[150.5,270.65,65.26,110.5,948.5,2400.6,5760,1983.43,2480.4,250.45, 75.29,3045.6],\n",
    "    'ord_date': ['2012-10-05','2012-09-10',np.nan,'2012-08-17','2012-09-10','2012-07-27',\n",
    "                 '2012-09-10','2012-10-10','2012-10-10','2012-06-27','2012-08-17','2012-04-25'],\n",
    "    'customer_id':[3002,3001,3001,3003,3002,3001,3001,3004,3003,3002,3001,3001],\n",
    "    'salesman_id':[5002,5003,5001,np.nan,5002,5001,5001,np.nan,5003,5002,5003,np.nan]\n",
    "})\n",
    "df"
   ]
  },
  {
   "cell_type": "code",
   "execution_count": 380,
   "id": "64a8eea6-d4cd-40bb-a302-ba5b63cb6a2d",
   "metadata": {},
   "outputs": [
    {
     "data": {
      "text/plain": [
       "ord_no         4\n",
       "purch_amt      0\n",
       "ord_date       1\n",
       "customer_id    0\n",
       "salesman_id    3\n",
       "dtype: int64"
      ]
     },
     "execution_count": 380,
     "metadata": {},
     "output_type": "execute_result"
    }
   ],
   "source": [
    "df.isna().sum()"
   ]
  },
  {
   "cell_type": "code",
   "execution_count": null,
   "id": "cdd9d1d5-5a3c-44aa-9f42-241293229f23",
   "metadata": {},
   "outputs": [],
   "source": []
  },
  {
   "cell_type": "markdown",
   "id": "b0feb886-525f-4901-8405-4e9b1fc37186",
   "metadata": {},
   "source": [
    "#2. Write a Pandas program to replace the missing values with the most frequent values present in each column of a given DataFrame."
   ]
  },
  {
   "cell_type": "code",
   "execution_count": 390,
   "id": "d9f6e2e9-473f-412d-a13e-f2ac1c1fa6c3",
   "metadata": {
    "scrolled": true
   },
   "outputs": [
    {
     "data": {
      "text/html": [
       "<div>\n",
       "<style scoped>\n",
       "    .dataframe tbody tr th:only-of-type {\n",
       "        vertical-align: middle;\n",
       "    }\n",
       "\n",
       "    .dataframe tbody tr th {\n",
       "        vertical-align: top;\n",
       "    }\n",
       "\n",
       "    .dataframe thead th {\n",
       "        text-align: right;\n",
       "    }\n",
       "</style>\n",
       "<table border=\"1\" class=\"dataframe\">\n",
       "  <thead>\n",
       "    <tr style=\"text-align: right;\">\n",
       "      <th></th>\n",
       "      <th>ord_no</th>\n",
       "      <th>purch_amt</th>\n",
       "      <th>ord_date</th>\n",
       "      <th>customer_id</th>\n",
       "      <th>salesman_id</th>\n",
       "    </tr>\n",
       "  </thead>\n",
       "  <tbody>\n",
       "    <tr>\n",
       "      <th>0</th>\n",
       "      <td>70001.0</td>\n",
       "      <td>150.50</td>\n",
       "      <td>2012-10-05</td>\n",
       "      <td>3002</td>\n",
       "      <td>5002.0</td>\n",
       "    </tr>\n",
       "    <tr>\n",
       "      <th>1</th>\n",
       "      <td>70001.0</td>\n",
       "      <td>270.65</td>\n",
       "      <td>2012-09-10</td>\n",
       "      <td>3001</td>\n",
       "      <td>5003.0</td>\n",
       "    </tr>\n",
       "    <tr>\n",
       "      <th>2</th>\n",
       "      <td>70002.0</td>\n",
       "      <td>65.26</td>\n",
       "      <td>2012-09-10</td>\n",
       "      <td>3001</td>\n",
       "      <td>5001.0</td>\n",
       "    </tr>\n",
       "    <tr>\n",
       "      <th>3</th>\n",
       "      <td>70004.0</td>\n",
       "      <td>110.50</td>\n",
       "      <td>2012-08-17</td>\n",
       "      <td>3003</td>\n",
       "      <td>5001.0</td>\n",
       "    </tr>\n",
       "    <tr>\n",
       "      <th>4</th>\n",
       "      <td>70001.0</td>\n",
       "      <td>948.50</td>\n",
       "      <td>2012-09-10</td>\n",
       "      <td>3002</td>\n",
       "      <td>5002.0</td>\n",
       "    </tr>\n",
       "    <tr>\n",
       "      <th>5</th>\n",
       "      <td>70005.0</td>\n",
       "      <td>2400.60</td>\n",
       "      <td>2012-07-27</td>\n",
       "      <td>3001</td>\n",
       "      <td>5001.0</td>\n",
       "    </tr>\n",
       "    <tr>\n",
       "      <th>6</th>\n",
       "      <td>70001.0</td>\n",
       "      <td>5760.00</td>\n",
       "      <td>2012-09-10</td>\n",
       "      <td>3001</td>\n",
       "      <td>5001.0</td>\n",
       "    </tr>\n",
       "    <tr>\n",
       "      <th>7</th>\n",
       "      <td>70010.0</td>\n",
       "      <td>1983.43</td>\n",
       "      <td>2012-10-10</td>\n",
       "      <td>3004</td>\n",
       "      <td>5001.0</td>\n",
       "    </tr>\n",
       "    <tr>\n",
       "      <th>8</th>\n",
       "      <td>70003.0</td>\n",
       "      <td>2480.40</td>\n",
       "      <td>2012-10-10</td>\n",
       "      <td>3003</td>\n",
       "      <td>5003.0</td>\n",
       "    </tr>\n",
       "    <tr>\n",
       "      <th>9</th>\n",
       "      <td>70012.0</td>\n",
       "      <td>250.45</td>\n",
       "      <td>2012-06-27</td>\n",
       "      <td>3002</td>\n",
       "      <td>5002.0</td>\n",
       "    </tr>\n",
       "    <tr>\n",
       "      <th>10</th>\n",
       "      <td>70001.0</td>\n",
       "      <td>75.29</td>\n",
       "      <td>2012-08-17</td>\n",
       "      <td>3001</td>\n",
       "      <td>5003.0</td>\n",
       "    </tr>\n",
       "    <tr>\n",
       "      <th>11</th>\n",
       "      <td>70013.0</td>\n",
       "      <td>3045.60</td>\n",
       "      <td>2012-04-25</td>\n",
       "      <td>3001</td>\n",
       "      <td>5001.0</td>\n",
       "    </tr>\n",
       "  </tbody>\n",
       "</table>\n",
       "</div>"
      ],
      "text/plain": [
       "     ord_no  purch_amt    ord_date  customer_id  salesman_id\n",
       "0   70001.0     150.50  2012-10-05         3002       5002.0\n",
       "1   70001.0     270.65  2012-09-10         3001       5003.0\n",
       "2   70002.0      65.26  2012-09-10         3001       5001.0\n",
       "3   70004.0     110.50  2012-08-17         3003       5001.0\n",
       "4   70001.0     948.50  2012-09-10         3002       5002.0\n",
       "5   70005.0    2400.60  2012-07-27         3001       5001.0\n",
       "6   70001.0    5760.00  2012-09-10         3001       5001.0\n",
       "7   70010.0    1983.43  2012-10-10         3004       5001.0\n",
       "8   70003.0    2480.40  2012-10-10         3003       5003.0\n",
       "9   70012.0     250.45  2012-06-27         3002       5002.0\n",
       "10  70001.0      75.29  2012-08-17         3001       5003.0\n",
       "11  70013.0    3045.60  2012-04-25         3001       5001.0"
      ]
     },
     "execution_count": 390,
     "metadata": {},
     "output_type": "execute_result"
    }
   ],
   "source": [
    "df.fillna(df.mode().iloc[0])"
   ]
  },
  {
   "cell_type": "code",
   "execution_count": null,
   "id": "0a0cd131-be44-4b0a-a891-0c71cab63860",
   "metadata": {},
   "outputs": [],
   "source": []
  },
  {
   "cell_type": "markdown",
   "id": "ae2afd18-6af1-4d38-9176-869dd434dc94",
   "metadata": {},
   "source": [
    "### 7 Pandas Data Visualization"
   ]
  },
  {
   "cell_type": "markdown",
   "id": "de2480be-228d-4437-a0e0-b5d595cdfbeb",
   "metadata": {},
   "source": [
    "#1. Write a Pandas program to highlight the negative numbers red and positive numbers black."
   ]
  },
  {
   "cell_type": "code",
   "execution_count": 10,
   "id": "0ea9292e-a033-42d4-8aab-7f96b38d3ec5",
   "metadata": {},
   "outputs": [
    {
     "data": {
      "text/html": [
       "<div>\n",
       "<style scoped>\n",
       "    .dataframe tbody tr th:only-of-type {\n",
       "        vertical-align: middle;\n",
       "    }\n",
       "\n",
       "    .dataframe tbody tr th {\n",
       "        vertical-align: top;\n",
       "    }\n",
       "\n",
       "    .dataframe thead th {\n",
       "        text-align: right;\n",
       "    }\n",
       "</style>\n",
       "<table border=\"1\" class=\"dataframe\">\n",
       "  <thead>\n",
       "    <tr style=\"text-align: right;\">\n",
       "      <th></th>\n",
       "      <th>A</th>\n",
       "      <th>B</th>\n",
       "      <th>C</th>\n",
       "      <th>D</th>\n",
       "      <th>E</th>\n",
       "    </tr>\n",
       "  </thead>\n",
       "  <tbody>\n",
       "    <tr>\n",
       "      <th>0</th>\n",
       "      <td>1.0</td>\n",
       "      <td>0.146455</td>\n",
       "      <td>-0.365662</td>\n",
       "      <td>0.693570</td>\n",
       "      <td>0.690306</td>\n",
       "    </tr>\n",
       "    <tr>\n",
       "      <th>1</th>\n",
       "      <td>2.0</td>\n",
       "      <td>-0.072946</td>\n",
       "      <td>0.606314</td>\n",
       "      <td>-0.621071</td>\n",
       "      <td>0.811737</td>\n",
       "    </tr>\n",
       "    <tr>\n",
       "      <th>2</th>\n",
       "      <td>3.0</td>\n",
       "      <td>-0.021786</td>\n",
       "      <td>-0.779558</td>\n",
       "      <td>0.756754</td>\n",
       "      <td>0.270068</td>\n",
       "    </tr>\n",
       "  </tbody>\n",
       "</table>\n",
       "</div>"
      ],
      "text/plain": [
       "     A         B         C         D         E\n",
       "0  1.0  0.146455 -0.365662  0.693570  0.690306\n",
       "1  2.0 -0.072946  0.606314 -0.621071  0.811737\n",
       "2  3.0 -0.021786 -0.779558  0.756754  0.270068"
      ]
     },
     "execution_count": 10,
     "metadata": {},
     "output_type": "execute_result"
    }
   ],
   "source": [
    "np.random.seed(78)\n",
    "\n",
    "df = pd.DataFrame({\"A\": np.linspace(1, 10, 10)})\n",
    "df = pd.concat([df, pd.DataFrame(np.random.randn(10, 4)*1.2, columns=[\"B\", \"C\", \"D\", \"E\"])], axis=1)\n",
    "\n",
    "df.head(3)"
   ]
  },
  {
   "cell_type": "code",
   "execution_count": 12,
   "id": "d8b53568-aa21-4a9a-a3a8-33a2b201f9c5",
   "metadata": {},
   "outputs": [
    {
     "data": {
      "text/html": [
       "<style type=\"text/css\">\n",
       "#T_5e433_row0_col0, #T_5e433_row0_col1, #T_5e433_row0_col3, #T_5e433_row0_col4, #T_5e433_row1_col0, #T_5e433_row1_col2, #T_5e433_row1_col4, #T_5e433_row2_col0, #T_5e433_row2_col3, #T_5e433_row2_col4, #T_5e433_row3_col0, #T_5e433_row3_col2, #T_5e433_row3_col3, #T_5e433_row3_col4, #T_5e433_row4_col0, #T_5e433_row4_col1, #T_5e433_row4_col3, #T_5e433_row4_col4, #T_5e433_row5_col0, #T_5e433_row6_col0, #T_5e433_row6_col1, #T_5e433_row6_col3, #T_5e433_row6_col4, #T_5e433_row7_col0, #T_5e433_row7_col2, #T_5e433_row7_col4, #T_5e433_row8_col0, #T_5e433_row8_col3, #T_5e433_row8_col4, #T_5e433_row9_col0, #T_5e433_row9_col3, #T_5e433_row9_col4 {\n",
       "  color: black;\n",
       "}\n",
       "#T_5e433_row0_col2, #T_5e433_row1_col1, #T_5e433_row1_col3, #T_5e433_row2_col1, #T_5e433_row2_col2, #T_5e433_row3_col1, #T_5e433_row4_col2, #T_5e433_row5_col1, #T_5e433_row5_col2, #T_5e433_row5_col3, #T_5e433_row5_col4, #T_5e433_row6_col2, #T_5e433_row7_col1, #T_5e433_row7_col3, #T_5e433_row8_col1, #T_5e433_row8_col2, #T_5e433_row9_col1, #T_5e433_row9_col2 {\n",
       "  color: red;\n",
       "}\n",
       "</style>\n",
       "<table id=\"T_5e433\">\n",
       "  <thead>\n",
       "    <tr>\n",
       "      <th class=\"blank level0\" >&nbsp;</th>\n",
       "      <th id=\"T_5e433_level0_col0\" class=\"col_heading level0 col0\" >A</th>\n",
       "      <th id=\"T_5e433_level0_col1\" class=\"col_heading level0 col1\" >B</th>\n",
       "      <th id=\"T_5e433_level0_col2\" class=\"col_heading level0 col2\" >C</th>\n",
       "      <th id=\"T_5e433_level0_col3\" class=\"col_heading level0 col3\" >D</th>\n",
       "      <th id=\"T_5e433_level0_col4\" class=\"col_heading level0 col4\" >E</th>\n",
       "    </tr>\n",
       "  </thead>\n",
       "  <tbody>\n",
       "    <tr>\n",
       "      <th id=\"T_5e433_level0_row0\" class=\"row_heading level0 row0\" >0</th>\n",
       "      <td id=\"T_5e433_row0_col0\" class=\"data row0 col0\" >1.000000</td>\n",
       "      <td id=\"T_5e433_row0_col1\" class=\"data row0 col1\" >0.146455</td>\n",
       "      <td id=\"T_5e433_row0_col2\" class=\"data row0 col2\" >-0.365662</td>\n",
       "      <td id=\"T_5e433_row0_col3\" class=\"data row0 col3\" >0.693570</td>\n",
       "      <td id=\"T_5e433_row0_col4\" class=\"data row0 col4\" >0.690306</td>\n",
       "    </tr>\n",
       "    <tr>\n",
       "      <th id=\"T_5e433_level0_row1\" class=\"row_heading level0 row1\" >1</th>\n",
       "      <td id=\"T_5e433_row1_col0\" class=\"data row1 col0\" >2.000000</td>\n",
       "      <td id=\"T_5e433_row1_col1\" class=\"data row1 col1\" >-0.072946</td>\n",
       "      <td id=\"T_5e433_row1_col2\" class=\"data row1 col2\" >0.606314</td>\n",
       "      <td id=\"T_5e433_row1_col3\" class=\"data row1 col3\" >-0.621071</td>\n",
       "      <td id=\"T_5e433_row1_col4\" class=\"data row1 col4\" >0.811737</td>\n",
       "    </tr>\n",
       "    <tr>\n",
       "      <th id=\"T_5e433_level0_row2\" class=\"row_heading level0 row2\" >2</th>\n",
       "      <td id=\"T_5e433_row2_col0\" class=\"data row2 col0\" >3.000000</td>\n",
       "      <td id=\"T_5e433_row2_col1\" class=\"data row2 col1\" >-0.021786</td>\n",
       "      <td id=\"T_5e433_row2_col2\" class=\"data row2 col2\" >-0.779558</td>\n",
       "      <td id=\"T_5e433_row2_col3\" class=\"data row2 col3\" >0.756754</td>\n",
       "      <td id=\"T_5e433_row2_col4\" class=\"data row2 col4\" >0.270068</td>\n",
       "    </tr>\n",
       "    <tr>\n",
       "      <th id=\"T_5e433_level0_row3\" class=\"row_heading level0 row3\" >3</th>\n",
       "      <td id=\"T_5e433_row3_col0\" class=\"data row3 col0\" >4.000000</td>\n",
       "      <td id=\"T_5e433_row3_col1\" class=\"data row3 col1\" >-1.051882</td>\n",
       "      <td id=\"T_5e433_row3_col2\" class=\"data row3 col2\" >0.994228</td>\n",
       "      <td id=\"T_5e433_row3_col3\" class=\"data row3 col3\" >2.511416</td>\n",
       "      <td id=\"T_5e433_row3_col4\" class=\"data row3 col4\" >0.276010</td>\n",
       "    </tr>\n",
       "    <tr>\n",
       "      <th id=\"T_5e433_level0_row4\" class=\"row_heading level0 row4\" >4</th>\n",
       "      <td id=\"T_5e433_row4_col0\" class=\"data row4 col0\" >5.000000</td>\n",
       "      <td id=\"T_5e433_row4_col1\" class=\"data row4 col1\" >0.832968</td>\n",
       "      <td id=\"T_5e433_row4_col2\" class=\"data row4 col2\" >-0.462091</td>\n",
       "      <td id=\"T_5e433_row4_col3\" class=\"data row4 col3\" >0.186629</td>\n",
       "      <td id=\"T_5e433_row4_col4\" class=\"data row4 col4\" >1.195954</td>\n",
       "    </tr>\n",
       "    <tr>\n",
       "      <th id=\"T_5e433_level0_row5\" class=\"row_heading level0 row5\" >5</th>\n",
       "      <td id=\"T_5e433_row5_col0\" class=\"data row5 col0\" >6.000000</td>\n",
       "      <td id=\"T_5e433_row5_col1\" class=\"data row5 col1\" >-1.276892</td>\n",
       "      <td id=\"T_5e433_row5_col2\" class=\"data row5 col2\" >-0.402668</td>\n",
       "      <td id=\"T_5e433_row5_col3\" class=\"data row5 col3\" >-1.386663</td>\n",
       "      <td id=\"T_5e433_row5_col4\" class=\"data row5 col4\" >-1.493220</td>\n",
       "    </tr>\n",
       "    <tr>\n",
       "      <th id=\"T_5e433_level0_row6\" class=\"row_heading level0 row6\" >6</th>\n",
       "      <td id=\"T_5e433_row6_col0\" class=\"data row6 col0\" >7.000000</td>\n",
       "      <td id=\"T_5e433_row6_col1\" class=\"data row6 col1\" >0.708174</td>\n",
       "      <td id=\"T_5e433_row6_col2\" class=\"data row6 col2\" >-0.682657</td>\n",
       "      <td id=\"T_5e433_row6_col3\" class=\"data row6 col3\" >2.340455</td>\n",
       "      <td id=\"T_5e433_row6_col4\" class=\"data row6 col4\" >1.512451</td>\n",
       "    </tr>\n",
       "    <tr>\n",
       "      <th id=\"T_5e433_level0_row7\" class=\"row_heading level0 row7\" >7</th>\n",
       "      <td id=\"T_5e433_row7_col0\" class=\"data row7 col0\" >8.000000</td>\n",
       "      <td id=\"T_5e433_row7_col1\" class=\"data row7 col1\" >-0.106800</td>\n",
       "      <td id=\"T_5e433_row7_col2\" class=\"data row7 col2\" >0.559504</td>\n",
       "      <td id=\"T_5e433_row7_col3\" class=\"data row7 col3\" >-0.653957</td>\n",
       "      <td id=\"T_5e433_row7_col4\" class=\"data row7 col4\" >0.291809</td>\n",
       "    </tr>\n",
       "    <tr>\n",
       "      <th id=\"T_5e433_level0_row8\" class=\"row_heading level0 row8\" >8</th>\n",
       "      <td id=\"T_5e433_row8_col0\" class=\"data row8 col0\" >9.000000</td>\n",
       "      <td id=\"T_5e433_row8_col1\" class=\"data row8 col1\" >-1.724659</td>\n",
       "      <td id=\"T_5e433_row8_col2\" class=\"data row8 col2\" >-1.550319</td>\n",
       "      <td id=\"T_5e433_row8_col3\" class=\"data row8 col3\" >0.448013</td>\n",
       "      <td id=\"T_5e433_row8_col4\" class=\"data row8 col4\" >0.628639</td>\n",
       "    </tr>\n",
       "    <tr>\n",
       "      <th id=\"T_5e433_level0_row9\" class=\"row_heading level0 row9\" >9</th>\n",
       "      <td id=\"T_5e433_row9_col0\" class=\"data row9 col0\" >10.000000</td>\n",
       "      <td id=\"T_5e433_row9_col1\" class=\"data row9 col1\" >-0.312276</td>\n",
       "      <td id=\"T_5e433_row9_col2\" class=\"data row9 col2\" >-0.164743</td>\n",
       "      <td id=\"T_5e433_row9_col3\" class=\"data row9 col3\" >0.802410</td>\n",
       "      <td id=\"T_5e433_row9_col4\" class=\"data row9 col4\" >1.353197</td>\n",
       "    </tr>\n",
       "  </tbody>\n",
       "</table>\n"
      ],
      "text/plain": [
       "<pandas.io.formats.style.Styler at 0x23fe805c7a0>"
      ]
     },
     "execution_count": 12,
     "metadata": {},
     "output_type": "execute_result"
    }
   ],
   "source": [
    "def color_neg_red(num):\n",
    "    color = \"red\" if num<0 else \"black\"\n",
    "    return f\"color: {color}\"\n",
    "\n",
    "df.style.map(color_neg_red)"
   ]
  },
  {
   "cell_type": "code",
   "execution_count": null,
   "id": "f05c59c7-43e9-45ee-b789-ed7484596d68",
   "metadata": {},
   "outputs": [],
   "source": []
  },
  {
   "cell_type": "markdown",
   "id": "4157c36e-ac3d-4cfe-b210-0d6c56ad3dcf",
   "metadata": {},
   "source": [
    "#2. Create a dataframe of ten rows, four columns with random values. Write a Pandas program to highlight the entire row in Yellow where a specific column value is greater than 0.5."
   ]
  },
  {
   "cell_type": "code",
   "execution_count": 48,
   "id": "e6e579a7-2363-47ff-92ad-8146a4fb6393",
   "metadata": {},
   "outputs": [
    {
     "data": {
      "text/html": [
       "<div>\n",
       "<style scoped>\n",
       "    .dataframe tbody tr th:only-of-type {\n",
       "        vertical-align: middle;\n",
       "    }\n",
       "\n",
       "    .dataframe tbody tr th {\n",
       "        vertical-align: top;\n",
       "    }\n",
       "\n",
       "    .dataframe thead th {\n",
       "        text-align: right;\n",
       "    }\n",
       "</style>\n",
       "<table border=\"1\" class=\"dataframe\">\n",
       "  <thead>\n",
       "    <tr style=\"text-align: right;\">\n",
       "      <th></th>\n",
       "      <th>A</th>\n",
       "      <th>B</th>\n",
       "      <th>C</th>\n",
       "      <th>D</th>\n",
       "    </tr>\n",
       "  </thead>\n",
       "  <tbody>\n",
       "    <tr>\n",
       "      <th>0</th>\n",
       "      <td>-1.630</td>\n",
       "      <td>-0.235</td>\n",
       "      <td>-0.164</td>\n",
       "      <td>0.658</td>\n",
       "    </tr>\n",
       "    <tr>\n",
       "      <th>1</th>\n",
       "      <td>-1.308</td>\n",
       "      <td>1.354</td>\n",
       "      <td>-0.129</td>\n",
       "      <td>-0.973</td>\n",
       "    </tr>\n",
       "  </tbody>\n",
       "</table>\n",
       "</div>"
      ],
      "text/plain": [
       "       A      B      C      D\n",
       "0 -1.630 -0.235 -0.164  0.658\n",
       "1 -1.308  1.354 -0.129 -0.973"
      ]
     },
     "execution_count": 48,
     "metadata": {},
     "output_type": "execute_result"
    }
   ],
   "source": [
    "df = pd.DataFrame(np.round(np.random.randn(10, 4), 3), columns=list(\"ABCD\"))\n",
    "\n",
    "df.head(2)"
   ]
  },
  {
   "cell_type": "code",
   "execution_count": 49,
   "id": "e9ec202d-3767-4134-ad0c-e10797f9d8db",
   "metadata": {},
   "outputs": [
    {
     "data": {
      "text/html": [
       "<style type=\"text/css\">\n",
       "#T_ef838_row1_col0, #T_ef838_row1_col1, #T_ef838_row1_col2, #T_ef838_row1_col3, #T_ef838_row4_col0, #T_ef838_row4_col1, #T_ef838_row4_col2, #T_ef838_row4_col3, #T_ef838_row5_col0, #T_ef838_row5_col1, #T_ef838_row5_col2, #T_ef838_row5_col3, #T_ef838_row7_col0, #T_ef838_row7_col1, #T_ef838_row7_col2, #T_ef838_row7_col3 {\n",
       "  background-color: yellow;\n",
       "}\n",
       "</style>\n",
       "<table id=\"T_ef838\">\n",
       "  <thead>\n",
       "    <tr>\n",
       "      <th class=\"blank level0\" >&nbsp;</th>\n",
       "      <th id=\"T_ef838_level0_col0\" class=\"col_heading level0 col0\" >A</th>\n",
       "      <th id=\"T_ef838_level0_col1\" class=\"col_heading level0 col1\" >B</th>\n",
       "      <th id=\"T_ef838_level0_col2\" class=\"col_heading level0 col2\" >C</th>\n",
       "      <th id=\"T_ef838_level0_col3\" class=\"col_heading level0 col3\" >D</th>\n",
       "    </tr>\n",
       "  </thead>\n",
       "  <tbody>\n",
       "    <tr>\n",
       "      <th id=\"T_ef838_level0_row0\" class=\"row_heading level0 row0\" >0</th>\n",
       "      <td id=\"T_ef838_row0_col0\" class=\"data row0 col0\" >-1.630000</td>\n",
       "      <td id=\"T_ef838_row0_col1\" class=\"data row0 col1\" >-0.235000</td>\n",
       "      <td id=\"T_ef838_row0_col2\" class=\"data row0 col2\" >-0.164000</td>\n",
       "      <td id=\"T_ef838_row0_col3\" class=\"data row0 col3\" >0.658000</td>\n",
       "    </tr>\n",
       "    <tr>\n",
       "      <th id=\"T_ef838_level0_row1\" class=\"row_heading level0 row1\" >1</th>\n",
       "      <td id=\"T_ef838_row1_col0\" class=\"data row1 col0\" >-1.308000</td>\n",
       "      <td id=\"T_ef838_row1_col1\" class=\"data row1 col1\" >1.354000</td>\n",
       "      <td id=\"T_ef838_row1_col2\" class=\"data row1 col2\" >-0.129000</td>\n",
       "      <td id=\"T_ef838_row1_col3\" class=\"data row1 col3\" >-0.973000</td>\n",
       "    </tr>\n",
       "    <tr>\n",
       "      <th id=\"T_ef838_level0_row2\" class=\"row_heading level0 row2\" >2</th>\n",
       "      <td id=\"T_ef838_row2_col0\" class=\"data row2 col0\" >-0.694000</td>\n",
       "      <td id=\"T_ef838_row2_col1\" class=\"data row2 col1\" >-0.049000</td>\n",
       "      <td id=\"T_ef838_row2_col2\" class=\"data row2 col2\" >-0.580000</td>\n",
       "      <td id=\"T_ef838_row2_col3\" class=\"data row2 col3\" >0.871000</td>\n",
       "    </tr>\n",
       "    <tr>\n",
       "      <th id=\"T_ef838_level0_row3\" class=\"row_heading level0 row3\" >3</th>\n",
       "      <td id=\"T_ef838_row3_col0\" class=\"data row3 col0\" >-0.970000</td>\n",
       "      <td id=\"T_ef838_row3_col1\" class=\"data row3 col1\" >0.423000</td>\n",
       "      <td id=\"T_ef838_row3_col2\" class=\"data row3 col2\" >1.974000</td>\n",
       "      <td id=\"T_ef838_row3_col3\" class=\"data row3 col3\" >0.306000</td>\n",
       "    </tr>\n",
       "    <tr>\n",
       "      <th id=\"T_ef838_level0_row4\" class=\"row_heading level0 row4\" >4</th>\n",
       "      <td id=\"T_ef838_row4_col0\" class=\"data row4 col0\" >0.999000</td>\n",
       "      <td id=\"T_ef838_row4_col1\" class=\"data row4 col1\" >0.872000</td>\n",
       "      <td id=\"T_ef838_row4_col2\" class=\"data row4 col2\" >-1.868000</td>\n",
       "      <td id=\"T_ef838_row4_col3\" class=\"data row4 col3\" >1.231000</td>\n",
       "    </tr>\n",
       "    <tr>\n",
       "      <th id=\"T_ef838_level0_row5\" class=\"row_heading level0 row5\" >5</th>\n",
       "      <td id=\"T_ef838_row5_col0\" class=\"data row5 col0\" >-0.129000</td>\n",
       "      <td id=\"T_ef838_row5_col1\" class=\"data row5 col1\" >0.842000</td>\n",
       "      <td id=\"T_ef838_row5_col2\" class=\"data row5 col2\" >1.105000</td>\n",
       "      <td id=\"T_ef838_row5_col3\" class=\"data row5 col3\" >0.467000</td>\n",
       "    </tr>\n",
       "    <tr>\n",
       "      <th id=\"T_ef838_level0_row6\" class=\"row_heading level0 row6\" >6</th>\n",
       "      <td id=\"T_ef838_row6_col0\" class=\"data row6 col0\" >0.205000</td>\n",
       "      <td id=\"T_ef838_row6_col1\" class=\"data row6 col1\" >-1.283000</td>\n",
       "      <td id=\"T_ef838_row6_col2\" class=\"data row6 col2\" >0.812000</td>\n",
       "      <td id=\"T_ef838_row6_col3\" class=\"data row6 col3\" >0.094000</td>\n",
       "    </tr>\n",
       "    <tr>\n",
       "      <th id=\"T_ef838_level0_row7\" class=\"row_heading level0 row7\" >7</th>\n",
       "      <td id=\"T_ef838_row7_col0\" class=\"data row7 col0\" >0.476000</td>\n",
       "      <td id=\"T_ef838_row7_col1\" class=\"data row7 col1\" >0.991000</td>\n",
       "      <td id=\"T_ef838_row7_col2\" class=\"data row7 col2\" >-1.119000</td>\n",
       "      <td id=\"T_ef838_row7_col3\" class=\"data row7 col3\" >0.993000</td>\n",
       "    </tr>\n",
       "    <tr>\n",
       "      <th id=\"T_ef838_level0_row8\" class=\"row_heading level0 row8\" >8</th>\n",
       "      <td id=\"T_ef838_row8_col0\" class=\"data row8 col0\" >1.389000</td>\n",
       "      <td id=\"T_ef838_row8_col1\" class=\"data row8 col1\" >-0.382000</td>\n",
       "      <td id=\"T_ef838_row8_col2\" class=\"data row8 col2\" >-1.756000</td>\n",
       "      <td id=\"T_ef838_row8_col3\" class=\"data row8 col3\" >2.107000</td>\n",
       "    </tr>\n",
       "    <tr>\n",
       "      <th id=\"T_ef838_level0_row9\" class=\"row_heading level0 row9\" >9</th>\n",
       "      <td id=\"T_ef838_row9_col0\" class=\"data row9 col0\" >0.669000</td>\n",
       "      <td id=\"T_ef838_row9_col1\" class=\"data row9 col1\" >0.491000</td>\n",
       "      <td id=\"T_ef838_row9_col2\" class=\"data row9 col2\" >0.008000</td>\n",
       "      <td id=\"T_ef838_row9_col3\" class=\"data row9 col3\" >-0.618000</td>\n",
       "    </tr>\n",
       "  </tbody>\n",
       "</table>\n"
      ],
      "text/plain": [
       "<pandas.io.formats.style.Styler at 0x23ff270cf80>"
      ]
     },
     "execution_count": 49,
     "metadata": {},
     "output_type": "execute_result"
    }
   ],
   "source": [
    "def highlight_row(row):\n",
    "    return ['background-color: yellow' if row['B'] > 0.5 else '' for _ in row]\n",
    "\n",
    "df.style.apply(highlight_row, axis=1)"
   ]
  },
  {
   "cell_type": "code",
   "execution_count": null,
   "id": "fa10f090-a88e-4576-9d6f-1a50272dd597",
   "metadata": {},
   "outputs": [],
   "source": []
  },
  {
   "cell_type": "markdown",
   "id": "ffab5c2a-c009-4f76-8bbe-25787d40c1e4",
   "metadata": {},
   "source": [
    "### 8 Pandas Excel and Database Operations"
   ]
  },
  {
   "cell_type": "markdown",
   "id": "d0936e6a-247f-40ba-b692-1a0e01602b70",
   "metadata": {},
   "source": [
    "#### Excel Data Analysis Exercises"
   ]
  },
  {
   "cell_type": "markdown",
   "id": "9342391d-1544-484c-9c45-e6448c942edc",
   "metadata": {},
   "source": [
    "#1. Write a Pandas program to import three datasheets from a given excel data (employee.xlsx ) into a single dataframe and export the result into new Excel file.\n",
    "Note: Structure of the three datasheets are same."
   ]
  },
  {
   "cell_type": "code",
   "execution_count": 58,
   "id": "6ed12d4d-f0a1-4029-8121-5f1c7e17b2c0",
   "metadata": {},
   "outputs": [],
   "source": [
    "df1 = pd.read_excel(\"22_employee.xlsx\", sheet_name=0)\n",
    "df2 = pd.read_excel(\"22_employee.xlsx\", sheet_name=1)\n",
    "df3 = pd.read_excel(\"22_employee.xlsx\", sheet_name=2)"
   ]
  },
  {
   "cell_type": "code",
   "execution_count": 59,
   "id": "52c59b1c-ec37-4089-b97b-207950dbafbc",
   "metadata": {},
   "outputs": [
    {
     "data": {
      "text/html": [
       "<div>\n",
       "<style scoped>\n",
       "    .dataframe tbody tr th:only-of-type {\n",
       "        vertical-align: middle;\n",
       "    }\n",
       "\n",
       "    .dataframe tbody tr th {\n",
       "        vertical-align: top;\n",
       "    }\n",
       "\n",
       "    .dataframe thead th {\n",
       "        text-align: right;\n",
       "    }\n",
       "</style>\n",
       "<table border=\"1\" class=\"dataframe\">\n",
       "  <thead>\n",
       "    <tr style=\"text-align: right;\">\n",
       "      <th></th>\n",
       "      <th>emp_id</th>\n",
       "      <th>first_name</th>\n",
       "      <th>last_name</th>\n",
       "      <th>hire_date</th>\n",
       "    </tr>\n",
       "  </thead>\n",
       "  <tbody>\n",
       "    <tr>\n",
       "      <th>0</th>\n",
       "      <td>100</td>\n",
       "      <td>Steven</td>\n",
       "      <td>King</td>\n",
       "      <td>2003-06-17</td>\n",
       "    </tr>\n",
       "    <tr>\n",
       "      <th>1</th>\n",
       "      <td>101</td>\n",
       "      <td>Neena</td>\n",
       "      <td>Kochhar</td>\n",
       "      <td>2005-09-21</td>\n",
       "    </tr>\n",
       "    <tr>\n",
       "      <th>2</th>\n",
       "      <td>102</td>\n",
       "      <td>Lex</td>\n",
       "      <td>De Haan</td>\n",
       "      <td>2001-01-13</td>\n",
       "    </tr>\n",
       "  </tbody>\n",
       "</table>\n",
       "</div>"
      ],
      "text/plain": [
       "   emp_id first_name last_name  hire_date\n",
       "0     100     Steven      King 2003-06-17\n",
       "1     101      Neena   Kochhar 2005-09-21\n",
       "2     102        Lex   De Haan 2001-01-13"
      ]
     },
     "execution_count": 59,
     "metadata": {},
     "output_type": "execute_result"
    }
   ],
   "source": [
    "df1.head(3)"
   ]
  },
  {
   "cell_type": "code",
   "execution_count": 60,
   "id": "efbf47a1-d234-4aab-8354-ff26a47bf772",
   "metadata": {},
   "outputs": [
    {
     "data": {
      "text/html": [
       "<div>\n",
       "<style scoped>\n",
       "    .dataframe tbody tr th:only-of-type {\n",
       "        vertical-align: middle;\n",
       "    }\n",
       "\n",
       "    .dataframe tbody tr th {\n",
       "        vertical-align: top;\n",
       "    }\n",
       "\n",
       "    .dataframe thead th {\n",
       "        text-align: right;\n",
       "    }\n",
       "</style>\n",
       "<table border=\"1\" class=\"dataframe\">\n",
       "  <thead>\n",
       "    <tr style=\"text-align: right;\">\n",
       "      <th></th>\n",
       "      <th>emp_id</th>\n",
       "      <th>first_name</th>\n",
       "      <th>last_name</th>\n",
       "      <th>hire_date</th>\n",
       "    </tr>\n",
       "  </thead>\n",
       "  <tbody>\n",
       "    <tr>\n",
       "      <th>0</th>\n",
       "      <td>120</td>\n",
       "      <td>Matthew</td>\n",
       "      <td>Weiss</td>\n",
       "      <td>2004-07-18</td>\n",
       "    </tr>\n",
       "    <tr>\n",
       "      <th>1</th>\n",
       "      <td>121</td>\n",
       "      <td>Adam</td>\n",
       "      <td>Fripp</td>\n",
       "      <td>2005-04-10</td>\n",
       "    </tr>\n",
       "    <tr>\n",
       "      <th>2</th>\n",
       "      <td>122</td>\n",
       "      <td>Payam</td>\n",
       "      <td>Kaufling</td>\n",
       "      <td>2003-05-01</td>\n",
       "    </tr>\n",
       "  </tbody>\n",
       "</table>\n",
       "</div>"
      ],
      "text/plain": [
       "   emp_id first_name last_name  hire_date\n",
       "0     120    Matthew     Weiss 2004-07-18\n",
       "1     121       Adam     Fripp 2005-04-10\n",
       "2     122      Payam  Kaufling 2003-05-01"
      ]
     },
     "execution_count": 60,
     "metadata": {},
     "output_type": "execute_result"
    }
   ],
   "source": [
    "df2.head(3)"
   ]
  },
  {
   "cell_type": "code",
   "execution_count": 61,
   "id": "c13426bb-de32-4785-be6a-0c62486b07c9",
   "metadata": {},
   "outputs": [
    {
     "data": {
      "text/html": [
       "<div>\n",
       "<style scoped>\n",
       "    .dataframe tbody tr th:only-of-type {\n",
       "        vertical-align: middle;\n",
       "    }\n",
       "\n",
       "    .dataframe tbody tr th {\n",
       "        vertical-align: top;\n",
       "    }\n",
       "\n",
       "    .dataframe thead th {\n",
       "        text-align: right;\n",
       "    }\n",
       "</style>\n",
       "<table border=\"1\" class=\"dataframe\">\n",
       "  <thead>\n",
       "    <tr style=\"text-align: right;\">\n",
       "      <th></th>\n",
       "      <th>emp_id</th>\n",
       "      <th>first_name</th>\n",
       "      <th>last_name</th>\n",
       "      <th>hire_date</th>\n",
       "    </tr>\n",
       "  </thead>\n",
       "  <tbody>\n",
       "    <tr>\n",
       "      <th>0</th>\n",
       "      <td>141</td>\n",
       "      <td>Trenna</td>\n",
       "      <td>Rajs</td>\n",
       "      <td>2003-10-17</td>\n",
       "    </tr>\n",
       "    <tr>\n",
       "      <th>1</th>\n",
       "      <td>142</td>\n",
       "      <td>Curtis</td>\n",
       "      <td>Davies</td>\n",
       "      <td>2005-01-29</td>\n",
       "    </tr>\n",
       "    <tr>\n",
       "      <th>2</th>\n",
       "      <td>143</td>\n",
       "      <td>Randall</td>\n",
       "      <td>Matos</td>\n",
       "      <td>2006-03-15</td>\n",
       "    </tr>\n",
       "  </tbody>\n",
       "</table>\n",
       "</div>"
      ],
      "text/plain": [
       "   emp_id first_name last_name  hire_date\n",
       "0     141     Trenna      Rajs 2003-10-17\n",
       "1     142     Curtis    Davies 2005-01-29\n",
       "2     143    Randall     Matos 2006-03-15"
      ]
     },
     "execution_count": 61,
     "metadata": {},
     "output_type": "execute_result"
    }
   ],
   "source": [
    "df3.head(3)"
   ]
  },
  {
   "cell_type": "code",
   "execution_count": 62,
   "id": "90b2b88c-b665-499f-a6c0-93a65e13c90c",
   "metadata": {},
   "outputs": [],
   "source": [
    "df = pd.concat([df1, df2, df3])\n",
    "df.to_excel('22_output.xlsx', index=False)"
   ]
  },
  {
   "cell_type": "code",
   "execution_count": null,
   "id": "1e98ebda-1baf-443c-9e94-76c99bfb7881",
   "metadata": {},
   "outputs": [],
   "source": []
  },
  {
   "cell_type": "markdown",
   "id": "16dd5c88-0eee-4cf1-8ff1-7388ab07a5ff",
   "metadata": {},
   "source": [
    "#2. Write a Pandas program to import excel data (coalpublic2013.xlsx ) into a dataframe and draw a bar plot comparing year, MSHA ID, Production and Labor_hours of first ten records."
   ]
  },
  {
   "cell_type": "code",
   "execution_count": 63,
   "id": "c6aebf32-b51d-4eb0-861b-7a6cd7ce850d",
   "metadata": {},
   "outputs": [
    {
     "data": {
      "text/html": [
       "<div>\n",
       "<style scoped>\n",
       "    .dataframe tbody tr th:only-of-type {\n",
       "        vertical-align: middle;\n",
       "    }\n",
       "\n",
       "    .dataframe tbody tr th {\n",
       "        vertical-align: top;\n",
       "    }\n",
       "\n",
       "    .dataframe thead th {\n",
       "        text-align: right;\n",
       "    }\n",
       "</style>\n",
       "<table border=\"1\" class=\"dataframe\">\n",
       "  <thead>\n",
       "    <tr style=\"text-align: right;\">\n",
       "      <th></th>\n",
       "      <th>Year</th>\n",
       "      <th>MSHA ID</th>\n",
       "      <th>Mine_Name</th>\n",
       "      <th>Production</th>\n",
       "      <th>Labor_Hours</th>\n",
       "    </tr>\n",
       "  </thead>\n",
       "  <tbody>\n",
       "    <tr>\n",
       "      <th>0</th>\n",
       "      <td>2013</td>\n",
       "      <td>103381</td>\n",
       "      <td>Tacoa Highwall Miner</td>\n",
       "      <td>56004</td>\n",
       "      <td>22392</td>\n",
       "    </tr>\n",
       "    <tr>\n",
       "      <th>1</th>\n",
       "      <td>2013</td>\n",
       "      <td>103404</td>\n",
       "      <td>Reid School Mine</td>\n",
       "      <td>28807</td>\n",
       "      <td>28447</td>\n",
       "    </tr>\n",
       "    <tr>\n",
       "      <th>2</th>\n",
       "      <td>2013</td>\n",
       "      <td>100759</td>\n",
       "      <td>North River #1 Underground Min</td>\n",
       "      <td>1440115</td>\n",
       "      <td>474784</td>\n",
       "    </tr>\n",
       "  </tbody>\n",
       "</table>\n",
       "</div>"
      ],
      "text/plain": [
       "   Year  MSHA ID                       Mine_Name  Production  Labor_Hours\n",
       "0  2013   103381            Tacoa Highwall Miner       56004        22392\n",
       "1  2013   103404                Reid School Mine       28807        28447\n",
       "2  2013   100759  North River #1 Underground Min     1440115       474784"
      ]
     },
     "execution_count": 63,
     "metadata": {},
     "output_type": "execute_result"
    }
   ],
   "source": [
    "df = pd.read_excel(\"22_coalpublic2013.xlsx\")\n",
    "df.head(3)"
   ]
  },
  {
   "cell_type": "code",
   "execution_count": 69,
   "id": "2ca1382a-1ddf-45b6-b812-9d6d755027a0",
   "metadata": {},
   "outputs": [
    {
     "data": {
      "image/png": "[encoded data removed]",
      "text/plain": [
       "<Figure size 1500x800 with 1 Axes>"
      ]
     },
     "metadata": {},
     "output_type": "display_data"
    }
   ],
   "source": [
    "import matplotlib.pyplot as plt\n",
    "\n",
    "df.head(10).plot(kind='bar', figsize=(15,8))\n",
    "plt.show()"
   ]
  },
  {
   "cell_type": "code",
   "execution_count": null,
   "id": "8a7a826b-6937-4024-9a60-1668e73d2cdf",
   "metadata": {},
   "outputs": [],
   "source": []
  },
  {
   "cell_type": "markdown",
   "id": "d59059ce-16c3-47ef-98ed-3a3cf3a94bda",
   "metadata": {},
   "source": [
    "#### SQL Database Queries"
   ]
  },
  {
   "cell_type": "markdown",
   "id": "6eb99ad0-c05b-43e2-9f8d-0ffbb3f22ea4",
   "metadata": {},
   "source": [
    "#1. Write a Pandas program to display the first and last name and date of joining of the employees who is either Sales Representative or Sales Man."
   ]
  },
  {
   "cell_type": "code",
   "execution_count": 9,
   "id": "b2c18404-9657-4363-b2b9-576ce136d641",
   "metadata": {},
   "outputs": [
    {
     "data": {
      "text/html": [
       "<div>\n",
       "<style scoped>\n",
       "    .dataframe tbody tr th:only-of-type {\n",
       "        vertical-align: middle;\n",
       "    }\n",
       "\n",
       "    .dataframe tbody tr th {\n",
       "        vertical-align: top;\n",
       "    }\n",
       "\n",
       "    .dataframe thead th {\n",
       "        text-align: right;\n",
       "    }\n",
       "</style>\n",
       "<table border=\"1\" class=\"dataframe\">\n",
       "  <thead>\n",
       "    <tr style=\"text-align: right;\">\n",
       "      <th></th>\n",
       "      <th>employ_id</th>\n",
       "      <th>first_name</th>\n",
       "      <th>last_name</th>\n",
       "      <th>email</th>\n",
       "      <th>phone_number</th>\n",
       "      <th>hire_date</th>\n",
       "      <th>job_id</th>\n",
       "      <th>salary</th>\n",
       "      <th>commission_pct</th>\n",
       "      <th>manager_id</th>\n",
       "      <th>department_id</th>\n",
       "    </tr>\n",
       "  </thead>\n",
       "  <tbody>\n",
       "    <tr>\n",
       "      <th>0</th>\n",
       "      <td>100</td>\n",
       "      <td>Steven</td>\n",
       "      <td>King</td>\n",
       "      <td>SKING</td>\n",
       "      <td>515.123.4567</td>\n",
       "      <td>2003-06-17</td>\n",
       "      <td>AD_PRES</td>\n",
       "      <td>24000</td>\n",
       "      <td>NaN</td>\n",
       "      <td>NaN</td>\n",
       "      <td>90.0</td>\n",
       "    </tr>\n",
       "    <tr>\n",
       "      <th>1</th>\n",
       "      <td>101</td>\n",
       "      <td>Neena</td>\n",
       "      <td>Kochhar</td>\n",
       "      <td>NKOCHHAR</td>\n",
       "      <td>515.123.4568</td>\n",
       "      <td>2005-09-21</td>\n",
       "      <td>AD_VP</td>\n",
       "      <td>17000</td>\n",
       "      <td>NaN</td>\n",
       "      <td>100.0</td>\n",
       "      <td>90.0</td>\n",
       "    </tr>\n",
       "    <tr>\n",
       "      <th>2</th>\n",
       "      <td>102</td>\n",
       "      <td>Lex</td>\n",
       "      <td>De Haan</td>\n",
       "      <td>LDEHAAN</td>\n",
       "      <td>515.123.4569</td>\n",
       "      <td>2001-01-13</td>\n",
       "      <td>AD_VP</td>\n",
       "      <td>17000</td>\n",
       "      <td>NaN</td>\n",
       "      <td>100.0</td>\n",
       "      <td>90.0</td>\n",
       "    </tr>\n",
       "    <tr>\n",
       "      <th>3</th>\n",
       "      <td>103</td>\n",
       "      <td>Alexander</td>\n",
       "      <td>Hunold</td>\n",
       "      <td>AHUNOLD</td>\n",
       "      <td>590.423.4567</td>\n",
       "      <td>2006-01-03</td>\n",
       "      <td>IT_PROG</td>\n",
       "      <td>9000</td>\n",
       "      <td>NaN</td>\n",
       "      <td>102.0</td>\n",
       "      <td>60.0</td>\n",
       "    </tr>\n",
       "    <tr>\n",
       "      <th>4</th>\n",
       "      <td>104</td>\n",
       "      <td>Bruce</td>\n",
       "      <td>Ernst</td>\n",
       "      <td>BERNST</td>\n",
       "      <td>590.423.4568</td>\n",
       "      <td>2007-05-21</td>\n",
       "      <td>IT_PROG</td>\n",
       "      <td>6000</td>\n",
       "      <td>NaN</td>\n",
       "      <td>103.0</td>\n",
       "      <td>60.0</td>\n",
       "    </tr>\n",
       "  </tbody>\n",
       "</table>\n",
       "</div>"
      ],
      "text/plain": [
       "   employ_id first_name last_name     email  phone_number   hire_date  \\\n",
       "0        100     Steven      King     SKING  515.123.4567  2003-06-17   \n",
       "1        101      Neena   Kochhar  NKOCHHAR  515.123.4568  2005-09-21   \n",
       "2        102        Lex   De Haan   LDEHAAN  515.123.4569  2001-01-13   \n",
       "3        103  Alexander    Hunold   AHUNOLD  590.423.4567  2006-01-03   \n",
       "4        104      Bruce     Ernst    BERNST  590.423.4568  2007-05-21   \n",
       "\n",
       "    job_id  salary  commission_pct  manager_id  department_id  \n",
       "0  AD_PRES   24000             NaN         NaN           90.0  \n",
       "1    AD_VP   17000             NaN       100.0           90.0  \n",
       "2    AD_VP   17000             NaN       100.0           90.0  \n",
       "3  IT_PROG    9000             NaN       102.0           60.0  \n",
       "4  IT_PROG    6000             NaN       103.0           60.0  "
      ]
     },
     "execution_count": 9,
     "metadata": {},
     "output_type": "execute_result"
    }
   ],
   "source": [
    "employees = pd.read_csv(\"22_EMPLOYEES.csv\")\n",
    "\n",
    "employees.head()"
   ]
  },
  {
   "cell_type": "code",
   "execution_count": 15,
   "id": "606e8182-43ce-4659-ab80-438c19d37b84",
   "metadata": {
    "scrolled": true
   },
   "outputs": [
    {
     "data": {
      "text/html": [
       "<div>\n",
       "<style scoped>\n",
       "    .dataframe tbody tr th:only-of-type {\n",
       "        vertical-align: middle;\n",
       "    }\n",
       "\n",
       "    .dataframe tbody tr th {\n",
       "        vertical-align: top;\n",
       "    }\n",
       "\n",
       "    .dataframe thead th {\n",
       "        text-align: right;\n",
       "    }\n",
       "</style>\n",
       "<table border=\"1\" class=\"dataframe\">\n",
       "  <thead>\n",
       "    <tr style=\"text-align: right;\">\n",
       "      <th></th>\n",
       "      <th>first_name</th>\n",
       "      <th>last_name</th>\n",
       "      <th>hire_date</th>\n",
       "    </tr>\n",
       "  </thead>\n",
       "  <tbody>\n",
       "    <tr>\n",
       "      <th>45</th>\n",
       "      <td>John</td>\n",
       "      <td>Russell</td>\n",
       "      <td>2004-10-01</td>\n",
       "    </tr>\n",
       "    <tr>\n",
       "      <th>46</th>\n",
       "      <td>Karen</td>\n",
       "      <td>Partners</td>\n",
       "      <td>2005-01-05</td>\n",
       "    </tr>\n",
       "    <tr>\n",
       "      <th>47</th>\n",
       "      <td>Alberto</td>\n",
       "      <td>Errazuriz</td>\n",
       "      <td>2005-03-10</td>\n",
       "    </tr>\n",
       "    <tr>\n",
       "      <th>48</th>\n",
       "      <td>Gerald</td>\n",
       "      <td>Cambrault</td>\n",
       "      <td>2007-10-15</td>\n",
       "    </tr>\n",
       "    <tr>\n",
       "      <th>49</th>\n",
       "      <td>Eleni</td>\n",
       "      <td>Zlotkey</td>\n",
       "      <td>2008-01-29</td>\n",
       "    </tr>\n",
       "    <tr>\n",
       "      <th>50</th>\n",
       "      <td>Peter</td>\n",
       "      <td>Tucker</td>\n",
       "      <td>2005-01-30</td>\n",
       "    </tr>\n",
       "    <tr>\n",
       "      <th>51</th>\n",
       "      <td>David</td>\n",
       "      <td>Bernstein</td>\n",
       "      <td>2005-03-24</td>\n",
       "    </tr>\n",
       "    <tr>\n",
       "      <th>52</th>\n",
       "      <td>Peter</td>\n",
       "      <td>Hall</td>\n",
       "      <td>2005-08-20</td>\n",
       "    </tr>\n",
       "    <tr>\n",
       "      <th>53</th>\n",
       "      <td>Christopher</td>\n",
       "      <td>Olsen</td>\n",
       "      <td>2006-03-30</td>\n",
       "    </tr>\n",
       "    <tr>\n",
       "      <th>54</th>\n",
       "      <td>Nanette</td>\n",
       "      <td>Cambrault</td>\n",
       "      <td>2006-12-09</td>\n",
       "    </tr>\n",
       "    <tr>\n",
       "      <th>55</th>\n",
       "      <td>Oliver</td>\n",
       "      <td>Tuvault</td>\n",
       "      <td>2007-11-23</td>\n",
       "    </tr>\n",
       "    <tr>\n",
       "      <th>56</th>\n",
       "      <td>Janette</td>\n",
       "      <td>King</td>\n",
       "      <td>2004-01-30</td>\n",
       "    </tr>\n",
       "    <tr>\n",
       "      <th>57</th>\n",
       "      <td>Patrick</td>\n",
       "      <td>Sully</td>\n",
       "      <td>2004-03-04</td>\n",
       "    </tr>\n",
       "    <tr>\n",
       "      <th>58</th>\n",
       "      <td>Allan</td>\n",
       "      <td>McEwen</td>\n",
       "      <td>2004-08-01</td>\n",
       "    </tr>\n",
       "    <tr>\n",
       "      <th>59</th>\n",
       "      <td>Lindsey</td>\n",
       "      <td>Smith</td>\n",
       "      <td>2005-03-10</td>\n",
       "    </tr>\n",
       "    <tr>\n",
       "      <th>60</th>\n",
       "      <td>Louise</td>\n",
       "      <td>Doran</td>\n",
       "      <td>2005-12-15</td>\n",
       "    </tr>\n",
       "    <tr>\n",
       "      <th>61</th>\n",
       "      <td>Sarath</td>\n",
       "      <td>Sewall</td>\n",
       "      <td>2006-11-03</td>\n",
       "    </tr>\n",
       "    <tr>\n",
       "      <th>62</th>\n",
       "      <td>Clara</td>\n",
       "      <td>Vishney</td>\n",
       "      <td>2005-11-11</td>\n",
       "    </tr>\n",
       "    <tr>\n",
       "      <th>63</th>\n",
       "      <td>Danielle</td>\n",
       "      <td>Greene</td>\n",
       "      <td>2007-03-19</td>\n",
       "    </tr>\n",
       "    <tr>\n",
       "      <th>64</th>\n",
       "      <td>Mattea</td>\n",
       "      <td>Marvins</td>\n",
       "      <td>2008-01-24</td>\n",
       "    </tr>\n",
       "    <tr>\n",
       "      <th>65</th>\n",
       "      <td>David</td>\n",
       "      <td>Lee</td>\n",
       "      <td>2008-02-23</td>\n",
       "    </tr>\n",
       "    <tr>\n",
       "      <th>66</th>\n",
       "      <td>Sundar</td>\n",
       "      <td>Ande</td>\n",
       "      <td>2008-03-24</td>\n",
       "    </tr>\n",
       "    <tr>\n",
       "      <th>67</th>\n",
       "      <td>Amit</td>\n",
       "      <td>Banda</td>\n",
       "      <td>2008-04-21</td>\n",
       "    </tr>\n",
       "    <tr>\n",
       "      <th>68</th>\n",
       "      <td>Lisa</td>\n",
       "      <td>Ozer</td>\n",
       "      <td>2005-03-11</td>\n",
       "    </tr>\n",
       "    <tr>\n",
       "      <th>69</th>\n",
       "      <td>Harrison</td>\n",
       "      <td>Bloom</td>\n",
       "      <td>2006-03-23</td>\n",
       "    </tr>\n",
       "    <tr>\n",
       "      <th>70</th>\n",
       "      <td>Tayler</td>\n",
       "      <td>Fox</td>\n",
       "      <td>2006-01-24</td>\n",
       "    </tr>\n",
       "    <tr>\n",
       "      <th>71</th>\n",
       "      <td>William</td>\n",
       "      <td>Smith</td>\n",
       "      <td>2007-02-23</td>\n",
       "    </tr>\n",
       "    <tr>\n",
       "      <th>72</th>\n",
       "      <td>Elizabeth</td>\n",
       "      <td>Bates</td>\n",
       "      <td>2007-03-24</td>\n",
       "    </tr>\n",
       "    <tr>\n",
       "      <th>73</th>\n",
       "      <td>Sundita</td>\n",
       "      <td>Kumar</td>\n",
       "      <td>2008-04-21</td>\n",
       "    </tr>\n",
       "    <tr>\n",
       "      <th>74</th>\n",
       "      <td>Ellen</td>\n",
       "      <td>Abel</td>\n",
       "      <td>2004-05-11</td>\n",
       "    </tr>\n",
       "    <tr>\n",
       "      <th>75</th>\n",
       "      <td>Alyssa</td>\n",
       "      <td>Hutton</td>\n",
       "      <td>2005-03-19</td>\n",
       "    </tr>\n",
       "    <tr>\n",
       "      <th>76</th>\n",
       "      <td>Jonathon</td>\n",
       "      <td>Taylor</td>\n",
       "      <td>2006-03-24</td>\n",
       "    </tr>\n",
       "    <tr>\n",
       "      <th>77</th>\n",
       "      <td>Jack</td>\n",
       "      <td>Livingston</td>\n",
       "      <td>2006-04-23</td>\n",
       "    </tr>\n",
       "    <tr>\n",
       "      <th>78</th>\n",
       "      <td>Kimberely</td>\n",
       "      <td>Grant</td>\n",
       "      <td>2007-05-24</td>\n",
       "    </tr>\n",
       "    <tr>\n",
       "      <th>79</th>\n",
       "      <td>Charles</td>\n",
       "      <td>Johnson</td>\n",
       "      <td>2008-01-04</td>\n",
       "    </tr>\n",
       "  </tbody>\n",
       "</table>\n",
       "</div>"
      ],
      "text/plain": [
       "     first_name   last_name   hire_date\n",
       "45         John     Russell  2004-10-01\n",
       "46        Karen    Partners  2005-01-05\n",
       "47      Alberto   Errazuriz  2005-03-10\n",
       "48       Gerald   Cambrault  2007-10-15\n",
       "49        Eleni     Zlotkey  2008-01-29\n",
       "50        Peter      Tucker  2005-01-30\n",
       "51        David   Bernstein  2005-03-24\n",
       "52        Peter        Hall  2005-08-20\n",
       "53  Christopher       Olsen  2006-03-30\n",
       "54      Nanette   Cambrault  2006-12-09\n",
       "55       Oliver     Tuvault  2007-11-23\n",
       "56      Janette        King  2004-01-30\n",
       "57      Patrick       Sully  2004-03-04\n",
       "58        Allan      McEwen  2004-08-01\n",
       "59      Lindsey       Smith  2005-03-10\n",
       "60       Louise       Doran  2005-12-15\n",
       "61       Sarath      Sewall  2006-11-03\n",
       "62        Clara     Vishney  2005-11-11\n",
       "63     Danielle      Greene  2007-03-19\n",
       "64       Mattea     Marvins  2008-01-24\n",
       "65        David         Lee  2008-02-23\n",
       "66       Sundar        Ande  2008-03-24\n",
       "67         Amit       Banda  2008-04-21\n",
       "68         Lisa        Ozer  2005-03-11\n",
       "69     Harrison       Bloom  2006-03-23\n",
       "70       Tayler         Fox  2006-01-24\n",
       "71      William       Smith  2007-02-23\n",
       "72    Elizabeth       Bates  2007-03-24\n",
       "73      Sundita       Kumar  2008-04-21\n",
       "74        Ellen        Abel  2004-05-11\n",
       "75       Alyssa      Hutton  2005-03-19\n",
       "76     Jonathon      Taylor  2006-03-24\n",
       "77         Jack  Livingston  2006-04-23\n",
       "78    Kimberely       Grant  2007-05-24\n",
       "79      Charles     Johnson  2008-01-04"
      ]
     },
     "execution_count": 15,
     "metadata": {},
     "output_type": "execute_result"
    }
   ],
   "source": [
    "df[(df[\"job_id\"] == \"SA_MAN\") | (df[\"job_id\"] == \"SA_REP\")][[\"first_name\", \"last_name\", \"hire_date\"]]"
   ]
  },
  {
   "cell_type": "code",
   "execution_count": null,
   "id": "56039f83-9c96-43e2-98e5-892ca38ab576",
   "metadata": {},
   "outputs": [],
   "source": []
  },
  {
   "cell_type": "markdown",
   "id": "ee58783c-0a65-47b1-8eef-aef56eaa9c3d",
   "metadata": {},
   "source": [
    "#2. Write a Pandas program to display the details of jobs in descending sequence on job title."
   ]
  },
  {
   "cell_type": "code",
   "execution_count": 16,
   "id": "5aed3035-db60-4ee2-848e-5be30add6c53",
   "metadata": {},
   "outputs": [
    {
     "data": {
      "text/html": [
       "<div>\n",
       "<style scoped>\n",
       "    .dataframe tbody tr th:only-of-type {\n",
       "        vertical-align: middle;\n",
       "    }\n",
       "\n",
       "    .dataframe tbody tr th {\n",
       "        vertical-align: top;\n",
       "    }\n",
       "\n",
       "    .dataframe thead th {\n",
       "        text-align: right;\n",
       "    }\n",
       "</style>\n",
       "<table border=\"1\" class=\"dataframe\">\n",
       "  <thead>\n",
       "    <tr style=\"text-align: right;\">\n",
       "      <th></th>\n",
       "      <th>job_id</th>\n",
       "      <th>job_title</th>\n",
       "      <th>min_salary</th>\n",
       "      <th>max_salary</th>\n",
       "    </tr>\n",
       "  </thead>\n",
       "  <tbody>\n",
       "    <tr>\n",
       "      <th>0</th>\n",
       "      <td>AD_PRES</td>\n",
       "      <td>President</td>\n",
       "      <td>20000</td>\n",
       "      <td>40000</td>\n",
       "    </tr>\n",
       "    <tr>\n",
       "      <th>1</th>\n",
       "      <td>AD_VP</td>\n",
       "      <td>Administration Vice President</td>\n",
       "      <td>15000</td>\n",
       "      <td>30000</td>\n",
       "    </tr>\n",
       "    <tr>\n",
       "      <th>2</th>\n",
       "      <td>AD_ASST</td>\n",
       "      <td>Administration Assistant</td>\n",
       "      <td>3000</td>\n",
       "      <td>6000</td>\n",
       "    </tr>\n",
       "    <tr>\n",
       "      <th>3</th>\n",
       "      <td>FI_MGR</td>\n",
       "      <td>Finance Manager</td>\n",
       "      <td>8200</td>\n",
       "      <td>16000</td>\n",
       "    </tr>\n",
       "    <tr>\n",
       "      <th>4</th>\n",
       "      <td>FI_ACCOUNT</td>\n",
       "      <td>Accountant</td>\n",
       "      <td>4200</td>\n",
       "      <td>9000</td>\n",
       "    </tr>\n",
       "  </tbody>\n",
       "</table>\n",
       "</div>"
      ],
      "text/plain": [
       "       job_id                      job_title  min_salary  max_salary\n",
       "0     AD_PRES                      President       20000       40000\n",
       "1       AD_VP  Administration Vice President       15000       30000\n",
       "2     AD_ASST       Administration Assistant        3000        6000\n",
       "3      FI_MGR                Finance Manager        8200       16000\n",
       "4  FI_ACCOUNT                     Accountant        4200        9000"
      ]
     },
     "execution_count": 16,
     "metadata": {},
     "output_type": "execute_result"
    }
   ],
   "source": [
    "jobs = pd.read_csv(\"22_JOBS.csv\")\n",
    "jobs.head()"
   ]
  },
  {
   "cell_type": "code",
   "execution_count": 18,
   "id": "54e36fb9-c1be-4ac7-a1f6-c367c38e729a",
   "metadata": {
    "scrolled": true
   },
   "outputs": [
    {
     "data": {
      "text/html": [
       "<div>\n",
       "<style scoped>\n",
       "    .dataframe tbody tr th:only-of-type {\n",
       "        vertical-align: middle;\n",
       "    }\n",
       "\n",
       "    .dataframe tbody tr th {\n",
       "        vertical-align: top;\n",
       "    }\n",
       "\n",
       "    .dataframe thead th {\n",
       "        text-align: right;\n",
       "    }\n",
       "</style>\n",
       "<table border=\"1\" class=\"dataframe\">\n",
       "  <thead>\n",
       "    <tr style=\"text-align: right;\">\n",
       "      <th></th>\n",
       "      <th>job_id</th>\n",
       "      <th>job_title</th>\n",
       "      <th>min_salary</th>\n",
       "      <th>max_salary</th>\n",
       "    </tr>\n",
       "  </thead>\n",
       "  <tbody>\n",
       "    <tr>\n",
       "      <th>11</th>\n",
       "      <td>ST_MAN</td>\n",
       "      <td>Stock Manager</td>\n",
       "      <td>5500</td>\n",
       "      <td>8500</td>\n",
       "    </tr>\n",
       "    <tr>\n",
       "      <th>12</th>\n",
       "      <td>ST_CLERK</td>\n",
       "      <td>Stock Clerk</td>\n",
       "      <td>2000</td>\n",
       "      <td>5000</td>\n",
       "    </tr>\n",
       "    <tr>\n",
       "      <th>13</th>\n",
       "      <td>SH_CLERK</td>\n",
       "      <td>Shipping Clerk</td>\n",
       "      <td>2500</td>\n",
       "      <td>5500</td>\n",
       "    </tr>\n",
       "    <tr>\n",
       "      <th>8</th>\n",
       "      <td>SA_REP</td>\n",
       "      <td>Sales Representative</td>\n",
       "      <td>6000</td>\n",
       "      <td>12000</td>\n",
       "    </tr>\n",
       "    <tr>\n",
       "      <th>7</th>\n",
       "      <td>SA_MAN</td>\n",
       "      <td>Sales Manager</td>\n",
       "      <td>10000</td>\n",
       "      <td>20000</td>\n",
       "    </tr>\n",
       "    <tr>\n",
       "      <th>9</th>\n",
       "      <td>PU_MAN</td>\n",
       "      <td>Purchasing Manager</td>\n",
       "      <td>8000</td>\n",
       "      <td>15000</td>\n",
       "    </tr>\n",
       "    <tr>\n",
       "      <th>10</th>\n",
       "      <td>PU_CLERK</td>\n",
       "      <td>Purchasing Clerk</td>\n",
       "      <td>2500</td>\n",
       "      <td>5500</td>\n",
       "    </tr>\n",
       "    <tr>\n",
       "      <th>18</th>\n",
       "      <td>PR_REP</td>\n",
       "      <td>Public Relations Representative</td>\n",
       "      <td>4500</td>\n",
       "      <td>10500</td>\n",
       "    </tr>\n",
       "    <tr>\n",
       "      <th>6</th>\n",
       "      <td>AC_ACCOUNT</td>\n",
       "      <td>Public Accountant</td>\n",
       "      <td>4200</td>\n",
       "      <td>9000</td>\n",
       "    </tr>\n",
       "    <tr>\n",
       "      <th>14</th>\n",
       "      <td>IT_PROG</td>\n",
       "      <td>Programmer</td>\n",
       "      <td>4000</td>\n",
       "      <td>10000</td>\n",
       "    </tr>\n",
       "    <tr>\n",
       "      <th>0</th>\n",
       "      <td>AD_PRES</td>\n",
       "      <td>President</td>\n",
       "      <td>20000</td>\n",
       "      <td>40000</td>\n",
       "    </tr>\n",
       "    <tr>\n",
       "      <th>16</th>\n",
       "      <td>MK_REP</td>\n",
       "      <td>Marketing Representative</td>\n",
       "      <td>4000</td>\n",
       "      <td>9000</td>\n",
       "    </tr>\n",
       "    <tr>\n",
       "      <th>15</th>\n",
       "      <td>MK_MAN</td>\n",
       "      <td>Marketing Manager</td>\n",
       "      <td>9000</td>\n",
       "      <td>15000</td>\n",
       "    </tr>\n",
       "    <tr>\n",
       "      <th>17</th>\n",
       "      <td>HR_REP</td>\n",
       "      <td>Human Resources Representative</td>\n",
       "      <td>4000</td>\n",
       "      <td>9000</td>\n",
       "    </tr>\n",
       "    <tr>\n",
       "      <th>3</th>\n",
       "      <td>FI_MGR</td>\n",
       "      <td>Finance Manager</td>\n",
       "      <td>8200</td>\n",
       "      <td>16000</td>\n",
       "    </tr>\n",
       "    <tr>\n",
       "      <th>1</th>\n",
       "      <td>AD_VP</td>\n",
       "      <td>Administration Vice President</td>\n",
       "      <td>15000</td>\n",
       "      <td>30000</td>\n",
       "    </tr>\n",
       "    <tr>\n",
       "      <th>2</th>\n",
       "      <td>AD_ASST</td>\n",
       "      <td>Administration Assistant</td>\n",
       "      <td>3000</td>\n",
       "      <td>6000</td>\n",
       "    </tr>\n",
       "    <tr>\n",
       "      <th>5</th>\n",
       "      <td>AC_MGR</td>\n",
       "      <td>Accounting Manager</td>\n",
       "      <td>8200</td>\n",
       "      <td>16000</td>\n",
       "    </tr>\n",
       "    <tr>\n",
       "      <th>4</th>\n",
       "      <td>FI_ACCOUNT</td>\n",
       "      <td>Accountant</td>\n",
       "      <td>4200</td>\n",
       "      <td>9000</td>\n",
       "    </tr>\n",
       "  </tbody>\n",
       "</table>\n",
       "</div>"
      ],
      "text/plain": [
       "        job_id                        job_title  min_salary  max_salary\n",
       "11      ST_MAN                    Stock Manager        5500        8500\n",
       "12    ST_CLERK                      Stock Clerk        2000        5000\n",
       "13    SH_CLERK                   Shipping Clerk        2500        5500\n",
       "8       SA_REP             Sales Representative        6000       12000\n",
       "7       SA_MAN                    Sales Manager       10000       20000\n",
       "9       PU_MAN               Purchasing Manager        8000       15000\n",
       "10    PU_CLERK                 Purchasing Clerk        2500        5500\n",
       "18      PR_REP  Public Relations Representative        4500       10500\n",
       "6   AC_ACCOUNT                Public Accountant        4200        9000\n",
       "14     IT_PROG                       Programmer        4000       10000\n",
       "0      AD_PRES                        President       20000       40000\n",
       "16      MK_REP         Marketing Representative        4000        9000\n",
       "15      MK_MAN                Marketing Manager        9000       15000\n",
       "17      HR_REP   Human Resources Representative        4000        9000\n",
       "3       FI_MGR                  Finance Manager        8200       16000\n",
       "1        AD_VP    Administration Vice President       15000       30000\n",
       "2      AD_ASST         Administration Assistant        3000        6000\n",
       "5       AC_MGR               Accounting Manager        8200       16000\n",
       "4   FI_ACCOUNT                       Accountant        4200        9000"
      ]
     },
     "execution_count": 18,
     "metadata": {},
     "output_type": "execute_result"
    }
   ],
   "source": [
    "jobs.sort_values(\"job_title\", ascending=False)"
   ]
  },
  {
   "cell_type": "code",
   "execution_count": null,
   "id": "a756ddf2-cc8e-4618-ab34-c49f5210dc50",
   "metadata": {},
   "outputs": [],
   "source": []
  },
  {
   "cell_type": "markdown",
   "id": "38c07bf3-4012-4319-ad9d-317cc1bd3714",
   "metadata": {},
   "source": [
    "#3.  Write a Pandas program to display the ID for those employees who did two or more jobs in the past."
   ]
  },
  {
   "cell_type": "code",
   "execution_count": 19,
   "id": "51ce8a1e-ad95-4941-a86b-8aa16f7a3198",
   "metadata": {},
   "outputs": [
    {
     "data": {
      "text/html": [
       "<div>\n",
       "<style scoped>\n",
       "    .dataframe tbody tr th:only-of-type {\n",
       "        vertical-align: middle;\n",
       "    }\n",
       "\n",
       "    .dataframe tbody tr th {\n",
       "        vertical-align: top;\n",
       "    }\n",
       "\n",
       "    .dataframe thead th {\n",
       "        text-align: right;\n",
       "    }\n",
       "</style>\n",
       "<table border=\"1\" class=\"dataframe\">\n",
       "  <thead>\n",
       "    <tr style=\"text-align: right;\">\n",
       "      <th></th>\n",
       "      <th>employee_id</th>\n",
       "      <th>start_date</th>\n",
       "      <th>end_date`</th>\n",
       "      <th>job_id</th>\n",
       "      <th>department_id</th>\n",
       "    </tr>\n",
       "  </thead>\n",
       "  <tbody>\n",
       "    <tr>\n",
       "      <th>0</th>\n",
       "      <td>102</td>\n",
       "      <td>1993-01-13</td>\n",
       "      <td>1998-07-24</td>\n",
       "      <td>IT_PROG</td>\n",
       "      <td>60</td>\n",
       "    </tr>\n",
       "    <tr>\n",
       "      <th>1</th>\n",
       "      <td>101</td>\n",
       "      <td>1989-09-21</td>\n",
       "      <td>1993-10-27</td>\n",
       "      <td>AC_ACCOUNT</td>\n",
       "      <td>110</td>\n",
       "    </tr>\n",
       "    <tr>\n",
       "      <th>2</th>\n",
       "      <td>101</td>\n",
       "      <td>1993-10-28</td>\n",
       "      <td>1997-03-15</td>\n",
       "      <td>AC_MGR</td>\n",
       "      <td>110</td>\n",
       "    </tr>\n",
       "  </tbody>\n",
       "</table>\n",
       "</div>"
      ],
      "text/plain": [
       "   employee_id  start_date   end_date`      job_id  department_id\n",
       "0          102  1993-01-13  1998-07-24     IT_PROG             60\n",
       "1          101  1989-09-21  1993-10-27  AC_ACCOUNT            110\n",
       "2          101  1993-10-28  1997-03-15      AC_MGR            110"
      ]
     },
     "execution_count": 19,
     "metadata": {},
     "output_type": "execute_result"
    }
   ],
   "source": [
    "jobs_hist = pd.read_csv(\"22_JOB_HISTORY.csv\")\n",
    "jobs_hist.head(3)"
   ]
  },
  {
   "cell_type": "code",
   "execution_count": 23,
   "id": "0cbce082-c03f-46f5-880d-455ddad099f7",
   "metadata": {},
   "outputs": [],
   "source": [
    "res = jobs_hist.groupby(\"employee_id\")"
   ]
  },
  {
   "cell_type": "code",
   "execution_count": 58,
   "id": "ded39ee6-479e-4a16-88b6-d1c7c1088584",
   "metadata": {},
   "outputs": [
    {
     "name": "stdout",
     "output_type": "stream",
     "text": [
      "Employee ids who have done more than one job in the past :\n",
      "\n",
      "Id: 101, Jobs done: 2\n",
      "Id: 176, Jobs done: 2\n",
      "Id: 200, Jobs done: 2\n"
     ]
    },
    {
     "data": {
      "text/plain": [
       "employee_id\n",
       "101    2\n",
       "176    2\n",
       "200    2\n",
       "dtype: int64"
      ]
     },
     "execution_count": 58,
     "metadata": {},
     "output_type": "execute_result"
    }
   ],
   "source": [
    "print(f\"Employee ids who have done more than one job in the past :\\n\")\n",
    "for name, group in res:\n",
    "    if len(group) > 1:\n",
    "        print(f\"Id: {name}, Jobs done: {len(group)}\")\n",
    "\n",
    "# or else do following\n",
    "res.filter(lambda x: len(x) > 1).groupby(\"employee_id\").size().sort_values()"
   ]
  },
  {
   "cell_type": "code",
   "execution_count": null,
   "id": "ec7c5f63-2923-4150-a6a7-6eae2210effc",
   "metadata": {},
   "outputs": [],
   "source": []
  },
  {
   "cell_type": "markdown",
   "id": "5836b33a-8418-462b-808e-57b4267c6041",
   "metadata": {},
   "source": [
    "### 9 Pandas Data Manipulation and Pivoting"
   ]
  },
  {
   "cell_type": "markdown",
   "id": "76967502-5896-4ea5-8411-8f03a5bcf034",
   "metadata": {},
   "source": [
    "#### Pivot Table Exerxises"
   ]
  },
  {
   "cell_type": "markdown",
   "id": "766b58ab-d846-45ab-bdba-8203227faf72",
   "metadata": {},
   "source": [
    "#1. Write a Pandas program to create a Pivot table and find the maximum and minimum sale value of the items."
   ]
  },
  {
   "cell_type": "code",
   "execution_count": 61,
   "id": "5a88dcb1-4843-4700-aeb9-a5125650c63b",
   "metadata": {},
   "outputs": [
    {
     "name": "stdout",
     "output_type": "stream",
     "text": [
      "<class 'pandas.core.frame.DataFrame'>\n",
      "RangeIndex: 45 entries, 0 to 44\n",
      "Data columns (total 8 columns):\n",
      " #   Column      Non-Null Count  Dtype         \n",
      "---  ------      --------------  -----         \n",
      " 0   OrderDate   43 non-null     datetime64[ns]\n",
      " 1   Region      43 non-null     object        \n",
      " 2   Manager     43 non-null     object        \n",
      " 3   SalesMan    43 non-null     object        \n",
      " 4   Item        43 non-null     object        \n",
      " 5   Units       45 non-null     float64       \n",
      " 6   Unit_price  45 non-null     float64       \n",
      " 7   Sale_amt    45 non-null     float64       \n",
      "dtypes: datetime64[ns](1), float64(3), object(4)\n",
      "memory usage: 2.9+ KB\n"
     ]
    }
   ],
   "source": [
    "sales_data = pd.read_excel(\"22_SaleData.xlsx\")\n",
    "sales_data.info()"
   ]
  },
  {
   "cell_type": "code",
   "execution_count": 62,
   "id": "ba88cbe9-20c0-4adc-ad87-b09b2d683b5f",
   "metadata": {},
   "outputs": [
    {
     "data": {
      "text/html": [
       "<div>\n",
       "<style scoped>\n",
       "    .dataframe tbody tr th:only-of-type {\n",
       "        vertical-align: middle;\n",
       "    }\n",
       "\n",
       "    .dataframe tbody tr th {\n",
       "        vertical-align: top;\n",
       "    }\n",
       "\n",
       "    .dataframe thead th {\n",
       "        text-align: right;\n",
       "    }\n",
       "</style>\n",
       "<table border=\"1\" class=\"dataframe\">\n",
       "  <thead>\n",
       "    <tr style=\"text-align: right;\">\n",
       "      <th></th>\n",
       "      <th>OrderDate</th>\n",
       "      <th>Region</th>\n",
       "      <th>Manager</th>\n",
       "      <th>SalesMan</th>\n",
       "      <th>Item</th>\n",
       "      <th>Units</th>\n",
       "      <th>Unit_price</th>\n",
       "      <th>Sale_amt</th>\n",
       "    </tr>\n",
       "  </thead>\n",
       "  <tbody>\n",
       "    <tr>\n",
       "      <th>0</th>\n",
       "      <td>2018-01-06</td>\n",
       "      <td>East</td>\n",
       "      <td>Martha</td>\n",
       "      <td>Alexander</td>\n",
       "      <td>Television</td>\n",
       "      <td>95.0</td>\n",
       "      <td>1198.0</td>\n",
       "      <td>113810.0</td>\n",
       "    </tr>\n",
       "    <tr>\n",
       "      <th>1</th>\n",
       "      <td>2018-01-23</td>\n",
       "      <td>Central</td>\n",
       "      <td>Hermann</td>\n",
       "      <td>Shelli</td>\n",
       "      <td>Home Theater</td>\n",
       "      <td>50.0</td>\n",
       "      <td>500.0</td>\n",
       "      <td>25000.0</td>\n",
       "    </tr>\n",
       "    <tr>\n",
       "      <th>2</th>\n",
       "      <td>2018-02-09</td>\n",
       "      <td>Central</td>\n",
       "      <td>Hermann</td>\n",
       "      <td>Luis</td>\n",
       "      <td>Television</td>\n",
       "      <td>36.0</td>\n",
       "      <td>1198.0</td>\n",
       "      <td>43128.0</td>\n",
       "    </tr>\n",
       "    <tr>\n",
       "      <th>3</th>\n",
       "      <td>2018-02-26</td>\n",
       "      <td>Central</td>\n",
       "      <td>Timothy</td>\n",
       "      <td>David</td>\n",
       "      <td>Cell Phone</td>\n",
       "      <td>27.0</td>\n",
       "      <td>225.0</td>\n",
       "      <td>6075.0</td>\n",
       "    </tr>\n",
       "    <tr>\n",
       "      <th>4</th>\n",
       "      <td>2018-03-15</td>\n",
       "      <td>West</td>\n",
       "      <td>Timothy</td>\n",
       "      <td>Stephen</td>\n",
       "      <td>Television</td>\n",
       "      <td>56.0</td>\n",
       "      <td>1198.0</td>\n",
       "      <td>67088.0</td>\n",
       "    </tr>\n",
       "  </tbody>\n",
       "</table>\n",
       "</div>"
      ],
      "text/plain": [
       "   OrderDate   Region  Manager   SalesMan          Item  Units  Unit_price  \\\n",
       "0 2018-01-06     East   Martha  Alexander    Television   95.0      1198.0   \n",
       "1 2018-01-23  Central  Hermann     Shelli  Home Theater   50.0       500.0   \n",
       "2 2018-02-09  Central  Hermann       Luis    Television   36.0      1198.0   \n",
       "3 2018-02-26  Central  Timothy      David    Cell Phone   27.0       225.0   \n",
       "4 2018-03-15     West  Timothy    Stephen    Television   56.0      1198.0   \n",
       "\n",
       "   Sale_amt  \n",
       "0  113810.0  \n",
       "1   25000.0  \n",
       "2   43128.0  \n",
       "3    6075.0  \n",
       "4   67088.0  "
      ]
     },
     "execution_count": 62,
     "metadata": {},
     "output_type": "execute_result"
    }
   ],
   "source": [
    "sales_data.head()"
   ]
  },
  {
   "cell_type": "code",
   "execution_count": 63,
   "id": "04d0c8bb-e5fb-4e35-bcd3-af84b42d8795",
   "metadata": {},
   "outputs": [
    {
     "data": {
      "text/html": [
       "<div>\n",
       "<style scoped>\n",
       "    .dataframe tbody tr th:only-of-type {\n",
       "        vertical-align: middle;\n",
       "    }\n",
       "\n",
       "    .dataframe tbody tr th {\n",
       "        vertical-align: top;\n",
       "    }\n",
       "\n",
       "    .dataframe thead tr th {\n",
       "        text-align: left;\n",
       "    }\n",
       "\n",
       "    .dataframe thead tr:last-of-type th {\n",
       "        text-align: right;\n",
       "    }\n",
       "</style>\n",
       "<table border=\"1\" class=\"dataframe\">\n",
       "  <thead>\n",
       "    <tr>\n",
       "      <th></th>\n",
       "      <th>min</th>\n",
       "      <th>max</th>\n",
       "    </tr>\n",
       "    <tr>\n",
       "      <th></th>\n",
       "      <th>Sale_amt</th>\n",
       "      <th>Sale_amt</th>\n",
       "    </tr>\n",
       "    <tr>\n",
       "      <th>Item</th>\n",
       "      <th></th>\n",
       "      <th></th>\n",
       "    </tr>\n",
       "  </thead>\n",
       "  <tbody>\n",
       "    <tr>\n",
       "      <th>Cell Phone</th>\n",
       "      <td>3375.0</td>\n",
       "      <td>21600.0</td>\n",
       "    </tr>\n",
       "    <tr>\n",
       "      <th>Desk</th>\n",
       "      <td>250.0</td>\n",
       "      <td>625.0</td>\n",
       "    </tr>\n",
       "    <tr>\n",
       "      <th>Home Theater</th>\n",
       "      <td>2000.0</td>\n",
       "      <td>47000.0</td>\n",
       "    </tr>\n",
       "    <tr>\n",
       "      <th>Television</th>\n",
       "      <td>8386.0</td>\n",
       "      <td>113810.0</td>\n",
       "    </tr>\n",
       "    <tr>\n",
       "      <th>Video Games</th>\n",
       "      <td>936.0</td>\n",
       "      <td>5616.0</td>\n",
       "    </tr>\n",
       "  </tbody>\n",
       "</table>\n",
       "</div>"
      ],
      "text/plain": [
       "                  min       max\n",
       "             Sale_amt  Sale_amt\n",
       "Item                           \n",
       "Cell Phone     3375.0   21600.0\n",
       "Desk            250.0     625.0\n",
       "Home Theater   2000.0   47000.0\n",
       "Television     8386.0  113810.0\n",
       "Video Games     936.0    5616.0"
      ]
     },
     "execution_count": 63,
     "metadata": {},
     "output_type": "execute_result"
    }
   ],
   "source": [
    "pd.pivot_table(sales_data, index=\"Item\", values=\"Sale_amt\", aggfunc=[\"min\", \"max\"])"
   ]
  },
  {
   "cell_type": "code",
   "execution_count": null,
   "id": "83bcc575-4c3d-4222-9631-c99576b3e320",
   "metadata": {},
   "outputs": [],
   "source": []
  },
  {
   "cell_type": "markdown",
   "id": "c26d9f9f-19cf-41a7-8cd6-b12a457b511a",
   "metadata": {},
   "source": [
    "#2. Write a Pandas program to create a Pivot table and find the region wise Television and Home Theater sold."
   ]
  },
  {
   "cell_type": "code",
   "execution_count": 99,
   "id": "7ac70780-6d70-45c6-82da-eeda12bce2be",
   "metadata": {},
   "outputs": [
    {
     "data": {
      "text/html": [
       "<div>\n",
       "<style scoped>\n",
       "    .dataframe tbody tr th:only-of-type {\n",
       "        vertical-align: middle;\n",
       "    }\n",
       "\n",
       "    .dataframe tbody tr th {\n",
       "        vertical-align: top;\n",
       "    }\n",
       "\n",
       "    .dataframe thead tr th {\n",
       "        text-align: left;\n",
       "    }\n",
       "\n",
       "    .dataframe thead tr:last-of-type th {\n",
       "        text-align: right;\n",
       "    }\n",
       "</style>\n",
       "<table border=\"1\" class=\"dataframe\">\n",
       "  <thead>\n",
       "    <tr>\n",
       "      <th></th>\n",
       "      <th></th>\n",
       "      <th>sum</th>\n",
       "    </tr>\n",
       "    <tr>\n",
       "      <th></th>\n",
       "      <th></th>\n",
       "      <th>Units</th>\n",
       "    </tr>\n",
       "    <tr>\n",
       "      <th>Region</th>\n",
       "      <th>Item</th>\n",
       "      <th></th>\n",
       "    </tr>\n",
       "  </thead>\n",
       "  <tbody>\n",
       "    <tr>\n",
       "      <th rowspan=\"2\" valign=\"top\">Central</th>\n",
       "      <th>Home Theater</th>\n",
       "      <td>424.0</td>\n",
       "    </tr>\n",
       "    <tr>\n",
       "      <th>Television</th>\n",
       "      <td>498.0</td>\n",
       "    </tr>\n",
       "    <tr>\n",
       "      <th rowspan=\"2\" valign=\"top\">East</th>\n",
       "      <th>Home Theater</th>\n",
       "      <td>234.0</td>\n",
       "    </tr>\n",
       "    <tr>\n",
       "      <th>Television</th>\n",
       "      <td>130.0</td>\n",
       "    </tr>\n",
       "    <tr>\n",
       "      <th rowspan=\"2\" valign=\"top\">West</th>\n",
       "      <th>Home Theater</th>\n",
       "      <td>64.0</td>\n",
       "    </tr>\n",
       "    <tr>\n",
       "      <th>Television</th>\n",
       "      <td>88.0</td>\n",
       "    </tr>\n",
       "  </tbody>\n",
       "</table>\n",
       "</div>"
      ],
      "text/plain": [
       "                        sum\n",
       "                      Units\n",
       "Region  Item               \n",
       "Central Home Theater  424.0\n",
       "        Television    498.0\n",
       "East    Home Theater  234.0\n",
       "        Television    130.0\n",
       "West    Home Theater   64.0\n",
       "        Television     88.0"
      ]
     },
     "execution_count": 99,
     "metadata": {},
     "output_type": "execute_result"
    }
   ],
   "source": [
    "res = pd.pivot_table(sales_data, index=[\"Region\", \"Item\"], values=\"Units\", aggfunc=[\"sum\"])\n",
    "res.query(\"Item == ['Television', 'Home Theater']\")"
   ]
  },
  {
   "cell_type": "code",
   "execution_count": 100,
   "id": "4c14efc7-e8fc-46e4-915c-bbd4a963894e",
   "metadata": {},
   "outputs": [
    {
     "data": {
      "text/html": [
       "<div>\n",
       "<style scoped>\n",
       "    .dataframe tbody tr th:only-of-type {\n",
       "        vertical-align: middle;\n",
       "    }\n",
       "\n",
       "    .dataframe tbody tr th {\n",
       "        vertical-align: top;\n",
       "    }\n",
       "\n",
       "    .dataframe thead th {\n",
       "        text-align: right;\n",
       "    }\n",
       "</style>\n",
       "<table border=\"1\" class=\"dataframe\">\n",
       "  <thead>\n",
       "    <tr style=\"text-align: right;\">\n",
       "      <th>Item</th>\n",
       "      <th>Home Theater</th>\n",
       "      <th>Television</th>\n",
       "    </tr>\n",
       "    <tr>\n",
       "      <th>Region</th>\n",
       "      <th></th>\n",
       "      <th></th>\n",
       "    </tr>\n",
       "  </thead>\n",
       "  <tbody>\n",
       "    <tr>\n",
       "      <th>Central</th>\n",
       "      <td>424.0</td>\n",
       "      <td>498.0</td>\n",
       "    </tr>\n",
       "    <tr>\n",
       "      <th>East</th>\n",
       "      <td>234.0</td>\n",
       "      <td>130.0</td>\n",
       "    </tr>\n",
       "    <tr>\n",
       "      <th>West</th>\n",
       "      <td>64.0</td>\n",
       "      <td>88.0</td>\n",
       "    </tr>\n",
       "  </tbody>\n",
       "</table>\n",
       "</div>"
      ],
      "text/plain": [
       "Item     Home Theater  Television\n",
       "Region                           \n",
       "Central         424.0       498.0\n",
       "East            234.0       130.0\n",
       "West             64.0        88.0"
      ]
     },
     "execution_count": 100,
     "metadata": {},
     "output_type": "execute_result"
    }
   ],
   "source": [
    "# or do following\n",
    "res = pd.pivot_table(sales_data, index=\"Region\", values=\"Units\", columns=\"Item\", aggfunc=[\"sum\"])\n",
    "res[\"sum\"][[\"Home Theater\", \"Television\"]]"
   ]
  },
  {
   "cell_type": "code",
   "execution_count": null,
   "id": "19530a5d-f1db-439a-acbc-93a0d1ee9401",
   "metadata": {},
   "outputs": [],
   "source": []
  },
  {
   "cell_type": "markdown",
   "id": "be456d7c-f8f5-4527-a506-680738ea9570",
   "metadata": {},
   "source": [
    "### Pandas Pivot on Titanic Passengers Exercises"
   ]
  },
  {
   "cell_type": "markdown",
   "id": "5eb9990a-cd79-45d5-a924-ae0edf3fc8c8",
   "metadata": {},
   "source": [
    "#1. Write a Pandas program to create a Pivot table and find the probability of survival by class, gender, solo boarding and port of embarkation."
   ]
  },
  {
   "cell_type": "code",
   "execution_count": 35,
   "id": "bdf9522a-3de2-4752-9f57-53d6dc7ce9a8",
   "metadata": {},
   "outputs": [
    {
     "data": {
      "text/html": [
       "<div>\n",
       "<style scoped>\n",
       "    .dataframe tbody tr th:only-of-type {\n",
       "        vertical-align: middle;\n",
       "    }\n",
       "\n",
       "    .dataframe tbody tr th {\n",
       "        vertical-align: top;\n",
       "    }\n",
       "\n",
       "    .dataframe thead th {\n",
       "        text-align: right;\n",
       "    }\n",
       "</style>\n",
       "<table border=\"1\" class=\"dataframe\">\n",
       "  <thead>\n",
       "    <tr style=\"text-align: right;\">\n",
       "      <th></th>\n",
       "      <th>survived</th>\n",
       "      <th>pclass</th>\n",
       "      <th>sex</th>\n",
       "      <th>age</th>\n",
       "      <th>sibsp</th>\n",
       "      <th>parch</th>\n",
       "      <th>fare</th>\n",
       "      <th>embarked</th>\n",
       "      <th>class</th>\n",
       "      <th>who</th>\n",
       "      <th>adult_male</th>\n",
       "      <th>deck</th>\n",
       "      <th>embark_town</th>\n",
       "      <th>alive</th>\n",
       "      <th>alone</th>\n",
       "      <th>Unnamed: 15</th>\n",
       "    </tr>\n",
       "  </thead>\n",
       "  <tbody>\n",
       "    <tr>\n",
       "      <th>0</th>\n",
       "      <td>0</td>\n",
       "      <td>3</td>\n",
       "      <td>male</td>\n",
       "      <td>22.0</td>\n",
       "      <td>1</td>\n",
       "      <td>0</td>\n",
       "      <td>7.2500</td>\n",
       "      <td>S</td>\n",
       "      <td>Third</td>\n",
       "      <td>man</td>\n",
       "      <td>True</td>\n",
       "      <td>NaN</td>\n",
       "      <td>Southampton</td>\n",
       "      <td>no</td>\n",
       "      <td>False</td>\n",
       "      <td>NaN</td>\n",
       "    </tr>\n",
       "    <tr>\n",
       "      <th>1</th>\n",
       "      <td>1</td>\n",
       "      <td>1</td>\n",
       "      <td>female</td>\n",
       "      <td>38.0</td>\n",
       "      <td>1</td>\n",
       "      <td>0</td>\n",
       "      <td>71.2833</td>\n",
       "      <td>C</td>\n",
       "      <td>First</td>\n",
       "      <td>woman</td>\n",
       "      <td>False</td>\n",
       "      <td>C</td>\n",
       "      <td>Cherbourg</td>\n",
       "      <td>yes</td>\n",
       "      <td>False</td>\n",
       "      <td>NaN</td>\n",
       "    </tr>\n",
       "    <tr>\n",
       "      <th>2</th>\n",
       "      <td>1</td>\n",
       "      <td>3</td>\n",
       "      <td>female</td>\n",
       "      <td>26.0</td>\n",
       "      <td>0</td>\n",
       "      <td>0</td>\n",
       "      <td>7.9250</td>\n",
       "      <td>S</td>\n",
       "      <td>Third</td>\n",
       "      <td>woman</td>\n",
       "      <td>False</td>\n",
       "      <td>NaN</td>\n",
       "      <td>Southampton</td>\n",
       "      <td>yes</td>\n",
       "      <td>True</td>\n",
       "      <td>NaN</td>\n",
       "    </tr>\n",
       "    <tr>\n",
       "      <th>3</th>\n",
       "      <td>1</td>\n",
       "      <td>1</td>\n",
       "      <td>female</td>\n",
       "      <td>35.0</td>\n",
       "      <td>1</td>\n",
       "      <td>0</td>\n",
       "      <td>53.1000</td>\n",
       "      <td>S</td>\n",
       "      <td>First</td>\n",
       "      <td>woman</td>\n",
       "      <td>False</td>\n",
       "      <td>C</td>\n",
       "      <td>Southampton</td>\n",
       "      <td>yes</td>\n",
       "      <td>False</td>\n",
       "      <td>NaN</td>\n",
       "    </tr>\n",
       "    <tr>\n",
       "      <th>4</th>\n",
       "      <td>0</td>\n",
       "      <td>3</td>\n",
       "      <td>male</td>\n",
       "      <td>35.0</td>\n",
       "      <td>0</td>\n",
       "      <td>0</td>\n",
       "      <td>8.0500</td>\n",
       "      <td>S</td>\n",
       "      <td>Third</td>\n",
       "      <td>man</td>\n",
       "      <td>True</td>\n",
       "      <td>NaN</td>\n",
       "      <td>Southampton</td>\n",
       "      <td>no</td>\n",
       "      <td>True</td>\n",
       "      <td>NaN</td>\n",
       "    </tr>\n",
       "  </tbody>\n",
       "</table>\n",
       "</div>"
      ],
      "text/plain": [
       "   survived  pclass     sex   age  sibsp  parch     fare embarked  class  \\\n",
       "0         0       3    male  22.0      1      0   7.2500        S  Third   \n",
       "1         1       1  female  38.0      1      0  71.2833        C  First   \n",
       "2         1       3  female  26.0      0      0   7.9250        S  Third   \n",
       "3         1       1  female  35.0      1      0  53.1000        S  First   \n",
       "4         0       3    male  35.0      0      0   8.0500        S  Third   \n",
       "\n",
       "     who  adult_male deck  embark_town alive  alone  Unnamed: 15  \n",
       "0    man        True  NaN  Southampton    no  False          NaN  \n",
       "1  woman       False    C    Cherbourg   yes  False          NaN  \n",
       "2  woman       False  NaN  Southampton   yes   True          NaN  \n",
       "3  woman       False    C  Southampton   yes  False          NaN  \n",
       "4    man        True  NaN  Southampton    no   True          NaN  "
      ]
     },
     "execution_count": 35,
     "metadata": {},
     "output_type": "execute_result"
    }
   ],
   "source": [
    "titanic = pd.read_csv(\"22_titanic.csv\")\n",
    "titanic.head()"
   ]
  },
  {
   "cell_type": "code",
   "execution_count": 5,
   "id": "2fdfea6d-0cd5-43bd-8f77-25e9b4b4fcd0",
   "metadata": {
    "scrolled": true
   },
   "outputs": [
    {
     "name": "stdout",
     "output_type": "stream",
     "text": [
      "<class 'pandas.core.frame.DataFrame'>\n",
      "RangeIndex: 891 entries, 0 to 890\n",
      "Data columns (total 16 columns):\n",
      " #   Column       Non-Null Count  Dtype  \n",
      "---  ------       --------------  -----  \n",
      " 0   survived     891 non-null    int64  \n",
      " 1   pclass       891 non-null    int64  \n",
      " 2   sex          891 non-null    object \n",
      " 3   age          714 non-null    float64\n",
      " 4   sibsp        891 non-null    int64  \n",
      " 5   parch        891 non-null    int64  \n",
      " 6   fare         891 non-null    float64\n",
      " 7   embarked     889 non-null    object \n",
      " 8   class        891 non-null    object \n",
      " 9   who          891 non-null    object \n",
      " 10  adult_male   891 non-null    bool   \n",
      " 11  deck         203 non-null    object \n",
      " 12  embark_town  889 non-null    object \n",
      " 13  alive        891 non-null    object \n",
      " 14  alone        891 non-null    bool   \n",
      " 15  Unnamed: 15  0 non-null      float64\n",
      "dtypes: bool(2), float64(3), int64(4), object(7)\n",
      "memory usage: 99.3+ KB\n"
     ]
    }
   ],
   "source": [
    "titanic.info()"
   ]
  },
  {
   "cell_type": "code",
   "execution_count": 17,
   "id": "709ff7aa-edc3-4bbd-b9aa-bfb4922c72d4",
   "metadata": {},
   "outputs": [
    {
     "data": {
      "text/html": [
       "<div>\n",
       "<style scoped>\n",
       "    .dataframe tbody tr th:only-of-type {\n",
       "        vertical-align: middle;\n",
       "    }\n",
       "\n",
       "    .dataframe tbody tr th {\n",
       "        vertical-align: top;\n",
       "    }\n",
       "\n",
       "    .dataframe thead tr th {\n",
       "        text-align: left;\n",
       "    }\n",
       "\n",
       "    .dataframe thead tr:last-of-type th {\n",
       "        text-align: right;\n",
       "    }\n",
       "</style>\n",
       "<table border=\"1\" class=\"dataframe\">\n",
       "  <thead>\n",
       "    <tr>\n",
       "      <th></th>\n",
       "      <th>mean</th>\n",
       "    </tr>\n",
       "    <tr>\n",
       "      <th></th>\n",
       "      <th>survived</th>\n",
       "    </tr>\n",
       "    <tr>\n",
       "      <th>pclass</th>\n",
       "      <th></th>\n",
       "    </tr>\n",
       "  </thead>\n",
       "  <tbody>\n",
       "    <tr>\n",
       "      <th>1</th>\n",
       "      <td>0.629630</td>\n",
       "    </tr>\n",
       "    <tr>\n",
       "      <th>2</th>\n",
       "      <td>0.472826</td>\n",
       "    </tr>\n",
       "    <tr>\n",
       "      <th>3</th>\n",
       "      <td>0.242363</td>\n",
       "    </tr>\n",
       "  </tbody>\n",
       "</table>\n",
       "</div>"
      ],
      "text/plain": [
       "            mean\n",
       "        survived\n",
       "pclass          \n",
       "1       0.629630\n",
       "2       0.472826\n",
       "3       0.242363"
      ]
     },
     "execution_count": 17,
     "metadata": {},
     "output_type": "execute_result"
    }
   ],
   "source": [
    "pd.pivot_table(titanic, index=\"pclass\", values=\"survived\", aggfunc=[\"mean\"])"
   ]
  },
  {
   "cell_type": "code",
   "execution_count": 18,
   "id": "7d83d627-d784-4ce0-8552-8428f4cd6e34",
   "metadata": {},
   "outputs": [
    {
     "data": {
      "text/html": [
       "<div>\n",
       "<style scoped>\n",
       "    .dataframe tbody tr th:only-of-type {\n",
       "        vertical-align: middle;\n",
       "    }\n",
       "\n",
       "    .dataframe tbody tr th {\n",
       "        vertical-align: top;\n",
       "    }\n",
       "\n",
       "    .dataframe thead tr th {\n",
       "        text-align: left;\n",
       "    }\n",
       "\n",
       "    .dataframe thead tr:last-of-type th {\n",
       "        text-align: right;\n",
       "    }\n",
       "</style>\n",
       "<table border=\"1\" class=\"dataframe\">\n",
       "  <thead>\n",
       "    <tr>\n",
       "      <th></th>\n",
       "      <th>mean</th>\n",
       "    </tr>\n",
       "    <tr>\n",
       "      <th></th>\n",
       "      <th>survived</th>\n",
       "    </tr>\n",
       "    <tr>\n",
       "      <th>sex</th>\n",
       "      <th></th>\n",
       "    </tr>\n",
       "  </thead>\n",
       "  <tbody>\n",
       "    <tr>\n",
       "      <th>female</th>\n",
       "      <td>0.742038</td>\n",
       "    </tr>\n",
       "    <tr>\n",
       "      <th>male</th>\n",
       "      <td>0.188908</td>\n",
       "    </tr>\n",
       "  </tbody>\n",
       "</table>\n",
       "</div>"
      ],
      "text/plain": [
       "            mean\n",
       "        survived\n",
       "sex             \n",
       "female  0.742038\n",
       "male    0.188908"
      ]
     },
     "execution_count": 18,
     "metadata": {},
     "output_type": "execute_result"
    }
   ],
   "source": [
    "pd.pivot_table(titanic, index=\"sex\", values=\"survived\", aggfunc=[\"mean\"])"
   ]
  },
  {
   "cell_type": "code",
   "execution_count": 19,
   "id": "6696c0dc-1d32-4f1d-b27f-4f6c9ac26bdf",
   "metadata": {},
   "outputs": [
    {
     "data": {
      "text/html": [
       "<div>\n",
       "<style scoped>\n",
       "    .dataframe tbody tr th:only-of-type {\n",
       "        vertical-align: middle;\n",
       "    }\n",
       "\n",
       "    .dataframe tbody tr th {\n",
       "        vertical-align: top;\n",
       "    }\n",
       "\n",
       "    .dataframe thead tr th {\n",
       "        text-align: left;\n",
       "    }\n",
       "\n",
       "    .dataframe thead tr:last-of-type th {\n",
       "        text-align: right;\n",
       "    }\n",
       "</style>\n",
       "<table border=\"1\" class=\"dataframe\">\n",
       "  <thead>\n",
       "    <tr>\n",
       "      <th></th>\n",
       "      <th>mean</th>\n",
       "    </tr>\n",
       "    <tr>\n",
       "      <th></th>\n",
       "      <th>survived</th>\n",
       "    </tr>\n",
       "    <tr>\n",
       "      <th>alone</th>\n",
       "      <th></th>\n",
       "    </tr>\n",
       "  </thead>\n",
       "  <tbody>\n",
       "    <tr>\n",
       "      <th>False</th>\n",
       "      <td>0.505650</td>\n",
       "    </tr>\n",
       "    <tr>\n",
       "      <th>True</th>\n",
       "      <td>0.303538</td>\n",
       "    </tr>\n",
       "  </tbody>\n",
       "</table>\n",
       "</div>"
      ],
      "text/plain": [
       "           mean\n",
       "       survived\n",
       "alone          \n",
       "False  0.505650\n",
       "True   0.303538"
      ]
     },
     "execution_count": 19,
     "metadata": {},
     "output_type": "execute_result"
    }
   ],
   "source": [
    "pd.pivot_table(titanic, index=\"alone\", values=\"survived\", aggfunc=[\"mean\"])"
   ]
  },
  {
   "cell_type": "code",
   "execution_count": 20,
   "id": "6bf5298d-9b19-4c42-9faa-4db074c371cb",
   "metadata": {},
   "outputs": [
    {
     "data": {
      "text/html": [
       "<div>\n",
       "<style scoped>\n",
       "    .dataframe tbody tr th:only-of-type {\n",
       "        vertical-align: middle;\n",
       "    }\n",
       "\n",
       "    .dataframe tbody tr th {\n",
       "        vertical-align: top;\n",
       "    }\n",
       "\n",
       "    .dataframe thead tr th {\n",
       "        text-align: left;\n",
       "    }\n",
       "\n",
       "    .dataframe thead tr:last-of-type th {\n",
       "        text-align: right;\n",
       "    }\n",
       "</style>\n",
       "<table border=\"1\" class=\"dataframe\">\n",
       "  <thead>\n",
       "    <tr>\n",
       "      <th></th>\n",
       "      <th>mean</th>\n",
       "    </tr>\n",
       "    <tr>\n",
       "      <th></th>\n",
       "      <th>survived</th>\n",
       "    </tr>\n",
       "    <tr>\n",
       "      <th>embarked</th>\n",
       "      <th></th>\n",
       "    </tr>\n",
       "  </thead>\n",
       "  <tbody>\n",
       "    <tr>\n",
       "      <th>C</th>\n",
       "      <td>0.553571</td>\n",
       "    </tr>\n",
       "    <tr>\n",
       "      <th>Q</th>\n",
       "      <td>0.389610</td>\n",
       "    </tr>\n",
       "    <tr>\n",
       "      <th>S</th>\n",
       "      <td>0.336957</td>\n",
       "    </tr>\n",
       "  </tbody>\n",
       "</table>\n",
       "</div>"
      ],
      "text/plain": [
       "              mean\n",
       "          survived\n",
       "embarked          \n",
       "C         0.553571\n",
       "Q         0.389610\n",
       "S         0.336957"
      ]
     },
     "execution_count": 20,
     "metadata": {},
     "output_type": "execute_result"
    }
   ],
   "source": [
    "pd.pivot_table(titanic, index=\"embarked\", values=\"survived\", aggfunc=[\"mean\"])"
   ]
  },
  {
   "cell_type": "code",
   "execution_count": 22,
   "id": "74b0e09d-de5a-4471-8b34-38a0f3e0ff76",
   "metadata": {
    "scrolled": true
   },
   "outputs": [
    {
     "data": {
      "text/html": [
       "<div>\n",
       "<style scoped>\n",
       "    .dataframe tbody tr th:only-of-type {\n",
       "        vertical-align: middle;\n",
       "    }\n",
       "\n",
       "    .dataframe tbody tr th {\n",
       "        vertical-align: top;\n",
       "    }\n",
       "\n",
       "    .dataframe thead tr th {\n",
       "        text-align: left;\n",
       "    }\n",
       "\n",
       "    .dataframe thead tr:last-of-type th {\n",
       "        text-align: right;\n",
       "    }\n",
       "</style>\n",
       "<table border=\"1\" class=\"dataframe\">\n",
       "  <thead>\n",
       "    <tr>\n",
       "      <th></th>\n",
       "      <th></th>\n",
       "      <th></th>\n",
       "      <th colspan=\"3\" halign=\"left\">mean</th>\n",
       "    </tr>\n",
       "    <tr>\n",
       "      <th></th>\n",
       "      <th></th>\n",
       "      <th>embarked</th>\n",
       "      <th>C</th>\n",
       "      <th>Q</th>\n",
       "      <th>S</th>\n",
       "    </tr>\n",
       "    <tr>\n",
       "      <th>pclass</th>\n",
       "      <th>sex</th>\n",
       "      <th>alone</th>\n",
       "      <th></th>\n",
       "      <th></th>\n",
       "      <th></th>\n",
       "    </tr>\n",
       "  </thead>\n",
       "  <tbody>\n",
       "    <tr>\n",
       "      <th rowspan=\"4\" valign=\"top\">1</th>\n",
       "      <th rowspan=\"2\" valign=\"top\">female</th>\n",
       "      <th>False</th>\n",
       "      <td>1.000000</td>\n",
       "      <td>1.000000</td>\n",
       "      <td>0.941176</td>\n",
       "    </tr>\n",
       "    <tr>\n",
       "      <th>True</th>\n",
       "      <td>0.944444</td>\n",
       "      <td>0.000000</td>\n",
       "      <td>1.000000</td>\n",
       "    </tr>\n",
       "    <tr>\n",
       "      <th rowspan=\"2\" valign=\"top\">male</th>\n",
       "      <th>False</th>\n",
       "      <td>0.473684</td>\n",
       "      <td>0.000000</td>\n",
       "      <td>0.407407</td>\n",
       "    </tr>\n",
       "    <tr>\n",
       "      <th>True</th>\n",
       "      <td>0.347826</td>\n",
       "      <td>0.000000</td>\n",
       "      <td>0.326923</td>\n",
       "    </tr>\n",
       "    <tr>\n",
       "      <th rowspan=\"4\" valign=\"top\">2</th>\n",
       "      <th rowspan=\"2\" valign=\"top\">female</th>\n",
       "      <th>False</th>\n",
       "      <td>1.000000</td>\n",
       "      <td>0.000000</td>\n",
       "      <td>0.923077</td>\n",
       "    </tr>\n",
       "    <tr>\n",
       "      <th>True</th>\n",
       "      <td>1.000000</td>\n",
       "      <td>1.000000</td>\n",
       "      <td>0.892857</td>\n",
       "    </tr>\n",
       "    <tr>\n",
       "      <th rowspan=\"2\" valign=\"top\">male</th>\n",
       "      <th>False</th>\n",
       "      <td>0.166667</td>\n",
       "      <td>0.000000</td>\n",
       "      <td>0.300000</td>\n",
       "    </tr>\n",
       "    <tr>\n",
       "      <th>True</th>\n",
       "      <td>0.250000</td>\n",
       "      <td>0.000000</td>\n",
       "      <td>0.089552</td>\n",
       "    </tr>\n",
       "    <tr>\n",
       "      <th rowspan=\"4\" valign=\"top\">3</th>\n",
       "      <th rowspan=\"2\" valign=\"top\">female</th>\n",
       "      <th>False</th>\n",
       "      <td>0.611111</td>\n",
       "      <td>0.625000</td>\n",
       "      <td>0.327586</td>\n",
       "    </tr>\n",
       "    <tr>\n",
       "      <th>True</th>\n",
       "      <td>0.800000</td>\n",
       "      <td>0.760000</td>\n",
       "      <td>0.466667</td>\n",
       "    </tr>\n",
       "    <tr>\n",
       "      <th rowspan=\"2\" valign=\"top\">male</th>\n",
       "      <th>False</th>\n",
       "      <td>0.500000</td>\n",
       "      <td>0.100000</td>\n",
       "      <td>0.142857</td>\n",
       "    </tr>\n",
       "    <tr>\n",
       "      <th>True</th>\n",
       "      <td>0.151515</td>\n",
       "      <td>0.068966</td>\n",
       "      <td>0.123762</td>\n",
       "    </tr>\n",
       "  </tbody>\n",
       "</table>\n",
       "</div>"
      ],
      "text/plain": [
       "                         mean                    \n",
       "embarked                    C         Q         S\n",
       "pclass sex    alone                              \n",
       "1      female False  1.000000  1.000000  0.941176\n",
       "              True   0.944444  0.000000  1.000000\n",
       "       male   False  0.473684  0.000000  0.407407\n",
       "              True   0.347826  0.000000  0.326923\n",
       "2      female False  1.000000  0.000000  0.923077\n",
       "              True   1.000000  1.000000  0.892857\n",
       "       male   False  0.166667  0.000000  0.300000\n",
       "              True   0.250000  0.000000  0.089552\n",
       "3      female False  0.611111  0.625000  0.327586\n",
       "              True   0.800000  0.760000  0.466667\n",
       "       male   False  0.500000  0.100000  0.142857\n",
       "              True   0.151515  0.068966  0.123762"
      ]
     },
     "execution_count": 22,
     "metadata": {},
     "output_type": "execute_result"
    }
   ],
   "source": [
    "pd.pivot_table(titanic, index=[\"pclass\", \"sex\", \"alone\"], values=\"survived\", columns=\"embarked\", aggfunc=[\"mean\"], fill_value=0)"
   ]
  },
  {
   "cell_type": "code",
   "execution_count": null,
   "id": "946694ad-a823-4be9-8feb-c79f966393b2",
   "metadata": {},
   "outputs": [],
   "source": []
  },
  {
   "cell_type": "markdown",
   "id": "4a79d18c-af66-4f7a-8cc8-b367c6953daf",
   "metadata": {},
   "source": [
    "#2. Write a Pandas program to create a Pivot table and separate the gender according to whether they traveled alone or not to get the probability of survival."
   ]
  },
  {
   "cell_type": "code",
   "execution_count": 28,
   "id": "5da11ecc-de3e-4c29-88df-215c2b2da536",
   "metadata": {},
   "outputs": [],
   "source": [
    "res = pd.pivot_table(titanic, index=[\"sex\", \"alone\"], values=\"survived\", columns=\"class\", aggfunc=[\"mean\"])"
   ]
  },
  {
   "cell_type": "code",
   "execution_count": 29,
   "id": "754b7b3a-a0a8-452b-b5be-91dacf727735",
   "metadata": {},
   "outputs": [
    {
     "data": {
      "text/html": [
       "<div>\n",
       "<style scoped>\n",
       "    .dataframe tbody tr th:only-of-type {\n",
       "        vertical-align: middle;\n",
       "    }\n",
       "\n",
       "    .dataframe tbody tr th {\n",
       "        vertical-align: top;\n",
       "    }\n",
       "\n",
       "    .dataframe thead tr th {\n",
       "        text-align: left;\n",
       "    }\n",
       "\n",
       "    .dataframe thead tr:last-of-type th {\n",
       "        text-align: right;\n",
       "    }\n",
       "</style>\n",
       "<table border=\"1\" class=\"dataframe\">\n",
       "  <thead>\n",
       "    <tr>\n",
       "      <th></th>\n",
       "      <th></th>\n",
       "      <th colspan=\"3\" halign=\"left\">mean</th>\n",
       "    </tr>\n",
       "    <tr>\n",
       "      <th></th>\n",
       "      <th>class</th>\n",
       "      <th>First</th>\n",
       "      <th>Second</th>\n",
       "      <th>Third</th>\n",
       "    </tr>\n",
       "    <tr>\n",
       "      <th>sex</th>\n",
       "      <th>alone</th>\n",
       "      <th></th>\n",
       "      <th></th>\n",
       "      <th></th>\n",
       "    </tr>\n",
       "  </thead>\n",
       "  <tbody>\n",
       "    <tr>\n",
       "      <th rowspan=\"2\" valign=\"top\">female</th>\n",
       "      <th>False</th>\n",
       "      <td>0.966667</td>\n",
       "      <td>0.931818</td>\n",
       "      <td>0.416667</td>\n",
       "    </tr>\n",
       "    <tr>\n",
       "      <th>True</th>\n",
       "      <td>0.970588</td>\n",
       "      <td>0.906250</td>\n",
       "      <td>0.616667</td>\n",
       "    </tr>\n",
       "    <tr>\n",
       "      <th rowspan=\"2\" valign=\"top\">male</th>\n",
       "      <th>False</th>\n",
       "      <td>0.425532</td>\n",
       "      <td>0.277778</td>\n",
       "      <td>0.180723</td>\n",
       "    </tr>\n",
       "    <tr>\n",
       "      <th>True</th>\n",
       "      <td>0.333333</td>\n",
       "      <td>0.097222</td>\n",
       "      <td>0.121212</td>\n",
       "    </tr>\n",
       "  </tbody>\n",
       "</table>\n",
       "</div>"
      ],
      "text/plain": [
       "                  mean                    \n",
       "class            First    Second     Third\n",
       "sex    alone                              \n",
       "female False  0.966667  0.931818  0.416667\n",
       "       True   0.970588  0.906250  0.616667\n",
       "male   False  0.425532  0.277778  0.180723\n",
       "       True   0.333333  0.097222  0.121212"
      ]
     },
     "execution_count": 29,
     "metadata": {},
     "output_type": "execute_result"
    }
   ],
   "source": [
    "res"
   ]
  },
  {
   "cell_type": "code",
   "execution_count": null,
   "id": "5afabf0f-acab-4e1a-bcd1-c075bcc9fa99",
   "metadata": {},
   "outputs": [],
   "source": []
  },
  {
   "cell_type": "markdown",
   "id": "03fd60f6-81ce-4498-8a2b-76cd37e334af",
   "metadata": {},
   "source": [
    "#3. Write a Pandas program to create a Pivot table and find number of adult male, adult female and children."
   ]
  },
  {
   "cell_type": "code",
   "execution_count": 39,
   "id": "2684571d-9436-4af0-b229-be95c49a2cfa",
   "metadata": {},
   "outputs": [
    {
     "data": {
      "text/html": [
       "<div>\n",
       "<style scoped>\n",
       "    .dataframe tbody tr th:only-of-type {\n",
       "        vertical-align: middle;\n",
       "    }\n",
       "\n",
       "    .dataframe tbody tr th {\n",
       "        vertical-align: top;\n",
       "    }\n",
       "\n",
       "    .dataframe thead th {\n",
       "        text-align: right;\n",
       "    }\n",
       "</style>\n",
       "<table border=\"1\" class=\"dataframe\">\n",
       "  <thead>\n",
       "    <tr style=\"text-align: right;\">\n",
       "      <th></th>\n",
       "      <th>survived</th>\n",
       "    </tr>\n",
       "    <tr>\n",
       "      <th>who</th>\n",
       "      <th></th>\n",
       "    </tr>\n",
       "  </thead>\n",
       "  <tbody>\n",
       "    <tr>\n",
       "      <th>child</th>\n",
       "      <td>83</td>\n",
       "    </tr>\n",
       "    <tr>\n",
       "      <th>man</th>\n",
       "      <td>537</td>\n",
       "    </tr>\n",
       "    <tr>\n",
       "      <th>woman</th>\n",
       "      <td>271</td>\n",
       "    </tr>\n",
       "  </tbody>\n",
       "</table>\n",
       "</div>"
      ],
      "text/plain": [
       "       survived\n",
       "who            \n",
       "child        83\n",
       "man         537\n",
       "woman       271"
      ]
     },
     "execution_count": 39,
     "metadata": {},
     "output_type": "execute_result"
    }
   ],
   "source": [
    "pd.pivot_table(titanic, index=\"who\", values=\"survived\", aggfunc=\"count\")"
   ]
  },
  {
   "cell_type": "code",
   "execution_count": null,
   "id": "8a17ca66-f7ec-455d-ad05-9b665dc39270",
   "metadata": {},
   "outputs": [],
   "source": []
  },
  {
   "cell_type": "markdown",
   "id": "aa9996fb-e15b-4f6f-a273-41e37cb73891",
   "metadata": {},
   "source": [
    "### Pandas Plotting Exercises"
   ]
  },
  {
   "cell_type": "markdown",
   "id": "ba32ec0d-29d9-4bea-b43d-99adbddfd843",
   "metadata": {},
   "source": [
    "#1. Write a Pandas program to create a histogram to visualize daily return distribution of Alphabet Inc. stock price between two specific dates."
   ]
  },
  {
   "cell_type": "code",
   "execution_count": 75,
   "id": "876a2589-bd9c-4655-b81e-10a15c3e4807",
   "metadata": {},
   "outputs": [],
   "source": [
    "import pandas as pd\n",
    "import matplotlib.pyplot as plt\n",
    "import seaborn as sns"
   ]
  },
  {
   "cell_type": "code",
   "execution_count": 79,
   "id": "99827728-6e77-4dec-8928-077540cfe275",
   "metadata": {},
   "outputs": [
    {
     "data": {
      "text/html": [
       "<div>\n",
       "<style scoped>\n",
       "    .dataframe tbody tr th:only-of-type {\n",
       "        vertical-align: middle;\n",
       "    }\n",
       "\n",
       "    .dataframe tbody tr th {\n",
       "        vertical-align: top;\n",
       "    }\n",
       "\n",
       "    .dataframe thead th {\n",
       "        text-align: right;\n",
       "    }\n",
       "</style>\n",
       "<table border=\"1\" class=\"dataframe\">\n",
       "  <thead>\n",
       "    <tr style=\"text-align: right;\">\n",
       "      <th></th>\n",
       "      <th>Date</th>\n",
       "      <th>Open</th>\n",
       "      <th>High</th>\n",
       "      <th>Low</th>\n",
       "      <th>Close</th>\n",
       "      <th>Adj Close</th>\n",
       "      <th>Volume</th>\n",
       "    </tr>\n",
       "  </thead>\n",
       "  <tbody>\n",
       "    <tr>\n",
       "      <th>0</th>\n",
       "      <td>2020-04-01</td>\n",
       "      <td>1122.000000</td>\n",
       "      <td>1129.689941</td>\n",
       "      <td>1097.449951</td>\n",
       "      <td>1105.619995</td>\n",
       "      <td>1105.619995</td>\n",
       "      <td>2343100</td>\n",
       "    </tr>\n",
       "    <tr>\n",
       "      <th>1</th>\n",
       "      <td>2020-04-02</td>\n",
       "      <td>1098.260010</td>\n",
       "      <td>1126.859985</td>\n",
       "      <td>1096.400024</td>\n",
       "      <td>1120.839966</td>\n",
       "      <td>1120.839966</td>\n",
       "      <td>1964900</td>\n",
       "    </tr>\n",
       "    <tr>\n",
       "      <th>2</th>\n",
       "      <td>2020-04-03</td>\n",
       "      <td>1119.015015</td>\n",
       "      <td>1123.540039</td>\n",
       "      <td>1079.810059</td>\n",
       "      <td>1097.880005</td>\n",
       "      <td>1097.880005</td>\n",
       "      <td>2313400</td>\n",
       "    </tr>\n",
       "    <tr>\n",
       "      <th>3</th>\n",
       "      <td>2020-04-06</td>\n",
       "      <td>1138.000000</td>\n",
       "      <td>1194.660034</td>\n",
       "      <td>1130.939941</td>\n",
       "      <td>1186.920044</td>\n",
       "      <td>1186.920044</td>\n",
       "      <td>2664700</td>\n",
       "    </tr>\n",
       "    <tr>\n",
       "      <th>4</th>\n",
       "      <td>2020-04-07</td>\n",
       "      <td>1221.000000</td>\n",
       "      <td>1225.000000</td>\n",
       "      <td>1182.229980</td>\n",
       "      <td>1186.510010</td>\n",
       "      <td>1186.510010</td>\n",
       "      <td>2387300</td>\n",
       "    </tr>\n",
       "  </tbody>\n",
       "</table>\n",
       "</div>"
      ],
      "text/plain": [
       "         Date         Open         High          Low        Close  \\\n",
       "0  2020-04-01  1122.000000  1129.689941  1097.449951  1105.619995   \n",
       "1  2020-04-02  1098.260010  1126.859985  1096.400024  1120.839966   \n",
       "2  2020-04-03  1119.015015  1123.540039  1079.810059  1097.880005   \n",
       "3  2020-04-06  1138.000000  1194.660034  1130.939941  1186.920044   \n",
       "4  2020-04-07  1221.000000  1225.000000  1182.229980  1186.510010   \n",
       "\n",
       "     Adj Close   Volume  \n",
       "0  1105.619995  2343100  \n",
       "1  1120.839966  1964900  \n",
       "2  1097.880005  2313400  \n",
       "3  1186.920044  2664700  \n",
       "4  1186.510010  2387300  "
      ]
     },
     "execution_count": 79,
     "metadata": {},
     "output_type": "execute_result"
    }
   ],
   "source": [
    "df = pd.read_csv(\"22_alphabet_stock_data.csv\")\n",
    "df.head()"
   ]
  },
  {
   "cell_type": "code",
   "execution_count": 80,
   "id": "5dadcc12-fa38-4529-b154-80b5d196e93d",
   "metadata": {},
   "outputs": [],
   "source": [
    "start_date = pd.to_datetime('2020-4-1')\n",
    "end_date = pd.to_datetime('2020-9-30')                         \n",
    "df['Date'] = pd.to_datetime(df['Date']) "
   ]
  },
  {
   "cell_type": "code",
   "execution_count": 82,
   "id": "c2642d25-8943-49a4-af6b-2991f9a47ee8",
   "metadata": {},
   "outputs": [],
   "source": [
    "new_df = (df['Date']>= start_date) & (df['Date']<= end_date)\n",
    "df1 = df.loc[new_df]\n",
    "df2 = df1[['Date', 'Adj Close']]\n",
    "df3 = df2.set_index('Date')\n",
    "daily_changes = df3.pct_change(periods=1)"
   ]
  },
  {
   "cell_type": "code",
   "execution_count": 84,
   "id": "3cec6de3-52db-487c-ad44-a40dce12de4b",
   "metadata": {
    "scrolled": true
   },
   "outputs": [
    {
     "name": "stderr",
     "output_type": "stream",
     "text": [
      "C:\\Users\\KaranJJoshi\\AppData\\Local\\Temp\\ipykernel_7284\\1587315620.py:1: UserWarning: \n",
      "\n",
      "`distplot` is a deprecated function and will be removed in seaborn v0.14.0.\n",
      "\n",
      "Please adapt your code to use either `displot` (a figure-level function with\n",
      "similar flexibility) or `histplot` (an axes-level function for histograms).\n",
      "\n",
      "For a guide to updating your code to use the new functions, please see\n",
      "https://gist.github.com/mwaskom/de44147ed2974457ad6372750bbe5751\n",
      "\n",
      "  sns.distplot(daily_changes['Adj Close'].dropna(),bins=100,color='purple')\n"
     ]
    },
    {
     "data": {
      "image/png": "[encoded data removed]",
      "text/plain": [
       "<Figure size 640x480 with 1 Axes>"
      ]
     },
     "metadata": {},
     "output_type": "display_data"
    }
   ],
   "source": [
    "sns.distplot(daily_changes['Adj Close'].dropna(),bins=100,color='purple')\n",
    "plt.suptitle('Daily % return of Alphabet Inc. stock price,\\n01-04-2020 to 30-09-2020', fontsize=12, color='black')\n",
    "plt.grid(True)\n",
    "plt.show()"
   ]
  },
  {
   "cell_type": "code",
   "execution_count": null,
   "id": "4a82b662-f0f5-4d00-a0e9-35aa353b5dfe",
   "metadata": {},
   "outputs": [],
   "source": []
  },
  {
   "cell_type": "markdown",
   "id": "32e65da1-bdbe-4221-bc6c-8c7213541f88",
   "metadata": {},
   "source": [
    "#2. Write a Pandas program to create a bar plot of the trading volume of Alphabet Inc. stock between two specific dates."
   ]
  },
  {
   "cell_type": "code",
   "execution_count": 91,
   "id": "4477c61a-a795-40fb-bb25-25cd7312c028",
   "metadata": {
    "scrolled": true
   },
   "outputs": [
    {
     "data": {
      "image/png": "[encoded data removed]",
      "text/plain": [
       "<Figure size 1200x600 with 1 Axes>"
      ]
     },
     "metadata": {},
     "output_type": "display_data"
    }
   ],
   "source": [
    "df = pd.read_csv(\"22_alphabet_stock_data.csv\")\n",
    "start_date = pd.to_datetime('2020-4-1')\n",
    "end_date = pd.to_datetime('2020-4-30')                         \n",
    "df['Date'] = pd.to_datetime(df['Date']) \n",
    "new_df = (df['Date']>= start_date) & (df['Date']<= end_date)\n",
    "df1 = df.loc[new_df]\n",
    "df2 = df1.set_index('Date')\n",
    "plt.figure(figsize=(12,6))\n",
    "plt.suptitle('Trading Volume of Alphabet Inc. stock,\\n01-04-2020 to 30-04-2020', fontsize=12, color='black')\n",
    "plt.xlabel(\"Date\",fontsize=8, color='black')\n",
    "plt.ylabel(\"Trading Volume\", fontsize=8, color='black') \n",
    "df2['Volume'].plot(kind='bar');\n",
    "plt.show()"
   ]
  },
  {
   "cell_type": "code",
   "execution_count": null,
   "id": "d6e05609-702e-4298-b838-9918a98b7fe5",
   "metadata": {},
   "outputs": [],
   "source": []
  },
  {
   "cell_type": "markdown",
   "id": "79dde4fc-9afa-4d04-affb-354c3189ef79",
   "metadata": {},
   "source": [
    "### Pandas Performance Optimization Exercises"
   ]
  },
  {
   "cell_type": "markdown",
   "id": "356e5bdd-9460-4904-9733-ab9cc133d712",
   "metadata": {},
   "source": [
    "#1. Write a Pandas program to measure the time taken to sort a large DataFrame using the sort_values method vs. using a custom sorting function with apply."
   ]
  },
  {
   "cell_type": "code",
   "execution_count": 95,
   "id": "9548770c-7ce2-404e-96b3-eb4300c15194",
   "metadata": {},
   "outputs": [
    {
     "data": {
      "text/html": [
       "<div>\n",
       "<style scoped>\n",
       "    .dataframe tbody tr th:only-of-type {\n",
       "        vertical-align: middle;\n",
       "    }\n",
       "\n",
       "    .dataframe tbody tr th {\n",
       "        vertical-align: top;\n",
       "    }\n",
       "\n",
       "    .dataframe thead th {\n",
       "        text-align: right;\n",
       "    }\n",
       "</style>\n",
       "<table border=\"1\" class=\"dataframe\">\n",
       "  <thead>\n",
       "    <tr style=\"text-align: right;\">\n",
       "      <th></th>\n",
       "      <th>A</th>\n",
       "      <th>B</th>\n",
       "    </tr>\n",
       "  </thead>\n",
       "  <tbody>\n",
       "    <tr>\n",
       "      <th>0</th>\n",
       "      <td>78</td>\n",
       "      <td>1.982575</td>\n",
       "    </tr>\n",
       "    <tr>\n",
       "      <th>1</th>\n",
       "      <td>84</td>\n",
       "      <td>1.835453</td>\n",
       "    </tr>\n",
       "    <tr>\n",
       "      <th>2</th>\n",
       "      <td>66</td>\n",
       "      <td>-1.910527</td>\n",
       "    </tr>\n",
       "  </tbody>\n",
       "</table>\n",
       "</div>"
      ],
      "text/plain": [
       "    A         B\n",
       "0  78  1.982575\n",
       "1  84  1.835453\n",
       "2  66 -1.910527"
      ]
     },
     "execution_count": 95,
     "metadata": {},
     "output_type": "execute_result"
    }
   ],
   "source": [
    "import time\n",
    "\n",
    "num_rows = 1000000\n",
    "df = pd.DataFrame({\n",
    "    'A': np.random.randint(0, 100, size=num_rows),\n",
    "    'B': np.random.randn(num_rows)\n",
    "})\n",
    "\n",
    "df.head(3)"
   ]
  },
  {
   "cell_type": "code",
   "execution_count": 103,
   "id": "caea030e-ecb5-470f-80c4-de88c5daab5c",
   "metadata": {},
   "outputs": [
    {
     "name": "stdout",
     "output_type": "stream",
     "text": [
      "Time taken using sort_values method: 0.157303 seconds\n"
     ]
    }
   ],
   "source": [
    "start_time = time.time()\n",
    "sorted_df = df.sort_values(by='A')\n",
    "end_time = time.time()\n",
    "sort_values_time = end_time - start_time\n",
    "print(f\"Time taken using sort_values method: {sort_values_time:.6f} seconds\")"
   ]
  },
  {
   "cell_type": "code",
   "execution_count": 104,
   "id": "969c18ce-6012-4f10-9314-9b422af5fdfe",
   "metadata": {},
   "outputs": [
    {
     "name": "stdout",
     "output_type": "stream",
     "text": [
      "Time taken using apply method: 0.156798 seconds\n"
     ]
    }
   ],
   "source": [
    "def sort_custom(df):\n",
    "    return df.sort_values(by='A')\n",
    "\n",
    "start_time = time.time()\n",
    "apply_sorted_df = df.apply(lambda x: x).sort_values(by='A')\n",
    "end_time = time.time()\n",
    "apply_time = end_time - start_time\n",
    "\n",
    "print(f\"Time taken using apply method: {apply_time:.6f} seconds\")"
   ]
  },
  {
   "cell_type": "code",
   "execution_count": null,
   "id": "8ffe92a7-8dad-41e2-ba65-72f2dd5ae9c3",
   "metadata": {},
   "outputs": [],
   "source": []
  },
  {
   "cell_type": "markdown",
   "id": "93a33879-0d0e-4e4a-8016-3140a6843d2b",
   "metadata": {},
   "source": [
    "### Pandas Advanced Indexing and Slicing"
   ]
  },
  {
   "cell_type": "markdown",
   "id": "37a3dc08-beec-4276-b0cf-74f615797d9b",
   "metadata": {},
   "source": [
    "#1. Write a Pandas program that uses MultiIndex to select data based on conditions."
   ]
  },
  {
   "cell_type": "code",
   "execution_count": 113,
   "id": "3dfc65fd-5657-4897-9f0e-1f7447bc2d23",
   "metadata": {},
   "outputs": [
    {
     "data": {
      "text/html": [
       "<div>\n",
       "<style scoped>\n",
       "    .dataframe tbody tr th:only-of-type {\n",
       "        vertical-align: middle;\n",
       "    }\n",
       "\n",
       "    .dataframe tbody tr th {\n",
       "        vertical-align: top;\n",
       "    }\n",
       "\n",
       "    .dataframe thead th {\n",
       "        text-align: right;\n",
       "    }\n",
       "</style>\n",
       "<table border=\"1\" class=\"dataframe\">\n",
       "  <thead>\n",
       "    <tr style=\"text-align: right;\">\n",
       "      <th></th>\n",
       "      <th>X</th>\n",
       "      <th>Y</th>\n",
       "      <th>Z</th>\n",
       "    </tr>\n",
       "  </thead>\n",
       "  <tbody>\n",
       "    <tr>\n",
       "      <th>0</th>\n",
       "      <td>1</td>\n",
       "      <td>5</td>\n",
       "      <td>one</td>\n",
       "    </tr>\n",
       "    <tr>\n",
       "      <th>1</th>\n",
       "      <td>6</td>\n",
       "      <td>2</td>\n",
       "      <td>one</td>\n",
       "    </tr>\n",
       "    <tr>\n",
       "      <th>2</th>\n",
       "      <td>8</td>\n",
       "      <td>9</td>\n",
       "      <td>two</td>\n",
       "    </tr>\n",
       "    <tr>\n",
       "      <th>3</th>\n",
       "      <td>3</td>\n",
       "      <td>4</td>\n",
       "      <td>two</td>\n",
       "    </tr>\n",
       "    <tr>\n",
       "      <th>4</th>\n",
       "      <td>7</td>\n",
       "      <td>1</td>\n",
       "      <td>one</td>\n",
       "    </tr>\n",
       "  </tbody>\n",
       "</table>\n",
       "</div>"
      ],
      "text/plain": [
       "   X  Y    Z\n",
       "0  1  5  one\n",
       "1  6  2  one\n",
       "2  8  9  two\n",
       "3  3  4  two\n",
       "4  7  1  one"
      ]
     },
     "execution_count": 113,
     "metadata": {},
     "output_type": "execute_result"
    }
   ],
   "source": [
    "df = pd.DataFrame({\n",
    "    'X': [1, 6, 8, 3, 7],\n",
    "    'Y': [5, 2, 9, 4, 1],\n",
    "    'Z': ['one', 'one', 'two', 'two', 'one']\n",
    "})\n",
    "df"
   ]
  },
  {
   "cell_type": "code",
   "execution_count": 127,
   "id": "b759c12e-8bac-4707-a713-1ee12f9d5fab",
   "metadata": {},
   "outputs": [
    {
     "data": {
      "text/html": [
       "<div>\n",
       "<style scoped>\n",
       "    .dataframe tbody tr th:only-of-type {\n",
       "        vertical-align: middle;\n",
       "    }\n",
       "\n",
       "    .dataframe tbody tr th {\n",
       "        vertical-align: top;\n",
       "    }\n",
       "\n",
       "    .dataframe thead th {\n",
       "        text-align: right;\n",
       "    }\n",
       "</style>\n",
       "<table border=\"1\" class=\"dataframe\">\n",
       "  <thead>\n",
       "    <tr style=\"text-align: right;\">\n",
       "      <th></th>\n",
       "      <th></th>\n",
       "      <th>Y</th>\n",
       "    </tr>\n",
       "    <tr>\n",
       "      <th>Z</th>\n",
       "      <th>X</th>\n",
       "      <th></th>\n",
       "    </tr>\n",
       "  </thead>\n",
       "  <tbody>\n",
       "    <tr>\n",
       "      <th rowspan=\"2\" valign=\"top\">one</th>\n",
       "      <th>1</th>\n",
       "      <td>5</td>\n",
       "    </tr>\n",
       "    <tr>\n",
       "      <th>6</th>\n",
       "      <td>2</td>\n",
       "    </tr>\n",
       "    <tr>\n",
       "      <th rowspan=\"2\" valign=\"top\">two</th>\n",
       "      <th>8</th>\n",
       "      <td>9</td>\n",
       "    </tr>\n",
       "    <tr>\n",
       "      <th>3</th>\n",
       "      <td>4</td>\n",
       "    </tr>\n",
       "    <tr>\n",
       "      <th>one</th>\n",
       "      <th>7</th>\n",
       "      <td>1</td>\n",
       "    </tr>\n",
       "  </tbody>\n",
       "</table>\n",
       "</div>"
      ],
      "text/plain": [
       "       Y\n",
       "Z   X   \n",
       "one 1  5\n",
       "    6  2\n",
       "two 8  9\n",
       "    3  4\n",
       "one 7  1"
      ]
     },
     "execution_count": 127,
     "metadata": {},
     "output_type": "execute_result"
    }
   ],
   "source": [
    "df_cpy = df.set_index([\"Z\", \"X\"])\n",
    "df_cpy"
   ]
  },
  {
   "cell_type": "code",
   "execution_count": 128,
   "id": "8ddc6fcc-2530-4933-955c-7b76ddf2658e",
   "metadata": {},
   "outputs": [
    {
     "data": {
      "text/html": [
       "<div>\n",
       "<style scoped>\n",
       "    .dataframe tbody tr th:only-of-type {\n",
       "        vertical-align: middle;\n",
       "    }\n",
       "\n",
       "    .dataframe tbody tr th {\n",
       "        vertical-align: top;\n",
       "    }\n",
       "\n",
       "    .dataframe thead th {\n",
       "        text-align: right;\n",
       "    }\n",
       "</style>\n",
       "<table border=\"1\" class=\"dataframe\">\n",
       "  <thead>\n",
       "    <tr style=\"text-align: right;\">\n",
       "      <th></th>\n",
       "      <th>Y</th>\n",
       "    </tr>\n",
       "    <tr>\n",
       "      <th>X</th>\n",
       "      <th></th>\n",
       "    </tr>\n",
       "  </thead>\n",
       "  <tbody>\n",
       "    <tr>\n",
       "      <th>1</th>\n",
       "      <td>5</td>\n",
       "    </tr>\n",
       "    <tr>\n",
       "      <th>6</th>\n",
       "      <td>2</td>\n",
       "    </tr>\n",
       "    <tr>\n",
       "      <th>7</th>\n",
       "      <td>1</td>\n",
       "    </tr>\n",
       "  </tbody>\n",
       "</table>\n",
       "</div>"
      ],
      "text/plain": [
       "   Y\n",
       "X   \n",
       "1  5\n",
       "6  2\n",
       "7  1"
      ]
     },
     "execution_count": 128,
     "metadata": {},
     "output_type": "execute_result"
    }
   ],
   "source": [
    "df_cpy.loc[(\"one\", slice(None))]"
   ]
  },
  {
   "cell_type": "code",
   "execution_count": null,
   "id": "187a6c72-8b3e-4589-94bd-af54a9b082b9",
   "metadata": {},
   "outputs": [],
   "source": []
  },
  {
   "cell_type": "markdown",
   "id": "90580836-b6f0-4bf3-86de-a1cc3e54db1c",
   "metadata": {},
   "source": [
    "#2. Write a Pandas program to select rows where column 'X' > 5 and column 'Y' < 5."
   ]
  },
  {
   "cell_type": "code",
   "execution_count": 131,
   "id": "9212a14e-86f9-4e0e-9685-b400bfeeac55",
   "metadata": {},
   "outputs": [
    {
     "data": {
      "text/html": [
       "<div>\n",
       "<style scoped>\n",
       "    .dataframe tbody tr th:only-of-type {\n",
       "        vertical-align: middle;\n",
       "    }\n",
       "\n",
       "    .dataframe tbody tr th {\n",
       "        vertical-align: top;\n",
       "    }\n",
       "\n",
       "    .dataframe thead th {\n",
       "        text-align: right;\n",
       "    }\n",
       "</style>\n",
       "<table border=\"1\" class=\"dataframe\">\n",
       "  <thead>\n",
       "    <tr style=\"text-align: right;\">\n",
       "      <th></th>\n",
       "      <th>X</th>\n",
       "      <th>Y</th>\n",
       "      <th>Z</th>\n",
       "    </tr>\n",
       "  </thead>\n",
       "  <tbody>\n",
       "    <tr>\n",
       "      <th>1</th>\n",
       "      <td>6</td>\n",
       "      <td>2</td>\n",
       "      <td>one</td>\n",
       "    </tr>\n",
       "    <tr>\n",
       "      <th>4</th>\n",
       "      <td>7</td>\n",
       "      <td>1</td>\n",
       "      <td>one</td>\n",
       "    </tr>\n",
       "  </tbody>\n",
       "</table>\n",
       "</div>"
      ],
      "text/plain": [
       "   X  Y    Z\n",
       "1  6  2  one\n",
       "4  7  1  one"
      ]
     },
     "execution_count": 131,
     "metadata": {},
     "output_type": "execute_result"
    }
   ],
   "source": [
    "df[(df[\"X\"] > 5) & (df[\"Y\"] < 5)]"
   ]
  },
  {
   "cell_type": "code",
   "execution_count": 132,
   "id": "b8df157d-b73a-4505-8734-f75e551cea2d",
   "metadata": {},
   "outputs": [
    {
     "data": {
      "text/html": [
       "<div>\n",
       "<style scoped>\n",
       "    .dataframe tbody tr th:only-of-type {\n",
       "        vertical-align: middle;\n",
       "    }\n",
       "\n",
       "    .dataframe tbody tr th {\n",
       "        vertical-align: top;\n",
       "    }\n",
       "\n",
       "    .dataframe thead th {\n",
       "        text-align: right;\n",
       "    }\n",
       "</style>\n",
       "<table border=\"1\" class=\"dataframe\">\n",
       "  <thead>\n",
       "    <tr style=\"text-align: right;\">\n",
       "      <th></th>\n",
       "      <th>X</th>\n",
       "      <th>Y</th>\n",
       "      <th>Z</th>\n",
       "    </tr>\n",
       "  </thead>\n",
       "  <tbody>\n",
       "    <tr>\n",
       "      <th>1</th>\n",
       "      <td>6</td>\n",
       "      <td>2</td>\n",
       "      <td>one</td>\n",
       "    </tr>\n",
       "    <tr>\n",
       "      <th>4</th>\n",
       "      <td>7</td>\n",
       "      <td>1</td>\n",
       "      <td>one</td>\n",
       "    </tr>\n",
       "  </tbody>\n",
       "</table>\n",
       "</div>"
      ],
      "text/plain": [
       "   X  Y    Z\n",
       "1  6  2  one\n",
       "4  7  1  one"
      ]
     },
     "execution_count": 132,
     "metadata": {},
     "output_type": "execute_result"
    }
   ],
   "source": [
    "df.query(\"X > 5 and Y < 5\")"
   ]
  },
  {
   "cell_type": "code",
   "execution_count": null,
   "id": "d7a41fe3-5288-47ea-85fa-08790d3b03f3",
   "metadata": {},
   "outputs": [],
   "source": []
  },
  {
   "cell_type": "markdown",
   "id": "675734f4-777e-4590-ab90-c7e94756ea92",
   "metadata": {},
   "source": [
    "### Pandas Resampling and Frequency Conversion Exercises"
   ]
  },
  {
   "cell_type": "markdown",
   "id": "be773321-c13c-47a4-9010-23bbe604c8a3",
   "metadata": {},
   "source": [
    "#1. Write a Pandas program to calculate percentage change in Resampled data"
   ]
  },
  {
   "cell_type": "code",
   "execution_count": 140,
   "id": "3d1a79f2-5ca0-41db-82c7-a16332a1dd71",
   "metadata": {},
   "outputs": [],
   "source": [
    "date_rng = pd.date_range(start='2021-01-01', end='2021-01-10', freq='D')"
   ]
  },
  {
   "cell_type": "code",
   "execution_count": 141,
   "id": "00ac1c23-26bc-4e91-be1e-4f8dffcfaf6d",
   "metadata": {},
   "outputs": [],
   "source": [
    "ts = pd.Series(np.random.randn(len(date_rng)), index=date_rng)"
   ]
  },
  {
   "cell_type": "code",
   "execution_count": 142,
   "id": "9e93e478-733f-4ff1-a357-5ecd3db23b9c",
   "metadata": {},
   "outputs": [
    {
     "data": {
      "text/plain": [
       "DatetimeIndex(['2021-01-01', '2021-01-02', '2021-01-03', '2021-01-04',\n",
       "               '2021-01-05', '2021-01-06', '2021-01-07', '2021-01-08',\n",
       "               '2021-01-09', '2021-01-10'],\n",
       "              dtype='datetime64[ns]', freq='D')"
      ]
     },
     "execution_count": 142,
     "metadata": {},
     "output_type": "execute_result"
    }
   ],
   "source": [
    "date_rng"
   ]
  },
  {
   "cell_type": "code",
   "execution_count": 143,
   "id": "81a945df-ec31-451b-9727-c7104ed8257b",
   "metadata": {},
   "outputs": [
    {
     "data": {
      "text/plain": [
       "2021-01-01   -1.182076\n",
       "2021-01-02   -1.070292\n",
       "2021-01-03   -1.837712\n",
       "2021-01-04    1.289933\n",
       "2021-01-05   -0.785757\n",
       "2021-01-06   -0.286021\n",
       "2021-01-07    0.232639\n",
       "2021-01-08   -0.038321\n",
       "2021-01-09   -1.979889\n",
       "2021-01-10   -0.558723\n",
       "Freq: D, dtype: float64"
      ]
     },
     "execution_count": 143,
     "metadata": {},
     "output_type": "execute_result"
    }
   ],
   "source": [
    "ts"
   ]
  },
  {
   "cell_type": "code",
   "execution_count": 144,
   "id": "54a0dfb3-f19b-4b35-9f8c-954ae676ec1e",
   "metadata": {},
   "outputs": [],
   "source": [
    "ts_daily = ts.resample(\"D\").mean()"
   ]
  },
  {
   "cell_type": "code",
   "execution_count": 145,
   "id": "86ba7c17-df10-4e7a-aead-af84d75557db",
   "metadata": {},
   "outputs": [
    {
     "data": {
      "text/plain": [
       "2021-01-01          NaN\n",
       "2021-01-02    -0.094566\n",
       "2021-01-03     0.717019\n",
       "2021-01-04    -1.701923\n",
       "2021-01-05    -1.609145\n",
       "2021-01-06    -0.635993\n",
       "2021-01-07    -1.813362\n",
       "2021-01-08    -1.164725\n",
       "2021-01-09    50.665371\n",
       "2021-01-10    -0.717801\n",
       "Freq: D, dtype: float64"
      ]
     },
     "execution_count": 145,
     "metadata": {},
     "output_type": "execute_result"
    }
   ],
   "source": [
    "ts_daily.pct_change()"
   ]
  },
  {
   "cell_type": "code",
   "execution_count": null,
   "id": "9facdc9d-b54b-4d1d-b08c-595b1f746f09",
   "metadata": {},
   "outputs": [],
   "source": []
  },
  {
   "cell_type": "markdown",
   "id": "94ca26a6-9892-435d-b18b-5fc05c7c628f",
   "metadata": {},
   "source": [
    "#2. Write a Pandas program to resample Time Series Data to Yearly Frequency."
   ]
  },
  {
   "cell_type": "code",
   "execution_count": 153,
   "id": "79a38968-bc11-4f99-8d7c-a20b0014ca82",
   "metadata": {},
   "outputs": [],
   "source": [
    "date_rng = pd.date_range(start='2017-01-01', end='2022-01-01', freq='ME')\n",
    "ts = pd.Series(np.random.randn(len(date_rng)), index=date_rng)"
   ]
  },
  {
   "cell_type": "code",
   "execution_count": 154,
   "id": "4b6fb25b-2edc-45c5-bbb2-b2b5d60ba1fa",
   "metadata": {
    "scrolled": true
   },
   "outputs": [
    {
     "data": {
      "text/plain": [
       "DatetimeIndex(['2017-01-31', '2017-02-28', '2017-03-31', '2017-04-30',\n",
       "               '2017-05-31', '2017-06-30', '2017-07-31', '2017-08-31',\n",
       "               '2017-09-30', '2017-10-31', '2017-11-30', '2017-12-31',\n",
       "               '2018-01-31', '2018-02-28', '2018-03-31', '2018-04-30',\n",
       "               '2018-05-31', '2018-06-30', '2018-07-31', '2018-08-31',\n",
       "               '2018-09-30', '2018-10-31', '2018-11-30', '2018-12-31',\n",
       "               '2019-01-31', '2019-02-28', '2019-03-31', '2019-04-30',\n",
       "               '2019-05-31', '2019-06-30', '2019-07-31', '2019-08-31',\n",
       "               '2019-09-30', '2019-10-31', '2019-11-30', '2019-12-31',\n",
       "               '2020-01-31', '2020-02-29', '2020-03-31', '2020-04-30',\n",
       "               '2020-05-31', '2020-06-30', '2020-07-31', '2020-08-31',\n",
       "               '2020-09-30', '2020-10-31', '2020-11-30', '2020-12-31',\n",
       "               '2021-01-31', '2021-02-28', '2021-03-31', '2021-04-30',\n",
       "               '2021-05-31', '2021-06-30', '2021-07-31', '2021-08-31',\n",
       "               '2021-09-30', '2021-10-31', '2021-11-30', '2021-12-31'],\n",
       "              dtype='datetime64[ns]', freq='ME')"
      ]
     },
     "execution_count": 154,
     "metadata": {},
     "output_type": "execute_result"
    }
   ],
   "source": [
    "date_rng"
   ]
  },
  {
   "cell_type": "code",
   "execution_count": 155,
   "id": "ae5fb0ff-2cb1-4260-b9b6-4ca2b3cd9de5",
   "metadata": {
    "scrolled": true
   },
   "outputs": [
    {
     "data": {
      "text/plain": [
       "2017-01-31   -1.038948\n",
       "2017-02-28   -1.199766\n",
       "2017-03-31    0.958073\n",
       "2017-04-30    1.071216\n",
       "2017-05-31    0.024257\n",
       "2017-06-30    1.412306\n",
       "2017-07-31    1.469506\n",
       "2017-08-31   -0.517939\n",
       "2017-09-30   -0.067198\n",
       "2017-10-31   -0.480798\n",
       "2017-11-30   -1.124838\n",
       "2017-12-31   -1.072991\n",
       "2018-01-31   -1.671489\n",
       "2018-02-28    0.304337\n",
       "2018-03-31    2.204458\n",
       "2018-04-30   -0.062432\n",
       "2018-05-31   -0.445774\n",
       "2018-06-30    1.220525\n",
       "2018-07-31    0.745667\n",
       "2018-08-31   -0.278376\n",
       "2018-09-30    0.907698\n",
       "2018-10-31    0.112946\n",
       "2018-11-30   -0.614162\n",
       "2018-12-31   -1.226394\n",
       "2019-01-31   -0.299359\n",
       "2019-02-28    0.729563\n",
       "2019-03-31   -0.511668\n",
       "2019-04-30    1.276409\n",
       "2019-05-31   -0.353495\n",
       "2019-06-30   -0.030634\n",
       "2019-07-31   -1.558846\n",
       "2019-08-31    0.424391\n",
       "2019-09-30   -1.067196\n",
       "2019-10-31    0.987248\n",
       "2019-11-30    0.582126\n",
       "2019-12-31    1.174694\n",
       "2020-01-31    0.106972\n",
       "2020-02-29    0.730432\n",
       "2020-03-31    1.246457\n",
       "2020-04-30    0.224543\n",
       "2020-05-31    0.356533\n",
       "2020-06-30   -0.669193\n",
       "2020-07-31   -1.168521\n",
       "2020-08-31    3.387670\n",
       "2020-09-30    2.269356\n",
       "2020-10-31    0.759171\n",
       "2020-11-30   -1.190317\n",
       "2020-12-31   -1.003993\n",
       "2021-01-31   -0.257948\n",
       "2021-02-28   -0.295179\n",
       "2021-03-31   -1.638482\n",
       "2021-04-30    0.892623\n",
       "2021-05-31    0.556276\n",
       "2021-06-30   -0.644073\n",
       "2021-07-31   -0.211467\n",
       "2021-08-31   -0.256841\n",
       "2021-09-30   -0.014733\n",
       "2021-10-31    2.534413\n",
       "2021-11-30   -1.902735\n",
       "2021-12-31    0.280397\n",
       "Freq: ME, dtype: float64"
      ]
     },
     "execution_count": 155,
     "metadata": {},
     "output_type": "execute_result"
    }
   ],
   "source": [
    "ts"
   ]
  },
  {
   "cell_type": "code",
   "execution_count": 156,
   "id": "8c2c438b-24fb-4144-b192-12b6b4e96ba1",
   "metadata": {},
   "outputs": [
    {
     "data": {
      "text/plain": [
       "2017-12-31   -0.047260\n",
       "2018-12-31    0.099750\n",
       "2019-12-31    0.112769\n",
       "2020-12-31    0.420759\n",
       "2021-12-31   -0.079813\n",
       "Freq: YE-DEC, dtype: float64"
      ]
     },
     "execution_count": 156,
     "metadata": {},
     "output_type": "execute_result"
    }
   ],
   "source": [
    "ts.resample(\"YE\").mean()"
   ]
  },
  {
   "cell_type": "code",
   "execution_count": null,
   "id": "7e95f93b-0820-4e3f-93d4-d134cbb04a4d",
   "metadata": {},
   "outputs": [],
   "source": []
  },
  {
   "cell_type": "markdown",
   "id": "3cb3a02c-e9a2-4d67-ad23-b66ab00de8e7",
   "metadata": {},
   "source": [
    "### Pandas Advanced Grouping and Aggregation Exercises "
   ]
  },
  {
   "cell_type": "markdown",
   "id": "aeb67e0d-ecac-4cdb-a4b7-474f7b1959ed",
   "metadata": {},
   "source": [
    "#1. GroupBy and Applying Multiple Aggregations with Named Functions:\n",
    "Write a Pandas program to apply multiple aggregations with named functions in GroupBy for detailed data analysis."
   ]
  },
  {
   "cell_type": "code",
   "execution_count": 158,
   "id": "815c744b-5ef4-4f65-a6a9-d5f86c9ea293",
   "metadata": {},
   "outputs": [
    {
     "data": {
      "text/html": [
       "<div>\n",
       "<style scoped>\n",
       "    .dataframe tbody tr th:only-of-type {\n",
       "        vertical-align: middle;\n",
       "    }\n",
       "\n",
       "    .dataframe tbody tr th {\n",
       "        vertical-align: top;\n",
       "    }\n",
       "\n",
       "    .dataframe thead th {\n",
       "        text-align: right;\n",
       "    }\n",
       "</style>\n",
       "<table border=\"1\" class=\"dataframe\">\n",
       "  <thead>\n",
       "    <tr style=\"text-align: right;\">\n",
       "      <th></th>\n",
       "      <th>Category</th>\n",
       "      <th>Value1</th>\n",
       "      <th>Value2</th>\n",
       "    </tr>\n",
       "  </thead>\n",
       "  <tbody>\n",
       "    <tr>\n",
       "      <th>0</th>\n",
       "      <td>A</td>\n",
       "      <td>5</td>\n",
       "      <td>50</td>\n",
       "    </tr>\n",
       "    <tr>\n",
       "      <th>1</th>\n",
       "      <td>A</td>\n",
       "      <td>10</td>\n",
       "      <td>100</td>\n",
       "    </tr>\n",
       "    <tr>\n",
       "      <th>2</th>\n",
       "      <td>B</td>\n",
       "      <td>15</td>\n",
       "      <td>150</td>\n",
       "    </tr>\n",
       "    <tr>\n",
       "      <th>3</th>\n",
       "      <td>B</td>\n",
       "      <td>20</td>\n",
       "      <td>200</td>\n",
       "    </tr>\n",
       "    <tr>\n",
       "      <th>4</th>\n",
       "      <td>C</td>\n",
       "      <td>25</td>\n",
       "      <td>250</td>\n",
       "    </tr>\n",
       "    <tr>\n",
       "      <th>5</th>\n",
       "      <td>C</td>\n",
       "      <td>30</td>\n",
       "      <td>300</td>\n",
       "    </tr>\n",
       "  </tbody>\n",
       "</table>\n",
       "</div>"
      ],
      "text/plain": [
       "  Category  Value1  Value2\n",
       "0        A       5      50\n",
       "1        A      10     100\n",
       "2        B      15     150\n",
       "3        B      20     200\n",
       "4        C      25     250\n",
       "5        C      30     300"
      ]
     },
     "execution_count": 158,
     "metadata": {},
     "output_type": "execute_result"
    }
   ],
   "source": [
    "data = {\n",
    "    'Category': ['A', 'A', 'B', 'B', 'C', 'C'],\n",
    "    'Value1': [5, 10, 15, 20, 25, 30],\n",
    "    'Value2': [50, 100, 150, 200, 250, 300]\n",
    "}\n",
    "\n",
    "df = pd.DataFrame(data)\n",
    "df"
   ]
  },
  {
   "cell_type": "code",
   "execution_count": 159,
   "id": "cbbb8cd5-1660-487f-95db-150a76999bcc",
   "metadata": {},
   "outputs": [
    {
     "data": {
      "text/html": [
       "<div>\n",
       "<style scoped>\n",
       "    .dataframe tbody tr th:only-of-type {\n",
       "        vertical-align: middle;\n",
       "    }\n",
       "\n",
       "    .dataframe tbody tr th {\n",
       "        vertical-align: top;\n",
       "    }\n",
       "\n",
       "    .dataframe thead th {\n",
       "        text-align: right;\n",
       "    }\n",
       "</style>\n",
       "<table border=\"1\" class=\"dataframe\">\n",
       "  <thead>\n",
       "    <tr style=\"text-align: right;\">\n",
       "      <th></th>\n",
       "      <th>Total_Value1</th>\n",
       "      <th>Average_Value2</th>\n",
       "    </tr>\n",
       "    <tr>\n",
       "      <th>Category</th>\n",
       "      <th></th>\n",
       "      <th></th>\n",
       "    </tr>\n",
       "  </thead>\n",
       "  <tbody>\n",
       "    <tr>\n",
       "      <th>A</th>\n",
       "      <td>15</td>\n",
       "      <td>75.0</td>\n",
       "    </tr>\n",
       "    <tr>\n",
       "      <th>B</th>\n",
       "      <td>35</td>\n",
       "      <td>175.0</td>\n",
       "    </tr>\n",
       "    <tr>\n",
       "      <th>C</th>\n",
       "      <td>55</td>\n",
       "      <td>275.0</td>\n",
       "    </tr>\n",
       "  </tbody>\n",
       "</table>\n",
       "</div>"
      ],
      "text/plain": [
       "          Total_Value1  Average_Value2\n",
       "Category                              \n",
       "A                   15            75.0\n",
       "B                   35           175.0\n",
       "C                   55           275.0"
      ]
     },
     "execution_count": 159,
     "metadata": {},
     "output_type": "execute_result"
    }
   ],
   "source": [
    "grouped = df.groupby('Category').agg(\n",
    "    Total_Value1=('Value1', 'sum'),\n",
    "    Average_Value2=('Value2', 'mean')\n",
    ")\n",
    "grouped"
   ]
  },
  {
   "cell_type": "code",
   "execution_count": 167,
   "id": "53f4a799-b08c-450a-a14b-e3c3b68b226c",
   "metadata": {},
   "outputs": [],
   "source": [
    "res = df.groupby('Category').agg({\"Value1\": [\"sum\"], \"Value2\": [\"mean\"]})"
   ]
  },
  {
   "cell_type": "code",
   "execution_count": 169,
   "id": "aa308bf5-9498-4e70-8cfe-e36b3b8c79b3",
   "metadata": {},
   "outputs": [],
   "source": [
    "res.columns = ['Total_Value1', 'Avg_Value2']"
   ]
  },
  {
   "cell_type": "code",
   "execution_count": 170,
   "id": "504fe091-063b-4f62-8f23-ddac3092e60d",
   "metadata": {},
   "outputs": [
    {
     "data": {
      "text/html": [
       "<div>\n",
       "<style scoped>\n",
       "    .dataframe tbody tr th:only-of-type {\n",
       "        vertical-align: middle;\n",
       "    }\n",
       "\n",
       "    .dataframe tbody tr th {\n",
       "        vertical-align: top;\n",
       "    }\n",
       "\n",
       "    .dataframe thead th {\n",
       "        text-align: right;\n",
       "    }\n",
       "</style>\n",
       "<table border=\"1\" class=\"dataframe\">\n",
       "  <thead>\n",
       "    <tr style=\"text-align: right;\">\n",
       "      <th></th>\n",
       "      <th>Total_Value1</th>\n",
       "      <th>Avg_Value2</th>\n",
       "    </tr>\n",
       "    <tr>\n",
       "      <th>Category</th>\n",
       "      <th></th>\n",
       "      <th></th>\n",
       "    </tr>\n",
       "  </thead>\n",
       "  <tbody>\n",
       "    <tr>\n",
       "      <th>A</th>\n",
       "      <td>15</td>\n",
       "      <td>75.0</td>\n",
       "    </tr>\n",
       "    <tr>\n",
       "      <th>B</th>\n",
       "      <td>35</td>\n",
       "      <td>175.0</td>\n",
       "    </tr>\n",
       "    <tr>\n",
       "      <th>C</th>\n",
       "      <td>55</td>\n",
       "      <td>275.0</td>\n",
       "    </tr>\n",
       "  </tbody>\n",
       "</table>\n",
       "</div>"
      ],
      "text/plain": [
       "          Total_Value1  Avg_Value2\n",
       "Category                          \n",
       "A                   15        75.0\n",
       "B                   35       175.0\n",
       "C                   55       275.0"
      ]
     },
     "execution_count": 170,
     "metadata": {},
     "output_type": "execute_result"
    }
   ],
   "source": [
    "res"
   ]
  },
  {
   "cell_type": "code",
   "execution_count": null,
   "id": "5cd221f4-f454-42e3-b904-425ab18b8f7f",
   "metadata": {},
   "outputs": [],
   "source": []
  },
  {
   "cell_type": "markdown",
   "id": "e1a0cff0-fdc2-438d-af7f-9f795cb06256",
   "metadata": {},
   "source": [
    "### Pandas IMDb Movies Queries Exercises"
   ]
  },
  {
   "cell_type": "markdown",
   "id": "b7538c1b-ef86-4b5b-b6ae-7322de39ac24",
   "metadata": {},
   "source": [
    "#1. Write a Pandas program to display the movies (title, number of votes) that received specified number of votes."
   ]
  },
  {
   "cell_type": "code",
   "execution_count": 181,
   "id": "ecc975d6-2deb-42db-af61-ca0324f7994d",
   "metadata": {},
   "outputs": [],
   "source": [
    "df = pd.read_csv(\"22_movies_metadata.csv\", encoding=\"ISO-8859-1\", on_bad_lines=\"skip\", usecols=[\"title\", \"vote_count\"])"
   ]
  },
  {
   "cell_type": "code",
   "execution_count": 182,
   "id": "41037606-25fc-474f-9b32-3f00b530179d",
   "metadata": {
    "scrolled": true
   },
   "outputs": [
    {
     "name": "stdout",
     "output_type": "stream",
     "text": [
      "<class 'pandas.core.frame.DataFrame'>\n",
      "RangeIndex: 50 entries, 0 to 49\n",
      "Data columns (total 2 columns):\n",
      " #   Column      Non-Null Count  Dtype  \n",
      "---  ------      --------------  -----  \n",
      " 0   title       50 non-null     object \n",
      " 1   vote_count  50 non-null     float64\n",
      "dtypes: float64(1), object(1)\n",
      "memory usage: 932.0+ bytes\n"
     ]
    }
   ],
   "source": [
    "df.info()"
   ]
  },
  {
   "cell_type": "code",
   "execution_count": 183,
   "id": "93ce5741-2969-467a-b3af-f551d50840e3",
   "metadata": {},
   "outputs": [
    {
     "data": {
      "text/html": [
       "<div>\n",
       "<style scoped>\n",
       "    .dataframe tbody tr th:only-of-type {\n",
       "        vertical-align: middle;\n",
       "    }\n",
       "\n",
       "    .dataframe tbody tr th {\n",
       "        vertical-align: top;\n",
       "    }\n",
       "\n",
       "    .dataframe thead th {\n",
       "        text-align: right;\n",
       "    }\n",
       "</style>\n",
       "<table border=\"1\" class=\"dataframe\">\n",
       "  <thead>\n",
       "    <tr style=\"text-align: right;\">\n",
       "      <th></th>\n",
       "      <th>title</th>\n",
       "      <th>vote_count</th>\n",
       "    </tr>\n",
       "  </thead>\n",
       "  <tbody>\n",
       "    <tr>\n",
       "      <th>0</th>\n",
       "      <td>Toy Story</td>\n",
       "      <td>5415.0</td>\n",
       "    </tr>\n",
       "    <tr>\n",
       "      <th>1</th>\n",
       "      <td>Jumanji</td>\n",
       "      <td>2413.0</td>\n",
       "    </tr>\n",
       "    <tr>\n",
       "      <th>2</th>\n",
       "      <td>Grumpier Old Men</td>\n",
       "      <td>92.0</td>\n",
       "    </tr>\n",
       "  </tbody>\n",
       "</table>\n",
       "</div>"
      ],
      "text/plain": [
       "              title  vote_count\n",
       "0         Toy Story      5415.0\n",
       "1           Jumanji      2413.0\n",
       "2  Grumpier Old Men        92.0"
      ]
     },
     "execution_count": 183,
     "metadata": {},
     "output_type": "execute_result"
    }
   ],
   "source": [
    "df.head(3)"
   ]
  },
  {
   "cell_type": "code",
   "execution_count": 184,
   "id": "495baee1-4720-488d-9813-23b95a8a5ee4",
   "metadata": {
    "scrolled": true
   },
   "outputs": [
    {
     "data": {
      "text/html": [
       "<div>\n",
       "<style scoped>\n",
       "    .dataframe tbody tr th:only-of-type {\n",
       "        vertical-align: middle;\n",
       "    }\n",
       "\n",
       "    .dataframe tbody tr th {\n",
       "        vertical-align: top;\n",
       "    }\n",
       "\n",
       "    .dataframe thead th {\n",
       "        text-align: right;\n",
       "    }\n",
       "</style>\n",
       "<table border=\"1\" class=\"dataframe\">\n",
       "  <thead>\n",
       "    <tr style=\"text-align: right;\">\n",
       "      <th></th>\n",
       "      <th>title</th>\n",
       "      <th>vote_count</th>\n",
       "    </tr>\n",
       "  </thead>\n",
       "  <tbody>\n",
       "    <tr>\n",
       "      <th>0</th>\n",
       "      <td>Toy Story</td>\n",
       "      <td>5415.0</td>\n",
       "    </tr>\n",
       "    <tr>\n",
       "      <th>1</th>\n",
       "      <td>Jumanji</td>\n",
       "      <td>2413.0</td>\n",
       "    </tr>\n",
       "    <tr>\n",
       "      <th>5</th>\n",
       "      <td>Heat</td>\n",
       "      <td>1886.0</td>\n",
       "    </tr>\n",
       "    <tr>\n",
       "      <th>9</th>\n",
       "      <td>GoldenEye</td>\n",
       "      <td>1194.0</td>\n",
       "    </tr>\n",
       "    <tr>\n",
       "      <th>15</th>\n",
       "      <td>Casino</td>\n",
       "      <td>1343.0</td>\n",
       "    </tr>\n",
       "    <tr>\n",
       "      <th>18</th>\n",
       "      <td>Ace Ventura: When Nature Calls</td>\n",
       "      <td>1128.0</td>\n",
       "    </tr>\n",
       "    <tr>\n",
       "      <th>31</th>\n",
       "      <td>Twelve Monkeys</td>\n",
       "      <td>2470.0</td>\n",
       "    </tr>\n",
       "    <tr>\n",
       "      <th>38</th>\n",
       "      <td>Clueless</td>\n",
       "      <td>828.0</td>\n",
       "    </tr>\n",
       "    <tr>\n",
       "      <th>46</th>\n",
       "      <td>Se7en</td>\n",
       "      <td>5915.0</td>\n",
       "    </tr>\n",
       "    <tr>\n",
       "      <th>47</th>\n",
       "      <td>Pocahontas</td>\n",
       "      <td>1509.0</td>\n",
       "    </tr>\n",
       "    <tr>\n",
       "      <th>49</th>\n",
       "      <td>The Usual Suspects</td>\n",
       "      <td>3334.0</td>\n",
       "    </tr>\n",
       "  </tbody>\n",
       "</table>\n",
       "</div>"
      ],
      "text/plain": [
       "                             title  vote_count\n",
       "0                        Toy Story      5415.0\n",
       "1                          Jumanji      2413.0\n",
       "5                             Heat      1886.0\n",
       "9                        GoldenEye      1194.0\n",
       "15                          Casino      1343.0\n",
       "18  Ace Ventura: When Nature Calls      1128.0\n",
       "31                  Twelve Monkeys      2470.0\n",
       "38                        Clueless       828.0\n",
       "46                           Se7en      5915.0\n",
       "47                      Pocahontas      1509.0\n",
       "49              The Usual Suspects      3334.0"
      ]
     },
     "execution_count": 184,
     "metadata": {},
     "output_type": "execute_result"
    }
   ],
   "source": [
    "n = 789\n",
    "df[df[\"vote_count\"] > n]"
   ]
  },
  {
   "cell_type": "code",
   "execution_count": null,
   "id": "3467d481-c1dc-4375-971f-8b9a779935d8",
   "metadata": {},
   "outputs": [],
   "source": []
  },
  {
   "cell_type": "markdown",
   "id": "1a2a964e-6b5d-430e-8f04-48ef6979708f",
   "metadata": {},
   "source": [
    "#2. Write a Pandas program to display the movies (title, runtime) longer than 30 minutes and shorter than 360 minutes."
   ]
  },
  {
   "cell_type": "code",
   "execution_count": 185,
   "id": "054a5708-3cea-44dd-b132-1bf67a43ca2d",
   "metadata": {},
   "outputs": [],
   "source": [
    "df = pd.read_csv(\"22_movies_metadata.csv\", encoding=\"ISO-8859-1\", on_bad_lines=\"skip\")"
   ]
  },
  {
   "cell_type": "code",
   "execution_count": 186,
   "id": "2b425a75-d1d8-46f5-bbd7-c686d0d1588e",
   "metadata": {
    "scrolled": true
   },
   "outputs": [
    {
     "name": "stdout",
     "output_type": "stream",
     "text": [
      "<class 'pandas.core.frame.DataFrame'>\n",
      "RangeIndex: 49 entries, 0 to 48\n",
      "Data columns (total 24 columns):\n",
      " #   Column                 Non-Null Count  Dtype  \n",
      "---  ------                 --------------  -----  \n",
      " 0   adult                  49 non-null     bool   \n",
      " 1   belongs_to_collection  10 non-null     object \n",
      " 2   budget                 49 non-null     int64  \n",
      " 3   genres                 49 non-null     object \n",
      " 4   homepage               5 non-null      object \n",
      " 5   id                     49 non-null     int64  \n",
      " 6   imdb_id                49 non-null     object \n",
      " 7   original_language      49 non-null     object \n",
      " 8   original_title         49 non-null     object \n",
      " 9   overview               48 non-null     object \n",
      " 10  popularity             49 non-null     float64\n",
      " 11  poster_path            49 non-null     object \n",
      " 12  production_companies   49 non-null     object \n",
      " 13  production_countries   49 non-null     object \n",
      " 14  release_date           49 non-null     object \n",
      " 15  revenue                49 non-null     int64  \n",
      " 16  runtime                49 non-null     float64\n",
      " 17  spoken_languages       49 non-null     object \n",
      " 18  status                 49 non-null     object \n",
      " 19  tagline                40 non-null     object \n",
      " 20  title                  49 non-null     object \n",
      " 21  video                  49 non-null     bool   \n",
      " 22  vote_average           49 non-null     float64\n",
      " 23  vote_count             49 non-null     int64  \n",
      "dtypes: bool(2), float64(3), int64(4), object(15)\n",
      "memory usage: 8.6+ KB\n"
     ]
    }
   ],
   "source": [
    "df.info()"
   ]
  },
  {
   "cell_type": "code",
   "execution_count": 187,
   "id": "85be69f5-1787-41c7-9871-30182716546e",
   "metadata": {},
   "outputs": [
    {
     "data": {
      "text/html": [
       "<div>\n",
       "<style scoped>\n",
       "    .dataframe tbody tr th:only-of-type {\n",
       "        vertical-align: middle;\n",
       "    }\n",
       "\n",
       "    .dataframe tbody tr th {\n",
       "        vertical-align: top;\n",
       "    }\n",
       "\n",
       "    .dataframe thead th {\n",
       "        text-align: right;\n",
       "    }\n",
       "</style>\n",
       "<table border=\"1\" class=\"dataframe\">\n",
       "  <thead>\n",
       "    <tr style=\"text-align: right;\">\n",
       "      <th></th>\n",
       "      <th>adult</th>\n",
       "      <th>belongs_to_collection</th>\n",
       "      <th>budget</th>\n",
       "      <th>genres</th>\n",
       "      <th>homepage</th>\n",
       "      <th>id</th>\n",
       "      <th>imdb_id</th>\n",
       "      <th>original_language</th>\n",
       "      <th>original_title</th>\n",
       "      <th>overview</th>\n",
       "      <th>...</th>\n",
       "      <th>release_date</th>\n",
       "      <th>revenue</th>\n",
       "      <th>runtime</th>\n",
       "      <th>spoken_languages</th>\n",
       "      <th>status</th>\n",
       "      <th>tagline</th>\n",
       "      <th>title</th>\n",
       "      <th>video</th>\n",
       "      <th>vote_average</th>\n",
       "      <th>vote_count</th>\n",
       "    </tr>\n",
       "  </thead>\n",
       "  <tbody>\n",
       "    <tr>\n",
       "      <th>0</th>\n",
       "      <td>False</td>\n",
       "      <td>{'id': 10194, 'name': 'Toy Story Collection', ...</td>\n",
       "      <td>30000000</td>\n",
       "      <td>[{'id': 16, 'name': 'Animation'}, {'id': 35, '...</td>\n",
       "      <td>http://toystory.disney.com/toy-story</td>\n",
       "      <td>862</td>\n",
       "      <td>tt0114709</td>\n",
       "      <td>en</td>\n",
       "      <td>Toy Story</td>\n",
       "      <td>Led by Woody, Andy's toys live happily in his ...</td>\n",
       "      <td>...</td>\n",
       "      <td>1995-10-30</td>\n",
       "      <td>373554033</td>\n",
       "      <td>81.0</td>\n",
       "      <td>[{'iso_639_1': 'en', 'name': 'English'}]</td>\n",
       "      <td>Released</td>\n",
       "      <td>NaN</td>\n",
       "      <td>Toy Story</td>\n",
       "      <td>False</td>\n",
       "      <td>7.7</td>\n",
       "      <td>5415</td>\n",
       "    </tr>\n",
       "    <tr>\n",
       "      <th>1</th>\n",
       "      <td>False</td>\n",
       "      <td>NaN</td>\n",
       "      <td>65000000</td>\n",
       "      <td>[{'id': 12, 'name': 'Adventure'}, {'id': 14, '...</td>\n",
       "      <td>NaN</td>\n",
       "      <td>8844</td>\n",
       "      <td>tt0113497</td>\n",
       "      <td>en</td>\n",
       "      <td>Jumanji</td>\n",
       "      <td>When siblings Judy and Peter discover an encha...</td>\n",
       "      <td>...</td>\n",
       "      <td>1995-12-15</td>\n",
       "      <td>262797249</td>\n",
       "      <td>104.0</td>\n",
       "      <td>[{'iso_639_1': 'en', 'name': 'English'}, {'iso...</td>\n",
       "      <td>Released</td>\n",
       "      <td>Roll the dice and unleash the excitement!</td>\n",
       "      <td>Jumanji</td>\n",
       "      <td>False</td>\n",
       "      <td>6.9</td>\n",
       "      <td>2413</td>\n",
       "    </tr>\n",
       "    <tr>\n",
       "      <th>2</th>\n",
       "      <td>False</td>\n",
       "      <td>{'id': 119050, 'name': 'Grumpy Old Men Collect...</td>\n",
       "      <td>0</td>\n",
       "      <td>[{'id': 10749, 'name': 'Romance'}, {'id': 35, ...</td>\n",
       "      <td>NaN</td>\n",
       "      <td>15602</td>\n",
       "      <td>tt0113228</td>\n",
       "      <td>en</td>\n",
       "      <td>Grumpier Old Men</td>\n",
       "      <td>A family wedding reignites the ancient feud be...</td>\n",
       "      <td>...</td>\n",
       "      <td>1995-12-22</td>\n",
       "      <td>0</td>\n",
       "      <td>101.0</td>\n",
       "      <td>[{'iso_639_1': 'en', 'name': 'English'}]</td>\n",
       "      <td>Released</td>\n",
       "      <td>Still Yelling. Still Fighting. Still Ready for...</td>\n",
       "      <td>Grumpier Old Men</td>\n",
       "      <td>False</td>\n",
       "      <td>6.5</td>\n",
       "      <td>92</td>\n",
       "    </tr>\n",
       "  </tbody>\n",
       "</table>\n",
       "<p>3 rows × 24 columns</p>\n",
       "</div>"
      ],
      "text/plain": [
       "   adult                              belongs_to_collection    budget  \\\n",
       "0  False  {'id': 10194, 'name': 'Toy Story Collection', ...  30000000   \n",
       "1  False                                                NaN  65000000   \n",
       "2  False  {'id': 119050, 'name': 'Grumpy Old Men Collect...         0   \n",
       "\n",
       "                                              genres  \\\n",
       "0  [{'id': 16, 'name': 'Animation'}, {'id': 35, '...   \n",
       "1  [{'id': 12, 'name': 'Adventure'}, {'id': 14, '...   \n",
       "2  [{'id': 10749, 'name': 'Romance'}, {'id': 35, ...   \n",
       "\n",
       "                               homepage     id    imdb_id original_language  \\\n",
       "0  http://toystory.disney.com/toy-story    862  tt0114709                en   \n",
       "1                                   NaN   8844  tt0113497                en   \n",
       "2                                   NaN  15602  tt0113228                en   \n",
       "\n",
       "     original_title                                           overview  ...  \\\n",
       "0         Toy Story  Led by Woody, Andy's toys live happily in his ...  ...   \n",
       "1           Jumanji  When siblings Judy and Peter discover an encha...  ...   \n",
       "2  Grumpier Old Men  A family wedding reignites the ancient feud be...  ...   \n",
       "\n",
       "   release_date    revenue runtime  \\\n",
       "0    1995-10-30  373554033    81.0   \n",
       "1    1995-12-15  262797249   104.0   \n",
       "2    1995-12-22          0   101.0   \n",
       "\n",
       "                                    spoken_languages    status  \\\n",
       "0           [{'iso_639_1': 'en', 'name': 'English'}]  Released   \n",
       "1  [{'iso_639_1': 'en', 'name': 'English'}, {'iso...  Released   \n",
       "2           [{'iso_639_1': 'en', 'name': 'English'}]  Released   \n",
       "\n",
       "                                             tagline             title  video  \\\n",
       "0                                                NaN         Toy Story  False   \n",
       "1          Roll the dice and unleash the excitement!           Jumanji  False   \n",
       "2  Still Yelling. Still Fighting. Still Ready for...  Grumpier Old Men  False   \n",
       "\n",
       "  vote_average vote_count  \n",
       "0          7.7       5415  \n",
       "1          6.9       2413  \n",
       "2          6.5         92  \n",
       "\n",
       "[3 rows x 24 columns]"
      ]
     },
     "execution_count": 187,
     "metadata": {},
     "output_type": "execute_result"
    }
   ],
   "source": [
    "df.head(3)"
   ]
  },
  {
   "cell_type": "code",
   "execution_count": 198,
   "id": "f2ae040c-f4f5-4190-8ead-ede1b542bf1e",
   "metadata": {},
   "outputs": [
    {
     "data": {
      "text/html": [
       "<div>\n",
       "<style scoped>\n",
       "    .dataframe tbody tr th:only-of-type {\n",
       "        vertical-align: middle;\n",
       "    }\n",
       "\n",
       "    .dataframe tbody tr th {\n",
       "        vertical-align: top;\n",
       "    }\n",
       "\n",
       "    .dataframe thead th {\n",
       "        text-align: right;\n",
       "    }\n",
       "</style>\n",
       "<table border=\"1\" class=\"dataframe\">\n",
       "  <thead>\n",
       "    <tr style=\"text-align: right;\">\n",
       "      <th></th>\n",
       "      <th>adult</th>\n",
       "      <th>belongs_to_collection</th>\n",
       "      <th>budget</th>\n",
       "      <th>genres</th>\n",
       "      <th>homepage</th>\n",
       "      <th>id</th>\n",
       "      <th>imdb_id</th>\n",
       "      <th>original_language</th>\n",
       "      <th>original_title</th>\n",
       "      <th>overview</th>\n",
       "      <th>...</th>\n",
       "      <th>release_date</th>\n",
       "      <th>revenue</th>\n",
       "      <th>runtime</th>\n",
       "      <th>spoken_languages</th>\n",
       "      <th>status</th>\n",
       "      <th>tagline</th>\n",
       "      <th>title</th>\n",
       "      <th>video</th>\n",
       "      <th>vote_average</th>\n",
       "      <th>vote_count</th>\n",
       "    </tr>\n",
       "  </thead>\n",
       "  <tbody>\n",
       "    <tr>\n",
       "      <th>0</th>\n",
       "      <td>False</td>\n",
       "      <td>{'id': 10194, 'name': 'Toy Story Collection', ...</td>\n",
       "      <td>30000000</td>\n",
       "      <td>[{'id': 16, 'name': 'Animation'}, {'id': 35, '...</td>\n",
       "      <td>http://toystory.disney.com/toy-story</td>\n",
       "      <td>862</td>\n",
       "      <td>tt0114709</td>\n",
       "      <td>en</td>\n",
       "      <td>Toy Story</td>\n",
       "      <td>Led by Woody, Andy's toys live happily in his ...</td>\n",
       "      <td>...</td>\n",
       "      <td>1995-10-30</td>\n",
       "      <td>373554033</td>\n",
       "      <td>81.0</td>\n",
       "      <td>[{'iso_639_1': 'en', 'name': 'English'}]</td>\n",
       "      <td>Released</td>\n",
       "      <td>NaN</td>\n",
       "      <td>Toy Story</td>\n",
       "      <td>False</td>\n",
       "      <td>7.7</td>\n",
       "      <td>5415</td>\n",
       "    </tr>\n",
       "    <tr>\n",
       "      <th>1</th>\n",
       "      <td>False</td>\n",
       "      <td>NaN</td>\n",
       "      <td>65000000</td>\n",
       "      <td>[{'id': 12, 'name': 'Adventure'}, {'id': 14, '...</td>\n",
       "      <td>NaN</td>\n",
       "      <td>8844</td>\n",
       "      <td>tt0113497</td>\n",
       "      <td>en</td>\n",
       "      <td>Jumanji</td>\n",
       "      <td>When siblings Judy and Peter discover an encha...</td>\n",
       "      <td>...</td>\n",
       "      <td>1995-12-15</td>\n",
       "      <td>262797249</td>\n",
       "      <td>104.0</td>\n",
       "      <td>[{'iso_639_1': 'en', 'name': 'English'}, {'iso...</td>\n",
       "      <td>Released</td>\n",
       "      <td>Roll the dice and unleash the excitement!</td>\n",
       "      <td>Jumanji</td>\n",
       "      <td>False</td>\n",
       "      <td>6.9</td>\n",
       "      <td>2413</td>\n",
       "    </tr>\n",
       "    <tr>\n",
       "      <th>2</th>\n",
       "      <td>False</td>\n",
       "      <td>{'id': 119050, 'name': 'Grumpy Old Men Collect...</td>\n",
       "      <td>0</td>\n",
       "      <td>[{'id': 10749, 'name': 'Romance'}, {'id': 35, ...</td>\n",
       "      <td>NaN</td>\n",
       "      <td>15602</td>\n",
       "      <td>tt0113228</td>\n",
       "      <td>en</td>\n",
       "      <td>Grumpier Old Men</td>\n",
       "      <td>A family wedding reignites the ancient feud be...</td>\n",
       "      <td>...</td>\n",
       "      <td>1995-12-22</td>\n",
       "      <td>0</td>\n",
       "      <td>101.0</td>\n",
       "      <td>[{'iso_639_1': 'en', 'name': 'English'}]</td>\n",
       "      <td>Released</td>\n",
       "      <td>Still Yelling. Still Fighting. Still Ready for...</td>\n",
       "      <td>Grumpier Old Men</td>\n",
       "      <td>False</td>\n",
       "      <td>6.5</td>\n",
       "      <td>92</td>\n",
       "    </tr>\n",
       "  </tbody>\n",
       "</table>\n",
       "<p>3 rows × 24 columns</p>\n",
       "</div>"
      ],
      "text/plain": [
       "   adult                              belongs_to_collection    budget  \\\n",
       "0  False  {'id': 10194, 'name': 'Toy Story Collection', ...  30000000   \n",
       "1  False                                                NaN  65000000   \n",
       "2  False  {'id': 119050, 'name': 'Grumpy Old Men Collect...         0   \n",
       "\n",
       "                                              genres  \\\n",
       "0  [{'id': 16, 'name': 'Animation'}, {'id': 35, '...   \n",
       "1  [{'id': 12, 'name': 'Adventure'}, {'id': 14, '...   \n",
       "2  [{'id': 10749, 'name': 'Romance'}, {'id': 35, ...   \n",
       "\n",
       "                               homepage     id    imdb_id original_language  \\\n",
       "0  http://toystory.disney.com/toy-story    862  tt0114709                en   \n",
       "1                                   NaN   8844  tt0113497                en   \n",
       "2                                   NaN  15602  tt0113228                en   \n",
       "\n",
       "     original_title                                           overview  ...  \\\n",
       "0         Toy Story  Led by Woody, Andy's toys live happily in his ...  ...   \n",
       "1           Jumanji  When siblings Judy and Peter discover an encha...  ...   \n",
       "2  Grumpier Old Men  A family wedding reignites the ancient feud be...  ...   \n",
       "\n",
       "   release_date    revenue runtime  \\\n",
       "0    1995-10-30  373554033    81.0   \n",
       "1    1995-12-15  262797249   104.0   \n",
       "2    1995-12-22          0   101.0   \n",
       "\n",
       "                                    spoken_languages    status  \\\n",
       "0           [{'iso_639_1': 'en', 'name': 'English'}]  Released   \n",
       "1  [{'iso_639_1': 'en', 'name': 'English'}, {'iso...  Released   \n",
       "2           [{'iso_639_1': 'en', 'name': 'English'}]  Released   \n",
       "\n",
       "                                             tagline             title  video  \\\n",
       "0                                                NaN         Toy Story  False   \n",
       "1          Roll the dice and unleash the excitement!           Jumanji  False   \n",
       "2  Still Yelling. Still Fighting. Still Ready for...  Grumpier Old Men  False   \n",
       "\n",
       "  vote_average vote_count  \n",
       "0          7.7       5415  \n",
       "1          6.9       2413  \n",
       "2          6.5         92  \n",
       "\n",
       "[3 rows x 24 columns]"
      ]
     },
     "execution_count": 198,
     "metadata": {},
     "output_type": "execute_result"
    }
   ],
   "source": [
    "res = df[(df[\"runtime\"] > 30.0) & (df[\"runtime\"] < 360.0)]\n",
    "res.head(3)"
   ]
  },
  {
   "cell_type": "code",
   "execution_count": 203,
   "id": "febf644d-8dad-4993-b18e-2f96a5a534e4",
   "metadata": {
    "scrolled": true
   },
   "outputs": [
    {
     "data": {
      "text/html": [
       "<div>\n",
       "<style scoped>\n",
       "    .dataframe tbody tr th:only-of-type {\n",
       "        vertical-align: middle;\n",
       "    }\n",
       "\n",
       "    .dataframe tbody tr th {\n",
       "        vertical-align: top;\n",
       "    }\n",
       "\n",
       "    .dataframe thead th {\n",
       "        text-align: right;\n",
       "    }\n",
       "</style>\n",
       "<table border=\"1\" class=\"dataframe\">\n",
       "  <thead>\n",
       "    <tr style=\"text-align: right;\">\n",
       "      <th></th>\n",
       "      <th>title</th>\n",
       "      <th>runtime</th>\n",
       "    </tr>\n",
       "  </thead>\n",
       "  <tbody>\n",
       "    <tr>\n",
       "      <th>31</th>\n",
       "      <td>Wings of Courage</td>\n",
       "      <td>50.0</td>\n",
       "    </tr>\n",
       "    <tr>\n",
       "      <th>35</th>\n",
       "      <td>Across the Sea of Time</td>\n",
       "      <td>51.0</td>\n",
       "    </tr>\n",
       "    <tr>\n",
       "      <th>12</th>\n",
       "      <td>Balto</td>\n",
       "      <td>78.0</td>\n",
       "    </tr>\n",
       "    <tr>\n",
       "      <th>0</th>\n",
       "      <td>Toy Story</td>\n",
       "      <td>81.0</td>\n",
       "    </tr>\n",
       "    <tr>\n",
       "      <th>46</th>\n",
       "      <td>Pocahontas</td>\n",
       "      <td>81.0</td>\n",
       "    </tr>\n",
       "    <tr>\n",
       "      <th>11</th>\n",
       "      <td>Dracula: Dead and Loving It</td>\n",
       "      <td>88.0</td>\n",
       "    </tr>\n",
       "    <tr>\n",
       "      <th>32</th>\n",
       "      <td>Babe</td>\n",
       "      <td>89.0</td>\n",
       "    </tr>\n",
       "    <tr>\n",
       "      <th>18</th>\n",
       "      <td>Ace Ventura: When Nature Calls</td>\n",
       "      <td>90.0</td>\n",
       "    </tr>\n",
       "    <tr>\n",
       "      <th>47</th>\n",
       "      <td>When Night Is Falling</td>\n",
       "      <td>96.0</td>\n",
       "    </tr>\n",
       "    <tr>\n",
       "      <th>37</th>\n",
       "      <td>Clueless</td>\n",
       "      <td>97.0</td>\n",
       "    </tr>\n",
       "    <tr>\n",
       "      <th>7</th>\n",
       "      <td>Tom and Huck</td>\n",
       "      <td>97.0</td>\n",
       "    </tr>\n",
       "    <tr>\n",
       "      <th>17</th>\n",
       "      <td>Four Rooms</td>\n",
       "      <td>98.0</td>\n",
       "    </tr>\n",
       "    <tr>\n",
       "      <th>29</th>\n",
       "      <td>Dangerous Minds</td>\n",
       "      <td>99.0</td>\n",
       "    </tr>\n",
       "    <tr>\n",
       "      <th>26</th>\n",
       "      <td>Now and Then</td>\n",
       "      <td>100.0</td>\n",
       "    </tr>\n",
       "    <tr>\n",
       "      <th>36</th>\n",
       "      <td>It Takes Two</td>\n",
       "      <td>101.0</td>\n",
       "    </tr>\n",
       "    <tr>\n",
       "      <th>2</th>\n",
       "      <td>Grumpier Old Men</td>\n",
       "      <td>101.0</td>\n",
       "    </tr>\n",
       "    <tr>\n",
       "      <th>42</th>\n",
       "      <td>Mortal Kombat</td>\n",
       "      <td>101.0</td>\n",
       "    </tr>\n",
       "    <tr>\n",
       "      <th>19</th>\n",
       "      <td>Money Train</td>\n",
       "      <td>103.0</td>\n",
       "    </tr>\n",
       "    <tr>\n",
       "      <th>1</th>\n",
       "      <td>Jumanji</td>\n",
       "      <td>104.0</td>\n",
       "    </tr>\n",
       "    <tr>\n",
       "      <th>27</th>\n",
       "      <td>Persuasion</td>\n",
       "      <td>104.0</td>\n",
       "    </tr>\n",
       "    <tr>\n",
       "      <th>39</th>\n",
       "      <td>Richard III</td>\n",
       "      <td>104.0</td>\n",
       "    </tr>\n",
       "    <tr>\n",
       "      <th>20</th>\n",
       "      <td>Get Shorty</td>\n",
       "      <td>105.0</td>\n",
       "    </tr>\n",
       "    <tr>\n",
       "      <th>43</th>\n",
       "      <td>To Die For</td>\n",
       "      <td>106.0</td>\n",
       "    </tr>\n",
       "    <tr>\n",
       "      <th>38</th>\n",
       "      <td>Cry, the Beloved Country</td>\n",
       "      <td>106.0</td>\n",
       "    </tr>\n",
       "    <tr>\n",
       "      <th>48</th>\n",
       "      <td>The Usual Suspects</td>\n",
       "      <td>106.0</td>\n",
       "    </tr>\n",
       "    <tr>\n",
       "      <th>10</th>\n",
       "      <td>The American President</td>\n",
       "      <td>106.0</td>\n",
       "    </tr>\n",
       "    <tr>\n",
       "      <th>4</th>\n",
       "      <td>Father of the Bride Part II</td>\n",
       "      <td>106.0</td>\n",
       "    </tr>\n",
       "    <tr>\n",
       "      <th>8</th>\n",
       "      <td>Sudden Death</td>\n",
       "      <td>106.0</td>\n",
       "    </tr>\n",
       "    <tr>\n",
       "      <th>28</th>\n",
       "      <td>The City of Lost Children</td>\n",
       "      <td>108.0</td>\n",
       "    </tr>\n",
       "    <tr>\n",
       "      <th>23</th>\n",
       "      <td>Powder</td>\n",
       "      <td>111.0</td>\n",
       "    </tr>\n",
       "    <tr>\n",
       "      <th>24</th>\n",
       "      <td>Leaving Las Vegas</td>\n",
       "      <td>112.0</td>\n",
       "    </tr>\n",
       "    <tr>\n",
       "      <th>44</th>\n",
       "      <td>How To Make An American Quilt</td>\n",
       "      <td>116.0</td>\n",
       "    </tr>\n",
       "    <tr>\n",
       "      <th>41</th>\n",
       "      <td>Restoration</td>\n",
       "      <td>117.0</td>\n",
       "    </tr>\n",
       "    <tr>\n",
       "      <th>14</th>\n",
       "      <td>Cutthroat Island</td>\n",
       "      <td>119.0</td>\n",
       "    </tr>\n",
       "    <tr>\n",
       "      <th>40</th>\n",
       "      <td>Dead Presidents</td>\n",
       "      <td>119.0</td>\n",
       "    </tr>\n",
       "    <tr>\n",
       "      <th>33</th>\n",
       "      <td>Carrington</td>\n",
       "      <td>121.0</td>\n",
       "    </tr>\n",
       "    <tr>\n",
       "      <th>34</th>\n",
       "      <td>Dead Man Walking</td>\n",
       "      <td>122.0</td>\n",
       "    </tr>\n",
       "    <tr>\n",
       "      <th>25</th>\n",
       "      <td>Othello</td>\n",
       "      <td>123.0</td>\n",
       "    </tr>\n",
       "    <tr>\n",
       "      <th>21</th>\n",
       "      <td>Copycat</td>\n",
       "      <td>124.0</td>\n",
       "    </tr>\n",
       "    <tr>\n",
       "      <th>3</th>\n",
       "      <td>Waiting to Exhale</td>\n",
       "      <td>127.0</td>\n",
       "    </tr>\n",
       "    <tr>\n",
       "      <th>45</th>\n",
       "      <td>Se7en</td>\n",
       "      <td>127.0</td>\n",
       "    </tr>\n",
       "    <tr>\n",
       "      <th>6</th>\n",
       "      <td>Sabrina</td>\n",
       "      <td>127.0</td>\n",
       "    </tr>\n",
       "    <tr>\n",
       "      <th>30</th>\n",
       "      <td>Twelve Monkeys</td>\n",
       "      <td>129.0</td>\n",
       "    </tr>\n",
       "    <tr>\n",
       "      <th>9</th>\n",
       "      <td>GoldenEye</td>\n",
       "      <td>130.0</td>\n",
       "    </tr>\n",
       "    <tr>\n",
       "      <th>22</th>\n",
       "      <td>Assassins</td>\n",
       "      <td>132.0</td>\n",
       "    </tr>\n",
       "    <tr>\n",
       "      <th>16</th>\n",
       "      <td>Sense and Sensibility</td>\n",
       "      <td>136.0</td>\n",
       "    </tr>\n",
       "    <tr>\n",
       "      <th>5</th>\n",
       "      <td>Heat</td>\n",
       "      <td>170.0</td>\n",
       "    </tr>\n",
       "    <tr>\n",
       "      <th>15</th>\n",
       "      <td>Casino</td>\n",
       "      <td>178.0</td>\n",
       "    </tr>\n",
       "    <tr>\n",
       "      <th>13</th>\n",
       "      <td>Nixon</td>\n",
       "      <td>192.0</td>\n",
       "    </tr>\n",
       "  </tbody>\n",
       "</table>\n",
       "</div>"
      ],
      "text/plain": [
       "                             title  runtime\n",
       "31                Wings of Courage     50.0\n",
       "35          Across the Sea of Time     51.0\n",
       "12                           Balto     78.0\n",
       "0                        Toy Story     81.0\n",
       "46                      Pocahontas     81.0\n",
       "11     Dracula: Dead and Loving It     88.0\n",
       "32                            Babe     89.0\n",
       "18  Ace Ventura: When Nature Calls     90.0\n",
       "47           When Night Is Falling     96.0\n",
       "37                        Clueless     97.0\n",
       "7                     Tom and Huck     97.0\n",
       "17                      Four Rooms     98.0\n",
       "29                 Dangerous Minds     99.0\n",
       "26                    Now and Then    100.0\n",
       "36                    It Takes Two    101.0\n",
       "2                 Grumpier Old Men    101.0\n",
       "42                   Mortal Kombat    101.0\n",
       "19                     Money Train    103.0\n",
       "1                          Jumanji    104.0\n",
       "27                      Persuasion    104.0\n",
       "39                     Richard III    104.0\n",
       "20                      Get Shorty    105.0\n",
       "43                      To Die For    106.0\n",
       "38        Cry, the Beloved Country    106.0\n",
       "48              The Usual Suspects    106.0\n",
       "10          The American President    106.0\n",
       "4      Father of the Bride Part II    106.0\n",
       "8                     Sudden Death    106.0\n",
       "28       The City of Lost Children    108.0\n",
       "23                          Powder    111.0\n",
       "24               Leaving Las Vegas    112.0\n",
       "44   How To Make An American Quilt    116.0\n",
       "41                     Restoration    117.0\n",
       "14                Cutthroat Island    119.0\n",
       "40                 Dead Presidents    119.0\n",
       "33                      Carrington    121.0\n",
       "34                Dead Man Walking    122.0\n",
       "25                         Othello    123.0\n",
       "21                         Copycat    124.0\n",
       "3                Waiting to Exhale    127.0\n",
       "45                           Se7en    127.0\n",
       "6                          Sabrina    127.0\n",
       "30                  Twelve Monkeys    129.0\n",
       "9                        GoldenEye    130.0\n",
       "22                       Assassins    132.0\n",
       "16           Sense and Sensibility    136.0\n",
       "5                             Heat    170.0\n",
       "15                          Casino    178.0\n",
       "13                           Nixon    192.0"
      ]
     },
     "execution_count": 203,
     "metadata": {},
     "output_type": "execute_result"
    }
   ],
   "source": [
    "res[[\"title\", \"runtime\"]].sort_values(\"runtime\")"
   ]
  },
  {
   "cell_type": "code",
   "execution_count": null,
   "id": "ab8267d3-9aea-4624-b4e4-f731212cddbc",
   "metadata": {},
   "outputs": [],
   "source": []
  },
  {
   "cell_type": "markdown",
   "id": "018c0246-e6f4-4f45-9bfc-ae6b2aa38c82",
   "metadata": {},
   "source": [
    "### Mastering Pandas Exercises"
   ]
  },
  {
   "cell_type": "code",
   "execution_count": 204,
   "id": "7355ea2f-6799-4b5f-9c5f-30a29364e4b1",
   "metadata": {},
   "outputs": [],
   "source": [
    "#1. Create a DataFrame and calculate the expanding sum for each group."
   ]
  },
  {
   "cell_type": "code",
   "execution_count": 206,
   "id": "d1c0b548-771a-4053-9a30-ec08a90bdafc",
   "metadata": {},
   "outputs": [
    {
     "data": {
      "text/html": [
       "<div>\n",
       "<style scoped>\n",
       "    .dataframe tbody tr th:only-of-type {\n",
       "        vertical-align: middle;\n",
       "    }\n",
       "\n",
       "    .dataframe tbody tr th {\n",
       "        vertical-align: top;\n",
       "    }\n",
       "\n",
       "    .dataframe thead th {\n",
       "        text-align: right;\n",
       "    }\n",
       "</style>\n",
       "<table border=\"1\" class=\"dataframe\">\n",
       "  <thead>\n",
       "    <tr style=\"text-align: right;\">\n",
       "      <th></th>\n",
       "      <th>X</th>\n",
       "      <th>Y</th>\n",
       "    </tr>\n",
       "  </thead>\n",
       "  <tbody>\n",
       "    <tr>\n",
       "      <th>0</th>\n",
       "      <td>foo</td>\n",
       "      <td>0</td>\n",
       "    </tr>\n",
       "    <tr>\n",
       "      <th>1</th>\n",
       "      <td>bar</td>\n",
       "      <td>1</td>\n",
       "    </tr>\n",
       "    <tr>\n",
       "      <th>2</th>\n",
       "      <td>foo</td>\n",
       "      <td>2</td>\n",
       "    </tr>\n",
       "    <tr>\n",
       "      <th>3</th>\n",
       "      <td>bar</td>\n",
       "      <td>3</td>\n",
       "    </tr>\n",
       "    <tr>\n",
       "      <th>4</th>\n",
       "      <td>foo</td>\n",
       "      <td>4</td>\n",
       "    </tr>\n",
       "  </tbody>\n",
       "</table>\n",
       "</div>"
      ],
      "text/plain": [
       "     X  Y\n",
       "0  foo  0\n",
       "1  bar  1\n",
       "2  foo  2\n",
       "3  bar  3\n",
       "4  foo  4"
      ]
     },
     "execution_count": 206,
     "metadata": {},
     "output_type": "execute_result"
    }
   ],
   "source": [
    "data = {'X': ['foo', 'bar', 'foo', 'bar', 'foo', 'bar', 'foo', 'bar', 'foo', 'bar'], 'Y': range(10)}\n",
    "df = pd.DataFrame(data)\n",
    "df.head()"
   ]
  },
  {
   "cell_type": "code",
   "execution_count": 207,
   "id": "1ae72954-207f-477a-80b7-228dd576838b",
   "metadata": {},
   "outputs": [
    {
     "data": {
      "text/html": [
       "<div>\n",
       "<style scoped>\n",
       "    .dataframe tbody tr th:only-of-type {\n",
       "        vertical-align: middle;\n",
       "    }\n",
       "\n",
       "    .dataframe tbody tr th {\n",
       "        vertical-align: top;\n",
       "    }\n",
       "\n",
       "    .dataframe thead th {\n",
       "        text-align: right;\n",
       "    }\n",
       "</style>\n",
       "<table border=\"1\" class=\"dataframe\">\n",
       "  <thead>\n",
       "    <tr style=\"text-align: right;\">\n",
       "      <th></th>\n",
       "      <th>X</th>\n",
       "      <th>Y</th>\n",
       "      <th>Expanding_Sum</th>\n",
       "    </tr>\n",
       "  </thead>\n",
       "  <tbody>\n",
       "    <tr>\n",
       "      <th>0</th>\n",
       "      <td>foo</td>\n",
       "      <td>0</td>\n",
       "      <td>0.0</td>\n",
       "    </tr>\n",
       "    <tr>\n",
       "      <th>1</th>\n",
       "      <td>bar</td>\n",
       "      <td>1</td>\n",
       "      <td>1.0</td>\n",
       "    </tr>\n",
       "    <tr>\n",
       "      <th>2</th>\n",
       "      <td>foo</td>\n",
       "      <td>2</td>\n",
       "      <td>2.0</td>\n",
       "    </tr>\n",
       "    <tr>\n",
       "      <th>3</th>\n",
       "      <td>bar</td>\n",
       "      <td>3</td>\n",
       "      <td>4.0</td>\n",
       "    </tr>\n",
       "    <tr>\n",
       "      <th>4</th>\n",
       "      <td>foo</td>\n",
       "      <td>4</td>\n",
       "      <td>6.0</td>\n",
       "    </tr>\n",
       "    <tr>\n",
       "      <th>5</th>\n",
       "      <td>bar</td>\n",
       "      <td>5</td>\n",
       "      <td>9.0</td>\n",
       "    </tr>\n",
       "    <tr>\n",
       "      <th>6</th>\n",
       "      <td>foo</td>\n",
       "      <td>6</td>\n",
       "      <td>12.0</td>\n",
       "    </tr>\n",
       "    <tr>\n",
       "      <th>7</th>\n",
       "      <td>bar</td>\n",
       "      <td>7</td>\n",
       "      <td>16.0</td>\n",
       "    </tr>\n",
       "    <tr>\n",
       "      <th>8</th>\n",
       "      <td>foo</td>\n",
       "      <td>8</td>\n",
       "      <td>20.0</td>\n",
       "    </tr>\n",
       "    <tr>\n",
       "      <th>9</th>\n",
       "      <td>bar</td>\n",
       "      <td>9</td>\n",
       "      <td>25.0</td>\n",
       "    </tr>\n",
       "  </tbody>\n",
       "</table>\n",
       "</div>"
      ],
      "text/plain": [
       "     X  Y  Expanding_Sum\n",
       "0  foo  0            0.0\n",
       "1  bar  1            1.0\n",
       "2  foo  2            2.0\n",
       "3  bar  3            4.0\n",
       "4  foo  4            6.0\n",
       "5  bar  5            9.0\n",
       "6  foo  6           12.0\n",
       "7  bar  7           16.0\n",
       "8  foo  8           20.0\n",
       "9  bar  9           25.0"
      ]
     },
     "execution_count": 207,
     "metadata": {},
     "output_type": "execute_result"
    }
   ],
   "source": [
    "df['Expanding_Sum'] = df.groupby('X')['Y'].expanding().sum().reset_index(level=0, drop=True)\n",
    "df"
   ]
  },
  {
   "cell_type": "markdown",
   "id": "5d436b90-63d7-4d24-adab-d3f905add0e3",
   "metadata": {},
   "source": [
    "#2. Create a DataFrame and calculate the cumulative product for each group."
   ]
  },
  {
   "cell_type": "code",
   "execution_count": 208,
   "id": "31955b95-3f3e-498c-9df2-dce9f1cd0bff",
   "metadata": {},
   "outputs": [
    {
     "data": {
      "text/html": [
       "<div>\n",
       "<style scoped>\n",
       "    .dataframe tbody tr th:only-of-type {\n",
       "        vertical-align: middle;\n",
       "    }\n",
       "\n",
       "    .dataframe tbody tr th {\n",
       "        vertical-align: top;\n",
       "    }\n",
       "\n",
       "    .dataframe thead th {\n",
       "        text-align: right;\n",
       "    }\n",
       "</style>\n",
       "<table border=\"1\" class=\"dataframe\">\n",
       "  <thead>\n",
       "    <tr style=\"text-align: right;\">\n",
       "      <th></th>\n",
       "      <th>X</th>\n",
       "      <th>Y</th>\n",
       "    </tr>\n",
       "  </thead>\n",
       "  <tbody>\n",
       "    <tr>\n",
       "      <th>0</th>\n",
       "      <td>foo</td>\n",
       "      <td>1</td>\n",
       "    </tr>\n",
       "    <tr>\n",
       "      <th>1</th>\n",
       "      <td>bar</td>\n",
       "      <td>2</td>\n",
       "    </tr>\n",
       "    <tr>\n",
       "      <th>2</th>\n",
       "      <td>foo</td>\n",
       "      <td>3</td>\n",
       "    </tr>\n",
       "    <tr>\n",
       "      <th>3</th>\n",
       "      <td>bar</td>\n",
       "      <td>4</td>\n",
       "    </tr>\n",
       "  </tbody>\n",
       "</table>\n",
       "</div>"
      ],
      "text/plain": [
       "     X  Y\n",
       "0  foo  1\n",
       "1  bar  2\n",
       "2  foo  3\n",
       "3  bar  4"
      ]
     },
     "execution_count": 208,
     "metadata": {},
     "output_type": "execute_result"
    }
   ],
   "source": [
    "data = {'X': ['foo', 'bar', 'foo', 'bar'], 'Y': [1, 2, 3, 4]}\n",
    "df = pd.DataFrame(data)\n",
    "df"
   ]
  },
  {
   "cell_type": "code",
   "execution_count": 209,
   "id": "e2d97d6f-4e53-43f0-b4ff-e0c9b4593211",
   "metadata": {},
   "outputs": [],
   "source": [
    "df['Cumulative_Product'] = df.groupby('X')['Y'].cumprod()"
   ]
  },
  {
   "cell_type": "code",
   "execution_count": 210,
   "id": "a1b94a9f-309f-4551-8d1c-66ff50981603",
   "metadata": {},
   "outputs": [
    {
     "data": {
      "text/html": [
       "<div>\n",
       "<style scoped>\n",
       "    .dataframe tbody tr th:only-of-type {\n",
       "        vertical-align: middle;\n",
       "    }\n",
       "\n",
       "    .dataframe tbody tr th {\n",
       "        vertical-align: top;\n",
       "    }\n",
       "\n",
       "    .dataframe thead th {\n",
       "        text-align: right;\n",
       "    }\n",
       "</style>\n",
       "<table border=\"1\" class=\"dataframe\">\n",
       "  <thead>\n",
       "    <tr style=\"text-align: right;\">\n",
       "      <th></th>\n",
       "      <th>X</th>\n",
       "      <th>Y</th>\n",
       "      <th>Cumulative_Product</th>\n",
       "    </tr>\n",
       "  </thead>\n",
       "  <tbody>\n",
       "    <tr>\n",
       "      <th>0</th>\n",
       "      <td>foo</td>\n",
       "      <td>1</td>\n",
       "      <td>1</td>\n",
       "    </tr>\n",
       "    <tr>\n",
       "      <th>1</th>\n",
       "      <td>bar</td>\n",
       "      <td>2</td>\n",
       "      <td>2</td>\n",
       "    </tr>\n",
       "    <tr>\n",
       "      <th>2</th>\n",
       "      <td>foo</td>\n",
       "      <td>3</td>\n",
       "      <td>3</td>\n",
       "    </tr>\n",
       "    <tr>\n",
       "      <th>3</th>\n",
       "      <td>bar</td>\n",
       "      <td>4</td>\n",
       "      <td>8</td>\n",
       "    </tr>\n",
       "  </tbody>\n",
       "</table>\n",
       "</div>"
      ],
      "text/plain": [
       "     X  Y  Cumulative_Product\n",
       "0  foo  1                   1\n",
       "1  bar  2                   2\n",
       "2  foo  3                   3\n",
       "3  bar  4                   8"
      ]
     },
     "execution_count": 210,
     "metadata": {},
     "output_type": "execute_result"
    }
   ],
   "source": [
    "df"
   ]
  },
  {
   "cell_type": "code",
   "execution_count": null,
   "id": "ce9f648e-1d2d-4bba-b81a-cc87155d3968",
   "metadata": {},
   "outputs": [],
   "source": []
  },
  {
   "cell_type": "markdown",
   "id": "47a17242-1703-4641-974c-9317a048ebfb",
   "metadata": {},
   "source": [
    "### Pandas Pracrice Set-1 Exercises"
   ]
  },
  {
   "cell_type": "code",
   "execution_count": 212,
   "id": "d54a5bb3-55c6-4f24-b791-c76603b2360d",
   "metadata": {},
   "outputs": [
    {
     "data": {
      "text/html": [
       "<div>\n",
       "<style scoped>\n",
       "    .dataframe tbody tr th:only-of-type {\n",
       "        vertical-align: middle;\n",
       "    }\n",
       "\n",
       "    .dataframe tbody tr th {\n",
       "        vertical-align: top;\n",
       "    }\n",
       "\n",
       "    .dataframe thead th {\n",
       "        text-align: right;\n",
       "    }\n",
       "</style>\n",
       "<table border=\"1\" class=\"dataframe\">\n",
       "  <thead>\n",
       "    <tr style=\"text-align: right;\">\n",
       "      <th></th>\n",
       "      <th>carat</th>\n",
       "      <th>cut</th>\n",
       "      <th>color</th>\n",
       "      <th>clarity</th>\n",
       "      <th>depth</th>\n",
       "      <th>table</th>\n",
       "      <th>price</th>\n",
       "      <th>x</th>\n",
       "      <th>y</th>\n",
       "      <th>z</th>\n",
       "    </tr>\n",
       "  </thead>\n",
       "  <tbody>\n",
       "    <tr>\n",
       "      <th>0</th>\n",
       "      <td>0.23</td>\n",
       "      <td>Ideal</td>\n",
       "      <td>E</td>\n",
       "      <td>SI2</td>\n",
       "      <td>61.5</td>\n",
       "      <td>55.0</td>\n",
       "      <td>326</td>\n",
       "      <td>3.95</td>\n",
       "      <td>3.98</td>\n",
       "      <td>2.43</td>\n",
       "    </tr>\n",
       "    <tr>\n",
       "      <th>1</th>\n",
       "      <td>0.21</td>\n",
       "      <td>Premium</td>\n",
       "      <td>E</td>\n",
       "      <td>SI1</td>\n",
       "      <td>59.8</td>\n",
       "      <td>61.0</td>\n",
       "      <td>326</td>\n",
       "      <td>3.89</td>\n",
       "      <td>3.84</td>\n",
       "      <td>2.31</td>\n",
       "    </tr>\n",
       "    <tr>\n",
       "      <th>2</th>\n",
       "      <td>0.23</td>\n",
       "      <td>Good</td>\n",
       "      <td>E</td>\n",
       "      <td>VS1</td>\n",
       "      <td>56.9</td>\n",
       "      <td>65.0</td>\n",
       "      <td>327</td>\n",
       "      <td>4.05</td>\n",
       "      <td>4.07</td>\n",
       "      <td>2.31</td>\n",
       "    </tr>\n",
       "    <tr>\n",
       "      <th>3</th>\n",
       "      <td>0.29</td>\n",
       "      <td>Premium</td>\n",
       "      <td>I</td>\n",
       "      <td>VS2</td>\n",
       "      <td>62.4</td>\n",
       "      <td>58.0</td>\n",
       "      <td>334</td>\n",
       "      <td>4.20</td>\n",
       "      <td>4.23</td>\n",
       "      <td>2.63</td>\n",
       "    </tr>\n",
       "    <tr>\n",
       "      <th>4</th>\n",
       "      <td>0.31</td>\n",
       "      <td>Good</td>\n",
       "      <td>J</td>\n",
       "      <td>SI2</td>\n",
       "      <td>63.3</td>\n",
       "      <td>58.0</td>\n",
       "      <td>335</td>\n",
       "      <td>4.34</td>\n",
       "      <td>4.35</td>\n",
       "      <td>2.75</td>\n",
       "    </tr>\n",
       "  </tbody>\n",
       "</table>\n",
       "</div>"
      ],
      "text/plain": [
       "   carat      cut color clarity  depth  table  price     x     y     z\n",
       "0   0.23    Ideal     E     SI2   61.5   55.0    326  3.95  3.98  2.43\n",
       "1   0.21  Premium     E     SI1   59.8   61.0    326  3.89  3.84  2.31\n",
       "2   0.23     Good     E     VS1   56.9   65.0    327  4.05  4.07  2.31\n",
       "3   0.29  Premium     I     VS2   62.4   58.0    334  4.20  4.23  2.63\n",
       "4   0.31     Good     J     SI2   63.3   58.0    335  4.34  4.35  2.75"
      ]
     },
     "execution_count": 212,
     "metadata": {},
     "output_type": "execute_result"
    }
   ],
   "source": [
    "diamonds = pd.read_csv('https://raw.githubusercontent.com/mwaskom/seaborn-data/master/diamonds.csv')\n",
    "diamonds.head()"
   ]
  },
  {
   "cell_type": "code",
   "execution_count": 213,
   "id": "139ea459-5d3b-4564-84ee-cc91de5ad9d6",
   "metadata": {},
   "outputs": [
    {
     "name": "stdout",
     "output_type": "stream",
     "text": [
      "<class 'pandas.core.frame.DataFrame'>\n",
      "RangeIndex: 53940 entries, 0 to 53939\n",
      "Data columns (total 10 columns):\n",
      " #   Column   Non-Null Count  Dtype  \n",
      "---  ------   --------------  -----  \n",
      " 0   carat    53940 non-null  float64\n",
      " 1   cut      53940 non-null  object \n",
      " 2   color    53940 non-null  object \n",
      " 3   clarity  53940 non-null  object \n",
      " 4   depth    53940 non-null  float64\n",
      " 5   table    53940 non-null  float64\n",
      " 6   price    53940 non-null  int64  \n",
      " 7   x        53940 non-null  float64\n",
      " 8   y        53940 non-null  float64\n",
      " 9   z        53940 non-null  float64\n",
      "dtypes: float64(6), int64(1), object(3)\n",
      "memory usage: 4.1+ MB\n"
     ]
    }
   ],
   "source": [
    "diamonds.info()"
   ]
  },
  {
   "cell_type": "code",
   "execution_count": null,
   "id": "89f4c8fe-8b96-4ad7-aa23-e3bc90b27b88",
   "metadata": {},
   "outputs": [],
   "source": []
  },
  {
   "cell_type": "markdown",
   "id": "0c8cfd68-d03b-40bc-a0ec-60703704292e",
   "metadata": {},
   "source": [
    "#1. Write a Pandas program to count the duplicate rows of diamonds DataFrame."
   ]
  },
  {
   "cell_type": "code",
   "execution_count": 215,
   "id": "a10a0bc3-5a1b-4d67-bc06-cf085721ac73",
   "metadata": {},
   "outputs": [
    {
     "data": {
      "text/plain": [
       "146"
      ]
     },
     "execution_count": 215,
     "metadata": {},
     "output_type": "execute_result"
    }
   ],
   "source": [
    "diamonds.duplicated().sum()"
   ]
  },
  {
   "cell_type": "markdown",
   "id": "bb7c5e6f-4c5e-4235-82da-bd303976615f",
   "metadata": {},
   "source": [
    "#2. Write a Pandas program to get sample 75% of the diamonds DataFrame's rows without replacement and store the remaining 25% of the rows in another DataFrame."
   ]
  },
  {
   "cell_type": "code",
   "execution_count": 223,
   "id": "399514d3-97c6-4ad6-8b0e-f33781078492",
   "metadata": {},
   "outputs": [
    {
     "data": {
      "text/plain": [
       "(53940, 10)"
      ]
     },
     "execution_count": 223,
     "metadata": {},
     "output_type": "execute_result"
    }
   ],
   "source": [
    "diamonds.shape"
   ]
  },
  {
   "cell_type": "code",
   "execution_count": 217,
   "id": "1c0b2e8b-79c6-4833-82ef-aa47cacd13b5",
   "metadata": {},
   "outputs": [
    {
     "data": {
      "text/plain": [
       "(40455, 10)"
      ]
     },
     "execution_count": 217,
     "metadata": {},
     "output_type": "execute_result"
    }
   ],
   "source": [
    "res = diamonds.sample(frac=0.75, random_state=99)\n",
    "res.shape"
   ]
  },
  {
   "cell_type": "code",
   "execution_count": 221,
   "id": "505a3653-fc3d-4fcc-8cb6-54a6452ff7cc",
   "metadata": {},
   "outputs": [
    {
     "data": {
      "text/plain": [
       "(13485, 10)"
      ]
     },
     "execution_count": 221,
     "metadata": {},
     "output_type": "execute_result"
    }
   ],
   "source": [
    "diamonds.loc[~diamonds.index.isin(res.index), :].shape"
   ]
  },
  {
   "cell_type": "code",
   "execution_count": null,
   "id": "74f47546-ee87-474f-b554-b95d08b10a48",
   "metadata": {},
   "outputs": [],
   "source": []
  },
  {
   "cell_type": "markdown",
   "id": "2862bcab-0e06-44af-982a-fd933ede4153",
   "metadata": {},
   "source": [
    "#3. Write a Pandas program to calculate the mean of each numeric column of diamonds DataFrame."
   ]
  },
  {
   "cell_type": "code",
   "execution_count": 227,
   "id": "790a2438-c526-46f2-a5b0-7fcbd411351d",
   "metadata": {},
   "outputs": [
    {
     "data": {
      "text/html": [
       "<div>\n",
       "<style scoped>\n",
       "    .dataframe tbody tr th:only-of-type {\n",
       "        vertical-align: middle;\n",
       "    }\n",
       "\n",
       "    .dataframe tbody tr th {\n",
       "        vertical-align: top;\n",
       "    }\n",
       "\n",
       "    .dataframe thead th {\n",
       "        text-align: right;\n",
       "    }\n",
       "</style>\n",
       "<table border=\"1\" class=\"dataframe\">\n",
       "  <thead>\n",
       "    <tr style=\"text-align: right;\">\n",
       "      <th></th>\n",
       "      <th>carat</th>\n",
       "      <th>depth</th>\n",
       "      <th>price</th>\n",
       "      <th>table</th>\n",
       "      <th>x</th>\n",
       "      <th>y</th>\n",
       "      <th>z</th>\n",
       "    </tr>\n",
       "    <tr>\n",
       "      <th>cut</th>\n",
       "      <th></th>\n",
       "      <th></th>\n",
       "      <th></th>\n",
       "      <th></th>\n",
       "      <th></th>\n",
       "      <th></th>\n",
       "      <th></th>\n",
       "    </tr>\n",
       "  </thead>\n",
       "  <tbody>\n",
       "    <tr>\n",
       "      <th>Fair</th>\n",
       "      <td>1.046137</td>\n",
       "      <td>64.041677</td>\n",
       "      <td>4358.757764</td>\n",
       "      <td>59.053789</td>\n",
       "      <td>6.246894</td>\n",
       "      <td>6.182652</td>\n",
       "      <td>3.982770</td>\n",
       "    </tr>\n",
       "    <tr>\n",
       "      <th>Good</th>\n",
       "      <td>0.849185</td>\n",
       "      <td>62.365879</td>\n",
       "      <td>3928.864452</td>\n",
       "      <td>58.694639</td>\n",
       "      <td>5.838785</td>\n",
       "      <td>5.850744</td>\n",
       "      <td>3.639507</td>\n",
       "    </tr>\n",
       "    <tr>\n",
       "      <th>Ideal</th>\n",
       "      <td>0.702837</td>\n",
       "      <td>61.709401</td>\n",
       "      <td>3457.541970</td>\n",
       "      <td>55.951668</td>\n",
       "      <td>5.507451</td>\n",
       "      <td>5.520080</td>\n",
       "      <td>3.401448</td>\n",
       "    </tr>\n",
       "    <tr>\n",
       "      <th>Premium</th>\n",
       "      <td>0.891955</td>\n",
       "      <td>61.264673</td>\n",
       "      <td>4584.257704</td>\n",
       "      <td>58.746095</td>\n",
       "      <td>5.973887</td>\n",
       "      <td>5.944879</td>\n",
       "      <td>3.647124</td>\n",
       "    </tr>\n",
       "    <tr>\n",
       "      <th>Very Good</th>\n",
       "      <td>0.806381</td>\n",
       "      <td>61.818275</td>\n",
       "      <td>3981.759891</td>\n",
       "      <td>57.956150</td>\n",
       "      <td>5.740696</td>\n",
       "      <td>5.770026</td>\n",
       "      <td>3.559801</td>\n",
       "    </tr>\n",
       "  </tbody>\n",
       "</table>\n",
       "</div>"
      ],
      "text/plain": [
       "              carat      depth        price      table         x         y  \\\n",
       "cut                                                                          \n",
       "Fair       1.046137  64.041677  4358.757764  59.053789  6.246894  6.182652   \n",
       "Good       0.849185  62.365879  3928.864452  58.694639  5.838785  5.850744   \n",
       "Ideal      0.702837  61.709401  3457.541970  55.951668  5.507451  5.520080   \n",
       "Premium    0.891955  61.264673  4584.257704  58.746095  5.973887  5.944879   \n",
       "Very Good  0.806381  61.818275  3981.759891  57.956150  5.740696  5.770026   \n",
       "\n",
       "                  z  \n",
       "cut                  \n",
       "Fair       3.982770  \n",
       "Good       3.639507  \n",
       "Ideal      3.401448  \n",
       "Premium    3.647124  \n",
       "Very Good  3.559801  "
      ]
     },
     "execution_count": 227,
     "metadata": {},
     "output_type": "execute_result"
    }
   ],
   "source": [
    "pd.pivot_table(diamonds, index=\"cut\", values=[\"carat\", \"depth\", \"table\", \"price\", \"x\", \"y\", \"z\"], aggfunc=\"mean\")"
   ]
  },
  {
   "cell_type": "code",
   "execution_count": 231,
   "id": "5b38427a-3619-4693-8eab-95297b8c14fe",
   "metadata": {},
   "outputs": [
    {
     "data": {
      "text/plain": [
       "carat       0.797940\n",
       "depth      61.749405\n",
       "table      57.457184\n",
       "price    3932.799722\n",
       "x           5.731157\n",
       "y           5.734526\n",
       "z           3.538734\n",
       "dtype: float64"
      ]
     },
     "execution_count": 231,
     "metadata": {},
     "output_type": "execute_result"
    }
   ],
   "source": [
    "diamonds.mean(numeric_only=True)"
   ]
  },
  {
   "cell_type": "code",
   "execution_count": null,
   "id": "92a1f678-9f19-406b-bcdf-0d97cc5f0475",
   "metadata": {},
   "outputs": [],
   "source": []
  },
  {
   "cell_type": "code",
   "execution_count": null,
   "id": "68180c24-f8ec-4127-ac4e-fbad1711bccc",
   "metadata": {},
   "outputs": [],
   "source": []
  },
  {
   "cell_type": "code",
   "execution_count": null,
   "id": "273dbb91-952d-4cf3-a9d9-b23cca3b6e53",
   "metadata": {},
   "outputs": [],
   "source": []
  }
 ],
 "metadata": {
  "kernelspec": {
   "display_name": "Python 3 (ipykernel)",
   "language": "python",
   "name": "python3"
  },
  "language_info": {
   "codemirror_mode": {
    "name": "ipython",
    "version": 3
   },
   "file_extension": ".py",
   "mimetype": "text/x-python",
   "name": "python",
   "nbconvert_exporter": "python",
   "pygments_lexer": "ipython3",
   "version": "3.12.7"
  }
 },
 "nbformat": 4,
 "nbformat_minor": 5
}

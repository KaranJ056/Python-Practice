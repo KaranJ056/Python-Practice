{
 "cells": [
  {
   "cell_type": "markdown",
   "id": "a5d20540-48fd-4d84-b02e-2729c3187f4b",
   "metadata": {},
   "source": [
    "### urllib3 Exercises"
   ]
  },
  {
   "cell_type": "raw",
   "id": "222d2220-5a72-411a-9f5d-bc769e3f8b63",
   "metadata": {},
   "source": [
    "1. Write a Python program that makes a POST request to a sample API with some data in the request body."
   ]
  },
  {
   "cell_type": "code",
   "execution_count": 1,
   "id": "3650a1ec-33b7-4f8e-a9da-fbca45d3c29d",
   "metadata": {},
   "outputs": [],
   "source": [
    "import urllib3\n",
    "import json"
   ]
  },
  {
   "cell_type": "code",
   "execution_count": 4,
   "id": "bc9583ea-1e87-44b4-811f-1b592d339901",
   "metadata": {},
   "outputs": [],
   "source": [
    "url = \"https://jsonplaceholder.typicode.com/posts\"\n",
    "\n",
    "http = urllib3.PoolManager()"
   ]
  },
  {
   "cell_type": "code",
   "execution_count": 7,
   "id": "e1679d7a-a8fd-4c80-ab6b-18c40e13f488",
   "metadata": {},
   "outputs": [
    {
     "name": "stdout",
     "output_type": "stream",
     "text": [
      "Post request executed successfully\n",
      "Script executed\n"
     ]
    }
   ],
   "source": [
    "data = {\n",
    "    \"id\": 4, \n",
    "    \"title\": \"some random title for post\", \n",
    "    \"body\": \"Quickly and easily generate Lorem Ipsum placeholder text. Select the number of charactersraphs\"\n",
    "}\n",
    "\n",
    "encoded_data = json.dumps(data).encode(\"utf-8\")\n",
    "try:\n",
    "    response = http.request(\"POST\", url, body=encoded_data, headers={\"content-Type\": \"application/json\"})\n",
    "    if response.status == 201:\n",
    "        print(f\"Post request executed successfully\")\n",
    "    else:\n",
    "        print(f\"Some error occured while post request\")\n",
    "except urllib3.exceptions.RequestError as e:\n",
    "    print(f\"Error: {e}\")\n",
    "finally:\n",
    "    print(f\"Script executed\")"
   ]
  },
  {
   "cell_type": "code",
   "execution_count": null,
   "id": "5add28d4-e7df-4c26-b64b-5ed451228ddf",
   "metadata": {},
   "outputs": [],
   "source": []
  }
 ],
 "metadata": {
  "kernelspec": {
   "display_name": "Python 3 (ipykernel)",
   "language": "python",
   "name": "python3"
  },
  "language_info": {
   "codemirror_mode": {
    "name": "ipython",
    "version": 3
   },
   "file_extension": ".py",
   "mimetype": "text/x-python",
   "name": "python",
   "nbconvert_exporter": "python",
   "pygments_lexer": "ipython3",
   "version": "3.12.7"
  }
 },
 "nbformat": 4,
 "nbformat_minor": 5
}

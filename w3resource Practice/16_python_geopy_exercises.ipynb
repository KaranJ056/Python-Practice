{
 "cells": [
  {
   "cell_type": "markdown",
   "id": "d2f7fb4b-5e81-4102-b180-b43b2efb9bfb",
   "metadata": {},
   "source": [
    "### Python GeoPy Exercises\n",
    "##### https://www.w3resource.com/python-exercises/geopy/index.php"
   ]
  },
  {
   "cell_type": "code",
   "execution_count": 2,
   "id": "2a35af32-b826-4ee7-a193-a7fa6f0da3e4",
   "metadata": {},
   "outputs": [
    {
     "name": "stdout",
     "output_type": "stream",
     "text": [
      "Collecting geopy\n",
      "  Downloading geopy-2.4.1-py3-none-any.whl.metadata (6.8 kB)\n",
      "Collecting geographiclib<3,>=1.52 (from geopy)\n",
      "  Downloading geographiclib-2.0-py3-none-any.whl.metadata (1.4 kB)\n",
      "Downloading geopy-2.4.1-py3-none-any.whl (125 kB)\n",
      "Downloading geographiclib-2.0-py3-none-any.whl (40 kB)\n",
      "Installing collected packages: geographiclib, geopy\n",
      "Successfully installed geographiclib-2.0 geopy-2.4.1\n"
     ]
    }
   ],
   "source": [
    "!pip install geopy"
   ]
  },
  {
   "cell_type": "code",
   "execution_count": 4,
   "id": "0456a604-ea63-464a-ad29-10fd9dac3a52",
   "metadata": {},
   "outputs": [],
   "source": [
    "from geopy.geocoders import Nominatim"
   ]
  },
  {
   "cell_type": "code",
   "execution_count": 14,
   "id": "a81dac20-b258-4a35-b11c-fc7de4acd4fa",
   "metadata": {},
   "outputs": [
    {
     "name": "stdout",
     "output_type": "stream",
     "text": [
      "Address: Google Building 41, 1600, Amphitheatre Parkway, Mountain View, Santa Clara County, California, 94043, United States\n",
      "Latitude: 37.42248575 Longitude: -122.08558456613565\n"
     ]
    }
   ],
   "source": [
    "geolocator = Nominatim(user_agent=\"my_geocoder\")\n",
    "\n",
    "location = geolocator.geocode(\"1600 Amphitheatre Parkway, Mountain View, CA\")\n",
    "if location:\n",
    "    print(f\"Address: {location.address}\")\n",
    "    print(f\"Latitude: {location.latitude} Longitude: {location.longitude}\")\n",
    "else:\n",
    "    print(f\"Unable to fetch address\")"
   ]
  },
  {
   "cell_type": "code",
   "execution_count": null,
   "id": "33f838cb-6c24-456d-90ab-52f1016a72ba",
   "metadata": {},
   "outputs": [],
   "source": []
  },
  {
   "cell_type": "markdown",
   "id": "77e8f19e-f3dc-4d06-a83f-2a9f4f51afaf",
   "metadata": {},
   "source": [
    "#1. Write a Python program to calculate the distance between London and New York city."
   ]
  },
  {
   "cell_type": "code",
   "execution_count": 20,
   "id": "0ad371fe-7720-44c2-aa32-ac9407ecbd26",
   "metadata": {},
   "outputs": [],
   "source": [
    "from geopy.distance import geodesic"
   ]
  },
  {
   "cell_type": "code",
   "execution_count": 28,
   "id": "2ffaa595-b0c8-4190-bae6-4ac262574f0f",
   "metadata": {},
   "outputs": [
    {
     "name": "stdout",
     "output_type": "stream",
     "text": [
      "Distance b/w London, Greater London, England, United Kingdom and City of New York, New York, United States: \n",
      "3470.51 miles\n"
     ]
    }
   ],
   "source": [
    "geolocator = Nominatim(user_agent=\"my_geocoder\")\n",
    "\n",
    "location1 = geolocator.geocode(\"London\")\n",
    "location2 = geolocator.geocode(\"New York\")\n",
    "\n",
    "point1 = (location1.latitude, location1.longitude)\n",
    "point2 = (location2.latitude, location2.longitude)\n",
    "\n",
    "distance = geodesic(point1, point2).miles\n",
    "print(f\"Distance b/w {location1} and {location2}: \\n{round(distance, 2)} miles\")"
   ]
  },
  {
   "cell_type": "code",
   "execution_count": null,
   "id": "55ce2e34-eee8-408e-be4b-5d3a301a6c5b",
   "metadata": {},
   "outputs": [],
   "source": []
  },
  {
   "cell_type": "markdown",
   "id": "182bc82f-7785-47a5-be0a-00d3ff137353",
   "metadata": {},
   "source": [
    "#2. Write a Python function to get the city, state and country name of a specified latitude and longitude using Nominatim API and Geopy package."
   ]
  },
  {
   "cell_type": "code",
   "execution_count": 33,
   "id": "1a5bcaec-4433-477d-9abb-3682c1a483fe",
   "metadata": {},
   "outputs": [
    {
     "name": "stdout",
     "output_type": "stream",
     "text": [
      "Google Building 41, 1600, Amphitheatre Parkway, Mountain View, Santa Clara County, California, 94043, United States\n"
     ]
    }
   ],
   "source": [
    "locaion = geolocator.reverse((37.42248575, -122.08558456613565))\n",
    "print(location.address)"
   ]
  },
  {
   "cell_type": "code",
   "execution_count": null,
   "id": "e67b16af-94e6-4f6e-a607-ae9d4109139a",
   "metadata": {},
   "outputs": [],
   "source": []
  }
 ],
 "metadata": {
  "kernelspec": {
   "display_name": "Python 3 (ipykernel)",
   "language": "python",
   "name": "python3"
  },
  "language_info": {
   "codemirror_mode": {
    "name": "ipython",
    "version": 3
   },
   "file_extension": ".py",
   "mimetype": "text/x-python",
   "name": "python",
   "nbconvert_exporter": "python",
   "pygments_lexer": "ipython3",
   "version": "3.12.7"
  }
 },
 "nbformat": 4,
 "nbformat_minor": 5
}

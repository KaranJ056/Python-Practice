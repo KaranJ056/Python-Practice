{
 "cells": [
  {
   "cell_type": "markdown",
   "id": "074311ce-5d0d-45e3-99b2-a855a51c96a9",
   "metadata": {},
   "source": [
    "### Threading and Concurrency  Practice"
   ]
  },
  {
   "cell_type": "markdown",
   "id": "ca4309ea-3fde-474c-83f9-9d6ebf87c708",
   "metadata": {},
   "source": [
    "### Thrading Exercises Problems\n",
    "##### https://www.w3resource.com/python-exercises/threading/index.php"
   ]
  },
  {
   "cell_type": "markdown",
   "id": "66687ccf-3f81-46ae-b737-40e962c92aa8",
   "metadata": {},
   "source": [
    "1. Write a Python program that creates two threads to find and print even and odd numbers from 30 to 50."
   ]
  },
  {
   "cell_type": "code",
   "execution_count": 1,
   "id": "ffdaa032-b3dd-4345-ba7e-e9874c3d8837",
   "metadata": {},
   "outputs": [],
   "source": [
    "from threading import Thread\n",
    "import time"
   ]
  },
  {
   "cell_type": "code",
   "execution_count": 18,
   "id": "ab503016-080d-4f99-8a1f-76f612eaa188",
   "metadata": {},
   "outputs": [
    {
     "name": "stdout",
     "output_type": "stream",
     "text": [
      "Odd numbers: \n",
      "31 33 35 37 39 41 43 45 47 49 \n",
      "Even numbers: \n",
      "30 32 34 36 38 40 42 44 46 48 50 \n",
      "Numbers printed\n"
     ]
    }
   ],
   "source": [
    "def print_odd_numbers(n1, n2):\n",
    "    if n1%2!=0: start = n1\n",
    "    else: start = n1+1\n",
    "    print(\"Odd numbers: \")\n",
    "    for i in range(start, n2+1, 2):\n",
    "        print(i, end=\" \")\n",
    "\n",
    "def print_even_numbers(n1, n2):\n",
    "    if n1%2==0: start = n1\n",
    "    else: start = n1+11\n",
    "    print(\"\\nEven numbers: \")\n",
    "    for i in range(start, n2+1, 2):\n",
    "        print(i, end=\" \")\n",
    "\n",
    "t1 = Thread(target=print_odd_numbers, args=[30, 50])\n",
    "t2 = Thread(target=print_even_numbers, args=[30, 50])\n",
    "\n",
    "t1.start()\n",
    "t2.start()\n",
    "\n",
    "# t1.join()\n",
    "# t2.join()\n",
    "\n",
    "print(\"\\nNumbers printed\")"
   ]
  },
  {
   "cell_type": "code",
   "execution_count": null,
   "id": "e2e6a159-53f6-445f-aa37-5f5cbba9177f",
   "metadata": {},
   "outputs": [],
   "source": []
  },
  {
   "cell_type": "markdown",
   "id": "80f36135-c22d-4e38-b4c2-0bba5be732b9",
   "metadata": {},
   "source": [
    "2. Write a Python program to calculate the factorial of a number using multiple threads."
   ]
  },
  {
   "cell_type": "code",
   "execution_count": 10,
   "id": "0297d8f0-3f85-4dfd-afb6-8aabaa201863",
   "metadata": {},
   "outputs": [
    {
     "name": "stdout",
     "output_type": "stream",
     "text": [
      "\n",
      "Current running thread : Thread-35 (partial_factorial)\n",
      "\n",
      "Current running thread : Thread-36 (partial_factorial)\n",
      "\n",
      "Current running thread : Thread-37 (partial_factorial)\n",
      "\n",
      "Current running thread : Thread-38 (partial_factorial)\n",
      "Factorial of a 15 is : 1307674368000\n"
     ]
    }
   ],
   "source": [
    "import threading\n",
    "\n",
    "def partial_factorial(start, end, result, index):\n",
    "    print(f\"\\nCurrent running thread : {threading.current_thread().name}\")\n",
    "    partial_result = 1\n",
    "    for i in range(start, end+1):\n",
    "        partial_result *= i\n",
    "    result[index] = partial_result\n",
    "\n",
    "def factorial(n, num_threads=4):\n",
    "    if n==0 or n==1:\n",
    "        return n\n",
    "    \n",
    "    results = [1]*num_threads\n",
    "    threads = []\n",
    "    step = n//num_threads\n",
    "    ranges = []\n",
    "    \n",
    "    for i in range(num_threads):\n",
    "        start = i * step+1\n",
    "        end = (i+1)*step if i != num_threads-1 else n\n",
    "        ranges.append((start, end))\n",
    "\n",
    "    for i, (start, end) in enumerate(ranges):\n",
    "        thread = Thread(target=partial_factorial, args=[start, end, results, i])\n",
    "        thread.start()\n",
    "        threads.append(thread)\n",
    "\n",
    "    for thread in threads:\n",
    "        thread.join()\n",
    "\n",
    "    final_result = 1\n",
    "    for result in results:\n",
    "        final_result *= result\n",
    "\n",
    "    return final_result\n",
    "\n",
    "if __name__ == \"__main__\":\n",
    "    num = 15\n",
    "    print(f\"Factorial of a {num} is : {factorial(num)}\")"
   ]
  },
  {
   "cell_type": "code",
   "execution_count": null,
   "id": "887f6ea8-e1cc-45d3-992a-cb2230949a2a",
   "metadata": {},
   "outputs": [],
   "source": []
  },
  {
   "cell_type": "markdown",
   "id": "7e7a0700-954b-4957-b37d-963f3307ba78",
   "metadata": {},
   "source": [
    "7. Write a Python program that performs concurrent HTTP requests using threads."
   ]
  },
  {
   "cell_type": "code",
   "execution_count": 12,
   "id": "6598e324-de95-43dc-9f8e-e552f57f2bb2",
   "metadata": {},
   "outputs": [],
   "source": [
    "import threading\n",
    "import requests"
   ]
  },
  {
   "cell_type": "code",
   "execution_count": 17,
   "id": "d90c2a37-37d3-4b83-a42a-4d66dbbf78aa",
   "metadata": {},
   "outputs": [
    {
     "name": "stdout",
     "output_type": "stream",
     "text": [
      "Requestes : https://www.example.com, Status : 200\n",
      "Requestes : https://www.youtube.com, Status : 200\n",
      "Requestes : https://www.google.com, Status : 200\n",
      "Requestes : https://www.yahoo.com, Status : 200\n"
     ]
    }
   ],
   "source": [
    "def request(url):\n",
    "    res = requests.get(url)\n",
    "    print(f\"Requestes : {url}, Status : {res.status_code}\")\n",
    "\n",
    "urls = [\n",
    "    \"https://www.example.com\",\n",
    "    \"https://www.google.com\",\n",
    "    \"https://www.yahoo.com\",\n",
    "    \"https://www.youtube.com\"\n",
    "]\n",
    "threads = []\n",
    "\n",
    "for url in urls:\n",
    "    thread = threading.Thread(target=request, args=[url])\n",
    "    thread.start()\n",
    "    threads.append(thread)\n",
    "\n",
    "for thread in threads:\n",
    "    thread.join()"
   ]
  },
  {
   "cell_type": "code",
   "execution_count": null,
   "id": "2ca222c7-e98e-4d39-97ce-b672445d80c5",
   "metadata": {},
   "outputs": [],
   "source": []
  },
  {
   "cell_type": "markdown",
   "id": "b2622a09-c6f0-41b2-912e-9f8a48314747",
   "metadata": {},
   "source": [
    "### Asynchronous\n",
    "##### https://www.w3resource.com/python-exercises/asynchronous/index.php"
   ]
  },
  {
   "cell_type": "markdown",
   "id": "64681623-e3a0-4ff9-afb8-c71ba3ec2e54",
   "metadata": {},
   "source": [
    "1. Write a Python program that creates three asynchronous functions and displays their respective names with different delays (1 second, 2 seconds, and 3 seconds)."
   ]
  },
  {
   "cell_type": "code",
   "execution_count": 24,
   "id": "5bd3904d-209e-40fc-bbf5-62e402adb111",
   "metadata": {},
   "outputs": [],
   "source": [
    "import asyncio\n",
    "import time"
   ]
  },
  {
   "cell_type": "code",
   "execution_count": 40,
   "id": "72482095-6989-4c59-8111-abc0f93b445c",
   "metadata": {},
   "outputs": [
    {
     "name": "stdout",
     "output_type": "stream",
     "text": [
      "my_func1 started\n",
      "my_func1 waited for 1 seconds\n",
      "my_func2 started\n",
      "my_func2 waited for 2 seconds\n",
      "my_func3 started\n",
      "my_func3 waited for 3 seconds\n"
     ]
    }
   ],
   "source": [
    "async def my_func1(delay=1):\n",
    "    print(f\"{my_func1.__name__} started\")\n",
    "    await asyncio.sleep(delay)\n",
    "    print(f\"{my_func1.__name__} waited for {delay} seconds\")\n",
    "\n",
    "async def my_func2(delay=2):\n",
    "    print(f\"{my_func2.__name__} started\")\n",
    "    await asyncio.sleep(delay)\n",
    "    print(f\"{my_func2.__name__} waited for {delay} seconds\")\n",
    "\n",
    "async def my_func3(delay=3):\n",
    "    print(f\"{my_func3.__name__} started\")\n",
    "    await asyncio.sleep(delay)\n",
    "    print(f\"{my_func3.__name__} waited for {delay} seconds\")\n",
    "\n",
    "async def main():\n",
    "    r1 = await my_func1(1)\n",
    "    r2 = await my_func2(2)\n",
    "    r3 = await my_func3(3)\n",
    "\n",
    "await main()"
   ]
  },
  {
   "cell_type": "code",
   "execution_count": null,
   "id": "abfc90cb-478e-43fe-a50d-ac33c7af8a8e",
   "metadata": {},
   "outputs": [],
   "source": []
  },
  {
   "cell_type": "markdown",
   "id": "20667ec5-11b8-41c7-b002-16e5844a9094",
   "metadata": {},
   "source": [
    "2. Write a Python program that implements a coroutine to fetch data from two different URLs simultaneously using the \"aiohttp\" library."
   ]
  },
  {
   "cell_type": "code",
   "execution_count": 41,
   "id": "403fc716-8449-4a5b-ae01-abfe444b04b3",
   "metadata": {},
   "outputs": [],
   "source": [
    "import asyncio\n",
    "import aiohttp"
   ]
  },
  {
   "cell_type": "code",
   "execution_count": 48,
   "id": "c203152f-be2a-4226-ad17-90e158a2b50b",
   "metadata": {},
   "outputs": [],
   "source": [
    "urls = [\n",
    "    \"https://www.example.com\",\n",
    "    \"https://www.google.com\",\n",
    "    \"https://www.yahoo.com\",\n",
    "    \"https://www.youtube.com\"\n",
    "]\n",
    "\n",
    "async def fetch_url(url):\n",
    "    async with aiohttp.ClientSession() as session:\n",
    "        async with session.get(url) as response:\n",
    "            data = await response.text()\n",
    "            print(f\"Fetched {url}, with {len(data)} characters\")\n",
    "\n",
    "async def main():\n",
    "    for url in urls:\n",
    "        await fetch_url(url)"
   ]
  },
  {
   "cell_type": "code",
   "execution_count": 49,
   "id": "48fe12d4-93a4-4837-96cb-e291b7b9ad02",
   "metadata": {},
   "outputs": [
    {
     "name": "stdout",
     "output_type": "stream",
     "text": [
      "Fetched https://www.example.com, with 1256 characters\n",
      "Fetched https://www.google.com, with 21024 characters\n",
      "Fetched https://www.yahoo.com, with 1722959 characters\n",
      "Fetched https://www.youtube.com, with 575338 characters\n"
     ]
    }
   ],
   "source": [
    "await main()"
   ]
  },
  {
   "cell_type": "code",
   "execution_count": null,
   "id": "23368c84-6993-403f-8fec-32041996e2bf",
   "metadata": {},
   "outputs": [],
   "source": []
  }
 ],
 "metadata": {
  "kernelspec": {
   "display_name": "Python 3 (ipykernel)",
   "language": "python",
   "name": "python3"
  },
  "language_info": {
   "codemirror_mode": {
    "name": "ipython",
    "version": 3
   },
   "file_extension": ".py",
   "mimetype": "text/x-python",
   "name": "python",
   "nbconvert_exporter": "python",
   "pygments_lexer": "ipython3",
   "version": "3.12.7"
  }
 },
 "nbformat": 4,
 "nbformat_minor": 5
}

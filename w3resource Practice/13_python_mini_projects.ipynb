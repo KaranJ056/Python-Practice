{
 "cells": [
  {
   "cell_type": "markdown",
   "id": "ce0cda26-0f97-4077-a58b-3ae85a8fe549",
   "metadata": {},
   "source": [
    "### Python Mini Projects\n",
    "##### https://www.w3resource.com/projects/python/index.php"
   ]
  },
  {
   "cell_type": "markdown",
   "id": "e3d16ec6-6005-468e-96ea-43f200008091",
   "metadata": {},
   "source": [
    "### Python Numbers Mini Project Exercises"
   ]
  },
  {
   "cell_type": "markdown",
   "id": "2c47e35e-63c0-455d-b5d6-ca04014269b6",
   "metadata": {},
   "source": [
    "<code>\n",
    "1. Create a Python project to get the value of Pi to n number of decimal places.\n",
    "Note: Input a number and the program will generate PI to the 'nth digit\n",
    "<code>"
   ]
  },
  {
   "cell_type": "code",
   "execution_count": 97,
   "id": "d83d73e2-a8a4-482e-8a61-102c09ea15a4",
   "metadata": {},
   "outputs": [
    {
     "data": {
      "text/plain": [
       "3.142857142857143"
      ]
     },
     "execution_count": 97,
     "metadata": {},
     "output_type": "execute_result"
    }
   ],
   "source": [
    "22/7"
   ]
  },
  {
   "cell_type": "code",
   "execution_count": 98,
   "id": "63990c68-2b51-4a7b-9f8f-d75da53b6791",
   "metadata": {},
   "outputs": [],
   "source": [
    "from decimal import Decimal, getcontext\n",
    "from math import factorial\n",
    "\n",
    "def get_PI(n):\n",
    "    \"\"\"Find and Return PI value till given nth digit using Chudnovsky algorithm\"\"\"\n",
    "    getcontext().prec = n+2\n",
    "\n",
    "    C = 426880 * Decimal(10005).sqrt()\n",
    "    M = Decimal(1)\n",
    "    L = Decimal(13591409)\n",
    "    X = Decimal(1)\n",
    "    K = Decimal(6)\n",
    "    S = L  # The summation starts with the first term\n",
    "\n",
    "    for i in range(1, n):\n",
    "        M = (M * (K ** 3 - 16 * K)) / (i ** 3)\n",
    "        L += 545140134\n",
    "        X *= -262537412640768000\n",
    "        S += Decimal(M * L) / X\n",
    "        K += 12\n",
    "\n",
    "    pi = C / S\n",
    "    return str(pi)[:n + 2]"
   ]
  },
  {
   "cell_type": "code",
   "execution_count": 99,
   "id": "1818501f-8c3f-483e-9361-f2c10e4b1b5a",
   "metadata": {},
   "outputs": [
    {
     "data": {
      "text/plain": [
       "'3.141592653589793238462643383279502884197169399375105821'"
      ]
     },
     "execution_count": 99,
     "metadata": {},
     "output_type": "execute_result"
    }
   ],
   "source": [
    "get_PI(54)"
   ]
  },
  {
   "cell_type": "code",
   "execution_count": null,
   "id": "bb8fc047-8660-40e9-80ba-cf73256b9290",
   "metadata": {},
   "outputs": [],
   "source": []
  },
  {
   "cell_type": "markdown",
   "id": "f080d489-2805-4eda-80e3-b2f1159b1cb6",
   "metadata": {},
   "source": [
    "2. Create a Python project to guess a number that has randomly selected."
   ]
  },
  {
   "cell_type": "code",
   "execution_count": 100,
   "id": "c1cf0ce1-e631-4649-9d43-461b50328af8",
   "metadata": {},
   "outputs": [],
   "source": [
    "from random import randint\n",
    "\n",
    "def guessing_game():\n",
    "    guess = \"\"\n",
    "    generated_num = randint(1, 101)\n",
    "    while True:\n",
    "        try:\n",
    "            guess = int(input(\"Enter your guess b/w 1 to 100 : \"))\n",
    "            if guess == generated_num:\n",
    "                print(\"Yay! you guessed the number right!\")\n",
    "            elif guess > generated_num:\n",
    "                print(\"Enter the lower number\")\n",
    "                continue\n",
    "            else:\n",
    "                print(\"Enter the higer number\")\n",
    "                continue\n",
    "        except ValueError as e:\n",
    "            print(\"### Please enter a valid integer value b/w 1 to 100 ###\")\n",
    "            continue\n",
    "        want_to_play = input(\"Do you still want to play? Enter [Y/N]: \")\n",
    "        if want_to_play != \"Y\":\n",
    "            break\n",
    "\n",
    "    "
   ]
  },
  {
   "cell_type": "code",
   "execution_count": 101,
   "id": "c6e699ec-90f0-4c55-8989-5ace6bbe55b8",
   "metadata": {},
   "outputs": [
    {
     "name": "stdin",
     "output_type": "stream",
     "text": [
      "Enter your guess b/w 1 to 100 :  dkasd\n"
     ]
    },
    {
     "name": "stdout",
     "output_type": "stream",
     "text": [
      "### Please enter a valid integer value b/w 1 to 100 ###\n"
     ]
    },
    {
     "name": "stdin",
     "output_type": "stream",
     "text": [
      "Enter your guess b/w 1 to 100 :  1\n"
     ]
    },
    {
     "name": "stdout",
     "output_type": "stream",
     "text": [
      "Enter the higer number\n"
     ]
    },
    {
     "name": "stdin",
     "output_type": "stream",
     "text": [
      "Enter your guess b/w 1 to 100 :  50\n"
     ]
    },
    {
     "name": "stdout",
     "output_type": "stream",
     "text": [
      "Enter the lower number\n"
     ]
    },
    {
     "name": "stdin",
     "output_type": "stream",
     "text": [
      "Enter your guess b/w 1 to 100 :  40\n"
     ]
    },
    {
     "name": "stdout",
     "output_type": "stream",
     "text": [
      "Enter the lower number\n"
     ]
    },
    {
     "name": "stdin",
     "output_type": "stream",
     "text": [
      "Enter your guess b/w 1 to 100 :  30\n"
     ]
    },
    {
     "name": "stdout",
     "output_type": "stream",
     "text": [
      "Enter the lower number\n"
     ]
    },
    {
     "name": "stdin",
     "output_type": "stream",
     "text": [
      "Enter your guess b/w 1 to 100 :  20\n"
     ]
    },
    {
     "name": "stdout",
     "output_type": "stream",
     "text": [
      "Enter the lower number\n"
     ]
    },
    {
     "name": "stdin",
     "output_type": "stream",
     "text": [
      "Enter your guess b/w 1 to 100 :  10\n"
     ]
    },
    {
     "name": "stdout",
     "output_type": "stream",
     "text": [
      "Yay! you guessed the number right!\n"
     ]
    },
    {
     "name": "stdin",
     "output_type": "stream",
     "text": [
      "Do you still want to play? Enter [Y/N]:  N\n"
     ]
    }
   ],
   "source": [
    "guessing_game()"
   ]
  },
  {
   "cell_type": "code",
   "execution_count": null,
   "id": "45dd7b2d-30eb-44d5-bb21-9ea910cdb15c",
   "metadata": {},
   "outputs": [],
   "source": []
  },
  {
   "cell_type": "markdown",
   "id": "32a5c475-a103-4326-9259-f7419a863b22",
   "metadata": {},
   "source": [
    "### Projects: Novel Coronavirus (COVID-19)\n",
    "##### https://www.w3resource.com/python-exercises/project/covid-19/index.php"
   ]
  },
  {
   "cell_type": "code",
   "execution_count": 102,
   "id": "10bac0a1-d0b0-446d-b6c0-75205a607762",
   "metadata": {
    "scrolled": true
   },
   "outputs": [
    {
     "name": "stdout",
     "output_type": "stream",
     "text": [
      "  Province/State Country/Region          Last Update  Confirmed  Deaths  \\\n",
      "0          Hubei          China  2020-03-17T11:53:10      67799    3111   \n",
      "1            NaN          Italy  2020-03-17T18:33:02      31506    2503   \n",
      "2            NaN           Iran  2020-03-17T15:13:09      16169     988   \n",
      "3            NaN          Spain  2020-03-17T20:53:02      11748     533   \n",
      "4            NaN        Germany  2020-03-17T18:53:02       9257      24   \n",
      "\n",
      "   Recovered  Latitude  Longitude  \n",
      "0      56003   30.9756   112.2707  \n",
      "1       2941   41.8719    12.5674  \n",
      "2       5389   32.4279    53.6880  \n",
      "3       1028   40.4637    -3.7492  \n",
      "4         67   51.1657    10.4515  \n",
      "\n",
      "DataSet Information: \n",
      "<class 'pandas.core.frame.DataFrame'>\n",
      "RangeIndex: 312 entries, 0 to 311\n",
      "Data columns (total 8 columns):\n",
      " #   Column          Non-Null Count  Dtype  \n",
      "---  ------          --------------  -----  \n",
      " 0   Province/State  154 non-null    object \n",
      " 1   Country/Region  312 non-null    object \n",
      " 2   Last Update     312 non-null    object \n",
      " 3   Confirmed       312 non-null    int64  \n",
      " 4   Deaths          312 non-null    int64  \n",
      " 5   Recovered       312 non-null    int64  \n",
      " 6   Latitude        309 non-null    float64\n",
      " 7   Longitude       309 non-null    float64\n",
      "dtypes: float64(2), int64(3), object(3)\n",
      "memory usage: 19.6+ KB\n",
      "None\n",
      "\n",
      "Missing Data Information: \n",
      "Province/State    158\n",
      "Country/Region      0\n",
      "Last Update         0\n",
      "Confirmed           0\n",
      "Deaths              0\n",
      "Recovered           0\n",
      "Latitude            3\n",
      "Longitude           3\n",
      "dtype: int64\n"
     ]
    }
   ],
   "source": [
    "# example:\n",
    "import pandas as pd\n",
    "\n",
    "data_url = 'https://raw.githubusercontent.com/CSSEGISandData/COVID-19/master/csse_covid_19_data/csse_covid_19_daily_reports/03-17-2020.csv'\n",
    "data = pd.read_csv(data_url)\n",
    "\n",
    "print(data.head())\n",
    "\n",
    "print(\"\\nDataSet Information: \")\n",
    "print(data.info())\n",
    "\n",
    "print(\"\\nMissing Data Information: \")\n",
    "print(data.isna().sum())"
   ]
  },
  {
   "cell_type": "code",
   "execution_count": null,
   "id": "d71e6f87-ba1d-46a8-89c5-48386ac21eb6",
   "metadata": {},
   "outputs": [],
   "source": []
  },
  {
   "cell_type": "markdown",
   "id": "cd9f5a56-fd82-43a6-869b-cc41346d2be6",
   "metadata": {},
   "source": [
    "1.Write a Python program to get the latest number of confirmed, deaths, recovered and active cases of Novel Coronavirus (COVID-19) Country wise."
   ]
  },
  {
   "cell_type": "code",
   "execution_count": 103,
   "id": "b096a13b-7afb-4370-b145-4503a6d8c522",
   "metadata": {},
   "outputs": [],
   "source": [
    "import pandas as pd"
   ]
  },
  {
   "cell_type": "code",
   "execution_count": 104,
   "id": "58840ae9-a896-417a-9c51-f1c05407351c",
   "metadata": {
    "scrolled": true
   },
   "outputs": [
    {
     "name": "stdout",
     "output_type": "stream",
     "text": [
      "<class 'pandas.core.frame.DataFrame'>\n",
      "RangeIndex: 4016 entries, 0 to 4015\n",
      "Data columns (total 14 columns):\n",
      " #   Column               Non-Null Count  Dtype  \n",
      "---  ------               --------------  -----  \n",
      " 0   FIPS                 3268 non-null   float64\n",
      " 1   Admin2               3272 non-null   object \n",
      " 2   Province_State       3837 non-null   object \n",
      " 3   Country_Region       4016 non-null   object \n",
      " 4   Last_Update          4016 non-null   object \n",
      " 5   Lat                  3925 non-null   float64\n",
      " 6   Long_                3925 non-null   float64\n",
      " 7   Confirmed            4016 non-null   int64  \n",
      " 8   Deaths               4016 non-null   int64  \n",
      " 9   Recovered            0 non-null      float64\n",
      " 10  Active               0 non-null      float64\n",
      " 11  Combined_Key         4016 non-null   object \n",
      " 12  Incident_Rate        3922 non-null   float64\n",
      " 13  Case_Fatality_Ratio  3974 non-null   float64\n",
      "dtypes: float64(7), int64(2), object(5)\n",
      "memory usage: 439.4+ KB\n"
     ]
    }
   ],
   "source": [
    "data = pd.read_csv(\"https://raw.githubusercontent.com/CSSEGISandData/COVID-19/master/csse_covid_19_data/csse_covid_19_daily_reports/01-28-2023.csv\")\n",
    "data.info()"
   ]
  },
  {
   "cell_type": "code",
   "execution_count": 105,
   "id": "c039c63d-2729-4dc8-af7e-64dd47fa4bbc",
   "metadata": {},
   "outputs": [],
   "source": [
    "data['Active'] = data['Confirmed'] - data['Deaths'] - data['Recovered']"
   ]
  },
  {
   "cell_type": "code",
   "execution_count": 106,
   "id": "87447063-de29-46da-b657-fa4f734f62f2",
   "metadata": {},
   "outputs": [],
   "source": [
    "result = data.groupby('Country_Region')[['Confirmed', 'Deaths', 'Recovered', 'Active']].sum().reset_index()"
   ]
  },
  {
   "cell_type": "code",
   "execution_count": 107,
   "id": "f0c98910-1583-4619-9511-b0b0d58430f2",
   "metadata": {},
   "outputs": [
    {
     "data": {
      "text/html": [
       "<div>\n",
       "<style scoped>\n",
       "    .dataframe tbody tr th:only-of-type {\n",
       "        vertical-align: middle;\n",
       "    }\n",
       "\n",
       "    .dataframe tbody tr th {\n",
       "        vertical-align: top;\n",
       "    }\n",
       "\n",
       "    .dataframe thead th {\n",
       "        text-align: right;\n",
       "    }\n",
       "</style>\n",
       "<table border=\"1\" class=\"dataframe\">\n",
       "  <thead>\n",
       "    <tr style=\"text-align: right;\">\n",
       "      <th></th>\n",
       "      <th>Country_Region</th>\n",
       "      <th>Confirmed</th>\n",
       "      <th>Deaths</th>\n",
       "      <th>Recovered</th>\n",
       "      <th>Active</th>\n",
       "    </tr>\n",
       "  </thead>\n",
       "  <tbody>\n",
       "    <tr>\n",
       "      <th>0</th>\n",
       "      <td>Afghanistan</td>\n",
       "      <td>208435</td>\n",
       "      <td>7876</td>\n",
       "      <td>0.0</td>\n",
       "      <td>0.0</td>\n",
       "    </tr>\n",
       "    <tr>\n",
       "      <th>1</th>\n",
       "      <td>Albania</td>\n",
       "      <td>334153</td>\n",
       "      <td>3596</td>\n",
       "      <td>0.0</td>\n",
       "      <td>0.0</td>\n",
       "    </tr>\n",
       "    <tr>\n",
       "      <th>2</th>\n",
       "      <td>Algeria</td>\n",
       "      <td>271369</td>\n",
       "      <td>6881</td>\n",
       "      <td>0.0</td>\n",
       "      <td>0.0</td>\n",
       "    </tr>\n",
       "    <tr>\n",
       "      <th>3</th>\n",
       "      <td>Andorra</td>\n",
       "      <td>47839</td>\n",
       "      <td>165</td>\n",
       "      <td>0.0</td>\n",
       "      <td>0.0</td>\n",
       "    </tr>\n",
       "    <tr>\n",
       "      <th>4</th>\n",
       "      <td>Angola</td>\n",
       "      <td>105184</td>\n",
       "      <td>1931</td>\n",
       "      <td>0.0</td>\n",
       "      <td>0.0</td>\n",
       "    </tr>\n",
       "    <tr>\n",
       "      <th>...</th>\n",
       "      <td>...</td>\n",
       "      <td>...</td>\n",
       "      <td>...</td>\n",
       "      <td>...</td>\n",
       "      <td>...</td>\n",
       "    </tr>\n",
       "    <tr>\n",
       "      <th>196</th>\n",
       "      <td>West Bank and Gaza</td>\n",
       "      <td>703228</td>\n",
       "      <td>5708</td>\n",
       "      <td>0.0</td>\n",
       "      <td>0.0</td>\n",
       "    </tr>\n",
       "    <tr>\n",
       "      <th>197</th>\n",
       "      <td>Winter Olympics 2022</td>\n",
       "      <td>535</td>\n",
       "      <td>0</td>\n",
       "      <td>0.0</td>\n",
       "      <td>0.0</td>\n",
       "    </tr>\n",
       "    <tr>\n",
       "      <th>198</th>\n",
       "      <td>Yemen</td>\n",
       "      <td>11945</td>\n",
       "      <td>2159</td>\n",
       "      <td>0.0</td>\n",
       "      <td>0.0</td>\n",
       "    </tr>\n",
       "    <tr>\n",
       "      <th>199</th>\n",
       "      <td>Zambia</td>\n",
       "      <td>340172</td>\n",
       "      <td>4044</td>\n",
       "      <td>0.0</td>\n",
       "      <td>0.0</td>\n",
       "    </tr>\n",
       "    <tr>\n",
       "      <th>200</th>\n",
       "      <td>Zimbabwe</td>\n",
       "      <td>261606</td>\n",
       "      <td>5652</td>\n",
       "      <td>0.0</td>\n",
       "      <td>0.0</td>\n",
       "    </tr>\n",
       "  </tbody>\n",
       "</table>\n",
       "<p>201 rows × 5 columns</p>\n",
       "</div>"
      ],
      "text/plain": [
       "           Country_Region  Confirmed  Deaths  Recovered  Active\n",
       "0             Afghanistan     208435    7876        0.0     0.0\n",
       "1                 Albania     334153    3596        0.0     0.0\n",
       "2                 Algeria     271369    6881        0.0     0.0\n",
       "3                 Andorra      47839     165        0.0     0.0\n",
       "4                  Angola     105184    1931        0.0     0.0\n",
       "..                    ...        ...     ...        ...     ...\n",
       "196    West Bank and Gaza     703228    5708        0.0     0.0\n",
       "197  Winter Olympics 2022        535       0        0.0     0.0\n",
       "198                 Yemen      11945    2159        0.0     0.0\n",
       "199                Zambia     340172    4044        0.0     0.0\n",
       "200              Zimbabwe     261606    5652        0.0     0.0\n",
       "\n",
       "[201 rows x 5 columns]"
      ]
     },
     "execution_count": 107,
     "metadata": {},
     "output_type": "execute_result"
    }
   ],
   "source": [
    "result"
   ]
  },
  {
   "cell_type": "code",
   "execution_count": null,
   "id": "8254fdd6-1b4e-46c9-bb05-3eb4f28fe003",
   "metadata": {},
   "outputs": [],
   "source": []
  },
  {
   "cell_type": "markdown",
   "id": "f3d1f305-7c35-4816-b816-b98302fbf494",
   "metadata": {},
   "source": [
    "2. Write a Python program to get the latest country wise deaths cases of Novel Coronavirus (COVID-19)."
   ]
  },
  {
   "cell_type": "code",
   "execution_count": 108,
   "id": "1012d2c2-59da-4b2e-8696-bfe26e04c556",
   "metadata": {
    "scrolled": true
   },
   "outputs": [
    {
     "name": "stdout",
     "output_type": "stream",
     "text": [
      "<class 'pandas.core.frame.DataFrame'>\n",
      "RangeIndex: 302 entries, 0 to 301\n",
      "Data columns (total 8 columns):\n",
      " #   Column          Non-Null Count  Dtype  \n",
      "---  ------          --------------  -----  \n",
      " 0   Province/State  192 non-null    object \n",
      " 1   Country/Region  302 non-null    object \n",
      " 2   Last Update     302 non-null    object \n",
      " 3   Confirmed       302 non-null    int64  \n",
      " 4   Deaths          302 non-null    int64  \n",
      " 5   Recovered       302 non-null    int64  \n",
      " 6   Latitude        299 non-null    float64\n",
      " 7   Longitude       299 non-null    float64\n",
      "dtypes: float64(2), int64(3), object(3)\n",
      "memory usage: 19.0+ KB\n"
     ]
    }
   ],
   "source": [
    "data = pd.read_csv(\"https://raw.githubusercontent.com/CSSEGISandData/COVID-19/master/csse_covid_19_data/csse_covid_19_daily_reports/03-09-2020.csv\")  \n",
    "data.info()"
   ]
  },
  {
   "cell_type": "code",
   "execution_count": 109,
   "id": "c61b433a-bdc3-4b63-901e-a557276d4ba2",
   "metadata": {},
   "outputs": [],
   "source": [
    "result = data.groupby(\"Country/Region\")[[\"Confirmed\", \"Deaths\", \"Recovered\"]].sum().reset_index()\n",
    "result = data[data[\"Recovered\"]==0][[\"Country/Region\", \"Confirmed\", \"Deaths\", \"Recovered\"]]"
   ]
  },
  {
   "cell_type": "code",
   "execution_count": 110,
   "id": "2acae6a2-9a88-4281-b0bc-57434787f022",
   "metadata": {},
   "outputs": [
    {
     "data": {
      "text/html": [
       "<div>\n",
       "<style scoped>\n",
       "    .dataframe tbody tr th:only-of-type {\n",
       "        vertical-align: middle;\n",
       "    }\n",
       "\n",
       "    .dataframe tbody tr th {\n",
       "        vertical-align: top;\n",
       "    }\n",
       "\n",
       "    .dataframe thead th {\n",
       "        text-align: right;\n",
       "    }\n",
       "</style>\n",
       "<table border=\"1\" class=\"dataframe\">\n",
       "  <thead>\n",
       "    <tr style=\"text-align: right;\">\n",
       "      <th></th>\n",
       "      <th>Country/Region</th>\n",
       "      <th>Confirmed</th>\n",
       "      <th>Deaths</th>\n",
       "      <th>Recovered</th>\n",
       "    </tr>\n",
       "  </thead>\n",
       "  <tbody>\n",
       "    <tr>\n",
       "      <th>23</th>\n",
       "      <td>Netherlands</td>\n",
       "      <td>321</td>\n",
       "      <td>3</td>\n",
       "      <td>0</td>\n",
       "    </tr>\n",
       "    <tr>\n",
       "      <th>42</th>\n",
       "      <td>US</td>\n",
       "      <td>98</td>\n",
       "      <td>0</td>\n",
       "      <td>0</td>\n",
       "    </tr>\n",
       "    <tr>\n",
       "      <th>50</th>\n",
       "      <td>Greece</td>\n",
       "      <td>73</td>\n",
       "      <td>0</td>\n",
       "      <td>0</td>\n",
       "    </tr>\n",
       "    <tr>\n",
       "      <th>53</th>\n",
       "      <td>Iceland</td>\n",
       "      <td>58</td>\n",
       "      <td>0</td>\n",
       "      <td>0</td>\n",
       "    </tr>\n",
       "    <tr>\n",
       "      <th>58</th>\n",
       "      <td>US</td>\n",
       "      <td>45</td>\n",
       "      <td>0</td>\n",
       "      <td>0</td>\n",
       "    </tr>\n",
       "    <tr>\n",
       "      <th>...</th>\n",
       "      <td>...</td>\n",
       "      <td>...</td>\n",
       "      <td>...</td>\n",
       "      <td>...</td>\n",
       "    </tr>\n",
       "    <tr>\n",
       "      <th>254</th>\n",
       "      <td>US</td>\n",
       "      <td>1</td>\n",
       "      <td>0</td>\n",
       "      <td>0</td>\n",
       "    </tr>\n",
       "    <tr>\n",
       "      <th>255</th>\n",
       "      <td>US</td>\n",
       "      <td>1</td>\n",
       "      <td>0</td>\n",
       "      <td>0</td>\n",
       "    </tr>\n",
       "    <tr>\n",
       "      <th>256</th>\n",
       "      <td>US</td>\n",
       "      <td>1</td>\n",
       "      <td>0</td>\n",
       "      <td>0</td>\n",
       "    </tr>\n",
       "    <tr>\n",
       "      <th>257</th>\n",
       "      <td>Ukraine</td>\n",
       "      <td>1</td>\n",
       "      <td>0</td>\n",
       "      <td>0</td>\n",
       "    </tr>\n",
       "    <tr>\n",
       "      <th>258</th>\n",
       "      <td>Vatican City</td>\n",
       "      <td>1</td>\n",
       "      <td>0</td>\n",
       "      <td>0</td>\n",
       "    </tr>\n",
       "  </tbody>\n",
       "</table>\n",
       "<p>173 rows × 4 columns</p>\n",
       "</div>"
      ],
      "text/plain": [
       "    Country/Region  Confirmed  Deaths  Recovered\n",
       "23     Netherlands        321       3          0\n",
       "42              US         98       0          0\n",
       "50          Greece         73       0          0\n",
       "53         Iceland         58       0          0\n",
       "58              US         45       0          0\n",
       "..             ...        ...     ...        ...\n",
       "254             US          1       0          0\n",
       "255             US          1       0          0\n",
       "256             US          1       0          0\n",
       "257        Ukraine          1       0          0\n",
       "258   Vatican City          1       0          0\n",
       "\n",
       "[173 rows x 4 columns]"
      ]
     },
     "execution_count": 110,
     "metadata": {},
     "output_type": "execute_result"
    }
   ],
   "source": [
    "result[result[\"Confirmed\"] != 0]"
   ]
  },
  {
   "cell_type": "markdown",
   "id": "b28288bb-0825-49b5-ab33-fd618de1a35d",
   "metadata": {},
   "source": [
    "3. Write a Python program to create a plot (lines) of total deaths, confirmed, recovered and active cases Country wise where deaths greater than 150000."
   ]
  },
  {
   "cell_type": "code",
   "execution_count": 111,
   "id": "a618ef3d-1de4-442b-87c7-cced80afb3ba",
   "metadata": {},
   "outputs": [],
   "source": [
    "import matplotlib.pyplot as plt"
   ]
  },
  {
   "cell_type": "code",
   "execution_count": 112,
   "id": "f2b327b2-cb5f-4242-acb9-c79338770001",
   "metadata": {
    "scrolled": true
   },
   "outputs": [
    {
     "name": "stdout",
     "output_type": "stream",
     "text": [
      "<class 'pandas.core.frame.DataFrame'>\n",
      "RangeIndex: 4014 entries, 0 to 4013\n",
      "Data columns (total 14 columns):\n",
      " #   Column               Non-Null Count  Dtype  \n",
      "---  ------               --------------  -----  \n",
      " 0   FIPS                 3266 non-null   float64\n",
      " 1   Admin2               3271 non-null   object \n",
      " 2   Province_State       3835 non-null   object \n",
      " 3   Country_Region       4014 non-null   object \n",
      " 4   Last_Update          4014 non-null   object \n",
      " 5   Lat                  3924 non-null   float64\n",
      " 6   Long_                3924 non-null   float64\n",
      " 7   Confirmed            4014 non-null   int64  \n",
      " 8   Deaths               4014 non-null   int64  \n",
      " 9   Recovered            739 non-null    float64\n",
      " 10  Active               739 non-null    float64\n",
      " 11  Combined_Key         4014 non-null   object \n",
      " 12  Incident_Rate        3924 non-null   float64\n",
      " 13  Case_Fatality_Ratio  3968 non-null   float64\n",
      "dtypes: float64(7), int64(2), object(5)\n",
      "memory usage: 439.2+ KB\n"
     ]
    }
   ],
   "source": [
    "data = pd.read_csv(\"https://raw.githubusercontent.com/CSSEGISandData/COVID-19/master/csse_covid_19_data/csse_covid_19_daily_reports/03-09-2021.csv\")  \n",
    "data.info()"
   ]
  },
  {
   "cell_type": "code",
   "execution_count": 113,
   "id": "62e5d03b-9d1d-4fcc-b617-30fc4ca60225",
   "metadata": {},
   "outputs": [
    {
     "data": {
      "text/html": [
       "<div>\n",
       "<style scoped>\n",
       "    .dataframe tbody tr th:only-of-type {\n",
       "        vertical-align: middle;\n",
       "    }\n",
       "\n",
       "    .dataframe tbody tr th {\n",
       "        vertical-align: top;\n",
       "    }\n",
       "\n",
       "    .dataframe thead th {\n",
       "        text-align: right;\n",
       "    }\n",
       "</style>\n",
       "<table border=\"1\" class=\"dataframe\">\n",
       "  <thead>\n",
       "    <tr style=\"text-align: right;\">\n",
       "      <th></th>\n",
       "      <th>Country_Region</th>\n",
       "      <th>Confirmed</th>\n",
       "      <th>Deaths</th>\n",
       "      <th>Recovered</th>\n",
       "      <th>Active</th>\n",
       "    </tr>\n",
       "  </thead>\n",
       "  <tbody>\n",
       "    <tr>\n",
       "      <th>186</th>\n",
       "      <td>US</td>\n",
       "      <td>29278676</td>\n",
       "      <td>525818</td>\n",
       "      <td>0.0</td>\n",
       "      <td>509.0</td>\n",
       "    </tr>\n",
       "    <tr>\n",
       "      <th>24</th>\n",
       "      <td>Brazil</td>\n",
       "      <td>11136064</td>\n",
       "      <td>268759</td>\n",
       "      <td>9878566.0</td>\n",
       "      <td>988739.0</td>\n",
       "    </tr>\n",
       "    <tr>\n",
       "      <th>117</th>\n",
       "      <td>Mexico</td>\n",
       "      <td>2137884</td>\n",
       "      <td>191789</td>\n",
       "      <td>1681336.0</td>\n",
       "      <td>264759.0</td>\n",
       "    </tr>\n",
       "    <tr>\n",
       "      <th>80</th>\n",
       "      <td>India</td>\n",
       "      <td>11262707</td>\n",
       "      <td>158063</td>\n",
       "      <td>10920046.0</td>\n",
       "      <td>184598.0</td>\n",
       "    </tr>\n",
       "    <tr>\n",
       "      <th>190</th>\n",
       "      <td>United Kingdom</td>\n",
       "      <td>4241855</td>\n",
       "      <td>150643</td>\n",
       "      <td>11868.0</td>\n",
       "      <td>4079344.0</td>\n",
       "    </tr>\n",
       "  </tbody>\n",
       "</table>\n",
       "</div>"
      ],
      "text/plain": [
       "     Country_Region  Confirmed  Deaths   Recovered     Active\n",
       "186              US   29278676  525818         0.0      509.0\n",
       "24           Brazil   11136064  268759   9878566.0   988739.0\n",
       "117          Mexico    2137884  191789   1681336.0   264759.0\n",
       "80            India   11262707  158063  10920046.0   184598.0\n",
       "190  United Kingdom    4241855  150643     11868.0  4079344.0"
      ]
     },
     "execution_count": 113,
     "metadata": {},
     "output_type": "execute_result"
    }
   ],
   "source": [
    "data[\"Active\"] = data[\"Confirmed\"] - data[\"Deaths\"] - data[\"Recovered\"]\n",
    "res_data = data.groupby(\"Country_Region\")[[\"Confirmed\", \"Deaths\", \"Recovered\", \"Active\"]].sum().reset_index()\n",
    "res_data = res_data.sort_values(by=\"Deaths\", ascending=False)\n",
    "res_data = res_data[res_data[\"Deaths\"]>150000]\n",
    "res_data"
   ]
  },
  {
   "cell_type": "code",
   "execution_count": 114,
   "id": "ed8f6a11-4e3d-442e-a767-60ff55b40bc3",
   "metadata": {},
   "outputs": [
    {
     "data": {
      "image/png": "[encoded data removed]",
      "text/plain": [
       "<Figure size 1500x500 with 1 Axes>"
      ]
     },
     "metadata": {},
     "output_type": "display_data"
    }
   ],
   "source": [
    "plt.figure(figsize=(15, 5))\n",
    "plt.plot(res_data['Country_Region'], res_data['Deaths'],color='red')\n",
    "plt.plot(res_data['Country_Region'], res_data['Confirmed'],color='green')\n",
    "plt.plot(res_data['Country_Region'], res_data['Recovered'], color='blue')\n",
    "plt.plot(res_data['Country_Region'], res_data['Active'], color='black')\n",
    " \n",
    "plt.title('Total Deaths(>150000), Confirmed, Recovered and Active Cases by Country')\n",
    "plt.show()"
   ]
  },
  {
   "cell_type": "code",
   "execution_count": null,
   "id": "fc8dd133-0a99-4c81-8b8c-6b5d37bff617",
   "metadata": {},
   "outputs": [],
   "source": []
  }
 ],
 "metadata": {
  "kernelspec": {
   "display_name": "Python 3 (ipykernel)",
   "language": "python",
   "name": "python3"
  },
  "language_info": {
   "codemirror_mode": {
    "name": "ipython",
    "version": 3
   },
   "file_extension": ".py",
   "mimetype": "text/x-python",
   "name": "python",
   "nbconvert_exporter": "python",
   "pygments_lexer": "ipython3",
   "version": "3.12.7"
  }
 },
 "nbformat": 4,
 "nbformat_minor": 5
}

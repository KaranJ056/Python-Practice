{
 "cells": [
  {
   "cell_type": "markdown",
   "id": "9ee6637e-4711-4283-9709-ed14fc27362a",
   "metadata": {},
   "source": [
    "### Itertools in Python"
   ]
  },
  {
   "cell_type": "markdown",
   "id": "50411a3e-2499-4eb6-b05e-7e09eb61f697",
   "metadata": {},
   "source": [
    "<code>\n",
    "The itertools module in Python is a standard library module that provides a collection of fast, memory-efficient tools for working with iterators. These tools are designed to create complex iterators, perform combinatorics, and manipulate iterable data efficiently.\n",
    "\n",
    "Types of iterators provided by itertools:\n",
    "1. Infinite Iterators\n",
    "2. Combinatoric Iterators\n",
    "3. Terminatory Iterators\n",
    "<code>"
   ]
  },
  {
   "cell_type": "markdown",
   "id": "0294471a-7bfd-4df2-b45b-a3330bdd5e62",
   "metadata": {},
   "source": [
    "<code>\n",
    "1. Infinite Iterators\n",
    "\n",
    "Main functions:\n",
    "1. count(start, step)\n",
    "2. cycle(iterable)\n",
    "3. repeat(val, num_of_times)\n",
    "<code>"
   ]
  },
  {
   "cell_type": "code",
   "execution_count": null,
   "id": "99bf9783-c585-4eb9-922b-fe8eae4acdf3",
   "metadata": {},
   "outputs": [],
   "source": [
    "# Example:\n",
    "from itertools import count, cycle, repeat\n",
    "\n",
    "for i in count(0, 5):\n",
    "    if i > 40:\n",
    "        break\n",
    "    print(i, end=\" \")\n",
    "\n",
    "print()\n",
    "cnt = 0\n",
    "for i in cycle(\"ABC\"):\n",
    "    if cnt>10:\n",
    "        break\n",
    "    print(i, end=\" \")\n",
    "    cnt += 1\n",
    "print()\n",
    "print(list(repeat(\"ABC\", 10)))"
   ]
  },
  {
   "cell_type": "code",
   "execution_count": null,
   "id": "1701dac0-e1a6-4aef-9e59-b2f49a57088e",
   "metadata": {},
   "outputs": [],
   "source": []
  },
  {
   "cell_type": "markdown",
   "id": "5d5ff904-7d1d-4458-9055-3087fd745198",
   "metadata": {},
   "source": [
    "<code>\n",
    "2. Combinatoric Iterators\n",
    "\n",
    "Main functions:\n",
    "1. product(iterable1, iterable2) => cartesian product of 2 iterables\n",
    "2. permutations(iterable, r=None) => All possible ordering of iterable\n",
    "3. combinations(iterable, r) => All possible combinations of r elements from the iterable (order doesn't matter)\n",
    "4. combinations_with_replacement(iterable, r) => Combinations with repeated elements.\n",
    "<code>"
   ]
  },
  {
   "cell_type": "markdown",
   "id": "f63bc9bd-1602-47d9-9179-058431968f10",
   "metadata": {},
   "source": [
    "<code>\n",
    "3. Terminatory Iterators\n",
    "\n",
    "Main Functions:\n",
    "1. accumulate(iterable, func) => If no function is passed, addition takes place by default.\n",
    "2. chain(iterable1, iterable2, iterable3, ....)\n",
    "3. compress(iterable, selector) => This iterator selectively picks the values to print from the passed container according to the boolean list value passed as other arguments. The arguments corresponding to boolean true are printed else all are skipped.\n",
    "4. islice(iterable, start, stop, step)\n",
    "<code>"
   ]
  },
  {
   "cell_type": "code",
   "execution_count": null,
   "id": "b2df40bf-dd2d-4d78-9527-0378cee128b0",
   "metadata": {},
   "outputs": [],
   "source": []
  }
 ],
 "metadata": {
  "kernelspec": {
   "display_name": "Python 3 (ipykernel)",
   "language": "python",
   "name": "python3"
  },
  "language_info": {
   "codemirror_mode": {
    "name": "ipython",
    "version": 3
   },
   "file_extension": ".py",
   "mimetype": "text/x-python",
   "name": "python",
   "nbconvert_exporter": "python",
   "pygments_lexer": "ipython3",
   "version": "3.12.7"
  }
 },
 "nbformat": 4,
 "nbformat_minor": 5
}

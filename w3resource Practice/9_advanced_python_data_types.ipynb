{
 "cells": [
  {
   "cell_type": "markdown",
   "id": "41f7cfea-6f1a-4207-ae1e-27e826e212dc",
   "metadata": {},
   "source": [
    "### Advanced Python Data Types Exercises\n",
    "##### https://www.w3resource.com/python-exercises/extended-data-types/index_boolean.php"
   ]
  },
  {
   "cell_type": "markdown",
   "id": "13edf411-5dd3-4304-aefb-f62496b0eaee",
   "metadata": {},
   "source": [
    "### Boolean"
   ]
  },
  {
   "cell_type": "raw",
   "id": "0e2f7206-6f4a-42cc-b9c6-21a69a742634",
   "metadata": {},
   "source": [
    "1. Write a Python program that checks a simple authentication system. The program verifies the provided username and password against predefined usernames and passwords by using boolean checks."
   ]
  },
  {
   "cell_type": "code",
   "execution_count": 4,
   "id": "c3c42c7d-6a78-482b-9a4c-98a5d0dbe3ae",
   "metadata": {},
   "outputs": [],
   "source": [
    "CREDENTIALS = {\"username\": \"useragent123@gmail.com\", \"password\": \"123@ndfs%00\"}\n",
    "\n",
    "def authenticate(username, password):\n",
    "    return username == CREDENTIALS[\"username\"] and password == CREDENTIALS[\"password\"]"
   ]
  },
  {
   "cell_type": "code",
   "execution_count": 5,
   "id": "8e3511a0-c4ec-45c4-8e70-cfa5cfc5cd9a",
   "metadata": {},
   "outputs": [
    {
     "data": {
      "text/plain": [
       "False"
      ]
     },
     "execution_count": 5,
     "metadata": {},
     "output_type": "execute_result"
    }
   ],
   "source": [
    "authenticate(\"kaajkenf@gmail.com\", \"fdasdf\")"
   ]
  },
  {
   "cell_type": "code",
   "execution_count": 6,
   "id": "a1adeec9-760e-4da9-990f-1f8f644a6f38",
   "metadata": {},
   "outputs": [
    {
     "data": {
      "text/plain": [
       "True"
      ]
     },
     "execution_count": 6,
     "metadata": {},
     "output_type": "execute_result"
    }
   ],
   "source": [
    "authenticate(\"useragent123@gmail.com\", \"123@ndfs%00\")"
   ]
  },
  {
   "cell_type": "code",
   "execution_count": null,
   "id": "03e2803c-2278-45ac-849c-675569c13459",
   "metadata": {},
   "outputs": [],
   "source": []
  },
  {
   "cell_type": "markdown",
   "id": "8706adad-6e0c-43ca-b39d-c9264da8698f",
   "metadata": {},
   "source": [
    "### None"
   ]
  },
  {
   "cell_type": "raw",
   "id": "99ba2e67-129a-4f38-891c-e8867bb0bf00",
   "metadata": {},
   "source": [
    "1. Write a Python function that replaces all occurrences of a substring in a string with another substring. Returns None if the original string is empty."
   ]
  },
  {
   "cell_type": "code",
   "execution_count": 7,
   "id": "0bae1949-5758-4e6b-a02f-73b3c1661ef9",
   "metadata": {},
   "outputs": [],
   "source": [
    "def replace_substring(sub_string, another_string, string):\n",
    "    if not string:\n",
    "        return None\n",
    "    return string.replace(sub_string, another_string)"
   ]
  },
  {
   "cell_type": "code",
   "execution_count": 8,
   "id": "700e7f6b-3233-48ef-bdd0-b190be1c51a6",
   "metadata": {},
   "outputs": [
    {
     "data": {
      "text/plain": [
       "'BBBBBB'"
      ]
     },
     "execution_count": 8,
     "metadata": {},
     "output_type": "execute_result"
    }
   ],
   "source": [
    "replace_substring(\"A\", \"B\", \"AB\"*3)"
   ]
  },
  {
   "cell_type": "code",
   "execution_count": null,
   "id": "1f2aacc7-5c26-41a0-a409-fd626baa2d01",
   "metadata": {},
   "outputs": [],
   "source": []
  },
  {
   "cell_type": "markdown",
   "id": "de30ca2d-113d-4b32-8453-d052415af1a7",
   "metadata": {},
   "source": [
    "### Bytes and Byte array"
   ]
  },
  {
   "cell_type": "raw",
   "id": "f6efb1a4-c274-4616-8786-ca1db8e88421",
   "metadata": {},
   "source": [
    "1. Write a Python program to convert a given string to bytes using different encodings like UTF-8, UTF-16, ASCII etc."
   ]
  },
  {
   "cell_type": "code",
   "execution_count": 10,
   "id": "b3352f66-9666-4e89-9aa5-102a4299f206",
   "metadata": {},
   "outputs": [
    {
     "name": "stdout",
     "output_type": "stream",
     "text": [
      "Original string: Python is fun\n",
      "Original string in UTF-8: b'Python is fun'\n",
      "Original string in UTF-16: b'\\xff\\xfeP\\x00y\\x00t\\x00h\\x00o\\x00n\\x00 \\x00i\\x00s\\x00 \\x00f\\x00u\\x00n\\x00'\n",
      "Original string in ASCII: b'Python is fun'\n"
     ]
    }
   ],
   "source": [
    "def convert_to_difF_encoding(str, encoding_style):\n",
    "    try:\n",
    "        converted_str = str.encode(encoding_style)\n",
    "        return converted_str\n",
    "    except error as e:\n",
    "        print(\"Error : {e}\")\n",
    "        return None\n",
    "\n",
    "txt = \"Python is fun\"\n",
    "\n",
    "print(f\"Original string: {txt}\")\n",
    "print(f\"Original string in UTF-8: {convert_to_difF_encoding(txt, \"utf-8\")}\")\n",
    "print(f\"Original string in UTF-16: {convert_to_difF_encoding(txt, \"utf-16\")}\")\n",
    "print(f\"Original string in ASCII: {convert_to_difF_encoding(txt, \"ascii\")}\")"
   ]
  },
  {
   "cell_type": "code",
   "execution_count": null,
   "id": "65cdf569-bec2-45de-9b95-22e3989e1bb6",
   "metadata": {},
   "outputs": [],
   "source": []
  },
  {
   "cell_type": "raw",
   "id": "96943508-7fd8-490c-988b-5ac7812378f8",
   "metadata": {},
   "source": [
    "10. Write a Python function that converts a bytearray to a bytes object."
   ]
  },
  {
   "cell_type": "code",
   "execution_count": 14,
   "id": "573bad89-b8ca-40cb-b91f-fdd1a35f55dd",
   "metadata": {},
   "outputs": [
    {
     "name": "stdout",
     "output_type": "stream",
     "text": [
      "bytearray(b'\\x01\\x02\\x03\\x04\\x05\\x06')\n",
      "b'\\x01\\x02\\x03\\x04\\x05\\x06'\n",
      "\u0001\u0002\u0003\u0004\u0005\u0006\n"
     ]
    }
   ],
   "source": [
    "def bytes_array_to_bytes(bytearray_obj):\n",
    "    return bytes(bytearray_obj)\n",
    "\n",
    "bytes_array = bytearray([1,2,3,4,5,6])\n",
    "print(bytes_array)\n",
    "bytes_obj = bytes_array_to_bytes(bytes_array)\n",
    "print(bytes_obj)\n",
    "try:\n",
    "    txt = bytes_obj.decode('utf-8')\n",
    "    print(txt)\n",
    "except error as e:\n",
    "    print(f\"Error Occured: {e}\")"
   ]
  },
  {
   "cell_type": "code",
   "execution_count": null,
   "id": "3f775626-effe-4bab-9720-94423feae001",
   "metadata": {},
   "outputs": [],
   "source": []
  },
  {
   "cell_type": "markdown",
   "id": "9e84836c-b9ae-4403-a18a-176f9235e9de",
   "metadata": {},
   "source": [
    "### Memory-view"
   ]
  },
  {
   "cell_type": "raw",
   "id": "a1482170-0bbe-4a44-9af8-5682b9e9b5c2",
   "metadata": {},
   "source": [
    "1. Write a Python program that creates a memory view on a bytes object and prints the length and first 8 bytes."
   ]
  },
  {
   "cell_type": "code",
   "execution_count": 28,
   "id": "26457774-faa3-435f-a7bd-4010ec9923b0",
   "metadata": {},
   "outputs": [
    {
     "name": "stdout",
     "output_type": "stream",
     "text": [
      "b'\\x01\\x02\\x03\\x04\\x05'\n",
      "Total bytes of mv object : 5\n",
      "First 8 bytes of mv object : b'\\x01\\x02\\x03\\x04\\x05'\n"
     ]
    }
   ],
   "source": [
    "bytes_obj = bytes(b\"Python Memory View\")\n",
    "bytes_array = bytearray([1, 2, 3, 4, 5])\n",
    "\n",
    "# mv = memoryview(bytes_obj)\n",
    "mv = memoryview(bytes_array)\n",
    "\n",
    "print(str(mv.tobytes()))\n",
    "print(f\"Total bytes of mv object : {mv.nbytes}\")\n",
    "print(f\"First 8 bytes of mv object : {mv[:8].tobytes()}\")"
   ]
  },
  {
   "cell_type": "code",
   "execution_count": 29,
   "id": "f13fe256-4d3c-45f7-9b1b-b94357009348",
   "metadata": {},
   "outputs": [
    {
     "data": {
      "text/plain": [
       "1"
      ]
     },
     "execution_count": 29,
     "metadata": {},
     "output_type": "execute_result"
    }
   ],
   "source": [
    "mv.itemsize"
   ]
  },
  {
   "cell_type": "code",
   "execution_count": null,
   "id": "28dde4ff-1952-4857-9030-465de4ce1ad0",
   "metadata": {},
   "outputs": [],
   "source": []
  },
  {
   "cell_type": "markdown",
   "id": "cf1ea3e0-e20a-4e06-bcdf-d38ede941925",
   "metadata": {},
   "source": [
    "### Frozenset in Python"
   ]
  },
  {
   "cell_type": "raw",
   "id": "959bea54-045b-4c8f-a420-f6c564f4aff2",
   "metadata": {},
   "source": [
    "1. Write a Python program that performs common set operations like union, intersection, and difference of two frozensets."
   ]
  },
  {
   "cell_type": "code",
   "execution_count": 34,
   "id": "b89baddb-625d-4d5f-9048-debd9a3a193d",
   "metadata": {},
   "outputs": [
    {
     "name": "stdout",
     "output_type": "stream",
     "text": [
      "frozenset({1, 2, 3, 8, 12, 45})\n",
      "frozenset({32, 2, 4, 6, 7, 8, 9, 21})\n",
      "\n",
      "Difference b/w 2 fzs\n",
      "frozenset({1, 3, 12, 45})\n",
      "\n",
      "Union b/w 2 fzs\n",
      "frozenset({32, 1, 2, 3, 4, 6, 7, 8, 9, 12, 45, 21})\n",
      "\n",
      "Intersection b/w 2 fzs\n",
      "frozenset({8, 2})\n"
     ]
    }
   ],
   "source": [
    "fz1 = frozenset([1,2,3,3,2,3,45,8,12])\n",
    "fz2 = frozenset([6,32,7,21,6,8,9,4,2,6])\n",
    "\n",
    "print(fz1)\n",
    "print(fz2)\n",
    "\n",
    "print(\"\\nDifference b/w 2 fzs\")\n",
    "print(fz1-fz2)\n",
    "print(\"\\nUnion b/w 2 fzs\")\n",
    "print(fz1.union(fz2))\n",
    "print(\"\\nIntersection b/w 2 fzs\")\n",
    "print(fz1.intersection(fz2))"
   ]
  },
  {
   "cell_type": "code",
   "execution_count": null,
   "id": "0a309fba-ba3c-45b7-b761-b7910657aa61",
   "metadata": {},
   "outputs": [],
   "source": []
  },
  {
   "cell_type": "raw",
   "id": "fc2aeb94-b68b-4ef8-872a-2030fc2f1c8f",
   "metadata": {},
   "source": [
    "2. Write a Python program that generates a frozenset containing the squares of all odd numbers from 1 to 15 using set comprehension."
   ]
  },
  {
   "cell_type": "code",
   "execution_count": 37,
   "id": "3f796f0a-68c6-4985-9163-a20d9cdd6300",
   "metadata": {},
   "outputs": [
    {
     "data": {
      "text/plain": [
       "frozenset({1, 9, 25, 49, 81, 121, 169, 225})"
      ]
     },
     "execution_count": 37,
     "metadata": {},
     "output_type": "execute_result"
    }
   ],
   "source": [
    "frozenset({num**2 for num in range(16) if num%2 != 0})"
   ]
  },
  {
   "cell_type": "code",
   "execution_count": null,
   "id": "d4b89da9-b8cb-4b82-ad6d-950690f55e43",
   "metadata": {},
   "outputs": [],
   "source": []
  },
  {
   "cell_type": "markdown",
   "id": "b038d067-c813-4d4e-8248-69d34101a155",
   "metadata": {},
   "source": [
    "### NamedTuple"
   ]
  },
  {
   "cell_type": "raw",
   "id": "b386912b-bf8e-42ab-81bc-7e5f5f9a60eb",
   "metadata": {},
   "source": [
    "1. Write a Python program that defines a NamedTuple called Employee with fields like name, age, and country. Print each employee's name and country."
   ]
  },
  {
   "cell_type": "code",
   "execution_count": 39,
   "id": "9e9522dc-2f5b-4a22-b1c4-fe00d440eb96",
   "metadata": {},
   "outputs": [],
   "source": [
    "from collections import namedtuple"
   ]
  },
  {
   "cell_type": "code",
   "execution_count": 45,
   "id": "24f452bf-9fc2-4405-b600-abe45555583c",
   "metadata": {},
   "outputs": [],
   "source": [
    "Employee = namedtuple(\"Employee\", (\"name\", \"age\", \"city\", \"country\"))"
   ]
  },
  {
   "cell_type": "code",
   "execution_count": 46,
   "id": "7bedd73c-a2d1-42c3-90be-2d2621dd7542",
   "metadata": {},
   "outputs": [],
   "source": [
    "e1 = Employee(name=\"Karan\", age=\"20\", city=\"Surat\", country=\"India\")\n",
    "e2 = Employee(name=\"Deep\", age=\"21\", city=\"Anand\", country=\"India\")\n",
    "e3 = Employee(name=\"Aditya\", age=\"22\", city=\"Ambaji\", country=\"India\")"
   ]
  },
  {
   "cell_type": "code",
   "execution_count": 49,
   "id": "38c8ef60-b031-49cb-88f1-3ee5d5335236",
   "metadata": {},
   "outputs": [
    {
     "name": "stdout",
     "output_type": "stream",
     "text": [
      "Name: Karan, country: India\n",
      "Name: Deep, country: India\n",
      "Name: Aditya, country: India\n"
     ]
    }
   ],
   "source": [
    "employees_list = [e1, e2, e3]\n",
    "\n",
    "for employee in employees_list:\n",
    "    print(f\"Name: {employee.name}, country: {employee.country}\")"
   ]
  },
  {
   "cell_type": "code",
   "execution_count": null,
   "id": "1ecdf0da-d922-4003-9912-cccd8d0e7149",
   "metadata": {},
   "outputs": [],
   "source": []
  },
  {
   "cell_type": "raw",
   "id": "469f41a8-026e-413b-a2c9-b3ca80741419",
   "metadata": {},
   "source": [
    "2. Write a Python program that defines a NamedTuple named \"Triangle\" with fields 'side1', 'side2', and 'side3'. Now write a function that takes a \"Triangle\" NamedTuple as input and calculates its area."
   ]
  },
  {
   "cell_type": "code",
   "execution_count": 63,
   "id": "a268d2af-9810-4796-b2f8-576698a4edd9",
   "metadata": {},
   "outputs": [],
   "source": [
    "Triangle = namedtuple(\"Triangle\", [\"side1\", \"side2\", \"side3\"])\n",
    "\n",
    "def calculate_area():\n",
    "    sides = []\n",
    "    for i in range(3):\n",
    "        try:\n",
    "            side = int(input(f\"Please enter value of side {i+1}\"))\n",
    "            sides.append(side)\n",
    "        except:\n",
    "            print(f\"An error occurred\")\n",
    "    triangle_obj = Triangle(side1=sides[0], side2=sides[1], side3=sides[2])\n",
    "    print(f\"Area of a triabgle with sides {triangle_obj.side1} {triangle_obj.side2} {triangle_obj.side3}: \")\n",
    "    \n",
    "    S = triangle_obj.side1 + triangle_obj.side2 + triangle_obj.side3 / 2\n",
    "    area = (S * (S-triangle_obj.side1) * (S-triangle_obj.side2) * (S-triangle_obj.side3)) ** 0.5\n",
    "    print(f\"{area}\")"
   ]
  },
  {
   "cell_type": "code",
   "execution_count": 64,
   "id": "2152e461-a7e8-4c1b-bd3f-4fe575ad04ce",
   "metadata": {},
   "outputs": [
    {
     "name": "stdin",
     "output_type": "stream",
     "text": [
      "Please enter value of side 1 1\n",
      "Please enter value of side 2 2\n",
      "Please enter value of side 3 3\n"
     ]
    },
    {
     "name": "stdout",
     "output_type": "stream",
     "text": [
      "Area of a triabgle with sides 1 2 3: \n",
      "7.685213074469699\n"
     ]
    }
   ],
   "source": [
    "calculate_area()"
   ]
  },
  {
   "cell_type": "code",
   "execution_count": null,
   "id": "0469645d-ad44-44bc-a221-aaa932516e24",
   "metadata": {},
   "outputs": [],
   "source": []
  },
  {
   "cell_type": "markdown",
   "id": "bdab8057-d41a-47b8-9fa0-49e9aaca63b4",
   "metadata": {},
   "source": [
    "### OrderedDict"
   ]
  },
  {
   "cell_type": "raw",
   "id": "fd665e2d-e65c-4bca-bdf6-5d525b49cf1a",
   "metadata": {},
   "source": [
    "1. Write a Python function that takes a list of words and returns an OrderedDict where keys are the words and values are the lengths of the words."
   ]
  },
  {
   "cell_type": "code",
   "execution_count": 71,
   "id": "4f7738be-c444-4ee3-967c-d646cfa3c323",
   "metadata": {},
   "outputs": [
    {
     "name": "stdout",
     "output_type": "stream",
     "text": [
      "OrderedDict({'apple': 5, 'banana': 6, 'grapes': 6, 'orange': 6})\n"
     ]
    }
   ],
   "source": [
    "from collections import OrderedDict\n",
    "\n",
    "lst = [\"apple\", \"banana\", \"grapes\", \"orange\"]\n",
    "tupled_list = [(fruit, len(fruit)) for fruit in lst]\n",
    "\n",
    "dct = OrderedDict(tupled_list)\n",
    "print(dct)"
   ]
  },
  {
   "cell_type": "code",
   "execution_count": null,
   "id": "a745a069-25a8-49a5-88ae-efc92f2f842a",
   "metadata": {},
   "outputs": [],
   "source": []
  },
  {
   "cell_type": "markdown",
   "id": "c866a827-7d7c-4032-aa18-1fd9561c89e1",
   "metadata": {},
   "source": [
    "### Counter"
   ]
  },
  {
   "cell_type": "raw",
   "id": "4b5be8e5-4731-4e1f-861f-3591f9c98c4d",
   "metadata": {},
   "source": [
    "1. Write a Python program that creates a 'Counter' for a list of words and removes all items with a count less than a certain value.."
   ]
  },
  {
   "cell_type": "code",
   "execution_count": 72,
   "id": "a6423271-4a7f-45d1-899d-683e57d09229",
   "metadata": {},
   "outputs": [],
   "source": [
    "from collections import Counter"
   ]
  },
  {
   "cell_type": "code",
   "execution_count": 76,
   "id": "c1b94d22-32fa-414a-a6c7-33b6dc326b38",
   "metadata": {},
   "outputs": [
    {
     "data": {
      "text/plain": [
       "{'Red': 3, 'Black': 2, 'Pink': 2}"
      ]
     },
     "execution_count": 76,
     "metadata": {},
     "output_type": "execute_result"
    }
   ],
   "source": [
    "colors = [\"Red\", \"Green\", \"Black\", \"Black\", \"Red\", \"red\", \"Orange\", \"Pink\", \"Pink\", \"Red\", \"White\"]\n",
    "\n",
    "color_cnt = Counter(colors)\n",
    "\n",
    "min_val = 2\n",
    "filtered_colors = {word: count for word, count in color_cnt.items() if count >= min_val}\n",
    "\n",
    "filtered_colors"
   ]
  },
  {
   "cell_type": "code",
   "execution_count": null,
   "id": "41664e32-8c3f-496c-9b49-773538e5ae47",
   "metadata": {},
   "outputs": [],
   "source": []
  },
  {
   "cell_type": "markdown",
   "id": "cc2de645-677e-406b-b198-bb14cc8e032e",
   "metadata": {},
   "source": [
    "### Ellipsis(...)"
   ]
  },
  {
   "cell_type": "raw",
   "id": "7fc93629-19c0-4604-9012-abb527c564cb",
   "metadata": {},
   "source": [
    "1. Write a Python program that creates a custom class with an 'init' method. Use 'ellipsis' to indicate that some attributes may be added dynamically."
   ]
  },
  {
   "cell_type": "code",
   "execution_count": 91,
   "id": "8d77d065-8333-4f33-b8e9-991102b099e9",
   "metadata": {},
   "outputs": [],
   "source": [
    "class Example:\n",
    "    def __init__(self, a, b, c=...):\n",
    "        self.a = a\n",
    "        self.b = b\n",
    "        self.lst = [c]\n",
    "\n",
    "    def __str__(self):\n",
    "        return f\"{self.a} {self.b} {self.lst}\""
   ]
  },
  {
   "cell_type": "code",
   "execution_count": 92,
   "id": "eddb37a9-a413-46f7-91ea-f8a7c82582c8",
   "metadata": {},
   "outputs": [],
   "source": [
    "ex1 = Example(1,2)\n",
    "ex2 = Example(1,2,3)\n",
    "ex3 = Example(1,2,\"Karan\")"
   ]
  },
  {
   "cell_type": "code",
   "execution_count": 94,
   "id": "3413b796-068f-4606-82fa-407e8bb5c16f",
   "metadata": {},
   "outputs": [
    {
     "name": "stdout",
     "output_type": "stream",
     "text": [
      "1 2 [Ellipsis]\n",
      "1 2 [3]\n",
      "1 2 ['Karan']\n"
     ]
    }
   ],
   "source": [
    "print(ex1)\n",
    "print(ex2)\n",
    "print(ex3)"
   ]
  },
  {
   "cell_type": "code",
   "execution_count": null,
   "id": "d79836e2-7175-4d3d-8069-297f6a0b9291",
   "metadata": {},
   "outputs": [],
   "source": []
  }
 ],
 "metadata": {
  "kernelspec": {
   "display_name": "Python 3 (ipykernel)",
   "language": "python",
   "name": "python3"
  },
  "language_info": {
   "codemirror_mode": {
    "name": "ipython",
    "version": 3
   },
   "file_extension": ".py",
   "mimetype": "text/x-python",
   "name": "python",
   "nbconvert_exporter": "python",
   "pygments_lexer": "ipython3",
   "version": "3.12.7"
  }
 },
 "nbformat": 4,
 "nbformat_minor": 5
}

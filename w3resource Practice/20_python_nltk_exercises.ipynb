{
 "cells": [
  {
   "cell_type": "markdown",
   "id": "5730ddde-a5ab-4464-a36f-8bf8253d28df",
   "metadata": {},
   "source": [
    "### Python NLTK (Basics and Exercises)\n",
    "##### https://www.w3resource.com/python-exercises/nltk/index.php"
   ]
  },
  {
   "cell_type": "code",
   "execution_count": 1,
   "id": "2c67d7b3-5adb-4e32-9a84-8cc42c7c05af",
   "metadata": {
    "scrolled": true
   },
   "outputs": [
    {
     "name": "stdout",
     "output_type": "stream",
     "text": [
      "Requirement already satisfied: nltk in c:\\users\\karanjjoshi\\anaconda3\\lib\\site-packages (3.9.1)\n",
      "Requirement already satisfied: click in c:\\users\\karanjjoshi\\anaconda3\\lib\\site-packages (from nltk) (8.1.7)\n",
      "Requirement already satisfied: joblib in c:\\users\\karanjjoshi\\anaconda3\\lib\\site-packages (from nltk) (1.4.2)\n",
      "Requirement already satisfied: regex>=2021.8.3 in c:\\users\\karanjjoshi\\anaconda3\\lib\\site-packages (from nltk) (2024.9.11)\n",
      "Requirement already satisfied: tqdm in c:\\users\\karanjjoshi\\anaconda3\\lib\\site-packages (from nltk) (4.66.5)\n",
      "Requirement already satisfied: colorama in c:\\users\\karanjjoshi\\anaconda3\\lib\\site-packages (from click->nltk) (0.4.6)\n"
     ]
    }
   ],
   "source": [
    "!pip install nltk"
   ]
  },
  {
   "cell_type": "code",
   "execution_count": 1,
   "id": "93de9b32-0dc8-458b-8cf8-1a4c51dba654",
   "metadata": {
    "scrolled": true
   },
   "outputs": [
    {
     "name": "stderr",
     "output_type": "stream",
     "text": [
      "[nltk_data] Downloading package punkt_tab to\n",
      "[nltk_data]     C:\\Users\\KaranJJoshi\\AppData\\Roaming\\nltk_data...\n",
      "[nltk_data]   Package punkt_tab is already up-to-date!\n",
      "[nltk_data] Downloading package stopwords to\n",
      "[nltk_data]     C:\\Users\\KaranJJoshi\\AppData\\Roaming\\nltk_data...\n",
      "[nltk_data]   Package stopwords is already up-to-date!\n",
      "[nltk_data] Downloading package wordnet to\n",
      "[nltk_data]     C:\\Users\\KaranJJoshi\\AppData\\Roaming\\nltk_data...\n",
      "[nltk_data]   Package wordnet is already up-to-date!\n"
     ]
    },
    {
     "data": {
      "text/plain": [
       "True"
      ]
     },
     "execution_count": 1,
     "metadata": {},
     "output_type": "execute_result"
    }
   ],
   "source": [
    "# import nltk\n",
    "# nltk.download('all')\n",
    "import nltk\n",
    "nltk.download('punkt_tab')\n",
    "nltk.download('stopwords')\n",
    "nltk.download('wordnet')"
   ]
  },
  {
   "cell_type": "markdown",
   "id": "c45b778c-765e-4643-8497-d55412a1442b",
   "metadata": {},
   "source": [
    "### Tokenization"
   ]
  },
  {
   "cell_type": "code",
   "execution_count": 8,
   "id": "65ff26c5-a8d1-4e68-b654-06b6e5c7362f",
   "metadata": {},
   "outputs": [
    {
     "name": "stdout",
     "output_type": "stream",
     "text": [
      "Word Tokenization: \n",
      "['Hello', '.', 'How', 'are', 'you', '?', 'Hope', 'you', 'are', 'fine', '.']\n",
      "\n",
      "Sentance Tokenization: \n",
      "['Hello.', 'How are you?', 'Hope you are fine.']\n"
     ]
    }
   ],
   "source": [
    "# 1. Tokenization\n",
    "from nltk import word_tokenize, sent_tokenize \n",
    "\n",
    "text = \"Hello. How are you? Hope you are fine.\"\n",
    "print(f\"Word Tokenization: \")\n",
    "print(word_tokenize(text))\n",
    "print(f\"\\nSentance Tokenization: \")\n",
    "print(sent_tokenize(text))"
   ]
  },
  {
   "cell_type": "code",
   "execution_count": 9,
   "id": "a39a1c14-59db-495c-bd27-e6e8b67ed483",
   "metadata": {},
   "outputs": [
    {
     "name": "stdout",
     "output_type": "stream",
     "text": [
      "Original String: \n",
      "\n",
      "Bonjour, ceci est une chaîne de test en français pour la tokenisation\n",
      "\n",
      "Text in word tokenized: \n",
      "['Bonjour', ',', 'ceci', 'est', 'une', 'chaîne', 'de', 'test', 'en', 'français', 'pour', 'la', 'tokenisation']\n"
     ]
    }
   ],
   "source": [
    "#2. Write a Python NLTK program to tokenize sentences in languages other than English\n",
    "\n",
    "text = \"\"\"\n",
    "Bonjour, ceci est une chaîne de test en français pour la tokenisation\n",
    "\"\"\"\n",
    "\n",
    "print(f\"Original String: \")\n",
    "print(text)\n",
    "print(f\"Text in word tokenized: \")\n",
    "print(word_tokenize(text, language=\"french\"))"
   ]
  },
  {
   "cell_type": "code",
   "execution_count": null,
   "id": "48b27874-d44a-4218-acb8-4782576e93d6",
   "metadata": {},
   "outputs": [],
   "source": []
  },
  {
   "cell_type": "code",
   "execution_count": 16,
   "id": "31ff7fa0-b9e9-4ab4-8fbd-29a95903d101",
   "metadata": {},
   "outputs": [
    {
     "name": "stdout",
     "output_type": "stream",
     "text": [
      "['Hope', ',', 'you', 'are', 'fine', '!', 'If', 'you', 'don', \"'\", 't', 'just', 'remember', 'you', 'password', 'change', 'with', 'new', 'one', '.', 'Thanks', '.']\n",
      "['Hope', ',', 'you', 'are', 'fine', '!', 'If', 'you', 'do', \"n't\", 'just', 'remember', 'you', 'password', 'change', 'with', 'new', 'one', '.', 'Thanks', '.']\n"
     ]
    }
   ],
   "source": [
    "#3. Write a Python NLTK program to split all punctuation into separate tokens.\n",
    "from nltk.tokenize import WordPunctTokenizer\n",
    "\n",
    "text = \"Hope, you are fine! If you don't just remember you password change with new one. Thanks.\"\n",
    "\n",
    "print(WordPunctTokenizer().tokenize(text))\n",
    "print(word_tokenize(text))"
   ]
  },
  {
   "cell_type": "code",
   "execution_count": null,
   "id": "62a9f072-bcce-43eb-b8f0-ca4eeaf13311",
   "metadata": {},
   "outputs": [],
   "source": []
  },
  {
   "cell_type": "code",
   "execution_count": 17,
   "id": "ca950f4c-6b91-44d9-bbd3-b1434fa08fdd",
   "metadata": {},
   "outputs": [
    {
     "name": "stdout",
     "output_type": "stream",
     "text": [
      "[['Hope', ',', 'you', 'are', 'fine', '!'], ['If', 'you', 'do', \"n't\", 'just', 'remember', 'you', 'password', 'change', 'with', 'new', 'one', '.'], ['Thanks', '.']]\n"
     ]
    }
   ],
   "source": [
    "#4. 5. Write a Python NLTK program to tokenize words, sentence wise.\n",
    "words_sent_wise = [word_tokenize(sent) for sent in sent_tokenize(text)]\n",
    "\n",
    "print(words_sent_wise)"
   ]
  },
  {
   "cell_type": "code",
   "execution_count": null,
   "id": "73f0a5be-28e3-4b61-89e0-71200429a107",
   "metadata": {},
   "outputs": [],
   "source": []
  },
  {
   "cell_type": "code",
   "execution_count": 29,
   "id": "f79e2467-98c7-480c-a9cf-3969d0d10373",
   "metadata": {},
   "outputs": [
    {
     "name": "stdout",
     "output_type": "stream",
     "text": [
      "\n",
      "Mr. Smith waited for the train.\n",
      "================\n",
      "The train was late.\n",
      "================\n",
      "Mary and Samantha took the bus.\n",
      "================\n",
      "I looked for Mary and\n",
      "Samantha at the bus station.\n",
      "\n",
      "\n",
      "\n",
      "Mr. Smith waited for the train.\n",
      "================\n",
      "The train was late.\n",
      "================\n",
      "Mary and Samantha took the bus.\n",
      "================\n",
      "I looked for Mary and\n",
      "Samantha at the bus station.\n"
     ]
    }
   ],
   "source": [
    "#4. Write a Python NLTK program that will read a given text through each line and look for sentences. \n",
    "#   Print each sentence and divide two sentences with “==============”.\n",
    "\n",
    "text = \"\"\"\n",
    "Mr. Smith waited for the train. The train was late.\n",
    "Mary and Samantha took the bus. I looked for Mary and\n",
    "Samantha at the bus station.\n",
    "\"\"\"\n",
    "\n",
    "# 1st way:\n",
    "sents = sent_tokenize(text)\n",
    "print(\"\\n================\\n\".join(sents))\n",
    "\n",
    "# 2nd way:\n",
    "import nltk.data\n",
    "sent_detector = nltk.data.load(\"tokenizers/punkt/english.pickle\")\n",
    "print(\"\\n\\n\")\n",
    "print(\"\\n================\\n\".join(sent_detector.tokenize(text.strip())))"
   ]
  },
  {
   "cell_type": "code",
   "execution_count": null,
   "id": "642b37d3-b62e-49c9-a932-bb8f54fb2676",
   "metadata": {},
   "outputs": [],
   "source": []
  },
  {
   "cell_type": "markdown",
   "id": "c1699828-26c2-4e5c-9457-e59d74f10136",
   "metadata": {},
   "source": [
    "### Courpus"
   ]
  },
  {
   "cell_type": "code",
   "execution_count": 31,
   "id": "6437ea00-c504-4dc1-92df-399450d67298",
   "metadata": {},
   "outputs": [
    {
     "name": "stdout",
     "output_type": "stream",
     "text": [
      "['_LazyModule__lazymodule_globals', '_LazyModule__lazymodule_import', '_LazyModule__lazymodule_init', '_LazyModule__lazymodule_loaded', '_LazyModule__lazymodule_locals', '_LazyModule__lazymodule_name', '__class__', '__delattr__', '__dict__', '__dir__', '__doc__', '__eq__', '__format__', '__ge__', '__getattr__', '__getattribute__', '__getstate__', '__gt__', '__hash__', '__init__', '__init_subclass__', '__le__', '__lt__', '__module__', '__name__', '__ne__', '__new__', '__reduce__', '__reduce_ex__', '__repr__', '__setattr__', '__sizeof__', '__str__', '__subclasshook__', '__weakref__']\n"
     ]
    }
   ],
   "source": [
    "# example:\n",
    "\n",
    "import nltk.corpus\n",
    "d = dir(nltk.corpus)\n",
    "print(d)"
   ]
  },
  {
   "cell_type": "code",
   "execution_count": 37,
   "id": "610961ac-c139-4751-a24e-9fe1bf0c5b1d",
   "metadata": {},
   "outputs": [
    {
     "name": "stdout",
     "output_type": "stream",
     "text": [
      "['arabic', 'azerbaijani', 'basque', 'bengali', 'catalan', 'chinese', 'danish', 'dutch', 'english', 'finnish', 'french', 'german', 'greek', 'hebrew', 'hinglish', 'hungarian', 'indonesian', 'italian', 'kazakh', 'nepali', 'norwegian', 'portuguese', 'romanian', 'russian', 'slovene', 'spanish', 'swedish', 'tajik', 'turkish']\n"
     ]
    }
   ],
   "source": [
    "from nltk.corpus import stopwords\n",
    "\n",
    "print(stopwords.fileids())"
   ]
  },
  {
   "cell_type": "code",
   "execution_count": 40,
   "id": "0753fc75-2296-431c-ad46-ba30390914b0",
   "metadata": {
    "scrolled": true
   },
   "outputs": [
    {
     "name": "stdout",
     "output_type": "stream",
     "text": [
      "Stopwords in English: \n",
      "{'having', 'off', 'were', 'there', 'not', 'do', \"hasn't\", 'under', 'we', 'shouldn', 'down', 'himself', 'being', 'doesn', 'about', \"wouldn't\", 'at', 'itself', 'wouldn', \"you're\", \"shan't\", 'or', 'she', 'as', 'of', 'for', 'been', 'against', 'both', 'between', \"haven't\", 'their', 've', \"that'll\", 'the', 'shan', 'more', 'you', 'hers', 'y', 'are', 'them', 'in', \"she's\", 'now', 'from', 'on', 'd', \"you'll\", 'yours', 'no', 's', 'have', 'yourself', 'below', 'a', 'o', 'why', 'each', 'because', 'ours', 'just', 'some', \"isn't\", \"needn't\", 't', 'then', 'its', 'any', 'how', 'again', 'can', 'all', 'he', 'when', 'm', 'yourselves', \"doesn't\", 'needn', 'mightn', 'these', 'an', \"shouldn't\", \"weren't\", \"should've\", 'but', 'has', 'what', 'up', 'to', 'your', 'weren', 'it', 'very', 'ain', 'themselves', 'aren', 'over', 'her', \"mightn't\", 'my', 'him', 'through', 'ourselves', 'other', 'herself', 'before', 're', 'should', 'didn', 'only', 'here', 'few', 'this', 'same', 'doing', 'am', 'too', 'with', 'me', \"it's\", 'hadn', 'by', 'wasn', \"don't\", \"aren't\", 'couldn', 'once', 'that', \"didn't\", 'mustn', \"you'd\", 'be', 'did', 'where', 'own', 'whom', 'll', 'won', 'which', \"won't\", 'if', \"couldn't\", 'those', 'had', 'isn', \"mustn't\", 'above', \"you've\", 'out', 'who', 'until', 'while', 'ma', 'his', 'and', 'hasn', 'such', 'haven', 'does', 'was', 'into', \"wasn't\", \"hadn't\", 'than', 'they', 'during', 'i', 'our', 'so', 'theirs', 'after', 'further', 'most', 'nor', 'is', 'will', 'myself', 'don'}\n",
      "\n",
      "Stopwords in Hinglish: \n",
      "{'diye', 'whoever', 'tell', 'jaise', 'using', 'anyway', 'mil', 'look', 'furthermore', \"i'll\", 'aise', 'k', 'karegi', 'aaye', 'tends', 'huye', 'old', 'reasonably', 'provides', 'kisne', 'kya', 'at', 'ise', 'likely', 'sabhi', 'banayi', 'ityadi', 'please', 'abbey', 'jab', 'kinke', 'knows', 'against', 'as', 'beforehand', 'sakta', 'anything', 'banaye', 'maana', 'useful', 'near', 've', 'the', 'inki', 'around', 'dude', 'although', 'jisme', 'mai', 'kahte', 'kiya', 'shan', 'next', 'thoda', 'y', 'beside', 'you', 'are', 'whatever', 'didnt', 'eg', 'bas', 'from', 'afterwards', 'least', 'd', 'example', 'follows', 'yahin', 'pata', 'diya', 'may', 'soch', 'no', 'hamara', \"they're\", 'might', 'unhi', 'wont', 'lagta', 'pe', 'bolo', 'hi', 'bohot', 'why', 'sa', 'dvaara', 'twice', 'werent', 'got', 'kin', 'abe', 'trying', 'thats', 'sahi', 'rahe', 'became', 'thereafter', 'aur', 'how', 'get', 'karo', 'yet', 'happens', 'diyaa', 'thorough', 'whether', 'isi', 'wahaan', 'etc', 'kar', 'new', 'within', 'an', 'sometime', 'viz', \"should've\", 'rakh', 'krna', 'has', 'dusra', 'doosra', 'everybody', 'up', 'meri', 'eight', 'what', 'toh', 'six', 'dono', 'uska', 'it', 'seven', 'very', 'dijiye', 'saw', 'over', 'her', 'mightnt', 'shant', 'kuch', 'through', 'upon', 'come', 'kehte', 'accha', 'almost', 're', 'tha', 'nai', 'should', 'following', 'hongi', 'jayega', 'kahaan', 'uske', 'here', 'isme', 'otherwise', 'tarah', 'kyuki', 'thing', 'thought', 'itna', 'apne', 'by', 'tumhare', 'ghar', 'couldn', 'kitna', 'pehla', 'hoti', 'seems', 'vo', 'kyaa', 'given', 'kuchh', 'mano', 'hoga', 'bani', \"didn't\", 'krne', 'liked', 'well', 'bad', 'gets', 'be', 'yes', 'andar', 'whom', 'won', 'neither', 'agar', 'thanx', 'na', 'if', 'kinn', 'iske', 'which', 'iss', 'since', 'every', 'puri', 'isnt', 'hu', 'hum', 'kull', 'though', \"you've\", 'log', 'first', 'okay', 'who', 'jinhi', 'inse', 'hamare', 'whole', 'hasn', 'kitni', 'therein', 'edu', 'nine', 'dont', 'apart', 'kinki', 'banaya', 'yehi', 'bana', 'ek', \"wasn't\", \"where's\", 'aaj', 'allows', 'hai', 'meanwhile', 'they', 'wali', 'people', \"that's\", 'kahin', 'hither', 'everyone', 'together', 'vaala', 'after', 'honaa', 'further', \"i'd\", 'somewhat', 'haan', 'karunga', 'nor', 'si', 'myself', 'keep', 'havent', 'saara', 'jisse', 'use', 'q', 'there', 'third', 'seemed', 'kaise', \"hasn't\", 'shouldn', 'hereby', 'jabh', 'vahaan', 'ab', 'inho', 'jahan', 'uses', 'jiss', 'wherein', 'doesn', \"let's\", 'lo', \"we're\", 'downwards', \"wouldn't\", 'kiski', 'vala', 'wouldn', \"you're\", 'aside', 'she', 'for', 'humne', 'somewhere', 'go', 'par', 'beyond', 'teen', 'dekh', \"haven't\", 'waise', 'yah', 'taken', 'chaiye', 'sara', 'chal', 'hardly', 'achcha', 'saying', 'whereas', 'rhaa', 'itne', 'yadi', 'aisi', 'someone', 'mostly', 'mane', 'degi', 'on', 'tried', 'doosre', 'thank', 'hamari', 'nothing', 'let', 'thru', \"you'll\", 'tu', 'gayi', 'yours', 'thik', 'wasnt', 'saktaa', 'becoming', 'yourself', 'seeing', 'tum', 'ke', 'namely', 'o', 'necessary', 'each', 'logon', 'thanks', 'herein', 'one', 'quite', 'kaafi', 'dunga', 'three', 'any', 'its', \"i'm\", 'karke', 'waisa', 'hadd', 'uss', 'without', 'again', 'can', \"here's\", 'btw', 'un', 'de', 'rehte', 'ex', 'needn', 'noone', 'kare', 'lekar', 'maan', \"he's\", \"can't\", 'rakhi', 'inn', 'bhitar', 'clearly', 'ever', 'ok', 'neednt', 'name', 'iskaa', 'theres', 'hereafter', 'ja', 'tab', 'aaya', 'truly', 'ain', 'themselves', 'jin', 'pehli', 'him', 'my', 'kisi', 'merely', 'other', 'banda', 'hogi', 'thereupon', 'herself', 'bole', 'tak', 'before', 'aye', 'towards', 'unho', 'dvara', 'few', 'isse', 'magar', 'same', 'wahan', 'yahan', 'am', 'fifth', 'never', 'dekha', 'couldnt', 'mani', 'wagerah', 'hue', 'shouldnt', 'keh', 'with', 'hadn', 'mere', 'even', 'sakti', 'hote', 'hoge', \"don't\", 'itni', 'everything', 'kab', 'iski', 'onto', 'tumhara', 'throughout', 'hadnt', 'vahin', 'karte', 'karenge', 'that', 'said', 'lunga', 'wants', 'ho', 'where', 'aata', 'wo', \"you'd\", 'wohi', 'thus', 'll', 'arre', 'jyaada', 'karne', 'hun', 'everywhere', 'thereby', 'isn', 'jaisa', 'kyun', 'obviously', 'dusri', \"who's\", 'hui', 'sakte', 'none', \"we'll\", 'unki', 'until', 'hamne', 'honi', 'whence', 'unlikely', 'nobody', 'bhai', 'such', 'fir', 'haven', 'lol', 'does', 'into', 'aap', 'us', 'apni', 'kiska', 'true', 'khud', 'seriously', 'inka', \"hadn't\", 'than', 'going', 'normally', 'during', 'perhaps', 'ltd', 'bata', 'our', 'denge', 'karni', 'will', 'alone', 'rhi', 'many', 'forth', 'needs', 'off', 'help', 'dhang', 'others', 'not', 'bandi', 'kayi', 'konsa', 'under', 'waisi', 'we', 'kaunsa', 'mainly', 'waha', 'being', 'whereafter', 'about', 'doesnt', 'sometimes', 'unn', 'vaisa', 'think', 'try', 'pehle', 'wherever', 'somehow', 'certain', 'secondly', 'unhe', 'asking', 'phla', 'seeming', 'theek', 'later', 'insofar', 'best', 'comes', 'unka', 'honge', 'become', 'wouldnt', 'mein', 'either', 'kon', 'kyunki', 'say', 'jis', \"she's\", 'cause', 'bilkul', 'often', 'sang', 'ye', 'har', 'kinhe', 'causes', 'apnaa', 'novel', 'unko', 'usse', 'have', 'kaha', 'whereupon', 'according', 'below', 'kahi', 'baad', 'kisliye', 'waala', 'phli', 'dekhe', 'sup', 'kch', 'a', \"i've\", 'mujhe', 'came', 'ours', 'gotten', 'just', 'enough', 'nahin', 'some', 'must', 'teesre', 'bheetar', \"isn't\", 'nope', 'kaisi', 'tune', 'nevertheless', 'apna', 'baar', 't', 'dekhi', 'hm', 'then', 'hain', 'bane', 'certainly', 'chahiye', 'self', \"doesn't\", 'com', 'selves', 'saath', \"it'll\", 'jiska', 'karungi', 'less', 'dusre', 'karta', \"weren't\", 'teesra', 'kiye', 'inasmuch', 'inke', 'but', 'jitna', 'kaun', 'tjhe', 'serious', 'alag', 'therefore', 'mana', 'weren', 'however', 'nearly', 'maano', 'apan', 'bht', 'hona', 'see', 'bolta', 'inhi', 'lagte', 'lest', 'rakhen', 'karun', 'maybe', 'bola', 'still', 'dwaara', 'boli', 'umm', 'hoyenge', 'only', 'this', 'unse', 'doing', 'karen', 'kyu', 'ones', 'me', 'regardless', 'vahi', 'que', 'kabhi', 'second', 'huh', 'kinko', 'usi', 'yup', 'han', 'wasn', 'jinke', 'bolte', 'ityaadi', 'jinki', 'naa', 'wagaira', 'jinhone', 'teri', 'banae', 'able', 'liya', 'aisa', 'keeps', 'mustn', 'appear', 'among', 'kuchch', 'naah', 'did', 'aapne', 'th', 'dwara', 'non', 'besides', 'own', 'vaisi', 'humein', 'sub', 'sath', 'ap', 'tumhari', 'those', 'hua', 'thodi', 'vaale', 'went', 'would', 'brief', 'kinho', \"mustn't\", 'oh', 'shall', 'wahin', 'getting', 'aati', 'right', 'out', 'tabh', 'sensible', 'koi', 'ki', 'rahaa', 'yahi', 'another', 'hotaa', 'and', 'aya', 'hence', 'anywhere', 'jaha', 'done', 'took', 'kara', 'hello', 'allow', 'karti', 'li', 'di', 'pura', 'idk', 'placed', 'hereupon', 'vali', 'wale', 'isski', 'five', 'inhe', 'jata', 'lately', 'kine', 'tere', 'so', 'kul', 'bhi', 'jahaan', 'jyada', 'rakhe', 'dega', 'seen', 'tries', 'most', 'overall', 'along', 'jiski', 'sabse', 'ko', 'yaha', 'having', 'inc', 'kis', 'were', 'chalega', 'ya', 'do', \"they'll\", 'jaisi', \"there's\", 'woh', 'down', 'himself', 'always', 'chhaiye', 'kino', 'teesri', 'whose', 'becomes', 'bol', 'nhi', 'like', 'elsewhere', 'itself', 'main', 'waali', \"shan't\", 'really', \"they've\", 'phle', 'ought', 'ri', 'or', 'of', 'both', 'goes', 'upar', 'been', 'plus', 'between', 'kahan', 'inward', 'something', \"what's\", 'accordingly', 'kam', 'their', 'actually', \"they'd\", \"that'll\", 'bc', 'also', 'better', 'more', 'le', 'dede', 'hers', 'yeah', 'them', 'in', 'followed', 'now', 'soon', 'already', 'bolti', 'regards', 'know', 'thoroughly', 'anyways', 'lagti', 'wala', 'anyhow', 'way', 's', 'karna', 'sab', 'yeh', 'sure', 'vale', 'hopefully', 'mean', 'mat', 'because', 'kise', 'kafi', 'vaali', 'arent', 'dekho', 'um', \"needn't\", 'tho', 'teeno', 'dungi', 'used', 'unto', 'nahi', 'sent', 'karega', 'all', 'jidhar', 'he', 'm', 'hoyengi', 'toward', 'moreover', 'when', 'willing', 'yourselves', 'various', 'rahi', 'jinhe', 'far', 'per', 'aint', 'jise', 'kaisa', 'jiske', 'mightn', 'these', \"shouldn't\", 'kept', 'last', 'jinho', 'jitni', 'nowhere', 'raha', 'rakha', 'gaye', 'imo', 'itno', 'tujhe', 'to', 'kal', 'unhone', 'your', 'four', 'batao', 'se', 'unke', 'gone', 'aren', 'ka', 'inkaa', 'rha', 'saare', \"mightn't\", 'good', 'ourselves', 'whereby', \"c'mon\", 'whenever', \"it'd\", 'else', 'except', 'thinking', 'didn', 'kitne', 'wagairah', 'mustnt', 'poora', 'jinn', 'hota', 'outside', 'unless', 'abhi', 'too', 'ussi', 'ask', \"it's\", 'kisko', 'looks', 'anybody', 'usne', 'two', 'acha', \"aren't\", 'cannot', 'gives', 'hasnt', 'bande', 'banai', 'howbeit', 'once', 'hmm', 'known', 'koyi', 'jinka', 'kari', 'amongst', 'kitno', 'says', 'seem', 'maani', 'need', 'kinka', 'inner', \"won't\", 'ie', 'maine', 'bro', \"couldn't\", 'hone', 'kiske', 'vahan', 'could', 'unkaa', 'had', 'anyone', 'yahaan', 'above', 'jitne', 'little', 'mjhe', \"we've\", 'rhe', 'poori', 'vaise', 'behind', 'mera', 'banao', 'liye', 'somebody', 'while', 'bahut', 'his', 'lekin', 'take', 'much', 'thence', 'jaa', 'isne', 'maane', 'issi', 'kahaa', 'ne', 'tera', 'was', 'iska', 'via', 'regarding', 'jo', 'usually', 'waale', 'thi', 'exactly', 'rather', \"we'd\", 'wahi', 'avum', 'cant', 'across', 'huyi', 'i', 'neeche', 'want', 'theirs', 'greetings', 'nd', 'aadi', 'gaya', 'looking', 'rakho', 'diyo', 'is', \"ain't\", 'karu', 'several', 'abbe'}\n",
      "\n",
      "Stopwords in Chinese: \n",
      "{'要不然', '没有', '最后', '重新', '普通', '共同', '继续', '有的', '且', '每当', '云云', '总是', '相对', '不要', '可能', '存在', '重要', '同时', '好象', '何时', '先后', '限制', '其它', '造成', '任凭', '甚至', '直到', '後来', '以后', '更加', '对于', '相信', '觉得', '几时', '不敢', '她们', '绝对', '不论', '来', '哎', '这么点儿', '依靠', '旁人', '沿', '根本', '先後', '积极', '的话', '则', '综上所述', '必然', '上下', '因此', '较之', '哎呀', '比方', '组成', '既然', '前面', '总之', '先生', '看看', '范围', '巩固', '过去', '各地', '宣布', '要不是', '无宁', '本着', '顺', '原来', '咳', '怎麽', '一致', '我们', '比如', '从事', '拿', '一些', '至', '起见', '愿意', '自身', '最高', '中间', '是的', '似乎', '第', '召开', '全面', '凭', '鄙人', '纵令', '呜', '结合', '一下', '乃至', '任', '移动', '虽则', '意思', '现在', '谁', '倘或', '今年', '尔后', '当然', '反映', '要不', '这么样', '之後', '达到', '继而', '除', '各级', '之所以', '为主', '抑或', '某个', '或者', '然则', '每天', '上述', '战斗', '如', '与其', '况且', '是不是', '说明', '尚且', '于是', '了解', '我', '别', '别的', '若非', '方面', '许多', '嗳', '跟', '着', '不变', '过', '给', '其次', '认真', '好的', '极了', '反过来', '再说', '故', '因而', '如果', '之后', '对', '具体地说', '你们', '特殊', '一面', '边', '随著', '就是说', '经', '争取', '加强', '这样', '起来', '一天', '表示', '越是', '接著', '往', '相等', '正如', '强调', '另', '您', '有力', '这里', '可以', '于', '照', '为什麽', '地', '大多数', '明确', '主张', '不成', '进行', '这', '咚', '像', '虽然', '当时', '复杂', '不特', '相似', '容易', '等', '嘛', '纵使', '认识', '既是', '後面', '那儿', '任务', '严重', '个别', '固然', '若', '以来', '一则', '不一', '以', '倘', '喏', '嗯', '的', '除此之外', '例如', '最大', '万一', '使用', '转贴', '其中', '其他', '如何', '总的来说', '上升', '当着', '上面', '那', '掌握', '中小', '为着', '于是乎', '避免', '今天', '从而', '不然', '被', '只有', '哪个', '倘使', '却不', '不是', '每年', '什么', '即若', '你的', '这儿', '这边', '不久', '常常', '即使', '由于', '所以', '不管', '从', '哎哟', '以下', '多数', '必要', '哪儿', '经常', '么', '较', '两者', '假若', '临', '巨大', '心里', '自个儿', '哼唷', '互相', '啊', '应当', '这么些', '哪天', '通常', '那麽', '它们', '一起', '以後', '充分', '呢', '曾经', '采取', '而况', '啪达', '不够', '根据', '阿', '不如', '下去', '他人', '依照', '在', '所谓', '以前', '问题', '自从', '进而', '换句话说', '喂', '一旦', '果真', '呵', '哪怕', '嘿', '以上', '将', '怎', '一来', '附近', '除非', '一定', '其一', '假如', '广泛', '嘎', '与此同时', '比较', '看见', '明显', '把', '就是', '之', '各', '也好', '自己', '再者', '哼', '离', '起', '多次', '并且', '吧', '其二', '恰恰相反', '等等', '里面', '之前', '坚持', '即或', '开展', '那么', '这会儿', '归', '紧接着', '叫', '遭到', '出去', '依', '相反', '不得', '而已', '规定', '逐步', '向着', '哈', '省得', '向', '呃', '得出', '焉', '有关', '它', '叫做', '变成', '还是', '注意', '那么些', '而', '行动', '具体说来', '良好', '清楚', '似的', '与否', '即便', '自家', '准备', '非但', '怎么办', '靠', '直接', '加以', '前者', '那时', '迅速', '若是', '呸', '适应', '此外', '对应', '代替', '既', '大力', '不足', '过来', '并没有', '这就是说', '如若', '加之', '周围', '打', '集中', '咦', '如此', '所有', '咱们', '引起', '唉', '漫说', '然而', '真是', '当', '遇到', '尽', '另一方面', '因', '有着', '目前', '要么', '彼此', '这个', '哪些', '岂但', '那会儿', '冒', '趁着', '人家', '个人', '举行', '虽说', '吧哒', '整个', '上去', '并不', '相对而言', '相应', '主要', '喔唷', '咱', '咋', '认为', '具体', '广大', '乌乎', '鉴于', '倘若', '成为', '有所', '而外', '正在', '首先', '嗬', '不能', '上来', '即令', '看来', '知道', '你', '与', '哟', '行为', '此', '随着', '无法', '大批', '以至于', '那么样', '也', '虽', '他们', '之类', '几乎', '它的', '必须', '如上所述', '这些', '后来', '随', '合理', '或', '否则', '伟大', '转变', '有利', '促进', '兮', '一般', '因为', '坚决', '按', '当前', '每', '不过', '人们', '加入', '己', '突然', '腾', '这麽', '受到', '另外', '本', '下来', '专门', '不同', '纵然', '和', '维持', '只是', '今後', '保持', '别说', '呼哧', '论', '什么样', '他', '十分', '严格', '要是', '宁', '不比', '强烈', '宁肯', '已经', '此时', '连同', '同', '只限', '一直', '及至', '并', '大约', '故此', '总而言之', '冲', '又', '及时', '同样', '同一', '各人', '关于', '适用', '双方', '取得', '及', '呕', '趁', '各种', '彼', '俺', '顺着', '一次', '一片', '何处', '下列', '不断', '哪里', '欢迎', '作为', '以免', '能够', '看出', '完成', '让', '不独', '吗', '而言', '莫若', '着呢', '是', '以及', '一样', '相当', '怎么', '哪边', '有', '获得', '为了', '是否', '运用', '具有', '以致', '们', '总的说来', '总结', '呜呼', '结果', '反过来说', '俺们', '高兴', '多', '可是', '望', '但', '能否', '满足', '谁知', '时候', '全部', '在下', '啥', '真正', '显然', '连', '各自', '非常', '一方面', '构成', '它们的', '每个', '按照', '特别是', '罢了', '来着', '啐', '啦', '乃', '普遍', '哦', '反之', '为', '进步', '完全', '仍然', '其余', '各个', '此间', '不光', '甚么', '几', '一时', '这么', '那些', '那边', '以为', '也罢', '有著', '她', '得到', '而且', '吱', '考虑', '嘻', '不怕', '了', '凭借', '者', '非徒', '诸位', '处理', '哪年', '防止', '往往', '那个', '倘然', '哉', '那样', '由', '乎', '下面', '有效', '练习', '到', '特点', '嗡嗡', '不可', '哗', '大家', '我的', '显著', '一边', '假使', '正常', '自各儿', '经过', '反应', '怎样', '用', '就', '大量', '方便', '由此可见', '待', '毫不', '最好', '左右', '安全', '之一', '立即', '不惟', '接着', '应用', '不问', '产生', '但是', '应该', '使得', '不单', '慢说', '可见', '有些', '呀', '突出', '进入', '尤其', '赶', '大大', '一切', '哈哈', '以便', '最後', '某些', '适当', '还有', '那里', '分别', '朝', '乘', '沿着', '然後', '要', '可', '她的', '如下', '联系', '前进', '无论', '毋宁', '哇', '照着', '以外', '宁可', '这点', '朝着', '矣', '呗', '企图', '什麽', '他的', '最近', '现代', '吓', '不只', '多少', '据', '果然', '看到', '后面', '相同', '其', '基本', '何况', '转动', '今后', '前后', '该', '不但', '换言之', '深入', '而是', '比', '表明', '何', '少数', '决定', '各位', '除了', '实际', '即', '这种', '出来', '总的来看', '开始', '出现', '扩大', '嘘', '重大', '为什么', '纵', '及其', '设使', '然后', '管', '并不是', '尽管', '所', '帮助', '这时', '逐渐', '允许', '哩', '嘎登', '或是', '如其', '需要', '通过', '能', '做到', '叮咚', '密切', '替', '设若', '怎么样', '部分', '有时', '属于', '有点', '失去', '其实', '某', '个', '要求', '宁愿', '至于', '也是', '一', '哪', '实现', '为何', '不拘', '以至', '彻底', '得', '自', '确定', '丰富', '哪样', '不会', '只要', '形成', '甚而', '不仅', '任何', '开外'}\n",
      "\n",
      "Stopwords in German: \n",
      "{'gegen', 'deinen', 'keinen', 'derselbe', 'jeder', 'meinen', 'dazu', 'soll', 'wenn', 'jenen', 'ander', 'einer', 'keine', 'mancher', 'aber', 'eine', 'das', 'ihrem', 'daß', 'bis', 'derer', 'einigem', 'vom', 'warst', 'weiter', 'welchen', 'anders', 'doch', 'zwar', 'vor', 'denselben', 'alles', 'jedes', 'sondern', 'jede', 'jener', 'derselben', 'zum', 'aller', 'deines', 'seiner', 'solchem', 'auch', 'einigen', 'einiges', 'seinen', 'seines', 'aus', 'noch', 'welchem', 'ihr', 'hin', 'sehr', 'also', 'anderen', 'kein', 'mein', 'selbst', 'dasselbe', 'ich', 'manchem', 'wollen', 'sollte', 'einiger', 'in', 'ins', 'ob', 'hier', 'werden', 'des', 'durch', 'über', 'solcher', 'nichts', 'und', 'haben', 'zwischen', 'dass', 'anderm', 'einmal', 'ihm', 'unseren', 'würde', 'er', 'seine', 'dessen', 'dieselbe', 'meine', 'eure', 'wirst', 'waren', 'eurer', 'hatte', 'von', 'um', 'eurem', 'allem', 'du', 'damit', 'der', 'bin', 'können', 'hat', 'ohne', 'gewesen', 'muss', 'einen', 'dies', 'sonst', 'manches', 'desselben', 'sind', 'euren', 'keines', 'wir', 'einige', 'unser', 'an', 'jetzt', 'kann', 'nach', 'ein', 'eines', 'würden', 'keiner', 'solchen', 'meinem', 'dich', 'uns', 'deinem', 'ihren', 'die', 'musste', 'man', 'als', 'andere', 'euch', 'solche', 'sein', 'wieder', 'demselben', 'jenes', 'unter', 'euer', 'im', 'auf', 'mir', 'anderr', 'für', 'weil', 'zu', 'unsere', 'keinem', 'mit', 'am', 'anderer', 'ihnen', 'dieselben', 'dem', 'allen', 'machen', 'dein', 'hab', 'jene', 'manchen', 'nicht', 'eures', 'oder', 'wird', 'diesen', 'denn', 'jedem', 'unseres', 'dort', 'habe', 'wo', 'wie', 'einig', 'sich', 'sie', 'seinem', 'unserem', 'es', 'ist', 'könnte', 'solches', 'jeden', 'mich', 'diesem', 'weg', 'bei', 'etwas', 'welche', 'wollte', 'dir', 'während', 'andern', 'anderes', 'welches', 'nur', 'da', 'viel', 'einem', 'hinter', 'ihres', 'ihrer', 'diese', 'anderem', 'deine', 'ihn', 'was', 'nun', 'werde', 'jenem', 'hatten', 'alle', 'meiner', 'war', 'indem', 'zur', 'dieser', 'den', 'so', 'manche', 'welcher', 'bist', 'dann', 'ihre', 'dieses', 'meines', 'will', 'deiner'}\n"
     ]
    }
   ],
   "source": [
    "#1. Write a Python NLTK program to check the list of stopwords in various languages.\n",
    "print(\"Stopwords in English: \")\n",
    "print(set(stopwords.words(\"english\")))\n",
    "\n",
    "print(\"\\nStopwords in Hinglish: \")\n",
    "print(set(stopwords.words(\"hinglish\")))\n",
    "\n",
    "print(\"\\nStopwords in Chinese: \")\n",
    "print(set(stopwords.words(\"chinese\")))\n",
    "\n",
    "print(\"\\nStopwords in German: \")\n",
    "print(set(stopwords.words(\"german\")))"
   ]
  },
  {
   "cell_type": "code",
   "execution_count": null,
   "id": "8acd6d77-0c6f-414d-9be1-b8630ed71d82",
   "metadata": {},
   "outputs": [],
   "source": []
  },
  {
   "cell_type": "code",
   "execution_count": 6,
   "id": "36910e50-28a7-444a-bfde-95d7845d273a",
   "metadata": {},
   "outputs": [
    {
     "name": "stdout",
     "output_type": "stream",
     "text": [
      "Synonyms: ['happy', 'felicitous', 'happy', 'glad', 'happy', 'happy', 'well-chosen']\n",
      "Antonyms: ['unhappy']\n"
     ]
    }
   ],
   "source": [
    "#2. Find the sets of synonyms and antonyms of a given word\n",
    "\n",
    "from nltk.corpus import wordnet\n",
    "\n",
    "synonyms = []\n",
    "antonyms = []\n",
    "\n",
    "for syn in wordnet.synsets(\"happy\"):\n",
    "    for l in syn.lemmas():\n",
    "        synonyms.append(l.name())\n",
    "        if l.antonyms():       \n",
    "            antonyms.append(l.antonyms()[0].name())\n",
    "\n",
    "print(f\"Synonyms: {synonyms}\")\n",
    "print(f\"Antonyms: {antonyms}\")"
   ]
  },
  {
   "cell_type": "code",
   "execution_count": null,
   "id": "fccd8ca1-fc82-4344-8403-c0640552f59e",
   "metadata": {},
   "outputs": [],
   "source": []
  }
 ],
 "metadata": {
  "kernelspec": {
   "display_name": "Python 3 (ipykernel)",
   "language": "python",
   "name": "python3"
  },
  "language_info": {
   "codemirror_mode": {
    "name": "ipython",
    "version": 3
   },
   "file_extension": ".py",
   "mimetype": "text/x-python",
   "name": "python",
   "nbconvert_exporter": "python",
   "pygments_lexer": "ipython3",
   "version": "3.12.7"
  }
 },
 "nbformat": 4,
 "nbformat_minor": 5
}

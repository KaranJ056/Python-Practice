{
 "cells": [
  {
   "cell_type": "markdown",
   "id": "ee62c2d0-8367-4486-8411-22b60993cd53",
   "metadata": {},
   "source": [
    "### Python NumPy [Basics and Exercises]\n",
    "##### https://www.w3resource.com/python-exercises/numpy/index.php"
   ]
  },
  {
   "cell_type": "markdown",
   "id": "1fa5c5d0-8fc3-45b8-900f-c30c5c2b616c",
   "metadata": {},
   "source": [
    "### Basics"
   ]
  },
  {
   "cell_type": "code",
   "execution_count": 1,
   "id": "f36bab55-70cf-429b-9dda-e36fbbbd519e",
   "metadata": {},
   "outputs": [
    {
     "name": "stdout",
     "output_type": "stream",
     "text": [
      "Requirement already satisfied: numpy in c:\\users\\karanjjoshi\\anaconda3\\lib\\site-packages (1.26.4)\n"
     ]
    }
   ],
   "source": [
    "!pip install numpy"
   ]
  },
  {
   "cell_type": "code",
   "execution_count": 2,
   "id": "7552b553-b1aa-4768-8c36-048270789572",
   "metadata": {},
   "outputs": [],
   "source": [
    "import numpy as np"
   ]
  },
  {
   "cell_type": "markdown",
   "id": "91c14e13-736d-4d9d-8942-edf3e474a7e6",
   "metadata": {},
   "source": [
    "#### NumPy Arrays"
   ]
  },
  {
   "cell_type": "code",
   "execution_count": 6,
   "id": "8c4b9116-c48c-4727-9283-37bbd4d7d1c5",
   "metadata": {},
   "outputs": [
    {
     "data": {
      "text/plain": [
       "array([1, 2, 3])"
      ]
     },
     "execution_count": 6,
     "metadata": {},
     "output_type": "execute_result"
    }
   ],
   "source": [
    "np.array([1,2,3])"
   ]
  },
  {
   "cell_type": "code",
   "execution_count": 9,
   "id": "0ace5dcf-7444-406a-bdf4-5ca410bd6b87",
   "metadata": {},
   "outputs": [
    {
     "data": {
      "text/plain": [
       "array([[1, 2, 3],\n",
       "       [4, 5, 6]])"
      ]
     },
     "execution_count": 9,
     "metadata": {},
     "output_type": "execute_result"
    }
   ],
   "source": [
    "np.array([[1,2,3], [4,5,6]])"
   ]
  },
  {
   "cell_type": "code",
   "execution_count": 11,
   "id": "923c83b8-60fc-445e-8ee5-f2338e3205b3",
   "metadata": {},
   "outputs": [
    {
     "data": {
      "text/plain": [
       "array([1, 3, 5, 7, 9])"
      ]
     },
     "execution_count": 11,
     "metadata": {},
     "output_type": "execute_result"
    }
   ],
   "source": [
    "np.arange(1, 11, 2)"
   ]
  },
  {
   "cell_type": "code",
   "execution_count": 13,
   "id": "00295022-11a4-4f3a-b289-a94bb030a57b",
   "metadata": {},
   "outputs": [
    {
     "data": {
      "text/plain": [
       "array([ 0.  ,  1.25,  2.5 ,  3.75,  5.  ,  6.25,  7.5 ,  8.75, 10.  ])"
      ]
     },
     "execution_count": 13,
     "metadata": {},
     "output_type": "execute_result"
    }
   ],
   "source": [
    "np.linspace(0,10,9)"
   ]
  },
  {
   "cell_type": "code",
   "execution_count": 23,
   "id": "0ad3c99f-d558-480b-b520-aac558c59432",
   "metadata": {},
   "outputs": [
    {
     "data": {
      "text/plain": [
       "array([[0., 0., 0.],\n",
       "       [0., 0., 0.]])"
      ]
     },
     "execution_count": 23,
     "metadata": {},
     "output_type": "execute_result"
    }
   ],
   "source": [
    "np.zeros((2,3))"
   ]
  },
  {
   "cell_type": "code",
   "execution_count": 29,
   "id": "d2fada0a-8ca4-446a-8d55-8d218e97498e",
   "metadata": {},
   "outputs": [
    {
     "data": {
      "text/plain": [
       "array([[1., 1., 1.],\n",
       "       [1., 1., 1.]])"
      ]
     },
     "execution_count": 29,
     "metadata": {},
     "output_type": "execute_result"
    }
   ],
   "source": [
    "np.ones((2,3))"
   ]
  },
  {
   "cell_type": "code",
   "execution_count": 71,
   "id": "6d942b82-a2b1-40e3-819a-661e3c4f3c55",
   "metadata": {},
   "outputs": [
    {
     "name": "stdout",
     "output_type": "stream",
     "text": [
      "[[0.68794231 0.11850179 0.14286977 0.14584119]\n",
      " [0.41680772 0.34578551 0.88655054 0.29864864]]\n"
     ]
    }
   ],
   "source": [
    "a = np.random.random((2,4))\n",
    "print(a)"
   ]
  },
  {
   "cell_type": "code",
   "execution_count": 72,
   "id": "985dc277-bf46-4f3a-857e-2763ee8bb426",
   "metadata": {},
   "outputs": [
    {
     "data": {
      "text/plain": [
       "array([[0., 0.],\n",
       "       [0., 0.]])"
      ]
     },
     "execution_count": 72,
     "metadata": {},
     "output_type": "execute_result"
    }
   ],
   "source": [
    "np.empty((2,2))"
   ]
  },
  {
   "cell_type": "code",
   "execution_count": 73,
   "id": "f08ba209-1760-4c43-9056-d766efce1039",
   "metadata": {},
   "outputs": [
    {
     "data": {
      "text/plain": [
       "array([[101, 101, 101],\n",
       "       [101, 101, 101]])"
      ]
     },
     "execution_count": 73,
     "metadata": {},
     "output_type": "execute_result"
    }
   ],
   "source": [
    "np.full((2,3), 101)"
   ]
  },
  {
   "cell_type": "code",
   "execution_count": 77,
   "id": "40bb02a1-0e5d-4eb0-92df-3d64260efd8f",
   "metadata": {},
   "outputs": [
    {
     "data": {
      "text/plain": [
       "array([[0, 0, 0, 0],\n",
       "       [0, 0, 0, 0]])"
      ]
     },
     "execution_count": 77,
     "metadata": {},
     "output_type": "execute_result"
    }
   ],
   "source": [
    "np.full_like(a, 0, dtype=\"int32\")"
   ]
  },
  {
   "cell_type": "code",
   "execution_count": 78,
   "id": "b125ece1-4ebd-4a8d-9fe4-d2339e04fa13",
   "metadata": {},
   "outputs": [
    {
     "data": {
      "text/plain": [
       "array([[11, 11, 11, 11],\n",
       "       [11, 11, 11, 11]])"
      ]
     },
     "execution_count": 78,
     "metadata": {},
     "output_type": "execute_result"
    }
   ],
   "source": [
    "np.full(a.shape, 11)"
   ]
  },
  {
   "cell_type": "code",
   "execution_count": 80,
   "id": "a64f2824-a164-4ebe-99cb-74368701e3e5",
   "metadata": {},
   "outputs": [
    {
     "data": {
      "text/plain": [
       "array([[0.35062453, 0.17514571],\n",
       "       [0.20686535, 0.01125379]])"
      ]
     },
     "execution_count": 80,
     "metadata": {},
     "output_type": "execute_result"
    }
   ],
   "source": [
    "np.random.rand(2,2)"
   ]
  },
  {
   "cell_type": "code",
   "execution_count": 84,
   "id": "814cc655-64dc-4606-af02-16915cd1d770",
   "metadata": {},
   "outputs": [
    {
     "data": {
      "text/plain": [
       "array([[83,  2, 31, 63],\n",
       "       [29, 20, 68, 46]])"
      ]
     },
     "execution_count": 84,
     "metadata": {},
     "output_type": "execute_result"
    }
   ],
   "source": [
    "np.random.randint(90, size=(2,4))"
   ]
  },
  {
   "cell_type": "code",
   "execution_count": 93,
   "id": "321d6bb5-8197-4c4d-a3e3-e46181a9b47f",
   "metadata": {},
   "outputs": [
    {
     "name": "stdout",
     "output_type": "stream",
     "text": [
      "[[1 1 1 1 1]\n",
      " [1 0 0 0 1]\n",
      " [1 0 9 0 1]\n",
      " [1 0 0 0 1]\n",
      " [1 1 1 1 1]]\n"
     ]
    }
   ],
   "source": [
    "# problem: \n",
    "# create following array:\n",
    "# [1,1,1,1,1]\n",
    "# [1,0,0,0,1]\n",
    "# [1,0,9,0,1]\n",
    "# [1,0,0,0,1]\n",
    "# [1,1,1,1,1]\n",
    "\n",
    "x = np.full((5,5), 1, dtype=\"int32\")\n",
    "x[1:4, 1:4] = 0\n",
    "x[2, 2] = 9\n",
    "print(x)"
   ]
  },
  {
   "cell_type": "markdown",
   "id": "3d3585f9-364e-44e6-bebf-566023e60cb3",
   "metadata": {},
   "source": [
    "###### Be careful when copying np arrays"
   ]
  },
  {
   "cell_type": "code",
   "execution_count": 98,
   "id": "79639d91-9800-4ce9-9ede-f809a27b4221",
   "metadata": {},
   "outputs": [
    {
     "name": "stdout",
     "output_type": "stream",
     "text": [
      "x= [1 2 3 4 5], y=[1 2 3 4 5]\n",
      "x= [ 1  2 10  4  5], y=[ 1  2 10  4  5]\n"
     ]
    }
   ],
   "source": [
    "y = np.array([1,2,3,4,5])\n",
    "z = y\n",
    "print(f\"x= {y}, y={z}\")\n",
    "z[2] = 10\n",
    "print(f\"x= {y}, y={z}\")"
   ]
  },
  {
   "cell_type": "code",
   "execution_count": 99,
   "id": "94459a18-e0fb-4f94-a27a-4352696ebcfd",
   "metadata": {},
   "outputs": [],
   "source": [
    "# instead do following"
   ]
  },
  {
   "cell_type": "code",
   "execution_count": 100,
   "id": "3398cc7a-4a86-4454-9ab3-c095e493d2f2",
   "metadata": {},
   "outputs": [
    {
     "name": "stdout",
     "output_type": "stream",
     "text": [
      "x= [ 1  2 10  4  5], y=[ 1  2 10  4  5]\n",
      "x= [ 1  2 10  4  5], y=[ 1  2 40  4  5]\n"
     ]
    }
   ],
   "source": [
    "z = y.copy()\n",
    "\n",
    "print(f\"x= {y}, y={z}\")\n",
    "z[2] = 40\n",
    "print(f\"x= {y}, y={z}\")"
   ]
  },
  {
   "cell_type": "code",
   "execution_count": null,
   "id": "e5ad4764-c289-47e7-a77b-fbfbc3ebff8d",
   "metadata": {},
   "outputs": [],
   "source": []
  },
  {
   "cell_type": "markdown",
   "id": "9344e445-a4ec-4886-aaf9-e86897adddcc",
   "metadata": {},
   "source": [
    "##### Array properties"
   ]
  },
  {
   "cell_type": "code",
   "execution_count": 61,
   "id": "2a401166-a23f-496b-8762-2b788ae54352",
   "metadata": {},
   "outputs": [
    {
     "name": "stdout",
     "output_type": "stream",
     "text": [
      "[[0.78297542 0.72327489 0.49900757 0.34580643 0.15338873]\n",
      " [0.5708914  0.97450302 0.02952681 0.09425816 0.49760734]\n",
      " [0.69030382 0.61865428 0.64677257 0.45163474 0.00663095]]\n"
     ]
    }
   ],
   "source": [
    "a = np.random.random((3,5))\n",
    "print(a)"
   ]
  },
  {
   "cell_type": "code",
   "execution_count": 62,
   "id": "fb6e0f63-b1cc-40bd-a5cb-7b16a3d7965f",
   "metadata": {},
   "outputs": [
    {
     "name": "stdout",
     "output_type": "stream",
     "text": [
      "Dimensions: 2\n",
      "Shape: (3, 5)\n",
      "Size (Total Elements): 15\n",
      "Data type: float64\n"
     ]
    }
   ],
   "source": [
    "print(f\"Dimensions: {a.ndim}\")\n",
    "print(f\"Shape: {a.shape}\")\n",
    "print(f\"Size (Total Elements): {a.size}\")\n",
    "print(f\"Data type: {a.dtype}\")"
   ]
  },
  {
   "cell_type": "markdown",
   "id": "d7926b00-2524-4690-92bf-d08ec0061e05",
   "metadata": {},
   "source": [
    "##### Accessing elements of array"
   ]
  },
  {
   "cell_type": "code",
   "execution_count": 63,
   "id": "e843aeb2-13b4-40fd-a8ec-742dde5bee4c",
   "metadata": {},
   "outputs": [
    {
     "data": {
      "text/plain": [
       "array([[ 1,  2,  3,  4,  5],\n",
       "       [ 6,  7,  8,  9, 10],\n",
       "       [11, 12, 13, 14, 15]])"
      ]
     },
     "execution_count": 63,
     "metadata": {},
     "output_type": "execute_result"
    }
   ],
   "source": [
    "# instead of a[r][c]\n",
    "# do a[r, c]\n",
    "\n",
    "a = np.array([[1,2,3,4,5], [6,7,8,9,10], [11,12,13,14,15]])\n",
    "a"
   ]
  },
  {
   "cell_type": "code",
   "execution_count": 64,
   "id": "c1c7f79c-a2fc-4cd9-89b9-13229602c36f",
   "metadata": {},
   "outputs": [
    {
     "data": {
      "text/plain": [
       "9"
      ]
     },
     "execution_count": 64,
     "metadata": {},
     "output_type": "execute_result"
    }
   ],
   "source": [
    "a[1, 3]"
   ]
  },
  {
   "cell_type": "code",
   "execution_count": 65,
   "id": "6258d594-ecc4-4f95-aa7b-160bfb50ac0d",
   "metadata": {},
   "outputs": [
    {
     "data": {
      "text/plain": [
       "13"
      ]
     },
     "execution_count": 65,
     "metadata": {},
     "output_type": "execute_result"
    }
   ],
   "source": [
    "a[-1, -3]"
   ]
  },
  {
   "cell_type": "code",
   "execution_count": 66,
   "id": "18f555c1-ea9f-42ef-bfde-e67cb32791bc",
   "metadata": {},
   "outputs": [
    {
     "data": {
      "text/plain": [
       "array([[1, 2, 3, 4, 5]])"
      ]
     },
     "execution_count": 66,
     "metadata": {},
     "output_type": "execute_result"
    }
   ],
   "source": [
    "a[:1]"
   ]
  },
  {
   "cell_type": "code",
   "execution_count": 67,
   "id": "337f4de0-45c9-4b1b-a33a-ed6bfc9880f7",
   "metadata": {},
   "outputs": [
    {
     "data": {
      "text/plain": [
       "array([ 6,  7,  8,  9, 10])"
      ]
     },
     "execution_count": 67,
     "metadata": {},
     "output_type": "execute_result"
    }
   ],
   "source": [
    "a[1,:] # access specific column"
   ]
  },
  {
   "cell_type": "code",
   "execution_count": 68,
   "id": "b670d6d0-06e4-4e67-8d1c-47d51a3af30c",
   "metadata": {},
   "outputs": [
    {
     "data": {
      "text/plain": [
       "array([ 3,  8, 13])"
      ]
     },
     "execution_count": 68,
     "metadata": {},
     "output_type": "execute_result"
    }
   ],
   "source": [
    "a[:, 2] # access specific column"
   ]
  },
  {
   "cell_type": "code",
   "execution_count": null,
   "id": "da3b2bf5-5539-442c-877b-1bbe7aaabf19",
   "metadata": {},
   "outputs": [],
   "source": []
  },
  {
   "cell_type": "markdown",
   "id": "20a94496-0ef1-4693-aa48-5bd39346d309",
   "metadata": {},
   "source": [
    "##### Mathematics"
   ]
  },
  {
   "cell_type": "code",
   "execution_count": 101,
   "id": "c08ffe0c-f257-46bb-ac87-39950e884166",
   "metadata": {},
   "outputs": [
    {
     "data": {
      "text/plain": [
       "array([1, 2, 3, 4, 5])"
      ]
     },
     "execution_count": 101,
     "metadata": {},
     "output_type": "execute_result"
    }
   ],
   "source": [
    "a = np.array([1,2,3,4,5])\n",
    "a"
   ]
  },
  {
   "cell_type": "code",
   "execution_count": 102,
   "id": "c0d70b39-a54f-4f1d-8c4f-73c5fc3b0589",
   "metadata": {},
   "outputs": [
    {
     "data": {
      "text/plain": [
       "array([3, 4, 5, 6, 7])"
      ]
     },
     "execution_count": 102,
     "metadata": {},
     "output_type": "execute_result"
    }
   ],
   "source": [
    "a + 2"
   ]
  },
  {
   "cell_type": "code",
   "execution_count": 103,
   "id": "8891e00e-fa15-44d0-a07b-961ef1b6e3fb",
   "metadata": {},
   "outputs": [
    {
     "data": {
      "text/plain": [
       "array([-1,  0,  1,  2,  3])"
      ]
     },
     "execution_count": 103,
     "metadata": {},
     "output_type": "execute_result"
    }
   ],
   "source": [
    "a-2"
   ]
  },
  {
   "cell_type": "code",
   "execution_count": 104,
   "id": "bfa60e0e-8043-4488-8bb9-bde0703e7b6b",
   "metadata": {},
   "outputs": [
    {
     "data": {
      "text/plain": [
       "array([ 2,  4,  6,  8, 10])"
      ]
     },
     "execution_count": 104,
     "metadata": {},
     "output_type": "execute_result"
    }
   ],
   "source": [
    "a*2"
   ]
  },
  {
   "cell_type": "code",
   "execution_count": 105,
   "id": "7cb1ec43-68b8-43f2-a133-f835bbe1279a",
   "metadata": {},
   "outputs": [
    {
     "data": {
      "text/plain": [
       "array([0.5, 1. , 1.5, 2. , 2.5])"
      ]
     },
     "execution_count": 105,
     "metadata": {},
     "output_type": "execute_result"
    }
   ],
   "source": [
    "a/2"
   ]
  },
  {
   "cell_type": "code",
   "execution_count": 106,
   "id": "2e812c8c-a21e-414f-a075-b19e73413d31",
   "metadata": {},
   "outputs": [
    {
     "data": {
      "text/plain": [
       "array([1, 0, 1, 0, 1], dtype=int32)"
      ]
     },
     "execution_count": 106,
     "metadata": {},
     "output_type": "execute_result"
    }
   ],
   "source": [
    "a%2"
   ]
  },
  {
   "cell_type": "code",
   "execution_count": 107,
   "id": "5c685592-063d-4104-a181-3da8512e0a96",
   "metadata": {},
   "outputs": [
    {
     "data": {
      "text/plain": [
       "array([3, 4, 5, 6, 7])"
      ]
     },
     "execution_count": 107,
     "metadata": {},
     "output_type": "execute_result"
    }
   ],
   "source": [
    "a += 2\n",
    "a"
   ]
  },
  {
   "cell_type": "code",
   "execution_count": 108,
   "id": "db0ce157-8b61-463c-b8fe-c68e14feb9a8",
   "metadata": {},
   "outputs": [
    {
     "data": {
      "text/plain": [
       "array([ 9, 16, 25, 36, 49])"
      ]
     },
     "execution_count": 108,
     "metadata": {},
     "output_type": "execute_result"
    }
   ],
   "source": [
    "a**2"
   ]
  },
  {
   "cell_type": "code",
   "execution_count": 110,
   "id": "b2529d25-11fa-43c8-bfde-1280386c8f90",
   "metadata": {},
   "outputs": [
    {
     "data": {
      "text/plain": [
       "array([ 0.14112001, -0.7568025 , -0.95892427, -0.2794155 ,  0.6569866 ])"
      ]
     },
     "execution_count": 110,
     "metadata": {},
     "output_type": "execute_result"
    }
   ],
   "source": [
    "np.sin(a)"
   ]
  },
  {
   "cell_type": "markdown",
   "id": "bc5a4be5-1fa0-4709-94b9-257cfc93a447",
   "metadata": {},
   "source": [
    "##### Linear Algebra"
   ]
  },
  {
   "cell_type": "code",
   "execution_count": 113,
   "id": "4db603ea-2b92-4453-9f04-e1cda58059e5",
   "metadata": {},
   "outputs": [
    {
     "name": "stdout",
     "output_type": "stream",
     "text": [
      "[[1. 1. 1.]\n",
      " [1. 1. 1.]]\n",
      "[[2 2]\n",
      " [2 2]\n",
      " [2 2]]\n"
     ]
    }
   ],
   "source": [
    "a = np.ones((2,3))\n",
    "b = np.full((3,2), 2)\n",
    "\n",
    "print(a)\n",
    "print(b)"
   ]
  },
  {
   "cell_type": "code",
   "execution_count": 115,
   "id": "b20912ce-e39b-4977-9ac2-ac90f232b250",
   "metadata": {},
   "outputs": [
    {
     "data": {
      "text/plain": [
       "array([[6., 6.],\n",
       "       [6., 6.]])"
      ]
     },
     "execution_count": 115,
     "metadata": {},
     "output_type": "execute_result"
    }
   ],
   "source": [
    "np.matmul(a,b)"
   ]
  },
  {
   "cell_type": "code",
   "execution_count": 127,
   "id": "9617867e-8f1c-4443-899b-d97439903657",
   "metadata": {},
   "outputs": [
    {
     "data": {
      "text/plain": [
       "array([[   1,    2,    3],\n",
       "       [  11, 1212, 2122],\n",
       "       [   7,    8,    9]])"
      ]
     },
     "execution_count": 127,
     "metadata": {},
     "output_type": "execute_result"
    }
   ],
   "source": [
    "# determinant\n",
    "\n",
    "a = np.array([[1,2,3], [11,1212,2122], [7,8,9]])\n",
    "a"
   ]
  },
  {
   "cell_type": "code",
   "execution_count": 128,
   "id": "f75a7768-87bb-4d68-9e22-396cc04375cc",
   "metadata": {},
   "outputs": [
    {
     "data": {
      "text/plain": [
       "-1746"
      ]
     },
     "execution_count": 128,
     "metadata": {},
     "output_type": "execute_result"
    }
   ],
   "source": [
    "int(np.linalg.det(a))"
   ]
  },
  {
   "cell_type": "markdown",
   "id": "e8ac3919-5393-4106-bfe3-672fcb5963a5",
   "metadata": {},
   "source": [
    "##### Statictics"
   ]
  },
  {
   "cell_type": "code",
   "execution_count": 131,
   "id": "03ffe023-7949-48e2-826f-93b255ba4f26",
   "metadata": {},
   "outputs": [
    {
     "data": {
      "text/plain": [
       "array([[ 21,   2,  14,  35,  12,  32],\n",
       "       [231, 124,   1,  51,   5, 235]])"
      ]
     },
     "execution_count": 131,
     "metadata": {},
     "output_type": "execute_result"
    }
   ],
   "source": [
    "a = np.array([[21,2,14,35,12,32], [231,124,1,51,5,235]])\n",
    "a"
   ]
  },
  {
   "cell_type": "code",
   "execution_count": 132,
   "id": "b6085ad5-78e1-4845-a742-5b8dcf23ce50",
   "metadata": {},
   "outputs": [
    {
     "data": {
      "text/plain": [
       "1"
      ]
     },
     "execution_count": 132,
     "metadata": {},
     "output_type": "execute_result"
    }
   ],
   "source": [
    "np.min(a)"
   ]
  },
  {
   "cell_type": "code",
   "execution_count": 133,
   "id": "8d1bfa02-8c13-4f55-ac5b-e582ad3f4693",
   "metadata": {},
   "outputs": [
    {
     "data": {
      "text/plain": [
       "235"
      ]
     },
     "execution_count": 133,
     "metadata": {},
     "output_type": "execute_result"
    }
   ],
   "source": [
    "np.max(a)"
   ]
  },
  {
   "cell_type": "code",
   "execution_count": 135,
   "id": "db7d91a4-419f-477c-a0c7-23f06f272ea2",
   "metadata": {},
   "outputs": [
    {
     "data": {
      "text/plain": [
       "63.583333333333336"
      ]
     },
     "execution_count": 135,
     "metadata": {},
     "output_type": "execute_result"
    }
   ],
   "source": [
    "np.mean(a)"
   ]
  },
  {
   "cell_type": "code",
   "execution_count": 137,
   "id": "0c178827-c719-453f-ad6b-fcf155407ac8",
   "metadata": {},
   "outputs": [
    {
     "data": {
      "text/plain": [
       "array([2, 1])"
      ]
     },
     "execution_count": 137,
     "metadata": {},
     "output_type": "execute_result"
    }
   ],
   "source": [
    "np.min(a, axis=1)"
   ]
  },
  {
   "cell_type": "code",
   "execution_count": 139,
   "id": "8a2a6407-3fd5-4535-90a9-ab805020beec",
   "metadata": {},
   "outputs": [
    {
     "data": {
      "text/plain": [
       "array([ 35, 235])"
      ]
     },
     "execution_count": 139,
     "metadata": {},
     "output_type": "execute_result"
    }
   ],
   "source": [
    "np.max(a, axis=1)"
   ]
  },
  {
   "cell_type": "code",
   "execution_count": 141,
   "id": "f6a9032c-155c-4696-9968-4aa03d35ead3",
   "metadata": {},
   "outputs": [
    {
     "data": {
      "text/plain": [
       "array([252, 126,  15,  86,  17, 267])"
      ]
     },
     "execution_count": 141,
     "metadata": {},
     "output_type": "execute_result"
    }
   ],
   "source": [
    "np.sum(a, axis=0)"
   ]
  },
  {
   "cell_type": "code",
   "execution_count": 142,
   "id": "e51ae271-4c48-4a52-8777-ffcba37d85dd",
   "metadata": {},
   "outputs": [
    {
     "data": {
      "text/plain": [
       "array([116, 647])"
      ]
     },
     "execution_count": 142,
     "metadata": {},
     "output_type": "execute_result"
    }
   ],
   "source": [
    "np.sum(a, axis=1)"
   ]
  },
  {
   "cell_type": "markdown",
   "id": "727062e0-9ac5-4de2-800e-33b57ae62fe4",
   "metadata": {},
   "source": [
    "##### Re-organizing array"
   ]
  },
  {
   "cell_type": "code",
   "execution_count": 145,
   "id": "8f7bfe6a-9c2c-4e92-8b4d-96f1bbb36760",
   "metadata": {},
   "outputs": [
    {
     "name": "stdout",
     "output_type": "stream",
     "text": [
      "[[ 1  2  3  4  5]\n",
      " [ 6  7  8  9 10]]\n",
      "[[ 1  2]\n",
      " [ 3  4]\n",
      " [ 5  6]\n",
      " [ 7  8]\n",
      " [ 9 10]]\n",
      "[[ 1  2  3  4  5  6  7  8  9 10]]\n"
     ]
    }
   ],
   "source": [
    "before = np.array([[1,2,3,4,5], [6,7,8,9,10]])\n",
    "print(before)\n",
    "\n",
    "after = before.reshape((5,2))\n",
    "print(after)\n",
    "print(after.reshape((1,10)))"
   ]
  },
  {
   "cell_type": "code",
   "execution_count": 146,
   "id": "e4353c49-ffa0-44b4-b257-7e8130ce8903",
   "metadata": {},
   "outputs": [],
   "source": [
    "a = np.array([1,2,3,4])\n",
    "b = np.array([5,6,7,8])"
   ]
  },
  {
   "cell_type": "code",
   "execution_count": 148,
   "id": "0db32aa0-0b8f-448b-8c63-e8b0fb84fd79",
   "metadata": {},
   "outputs": [
    {
     "data": {
      "text/plain": [
       "array([[1, 2, 3, 4],\n",
       "       [5, 6, 7, 8],\n",
       "       [5, 6, 7, 8]])"
      ]
     },
     "execution_count": 148,
     "metadata": {},
     "output_type": "execute_result"
    }
   ],
   "source": [
    "np.vstack((a,b,b))"
   ]
  },
  {
   "cell_type": "code",
   "execution_count": 150,
   "id": "fffeed38-b86a-49a7-8cf4-e943100da4c2",
   "metadata": {},
   "outputs": [
    {
     "data": {
      "text/plain": [
       "array([1, 2, 3, 4, 1, 2, 3, 4, 5, 6, 7, 8])"
      ]
     },
     "execution_count": 150,
     "metadata": {},
     "output_type": "execute_result"
    }
   ],
   "source": [
    "np.hstack((a,a,b))"
   ]
  },
  {
   "cell_type": "markdown",
   "id": "587efb64-38af-447d-bb40-301764a45e12",
   "metadata": {},
   "source": [
    "##### Load data from file"
   ]
  },
  {
   "cell_type": "code",
   "execution_count": 153,
   "id": "e1f67084-5d6e-4f74-a534-9cd851f3fe3f",
   "metadata": {},
   "outputs": [
    {
     "name": "stdout",
     "output_type": "stream",
     "text": [
      "[[ 1.  2.  3.  4.  5.  6.  7.  8.]\n",
      " [ 9. 10. 11. 12. 13. 14. 15. 16.]\n",
      " [17. 18. 19. 20. 21. 22. 23. 24.]]\n",
      "[[ 1  2  3  4  5  6  7  8]\n",
      " [ 9 10 11 12 13 14 15 16]\n",
      " [17 18 19 20 21 22 23 24]]\n",
      "[[ 1  2  3  4  5  6  7  8]\n",
      " [ 9 10 11 12 13 14 15 16]\n",
      " [17 18 19 20 21 22 23 24]]\n"
     ]
    }
   ],
   "source": [
    "file_data = np.genfromtxt(\"21_data.txt\", delimiter=\",\")\n",
    "print(file_data)\n",
    "print(file_data.astype(\"int32\"))\n",
    "file_data = file_data.astype(\"int32\")\n",
    "print(file_data)\n"
   ]
  },
  {
   "cell_type": "markdown",
   "id": "ede203e9-a8c4-46e5-af4b-2dfc93728366",
   "metadata": {},
   "source": [
    "##### Boolean Masking and Advanced Indexing"
   ]
  },
  {
   "cell_type": "code",
   "execution_count": 156,
   "id": "bd289c3c-4ff0-48ae-95f6-1b81d8866d3a",
   "metadata": {},
   "outputs": [
    {
     "data": {
      "text/plain": [
       "array([[False, False, False, False, False, False, False, False],\n",
       "       [False, False, False, False,  True,  True,  True,  True],\n",
       "       [ True,  True,  True,  True,  True,  True,  True,  True]])"
      ]
     },
     "execution_count": 156,
     "metadata": {},
     "output_type": "execute_result"
    }
   ],
   "source": [
    "file_data > 12"
   ]
  },
  {
   "cell_type": "code",
   "execution_count": 157,
   "id": "3ea35aad-6b1b-4c83-95bc-e3990c12243b",
   "metadata": {},
   "outputs": [
    {
     "data": {
      "text/plain": [
       "array([16, 17, 18, 19, 20, 21, 22, 23, 24])"
      ]
     },
     "execution_count": 157,
     "metadata": {},
     "output_type": "execute_result"
    }
   ],
   "source": [
    "file_data[file_data > 15]"
   ]
  },
  {
   "cell_type": "code",
   "execution_count": 166,
   "id": "87d81c76-e650-494f-b771-fb8f9931eddf",
   "metadata": {},
   "outputs": [
    {
     "data": {
      "text/plain": [
       "array([2, 3, 9])"
      ]
     },
     "execution_count": 166,
     "metadata": {},
     "output_type": "execute_result"
    }
   ],
   "source": [
    "a = np.array([1,2,3,4,5,6,7,8,9])\n",
    "a[[1,2,8]]"
   ]
  },
  {
   "cell_type": "code",
   "execution_count": null,
   "id": "7ed638a5-a3a1-4a68-b938-ea3afdc00157",
   "metadata": {},
   "outputs": [],
   "source": []
  },
  {
   "cell_type": "code",
   "execution_count": 167,
   "id": "b18c324c-a7b5-439a-90ff-e6c3f6d33c4a",
   "metadata": {},
   "outputs": [
    {
     "name": "stdout",
     "output_type": "stream",
     "text": [
      "[[ 1.  2.  3.  4.  5.]\n",
      " [ 6.  7.  8.  9. 10.]\n",
      " [11. 12. 13. 14. 15.]\n",
      " [16. 17. 18. 19. 20.]\n",
      " [21. 22. 23. 24. 25.]\n",
      " [26. 27. 28. 29. 30.]]\n"
     ]
    }
   ],
   "source": [
    "# problem:\n",
    "file_data = np.genfromtxt(\"21_data.txt\", delimiter=\",\")\n",
    "print(file_data)"
   ]
  },
  {
   "cell_type": "code",
   "execution_count": 170,
   "id": "72e9f7b1-fadf-40b4-920b-c3e67d101f4c",
   "metadata": {},
   "outputs": [
    {
     "data": {
      "text/plain": [
       "array([[11., 12.],\n",
       "       [16., 17.]])"
      ]
     },
     "execution_count": 170,
     "metadata": {},
     "output_type": "execute_result"
    }
   ],
   "source": [
    "# get [11,12] through indexing\n",
    "#     [16,17] \n",
    "\n",
    "file_data[2:4, :2]"
   ]
  },
  {
   "cell_type": "code",
   "execution_count": 178,
   "id": "11bd8d5a-7038-4bc2-88a5-e27360afb3eb",
   "metadata": {},
   "outputs": [
    {
     "data": {
      "text/plain": [
       "array([[ 4.,  5.],\n",
       "       [24., 25.],\n",
       "       [29., 30.]])"
      ]
     },
     "execution_count": 178,
     "metadata": {},
     "output_type": "execute_result"
    }
   ],
   "source": [
    "# get [4,5] through indexing\n",
    "#     [24,25] \n",
    "#     [29,30] \n",
    "\n",
    "file_data[[0,-2,-1], 3:]"
   ]
  },
  {
   "cell_type": "code",
   "execution_count": null,
   "id": "958ba8e0-10fa-4a7c-9eec-7a1fab1d4bc1",
   "metadata": {},
   "outputs": [],
   "source": []
  },
  {
   "cell_type": "markdown",
   "id": "d9e3e3ec-e63b-43f2-b01c-24cde31ab550",
   "metadata": {
    "jp-MarkdownHeadingCollapsed": true
   },
   "source": [
    "### 1 Basic Operations and Arrays Exercises"
   ]
  },
  {
   "cell_type": "markdown",
   "id": "dc177e01-cebe-4313-a976-97e03a882b16",
   "metadata": {},
   "source": [
    "#### Numpy Basics Exercises"
   ]
  },
  {
   "cell_type": "code",
   "execution_count": 179,
   "id": "4aa60a39-9265-4019-a866-734d201e982f",
   "metadata": {},
   "outputs": [],
   "source": [
    "import numpy as np"
   ]
  },
  {
   "cell_type": "code",
   "execution_count": 180,
   "id": "31f0774d-60af-4bbd-80d7-160bf2dc7ce0",
   "metadata": {},
   "outputs": [
    {
     "data": {
      "text/plain": [
       "'1.26.4'"
      ]
     },
     "execution_count": 180,
     "metadata": {},
     "output_type": "execute_result"
    }
   ],
   "source": [
    "np.__version__"
   ]
  },
  {
   "cell_type": "code",
   "execution_count": 181,
   "id": "4fc586db-8aa3-47c6-96fe-a5a31f98d498",
   "metadata": {
    "scrolled": true
   },
   "outputs": [
    {
     "name": "stdout",
     "output_type": "stream",
     "text": [
      "Build Dependencies:\n",
      "  blas:\n",
      "    detection method: pkgconfig\n",
      "    found: true\n",
      "    include directory: C:/Users/KaranJJoshi/anaconda3/Library/include\n",
      "    lib directory: C:/Users/KaranJJoshi/anaconda3/Library/lib\n",
      "    name: mkl-sdl\n",
      "    openblas configuration: unknown\n",
      "    pc file directory: C:\\b\\abs_c1ywpu18ar\\croot\\numpy_and_numpy_base_1708638681471\\_h_env\\Library\\lib\\pkgconfig\n",
      "    version: '2023.1'\n",
      "  lapack:\n",
      "    detection method: internal\n",
      "    found: true\n",
      "    include directory: unknown\n",
      "    lib directory: unknown\n",
      "    name: dep1583119523984\n",
      "    openblas configuration: unknown\n",
      "    pc file directory: unknown\n",
      "    version: 1.26.4\n",
      "Compilers:\n",
      "  c:\n",
      "    commands: cl.exe\n",
      "    linker: link\n",
      "    name: msvc\n",
      "    version: 19.29.30154\n",
      "  c++:\n",
      "    commands: cl.exe\n",
      "    linker: link\n",
      "    name: msvc\n",
      "    version: 19.29.30154\n",
      "  cython:\n",
      "    commands: cython\n",
      "    linker: cython\n",
      "    name: cython\n",
      "    version: 3.0.8\n",
      "Machine Information:\n",
      "  build:\n",
      "    cpu: x86_64\n",
      "    endian: little\n",
      "    family: x86_64\n",
      "    system: windows\n",
      "  host:\n",
      "    cpu: x86_64\n",
      "    endian: little\n",
      "    family: x86_64\n",
      "    system: windows\n",
      "Python Information:\n",
      "  path: C:\\b\\abs_c1ywpu18ar\\croot\\numpy_and_numpy_base_1708638681471\\_h_env\\python.exe\n",
      "  version: '3.12'\n",
      "SIMD Extensions:\n",
      "  baseline:\n",
      "  - SSE\n",
      "  - SSE2\n",
      "  - SSE3\n",
      "  found:\n",
      "  - SSSE3\n",
      "  - SSE41\n",
      "  - POPCNT\n",
      "  - SSE42\n",
      "  - AVX\n",
      "  - F16C\n",
      "  - FMA3\n",
      "  - AVX2\n",
      "  not found:\n",
      "  - AVX512F\n",
      "  - AVX512CD\n",
      "  - AVX512_SKX\n",
      "  - AVX512_CLX\n",
      "  - AVX512_CNL\n",
      "  - AVX512_ICL\n",
      "\n"
     ]
    }
   ],
   "source": [
    "np.show_config()"
   ]
  },
  {
   "cell_type": "code",
   "execution_count": null,
   "id": "5c06a875-ed7c-4980-8649-e12e549dfc82",
   "metadata": {},
   "outputs": [],
   "source": []
  },
  {
   "cell_type": "markdown",
   "id": "a993bebf-73fc-4f78-827b-da0efd71473c",
   "metadata": {},
   "source": [
    "#1. Write a NumPy program to swap rows and columns of a given array in reverse order."
   ]
  },
  {
   "cell_type": "code",
   "execution_count": 183,
   "id": "f4011755-50ab-4fd4-8d41-917437c80850",
   "metadata": {},
   "outputs": [
    {
     "data": {
      "text/plain": [
       "array([[1, 2, 3],\n",
       "       [4, 5, 6],\n",
       "       [7, 8, 9]])"
      ]
     },
     "execution_count": 183,
     "metadata": {},
     "output_type": "execute_result"
    }
   ],
   "source": [
    "a = np.array([[1,2,3],[4,5,6],[7,8,9]])\n",
    "a"
   ]
  },
  {
   "cell_type": "code",
   "execution_count": 194,
   "id": "b170c35f-ab29-4d0d-b5b7-3b309f710d21",
   "metadata": {},
   "outputs": [
    {
     "data": {
      "text/plain": [
       "array([[9, 8, 7],\n",
       "       [6, 5, 4],\n",
       "       [3, 2, 1]])"
      ]
     },
     "execution_count": 194,
     "metadata": {},
     "output_type": "execute_result"
    }
   ],
   "source": [
    "a[::-1, ::-1]"
   ]
  },
  {
   "cell_type": "code",
   "execution_count": 196,
   "id": "95d2cff4-51b1-4fa6-82da-9037319f0e23",
   "metadata": {},
   "outputs": [
    {
     "data": {
      "text/plain": [
       "array([[7, 8, 9],\n",
       "       [4, 5, 6],\n",
       "       [1, 2, 3]])"
      ]
     },
     "execution_count": 196,
     "metadata": {},
     "output_type": "execute_result"
    }
   ],
   "source": [
    "# Wrong\n",
    "a[::-1]"
   ]
  },
  {
   "cell_type": "code",
   "execution_count": null,
   "id": "001db29b-ee7f-4d8e-a115-30e051ac3f65",
   "metadata": {},
   "outputs": [],
   "source": []
  },
  {
   "cell_type": "markdown",
   "id": "c042492e-9d3f-4bf2-86bf-386b697511cc",
   "metadata": {},
   "source": [
    "#2. Write a NumPy program to create a 4x4 array. Create an array from said array by swapping first and last, second and third columns."
   ]
  },
  {
   "cell_type": "code",
   "execution_count": 202,
   "id": "585df601-503b-40fd-bafd-08447ce88c2d",
   "metadata": {},
   "outputs": [
    {
     "data": {
      "text/plain": [
       "array([[ 1,  2,  3,  4],\n",
       "       [ 5,  6,  7,  8],\n",
       "       [ 9, 10, 11, 12],\n",
       "       [13, 14, 15, 16]])"
      ]
     },
     "execution_count": 202,
     "metadata": {},
     "output_type": "execute_result"
    }
   ],
   "source": [
    "b = np.array([[1,2,3,4], [5,6,7,8], [9,10,11,12], [13,14,15,16]])\n",
    "b"
   ]
  },
  {
   "cell_type": "code",
   "execution_count": 203,
   "id": "8f3604c0-ed85-4a88-ae38-9b49dbbb4013",
   "metadata": {},
   "outputs": [
    {
     "data": {
      "text/plain": [
       "array([[ 1,  4],\n",
       "       [ 5,  8],\n",
       "       [ 9, 12],\n",
       "       [13, 16]])"
      ]
     },
     "execution_count": 203,
     "metadata": {},
     "output_type": "execute_result"
    }
   ],
   "source": [
    "b[:, [0,-1]]"
   ]
  },
  {
   "cell_type": "code",
   "execution_count": 217,
   "id": "9d0b0644-213b-43ff-8e02-5fabd2e7aaab",
   "metadata": {},
   "outputs": [
    {
     "data": {
      "text/plain": [
       "array([[ 4,  3,  2,  1],\n",
       "       [ 8,  7,  6,  5],\n",
       "       [12, 11, 10,  9],\n",
       "       [16, 15, 14, 13]])"
      ]
     },
     "execution_count": 217,
     "metadata": {},
     "output_type": "execute_result"
    }
   ],
   "source": [
    "new_array = b.copy()\n",
    "new_array[:, [0]], new_array[:, [-1]] = new_array[:, [-1]], new_array[:, [0]]\n",
    "new_array[:, [1]], new_array[:, [-2]] = new_array[:, [-2]], new_array[:, [1]]\n",
    "new_array"
   ]
  },
  {
   "cell_type": "code",
   "execution_count": null,
   "id": "6d975a3c-9a91-46d6-8067-4ff8dc265ed2",
   "metadata": {},
   "outputs": [],
   "source": []
  },
  {
   "cell_type": "markdown",
   "id": "12263994-ff21-4a68-b8a5-5f2bfdbec903",
   "metadata": {},
   "source": [
    "#### Numpy Basics Exercises"
   ]
  },
  {
   "cell_type": "markdown",
   "id": "c20c8714-9a57-4455-95cb-96a5e595905a",
   "metadata": {},
   "source": [
    "#1. Write a NumPy program to extract all the rows to compute the student weight from a given array (student information) where a specific column starts with a given character."
   ]
  },
  {
   "cell_type": "code",
   "execution_count": 257,
   "id": "4e0b076e-be45-4f71-8e9a-fdc00eb28d88",
   "metadata": {},
   "outputs": [
    {
     "data": {
      "text/plain": [
       "array([['01', 'V', 'Debby Pramod', '30.21'],\n",
       "       ['02', 'V', 'Artemiy Ellie', '29.32'],\n",
       "       ['03', 'V', 'Baptist Kamal', '31.0'],\n",
       "       ['04', 'V', 'Lavanya Davide', '30.22'],\n",
       "       ['05', 'V', 'Fulton Antwan', '30.21'],\n",
       "       ['06', 'V', 'Euanthe Sandeep', '31.0'],\n",
       "       ['07', 'V', 'Endzela Sanda', '32.0'],\n",
       "       ['08', 'V', 'Victoire Waman', '29.21'],\n",
       "       ['09', 'V', 'Briar Nur', '30.0'],\n",
       "       ['10', 'V', 'Rose Lykos', '32.0']], dtype='<U15')"
      ]
     },
     "execution_count": 257,
     "metadata": {},
     "output_type": "execute_result"
    }
   ],
   "source": [
    "a = np.array(\n",
    "[['01','V','Debby Pramod','30.21'],\n",
    "['02','V','Artemiy Ellie','29.32'],\n",
    "['03','V','Baptist Kamal','31.0'],\n",
    "['04','V','Lavanya Davide','30.22'],\n",
    "['05','V','Fulton Antwan','30.21'],\n",
    "['06','V','Euanthe Sandeep','31.0'],\n",
    "['07','V','Endzela Sanda','32.0'],\n",
    "['08','V','Victoire Waman','29.21'],\n",
    "['09','V','Briar Nur','30.0'],\n",
    "['10','V','Rose Lykos','32.0']])\n",
    "a"
   ]
  },
  {
   "cell_type": "code",
   "execution_count": 258,
   "id": "dd4ca885-078e-471d-acc2-cf540340d5e2",
   "metadata": {},
   "outputs": [
    {
     "data": {
      "text/plain": [
       "array([['06', 'V', 'Euanthe Sandeep', '31.0'],\n",
       "       ['07', 'V', 'Endzela Sanda', '32.0']], dtype='<U15')"
      ]
     },
     "execution_count": 258,
     "metadata": {},
     "output_type": "execute_result"
    }
   ],
   "source": [
    "res = a[np.char.startswith(a[:, 2], \"E\")]\n",
    "res"
   ]
  },
  {
   "cell_type": "code",
   "execution_count": 264,
   "id": "82175852-6b6c-4c8a-87db-f83c568c8791",
   "metadata": {},
   "outputs": [
    {
     "data": {
      "text/plain": [
       "63.0"
      ]
     },
     "execution_count": 264,
     "metadata": {},
     "output_type": "execute_result"
    }
   ],
   "source": [
    "answer = res[:, -1].astype(\"float\").sum()\n",
    "answer"
   ]
  },
  {
   "cell_type": "code",
   "execution_count": null,
   "id": "411c0e2d-3c8e-4aa3-a6d0-1f93510f54b3",
   "metadata": {},
   "outputs": [],
   "source": []
  },
  {
   "cell_type": "markdown",
   "id": "90d66f18-d590-46df-8c7e-aff1a7ae8d0b",
   "metadata": {},
   "source": [
    "#2. Write a NumPy program to calculate the arithmetic mean of the corresponding elements of two given arrays of the same size."
   ]
  },
  {
   "cell_type": "code",
   "execution_count": 267,
   "id": "c0e6760d-b602-4d05-862c-9ee55cc8e2ec",
   "metadata": {},
   "outputs": [],
   "source": [
    "a = np.array([[2,5,2],[1,5,5]])\n",
    "b = np.array([[5,3,4],[3,2,5]])"
   ]
  },
  {
   "cell_type": "code",
   "execution_count": 271,
   "id": "5cd23ec2-6382-4746-a37a-2d43deb3d113",
   "metadata": {},
   "outputs": [
    {
     "name": "stdout",
     "output_type": "stream",
     "text": [
      "[[3.5 4.  3. ]\n",
      " [2.  3.5 5. ]]\n"
     ]
    }
   ],
   "source": [
    "c = np.array((a+b)/2)\n",
    "print(c)"
   ]
  },
  {
   "cell_type": "code",
   "execution_count": null,
   "id": "00c88377-eb7d-43d8-bcc8-71120f25a45b",
   "metadata": {},
   "outputs": [],
   "source": []
  },
  {
   "cell_type": "markdown",
   "id": "eb42040f-b223-44df-a445-e4ca5d8c4d93",
   "metadata": {
    "jp-MarkdownHeadingCollapsed": true
   },
   "source": [
    "### 2 NumPy Math, Linear Algebraa and Statistics Exercises"
   ]
  },
  {
   "cell_type": "markdown",
   "id": "b21992a9-717c-4855-99b3-9aa1f9819994",
   "metadata": {},
   "source": [
    "#### Maths Exercises"
   ]
  },
  {
   "cell_type": "markdown",
   "id": "96f7339d-dae6-4fdd-9638-97a535ee59f8",
   "metadata": {},
   "source": [
    "#1. Write a NumPy program to find the roots of the following polynomials."
   ]
  },
  {
   "cell_type": "markdown",
   "id": "247f5136-4686-4e21-9eb0-53479830ea38",
   "metadata": {},
   "source": [
    "a) x2 - 4x + 7.\n",
    "b) x4 - 11x3 + 9x2 + 11x - 10"
   ]
  },
  {
   "cell_type": "code",
   "execution_count": 278,
   "id": "a595bf16-cbf3-48d6-893d-995d17523667",
   "metadata": {},
   "outputs": [
    {
     "data": {
      "text/plain": [
       "array([2.+1.73205081j, 2.-1.73205081j])"
      ]
     },
     "execution_count": 278,
     "metadata": {},
     "output_type": "execute_result"
    }
   ],
   "source": [
    "np.roots([1,-4,7])"
   ]
  },
  {
   "cell_type": "code",
   "execution_count": 280,
   "id": "eb3f90aa-359a-45cd-a1bf-6dbf89e5ef8b",
   "metadata": {},
   "outputs": [
    {
     "data": {
      "text/plain": [
       "array([10.        , -1.        ,  0.99999998,  1.00000002])"
      ]
     },
     "execution_count": 280,
     "metadata": {},
     "output_type": "execute_result"
    }
   ],
   "source": [
    "np.roots([1,-11,9,11,-10])"
   ]
  },
  {
   "cell_type": "code",
   "execution_count": null,
   "id": "de4076c4-71ad-4547-b6da-3d138a95d042",
   "metadata": {},
   "outputs": [],
   "source": []
  },
  {
   "cell_type": "markdown",
   "id": "3ad77086-ec4c-4663-a41f-5b82efe13555",
   "metadata": {},
   "source": [
    "#2. Write a NumPy program to compute xy, element-wise where x, y are two given arrays.\n",
    "Sample output"
   ]
  },
  {
   "cell_type": "code",
   "execution_count": 281,
   "id": "b1c96a5b-aa0f-428a-8f8f-cef76662d767",
   "metadata": {},
   "outputs": [
    {
     "name": "stdout",
     "output_type": "stream",
     "text": [
      "[[ 1  2]\n",
      " [ 3 16]]\n"
     ]
    }
   ],
   "source": [
    "a = np.array([[1,2], [3,4]])\n",
    "b = np.array([[2,1], [1,2]])\n",
    "\n",
    "print(a**b)"
   ]
  },
  {
   "cell_type": "code",
   "execution_count": null,
   "id": "e2526192-912f-485c-92a6-c470b17a4ec6",
   "metadata": {},
   "outputs": [],
   "source": []
  },
  {
   "cell_type": "markdown",
   "id": "353685c3-d370-4e88-9dde-ad0e9cb52a67",
   "metadata": {},
   "source": [
    "#3. Write a NumPy program to compute an element-wise indication of the sign for all elements in a given array"
   ]
  },
  {
   "cell_type": "markdown",
   "id": "dd0ffdd9-00d5-4743-8683-87932b366c35",
   "metadata": {},
   "source": [
    "Original array: <br>\n",
    "[ 1 3 5 0 -1 -7 0 5] <br>\n",
    "Element-wise indication of the sign for all elements of the said array: <br>\n",
    "[ 1 1 1 0 -1 -1 0 1]"
   ]
  },
  {
   "cell_type": "code",
   "execution_count": 286,
   "id": "961a2acf-0a80-4b2d-bfbf-90f2d4228443",
   "metadata": {},
   "outputs": [
    {
     "data": {
      "text/plain": [
       "array([ 1,  3,  5,  0, -1, -7,  0,  5])"
      ]
     },
     "execution_count": 286,
     "metadata": {},
     "output_type": "execute_result"
    }
   ],
   "source": [
    "a = np.array([1,3,5,0,-1,-7,0,5])\n",
    "a"
   ]
  },
  {
   "cell_type": "code",
   "execution_count": 292,
   "id": "5896bc12-853f-48d8-9deb-3cc45716a158",
   "metadata": {},
   "outputs": [
    {
     "name": "stdout",
     "output_type": "stream",
     "text": [
      "Final Result: \n",
      "[ 1  1  1  0 -1 -1  0  1]\n"
     ]
    }
   ],
   "source": [
    "a[a > 0] = 1\n",
    "a[a < 0 ] = -1\n",
    "print(f\"Final Result: \\n{a}\")"
   ]
  },
  {
   "cell_type": "code",
   "execution_count": null,
   "id": "ff40fe8f-7885-4a72-ad1c-632d40472f7f",
   "metadata": {},
   "outputs": [],
   "source": []
  },
  {
   "cell_type": "markdown",
   "id": "15d8be8e-f026-46b6-a28d-56e9640f5648",
   "metadata": {},
   "source": [
    "#### Linear Algebra Exercises"
   ]
  },
  {
   "cell_type": "markdown",
   "id": "f35b65f0-46fa-4bfd-9753-f53381d6b213",
   "metadata": {},
   "source": [
    "#1. Write a NumPy program to compute the sum of the diagonal element of a given array "
   ]
  },
  {
   "cell_type": "code",
   "execution_count": 293,
   "id": "240126fd-429e-42df-845f-5e50376530f9",
   "metadata": {},
   "outputs": [
    {
     "data": {
      "text/plain": [
       "array([[1, 2, 3],\n",
       "       [4, 5, 6],\n",
       "       [7, 8, 9]])"
      ]
     },
     "execution_count": 293,
     "metadata": {},
     "output_type": "execute_result"
    }
   ],
   "source": [
    "m1 = np.array([[1,2,3], [4,5,6], [7,8,9]])\n",
    "m1"
   ]
  },
  {
   "cell_type": "code",
   "execution_count": 306,
   "id": "97341283-c196-43c3-94aa-9fd25ad9667b",
   "metadata": {},
   "outputs": [
    {
     "name": "stdout",
     "output_type": "stream",
     "text": [
      "Sum of diagonal elements : 15\n",
      "Sum of diagonal elements : 15\n"
     ]
    }
   ],
   "source": [
    "print(f\"Sum of diagonal elements : {sum(m1[[0,1,2], [0,1,2]])}\")\n",
    "# or we can do following:\n",
    "print(f\"Sum of diagonal elements : {np.trace(m1)}\")"
   ]
  },
  {
   "cell_type": "code",
   "execution_count": null,
   "id": "52786027-73c4-4b10-8dcc-bdf916246f00",
   "metadata": {},
   "outputs": [],
   "source": []
  },
  {
   "cell_type": "markdown",
   "id": "39353382-a58f-4c65-a708-b02ddb0936bd",
   "metadata": {},
   "source": [
    "#2. Write a NumPy program to compute the factor of a given array by Singular Value Decomposition."
   ]
  },
  {
   "cell_type": "code",
   "execution_count": 307,
   "id": "5ca109f5-6384-40ed-a162-75faef0083ef",
   "metadata": {},
   "outputs": [
    {
     "name": "stdout",
     "output_type": "stream",
     "text": [
      "m2 = Usv^T\n",
      "\n",
      "U :\n",
      "[[-0.21483724  0.88723069  0.40824829]\n",
      " [-0.52058739  0.24964395 -0.81649658]\n",
      " [-0.82633754 -0.38794278  0.40824829]]\n",
      "s :\n",
      "[1.68481034e+01 1.06836951e+00 3.33475287e-16]\n",
      "v :\n",
      "[[-0.47967118 -0.57236779 -0.66506441]\n",
      " [-0.77669099 -0.07568647  0.62531805]\n",
      " [-0.40824829  0.81649658 -0.40824829]]\n"
     ]
    }
   ],
   "source": [
    "m2 = np.array([[1,2,3], [4,5,6], [7,8,9]])\n",
    "\n",
    "U, s, v = np.linalg.svd(m2)\n",
    "print(f\"m2 = Usv^T\\n\")\n",
    "print(f\"U :\\n{U}\")\n",
    "print(f\"s :\\n{s}\")\n",
    "print(f\"v :\\n{v}\")"
   ]
  },
  {
   "cell_type": "code",
   "execution_count": null,
   "id": "8cd99cd2-6750-4cd0-bc4c-f8450709b1a9",
   "metadata": {},
   "outputs": [],
   "source": []
  },
  {
   "cell_type": "markdown",
   "id": "ed899536-eeb4-42ff-9373-733ce2d6f2d0",
   "metadata": {},
   "source": [
    "#### Statistics Exercises"
   ]
  },
  {
   "cell_type": "markdown",
   "id": "c16dea04-281e-4c72-950c-c24a9d0df5af",
   "metadata": {},
   "source": [
    "#1. Write a Python program to count number of occurrences of each value in a given array of non-negative integers."
   ]
  },
  {
   "cell_type": "markdown",
   "id": "3842a868-d4f3-45b7-9b5a-699de17430b7",
   "metadata": {},
   "source": [
    "Original array: <br>\n",
    "[0, 1, 6, 1, 4, 1, 2, 2, 7] <br>\n",
    "Number of occurrences of each value in array: <br>\n",
    "[1 3 2 0 1 0 1 1] <br>"
   ]
  },
  {
   "cell_type": "code",
   "execution_count": 309,
   "id": "2a37854e-8510-44c0-b79a-10235c8b5a4c",
   "metadata": {},
   "outputs": [
    {
     "data": {
      "text/plain": [
       "array([0, 1, 6, 1, 4, 1, 2, 2, 7])"
      ]
     },
     "execution_count": 309,
     "metadata": {},
     "output_type": "execute_result"
    }
   ],
   "source": [
    "c = np.array([0, 1, 6, 1, 4, 1, 2, 2, 7])\n",
    "c"
   ]
  },
  {
   "cell_type": "code",
   "execution_count": 313,
   "id": "5b17c59f-d207-48bb-ac21-20113af94ca7",
   "metadata": {},
   "outputs": [
    {
     "name": "stdout",
     "output_type": "stream",
     "text": [
      "Freq: [1 3 2 0 1 0 1 1]\n"
     ]
    }
   ],
   "source": [
    "print(f\"Freq: {np.bincount(c)}\")"
   ]
  },
  {
   "cell_type": "code",
   "execution_count": null,
   "id": "2bf93e28-638f-4451-96a2-e48132eb0a4f",
   "metadata": {},
   "outputs": [],
   "source": []
  },
  {
   "cell_type": "markdown",
   "id": "0f6c62f8-5a99-4773-b2e8-f5478766bfcf",
   "metadata": {},
   "source": [
    "### 3 Numpy Ranodm Exercises"
   ]
  },
  {
   "cell_type": "markdown",
   "id": "e9effef7-b543-4768-8721-3ef41a78331d",
   "metadata": {},
   "source": [
    "#1. Write a NumPy program to create a three-dimension array with shape (300,400,5) and set to a variable. Fill the array elements with values using unsigned integer (0 to 255)."
   ]
  },
  {
   "cell_type": "code",
   "execution_count": 317,
   "id": "d40de106-45e4-44cb-afe0-cd558d39cbe1",
   "metadata": {
    "scrolled": true
   },
   "outputs": [
    {
     "data": {
      "text/plain": [
       "array([[[250,  18, 214,  76,   0],\n",
       "        [  8, 211, 164, 247,  92],\n",
       "        [ 30,  47, 125, 107,  21],\n",
       "        ...,\n",
       "        [195,  26, 168, 173, 152],\n",
       "        [ 53, 133,  69, 177,  38],\n",
       "        [ 13, 139, 133,  16,  26]],\n",
       "\n",
       "       [[154, 243, 216, 186, 217],\n",
       "        [ 34,  38,  12, 249,  29],\n",
       "        [212, 127,  43, 253, 196],\n",
       "        ...,\n",
       "        [160, 192, 194, 241,  64],\n",
       "        [ 21, 172,  72,   9, 161],\n",
       "        [240, 116,  28, 233,  14]],\n",
       "\n",
       "       [[ 99, 104, 158, 206, 169],\n",
       "        [185,  48, 168,  98,  61],\n",
       "        [ 31,  60,   8, 229, 164],\n",
       "        ...,\n",
       "        [119, 164,  34, 225,  68],\n",
       "        [251,  19, 199, 131,  34],\n",
       "        [145, 112,   8,   7,  11]],\n",
       "\n",
       "       ...,\n",
       "\n",
       "       [[106,  82,  44, 154, 169],\n",
       "        [ 45, 210, 163, 237, 117],\n",
       "        [196,  38, 143,  35, 167],\n",
       "        ...,\n",
       "        [116, 103,  24, 220, 239],\n",
       "        [ 83, 171, 138, 159, 153],\n",
       "        [231, 174, 227,  39, 203]],\n",
       "\n",
       "       [[ 17,  69,  30, 134,  86],\n",
       "        [ 54, 144, 184, 110, 249],\n",
       "        [179,  33, 208, 182, 236],\n",
       "        ...,\n",
       "        [ 96, 244,   3,  68, 138],\n",
       "        [106,  99, 103,  84, 255],\n",
       "        [207,  18,   8, 225, 255]],\n",
       "\n",
       "       [[136, 177, 137, 131, 197],\n",
       "        [  7, 148,  47, 200, 227],\n",
       "        [114,  40, 137,  82,  43],\n",
       "        ...,\n",
       "        [194, 180,  94, 252,  26],\n",
       "        [170, 226, 241,  12, 223],\n",
       "        [ 74, 126,  67,  15, 197]]])"
      ]
     },
     "execution_count": 317,
     "metadata": {},
     "output_type": "execute_result"
    }
   ],
   "source": [
    "mat = np.random.randint(0, 256, (300,400,5))\n",
    "mat"
   ]
  },
  {
   "cell_type": "markdown",
   "id": "b7deaa26-daba-44c4-b5d1-b9a3b6a5400f",
   "metadata": {},
   "source": [
    "#2. Write a NumPy program to find the most frequent value in an array."
   ]
  },
  {
   "cell_type": "code",
   "execution_count": 348,
   "id": "c8d87bb1-67f0-4dc2-8017-c88de6ade027",
   "metadata": {},
   "outputs": [
    {
     "data": {
      "text/plain": [
       "array([3, 3, 7, 3, 4, 6, 3, 3, 7, 7, 2, 8, 0, 0, 9])"
      ]
     },
     "execution_count": 348,
     "metadata": {},
     "output_type": "execute_result"
    }
   ],
   "source": [
    "x = np.random.randint(0, 11, 15)\n",
    "x"
   ]
  },
  {
   "cell_type": "code",
   "execution_count": 349,
   "id": "3da1cf0b-9e84-45a6-a2d3-eac40e4b8f94",
   "metadata": {},
   "outputs": [
    {
     "data": {
      "text/plain": [
       "[(3, 5), (7, 3), (0, 2), (4, 1), (6, 1), (2, 1), (8, 1), (9, 1)]"
      ]
     },
     "execution_count": 349,
     "metadata": {},
     "output_type": "execute_result"
    }
   ],
   "source": [
    "from collections import Counter\n",
    "Counter(x).most_common()"
   ]
  },
  {
   "cell_type": "code",
   "execution_count": 350,
   "id": "99370e56-cad9-446d-8eca-8a3a55ba73ca",
   "metadata": {},
   "outputs": [
    {
     "data": {
      "text/plain": [
       "3"
      ]
     },
     "execution_count": 350,
     "metadata": {},
     "output_type": "execute_result"
    }
   ],
   "source": [
    "np.bincount(x).argmax()"
   ]
  },
  {
   "cell_type": "code",
   "execution_count": null,
   "id": "5f2e0b06-885b-47db-844a-48f08387ed0b",
   "metadata": {},
   "outputs": [],
   "source": []
  },
  {
   "cell_type": "markdown",
   "id": "93ff3c82-bf69-4433-badc-d8e9af5cb5d1",
   "metadata": {},
   "source": [
    "### 4 NumPy Searching, Sorting and Indexing"
   ]
  },
  {
   "cell_type": "markdown",
   "id": "89d79673-65e6-4afc-8421-a69c0d0ce8b7",
   "metadata": {},
   "source": [
    "#### Searching and Sorting Exercises"
   ]
  },
  {
   "cell_type": "markdown",
   "id": "fe95dcaa-7dac-450e-8551-305fc7351460",
   "metadata": {},
   "source": [
    "#1. Write a NumPy program to create a structured array from given student name, height, class and their data types. Now sort the array on height."
   ]
  },
  {
   "cell_type": "markdown",
   "id": "50e578cf-b6b7-469c-a5f6-9ce99040fd35",
   "metadata": {},
   "source": [
    "<code>Original array:\n",
    "[(b'James', 5, 48.5 ) (b'Nail', 6, 52.5 ) (b'Paul', 5, 42.1 ) (b'Pit', 5, 40.11)]\n",
    "Sort by height\n",
    "[(b'Pit', 5, 40.11) (b'Paul', 5, 42.1 ) (b'James', 5, 48.5 ) (b'Nail', 6, 52.5 )]\n",
    "</code>"
   ]
  },
  {
   "cell_type": "code",
   "execution_count": 8,
   "id": "ef4043e9-a816-49da-ae7b-0c70d0840052",
   "metadata": {},
   "outputs": [],
   "source": [
    "dt = np.dtype([('name', 'U10'), ('class', 'i4'), ('height', 'f4')])\n",
    "\n",
    "students = np.array([[('James', 5, 48.5 ), ('Nail', 6, 52.5 ), ('Paul', 5, 42.1 ), ('Pit', 5, 40.11)]], dtype=dt)"
   ]
  },
  {
   "cell_type": "code",
   "execution_count": 10,
   "id": "4e7b6d21-15a8-4c6f-8bf1-610b0d7117da",
   "metadata": {},
   "outputs": [
    {
     "name": "stdout",
     "output_type": "stream",
     "text": [
      "[[('James', 5, 48.5 ) ('Nail', 6, 52.5 ) ('Paul', 5, 42.1 )\n",
      "  ('Pit', 5, 40.11)]]\n"
     ]
    }
   ],
   "source": [
    "print(students)"
   ]
  },
  {
   "cell_type": "code",
   "execution_count": 17,
   "id": "52f5f5e2-8a27-43f8-b425-0612f1684585",
   "metadata": {},
   "outputs": [
    {
     "name": "stdout",
     "output_type": "stream",
     "text": [
      "[[('Pit', 5, 40.11) ('Paul', 5, 42.1 ) ('James', 5, 48.5 )\n",
      "  ('Nail', 6, 52.5 )]]\n"
     ]
    }
   ],
   "source": [
    "print(np.sort(students, order='height'))"
   ]
  },
  {
   "cell_type": "code",
   "execution_count": null,
   "id": "ce9f0f9c-9e46-43d2-96ff-35dcfc76d5be",
   "metadata": {},
   "outputs": [],
   "source": []
  },
  {
   "cell_type": "markdown",
   "id": "90e1330c-53c2-4ea1-9472-169aadecf933",
   "metadata": {},
   "source": [
    "#2. Write a NumPy program to get the indices of the sorted elements of a given array."
   ]
  },
  {
   "cell_type": "code",
   "execution_count": 18,
   "id": "5bf70582-a4b7-4200-9795-9be11d0c7d51",
   "metadata": {},
   "outputs": [
    {
     "data": {
      "text/plain": [
       "array([1023, 5202, 6230, 1671, 1682, 5241, 4532])"
      ]
     },
     "execution_count": 18,
     "metadata": {},
     "output_type": "execute_result"
    }
   ],
   "source": [
    "a = np.array([1023, 5202, 6230, 1671, 1682, 5241, 4532])\n",
    "a"
   ]
  },
  {
   "cell_type": "code",
   "execution_count": 21,
   "id": "80fab4f3-9351-41d3-a906-c04670bb0ff8",
   "metadata": {},
   "outputs": [
    {
     "name": "stdout",
     "output_type": "stream",
     "text": [
      "Indices of sorted elements : \n",
      "[0 3 4 6 1 5 2]\n"
     ]
    }
   ],
   "source": [
    "sorted_indices = np.argsort(a)\n",
    "print(f\"Indices of sorted elements : \\n{sorted_indices}\")"
   ]
  },
  {
   "cell_type": "code",
   "execution_count": 22,
   "id": "b4e5af10-9308-46a4-b01c-3c3bd59d7210",
   "metadata": {},
   "outputs": [
    {
     "data": {
      "text/plain": [
       "array([1023, 1671, 1682, 4532, 5202, 5241, 6230])"
      ]
     },
     "execution_count": 22,
     "metadata": {},
     "output_type": "execute_result"
    }
   ],
   "source": [
    "a[sorted_indices]"
   ]
  },
  {
   "cell_type": "code",
   "execution_count": null,
   "id": "f3006313-5fdb-4781-b631-b5ea75482f05",
   "metadata": {},
   "outputs": [],
   "source": []
  },
  {
   "cell_type": "markdown",
   "id": "4999533d-a9ee-44be-b4b1-026a017c0375",
   "metadata": {},
   "source": [
    "#2. Write a NumPy program to partition a given array in a specified position and move all the smaller elements values to the left of the partition, and the remaining values to the right, in arbitrary order (based on random choice)."
   ]
  },
  {
   "cell_type": "code",
   "execution_count": 32,
   "id": "0e02e1f5-43e3-470c-be46-6ea4229a7c7b",
   "metadata": {},
   "outputs": [
    {
     "data": {
      "text/plain": [
       "array([29, 25, 16, 28, 13, 15, 13, 21, 23, 18])"
      ]
     },
     "execution_count": 32,
     "metadata": {},
     "output_type": "execute_result"
    }
   ],
   "source": [
    "arr = np.random.randint(11, 31, 10)\n",
    "arr"
   ]
  },
  {
   "cell_type": "code",
   "execution_count": 33,
   "id": "7e8241b8-8440-4763-b7e8-17b8aaa14432",
   "metadata": {},
   "outputs": [
    {
     "data": {
      "text/plain": [
       "array([15, 13, 16, 13, 18, 25, 28, 21, 23, 29])"
      ]
     },
     "execution_count": 33,
     "metadata": {},
     "output_type": "execute_result"
    }
   ],
   "source": [
    "part = np.partition(arr, 4)\n",
    "part"
   ]
  },
  {
   "cell_type": "code",
   "execution_count": null,
   "id": "2242193f-4e86-4dfb-86db-84b121ae18ec",
   "metadata": {},
   "outputs": [],
   "source": []
  },
  {
   "cell_type": "markdown",
   "id": "f9e33ce7-d4d2-4e9c-88bf-a3189e5a31ef",
   "metadata": {},
   "source": [
    "#### Advanced Indexing Exercises"
   ]
  },
  {
   "cell_type": "markdown",
   "id": "4f2a353a-423c-4d8a-9131-a0680f28a1c0",
   "metadata": {},
   "source": [
    "#1. Write a NumPy program that creates a 5D NumPy array. Use boolean indexing to select elements along specific dimensions based on conditions applied to other dimensions."
   ]
  },
  {
   "cell_type": "code",
   "execution_count": 34,
   "id": "b8ce1c2f-df59-4978-a18d-49c97bc8262a",
   "metadata": {
    "scrolled": true
   },
   "outputs": [
    {
     "data": {
      "text/plain": [
       "array([[[[[ 47,  60,  76],\n",
       "          [ 28,  79,  74]],\n",
       "\n",
       "         [[ 73,  64,  65],\n",
       "          [ 42,  38,  47]],\n",
       "\n",
       "         [[ 81,  37,  94],\n",
       "          [ 86,  27,  47]],\n",
       "\n",
       "         [[ 85,  31,  90],\n",
       "          [ 97,  32,  79]]],\n",
       "\n",
       "\n",
       "        [[[ 91,  28,  44],\n",
       "          [ 43,  89,  38]],\n",
       "\n",
       "         [[ 75,  36,  13],\n",
       "          [ 84,  40,  52]],\n",
       "\n",
       "         [[ 72,  22,  64],\n",
       "          [ 54,  79,  57]],\n",
       "\n",
       "         [[ 59,  38,  93],\n",
       "          [ 18,  94, 100]]],\n",
       "\n",
       "\n",
       "        [[[ 21,  31,  65],\n",
       "          [ 84,  67,  50]],\n",
       "\n",
       "         [[ 22,  85,  79],\n",
       "          [100,  61,  15]],\n",
       "\n",
       "         [[ 28,  15,  58],\n",
       "          [ 81,  68,  96]],\n",
       "\n",
       "         [[ 92,  23,  98],\n",
       "          [ 88,  75,  84]]]],\n",
       "\n",
       "\n",
       "\n",
       "       [[[[ 16,  63,  78],\n",
       "          [ 27, 100,  86]],\n",
       "\n",
       "         [[ 61,  28,  32],\n",
       "          [ 63,  23,  19]],\n",
       "\n",
       "         [[ 40,  24,  33],\n",
       "          [ 48,  36,  79]],\n",
       "\n",
       "         [[ 27,  14,  18],\n",
       "          [ 65,  47,  19]]],\n",
       "\n",
       "\n",
       "        [[[ 55,  95,  40],\n",
       "          [ 67,  13,  14]],\n",
       "\n",
       "         [[ 96,  70,  22],\n",
       "          [ 32,  77,  47]],\n",
       "\n",
       "         [[ 58,  20,  66],\n",
       "          [ 85,  25,  90]],\n",
       "\n",
       "         [[ 54,  25,  79],\n",
       "          [ 68,  72,  58]]],\n",
       "\n",
       "\n",
       "        [[[ 12,  52,  90],\n",
       "          [ 92,  28,  66]],\n",
       "\n",
       "         [[ 62,  71,  89],\n",
       "          [ 51,  17,  43]],\n",
       "\n",
       "         [[ 88,  55,  45],\n",
       "          [ 20,  50,  89]],\n",
       "\n",
       "         [[ 61,  93,  74],\n",
       "          [ 22,  71,  50]]]]])"
      ]
     },
     "execution_count": 34,
     "metadata": {},
     "output_type": "execute_result"
    }
   ],
   "source": [
    "mat = np.random.randint(11, 101, (2,3,4,2,3))\n",
    "mat"
   ]
  },
  {
   "cell_type": "code",
   "execution_count": 35,
   "id": "851aa243-ab24-4ed0-858a-30243782f5d8",
   "metadata": {
    "scrolled": true
   },
   "outputs": [
    {
     "data": {
      "text/plain": [
       "array([[[[[False,  True,  True],\n",
       "          [False,  True,  True]],\n",
       "\n",
       "         [[ True,  True,  True],\n",
       "          [False, False, False]],\n",
       "\n",
       "         [[ True, False,  True],\n",
       "          [ True, False, False]],\n",
       "\n",
       "         [[ True, False,  True],\n",
       "          [ True, False,  True]]],\n",
       "\n",
       "\n",
       "        [[[ True, False, False],\n",
       "          [False,  True, False]],\n",
       "\n",
       "         [[ True, False, False],\n",
       "          [ True, False,  True]],\n",
       "\n",
       "         [[ True, False,  True],\n",
       "          [ True,  True,  True]],\n",
       "\n",
       "         [[ True, False,  True],\n",
       "          [False,  True,  True]]],\n",
       "\n",
       "\n",
       "        [[[False, False,  True],\n",
       "          [ True,  True, False]],\n",
       "\n",
       "         [[False,  True,  True],\n",
       "          [ True,  True, False]],\n",
       "\n",
       "         [[False, False,  True],\n",
       "          [ True,  True,  True]],\n",
       "\n",
       "         [[ True, False,  True],\n",
       "          [ True,  True,  True]]]],\n",
       "\n",
       "\n",
       "\n",
       "       [[[[False,  True,  True],\n",
       "          [False,  True,  True]],\n",
       "\n",
       "         [[ True, False, False],\n",
       "          [ True, False, False]],\n",
       "\n",
       "         [[False, False, False],\n",
       "          [False, False,  True]],\n",
       "\n",
       "         [[False, False, False],\n",
       "          [ True, False, False]]],\n",
       "\n",
       "\n",
       "        [[[ True,  True, False],\n",
       "          [ True, False, False]],\n",
       "\n",
       "         [[ True,  True, False],\n",
       "          [False,  True, False]],\n",
       "\n",
       "         [[ True, False,  True],\n",
       "          [ True, False,  True]],\n",
       "\n",
       "         [[ True, False,  True],\n",
       "          [ True,  True,  True]]],\n",
       "\n",
       "\n",
       "        [[[False,  True,  True],\n",
       "          [ True, False,  True]],\n",
       "\n",
       "         [[ True,  True,  True],\n",
       "          [ True, False, False]],\n",
       "\n",
       "         [[ True,  True, False],\n",
       "          [False, False,  True]],\n",
       "\n",
       "         [[ True,  True,  True],\n",
       "          [False,  True, False]]]]])"
      ]
     },
     "execution_count": 35,
     "metadata": {},
     "output_type": "execute_result"
    }
   ],
   "source": [
    "mat>50"
   ]
  },
  {
   "cell_type": "code",
   "execution_count": 37,
   "id": "912e25cb-543b-4d67-99f5-13cec04455b4",
   "metadata": {},
   "outputs": [
    {
     "name": "stdout",
     "output_type": "stream",
     "text": [
      "[ 60  76  79  74  73  64  65  81  94  86  85  90  97  79  91  89  75  84\n",
      "  52  72  64  54  79  57  59  93  94 100  65  84  67  85  79 100  61  58\n",
      "  81  68  96  92  98  88  75  84  63  78 100  86  61  63  79  65  55  95\n",
      "  67  96  70  77  58  66  85  90  54  79  68  72  58  52  90  92  66  62\n",
      "  71  89  51  88  55  89  61  93  74  71]\n"
     ]
    }
   ],
   "source": [
    "print(mat[mat>50])"
   ]
  },
  {
   "cell_type": "code",
   "execution_count": null,
   "id": "b5cedfab-24bc-4827-9a0c-04aa3ef69502",
   "metadata": {},
   "outputs": [],
   "source": []
  },
  {
   "cell_type": "markdown",
   "id": "b48c314c-2b13-4982-9874-1d4595593d72",
   "metadata": {},
   "source": [
    "### 5 NumPy Datetime and Strings Operations "
   ]
  },
  {
   "cell_type": "markdown",
   "id": "f1bc035e-3600-420c-9360-06fab847431f",
   "metadata": {},
   "source": [
    "#### Datetime Operations Exercises"
   ]
  },
  {
   "cell_type": "markdown",
   "id": "d8412d16-e560-44ba-9d29-96838ba6eb34",
   "metadata": {},
   "source": [
    "#1.  Write a NumPy program to display all the dates for the month of March, 2017.\n",
    "Expected Output:"
   ]
  },
  {
   "cell_type": "code",
   "execution_count": 39,
   "id": "28aeccc0-2e42-4ade-bf98-bfd6aaec5119",
   "metadata": {},
   "outputs": [
    {
     "name": "stdout",
     "output_type": "stream",
     "text": [
      "Dates of March of 2017: \n",
      "['2017-03-01' '2017-03-02' '2017-03-03' '2017-03-04' '2017-03-05'\n",
      " '2017-03-06' '2017-03-07' '2017-03-08' '2017-03-09' '2017-03-10'\n",
      " '2017-03-11' '2017-03-12' '2017-03-13' '2017-03-14' '2017-03-15'\n",
      " '2017-03-16' '2017-03-17' '2017-03-18' '2017-03-19' '2017-03-20'\n",
      " '2017-03-21' '2017-03-22' '2017-03-23' '2017-03-24' '2017-03-25'\n",
      " '2017-03-26' '2017-03-27' '2017-03-28' '2017-03-29' '2017-03-30'\n",
      " '2017-03-31']\n"
     ]
    }
   ],
   "source": [
    "dates = np.arange(\"2017-03-01\", \"2017-04-01\", dtype=\"datetime64\")\n",
    "print(f\"Dates of March of 2017: \\n{dates}\")"
   ]
  },
  {
   "cell_type": "code",
   "execution_count": null,
   "id": "4ea93a2a-f566-4c14-99b9-4e44e349cb1e",
   "metadata": {},
   "outputs": [],
   "source": []
  },
  {
   "cell_type": "markdown",
   "id": "7096a53c-025e-474b-9b98-232ae18f202c",
   "metadata": {},
   "source": [
    "<code>\n",
    "#2. Write a NumPy program to find the number of weekdays in March 2017.\n",
    "    Note: \"busday\" default of Monday through Friday being valid days.\n",
    "</code>"
   ]
  },
  {
   "cell_type": "code",
   "execution_count": 46,
   "id": "5773970f-3381-4276-9cc3-68b137a68543",
   "metadata": {},
   "outputs": [
    {
     "name": "stdout",
     "output_type": "stream",
     "text": [
      "Business Days[Week Days] of March 20127: 23\n"
     ]
    }
   ],
   "source": [
    "print(f\"Business Days[Week Days] of March 20127: {np.busday_count(\"2017-03\", \"2017-04\")}\")"
   ]
  },
  {
   "cell_type": "code",
   "execution_count": null,
   "id": "95d0beef-f01d-4404-930c-70bbfd9f81a2",
   "metadata": {},
   "outputs": [],
   "source": []
  },
  {
   "cell_type": "markdown",
   "id": "f791de7c-204a-4c8e-9ff5-fd5fedcd5520",
   "metadata": {},
   "source": [
    "#3. Write a NumPy program to find the first Monday in May 2017."
   ]
  },
  {
   "cell_type": "code",
   "execution_count": 52,
   "id": "8a1a6a53-207d-4ee3-9c17-cf6224ae7c12",
   "metadata": {},
   "outputs": [
    {
     "name": "stdout",
     "output_type": "stream",
     "text": [
      "First Monday of May 2017: \n",
      "2025-05-04\n"
     ]
    }
   ],
   "source": [
    "print(f\"First Monday of May 2017: \\n{np.busday_offset(\"2025-05\", 0, roll=\"forward\", weekmask=\"Sun\")}\")"
   ]
  },
  {
   "cell_type": "code",
   "execution_count": null,
   "id": "30b41193-3412-4e5e-8b9f-94f5c2ea568a",
   "metadata": {},
   "outputs": [],
   "source": []
  },
  {
   "cell_type": "markdown",
   "id": "81ead8a6-0800-4cbd-abe7-ee0e9e8ae4bd",
   "metadata": {},
   "source": [
    "#### String Operations Exercises"
   ]
  },
  {
   "cell_type": "markdown",
   "id": "c5eec302-4c37-4928-8299-d19dd712a292",
   "metadata": {},
   "source": [
    "#1. Write a NumPy program to split a given text into lines and split the single line into array values."
   ]
  },
  {
   "cell_type": "markdown",
   "id": "5d2431c8-0179-462c-b332-a5312801fb48",
   "metadata": {},
   "source": [
    "<code>\n",
    "student = \"\"\"01\tV\tDebby Pramod\n",
    "02\tV\tArtemiy Ellie\n",
    "03\tV\tBaptist Kamal\n",
    "04\tV\tLavanya Davide\n",
    "05\tV\tFulton Antwan\n",
    "06\tV\tEuanthe Sandeep\n",
    "07\tV\tEndzela Sanda\n",
    "08\tV\tVictoire Waman\n",
    "09\tV\tBriar Nur\n",
    "10\tV\tRose Lykos\"\"\"\n",
    "</code>"
   ]
  },
  {
   "cell_type": "code",
   "execution_count": 68,
   "id": "0dc72fd9-06c5-4d2b-8843-eb8e7d208781",
   "metadata": {},
   "outputs": [],
   "source": [
    "student = \"\"\"01\tV\tDebby Pramod\n",
    "02\tV\tArtemiy Ellie\n",
    "03\tV\tBaptist Kamal\n",
    "04\tV\tLavanya Davide\n",
    "05\tV\tFulton Antwan\n",
    "06\tV\tEuanthe Sandeep\n",
    "07\tV\tEndzela Sanda\n",
    "08\tV\tVictoire Waman\n",
    "09\tV\tBriar Nur\n",
    "10\tV\tRose Lykos\"\"\"\n",
    "\n",
    "students = student.split(\"\\n\")\n",
    "\n",
    "students = [student.split(\"\\t\") for student in students]"
   ]
  },
  {
   "cell_type": "code",
   "execution_count": 71,
   "id": "e09f0939-5368-494b-b87d-841cf9eccf2e",
   "metadata": {},
   "outputs": [],
   "source": [
    "students = np.array(students)"
   ]
  },
  {
   "cell_type": "code",
   "execution_count": 72,
   "id": "1124ace4-b40d-402b-b168-f99d96e8cc08",
   "metadata": {},
   "outputs": [
    {
     "data": {
      "text/plain": [
       "array([['01', 'V', 'Debby Pramod'],\n",
       "       ['02', 'V', 'Artemiy Ellie'],\n",
       "       ['03', 'V', 'Baptist Kamal'],\n",
       "       ['04', 'V', 'Lavanya Davide'],\n",
       "       ['05', 'V', 'Fulton Antwan'],\n",
       "       ['06', 'V', 'Euanthe Sandeep'],\n",
       "       ['07', 'V', 'Endzela Sanda'],\n",
       "       ['08', 'V', 'Victoire Waman'],\n",
       "       ['09', 'V', 'Briar Nur'],\n",
       "       ['10', 'V', 'Rose Lykos']], dtype='<U15')"
      ]
     },
     "execution_count": 72,
     "metadata": {},
     "output_type": "execute_result"
    }
   ],
   "source": [
    "students"
   ]
  },
  {
   "cell_type": "code",
   "execution_count": null,
   "id": "6c1891d0-450c-4a90-a94b-1fe67fa53798",
   "metadata": {},
   "outputs": [],
   "source": []
  },
  {
   "cell_type": "markdown",
   "id": "752a41f6-a4b4-439e-9735-19a67cba09c5",
   "metadata": {},
   "source": [
    "#2. Write a NumPy program to add two zeros to the beginning of each element of a given array of string values."
   ]
  },
  {
   "cell_type": "code",
   "execution_count": 103,
   "id": "ac6812e6-fb72-44c6-95d7-0a7ad647b327",
   "metadata": {},
   "outputs": [
    {
     "name": "stdout",
     "output_type": "stream",
     "text": [
      "After adding two zeros before strings arr: \n",
      "['001.12' '002.23' '003.71' '004.23' '005.11']\n",
      "After adding two zeros before strings arr: \n",
      "['001.12' '002.23' '003.71' '004.23' '005.11']\n"
     ]
    }
   ],
   "source": [
    "arr = np.array(['1.12','2.23','3.71','4.23','5.11'], dtype=str)\n",
    "               \n",
    "print(f\"After adding two zeros before strings arr: \\n{np.char.add('00', arr)}\")\n",
    "print(f\"After adding two zeros before strings arr: \\n{np.char.rjust(arr, 6, fillchar='0')}\")"
   ]
  },
  {
   "cell_type": "code",
   "execution_count": null,
   "id": "e50a67e8-d5bc-4d42-baea-1d28b9c40edc",
   "metadata": {},
   "outputs": [],
   "source": []
  },
  {
   "cell_type": "markdown",
   "id": "29a6f47e-7e59-4d08-8997-53cbff3422b2",
   "metadata": {},
   "source": [
    "### 6 NumPy Broadcasting and Memory Layout"
   ]
  },
  {
   "cell_type": "markdown",
   "id": "86b0d2f1-b010-4052-9e5f-8dec8e9d1671",
   "metadata": {},
   "source": [
    "#### Broadcasting Exercises"
   ]
  },
  {
   "cell_type": "markdown",
   "id": "939dd426-9fc2-4481-a14a-73efe4cb915b",
   "metadata": {},
   "source": [
    "#1. Write a NumPy program that Multiplies each column of a 2D array x of shape (7, 3) by a 1D array y of shape (7,) using broadcasting."
   ]
  },
  {
   "cell_type": "code",
   "execution_count": 119,
   "id": "11fee41e-48ba-4413-8ab6-2b012743511b",
   "metadata": {},
   "outputs": [],
   "source": [
    "a1 = np.random.randint(11, 100, (7,3))\n",
    "a2 = np.random.randint(11, 100, 7)"
   ]
  },
  {
   "cell_type": "code",
   "execution_count": 120,
   "id": "7831754c-4a32-4183-a85d-bad969beb70a",
   "metadata": {},
   "outputs": [
    {
     "name": "stdout",
     "output_type": "stream",
     "text": [
      "[[20 59 52]\n",
      " [65 52 98]\n",
      " [71 55 11]\n",
      " [66 28 15]\n",
      " [56 71 60]\n",
      " [63 47 57]\n",
      " [74 37 89]]\n",
      "[12 11 32 72 48 59 25]\n"
     ]
    }
   ],
   "source": [
    "print(a1)\n",
    "print(a2)"
   ]
  },
  {
   "cell_type": "code",
   "execution_count": 125,
   "id": "f1f2c868-ca28-42c9-8d8e-8ec860fe341e",
   "metadata": {},
   "outputs": [
    {
     "name": "stdout",
     "output_type": "stream",
     "text": [
      "Mul of a1's each column and a2: \n",
      "[[ 240  649 1664]\n",
      " [4680 2496 5782]\n",
      " [1775  660  121]\n",
      " [2112 2016  720]\n",
      " [3304 1775  720]\n",
      " [ 693 1504 4104]\n",
      " [3552 2183 2225]]\n"
     ]
    }
   ],
   "source": [
    "print(f\"Mul of a1's each column and a2: \")\n",
    "answer = a1.reshape(3,7)*a2\n",
    "print(answer.reshape(7,3))"
   ]
  },
  {
   "cell_type": "code",
   "execution_count": 126,
   "id": "01c1ec26-67c2-40ee-abf7-fa1aca2a8de0",
   "metadata": {},
   "outputs": [
    {
     "name": "stdout",
     "output_type": "stream",
     "text": [
      "[[ 240  708  624]\n",
      " [ 715  572 1078]\n",
      " [2272 1760  352]\n",
      " [4752 2016 1080]\n",
      " [2688 3408 2880]\n",
      " [3717 2773 3363]\n",
      " [1850  925 2225]]\n"
     ]
    }
   ],
   "source": [
    "# real answer\n",
    "print(a1*a2[:, np.newaxis])"
   ]
  },
  {
   "cell_type": "code",
   "execution_count": null,
   "id": "c38de06c-ab57-4b01-b722-ee068bd5e49a",
   "metadata": {},
   "outputs": [],
   "source": []
  },
  {
   "cell_type": "markdown",
   "id": "9c1f70f7-2e51-4cfd-849f-028b26ce19ab",
   "metadata": {},
   "source": [
    "#2. Write a NumPy program that creates a 2D array x of shape (4, 4) and a scalar y. Perform element-wise multiplication of a and b using broadcasting."
   ]
  },
  {
   "cell_type": "code",
   "execution_count": 129,
   "id": "f560053c-e9d1-484c-86c4-18df150cbdc8",
   "metadata": {},
   "outputs": [
    {
     "name": "stdout",
     "output_type": "stream",
     "text": [
      "[[13 23 21 29]\n",
      " [16 25 17 25]\n",
      " [17 16 22 24]\n",
      " [23 23 23 28]]\n",
      "7\n",
      "[[ 91 161 147 203]\n",
      " [112 175 119 175]\n",
      " [119 112 154 168]\n",
      " [161 161 161 196]]\n"
     ]
    }
   ],
   "source": [
    "a = np.random.randint(11, 31, (4, 4))\n",
    "b = 7\n",
    "print(a)\n",
    "print(b)\n",
    "print(a*b)"
   ]
  },
  {
   "cell_type": "code",
   "execution_count": null,
   "id": "d5db4623-6f38-496d-a03e-79b504a6cbc9",
   "metadata": {},
   "outputs": [],
   "source": []
  },
  {
   "cell_type": "markdown",
   "id": "ac07f415-a18b-428e-b325-57a69b563191",
   "metadata": {},
   "source": [
    "#3. Given two arrays, x of shape (2, 1, 3) and y of shape (1, 4, 1), use broadcasting write a NumPy program to obtain a result of shape (2, 4, 3) through element-wise addition."
   ]
  },
  {
   "cell_type": "code",
   "execution_count": 130,
   "id": "70eade7a-3fe3-4052-a5fe-11c57aff1207",
   "metadata": {},
   "outputs": [
    {
     "name": "stdout",
     "output_type": "stream",
     "text": [
      "[[[ 7 14 21]\n",
      "  [ 8 16 24]\n",
      "  [ 9 18 27]\n",
      "  [10 20 30]]\n",
      "\n",
      " [[28 35 42]\n",
      "  [32 40 48]\n",
      "  [36 45 54]\n",
      "  [40 50 60]]]\n"
     ]
    }
   ],
   "source": [
    "x = np.array([[[1, 2, 3]], \n",
    "              [[4, 5, 6]]])\n",
    "\n",
    "y = np.array([[[ 7], [ 8], [ 9], [10]]])\n",
    "\n",
    "print(x*y)"
   ]
  },
  {
   "cell_type": "code",
   "execution_count": null,
   "id": "cbaa3502-3856-4cb7-993a-3c1d8cb2b969",
   "metadata": {},
   "outputs": [],
   "source": []
  },
  {
   "cell_type": "markdown",
   "id": "7d5a7f9f-2934-42e6-a36b-44175f819ac6",
   "metadata": {},
   "source": [
    "#### Memory Layout Exercises"
   ]
  },
  {
   "cell_type": "markdown",
   "id": "96dda39e-0213-4f3c-afc1-704d92f78da7",
   "metadata": {},
   "source": [
    "#1. Write a NumPy program that creates a 1D array of 20 elements and use reshape() to create a (4, 5) matrix. Slice a (2, 3) sub-matrix and print its strides."
   ]
  },
  {
   "cell_type": "code",
   "execution_count": 133,
   "id": "bacf1c2e-0e15-4d70-95da-eab059bd36ef",
   "metadata": {},
   "outputs": [
    {
     "name": "stdout",
     "output_type": "stream",
     "text": [
      "[[12 19 19 15 15]\n",
      " [12 13 20 19 14]\n",
      " [11 19 20 11 13]\n",
      " [20 19 14 13 12]]\n",
      "(20, 4)\n"
     ]
    }
   ],
   "source": [
    "arr = np.random.randint(11, 21, 20).reshape(4,5)\n",
    "print(arr)\n",
    "print(arr.strides)"
   ]
  },
  {
   "cell_type": "code",
   "execution_count": 134,
   "id": "b50c9810-c964-406e-b315-59b958faf4ca",
   "metadata": {},
   "outputs": [
    {
     "name": "stdout",
     "output_type": "stream",
     "text": [
      "[[13 20 19]\n",
      " [19 20 11]]\n",
      "(20, 4)\n"
     ]
    }
   ],
   "source": [
    "sliced = arr[1:3, 1:4]\n",
    "print(sliced)\n",
    "print(sliced.strides)"
   ]
  },
  {
   "cell_type": "code",
   "execution_count": null,
   "id": "23442c21-6e58-4d7f-be84-d63106760e82",
   "metadata": {},
   "outputs": [],
   "source": []
  },
  {
   "cell_type": "markdown",
   "id": "ac4bb363-163d-4476-a175-875b52cd116f",
   "metadata": {},
   "source": [
    "### 7 NumPy Performance Optimization and Interoperability"
   ]
  },
  {
   "cell_type": "markdown",
   "id": "62c43361-2a60-487e-bb35-626498a571a5",
   "metadata": {},
   "source": [
    "#### Performance Optimization Exercises"
   ]
  },
  {
   "cell_type": "markdown",
   "id": "23b8dc41-6eac-4ab5-8ed4-a7d40dd5e48f",
   "metadata": {},
   "source": [
    "#1. Write a NumPy program that creates a large 1D array and write a function to calculate the sum of its elements using a for loop. Then, optimize it using NumPy's built-in functions."
   ]
  },
  {
   "cell_type": "code",
   "execution_count": 140,
   "id": "25dd3ac3-4555-4697-b3b6-081cff1b8603",
   "metadata": {},
   "outputs": [
    {
     "name": "stdout",
     "output_type": "stream",
     "text": [
      "Using loop : 0.28883910179138184 seconds\n",
      "Total : 27480659\n",
      "Using np : 0.000995635986328125 seconds\n",
      "Total : 27480659\n"
     ]
    }
   ],
   "source": [
    "import time\n",
    "\n",
    "arr = np.random.randint(11, 100, 500000)\n",
    "\n",
    "total = 0\n",
    "start = time.time()\n",
    "for item in arr:\n",
    "    total += item\n",
    "end = time.time()\n",
    "print(f\"Using loop : {end-start} seconds\")\n",
    "print(f\"Total : {total}\")\n",
    "\n",
    "start = time.time()\n",
    "total = np.sum(arr)\n",
    "end = time.time()\n",
    "print(f\"Using np : {end-start} seconds\")\n",
    "print(f\"Total : {total}\")"
   ]
  },
  {
   "cell_type": "code",
   "execution_count": null,
   "id": "322a6497-45ac-49a6-a7f2-bb7b95767425",
   "metadata": {},
   "outputs": [],
   "source": []
  },
  {
   "cell_type": "markdown",
   "id": "d007a0f1-e92b-4e6b-b743-e31a5642f314",
   "metadata": {},
   "source": [
    "#### Ineropearability Exercises"
   ]
  },
  {
   "cell_type": "markdown",
   "id": "2905506f-be14-481d-96b0-ea13440771e2",
   "metadata": {},
   "source": [
    "#1. Write a NumPy program to combine a NumPy array and a Pandas DataFrame into a single DataFrame and print it."
   ]
  },
  {
   "cell_type": "code",
   "execution_count": 141,
   "id": "58ea59a7-90fa-4128-8d20-b1fa75c84d9d",
   "metadata": {},
   "outputs": [],
   "source": [
    "import pandas as pd\n",
    "import numpy as np"
   ]
  },
  {
   "cell_type": "code",
   "execution_count": 142,
   "id": "f8b60a62-6f1c-4718-b7f0-f81c3a7c8bcf",
   "metadata": {},
   "outputs": [
    {
     "name": "stdout",
     "output_type": "stream",
     "text": [
      "[10 20 30]\n",
      "   A   B\n",
      "0  1  11\n",
      "1  2  22\n",
      "2  3  33\n"
     ]
    }
   ],
   "source": [
    "arr = np.array([10, 20, 30])\n",
    "\n",
    "data = {\n",
    "    \"A\": [1, 2, 3],\n",
    "    \"B\": [11, 22, 33]\n",
    "}\n",
    "\n",
    "df = pd.DataFrame(data)\n",
    "\n",
    "print(arr)\n",
    "print(df)"
   ]
  },
  {
   "cell_type": "code",
   "execution_count": 143,
   "id": "f36f806c-1d6e-4492-972c-68ab323e2fe5",
   "metadata": {},
   "outputs": [
    {
     "name": "stdout",
     "output_type": "stream",
     "text": [
      "    c\n",
      "0  10\n",
      "1  20\n",
      "2  30\n"
     ]
    }
   ],
   "source": [
    "np_df = pd.DataFrame(arr, columns=[\"c\"])\n",
    "print(np_df)"
   ]
  },
  {
   "cell_type": "code",
   "execution_count": 149,
   "id": "fe6564a3-090c-4869-ab06-2622b4917d0d",
   "metadata": {},
   "outputs": [
    {
     "name": "stdout",
     "output_type": "stream",
     "text": [
      "Combined DataFrame : \n",
      "   A   B   c\n",
      "0  1  11  10\n",
      "1  2  22  20\n",
      "2  3  33  30\n"
     ]
    }
   ],
   "source": [
    "combined = pd.concat([df, np_df], axis=1)\n",
    "print(\"Combined DataFrame : \")\n",
    "print(combined)"
   ]
  },
  {
   "cell_type": "code",
   "execution_count": null,
   "id": "dde287e3-8c16-4b72-8225-1ef3bc2c8a84",
   "metadata": {},
   "outputs": [],
   "source": []
  },
  {
   "cell_type": "markdown",
   "id": "041f5f21-e526-4b85-a5a0-5db91e518d2a",
   "metadata": {},
   "source": [
    "### 8 NumPy I/O operations"
   ]
  },
  {
   "cell_type": "markdown",
   "id": "58e0caed-f456-41f8-96c5-a9150bb0e291",
   "metadata": {},
   "source": [
    "#### I/O operations exercises"
   ]
  },
  {
   "cell_type": "markdown",
   "id": "54129fb8-28c6-4855-9dcf-7af54ff6e3c0",
   "metadata": {},
   "source": [
    "#1. Write a NumPy program that saves multiple NumPy arrays to a single binary file using np.savez and then loads them back using np.load."
   ]
  },
  {
   "cell_type": "code",
   "execution_count": 152,
   "id": "e2536fe9-4ab6-40bb-9032-b93f5138acf3",
   "metadata": {},
   "outputs": [],
   "source": [
    "a1 = np.array([1,2,3,4,5])\n",
    "a2 = np.array([[1,2,3,4,5], [6,7,8,9,10]])\n",
    "a3 = np.array([[1,2,3],[4,5,6],[8,9,10]])\n",
    "\n",
    "np.savez(\"21_multiple_array.npz\", array1=a1, array2=a2, array3=a3)"
   ]
  },
  {
   "cell_type": "code",
   "execution_count": 156,
   "id": "bbe7bd1f-32e7-4589-9334-8abde0725b0f",
   "metadata": {},
   "outputs": [
    {
     "name": "stdout",
     "output_type": "stream",
     "text": [
      "[1 2 3 4 5]\n",
      "[[ 1  2  3  4  5]\n",
      " [ 6  7  8  9 10]]\n",
      "[[ 1  2  3]\n",
      " [ 4  5  6]\n",
      " [ 8  9 10]]\n"
     ]
    }
   ],
   "source": [
    "multiple_array_data = np.load(\"21_multiple_array.npz\")\n",
    "\n",
    "print(multiple_array_data['array1'])\n",
    "print(multiple_array_data['array2'])\n",
    "print(multiple_array_data['array3'])"
   ]
  },
  {
   "cell_type": "code",
   "execution_count": null,
   "id": "dd729a2d-bb8d-4c90-9c74-13b282355ac5",
   "metadata": {},
   "outputs": [],
   "source": []
  },
  {
   "cell_type": "markdown",
   "id": "3bac9565-5eb8-4bbe-9bab-592806a697cf",
   "metadata": {},
   "source": [
    "#2. Write a NumPy array to a CSV file with a custom delimiter and then read it back into a NumPy array using the same delimiter."
   ]
  },
  {
   "cell_type": "code",
   "execution_count": 166,
   "id": "db85cc0a-ab6c-4e61-8d0d-285f69871196",
   "metadata": {},
   "outputs": [
    {
     "data": {
      "text/plain": [
       "array([[98., 54., 16., 65., 73., 99., 30., 82., 14., 20.],\n",
       "       [15., 22., 92., 14., 76., 45., 46., 35., 53., 93.],\n",
       "       [21., 95., 61., 68., 80., 49., 88., 22., 73., 22.],\n",
       "       [40., 63., 75., 22., 17., 79., 73., 41., 91., 94.],\n",
       "       [61., 85., 46., 72., 61., 56., 35., 22., 58., 54.]])"
      ]
     },
     "execution_count": 166,
     "metadata": {},
     "output_type": "execute_result"
    }
   ],
   "source": [
    "np.random.seed(32)\n",
    "arr = np.random.randint(11, 100, (5,10))\n",
    "\n",
    "csv_file = \"21_np_to_csv.csv\"\n",
    "\n",
    "np.savetxt(csv_file, arr, delimiter=\"|\", fmt='%d')\n",
    "\n",
    "data_from_csv = np.loadtxt(csv_file, delimiter=\"|\")\n",
    "\n",
    "data_from_csv"
   ]
  },
  {
   "cell_type": "code",
   "execution_count": null,
   "id": "89d0e1a2-a930-453d-8645-8f25e1beeeee",
   "metadata": {},
   "outputs": [],
   "source": []
  },
  {
   "cell_type": "markdown",
   "id": "72fc7ccd-7ce8-4bcf-a308-90749cc75be6",
   "metadata": {},
   "source": [
    "### 9 NumPy U Functions and Masked Arrays"
   ]
  },
  {
   "cell_type": "markdown",
   "id": "f6153c6e-09cd-4e76-94fe-b9b9041de073",
   "metadata": {},
   "source": [
    "#### U Functions Exercises"
   ]
  },
  {
   "cell_type": "markdown",
   "id": "dbee6441-beba-4228-aa25-cc236bbfcac2",
   "metadata": {},
   "source": [
    "#1. Write a NumPy program that creates a custom ufunc to operate on complex numbers in a NumPy array."
   ]
  },
  {
   "cell_type": "code",
   "execution_count": 168,
   "id": "db558a8a-9d87-4b44-afe0-1c0b52ec6591",
   "metadata": {},
   "outputs": [
    {
     "name": "stdout",
     "output_type": "stream",
     "text": [
      "Sum of complex numbers array: \n",
      "[3.0 -1.0 7.0]\n"
     ]
    }
   ],
   "source": [
    "def add_complex(z):\n",
    "    return z.real + z.imag\n",
    "\n",
    "ufunc_add_complex = np.frompyfunc(add_complex, 1, 1)\n",
    "\n",
    "arr = np.array([1+2j, 1-2j, 3+4j])\n",
    "\n",
    "print(f\"Sum of complex numbers array: \\n{ufunc_add_complex(arr)}\")"
   ]
  },
  {
   "cell_type": "code",
   "execution_count": null,
   "id": "75d3ed0c-8ed2-4d37-b68a-58a07cd38498",
   "metadata": {},
   "outputs": [],
   "source": []
  },
  {
   "cell_type": "markdown",
   "id": "6d4f8bbd-533d-4270-aa7c-81181d51e156",
   "metadata": {},
   "source": [
    "#2. Write a NumPy program that creates an array with NaN values and uses np.nan_to_num to replace NaN with a specified number."
   ]
  },
  {
   "cell_type": "code",
   "execution_count": 177,
   "id": "8395beac-7c44-4af8-a104-f647f1f5ed78",
   "metadata": {},
   "outputs": [],
   "source": [
    "arr = np.full((2,3), np.nan)"
   ]
  },
  {
   "cell_type": "code",
   "execution_count": 178,
   "id": "4e36664f-b1d6-412c-9723-bfeee37ce7dd",
   "metadata": {},
   "outputs": [
    {
     "data": {
      "text/plain": [
       "array([[nan, nan, nan],\n",
       "       [nan, nan, nan]])"
      ]
     },
     "execution_count": 178,
     "metadata": {},
     "output_type": "execute_result"
    }
   ],
   "source": [
    "arr"
   ]
  },
  {
   "cell_type": "code",
   "execution_count": 179,
   "id": "0cf21a5c-440a-4a18-8915-2dd0ae9fdfc3",
   "metadata": {},
   "outputs": [
    {
     "name": "stdout",
     "output_type": "stream",
     "text": [
      "NaN converted to 9 : \n",
      "[[0. 0. 0.]\n",
      " [0. 0. 0.]]\n"
     ]
    }
   ],
   "source": [
    "print(\"NaN converted to 9 : \")\n",
    "print(np.nan_to_num(arr, nan=0.0))"
   ]
  },
  {
   "cell_type": "code",
   "execution_count": null,
   "id": "3c2aa093-0f78-4e1e-8d1f-3763377f1119",
   "metadata": {},
   "outputs": [],
   "source": []
  },
  {
   "cell_type": "markdown",
   "id": "9c5d29ec-a48c-46e0-8ac1-0deb5d7f773a",
   "metadata": {},
   "source": [
    "#3. Write a NumPy program that creates a custom ufunc that computes x^2 + 2x + 1 for each element in a NumPy array."
   ]
  },
  {
   "cell_type": "code",
   "execution_count": 182,
   "id": "2d7bc7bb-6e1e-4f25-bd44-1dcc68da9883",
   "metadata": {},
   "outputs": [
    {
     "name": "stdout",
     "output_type": "stream",
     "text": [
      "[[6 2 1 4]\n",
      " [2 8 9 7]]\n",
      "Computataion of equation of each element : \n",
      "[[49 9 4 25]\n",
      " [9 81 100 64]]\n"
     ]
    }
   ],
   "source": [
    "def compute(num):\n",
    "    return (num**2) + (num*2) + 1\n",
    "\n",
    "ufunc_compute = np.frompyfunc(compute, 1, 1)\n",
    "\n",
    "arr = np.random.randint(1, 10, (2,4))\n",
    "print(arr)\n",
    "print(f\"Computataion of equation of each element : \")\n",
    "print(ufunc_compute(arr))"
   ]
  },
  {
   "cell_type": "code",
   "execution_count": null,
   "id": "4f6d5549-0e60-4ce8-85d3-1b0a41dbb6a8",
   "metadata": {},
   "outputs": [],
   "source": []
  },
  {
   "cell_type": "markdown",
   "id": "06070c99-372e-4825-8671-22d9630638d0",
   "metadata": {},
   "source": [
    "#### Masked Arrays Exercises"
   ]
  },
  {
   "cell_type": "markdown",
   "id": "de1cdbb2-b2d1-4e2f-8b6b-c97310d0b30f",
   "metadata": {},
   "source": [
    "#1. Write a NumPy program that creates a masked array and applies a mathematical function (e.g., sin, cos) only to the unmasked elements."
   ]
  },
  {
   "cell_type": "code",
   "execution_count": 184,
   "id": "4ce6d3c0-a4e8-44af-8336-cea35958a389",
   "metadata": {},
   "outputs": [],
   "source": [
    "import numpy.ma as ma"
   ]
  },
  {
   "cell_type": "code",
   "execution_count": 185,
   "id": "510ecf31-6ac3-4f02-aebd-738ed4bd7136",
   "metadata": {},
   "outputs": [],
   "source": [
    "arr = np.array([1,2,3,np.nan,4,5,6,np.inf,9,10])"
   ]
  },
  {
   "cell_type": "code",
   "execution_count": 186,
   "id": "27d9e40c-cd65-41f9-b2ba-3e506d71fb27",
   "metadata": {},
   "outputs": [
    {
     "data": {
      "text/plain": [
       "array([ 1.,  2.,  3., nan,  4.,  5.,  6., inf,  9., 10.])"
      ]
     },
     "execution_count": 186,
     "metadata": {},
     "output_type": "execute_result"
    }
   ],
   "source": [
    "arr"
   ]
  },
  {
   "cell_type": "code",
   "execution_count": 189,
   "id": "61115b56-f0eb-484e-9e4b-6bb7d5e23602",
   "metadata": {},
   "outputs": [
    {
     "name": "stdout",
     "output_type": "stream",
     "text": [
      "[ 1.  2.  3. nan  4.  5.  6. inf  9. 10.]\n",
      "[False False False  True False False False  True False False]\n"
     ]
    }
   ],
   "source": [
    "masked_arr = ma.masked_invalid(arr)\n",
    "print(masked_arr.data)\n",
    "print(masked_arr.mask)"
   ]
  },
  {
   "cell_type": "code",
   "execution_count": 194,
   "id": "04416939-e759-410d-ad62-3912bc62b405",
   "metadata": {},
   "outputs": [
    {
     "name": "stdout",
     "output_type": "stream",
     "text": [
      "[ 0.54030231 -0.41614684 -0.9899925          nan -0.65364362  0.28366219\n",
      "  0.96017029         inf -0.91113026 -0.83907153]\n",
      "[False False False  True False False False  True False False]\n"
     ]
    }
   ],
   "source": [
    "print(ma.cos(masked_arr).data)\n",
    "print(ma.cos(masked_arr).mask)"
   ]
  },
  {
   "cell_type": "code",
   "execution_count": 192,
   "id": "ca6771c6-fd04-49f1-b9d7-ded9789420f7",
   "metadata": {},
   "outputs": [
    {
     "data": {
      "text/plain": [
       "-0.02939455926552003"
      ]
     },
     "execution_count": 192,
     "metadata": {},
     "output_type": "execute_result"
    }
   ],
   "source": [
    "ma.mean(ma.sin(masked_arr))"
   ]
  },
  {
   "cell_type": "code",
   "execution_count": null,
   "id": "f5d46654-5dcb-4678-9ad8-1415c523a723",
   "metadata": {},
   "outputs": [],
   "source": []
  },
  {
   "cell_type": "markdown",
   "id": "73de8e30-09a8-4c0a-bc77-7aa50a173e18",
   "metadata": {},
   "source": [
    "#2. Write a NumPy program that creates a masked array and changes the mask to include additional elements."
   ]
  },
  {
   "cell_type": "code",
   "execution_count": 222,
   "id": "d2a3ef86-632a-40a0-a71a-b368290a8cf1",
   "metadata": {},
   "outputs": [
    {
     "data": {
      "text/plain": [
       "array([[90, 89, 21, 84, 21],\n",
       "       [30, 60, 90, 48, 47],\n",
       "       [33, 88, 73, 58, 66],\n",
       "       [64, 72, 84, 41, 61],\n",
       "       [97, 49, 50, 15, 11]])"
      ]
     },
     "execution_count": 222,
     "metadata": {},
     "output_type": "execute_result"
    }
   ],
   "source": [
    "arr = np.random.randint(11, 100, (5, 5))\n",
    "arr"
   ]
  },
  {
   "cell_type": "code",
   "execution_count": 224,
   "id": "dc62dc5a-dbe8-43c1-926f-c1c3375ea2d6",
   "metadata": {},
   "outputs": [],
   "source": [
    "less_than_20 = arr < 20\n",
    "masked_arr = ma.masked_array(arr, mask=less_than_20) "
   ]
  },
  {
   "cell_type": "code",
   "execution_count": 225,
   "id": "ac426c42-0246-4501-8a9e-9d0ab817beb3",
   "metadata": {},
   "outputs": [
    {
     "data": {
      "text/plain": [
       "masked_array(\n",
       "  data=[[90, 89, 21, 84, 21],\n",
       "        [30, 60, 90, 48, 47],\n",
       "        [33, 88, 73, 58, 66],\n",
       "        [64, 72, 84, 41, 61],\n",
       "        [97, 49, 50, --, --]],\n",
       "  mask=[[False, False, False, False, False],\n",
       "        [False, False, False, False, False],\n",
       "        [False, False, False, False, False],\n",
       "        [False, False, False, False, False],\n",
       "        [False, False, False,  True,  True]],\n",
       "  fill_value=999999)"
      ]
     },
     "execution_count": 225,
     "metadata": {},
     "output_type": "execute_result"
    }
   ],
   "source": [
    "masked_arr"
   ]
  },
  {
   "cell_type": "code",
   "execution_count": 230,
   "id": "8e20848f-ec40-4ea3-8bf0-6ced1bb0155c",
   "metadata": {},
   "outputs": [
    {
     "data": {
      "text/plain": [
       "masked_array(\n",
       "  data=[[--, --, 21, --, 21],\n",
       "        [30, 60, --, 48, 47],\n",
       "        [33, --, 73, 58, 66],\n",
       "        [64, 72, --, 41, 61],\n",
       "        [--, 49, 50, --, --]],\n",
       "  mask=[[ True,  True, False,  True, False],\n",
       "        [False, False,  True, False, False],\n",
       "        [False,  True, False, False, False],\n",
       "        [False, False,  True, False, False],\n",
       "        [ True, False, False,  True,  True]],\n",
       "  fill_value=999999)"
      ]
     },
     "execution_count": 230,
     "metadata": {},
     "output_type": "execute_result"
    }
   ],
   "source": [
    "additional_condition = arr > 80\n",
    "masked_arr.mask = less_than_20 | additional_condition\n",
    "masked_arr"
   ]
  },
  {
   "cell_type": "code",
   "execution_count": null,
   "id": "e2ca99ba-1eae-464a-ad41-b1340d0a3dc9",
   "metadata": {},
   "outputs": [],
   "source": []
  },
  {
   "cell_type": "markdown",
   "id": "cdd7bb1c-a880-4e29-ae6f-23b39e134514",
   "metadata": {},
   "source": [
    "#3. Write a NumPy program to create a masked array and convert it back to a regular NumPy array, replacing the masked values with NaN."
   ]
  },
  {
   "cell_type": "code",
   "execution_count": 271,
   "id": "1f6eca89-7b3e-4a2b-9725-7bc3b07fff3f",
   "metadata": {},
   "outputs": [],
   "source": [
    "masked_arr = ma.masked_less(np.round(np.random.rand(20)*3, 2), 1.2)"
   ]
  },
  {
   "cell_type": "code",
   "execution_count": 272,
   "id": "88771db5-84cb-463b-991f-41594d8ee25e",
   "metadata": {},
   "outputs": [
    {
     "data": {
      "text/plain": [
       "masked_array(data=[2.12, --, 2.05, --, 2.56, --, --, --, 1.52, 1.27, --,\n",
       "                   1.89, --, --, 2.13, --, 2.13, 1.56, --, 2.06],\n",
       "             mask=[False,  True, False,  True, False,  True,  True,  True,\n",
       "                   False, False,  True, False,  True,  True, False,  True,\n",
       "                   False, False,  True, False],\n",
       "       fill_value=1e+20)"
      ]
     },
     "execution_count": 272,
     "metadata": {},
     "output_type": "execute_result"
    }
   ],
   "source": [
    "masked_arr"
   ]
  },
  {
   "cell_type": "code",
   "execution_count": 273,
   "id": "3fbcc882-a568-48aa-b4b2-850c3fa5fdea",
   "metadata": {},
   "outputs": [
    {
     "data": {
      "text/plain": [
       "array([2.12,  nan, 2.05,  nan, 2.56,  nan,  nan,  nan, 1.52, 1.27,  nan,\n",
       "       1.89,  nan,  nan, 2.13,  nan, 2.13, 1.56,  nan, 2.06])"
      ]
     },
     "execution_count": 273,
     "metadata": {},
     "output_type": "execute_result"
    }
   ],
   "source": [
    "regular_arr = masked_arr.filled(np.nan)\n",
    "regular_arr"
   ]
  },
  {
   "cell_type": "code",
   "execution_count": null,
   "id": "ea52ca1c-fd26-40de-b719-2dfcc1585292",
   "metadata": {},
   "outputs": [],
   "source": []
  },
  {
   "cell_type": "markdown",
   "id": "80f0191d-05ef-4261-a173-899a54e87eac",
   "metadata": {},
   "source": [
    "### 10 NumPy Structured Arrays and SciPy Integration"
   ]
  },
  {
   "cell_type": "markdown",
   "id": "099f5aa8-e716-42ef-b9c2-caa4b866a868",
   "metadata": {},
   "source": [
    "#### Structured Arrays Exercises"
   ]
  },
  {
   "cell_type": "markdown",
   "id": "2a29dce4-9ec4-4bf6-aacf-368f2db3b750",
   "metadata": {},
   "source": [
    "#1. Write a NumPy program that adds a new record to the structured array created array with fields for 'name' (string), 'age' (integer), and 'height' (float) with the fields: 'name': ' Nela Suna ', 'age': 25, 'height': 5.9."
   ]
  },
  {
   "cell_type": "code",
   "execution_count": 301,
   "id": "7504a446-be99-408f-a591-eb4b00eafd59",
   "metadata": {},
   "outputs": [],
   "source": [
    "dt = np.dtype([(\"name\", \"U15\"), (\"age\", \"i4\"), (\"height\", \"f4\")])"
   ]
  },
  {
   "cell_type": "code",
   "execution_count": 302,
   "id": "f16349b7-7704-433c-8726-7def37c23375",
   "metadata": {},
   "outputs": [],
   "source": [
    "person_details = np.array([(\"Karan\", 21, 5.4), (\"Deep\", 21, 5.6), (\"Aditya\", 23, 5.9)], dtype=dt)"
   ]
  },
  {
   "cell_type": "code",
   "execution_count": 303,
   "id": "09b09b51-d8d9-4635-849d-1c570c2d15a3",
   "metadata": {},
   "outputs": [
    {
     "data": {
      "text/plain": [
       "array([('Karan', 21, 5.4), ('Deep', 21, 5.6), ('Aditya', 23, 5.9)],\n",
       "      dtype=[('name', '<U15'), ('age', '<i4'), ('height', '<f4')])"
      ]
     },
     "execution_count": 303,
     "metadata": {},
     "output_type": "execute_result"
    }
   ],
   "source": [
    "person_details"
   ]
  },
  {
   "cell_type": "code",
   "execution_count": 304,
   "id": "6ec6fd87-9fa6-46f9-9f92-2c12bc5b6395",
   "metadata": {},
   "outputs": [],
   "source": [
    "updated_person_details = np.append(person_details, np.array([(\"Nela Suna\", 25, 5.9)], dtype=dt))"
   ]
  },
  {
   "cell_type": "code",
   "execution_count": 305,
   "id": "260e19c7-1dbd-41b6-981e-7994085fbe97",
   "metadata": {},
   "outputs": [
    {
     "data": {
      "text/plain": [
       "array([('Karan', 21, 5.4), ('Deep', 21, 5.6), ('Aditya', 23, 5.9),\n",
       "       ('Nela Suna', 25, 5.9)],\n",
       "      dtype=[('name', '<U15'), ('age', '<i4'), ('height', '<f4')])"
      ]
     },
     "execution_count": 305,
     "metadata": {},
     "output_type": "execute_result"
    }
   ],
   "source": [
    "updated_person_details"
   ]
  },
  {
   "cell_type": "code",
   "execution_count": null,
   "id": "57591df8-c1ed-407c-b119-ef380d8c1c99",
   "metadata": {},
   "outputs": [],
   "source": []
  },
  {
   "cell_type": "markdown",
   "id": "0bda718a-7a01-4c04-854e-19d14caf5ce1",
   "metadata": {},
   "source": [
    "#2. Write a NumPy program that uses advanced indexing to select records from the structured array created with fields for 'name' (string), 'age' (integer), and 'height' (float) where both 'age' is greater than 25 and 'height' is less than 6.0."
   ]
  },
  {
   "cell_type": "code",
   "execution_count": 324,
   "id": "b3660d8e-b9dc-428f-89b5-e089ecff063c",
   "metadata": {},
   "outputs": [
    {
     "name": "stdout",
     "output_type": "stream",
     "text": [
      "Person with age > 25 and height < 6.0: \n",
      "[('Albin Acha', 30, 5.8) ('Edmund Ter', 40, 5.9) ('Laura Feli', 28, 5.7)]\n"
     ]
    }
   ],
   "source": [
    "dtype = [('name', 'U10'), ('age', 'i4'), ('height', 'f4')]\n",
    "\n",
    "structured_array = np.array([\n",
    "    ('Lehi Piero', 25, 5.5),\n",
    "    ('Albin Achan', 30, 5.8),\n",
    "    ('Zerach Hava', 35, 6.1),\n",
    "    ('Edmund Tereza', 40, 5.9),\n",
    "    ('Laura Felinus', 28, 5.7)\n",
    "], dtype=dtype)    \n",
    "\n",
    "print(f\"Person with age > 25 and height < 6.0: \")\n",
    "print(structured_array[(structured_array[\"age\"] > 25) & (structured_array[\"height\"] < 6.0)])"
   ]
  },
  {
   "cell_type": "code",
   "execution_count": null,
   "id": "9b5a5b1a-317b-4043-9252-f027fe103989",
   "metadata": {},
   "outputs": [],
   "source": []
  },
  {
   "cell_type": "markdown",
   "id": "33b8a704-fd30-47b7-a103-fe07f8c23790",
   "metadata": {},
   "source": [
    "#### SciPy Integration Exercises"
   ]
  },
  {
   "cell_type": "markdown",
   "id": "87ee6d5e-c0c7-49cc-a971-c714d546a77d",
   "metadata": {},
   "source": [
    "#1. Write a NumPy program to generate synthetic data using NumPy and apply SciPy's stats module to perform various statistical tests (t-test)."
   ]
  },
  {
   "cell_type": "code",
   "execution_count": 340,
   "id": "54ce7bc5-cdcb-416e-beef-63eee8d3f456",
   "metadata": {},
   "outputs": [],
   "source": [
    "from scipy import stats"
   ]
  },
  {
   "cell_type": "code",
   "execution_count": 341,
   "id": "1e4d85c9-06bc-4afc-b8ce-110c49824a94",
   "metadata": {},
   "outputs": [],
   "source": [
    "np.random.seed(28)"
   ]
  },
  {
   "cell_type": "code",
   "execution_count": 342,
   "id": "dcf3e313-a836-4234-893a-62bfb22bef43",
   "metadata": {},
   "outputs": [],
   "source": [
    "a1 = np.random.normal(loc=30, scale=6, size=100)\n",
    "a2 = np.random.normal(loc=32, scale=6, size=100)"
   ]
  },
  {
   "cell_type": "code",
   "execution_count": 343,
   "id": "15aa8dc8-4a28-4f21-ae35-630c8f2ed385",
   "metadata": {
    "scrolled": true
   },
   "outputs": [
    {
     "data": {
      "text/plain": [
       "array([32.67799427, 40.01472031, 28.41432023, 24.19299042, 30.35513055,\n",
       "       39.08771994, 32.02122266, 28.18578779, 24.96814918, 26.89361249,\n",
       "       31.52104718, 15.09177608, 26.09148079, 19.34718509, 31.40571496,\n",
       "       37.43639915, 26.09799435, 28.40271044, 26.76768138, 32.52444317,\n",
       "       29.42828204, 25.38074341, 28.8976528 , 31.06085368, 34.42233714,\n",
       "       34.16317585, 25.10681802, 32.32608273, 30.63922203, 28.11253846,\n",
       "       25.80172287, 30.31792968, 35.60464706, 38.75923281, 20.5267373 ,\n",
       "       35.7135986 , 26.38524335, 32.76866954, 29.97624512, 34.66408816,\n",
       "       27.04132316, 33.65118519, 31.8854051 , 25.73217741, 36.03177627,\n",
       "       31.26755381, 24.76110697, 35.90494241, 29.57878097, 40.6723321 ,\n",
       "       29.74406345, 30.27888093, 36.00539741, 37.92627994, 37.02657777,\n",
       "       25.28883098, 33.02229492, 16.74187843, 31.33103421, 16.7732831 ,\n",
       "       34.00902976, 27.28391509, 21.08242522, 35.620681  , 31.88410154,\n",
       "       31.31216527, 33.94912851, 32.63689261, 31.53932492, 31.34925696,\n",
       "       38.74612603, 20.7464642 , 21.08503022, 27.07885405, 31.40655584,\n",
       "       29.65817857, 39.08549884, 21.75374824, 27.46349084, 29.69716461,\n",
       "       34.40928154, 25.78751799, 28.13900573, 22.81056614, 34.82669191,\n",
       "       31.11366273, 12.73546401, 31.79816233, 26.62762209, 25.82918555,\n",
       "       30.5160438 , 38.27917718, 26.23548885, 16.86217739, 36.88920421,\n",
       "       42.59290787, 29.45870223, 27.49696133, 29.79364526, 24.89215448])"
      ]
     },
     "execution_count": 343,
     "metadata": {},
     "output_type": "execute_result"
    }
   ],
   "source": [
    "a1"
   ]
  },
  {
   "cell_type": "code",
   "execution_count": 344,
   "id": "5c4fb872-7450-402d-a2c0-706900663f42",
   "metadata": {
    "scrolled": true
   },
   "outputs": [
    {
     "data": {
      "text/plain": [
       "array([32.52378208, 32.53700797, 40.49552254, 26.9503091 , 35.67437301,\n",
       "       34.52555202, 35.88304449, 31.62510384, 31.76378438, 45.6366015 ,\n",
       "       35.52932273, 27.77706185, 24.61886736, 28.72973563, 25.69987151,\n",
       "       28.19542431, 25.76604674, 30.45855691, 34.92388914, 38.69011213,\n",
       "       37.1951627 , 36.61829427, 34.25852797, 39.99757917, 31.29113288,\n",
       "       29.93854201, 37.12828878, 30.24016409, 30.5198196 , 30.15782611,\n",
       "       32.14179897, 35.5486779 , 22.39621635, 31.83386714, 29.63754842,\n",
       "       28.86240148, 37.41004584, 33.20349208, 41.15338226, 31.91160518,\n",
       "       33.72533273, 26.24145009, 32.11308242, 37.31823138, 42.59367429,\n",
       "       30.13171351, 31.50700304, 20.87646661, 30.71147648, 33.54626216,\n",
       "       30.38144657, 45.18674703, 33.81285128, 40.57717492, 26.84169382,\n",
       "       28.52269224, 45.07371563, 32.73100943, 27.04883543, 41.00180868,\n",
       "       26.4258312 , 26.25432374, 32.80791544, 28.27727943, 24.08938514,\n",
       "       32.46673771, 23.84096839, 31.04777232, 26.3088017 , 35.02369772,\n",
       "       55.97961583, 28.91459444, 28.60617388, 15.15522775, 30.68415762,\n",
       "       22.85124288, 37.42868336, 35.00399639, 24.73595106, 36.66557841,\n",
       "       29.37560813, 43.60299229, 30.00448597, 40.6519278 , 18.58060073,\n",
       "       21.63320549, 23.80052634, 31.66421068, 46.88556176, 43.8085347 ,\n",
       "       25.64169637, 25.87879228, 29.16675532, 26.40031119, 33.93786772,\n",
       "       28.15560961, 22.69883712, 33.61895172, 33.13180683, 34.47979371])"
      ]
     },
     "execution_count": 344,
     "metadata": {},
     "output_type": "execute_result"
    }
   ],
   "source": [
    "a2"
   ]
  },
  {
   "cell_type": "code",
   "execution_count": 345,
   "id": "28c81856-a19a-41f3-954b-b60c9c672910",
   "metadata": {},
   "outputs": [
    {
     "data": {
      "text/plain": [
       "TtestResult(statistic=-2.584374565328871, pvalue=0.010474908594238979, df=198.0)"
      ]
     },
     "execution_count": 345,
     "metadata": {},
     "output_type": "execute_result"
    }
   ],
   "source": [
    "stats.ttest_ind(a1, a2)"
   ]
  },
  {
   "cell_type": "code",
   "execution_count": null,
   "id": "0e5b0aec-8a23-44dc-b359-279f3d223e5e",
   "metadata": {},
   "outputs": [],
   "source": []
  },
  {
   "cell_type": "markdown",
   "id": "8be44e4c-e352-40a8-8df8-5a18d1971f79",
   "metadata": {},
   "source": [
    "### 11 NumPy Advanced Topics and Matery"
   ]
  },
  {
   "cell_type": "markdown",
   "id": "592a605c-a1c6-4394-908f-eef0074c6748",
   "metadata": {},
   "source": [
    "#### NumPy Advanced Exercises"
   ]
  },
  {
   "cell_type": "markdown",
   "id": "541e1e06-5129-41f7-a44f-a48f15e08d20",
   "metadata": {},
   "source": [
    "#1. Write a NumPy program to create a 3x3 array with random values and calculate the pairwise Euclidean distance between each pair of rows."
   ]
  },
  {
   "cell_type": "code",
   "execution_count": 350,
   "id": "8b543661-1935-420d-9ab6-c50f35d2c910",
   "metadata": {},
   "outputs": [
    {
     "data": {
      "text/plain": [
       "array([[21, 41, 39],\n",
       "       [49, 13, 42],\n",
       "       [95, 63, 14]])"
      ]
     },
     "execution_count": 350,
     "metadata": {},
     "output_type": "execute_result"
    }
   ],
   "source": [
    "from scipy.spatial import distance\n",
    "\n",
    "arr = np.random.randint(11, 100, (3, 3))\n",
    "arr"
   ]
  },
  {
   "cell_type": "code",
   "execution_count": 351,
   "id": "e57ad93f-2e4c-4b44-a758-6f4ebc46dc84",
   "metadata": {},
   "outputs": [],
   "source": [
    "dis = distance.cdist(arr, arr, \"euclidean\")"
   ]
  },
  {
   "cell_type": "code",
   "execution_count": 352,
   "id": "6bbb4534-5ba8-4746-ac8b-360ec428b6b7",
   "metadata": {},
   "outputs": [
    {
     "data": {
      "text/plain": [
       "array([[ 0.        , 39.7114593 , 81.14801291],\n",
       "       [39.7114593 ,  0.        , 73.48469228],\n",
       "       [81.14801291, 73.48469228,  0.        ]])"
      ]
     },
     "execution_count": 352,
     "metadata": {},
     "output_type": "execute_result"
    }
   ],
   "source": [
    "dis"
   ]
  },
  {
   "cell_type": "code",
   "execution_count": null,
   "id": "1d78568d-1f74-4cfa-9ed5-24c1530c686f",
   "metadata": {},
   "outputs": [],
   "source": []
  }
 ],
 "metadata": {
  "kernelspec": {
   "display_name": "Python 3 (ipykernel)",
   "language": "python",
   "name": "python3"
  },
  "language_info": {
   "codemirror_mode": {
    "name": "ipython",
    "version": 3
   },
   "file_extension": ".py",
   "mimetype": "text/x-python",
   "name": "python",
   "nbconvert_exporter": "python",
   "pygments_lexer": "ipython3",
   "version": "3.12.7"
  }
 },
 "nbformat": 4,
 "nbformat_minor": 5
}

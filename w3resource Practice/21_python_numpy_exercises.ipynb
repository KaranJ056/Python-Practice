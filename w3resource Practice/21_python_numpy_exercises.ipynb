{
 "cells": [
  {
   "cell_type": "markdown",
   "id": "ee62c2d0-8367-4486-8411-22b60993cd53",
   "metadata": {},
   "source": [
    "### Python NumPy [Basics and Exercises]\n",
    "##### https://www.w3resource.com/python-exercises/numpy/index.php"
   ]
  },
  {
   "cell_type": "markdown",
   "id": "1fa5c5d0-8fc3-45b8-900f-c30c5c2b616c",
   "metadata": {},
   "source": [
    "### Basics"
   ]
  },
  {
   "cell_type": "code",
   "execution_count": 1,
   "id": "f36bab55-70cf-429b-9dda-e36fbbbd519e",
   "metadata": {},
   "outputs": [
    {
     "name": "stdout",
     "output_type": "stream",
     "text": [
      "Requirement already satisfied: numpy in c:\\users\\karanjjoshi\\anaconda3\\lib\\site-packages (1.26.4)\n"
     ]
    }
   ],
   "source": [
    "!pip install numpy"
   ]
  },
  {
   "cell_type": "code",
   "execution_count": 2,
   "id": "7552b553-b1aa-4768-8c36-048270789572",
   "metadata": {},
   "outputs": [],
   "source": [
    "import numpy as np"
   ]
  },
  {
   "cell_type": "markdown",
   "id": "91c14e13-736d-4d9d-8942-edf3e474a7e6",
   "metadata": {},
   "source": [
    "#### NumPy Arrays"
   ]
  },
  {
   "cell_type": "code",
   "execution_count": 6,
   "id": "8c4b9116-c48c-4727-9283-37bbd4d7d1c5",
   "metadata": {},
   "outputs": [
    {
     "data": {
      "text/plain": [
       "array([1, 2, 3])"
      ]
     },
     "execution_count": 6,
     "metadata": {},
     "output_type": "execute_result"
    }
   ],
   "source": [
    "np.array([1,2,3])"
   ]
  },
  {
   "cell_type": "code",
   "execution_count": 9,
   "id": "0ace5dcf-7444-406a-bdf4-5ca410bd6b87",
   "metadata": {},
   "outputs": [
    {
     "data": {
      "text/plain": [
       "array([[1, 2, 3],\n",
       "       [4, 5, 6]])"
      ]
     },
     "execution_count": 9,
     "metadata": {},
     "output_type": "execute_result"
    }
   ],
   "source": [
    "np.array([[1,2,3], [4,5,6]])"
   ]
  },
  {
   "cell_type": "code",
   "execution_count": 11,
   "id": "923c83b8-60fc-445e-8ee5-f2338e3205b3",
   "metadata": {},
   "outputs": [
    {
     "data": {
      "text/plain": [
       "array([1, 3, 5, 7, 9])"
      ]
     },
     "execution_count": 11,
     "metadata": {},
     "output_type": "execute_result"
    }
   ],
   "source": [
    "np.arange(1, 11, 2)"
   ]
  },
  {
   "cell_type": "code",
   "execution_count": 13,
   "id": "00295022-11a4-4f3a-b289-a94bb030a57b",
   "metadata": {},
   "outputs": [
    {
     "data": {
      "text/plain": [
       "array([ 0.  ,  1.25,  2.5 ,  3.75,  5.  ,  6.25,  7.5 ,  8.75, 10.  ])"
      ]
     },
     "execution_count": 13,
     "metadata": {},
     "output_type": "execute_result"
    }
   ],
   "source": [
    "np.linspace(0,10,9)"
   ]
  },
  {
   "cell_type": "code",
   "execution_count": 23,
   "id": "0ad3c99f-d558-480b-b520-aac558c59432",
   "metadata": {},
   "outputs": [
    {
     "data": {
      "text/plain": [
       "array([[0., 0., 0.],\n",
       "       [0., 0., 0.]])"
      ]
     },
     "execution_count": 23,
     "metadata": {},
     "output_type": "execute_result"
    }
   ],
   "source": [
    "np.zeros((2,3))"
   ]
  },
  {
   "cell_type": "code",
   "execution_count": 29,
   "id": "d2fada0a-8ca4-446a-8d55-8d218e97498e",
   "metadata": {},
   "outputs": [
    {
     "data": {
      "text/plain": [
       "array([[1., 1., 1.],\n",
       "       [1., 1., 1.]])"
      ]
     },
     "execution_count": 29,
     "metadata": {},
     "output_type": "execute_result"
    }
   ],
   "source": [
    "np.ones((2,3))"
   ]
  },
  {
   "cell_type": "code",
   "execution_count": 71,
   "id": "6d942b82-a2b1-40e3-819a-661e3c4f3c55",
   "metadata": {},
   "outputs": [
    {
     "name": "stdout",
     "output_type": "stream",
     "text": [
      "[[0.68794231 0.11850179 0.14286977 0.14584119]\n",
      " [0.41680772 0.34578551 0.88655054 0.29864864]]\n"
     ]
    }
   ],
   "source": [
    "a = np.random.random((2,4))\n",
    "print(a)"
   ]
  },
  {
   "cell_type": "code",
   "execution_count": 72,
   "id": "985dc277-bf46-4f3a-857e-2763ee8bb426",
   "metadata": {},
   "outputs": [
    {
     "data": {
      "text/plain": [
       "array([[0., 0.],\n",
       "       [0., 0.]])"
      ]
     },
     "execution_count": 72,
     "metadata": {},
     "output_type": "execute_result"
    }
   ],
   "source": [
    "np.empty((2,2))"
   ]
  },
  {
   "cell_type": "code",
   "execution_count": 73,
   "id": "f08ba209-1760-4c43-9056-d766efce1039",
   "metadata": {},
   "outputs": [
    {
     "data": {
      "text/plain": [
       "array([[101, 101, 101],\n",
       "       [101, 101, 101]])"
      ]
     },
     "execution_count": 73,
     "metadata": {},
     "output_type": "execute_result"
    }
   ],
   "source": [
    "np.full((2,3), 101)"
   ]
  },
  {
   "cell_type": "code",
   "execution_count": 77,
   "id": "40bb02a1-0e5d-4eb0-92df-3d64260efd8f",
   "metadata": {},
   "outputs": [
    {
     "data": {
      "text/plain": [
       "array([[0, 0, 0, 0],\n",
       "       [0, 0, 0, 0]])"
      ]
     },
     "execution_count": 77,
     "metadata": {},
     "output_type": "execute_result"
    }
   ],
   "source": [
    "np.full_like(a, 0, dtype=\"int32\")"
   ]
  },
  {
   "cell_type": "code",
   "execution_count": 78,
   "id": "b125ece1-4ebd-4a8d-9fe4-d2339e04fa13",
   "metadata": {},
   "outputs": [
    {
     "data": {
      "text/plain": [
       "array([[11, 11, 11, 11],\n",
       "       [11, 11, 11, 11]])"
      ]
     },
     "execution_count": 78,
     "metadata": {},
     "output_type": "execute_result"
    }
   ],
   "source": [
    "np.full(a.shape, 11)"
   ]
  },
  {
   "cell_type": "code",
   "execution_count": 80,
   "id": "a64f2824-a164-4ebe-99cb-74368701e3e5",
   "metadata": {},
   "outputs": [
    {
     "data": {
      "text/plain": [
       "array([[0.35062453, 0.17514571],\n",
       "       [0.20686535, 0.01125379]])"
      ]
     },
     "execution_count": 80,
     "metadata": {},
     "output_type": "execute_result"
    }
   ],
   "source": [
    "np.random.rand(2,2)"
   ]
  },
  {
   "cell_type": "code",
   "execution_count": 84,
   "id": "814cc655-64dc-4606-af02-16915cd1d770",
   "metadata": {},
   "outputs": [
    {
     "data": {
      "text/plain": [
       "array([[83,  2, 31, 63],\n",
       "       [29, 20, 68, 46]])"
      ]
     },
     "execution_count": 84,
     "metadata": {},
     "output_type": "execute_result"
    }
   ],
   "source": [
    "np.random.randint(90, size=(2,4))"
   ]
  },
  {
   "cell_type": "code",
   "execution_count": 93,
   "id": "321d6bb5-8197-4c4d-a3e3-e46181a9b47f",
   "metadata": {},
   "outputs": [
    {
     "name": "stdout",
     "output_type": "stream",
     "text": [
      "[[1 1 1 1 1]\n",
      " [1 0 0 0 1]\n",
      " [1 0 9 0 1]\n",
      " [1 0 0 0 1]\n",
      " [1 1 1 1 1]]\n"
     ]
    }
   ],
   "source": [
    "# problem: \n",
    "# create following array:\n",
    "# [1,1,1,1,1]\n",
    "# [1,0,0,0,1]\n",
    "# [1,0,9,0,1]\n",
    "# [1,0,0,0,1]\n",
    "# [1,1,1,1,1]\n",
    "\n",
    "x = np.full((5,5), 1, dtype=\"int32\")\n",
    "x[1:4, 1:4] = 0\n",
    "x[2, 2] = 9\n",
    "print(x)"
   ]
  },
  {
   "cell_type": "markdown",
   "id": "3d3585f9-364e-44e6-bebf-566023e60cb3",
   "metadata": {},
   "source": [
    "###### Be careful when copying np arrays"
   ]
  },
  {
   "cell_type": "code",
   "execution_count": 98,
   "id": "79639d91-9800-4ce9-9ede-f809a27b4221",
   "metadata": {},
   "outputs": [
    {
     "name": "stdout",
     "output_type": "stream",
     "text": [
      "x= [1 2 3 4 5], y=[1 2 3 4 5]\n",
      "x= [ 1  2 10  4  5], y=[ 1  2 10  4  5]\n"
     ]
    }
   ],
   "source": [
    "y = np.array([1,2,3,4,5])\n",
    "z = y\n",
    "print(f\"x= {y}, y={z}\")\n",
    "z[2] = 10\n",
    "print(f\"x= {y}, y={z}\")"
   ]
  },
  {
   "cell_type": "code",
   "execution_count": 99,
   "id": "94459a18-e0fb-4f94-a27a-4352696ebcfd",
   "metadata": {},
   "outputs": [],
   "source": [
    "# instead do following"
   ]
  },
  {
   "cell_type": "code",
   "execution_count": 100,
   "id": "3398cc7a-4a86-4454-9ab3-c095e493d2f2",
   "metadata": {},
   "outputs": [
    {
     "name": "stdout",
     "output_type": "stream",
     "text": [
      "x= [ 1  2 10  4  5], y=[ 1  2 10  4  5]\n",
      "x= [ 1  2 10  4  5], y=[ 1  2 40  4  5]\n"
     ]
    }
   ],
   "source": [
    "z = y.copy()\n",
    "\n",
    "print(f\"x= {y}, y={z}\")\n",
    "z[2] = 40\n",
    "print(f\"x= {y}, y={z}\")"
   ]
  },
  {
   "cell_type": "code",
   "execution_count": null,
   "id": "e5ad4764-c289-47e7-a77b-fbfbc3ebff8d",
   "metadata": {},
   "outputs": [],
   "source": []
  },
  {
   "cell_type": "markdown",
   "id": "9344e445-a4ec-4886-aaf9-e86897adddcc",
   "metadata": {},
   "source": [
    "##### Array properties"
   ]
  },
  {
   "cell_type": "code",
   "execution_count": 61,
   "id": "2a401166-a23f-496b-8762-2b788ae54352",
   "metadata": {},
   "outputs": [
    {
     "name": "stdout",
     "output_type": "stream",
     "text": [
      "[[0.78297542 0.72327489 0.49900757 0.34580643 0.15338873]\n",
      " [0.5708914  0.97450302 0.02952681 0.09425816 0.49760734]\n",
      " [0.69030382 0.61865428 0.64677257 0.45163474 0.00663095]]\n"
     ]
    }
   ],
   "source": [
    "a = np.random.random((3,5))\n",
    "print(a)"
   ]
  },
  {
   "cell_type": "code",
   "execution_count": 62,
   "id": "fb6e0f63-b1cc-40bd-a5cb-7b16a3d7965f",
   "metadata": {},
   "outputs": [
    {
     "name": "stdout",
     "output_type": "stream",
     "text": [
      "Dimensions: 2\n",
      "Shape: (3, 5)\n",
      "Size (Total Elements): 15\n",
      "Data type: float64\n"
     ]
    }
   ],
   "source": [
    "print(f\"Dimensions: {a.ndim}\")\n",
    "print(f\"Shape: {a.shape}\")\n",
    "print(f\"Size (Total Elements): {a.size}\")\n",
    "print(f\"Data type: {a.dtype}\")"
   ]
  },
  {
   "cell_type": "markdown",
   "id": "d7926b00-2524-4690-92bf-d08ec0061e05",
   "metadata": {},
   "source": [
    "##### Accessing elements of array"
   ]
  },
  {
   "cell_type": "code",
   "execution_count": 63,
   "id": "e843aeb2-13b4-40fd-a8ec-742dde5bee4c",
   "metadata": {},
   "outputs": [
    {
     "data": {
      "text/plain": [
       "array([[ 1,  2,  3,  4,  5],\n",
       "       [ 6,  7,  8,  9, 10],\n",
       "       [11, 12, 13, 14, 15]])"
      ]
     },
     "execution_count": 63,
     "metadata": {},
     "output_type": "execute_result"
    }
   ],
   "source": [
    "# instead of a[r][c]\n",
    "# do a[r, c]\n",
    "\n",
    "a = np.array([[1,2,3,4,5], [6,7,8,9,10], [11,12,13,14,15]])\n",
    "a"
   ]
  },
  {
   "cell_type": "code",
   "execution_count": 64,
   "id": "c1c7f79c-a2fc-4cd9-89b9-13229602c36f",
   "metadata": {},
   "outputs": [
    {
     "data": {
      "text/plain": [
       "9"
      ]
     },
     "execution_count": 64,
     "metadata": {},
     "output_type": "execute_result"
    }
   ],
   "source": [
    "a[1, 3]"
   ]
  },
  {
   "cell_type": "code",
   "execution_count": 65,
   "id": "6258d594-ecc4-4f95-aa7b-160bfb50ac0d",
   "metadata": {},
   "outputs": [
    {
     "data": {
      "text/plain": [
       "13"
      ]
     },
     "execution_count": 65,
     "metadata": {},
     "output_type": "execute_result"
    }
   ],
   "source": [
    "a[-1, -3]"
   ]
  },
  {
   "cell_type": "code",
   "execution_count": 66,
   "id": "18f555c1-ea9f-42ef-bfde-e67cb32791bc",
   "metadata": {},
   "outputs": [
    {
     "data": {
      "text/plain": [
       "array([[1, 2, 3, 4, 5]])"
      ]
     },
     "execution_count": 66,
     "metadata": {},
     "output_type": "execute_result"
    }
   ],
   "source": [
    "a[:1]"
   ]
  },
  {
   "cell_type": "code",
   "execution_count": 67,
   "id": "337f4de0-45c9-4b1b-a33a-ed6bfc9880f7",
   "metadata": {},
   "outputs": [
    {
     "data": {
      "text/plain": [
       "array([ 6,  7,  8,  9, 10])"
      ]
     },
     "execution_count": 67,
     "metadata": {},
     "output_type": "execute_result"
    }
   ],
   "source": [
    "a[1,:] # access specific column"
   ]
  },
  {
   "cell_type": "code",
   "execution_count": 68,
   "id": "b670d6d0-06e4-4e67-8d1c-47d51a3af30c",
   "metadata": {},
   "outputs": [
    {
     "data": {
      "text/plain": [
       "array([ 3,  8, 13])"
      ]
     },
     "execution_count": 68,
     "metadata": {},
     "output_type": "execute_result"
    }
   ],
   "source": [
    "a[:, 2] # access specific column"
   ]
  },
  {
   "cell_type": "code",
   "execution_count": null,
   "id": "da3b2bf5-5539-442c-877b-1bbe7aaabf19",
   "metadata": {},
   "outputs": [],
   "source": []
  },
  {
   "cell_type": "markdown",
   "id": "20a94496-0ef1-4693-aa48-5bd39346d309",
   "metadata": {},
   "source": [
    "##### Mathematics"
   ]
  },
  {
   "cell_type": "code",
   "execution_count": 101,
   "id": "c08ffe0c-f257-46bb-ac87-39950e884166",
   "metadata": {},
   "outputs": [
    {
     "data": {
      "text/plain": [
       "array([1, 2, 3, 4, 5])"
      ]
     },
     "execution_count": 101,
     "metadata": {},
     "output_type": "execute_result"
    }
   ],
   "source": [
    "a = np.array([1,2,3,4,5])\n",
    "a"
   ]
  },
  {
   "cell_type": "code",
   "execution_count": 102,
   "id": "c0d70b39-a54f-4f1d-8c4f-73c5fc3b0589",
   "metadata": {},
   "outputs": [
    {
     "data": {
      "text/plain": [
       "array([3, 4, 5, 6, 7])"
      ]
     },
     "execution_count": 102,
     "metadata": {},
     "output_type": "execute_result"
    }
   ],
   "source": [
    "a + 2"
   ]
  },
  {
   "cell_type": "code",
   "execution_count": 103,
   "id": "8891e00e-fa15-44d0-a07b-961ef1b6e3fb",
   "metadata": {},
   "outputs": [
    {
     "data": {
      "text/plain": [
       "array([-1,  0,  1,  2,  3])"
      ]
     },
     "execution_count": 103,
     "metadata": {},
     "output_type": "execute_result"
    }
   ],
   "source": [
    "a-2"
   ]
  },
  {
   "cell_type": "code",
   "execution_count": 104,
   "id": "bfa60e0e-8043-4488-8bb9-bde0703e7b6b",
   "metadata": {},
   "outputs": [
    {
     "data": {
      "text/plain": [
       "array([ 2,  4,  6,  8, 10])"
      ]
     },
     "execution_count": 104,
     "metadata": {},
     "output_type": "execute_result"
    }
   ],
   "source": [
    "a*2"
   ]
  },
  {
   "cell_type": "code",
   "execution_count": 105,
   "id": "7cb1ec43-68b8-43f2-a133-f835bbe1279a",
   "metadata": {},
   "outputs": [
    {
     "data": {
      "text/plain": [
       "array([0.5, 1. , 1.5, 2. , 2.5])"
      ]
     },
     "execution_count": 105,
     "metadata": {},
     "output_type": "execute_result"
    }
   ],
   "source": [
    "a/2"
   ]
  },
  {
   "cell_type": "code",
   "execution_count": 106,
   "id": "2e812c8c-a21e-414f-a075-b19e73413d31",
   "metadata": {},
   "outputs": [
    {
     "data": {
      "text/plain": [
       "array([1, 0, 1, 0, 1], dtype=int32)"
      ]
     },
     "execution_count": 106,
     "metadata": {},
     "output_type": "execute_result"
    }
   ],
   "source": [
    "a%2"
   ]
  },
  {
   "cell_type": "code",
   "execution_count": 107,
   "id": "5c685592-063d-4104-a181-3da8512e0a96",
   "metadata": {},
   "outputs": [
    {
     "data": {
      "text/plain": [
       "array([3, 4, 5, 6, 7])"
      ]
     },
     "execution_count": 107,
     "metadata": {},
     "output_type": "execute_result"
    }
   ],
   "source": [
    "a += 2\n",
    "a"
   ]
  },
  {
   "cell_type": "code",
   "execution_count": 108,
   "id": "db0ce157-8b61-463c-b8fe-c68e14feb9a8",
   "metadata": {},
   "outputs": [
    {
     "data": {
      "text/plain": [
       "array([ 9, 16, 25, 36, 49])"
      ]
     },
     "execution_count": 108,
     "metadata": {},
     "output_type": "execute_result"
    }
   ],
   "source": [
    "a**2"
   ]
  },
  {
   "cell_type": "code",
   "execution_count": 110,
   "id": "b2529d25-11fa-43c8-bfde-1280386c8f90",
   "metadata": {},
   "outputs": [
    {
     "data": {
      "text/plain": [
       "array([ 0.14112001, -0.7568025 , -0.95892427, -0.2794155 ,  0.6569866 ])"
      ]
     },
     "execution_count": 110,
     "metadata": {},
     "output_type": "execute_result"
    }
   ],
   "source": [
    "np.sin(a)"
   ]
  },
  {
   "cell_type": "markdown",
   "id": "bc5a4be5-1fa0-4709-94b9-257cfc93a447",
   "metadata": {},
   "source": [
    "##### Linear Algebra"
   ]
  },
  {
   "cell_type": "code",
   "execution_count": 113,
   "id": "4db603ea-2b92-4453-9f04-e1cda58059e5",
   "metadata": {},
   "outputs": [
    {
     "name": "stdout",
     "output_type": "stream",
     "text": [
      "[[1. 1. 1.]\n",
      " [1. 1. 1.]]\n",
      "[[2 2]\n",
      " [2 2]\n",
      " [2 2]]\n"
     ]
    }
   ],
   "source": [
    "a = np.ones((2,3))\n",
    "b = np.full((3,2), 2)\n",
    "\n",
    "print(a)\n",
    "print(b)"
   ]
  },
  {
   "cell_type": "code",
   "execution_count": 115,
   "id": "b20912ce-e39b-4977-9ac2-ac90f232b250",
   "metadata": {},
   "outputs": [
    {
     "data": {
      "text/plain": [
       "array([[6., 6.],\n",
       "       [6., 6.]])"
      ]
     },
     "execution_count": 115,
     "metadata": {},
     "output_type": "execute_result"
    }
   ],
   "source": [
    "np.matmul(a,b)"
   ]
  },
  {
   "cell_type": "code",
   "execution_count": 127,
   "id": "9617867e-8f1c-4443-899b-d97439903657",
   "metadata": {},
   "outputs": [
    {
     "data": {
      "text/plain": [
       "array([[   1,    2,    3],\n",
       "       [  11, 1212, 2122],\n",
       "       [   7,    8,    9]])"
      ]
     },
     "execution_count": 127,
     "metadata": {},
     "output_type": "execute_result"
    }
   ],
   "source": [
    "# determinant\n",
    "\n",
    "a = np.array([[1,2,3], [11,1212,2122], [7,8,9]])\n",
    "a"
   ]
  },
  {
   "cell_type": "code",
   "execution_count": 128,
   "id": "f75a7768-87bb-4d68-9e22-396cc04375cc",
   "metadata": {},
   "outputs": [
    {
     "data": {
      "text/plain": [
       "-1746"
      ]
     },
     "execution_count": 128,
     "metadata": {},
     "output_type": "execute_result"
    }
   ],
   "source": [
    "int(np.linalg.det(a))"
   ]
  },
  {
   "cell_type": "markdown",
   "id": "e8ac3919-5393-4106-bfe3-672fcb5963a5",
   "metadata": {},
   "source": [
    "##### Statictics"
   ]
  },
  {
   "cell_type": "code",
   "execution_count": 131,
   "id": "03ffe023-7949-48e2-826f-93b255ba4f26",
   "metadata": {},
   "outputs": [
    {
     "data": {
      "text/plain": [
       "array([[ 21,   2,  14,  35,  12,  32],\n",
       "       [231, 124,   1,  51,   5, 235]])"
      ]
     },
     "execution_count": 131,
     "metadata": {},
     "output_type": "execute_result"
    }
   ],
   "source": [
    "a = np.array([[21,2,14,35,12,32], [231,124,1,51,5,235]])\n",
    "a"
   ]
  },
  {
   "cell_type": "code",
   "execution_count": 132,
   "id": "b6085ad5-78e1-4845-a742-5b8dcf23ce50",
   "metadata": {},
   "outputs": [
    {
     "data": {
      "text/plain": [
       "1"
      ]
     },
     "execution_count": 132,
     "metadata": {},
     "output_type": "execute_result"
    }
   ],
   "source": [
    "np.min(a)"
   ]
  },
  {
   "cell_type": "code",
   "execution_count": 133,
   "id": "8d1bfa02-8c13-4f55-ac5b-e582ad3f4693",
   "metadata": {},
   "outputs": [
    {
     "data": {
      "text/plain": [
       "235"
      ]
     },
     "execution_count": 133,
     "metadata": {},
     "output_type": "execute_result"
    }
   ],
   "source": [
    "np.max(a)"
   ]
  },
  {
   "cell_type": "code",
   "execution_count": 135,
   "id": "db7d91a4-419f-477c-a0c7-23f06f272ea2",
   "metadata": {},
   "outputs": [
    {
     "data": {
      "text/plain": [
       "63.583333333333336"
      ]
     },
     "execution_count": 135,
     "metadata": {},
     "output_type": "execute_result"
    }
   ],
   "source": [
    "np.mean(a)"
   ]
  },
  {
   "cell_type": "code",
   "execution_count": 137,
   "id": "0c178827-c719-453f-ad6b-fcf155407ac8",
   "metadata": {},
   "outputs": [
    {
     "data": {
      "text/plain": [
       "array([2, 1])"
      ]
     },
     "execution_count": 137,
     "metadata": {},
     "output_type": "execute_result"
    }
   ],
   "source": [
    "np.min(a, axis=1)"
   ]
  },
  {
   "cell_type": "code",
   "execution_count": 139,
   "id": "8a2a6407-3fd5-4535-90a9-ab805020beec",
   "metadata": {},
   "outputs": [
    {
     "data": {
      "text/plain": [
       "array([ 35, 235])"
      ]
     },
     "execution_count": 139,
     "metadata": {},
     "output_type": "execute_result"
    }
   ],
   "source": [
    "np.max(a, axis=1)"
   ]
  },
  {
   "cell_type": "code",
   "execution_count": 141,
   "id": "f6a9032c-155c-4696-9968-4aa03d35ead3",
   "metadata": {},
   "outputs": [
    {
     "data": {
      "text/plain": [
       "array([252, 126,  15,  86,  17, 267])"
      ]
     },
     "execution_count": 141,
     "metadata": {},
     "output_type": "execute_result"
    }
   ],
   "source": [
    "np.sum(a, axis=0)"
   ]
  },
  {
   "cell_type": "code",
   "execution_count": 142,
   "id": "e51ae271-4c48-4a52-8777-ffcba37d85dd",
   "metadata": {},
   "outputs": [
    {
     "data": {
      "text/plain": [
       "array([116, 647])"
      ]
     },
     "execution_count": 142,
     "metadata": {},
     "output_type": "execute_result"
    }
   ],
   "source": [
    "np.sum(a, axis=1)"
   ]
  },
  {
   "cell_type": "markdown",
   "id": "727062e0-9ac5-4de2-800e-33b57ae62fe4",
   "metadata": {},
   "source": [
    "##### Re-organizing array"
   ]
  },
  {
   "cell_type": "code",
   "execution_count": 145,
   "id": "8f7bfe6a-9c2c-4e92-8b4d-96f1bbb36760",
   "metadata": {},
   "outputs": [
    {
     "name": "stdout",
     "output_type": "stream",
     "text": [
      "[[ 1  2  3  4  5]\n",
      " [ 6  7  8  9 10]]\n",
      "[[ 1  2]\n",
      " [ 3  4]\n",
      " [ 5  6]\n",
      " [ 7  8]\n",
      " [ 9 10]]\n",
      "[[ 1  2  3  4  5  6  7  8  9 10]]\n"
     ]
    }
   ],
   "source": [
    "before = np.array([[1,2,3,4,5], [6,7,8,9,10]])\n",
    "print(before)\n",
    "\n",
    "after = before.reshape((5,2))\n",
    "print(after)\n",
    "print(after.reshape((1,10)))"
   ]
  },
  {
   "cell_type": "code",
   "execution_count": 146,
   "id": "e4353c49-ffa0-44b4-b257-7e8130ce8903",
   "metadata": {},
   "outputs": [],
   "source": [
    "a = np.array([1,2,3,4])\n",
    "b = np.array([5,6,7,8])"
   ]
  },
  {
   "cell_type": "code",
   "execution_count": 148,
   "id": "0db32aa0-0b8f-448b-8c63-e8b0fb84fd79",
   "metadata": {},
   "outputs": [
    {
     "data": {
      "text/plain": [
       "array([[1, 2, 3, 4],\n",
       "       [5, 6, 7, 8],\n",
       "       [5, 6, 7, 8]])"
      ]
     },
     "execution_count": 148,
     "metadata": {},
     "output_type": "execute_result"
    }
   ],
   "source": [
    "np.vstack((a,b,b))"
   ]
  },
  {
   "cell_type": "code",
   "execution_count": 150,
   "id": "fffeed38-b86a-49a7-8cf4-e943100da4c2",
   "metadata": {},
   "outputs": [
    {
     "data": {
      "text/plain": [
       "array([1, 2, 3, 4, 1, 2, 3, 4, 5, 6, 7, 8])"
      ]
     },
     "execution_count": 150,
     "metadata": {},
     "output_type": "execute_result"
    }
   ],
   "source": [
    "np.hstack((a,a,b))"
   ]
  },
  {
   "cell_type": "markdown",
   "id": "587efb64-38af-447d-bb40-301764a45e12",
   "metadata": {},
   "source": [
    "##### Load data from file"
   ]
  },
  {
   "cell_type": "code",
   "execution_count": 153,
   "id": "e1f67084-5d6e-4f74-a534-9cd851f3fe3f",
   "metadata": {},
   "outputs": [
    {
     "name": "stdout",
     "output_type": "stream",
     "text": [
      "[[ 1.  2.  3.  4.  5.  6.  7.  8.]\n",
      " [ 9. 10. 11. 12. 13. 14. 15. 16.]\n",
      " [17. 18. 19. 20. 21. 22. 23. 24.]]\n",
      "[[ 1  2  3  4  5  6  7  8]\n",
      " [ 9 10 11 12 13 14 15 16]\n",
      " [17 18 19 20 21 22 23 24]]\n",
      "[[ 1  2  3  4  5  6  7  8]\n",
      " [ 9 10 11 12 13 14 15 16]\n",
      " [17 18 19 20 21 22 23 24]]\n"
     ]
    }
   ],
   "source": [
    "file_data = np.genfromtxt(\"21_data.txt\", delimiter=\",\")\n",
    "print(file_data)\n",
    "print(file_data.astype(\"int32\"))\n",
    "file_data = file_data.astype(\"int32\")\n",
    "print(file_data)\n"
   ]
  },
  {
   "cell_type": "markdown",
   "id": "ede203e9-a8c4-46e5-af4b-2dfc93728366",
   "metadata": {},
   "source": [
    "##### Boolean Masking and Advanced Indexing"
   ]
  },
  {
   "cell_type": "code",
   "execution_count": 156,
   "id": "bd289c3c-4ff0-48ae-95f6-1b81d8866d3a",
   "metadata": {},
   "outputs": [
    {
     "data": {
      "text/plain": [
       "array([[False, False, False, False, False, False, False, False],\n",
       "       [False, False, False, False,  True,  True,  True,  True],\n",
       "       [ True,  True,  True,  True,  True,  True,  True,  True]])"
      ]
     },
     "execution_count": 156,
     "metadata": {},
     "output_type": "execute_result"
    }
   ],
   "source": [
    "file_data > 12"
   ]
  },
  {
   "cell_type": "code",
   "execution_count": 157,
   "id": "3ea35aad-6b1b-4c83-95bc-e3990c12243b",
   "metadata": {},
   "outputs": [
    {
     "data": {
      "text/plain": [
       "array([16, 17, 18, 19, 20, 21, 22, 23, 24])"
      ]
     },
     "execution_count": 157,
     "metadata": {},
     "output_type": "execute_result"
    }
   ],
   "source": [
    "file_data[file_data > 15]"
   ]
  },
  {
   "cell_type": "code",
   "execution_count": 166,
   "id": "87d81c76-e650-494f-b771-fb8f9931eddf",
   "metadata": {},
   "outputs": [
    {
     "data": {
      "text/plain": [
       "array([2, 3, 9])"
      ]
     },
     "execution_count": 166,
     "metadata": {},
     "output_type": "execute_result"
    }
   ],
   "source": [
    "a = np.array([1,2,3,4,5,6,7,8,9])\n",
    "a[[1,2,8]]"
   ]
  },
  {
   "cell_type": "code",
   "execution_count": null,
   "id": "7ed638a5-a3a1-4a68-b938-ea3afdc00157",
   "metadata": {},
   "outputs": [],
   "source": []
  },
  {
   "cell_type": "code",
   "execution_count": 167,
   "id": "b18c324c-a7b5-439a-90ff-e6c3f6d33c4a",
   "metadata": {},
   "outputs": [
    {
     "name": "stdout",
     "output_type": "stream",
     "text": [
      "[[ 1.  2.  3.  4.  5.]\n",
      " [ 6.  7.  8.  9. 10.]\n",
      " [11. 12. 13. 14. 15.]\n",
      " [16. 17. 18. 19. 20.]\n",
      " [21. 22. 23. 24. 25.]\n",
      " [26. 27. 28. 29. 30.]]\n"
     ]
    }
   ],
   "source": [
    "# problem:\n",
    "file_data = np.genfromtxt(\"21_data.txt\", delimiter=\",\")\n",
    "print(file_data)"
   ]
  },
  {
   "cell_type": "code",
   "execution_count": 170,
   "id": "72e9f7b1-fadf-40b4-920b-c3e67d101f4c",
   "metadata": {},
   "outputs": [
    {
     "data": {
      "text/plain": [
       "array([[11., 12.],\n",
       "       [16., 17.]])"
      ]
     },
     "execution_count": 170,
     "metadata": {},
     "output_type": "execute_result"
    }
   ],
   "source": [
    "# get [11,12] through indexing\n",
    "#     [16,17] \n",
    "\n",
    "file_data[2:4, :2]"
   ]
  },
  {
   "cell_type": "code",
   "execution_count": 178,
   "id": "11bd8d5a-7038-4bc2-88a5-e27360afb3eb",
   "metadata": {},
   "outputs": [
    {
     "data": {
      "text/plain": [
       "array([[ 4.,  5.],\n",
       "       [24., 25.],\n",
       "       [29., 30.]])"
      ]
     },
     "execution_count": 178,
     "metadata": {},
     "output_type": "execute_result"
    }
   ],
   "source": [
    "# get [4,5] through indexing\n",
    "#     [24,25] \n",
    "#     [29,30] \n",
    "\n",
    "file_data[[0,-2,-1], 3:]"
   ]
  },
  {
   "cell_type": "code",
   "execution_count": null,
   "id": "958ba8e0-10fa-4a7c-9eec-7a1fab1d4bc1",
   "metadata": {},
   "outputs": [],
   "source": []
  },
  {
   "cell_type": "markdown",
   "id": "d9e3e3ec-e63b-43f2-b01c-24cde31ab550",
   "metadata": {},
   "source": [
    "### 1 Basic Operations and Arrays Exercises"
   ]
  },
  {
   "cell_type": "markdown",
   "id": "dc177e01-cebe-4313-a976-97e03a882b16",
   "metadata": {},
   "source": [
    "#### Numpy Basics Exercises"
   ]
  },
  {
   "cell_type": "code",
   "execution_count": 179,
   "id": "4aa60a39-9265-4019-a866-734d201e982f",
   "metadata": {},
   "outputs": [],
   "source": [
    "import numpy as np"
   ]
  },
  {
   "cell_type": "code",
   "execution_count": 180,
   "id": "31f0774d-60af-4bbd-80d7-160bf2dc7ce0",
   "metadata": {},
   "outputs": [
    {
     "data": {
      "text/plain": [
       "'1.26.4'"
      ]
     },
     "execution_count": 180,
     "metadata": {},
     "output_type": "execute_result"
    }
   ],
   "source": [
    "np.__version__"
   ]
  },
  {
   "cell_type": "code",
   "execution_count": 181,
   "id": "4fc586db-8aa3-47c6-96fe-a5a31f98d498",
   "metadata": {
    "scrolled": true
   },
   "outputs": [
    {
     "name": "stdout",
     "output_type": "stream",
     "text": [
      "Build Dependencies:\n",
      "  blas:\n",
      "    detection method: pkgconfig\n",
      "    found: true\n",
      "    include directory: C:/Users/KaranJJoshi/anaconda3/Library/include\n",
      "    lib directory: C:/Users/KaranJJoshi/anaconda3/Library/lib\n",
      "    name: mkl-sdl\n",
      "    openblas configuration: unknown\n",
      "    pc file directory: C:\\b\\abs_c1ywpu18ar\\croot\\numpy_and_numpy_base_1708638681471\\_h_env\\Library\\lib\\pkgconfig\n",
      "    version: '2023.1'\n",
      "  lapack:\n",
      "    detection method: internal\n",
      "    found: true\n",
      "    include directory: unknown\n",
      "    lib directory: unknown\n",
      "    name: dep1583119523984\n",
      "    openblas configuration: unknown\n",
      "    pc file directory: unknown\n",
      "    version: 1.26.4\n",
      "Compilers:\n",
      "  c:\n",
      "    commands: cl.exe\n",
      "    linker: link\n",
      "    name: msvc\n",
      "    version: 19.29.30154\n",
      "  c++:\n",
      "    commands: cl.exe\n",
      "    linker: link\n",
      "    name: msvc\n",
      "    version: 19.29.30154\n",
      "  cython:\n",
      "    commands: cython\n",
      "    linker: cython\n",
      "    name: cython\n",
      "    version: 3.0.8\n",
      "Machine Information:\n",
      "  build:\n",
      "    cpu: x86_64\n",
      "    endian: little\n",
      "    family: x86_64\n",
      "    system: windows\n",
      "  host:\n",
      "    cpu: x86_64\n",
      "    endian: little\n",
      "    family: x86_64\n",
      "    system: windows\n",
      "Python Information:\n",
      "  path: C:\\b\\abs_c1ywpu18ar\\croot\\numpy_and_numpy_base_1708638681471\\_h_env\\python.exe\n",
      "  version: '3.12'\n",
      "SIMD Extensions:\n",
      "  baseline:\n",
      "  - SSE\n",
      "  - SSE2\n",
      "  - SSE3\n",
      "  found:\n",
      "  - SSSE3\n",
      "  - SSE41\n",
      "  - POPCNT\n",
      "  - SSE42\n",
      "  - AVX\n",
      "  - F16C\n",
      "  - FMA3\n",
      "  - AVX2\n",
      "  not found:\n",
      "  - AVX512F\n",
      "  - AVX512CD\n",
      "  - AVX512_SKX\n",
      "  - AVX512_CLX\n",
      "  - AVX512_CNL\n",
      "  - AVX512_ICL\n",
      "\n"
     ]
    }
   ],
   "source": [
    "np.show_config()"
   ]
  },
  {
   "cell_type": "code",
   "execution_count": null,
   "id": "5c06a875-ed7c-4980-8649-e12e549dfc82",
   "metadata": {},
   "outputs": [],
   "source": []
  },
  {
   "cell_type": "markdown",
   "id": "a993bebf-73fc-4f78-827b-da0efd71473c",
   "metadata": {},
   "source": [
    "#1. Write a NumPy program to swap rows and columns of a given array in reverse order."
   ]
  },
  {
   "cell_type": "code",
   "execution_count": 183,
   "id": "f4011755-50ab-4fd4-8d41-917437c80850",
   "metadata": {},
   "outputs": [
    {
     "data": {
      "text/plain": [
       "array([[1, 2, 3],\n",
       "       [4, 5, 6],\n",
       "       [7, 8, 9]])"
      ]
     },
     "execution_count": 183,
     "metadata": {},
     "output_type": "execute_result"
    }
   ],
   "source": [
    "a = np.array([[1,2,3],[4,5,6],[7,8,9]])\n",
    "a"
   ]
  },
  {
   "cell_type": "code",
   "execution_count": 194,
   "id": "b170c35f-ab29-4d0d-b5b7-3b309f710d21",
   "metadata": {},
   "outputs": [
    {
     "data": {
      "text/plain": [
       "array([[9, 8, 7],\n",
       "       [6, 5, 4],\n",
       "       [3, 2, 1]])"
      ]
     },
     "execution_count": 194,
     "metadata": {},
     "output_type": "execute_result"
    }
   ],
   "source": [
    "a[::-1, ::-1]"
   ]
  },
  {
   "cell_type": "code",
   "execution_count": 196,
   "id": "95d2cff4-51b1-4fa6-82da-9037319f0e23",
   "metadata": {},
   "outputs": [
    {
     "data": {
      "text/plain": [
       "array([[7, 8, 9],\n",
       "       [4, 5, 6],\n",
       "       [1, 2, 3]])"
      ]
     },
     "execution_count": 196,
     "metadata": {},
     "output_type": "execute_result"
    }
   ],
   "source": [
    "# Wrong\n",
    "a[::-1]"
   ]
  },
  {
   "cell_type": "code",
   "execution_count": null,
   "id": "001db29b-ee7f-4d8e-a115-30e051ac3f65",
   "metadata": {},
   "outputs": [],
   "source": []
  },
  {
   "cell_type": "markdown",
   "id": "c042492e-9d3f-4bf2-86bf-386b697511cc",
   "metadata": {},
   "source": [
    "#2. Write a NumPy program to create a 4x4 array. Create an array from said array by swapping first and last, second and third columns."
   ]
  },
  {
   "cell_type": "code",
   "execution_count": 202,
   "id": "585df601-503b-40fd-bafd-08447ce88c2d",
   "metadata": {},
   "outputs": [
    {
     "data": {
      "text/plain": [
       "array([[ 1,  2,  3,  4],\n",
       "       [ 5,  6,  7,  8],\n",
       "       [ 9, 10, 11, 12],\n",
       "       [13, 14, 15, 16]])"
      ]
     },
     "execution_count": 202,
     "metadata": {},
     "output_type": "execute_result"
    }
   ],
   "source": [
    "b = np.array([[1,2,3,4], [5,6,7,8], [9,10,11,12], [13,14,15,16]])\n",
    "b"
   ]
  },
  {
   "cell_type": "code",
   "execution_count": 203,
   "id": "8f3604c0-ed85-4a88-ae38-9b49dbbb4013",
   "metadata": {},
   "outputs": [
    {
     "data": {
      "text/plain": [
       "array([[ 1,  4],\n",
       "       [ 5,  8],\n",
       "       [ 9, 12],\n",
       "       [13, 16]])"
      ]
     },
     "execution_count": 203,
     "metadata": {},
     "output_type": "execute_result"
    }
   ],
   "source": [
    "b[:, [0,-1]]"
   ]
  },
  {
   "cell_type": "code",
   "execution_count": 217,
   "id": "9d0b0644-213b-43ff-8e02-5fabd2e7aaab",
   "metadata": {},
   "outputs": [
    {
     "data": {
      "text/plain": [
       "array([[ 4,  3,  2,  1],\n",
       "       [ 8,  7,  6,  5],\n",
       "       [12, 11, 10,  9],\n",
       "       [16, 15, 14, 13]])"
      ]
     },
     "execution_count": 217,
     "metadata": {},
     "output_type": "execute_result"
    }
   ],
   "source": [
    "new_array = b.copy()\n",
    "new_array[:, [0]], new_array[:, [-1]] = new_array[:, [-1]], new_array[:, [0]]\n",
    "new_array[:, [1]], new_array[:, [-2]] = new_array[:, [-2]], new_array[:, [1]]\n",
    "new_array"
   ]
  },
  {
   "cell_type": "code",
   "execution_count": null,
   "id": "6d975a3c-9a91-46d6-8067-4ff8dc265ed2",
   "metadata": {},
   "outputs": [],
   "source": []
  },
  {
   "cell_type": "markdown",
   "id": "12263994-ff21-4a68-b8a5-5f2bfdbec903",
   "metadata": {},
   "source": [
    "#### Numpy Basics Exercises"
   ]
  },
  {
   "cell_type": "markdown",
   "id": "c20c8714-9a57-4455-95cb-96a5e595905a",
   "metadata": {},
   "source": [
    "#1. Write a NumPy program to extract all the rows to compute the student weight from a given array (student information) where a specific column starts with a given character."
   ]
  },
  {
   "cell_type": "code",
   "execution_count": 257,
   "id": "4e0b076e-be45-4f71-8e9a-fdc00eb28d88",
   "metadata": {},
   "outputs": [
    {
     "data": {
      "text/plain": [
       "array([['01', 'V', 'Debby Pramod', '30.21'],\n",
       "       ['02', 'V', 'Artemiy Ellie', '29.32'],\n",
       "       ['03', 'V', 'Baptist Kamal', '31.0'],\n",
       "       ['04', 'V', 'Lavanya Davide', '30.22'],\n",
       "       ['05', 'V', 'Fulton Antwan', '30.21'],\n",
       "       ['06', 'V', 'Euanthe Sandeep', '31.0'],\n",
       "       ['07', 'V', 'Endzela Sanda', '32.0'],\n",
       "       ['08', 'V', 'Victoire Waman', '29.21'],\n",
       "       ['09', 'V', 'Briar Nur', '30.0'],\n",
       "       ['10', 'V', 'Rose Lykos', '32.0']], dtype='<U15')"
      ]
     },
     "execution_count": 257,
     "metadata": {},
     "output_type": "execute_result"
    }
   ],
   "source": [
    "a = np.array(\n",
    "[['01','V','Debby Pramod','30.21'],\n",
    "['02','V','Artemiy Ellie','29.32'],\n",
    "['03','V','Baptist Kamal','31.0'],\n",
    "['04','V','Lavanya Davide','30.22'],\n",
    "['05','V','Fulton Antwan','30.21'],\n",
    "['06','V','Euanthe Sandeep','31.0'],\n",
    "['07','V','Endzela Sanda','32.0'],\n",
    "['08','V','Victoire Waman','29.21'],\n",
    "['09','V','Briar Nur','30.0'],\n",
    "['10','V','Rose Lykos','32.0']])\n",
    "a"
   ]
  },
  {
   "cell_type": "code",
   "execution_count": 258,
   "id": "dd4ca885-078e-471d-acc2-cf540340d5e2",
   "metadata": {},
   "outputs": [
    {
     "data": {
      "text/plain": [
       "array([['06', 'V', 'Euanthe Sandeep', '31.0'],\n",
       "       ['07', 'V', 'Endzela Sanda', '32.0']], dtype='<U15')"
      ]
     },
     "execution_count": 258,
     "metadata": {},
     "output_type": "execute_result"
    }
   ],
   "source": [
    "res = a[np.char.startswith(a[:, 2], \"E\")]\n",
    "res"
   ]
  },
  {
   "cell_type": "code",
   "execution_count": 264,
   "id": "82175852-6b6c-4c8a-87db-f83c568c8791",
   "metadata": {},
   "outputs": [
    {
     "data": {
      "text/plain": [
       "63.0"
      ]
     },
     "execution_count": 264,
     "metadata": {},
     "output_type": "execute_result"
    }
   ],
   "source": [
    "answer = res[:, -1].astype(\"float\").sum()\n",
    "answer"
   ]
  },
  {
   "cell_type": "code",
   "execution_count": null,
   "id": "411c0e2d-3c8e-4aa3-a6d0-1f93510f54b3",
   "metadata": {},
   "outputs": [],
   "source": []
  },
  {
   "cell_type": "markdown",
   "id": "90d66f18-d590-46df-8c7e-aff1a7ae8d0b",
   "metadata": {},
   "source": [
    "#2. Write a NumPy program to calculate the arithmetic mean of the corresponding elements of two given arrays of the same size."
   ]
  },
  {
   "cell_type": "code",
   "execution_count": 267,
   "id": "c0e6760d-b602-4d05-862c-9ee55cc8e2ec",
   "metadata": {},
   "outputs": [],
   "source": [
    "a = np.array([[2,5,2],[1,5,5]])\n",
    "b = np.array([[5,3,4],[3,2,5]])"
   ]
  },
  {
   "cell_type": "code",
   "execution_count": 271,
   "id": "5cd23ec2-6382-4746-a37a-2d43deb3d113",
   "metadata": {},
   "outputs": [
    {
     "name": "stdout",
     "output_type": "stream",
     "text": [
      "[[3.5 4.  3. ]\n",
      " [2.  3.5 5. ]]\n"
     ]
    }
   ],
   "source": [
    "c = np.array((a+b)/2)\n",
    "print(c)"
   ]
  },
  {
   "cell_type": "code",
   "execution_count": null,
   "id": "00c88377-eb7d-43d8-bcc8-71120f25a45b",
   "metadata": {},
   "outputs": [],
   "source": []
  },
  {
   "cell_type": "markdown",
   "id": "eb42040f-b223-44df-a445-e4ca5d8c4d93",
   "metadata": {},
   "source": [
    "### 2 NumPy Math, Linear Algebraa and Statistics Exercises"
   ]
  },
  {
   "cell_type": "markdown",
   "id": "b21992a9-717c-4855-99b3-9aa1f9819994",
   "metadata": {},
   "source": [
    "#### Maths Exercises"
   ]
  },
  {
   "cell_type": "markdown",
   "id": "96f7339d-dae6-4fdd-9638-97a535ee59f8",
   "metadata": {},
   "source": [
    "#1. Write a NumPy program to find the roots of the following polynomials."
   ]
  },
  {
   "cell_type": "markdown",
   "id": "247f5136-4686-4e21-9eb0-53479830ea38",
   "metadata": {},
   "source": [
    "a) x2 - 4x + 7.\n",
    "b) x4 - 11x3 + 9x2 + 11x - 10"
   ]
  },
  {
   "cell_type": "code",
   "execution_count": 278,
   "id": "a595bf16-cbf3-48d6-893d-995d17523667",
   "metadata": {},
   "outputs": [
    {
     "data": {
      "text/plain": [
       "array([2.+1.73205081j, 2.-1.73205081j])"
      ]
     },
     "execution_count": 278,
     "metadata": {},
     "output_type": "execute_result"
    }
   ],
   "source": [
    "np.roots([1,-4,7])"
   ]
  },
  {
   "cell_type": "code",
   "execution_count": 280,
   "id": "eb3f90aa-359a-45cd-a1bf-6dbf89e5ef8b",
   "metadata": {},
   "outputs": [
    {
     "data": {
      "text/plain": [
       "array([10.        , -1.        ,  0.99999998,  1.00000002])"
      ]
     },
     "execution_count": 280,
     "metadata": {},
     "output_type": "execute_result"
    }
   ],
   "source": [
    "np.roots([1,-11,9,11,-10])"
   ]
  },
  {
   "cell_type": "code",
   "execution_count": null,
   "id": "de4076c4-71ad-4547-b6da-3d138a95d042",
   "metadata": {},
   "outputs": [],
   "source": []
  },
  {
   "cell_type": "markdown",
   "id": "3ad77086-ec4c-4663-a41f-5b82efe13555",
   "metadata": {},
   "source": [
    "#2. Write a NumPy program to compute xy, element-wise where x, y are two given arrays.\n",
    "Sample output"
   ]
  },
  {
   "cell_type": "code",
   "execution_count": 281,
   "id": "b1c96a5b-aa0f-428a-8f8f-cef76662d767",
   "metadata": {},
   "outputs": [
    {
     "name": "stdout",
     "output_type": "stream",
     "text": [
      "[[ 1  2]\n",
      " [ 3 16]]\n"
     ]
    }
   ],
   "source": [
    "a = np.array([[1,2], [3,4]])\n",
    "b = np.array([[2,1], [1,2]])\n",
    "\n",
    "print(a**b)"
   ]
  },
  {
   "cell_type": "code",
   "execution_count": null,
   "id": "e2526192-912f-485c-92a6-c470b17a4ec6",
   "metadata": {},
   "outputs": [],
   "source": []
  },
  {
   "cell_type": "markdown",
   "id": "353685c3-d370-4e88-9dde-ad0e9cb52a67",
   "metadata": {},
   "source": [
    "#3. Write a NumPy program to compute an element-wise indication of the sign for all elements in a given array"
   ]
  },
  {
   "cell_type": "markdown",
   "id": "dd0ffdd9-00d5-4743-8683-87932b366c35",
   "metadata": {},
   "source": [
    "Original array: <br>\n",
    "[ 1 3 5 0 -1 -7 0 5] <br>\n",
    "Element-wise indication of the sign for all elements of the said array: <br>\n",
    "[ 1 1 1 0 -1 -1 0 1]"
   ]
  },
  {
   "cell_type": "code",
   "execution_count": 286,
   "id": "961a2acf-0a80-4b2d-bfbf-90f2d4228443",
   "metadata": {},
   "outputs": [
    {
     "data": {
      "text/plain": [
       "array([ 1,  3,  5,  0, -1, -7,  0,  5])"
      ]
     },
     "execution_count": 286,
     "metadata": {},
     "output_type": "execute_result"
    }
   ],
   "source": [
    "a = np.array([1,3,5,0,-1,-7,0,5])\n",
    "a"
   ]
  },
  {
   "cell_type": "code",
   "execution_count": 292,
   "id": "5896bc12-853f-48d8-9deb-3cc45716a158",
   "metadata": {},
   "outputs": [
    {
     "name": "stdout",
     "output_type": "stream",
     "text": [
      "Final Result: \n",
      "[ 1  1  1  0 -1 -1  0  1]\n"
     ]
    }
   ],
   "source": [
    "a[a > 0] = 1\n",
    "a[a < 0 ] = -1\n",
    "print(f\"Final Result: \\n{a}\")"
   ]
  },
  {
   "cell_type": "code",
   "execution_count": null,
   "id": "ff40fe8f-7885-4a72-ad1c-632d40472f7f",
   "metadata": {},
   "outputs": [],
   "source": []
  },
  {
   "cell_type": "markdown",
   "id": "15d8be8e-f026-46b6-a28d-56e9640f5648",
   "metadata": {},
   "source": [
    "#### Linear Algebra Exercises"
   ]
  },
  {
   "cell_type": "markdown",
   "id": "f35b65f0-46fa-4bfd-9753-f53381d6b213",
   "metadata": {},
   "source": [
    "#1. Write a NumPy program to compute the sum of the diagonal element of a given array "
   ]
  },
  {
   "cell_type": "code",
   "execution_count": 293,
   "id": "240126fd-429e-42df-845f-5e50376530f9",
   "metadata": {},
   "outputs": [
    {
     "data": {
      "text/plain": [
       "array([[1, 2, 3],\n",
       "       [4, 5, 6],\n",
       "       [7, 8, 9]])"
      ]
     },
     "execution_count": 293,
     "metadata": {},
     "output_type": "execute_result"
    }
   ],
   "source": [
    "m1 = np.array([[1,2,3], [4,5,6], [7,8,9]])\n",
    "m1"
   ]
  },
  {
   "cell_type": "code",
   "execution_count": 306,
   "id": "97341283-c196-43c3-94aa-9fd25ad9667b",
   "metadata": {},
   "outputs": [
    {
     "name": "stdout",
     "output_type": "stream",
     "text": [
      "Sum of diagonal elements : 15\n",
      "Sum of diagonal elements : 15\n"
     ]
    }
   ],
   "source": [
    "print(f\"Sum of diagonal elements : {sum(m1[[0,1,2], [0,1,2]])}\")\n",
    "# or we can do following:\n",
    "print(f\"Sum of diagonal elements : {np.trace(m1)}\")"
   ]
  },
  {
   "cell_type": "code",
   "execution_count": null,
   "id": "52786027-73c4-4b10-8dcc-bdf916246f00",
   "metadata": {},
   "outputs": [],
   "source": []
  },
  {
   "cell_type": "markdown",
   "id": "39353382-a58f-4c65-a708-b02ddb0936bd",
   "metadata": {},
   "source": [
    "#2. Write a NumPy program to compute the factor of a given array by Singular Value Decomposition."
   ]
  },
  {
   "cell_type": "code",
   "execution_count": 307,
   "id": "5ca109f5-6384-40ed-a162-75faef0083ef",
   "metadata": {},
   "outputs": [
    {
     "name": "stdout",
     "output_type": "stream",
     "text": [
      "m2 = Usv^T\n",
      "\n",
      "U :\n",
      "[[-0.21483724  0.88723069  0.40824829]\n",
      " [-0.52058739  0.24964395 -0.81649658]\n",
      " [-0.82633754 -0.38794278  0.40824829]]\n",
      "s :\n",
      "[1.68481034e+01 1.06836951e+00 3.33475287e-16]\n",
      "v :\n",
      "[[-0.47967118 -0.57236779 -0.66506441]\n",
      " [-0.77669099 -0.07568647  0.62531805]\n",
      " [-0.40824829  0.81649658 -0.40824829]]\n"
     ]
    }
   ],
   "source": [
    "m2 = np.array([[1,2,3], [4,5,6], [7,8,9]])\n",
    "\n",
    "U, s, v = np.linalg.svd(m2)\n",
    "print(f\"m2 = Usv^T\\n\")\n",
    "print(f\"U :\\n{U}\")\n",
    "print(f\"s :\\n{s}\")\n",
    "print(f\"v :\\n{v}\")"
   ]
  },
  {
   "cell_type": "code",
   "execution_count": null,
   "id": "8cd99cd2-6750-4cd0-bc4c-f8450709b1a9",
   "metadata": {},
   "outputs": [],
   "source": []
  },
  {
   "cell_type": "markdown",
   "id": "ed899536-eeb4-42ff-9373-733ce2d6f2d0",
   "metadata": {},
   "source": [
    "#### Statistics Exercises"
   ]
  },
  {
   "cell_type": "markdown",
   "id": "c16dea04-281e-4c72-950c-c24a9d0df5af",
   "metadata": {},
   "source": [
    "#1. Write a Python program to count number of occurrences of each value in a given array of non-negative integers."
   ]
  },
  {
   "cell_type": "markdown",
   "id": "3842a868-d4f3-45b7-9b5a-699de17430b7",
   "metadata": {},
   "source": [
    "Original array: <br>\n",
    "[0, 1, 6, 1, 4, 1, 2, 2, 7] <br>\n",
    "Number of occurrences of each value in array: <br>\n",
    "[1 3 2 0 1 0 1 1] <br>"
   ]
  },
  {
   "cell_type": "code",
   "execution_count": 309,
   "id": "2a37854e-8510-44c0-b79a-10235c8b5a4c",
   "metadata": {},
   "outputs": [
    {
     "data": {
      "text/plain": [
       "array([0, 1, 6, 1, 4, 1, 2, 2, 7])"
      ]
     },
     "execution_count": 309,
     "metadata": {},
     "output_type": "execute_result"
    }
   ],
   "source": [
    "c = np.array([0, 1, 6, 1, 4, 1, 2, 2, 7])\n",
    "c"
   ]
  },
  {
   "cell_type": "code",
   "execution_count": 313,
   "id": "5b17c59f-d207-48bb-ac21-20113af94ca7",
   "metadata": {},
   "outputs": [
    {
     "name": "stdout",
     "output_type": "stream",
     "text": [
      "Freq: [1 3 2 0 1 0 1 1]\n"
     ]
    }
   ],
   "source": [
    "print(f\"Freq: {np.bincount(c)}\")"
   ]
  },
  {
   "cell_type": "code",
   "execution_count": null,
   "id": "2bf93e28-638f-4451-96a2-e48132eb0a4f",
   "metadata": {},
   "outputs": [],
   "source": []
  },
  {
   "cell_type": "markdown",
   "id": "0f6c62f8-5a99-4773-b2e8-f5478766bfcf",
   "metadata": {},
   "source": [
    "### 3 Numpy Ranodm Exercises"
   ]
  },
  {
   "cell_type": "markdown",
   "id": "e9effef7-b543-4768-8721-3ef41a78331d",
   "metadata": {},
   "source": [
    "#1. Write a NumPy program to create a three-dimension array with shape (300,400,5) and set to a variable. Fill the array elements with values using unsigned integer (0 to 255)."
   ]
  },
  {
   "cell_type": "code",
   "execution_count": 317,
   "id": "d40de106-45e4-44cb-afe0-cd558d39cbe1",
   "metadata": {
    "scrolled": true
   },
   "outputs": [
    {
     "data": {
      "text/plain": [
       "array([[[250,  18, 214,  76,   0],\n",
       "        [  8, 211, 164, 247,  92],\n",
       "        [ 30,  47, 125, 107,  21],\n",
       "        ...,\n",
       "        [195,  26, 168, 173, 152],\n",
       "        [ 53, 133,  69, 177,  38],\n",
       "        [ 13, 139, 133,  16,  26]],\n",
       "\n",
       "       [[154, 243, 216, 186, 217],\n",
       "        [ 34,  38,  12, 249,  29],\n",
       "        [212, 127,  43, 253, 196],\n",
       "        ...,\n",
       "        [160, 192, 194, 241,  64],\n",
       "        [ 21, 172,  72,   9, 161],\n",
       "        [240, 116,  28, 233,  14]],\n",
       "\n",
       "       [[ 99, 104, 158, 206, 169],\n",
       "        [185,  48, 168,  98,  61],\n",
       "        [ 31,  60,   8, 229, 164],\n",
       "        ...,\n",
       "        [119, 164,  34, 225,  68],\n",
       "        [251,  19, 199, 131,  34],\n",
       "        [145, 112,   8,   7,  11]],\n",
       "\n",
       "       ...,\n",
       "\n",
       "       [[106,  82,  44, 154, 169],\n",
       "        [ 45, 210, 163, 237, 117],\n",
       "        [196,  38, 143,  35, 167],\n",
       "        ...,\n",
       "        [116, 103,  24, 220, 239],\n",
       "        [ 83, 171, 138, 159, 153],\n",
       "        [231, 174, 227,  39, 203]],\n",
       "\n",
       "       [[ 17,  69,  30, 134,  86],\n",
       "        [ 54, 144, 184, 110, 249],\n",
       "        [179,  33, 208, 182, 236],\n",
       "        ...,\n",
       "        [ 96, 244,   3,  68, 138],\n",
       "        [106,  99, 103,  84, 255],\n",
       "        [207,  18,   8, 225, 255]],\n",
       "\n",
       "       [[136, 177, 137, 131, 197],\n",
       "        [  7, 148,  47, 200, 227],\n",
       "        [114,  40, 137,  82,  43],\n",
       "        ...,\n",
       "        [194, 180,  94, 252,  26],\n",
       "        [170, 226, 241,  12, 223],\n",
       "        [ 74, 126,  67,  15, 197]]])"
      ]
     },
     "execution_count": 317,
     "metadata": {},
     "output_type": "execute_result"
    }
   ],
   "source": [
    "mat = np.random.randint(0, 256, (300,400,5))\n",
    "mat"
   ]
  },
  {
   "cell_type": "markdown",
   "id": "b7deaa26-daba-44c4-b5d1-b9a3b6a5400f",
   "metadata": {},
   "source": [
    "#2. Write a NumPy program to find the most frequent value in an array."
   ]
  },
  {
   "cell_type": "code",
   "execution_count": 348,
   "id": "c8d87bb1-67f0-4dc2-8017-c88de6ade027",
   "metadata": {},
   "outputs": [
    {
     "data": {
      "text/plain": [
       "array([3, 3, 7, 3, 4, 6, 3, 3, 7, 7, 2, 8, 0, 0, 9])"
      ]
     },
     "execution_count": 348,
     "metadata": {},
     "output_type": "execute_result"
    }
   ],
   "source": [
    "x = np.random.randint(0, 11, 15)\n",
    "x"
   ]
  },
  {
   "cell_type": "code",
   "execution_count": 349,
   "id": "3da1cf0b-9e84-45a6-a2d3-eac40e4b8f94",
   "metadata": {},
   "outputs": [
    {
     "data": {
      "text/plain": [
       "[(3, 5), (7, 3), (0, 2), (4, 1), (6, 1), (2, 1), (8, 1), (9, 1)]"
      ]
     },
     "execution_count": 349,
     "metadata": {},
     "output_type": "execute_result"
    }
   ],
   "source": [
    "from collections import Counter\n",
    "Counter(x).most_common()"
   ]
  },
  {
   "cell_type": "code",
   "execution_count": 350,
   "id": "99370e56-cad9-446d-8eca-8a3a55ba73ca",
   "metadata": {},
   "outputs": [
    {
     "data": {
      "text/plain": [
       "3"
      ]
     },
     "execution_count": 350,
     "metadata": {},
     "output_type": "execute_result"
    }
   ],
   "source": [
    "np.bincount(x).argmax()"
   ]
  },
  {
   "cell_type": "code",
   "execution_count": null,
   "id": "5f2e0b06-885b-47db-844a-48f08387ed0b",
   "metadata": {},
   "outputs": [],
   "source": []
  }
 ],
 "metadata": {
  "kernelspec": {
   "display_name": "Python 3 (ipykernel)",
   "language": "python",
   "name": "python3"
  },
  "language_info": {
   "codemirror_mode": {
    "name": "ipython",
    "version": 3
   },
   "file_extension": ".py",
   "mimetype": "text/x-python",
   "name": "python",
   "nbconvert_exporter": "python",
   "pygments_lexer": "ipython3",
   "version": "3.12.7"
  }
 },
 "nbformat": 4,
 "nbformat_minor": 5
}

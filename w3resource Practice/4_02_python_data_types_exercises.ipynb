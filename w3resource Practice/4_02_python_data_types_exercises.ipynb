{
 "cells": [
  {
   "cell_type": "markdown",
   "id": "b6af1b90-6e81-4641-8d90-bf27d398a016",
   "metadata": {},
   "source": [
    "### JSON Exercises\n",
    "\n",
    "##### https://www.w3resource.com/python-exercises/python-json-index.php"
   ]
  },
  {
   "cell_type": "markdown",
   "id": "715ab2b2-3d45-4c00-8e51-8a6fe81a4d6d",
   "metadata": {},
   "source": [
    "1. Write a Python program to convert Python object to JSON data."
   ]
  },
  {
   "cell_type": "code",
   "execution_count": 7,
   "id": "779a7ae8-adb9-4108-bfba-83a882c58f9a",
   "metadata": {},
   "outputs": [],
   "source": [
    "class Example:\n",
    "    def __init__(self, name=\"Karan\", age=20, city=\"Surat\"):\n",
    "        self.name = name\n",
    "        self.age = age\n",
    "        self.city = city\n",
    "\n",
    "    def __str__(self):\n",
    "        return str(self.__dict__)"
   ]
  },
  {
   "cell_type": "code",
   "execution_count": 8,
   "id": "fb1633fb-5225-49d5-a101-308299902870",
   "metadata": {},
   "outputs": [
    {
     "name": "stdout",
     "output_type": "stream",
     "text": [
      "{'name': 'Karan', 'age': 20, 'city': 'Surat'}\n"
     ]
    }
   ],
   "source": [
    "e1 = Example()\n",
    "\n",
    "print(e1)"
   ]
  },
  {
   "cell_type": "code",
   "execution_count": 10,
   "id": "f5ba4945-4be8-4d73-a66f-5237b5090dba",
   "metadata": {},
   "outputs": [],
   "source": [
    "import json\n",
    "\n",
    "def python_obj_to_json(obj):\n",
    "    return json.dumps(obj.__dict__)"
   ]
  },
  {
   "cell_type": "code",
   "execution_count": 11,
   "id": "c9824a6c-b5a8-42bf-9817-77c1b8ebdb6e",
   "metadata": {},
   "outputs": [
    {
     "data": {
      "text/plain": [
       "'{\"name\": \"Karan\", \"age\": 20, \"city\": \"Surat\"}'"
      ]
     },
     "execution_count": 11,
     "metadata": {},
     "output_type": "execute_result"
    }
   ],
   "source": [
    "python_obj_to_json(e1)"
   ]
  },
  {
   "cell_type": "code",
   "execution_count": null,
   "id": "a3c4ca82-0774-4aef-b4ff-2f0ccce2829b",
   "metadata": {},
   "outputs": [],
   "source": []
  },
  {
   "cell_type": "markdown",
   "id": "653f10a3-626d-466d-a926-2671f6151113",
   "metadata": {},
   "source": [
    "2. Write a Python program to convert Python dictionary object (sort by key) to JSON data. Print the object members with indent level 4."
   ]
  },
  {
   "cell_type": "code",
   "execution_count": 19,
   "id": "554956e2-d60e-4bd5-ac1d-11a7569366d9",
   "metadata": {},
   "outputs": [],
   "source": [
    "import json\n",
    "def dict_to_json(dict_data):\n",
    "    return json.dumps(dict_data, sort_keys=True, indent=4)"
   ]
  },
  {
   "cell_type": "code",
   "execution_count": 20,
   "id": "edcd36cb-4d3b-4369-9c98-4786516fda1a",
   "metadata": {},
   "outputs": [
    {
     "name": "stdout",
     "output_type": "stream",
     "text": [
      "{\n",
      "    \"1\": 3,\n",
      "    \"2\": 4,\n",
      "    \"4\": 5,\n",
      "    \"6\": 7\n",
      "}\n"
     ]
    }
   ],
   "source": [
    "print(dict_to_json({'4': 5, '6': 7, '1': 3, '2': 4}))"
   ]
  },
  {
   "cell_type": "code",
   "execution_count": null,
   "id": "3903eff8-fead-4838-86e1-c2a3126f9c16",
   "metadata": {},
   "outputs": [],
   "source": []
  },
  {
   "cell_type": "markdown",
   "id": "847f81f5-7ce3-4475-8ccc-0c12dadabf4c",
   "metadata": {},
   "source": [
    "### Arrray Exercises"
   ]
  },
  {
   "cell_type": "markdown",
   "id": "0d0f1823-f6ed-45c6-a66a-aad653aec48c",
   "metadata": {},
   "source": [
    "<code>\n",
    "1. Write a Python program to append a new item to the end of the array.\n",
    "Sample Output:\n",
    "Original array: array('i', [1, 3, 5, 7, 9])\n",
    "Append 11 at the end of the array:\n",
    "New array: array('i', [1, 3, 5, 7, 9, 11])\n",
    "<code>"
   ]
  },
  {
   "cell_type": "code",
   "execution_count": 21,
   "id": "e901abe3-0330-4955-922e-c60ef94a80b8",
   "metadata": {},
   "outputs": [],
   "source": [
    "from array import array\n",
    "\n",
    "def add_to_array(arr, ele):\n",
    "    arr.append(ele)\n",
    "\n",
    "arr = array(\"i\", [1, 3, 5, 7, 9])"
   ]
  },
  {
   "cell_type": "code",
   "execution_count": 26,
   "id": "1872a0b5-0a3d-41bc-a255-b2d3a58653de",
   "metadata": {},
   "outputs": [],
   "source": [
    "add_to_array(arr, 10)\n",
    "add_to_array(arr, 9)"
   ]
  },
  {
   "cell_type": "code",
   "execution_count": 27,
   "id": "cd6c6cd6-ab94-412e-8028-d500227c5b01",
   "metadata": {},
   "outputs": [
    {
     "name": "stdout",
     "output_type": "stream",
     "text": [
      "1\n",
      "3\n",
      "5\n",
      "7\n",
      "9\n",
      "10\n",
      "10\n",
      "9\n"
     ]
    }
   ],
   "source": [
    "for i in arr:\n",
    "    print(i)"
   ]
  },
  {
   "cell_type": "code",
   "execution_count": null,
   "id": "9914b302-a4ff-43a9-b0cb-8ebfbfb85c7b",
   "metadata": {},
   "outputs": [],
   "source": []
  },
  {
   "cell_type": "markdown",
   "id": "6cbe7202-4cc2-44ee-8e6a-1aab83c771db",
   "metadata": {},
   "source": [
    "2. Write a Python program to find out if a given array of integers contains any duplicate elements. Return true if any value appears at least twice in the array, and return false if every element is distinct."
   ]
  },
  {
   "cell_type": "code",
   "execution_count": 25,
   "id": "3d0afcc9-9b20-42f5-bc61-ea3f0716c5f3",
   "metadata": {},
   "outputs": [],
   "source": [
    "def check_for_duplicates(arr):\n",
    "    return len(arr) == len(set(arr))"
   ]
  },
  {
   "cell_type": "code",
   "execution_count": 28,
   "id": "98269930-266a-43df-8212-17d5e983e6e5",
   "metadata": {},
   "outputs": [
    {
     "data": {
      "text/plain": [
       "False"
      ]
     },
     "execution_count": 28,
     "metadata": {},
     "output_type": "execute_result"
    }
   ],
   "source": [
    "check_for_duplicates(arr)"
   ]
  },
  {
   "cell_type": "code",
   "execution_count": null,
   "id": "9614f22a-1a65-426b-aa77-4790f03b7bc5",
   "metadata": {},
   "outputs": [],
   "source": []
  },
  {
   "cell_type": "markdown",
   "id": "45936d6d-0953-4d4d-bc0e-29582754ceaa",
   "metadata": {},
   "source": [
    "### Enum\n",
    "https://www.w3resource.com/python-exercises/enum/"
   ]
  },
  {
   "cell_type": "code",
   "execution_count": 29,
   "id": "74a029f1-f7b7-44a2-b495-0c1dc27b121e",
   "metadata": {},
   "outputs": [],
   "source": [
    "from enum import Enum\n",
    "\n",
    "class WeekDays(Enum):\n",
    "    Sunday = 1\n",
    "    Monday = 2\n",
    "    Tueday = 3\n",
    "    Wednesday = 4\n",
    "    Thursday = 5\n",
    "    Friday = 6\n",
    "    Saturday = 7"
   ]
  },
  {
   "cell_type": "code",
   "execution_count": 30,
   "id": "dac2c268-428a-4e48-97e1-52387f477964",
   "metadata": {},
   "outputs": [
    {
     "name": "stdout",
     "output_type": "stream",
     "text": [
      "Monday : 2\n"
     ]
    }
   ],
   "source": [
    "print(f\"{WeekDays.Monday.name} : {WeekDays.Monday.value}\")"
   ]
  },
  {
   "cell_type": "code",
   "execution_count": null,
   "id": "7c92e0a2-da34-42fd-a031-79e6c31b586a",
   "metadata": {},
   "outputs": [],
   "source": []
  },
  {
   "cell_type": "markdown",
   "id": "967174e7-1e88-4484-a168-8a7c703e2087",
   "metadata": {},
   "source": [
    "<code>\n",
    "2. Write a Python program to get all values from an enum class.\n",
    "Expected output:\n",
    "[93, 355, 213, 376, 244, 672]\n",
    "<code>"
   ]
  },
  {
   "cell_type": "code",
   "execution_count": 34,
   "id": "73108f7f-68a5-41aa-b713-147ad747a450",
   "metadata": {},
   "outputs": [
    {
     "data": {
      "text/plain": [
       "[1, 2, 3, 4, 5, 6, 7]"
      ]
     },
     "execution_count": 34,
     "metadata": {},
     "output_type": "execute_result"
    }
   ],
   "source": [
    "[int(ele.value) for ele in WeekDays] # or wee can also use the from enum import IntEnum "
   ]
  },
  {
   "cell_type": "code",
   "execution_count": null,
   "id": "06152e1f-8f60-4245-8afb-ff7cbf9bfe57",
   "metadata": {},
   "outputs": [],
   "source": []
  }
 ],
 "metadata": {
  "kernelspec": {
   "display_name": "Python 3 (ipykernel)",
   "language": "python",
   "name": "python3"
  },
  "language_info": {
   "codemirror_mode": {
    "name": "ipython",
    "version": 3
   },
   "file_extension": ".py",
   "mimetype": "text/x-python",
   "name": "python",
   "nbconvert_exporter": "python",
   "pygments_lexer": "ipython3",
   "version": "3.12.7"
  }
 },
 "nbformat": 4,
 "nbformat_minor": 5
}

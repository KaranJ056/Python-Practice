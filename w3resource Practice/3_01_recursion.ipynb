{
 "cells": [
  {
   "cell_type": "markdown",
   "id": "e9e09275-6e5e-47b1-b167-09b1ae39945b",
   "metadata": {},
   "source": [
    "### Recursion in Python\n",
    "##### https://www.w3resource.com/python-exercises/data-structures-and-algorithms/python-recursion.php"
   ]
  },
  {
   "cell_type": "raw",
   "id": "7ce7d185-1fdd-41fe-a372-5f4339152796",
   "metadata": {},
   "source": [
    "1. Write a Python program to sum recursion lists using recursion.\n",
    "Test Data: [1, 2, [3,4], [5,6]]\n",
    "Expected Result: 21"
   ]
  },
  {
   "cell_type": "code",
   "execution_count": 51,
   "id": "930df30f-37c1-4a3e-b9ff-aadea9eb7cda",
   "metadata": {},
   "outputs": [],
   "source": [
    "def sum_multi_dim_list(lst):\n",
    "    total = 0\n",
    "    for obj in lst:\n",
    "        if type(obj) == type([]):\n",
    "            total += sum_multi_dim_list(obj)\n",
    "        else:\n",
    "            total += obj\n",
    "    return total\n",
    "\n",
    "def sum_list_recursively(lst, total=0, idx=0):\n",
    "    if idx == len(lst):\n",
    "        return total\n",
    "    if type(lst[idx]) == type([]):\n",
    "        total += sum_list_recursively(lst[idx])\n",
    "    else:\n",
    "        total += lst[idx]\n",
    "    return sum_list_recursively(lst, total, idx+1)"
   ]
  },
  {
   "cell_type": "code",
   "execution_count": 58,
   "id": "1a2bd210-54bd-40ea-9b8b-1cdaf6376ff4",
   "metadata": {},
   "outputs": [
    {
     "data": {
      "text/plain": [
       "34"
      ]
     },
     "execution_count": 58,
     "metadata": {},
     "output_type": "execute_result"
    }
   ],
   "source": [
    "sum_multi_dim_list([1, 2, [3,4,[5,5,[1,2]]], [5,6]])"
   ]
  },
  {
   "cell_type": "code",
   "execution_count": 59,
   "id": "2de9bff4-a0ab-42a8-a30f-78c39a48c0db",
   "metadata": {},
   "outputs": [
    {
     "data": {
      "text/plain": [
       "34"
      ]
     },
     "execution_count": 59,
     "metadata": {},
     "output_type": "execute_result"
    }
   ],
   "source": [
    "sum_list_recursively([1, 2, [3,4,[5,5,[1,2]]], [5,6]])"
   ]
  },
  {
   "cell_type": "code",
   "execution_count": null,
   "id": "04432104-5fb4-4b9e-abba-c7efbae4d2c7",
   "metadata": {},
   "outputs": [],
   "source": []
  },
  {
   "cell_type": "raw",
   "id": "ed0c5786-67f1-4e3e-aa6b-0d83033f9f9f",
   "metadata": {},
   "source": [
    "2. Write a Python program to get the sum of a non-negative integer using recursion.\n",
    "Test Data:\n",
    "sumDigits(345) -> 12\n",
    "sumDigits(45) -> 9"
   ]
  },
  {
   "cell_type": "code",
   "execution_count": 69,
   "id": "c1bc93ae-dab1-417b-8b0c-5d51b8e6f09d",
   "metadata": {},
   "outputs": [],
   "source": [
    "def sumDigits(num):\n",
    "    # total = 0\n",
    "    # while num>0:\n",
    "    #     rem = num%10\n",
    "    #     total += rem\n",
    "    #     num //= 10\n",
    "    # return total\n",
    "    if num==0:\n",
    "        return 0\n",
    "    return num%10 + sumDigits(num//10)"
   ]
  },
  {
   "cell_type": "code",
   "execution_count": 71,
   "id": "94be4fbb-1392-4d50-b53e-6f2561e78693",
   "metadata": {},
   "outputs": [
    {
     "data": {
      "text/plain": [
       "12"
      ]
     },
     "execution_count": 71,
     "metadata": {},
     "output_type": "execute_result"
    }
   ],
   "source": [
    "sumDigits(345)"
   ]
  },
  {
   "cell_type": "code",
   "execution_count": null,
   "id": "eda3160f-0ada-4dfa-ba63-25020a14f78e",
   "metadata": {},
   "outputs": [],
   "source": []
  },
  {
   "cell_type": "raw",
   "id": "5e5fccbd-4ee2-4a2e-aceb-0fa7f9225d92",
   "metadata": {},
   "source": [
    "3. Write a Python program to calculate the sum of the positive integers of n+(n-2)+(n-4)... (until n-x =< 0) using recursion .\n",
    "Test Data:\n",
    "sum_series(6) -> 12\n",
    "sum_series(10) -> 30"
   ]
  },
  {
   "cell_type": "code",
   "execution_count": 80,
   "id": "080ad470-046f-4371-9f7c-1e0ff94b799a",
   "metadata": {},
   "outputs": [],
   "source": [
    "# def sum_series(num, i=0):\n",
    "#     if num-(2*i) <= 0:\n",
    "#         return 0\n",
    "#     i += 1\n",
    "#     return num + sum_series(num-(2*i))\n",
    "\n",
    "def sum_series(num):\n",
    "    if num<1:\n",
    "        return 0\n",
    "    return num + sum_series(num-2)"
   ]
  },
  {
   "cell_type": "code",
   "execution_count": 81,
   "id": "d4c6d3eb-5930-4cb2-9e99-1ca161aff5f2",
   "metadata": {},
   "outputs": [
    {
     "data": {
      "text/plain": [
       "12"
      ]
     },
     "execution_count": 81,
     "metadata": {},
     "output_type": "execute_result"
    }
   ],
   "source": [
    "sum_series(6)"
   ]
  },
  {
   "cell_type": "code",
   "execution_count": 82,
   "id": "0ec4ff46-60bf-4778-9e46-78f18a23217f",
   "metadata": {},
   "outputs": [
    {
     "data": {
      "text/plain": [
       "30"
      ]
     },
     "execution_count": 82,
     "metadata": {},
     "output_type": "execute_result"
    }
   ],
   "source": [
    "sum_series(10)"
   ]
  },
  {
   "cell_type": "code",
   "execution_count": null,
   "id": "b5e77623-1614-4005-a647-479e1444c5a5",
   "metadata": {},
   "outputs": [],
   "source": [
    "    "
   ]
  }
 ],
 "metadata": {
  "kernelspec": {
   "display_name": "Python 3 (ipykernel)",
   "language": "python",
   "name": "python3"
  },
  "language_info": {
   "codemirror_mode": {
    "name": "ipython",
    "version": 3
   },
   "file_extension": ".py",
   "mimetype": "text/x-python",
   "name": "python",
   "nbconvert_exporter": "python",
   "pygments_lexer": "ipython3",
   "version": "3.12.7"
  }
 },
 "nbformat": 4,
 "nbformat_minor": 5
}

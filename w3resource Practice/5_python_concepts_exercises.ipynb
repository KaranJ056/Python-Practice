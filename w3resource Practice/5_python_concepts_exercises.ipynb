{
 "cells": [
  {
   "cell_type": "markdown",
   "id": "4cc5044a-e0b9-4e11-888d-57efc630be20",
   "metadata": {},
   "source": [
    "## Python Concept Exercies"
   ]
  },
  {
   "cell_type": "markdown",
   "id": "82ff2b03-d3cf-4c93-9968-2d689a2e850b",
   "metadata": {},
   "source": [
    "### Exception Handling\n",
    "\n",
    "##### https://www.w3resource.com/python-exercises/python-exception-handling-exercises.php"
   ]
  },
  {
   "cell_type": "raw",
   "id": "1132413b-ec77-4898-b445-d4f3e68c8023",
   "metadata": {},
   "source": [
    "1. Write a Python program that prompts the user to input an integer and raises a ValueError exception if the input is not a valid integer."
   ]
  },
  {
   "cell_type": "code",
   "execution_count": 4,
   "id": "4680cc14-e5bb-4055-a022-9c139a3b9c63",
   "metadata": {},
   "outputs": [
    {
     "name": "stdin",
     "output_type": "stream",
     "text": [
      "Please enter an first integer value:  1232\n",
      "Please enter an second integer value:  dqwd\n"
     ]
    },
    {
     "name": "stdout",
     "output_type": "stream",
     "text": [
      "Please enter a valid interger value\n",
      "Script executed\n"
     ]
    }
   ],
   "source": [
    "try:\n",
    "    num1 = int(input(\"Please enter an first integer value: \"))\n",
    "    num2 = int(input(\"Please enter an second integer value: \"))\n",
    "    total = num1 + num2\n",
    "    print(f\"{num1} + {num2} = {total}\")\n",
    "except ValueError:\n",
    "    print(f\"Please enter a valid interger value\")\n",
    "finally:\n",
    "    print(f\"Script executed\")"
   ]
  },
  {
   "cell_type": "code",
   "execution_count": null,
   "id": "aafbeb3a-ddde-4ac1-9191-36d623b60ad6",
   "metadata": {},
   "outputs": [],
   "source": []
  },
  {
   "cell_type": "markdown",
   "id": "1acb72fb-71e9-488a-b06b-3cc9f445718f",
   "metadata": {},
   "source": [
    "### Python Decorator\n",
    "##### https://www.w3resource.com/python-exercises/decorator/index.php"
   ]
  },
  {
   "cell_type": "raw",
   "id": "905a8605-ad7b-4bb4-a3d2-6dcd099c5c8b",
   "metadata": {},
   "source": [
    "1. Write a Python program to create a decorator that logs the arguments and return value of a function."
   ]
  },
  {
   "cell_type": "code",
   "execution_count": 10,
   "id": "0deb3980-0e41-4592-911a-5a8d66918c6a",
   "metadata": {},
   "outputs": [],
   "source": [
    "def logArgsAndResult(func):\n",
    "    def wrapper(*args, **kwargs):\n",
    "        result = func(*args, **kwargs)\n",
    "        print(f\"Args of a {func.__name__}:\\n{args}\")\n",
    "        print(f\"Return Value of a {func.__name__}:\")\n",
    "        print(result)\n",
    "    return wrapper\n",
    "\n",
    "@logArgsAndResult\n",
    "def add(num1, num2):\n",
    "    return num1 + num2"
   ]
  },
  {
   "cell_type": "code",
   "execution_count": 11,
   "id": "bbc463ec-eab4-4c9c-9740-41bdd4e06b34",
   "metadata": {},
   "outputs": [
    {
     "name": "stdout",
     "output_type": "stream",
     "text": [
      "Args of a add:\n",
      "(1, 2)\n",
      "Return Value of a add:\n",
      "3\n"
     ]
    }
   ],
   "source": [
    "add(1,2)"
   ]
  },
  {
   "cell_type": "code",
   "execution_count": null,
   "id": "088cb9ab-d0c6-433d-bac1-574b8c26b65c",
   "metadata": {},
   "outputs": [],
   "source": []
  },
  {
   "cell_type": "raw",
   "id": "54042c1b-a68a-423d-869a-b9bf0a984c58",
   "metadata": {},
   "source": [
    "2. Write a Python program that implements a decorator to retry a function multiple times in case of failure."
   ]
  },
  {
   "cell_type": "code",
   "execution_count": 23,
   "id": "e9ecb399-e8a9-46e3-87de-cd4c1ce98a06",
   "metadata": {},
   "outputs": [
    {
     "name": "stdout",
     "output_type": "stream",
     "text": [
      "An error ocured: no such table: users\n",
      "Retrying.......\n",
      "An error ocured: no such table: users\n",
      "Retrying.......\n",
      "An error ocured: no such table: users\n",
      "Retrying.......\n",
      "An error ocured: no such table: users\n",
      "Retrying.......\n",
      "Failed to connect to the database: Maximum retries exceeded. Function failed.\n"
     ]
    }
   ],
   "source": [
    "import sqlite3\n",
    "import time\n",
    "\n",
    "def retry_when_failure(max_retries=4, delay=2):\n",
    "    def decorator(func):\n",
    "        def wrapper(*args, **kwargs):\n",
    "            for _ in range(max_retries):\n",
    "                try:\n",
    "                    result = func(*args, **kwargs)\n",
    "                    return result\n",
    "                except Exception as e:\n",
    "                    print(f\"An error ocured: {e}\")\n",
    "                    print(f\"Retrying.......\")\n",
    "                    time.sleep(delay)\n",
    "            raise Exception(\"Maximum retries exceeded. Function failed.\")\n",
    "        return wrapper\n",
    "    return decorator\n",
    "    \n",
    "@retry_when_failure(max_retries=4, delay=2)\n",
    "def connect_to_database():\n",
    "    conn = sqlite3.connect(\"example.db\")\n",
    "    cursor = conn.cursor()\n",
    "    cursor.execute(\"SELECT * FROM users\")\n",
    "    result = cursor.fetchall()\n",
    "    cursor.close()\n",
    "    conn.close()\n",
    "    return result\n",
    "\n",
    "try:\n",
    "    data = connect_to_database()\n",
    "    print(\"Data retrieved successfully:\", data)\n",
    "except Exception as e:\n",
    "    print(f\"Failed to connect to the database: {e}\")"
   ]
  },
  {
   "cell_type": "code",
   "execution_count": null,
   "id": "4ba9b0b5-0240-45c5-ba9b-9516c7ca1028",
   "metadata": {},
   "outputs": [],
   "source": []
  },
  {
   "cell_type": "code",
   "execution_count": null,
   "id": "b09debcb-a0ea-4f26-9fed-4d2d4b702039",
   "metadata": {},
   "outputs": [],
   "source": []
  }
 ],
 "metadata": {
  "kernelspec": {
   "display_name": "Python 3 (ipykernel)",
   "language": "python",
   "name": "python3"
  },
  "language_info": {
   "codemirror_mode": {
    "name": "ipython",
    "version": 3
   },
   "file_extension": ".py",
   "mimetype": "text/x-python",
   "name": "python",
   "nbconvert_exporter": "python",
   "pygments_lexer": "ipython3",
   "version": "3.12.7"
  }
 },
 "nbformat": 4,
 "nbformat_minor": 5
}

{
 "cells": [
  {
   "cell_type": "markdown",
   "id": "efa1d0e9-ef63-42e2-926d-e704c33c13be",
   "metadata": {},
   "source": [
    "### Arrow Module Exercises\n",
    "##### https://www.w3resource.com/python-exercises/arrow/index.php"
   ]
  },
  {
   "cell_type": "code",
   "execution_count": 1,
   "id": "5178c9aa-c48b-40bc-b631-32520771fe35",
   "metadata": {},
   "outputs": [
    {
     "name": "stdout",
     "output_type": "stream",
     "text": [
      "Requirement already satisfied: arrow in c:\\users\\karanjjoshi\\anaconda3\\lib\\site-packages (1.2.3)\n",
      "Requirement already satisfied: python-dateutil>=2.7.0 in c:\\users\\karanjjoshi\\anaconda3\\lib\\site-packages (from arrow) (2.9.0.post0)\n",
      "Requirement already satisfied: six>=1.5 in c:\\users\\karanjjoshi\\anaconda3\\lib\\site-packages (from python-dateutil>=2.7.0->arrow) (1.16.0)\n"
     ]
    }
   ],
   "source": [
    "!pip install arrow"
   ]
  },
  {
   "cell_type": "markdown",
   "id": "41e9c1b6-9d78-4322-bb69-4fac8e641a98",
   "metadata": {},
   "source": [
    "#1. Write a Python program to get hourly datetime between two hours."
   ]
  },
  {
   "cell_type": "code",
   "execution_count": 2,
   "id": "7acc06d7-39fc-42f8-bb59-d46e2b44e39c",
   "metadata": {},
   "outputs": [],
   "source": [
    "import arrow"
   ]
  },
  {
   "cell_type": "code",
   "execution_count": 6,
   "id": "343930a5-c288-4a80-ad2d-a4da3bbd735c",
   "metadata": {},
   "outputs": [
    {
     "name": "stdout",
     "output_type": "stream",
     "text": [
      "9\n",
      "10\n",
      "11\n",
      "12\n"
     ]
    }
   ],
   "source": [
    "start = arrow.get(\"2025-01-28 09:00:00\")\n",
    "end = arrow.get(\"2025-01-28 12:00:00\")\n",
    "\n",
    "for h in arrow.Arrow.range('hour', start, end):\n",
    "    print(h.hour)"
   ]
  },
  {
   "cell_type": "code",
   "execution_count": null,
   "id": "c516adcb-7737-4691-8d30-d0b8a8d560e0",
   "metadata": {},
   "outputs": [],
   "source": []
  },
  {
   "cell_type": "markdown",
   "id": "943c7097-ce5d-48bf-bad5-9a8c1461f966",
   "metadata": {},
   "source": [
    "#2. Write a Python program to get string representing the date, controlled by an explicit format string."
   ]
  },
  {
   "cell_type": "code",
   "execution_count": 7,
   "id": "4cf5e7f4-d37f-4d3d-bc3d-2828998d449e",
   "metadata": {},
   "outputs": [
    {
     "name": "stdout",
     "output_type": "stream",
     "text": [
      "2025-01-28T17:06:11.132931+05:30\n"
     ]
    }
   ],
   "source": [
    "current_time = arrow.now()\n",
    "print(current_time)"
   ]
  },
  {
   "cell_type": "code",
   "execution_count": 9,
   "id": "6332da76-026a-4bbc-8344-48ea5dc9e826",
   "metadata": {},
   "outputs": [
    {
     "name": "stdout",
     "output_type": "stream",
     "text": [
      "string representing the date controlled by an explicit string\n",
      "\n",
      "2025-01-28 11:38:27\n",
      "2025-28-01 11:38:27\n",
      "28-01-2025 27:11:11\n"
     ]
    }
   ],
   "source": [
    "print(\"string representing the date controlled by an explicit string\\n\")\n",
    "print(arrow.utcnow().strftime(\"%Y-%m-%d %H:%M:%S\"))\n",
    "print(arrow.utcnow().strftime(\"%Y-%d-%m %H:%M:%S\"))\n",
    "print(arrow.utcnow().strftime(\"%d-%m-%Y %S:%H:%H\"))"
   ]
  },
  {
   "cell_type": "code",
   "execution_count": null,
   "id": "6c6c94a4-1517-4a6a-88c2-6f59d3066b44",
   "metadata": {},
   "outputs": [],
   "source": []
  }
 ],
 "metadata": {
  "kernelspec": {
   "display_name": "Python 3 (ipykernel)",
   "language": "python",
   "name": "python3"
  },
  "language_info": {
   "codemirror_mode": {
    "name": "ipython",
    "version": 3
   },
   "file_extension": ".py",
   "mimetype": "text/x-python",
   "name": "python",
   "nbconvert_exporter": "python",
   "pygments_lexer": "ipython3",
   "version": "3.12.7"
  }
 },
 "nbformat": 4,
 "nbformat_minor": 5
}

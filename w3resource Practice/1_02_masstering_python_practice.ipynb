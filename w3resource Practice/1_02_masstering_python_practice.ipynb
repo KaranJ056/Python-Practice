{
 "cells": [
  {
   "cell_type": "markdown",
   "id": "6a83dc32-2e54-4086-8440-de8968c7c902",
   "metadata": {},
   "source": [
    "### Mastering Pyhton\n",
    "\n",
    "##### https://www.w3resource.com/python-exercises/python_100_exercises_with_solutions.php"
   ]
  },
  {
   "cell_type": "markdown",
   "id": "5a22a215-973c-4a34-8b8b-3e33d7fe2a0c",
   "metadata": {},
   "source": [
    "Exercise 4: <br>\n",
    "Extract all odd numbers from a list of integers. <br>"
   ]
  },
  {
   "cell_type": "code",
   "execution_count": 1,
   "id": "ef0f0b64-dbcb-4480-86ce-d0fb76a50755",
   "metadata": {},
   "outputs": [],
   "source": [
    "lst = [1, 2, 3, 4, 5, 6, 7, 8, 9, 10]"
   ]
  },
  {
   "cell_type": "code",
   "execution_count": 2,
   "id": "4272ccd7-49a6-4b2d-9bfc-0c197e9dd56f",
   "metadata": {},
   "outputs": [
    {
     "data": {
      "text/plain": [
       "[1, 3, 5, 7, 9]"
      ]
     },
     "execution_count": 2,
     "metadata": {},
     "output_type": "execute_result"
    }
   ],
   "source": [
    "[num for num in lst if num%2 != 0]"
   ]
  },
  {
   "cell_type": "code",
   "execution_count": null,
   "id": "2feb6dba-0941-45f8-9019-f943dae28472",
   "metadata": {},
   "outputs": [],
   "source": []
  },
  {
   "cell_type": "markdown",
   "id": "ce72225b-68b6-41fa-b42c-0883e92886d2",
   "metadata": {},
   "source": [
    "Exercise 6: <br>\n",
    "Convert a list of integers to a list of booleans where all non-zero values become True. <br>"
   ]
  },
  {
   "cell_type": "code",
   "execution_count": 4,
   "id": "34857ced-562d-4c68-97ac-3f4c3f51ea6f",
   "metadata": {},
   "outputs": [
    {
     "data": {
      "text/plain": [
       "[True, True, True, True, True, True, True, True, True, True]"
      ]
     },
     "execution_count": 4,
     "metadata": {},
     "output_type": "execute_result"
    }
   ],
   "source": [
    "[num>0 for num in lst]"
   ]
  },
  {
   "cell_type": "code",
   "execution_count": null,
   "id": "36fa3abf-7344-4027-9555-7216992d7bee",
   "metadata": {},
   "outputs": [],
   "source": []
  },
  {
   "cell_type": "markdown",
   "id": "2e1d4cb1-d196-442c-8c5f-fc660ae64889",
   "metadata": {},
   "source": [
    "Exercise 8: <br>\n",
    "Create a 3x3 list of lists with random values and normalize it. <br>"
   ]
  },
  {
   "cell_type": "code",
   "execution_count": 15,
   "id": "a491ff89-0738-4f22-a3b1-d55809fb3fe1",
   "metadata": {},
   "outputs": [
    {
     "name": "stdout",
     "output_type": "stream",
     "text": [
      "[[9, 9, 0], [4, 4, 7], [4, 6, 8]]\n"
     ]
    },
    {
     "data": {
      "text/plain": [
       "[[0.43, 0.43, -0.73], [-0.21, -0.21, 0.17], [-0.21, 0.04, 0.3]]"
      ]
     },
     "execution_count": 15,
     "metadata": {},
     "output_type": "execute_result"
    }
   ],
   "source": [
    "import random\n",
    "import math\n",
    "\n",
    "matrix = [[math.floor((random.random()*10)) for _ in range(3)] for _ in range(3)]\n",
    "print(matrix)\n",
    "avg = sum(sum(row) for row in matrix) / 9\n",
    "std = (sum((num - avg) ** 2 for row in matrix for num in row) / 9)\n",
    "normalized_matrix = [[round((num - avg)/std, 2) for num in row] for row in matrix]\n",
    "normalized_matrix"
   ]
  },
  {
   "cell_type": "code",
   "execution_count": null,
   "id": "11640c06-9d4b-4d2e-8b2f-4680992834ef",
   "metadata": {},
   "outputs": [],
   "source": []
  },
  {
   "cell_type": "markdown",
   "id": "4ec83a43-ea38-49ac-9d2e-636b18d3fea2",
   "metadata": {},
   "source": [
    "Exercise 9: <br>\n",
    "Calculate the sum of the diagonal elements of a 3x3 matrix (list of lists). <br>"
   ]
  },
  {
   "cell_type": "code",
   "execution_count": 23,
   "id": "6146af91-b811-487e-b259-2c88610e851e",
   "metadata": {},
   "outputs": [
    {
     "name": "stdout",
     "output_type": "stream",
     "text": [
      "21\n"
     ]
    }
   ],
   "source": [
    "matrix = [[9, 9, 0], [4, 4, 7], [4, 6, 8]]\n",
    "sum_diagonal = sum(matrix[i][i] for i in range(3))\n",
    "print(sum_diagonal)"
   ]
  },
  {
   "cell_type": "code",
   "execution_count": null,
   "id": "74322ec5-28ad-44b5-a6f1-c8f600199a92",
   "metadata": {},
   "outputs": [],
   "source": []
  },
  {
   "cell_type": "markdown",
   "id": "de4f5b35-e95d-433e-9dbe-aec2ee5dfeee",
   "metadata": {},
   "source": [
    "Exercise 26: <br>\n",
    "Create a 2D list with 1 on the border and 0 inside. <br>"
   ]
  },
  {
   "cell_type": "code",
   "execution_count": 30,
   "id": "ef53a443-9614-4307-9500-c7ca4fe76453",
   "metadata": {
    "scrolled": true
   },
   "outputs": [
    {
     "name": "stdout",
     "output_type": "stream",
     "text": [
      "[1, 1, 1, 1, 1]\n",
      "[1, 0, 0, 0, 1]\n",
      "[1, 0, 0, 0, 1]\n",
      "[1, 0, 0, 0, 1]\n",
      "[1, 1, 1, 1, 1]\n"
     ]
    }
   ],
   "source": [
    "matrix = [[1 if i==0 or i==4 or j==0 or j==4 else 0 for j in range(5)] for i in range(5)]\n",
    "\n",
    "def print_matrix(mat):\n",
    "    for row in mat:\n",
    "        print(row)\n",
    "\n",
    "print_matrix(matrix)"
   ]
  },
  {
   "cell_type": "code",
   "execution_count": null,
   "id": "abcbe3fa-b31d-4460-9a13-518002fd87d8",
   "metadata": {},
   "outputs": [],
   "source": []
  }
 ],
 "metadata": {
  "kernelspec": {
   "display_name": "Python 3 (ipykernel)",
   "language": "python",
   "name": "python3"
  },
  "language_info": {
   "codemirror_mode": {
    "name": "ipython",
    "version": 3
   },
   "file_extension": ".py",
   "mimetype": "text/x-python",
   "name": "python",
   "nbconvert_exporter": "python",
   "pygments_lexer": "ipython3",
   "version": "3.12.7"
  }
 },
 "nbformat": 4,
 "nbformat_minor": 5
}

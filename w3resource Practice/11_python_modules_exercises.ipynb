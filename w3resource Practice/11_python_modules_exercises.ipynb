{
 "cells": [
  {
   "cell_type": "markdown",
   "id": "608cf48f-3ca4-48bf-81ed-bd1e079573ed",
   "metadata": {},
   "source": [
    "### Python Modules Practice Problems"
   ]
  },
  {
   "cell_type": "markdown",
   "id": "5edb0beb-581a-4b82-912b-e3fc88657ebe",
   "metadata": {},
   "source": [
    "### Built-in Modules\n",
    "##### https://www.w3resource.com/python-exercises/modules/index.php"
   ]
  },
  {
   "cell_type": "markdown",
   "id": "75e35a17-6a7b-4ac7-b7f4-ee5a49c5c3e3",
   "metadata": {},
   "source": [
    "1. Write a Python program to create a list of random integers and randomly select multiple items from the said list. Use random.sample()"
   ]
  },
  {
   "cell_type": "code",
   "execution_count": 5,
   "id": "56293f4f-2839-4094-85e0-5541d8a674ad",
   "metadata": {},
   "outputs": [
    {
     "name": "stdout",
     "output_type": "stream",
     "text": [
      "Sample Selected: \n",
      "[4, 2, 7, 8]\n",
      "Sample Selected: \n",
      "[9, 8, 4, 5]\n",
      "Sample Selected: \n",
      "[6, 0, 2]\n"
     ]
    }
   ],
   "source": [
    "import random\n",
    "\n",
    "lst = [1,2,3,4,5,6,7,8,9,0]\n",
    "\n",
    "print(f\"Sample Selected: \")\n",
    "print(f\"{random.sample(lst, k=4)}\")\n",
    "\n",
    "print(f\"Sample Selected: \")\n",
    "print(f\"{random.sample(lst, k=4)}\")\n",
    "\n",
    "print(f\"Sample Selected: \")\n",
    "print(f\"{random.sample(lst, k=3)}\")"
   ]
  },
  {
   "cell_type": "code",
   "execution_count": null,
   "id": "b66b9f2d-d85a-45d3-b743-4aad2d812d35",
   "metadata": {},
   "outputs": [],
   "source": []
  },
  {
   "cell_type": "markdown",
   "id": "beff7c46-34be-41d1-a84f-cbbde8495671",
   "metadata": {},
   "source": [
    "2. Write a Python program to check if a given value is compiled code or not. Also check if a given value is a module or not. Use types.CodeType, types.ModuleType()"
   ]
  },
  {
   "cell_type": "code",
   "execution_count": 8,
   "id": "84230494-b2db-4f88-b733-4dbb3b8f83c7",
   "metadata": {},
   "outputs": [],
   "source": [
    "import types\n",
    "import math"
   ]
  },
  {
   "cell_type": "code",
   "execution_count": 9,
   "id": "e5fc310b-3c8e-4864-81a4-2837ee10898d",
   "metadata": {},
   "outputs": [
    {
     "name": "stdout",
     "output_type": "stream",
     "text": [
      "True\n",
      "True\n"
     ]
    }
   ],
   "source": [
    "code = compile(\"x = 1\", \"<string>\", \"exec\")\n",
    "\n",
    "print(isinstance(math, types.ModuleType))\n",
    "print(isinstance(code, types.CodeType))"
   ]
  },
  {
   "cell_type": "code",
   "execution_count": null,
   "id": "8e598b45-42a1-48dc-ac0a-58c24c6cc62b",
   "metadata": {},
   "outputs": [],
   "source": []
  },
  {
   "cell_type": "code",
   "execution_count": 10,
   "id": "c58f0f9a-e8ec-406b-9b08-d8748ee3f52c",
   "metadata": {},
   "outputs": [
    {
     "name": "stdout",
     "output_type": "stream",
     "text": [
      "Infinity\n",
      "-Infinity\n",
      "NaN\n"
     ]
    }
   ],
   "source": [
    "from decimal import Decimal\n",
    "\n",
    "positive_inf = Decimal('Infinity')\n",
    "negative_inf = Decimal('-Infinity')\n",
    "nan_value = Decimal('NaN')\n",
    "\n",
    "print(positive_inf + 1)  # Infinity\n",
    "print(negative_inf - 1)  # -Infinity\n",
    "print(nan_value + 1)     # NaN\n"
   ]
  },
  {
   "cell_type": "code",
   "execution_count": 21,
   "id": "edaa243a-c48e-4853-a7f9-e6068fb06f74",
   "metadata": {},
   "outputs": [
    {
     "name": "stdout",
     "output_type": "stream",
     "text": [
      "4\n",
      "ROUND_HALF_EVEN\n"
     ]
    }
   ],
   "source": [
    "ctx = getcontext()\n",
    "print(ctx.prec)\n",
    "print(ctx.rounding)\n",
    "ctx.prec = 3"
   ]
  },
  {
   "cell_type": "code",
   "execution_count": 22,
   "id": "f61ac489-28a8-49b3-85e3-f569c0e88605",
   "metadata": {},
   "outputs": [
    {
     "name": "stdout",
     "output_type": "stream",
     "text": [
      "1.67\n"
     ]
    }
   ],
   "source": [
    "print(Decimal(20)/ Decimal(12))"
   ]
  },
  {
   "cell_type": "markdown",
   "id": "a2e1fa4e-cf80-416f-b935-6ddcd8f597c5",
   "metadata": {},
   "source": [
    "1. Write a Python program to configure rounding to round to the nearest integer, with ties going to the nearest even integer. Use decimal.ROUND_HALF_EVEN"
   ]
  },
  {
   "cell_type": "code",
   "execution_count": 25,
   "id": "ede6fcc9-35bc-406b-aacb-7d7cdd105466",
   "metadata": {},
   "outputs": [
    {
     "name": "stdout",
     "output_type": "stream",
     "text": [
      "1.667\n"
     ]
    }
   ],
   "source": [
    "ctx = getcontext()\n",
    "ctx.prec = 4\n",
    "ctx.rounding = \"ROUND_HALF_EVEN\"\n",
    "\n",
    "print(Decimal(20)/ Decimal(12))"
   ]
  },
  {
   "cell_type": "code",
   "execution_count": null,
   "id": "585c3fb6-6f33-4316-b255-e35a81c1287c",
   "metadata": {},
   "outputs": [],
   "source": []
  },
  {
   "cell_type": "markdown",
   "id": "df82ab90-5726-4bfe-99aa-b00c5cd30f6e",
   "metadata": {},
   "source": [
    "1. Write a Python program to create a deep copy of a given dictionary. Use copy.copy"
   ]
  },
  {
   "cell_type": "code",
   "execution_count": 26,
   "id": "90547afb-a278-43b6-9866-73c1550acc49",
   "metadata": {},
   "outputs": [],
   "source": [
    "import copy"
   ]
  },
  {
   "cell_type": "code",
   "execution_count": 27,
   "id": "60d78300-3dcd-46f3-8c8b-da03a6aac158",
   "metadata": {},
   "outputs": [],
   "source": [
    "og_dict = {\"name\": \"Karan\", \"age\":20}"
   ]
  },
  {
   "cell_type": "code",
   "execution_count": 29,
   "id": "032f8403-cd95-4ef2-abde-01c09e08e28a",
   "metadata": {},
   "outputs": [],
   "source": [
    "deep_copied_dict = copy.deepcopy(og_dict)"
   ]
  },
  {
   "cell_type": "code",
   "execution_count": 30,
   "id": "efcdd352-d7b5-41a6-a1d4-4674f9c22f7b",
   "metadata": {},
   "outputs": [],
   "source": [
    "deep_copied_dict[\"name\"] = \"Abhi\""
   ]
  },
  {
   "cell_type": "code",
   "execution_count": 31,
   "id": "14887039-3ce1-4abd-a6d5-64caa6a1d490",
   "metadata": {},
   "outputs": [
    {
     "name": "stdout",
     "output_type": "stream",
     "text": [
      "{'name': 'Karan', 'age': 20}\n",
      "{'name': 'Abhi', 'age': 20}\n"
     ]
    }
   ],
   "source": [
    "print(og_dict)\n",
    "print(deep_copied_dict)"
   ]
  },
  {
   "cell_type": "code",
   "execution_count": null,
   "id": "61b0c144-ba9e-457d-8ce5-cc076458486b",
   "metadata": {},
   "outputs": [],
   "source": []
  },
  {
   "cell_type": "markdown",
   "id": "947287de-12d9-4a05-a569-3c08227025f8",
   "metadata": {},
   "source": [
    "1. Write a Python program to write dictionaries and a list of dictionaries to a given CSV file. Use csv.reader"
   ]
  },
  {
   "cell_type": "code",
   "execution_count": 32,
   "id": "9a5c78d5-7d3a-4d22-9019-ac38cf94e5e7",
   "metadata": {},
   "outputs": [],
   "source": [
    "import csv"
   ]
  },
  {
   "cell_type": "code",
   "execution_count": 39,
   "id": "c9bd2652-7663-4b6b-8126-f10be3450c38",
   "metadata": {},
   "outputs": [
    {
     "name": "stdout",
     "output_type": "stream",
     "text": [
      "['Name', 'Age']\n",
      "['Karan', '20']\n",
      "['Aditya', '23']\n",
      "['Nandish', '21']\n"
     ]
    }
   ],
   "source": [
    "fw = open(\"dict_to_csv.csv\", mode=\"w\", newline=\"\")\n",
    "writer = csv.DictWriter(fw, fieldnames=[\"Name\", \"Age\"])\n",
    "writer.writeheader()\n",
    "writer.writerows(\n",
    "    [{\"Name\": \"Karan\", \"Age\": 20},\n",
    "    {\"Name\": \"Aditya\", \"Age\": 23},\n",
    "    {\"Name\": \"Nandish\", \"Age\": 21}]\n",
    ")\n",
    "fw.close()\n",
    "\n",
    "fr = open(\"dict_to_csv.csv\", \"r\", encoding=\"utf-8\")\n",
    "data = csv.reader(fr, delimiter=\",\")\n",
    "for row in data:\n",
    "    print(row)\n",
    "fr.close()"
   ]
  },
  {
   "cell_type": "code",
   "execution_count": null,
   "id": "be488869-b499-48f6-8981-ca86796d13d8",
   "metadata": {},
   "outputs": [],
   "source": []
  },
  {
   "cell_type": "markdown",
   "id": "cbc3c0c3-81bd-4a07-b62e-ffa6a190738b",
   "metadata": {},
   "source": [
    "### Operating Services Practice Problems - Python"
   ]
  },
  {
   "cell_type": "markdown",
   "id": "5c10bd82-f88e-446d-bd89-2ed4f6b0c4b4",
   "metadata": {},
   "source": [
    "1. Write a Python program to test whether a given path exists or not. Find the filename and directory portion of the path if it exists."
   ]
  },
  {
   "cell_type": "code",
   "execution_count": 40,
   "id": "d3a6a12c-895d-460e-8529-8b74974d1f58",
   "metadata": {},
   "outputs": [],
   "source": [
    "import os"
   ]
  },
  {
   "cell_type": "code",
   "execution_count": 42,
   "id": "793e57de-562c-45f3-8d58-e185668a722f",
   "metadata": {},
   "outputs": [],
   "source": [
    "file_path = os.getcwd()+\"\\\\dict_to_csv.csv\""
   ]
  },
  {
   "cell_type": "code",
   "execution_count": 55,
   "id": "be20d2c4-ba06-4fe5-ad2c-ec85a9a99442",
   "metadata": {},
   "outputs": [],
   "source": [
    "def get_file_name_and_directory(file_path):\n",
    "    try:\n",
    "        if os.path.exists(file_path):\n",
    "            # return {\"dir\": file_path[::-1].partition(\"\\\\\")[-1][::-1], \"file\": file_path.split(\"\\\\\", -1)[-1]}\n",
    "            return {\"dir\": os.path.dirname(file_path), \"file\": os.path.basename(file_path)}\n",
    "    except IOError as e:\n",
    "        print(f\"File Not Accessed/Existed. \\nError : {e}\")\n",
    "    finally:\n",
    "        print(\"Script Executed\")"
   ]
  },
  {
   "cell_type": "code",
   "execution_count": 56,
   "id": "a932cc60-51de-4638-9eac-cf09ff19426a",
   "metadata": {},
   "outputs": [
    {
     "name": "stdout",
     "output_type": "stream",
     "text": [
      "Script Executed\n"
     ]
    },
    {
     "data": {
      "text/plain": [
       "{'dir': 'C:\\\\Users\\\\KaranJJoshi\\\\Python Practice\\\\w3resource practice',\n",
       " 'file': 'dict_to_csv.csv'}"
      ]
     },
     "execution_count": 56,
     "metadata": {},
     "output_type": "execute_result"
    }
   ],
   "source": [
    "get_file_name_and_directory(file_path)"
   ]
  },
  {
   "cell_type": "code",
   "execution_count": null,
   "id": "751ea544-a330-4c30-96f7-c5fb48ea36d5",
   "metadata": {},
   "outputs": [],
   "source": []
  },
  {
   "cell_type": "markdown",
   "id": "bb81af4d-9de9-4660-a8e4-cdb0b51af31c",
   "metadata": {},
   "source": [
    "### Math Module Practice Problems"
   ]
  },
  {
   "cell_type": "markdown",
   "id": "6f93e553-48c1-4d6b-9a65-7b273b8db339",
   "metadata": {},
   "source": [
    "1. Write a Python program to calculate the sum of all prime numbers in a given list of positive integers."
   ]
  },
  {
   "cell_type": "code",
   "execution_count": 59,
   "id": "b0c021ea-c050-4bef-be7c-5a2b2ffeb3c0",
   "metadata": {},
   "outputs": [],
   "source": [
    "import math"
   ]
  },
  {
   "cell_type": "code",
   "execution_count": 64,
   "id": "7e01358a-1ccf-4871-b9c9-46c8b47e3b59",
   "metadata": {},
   "outputs": [],
   "source": [
    "def is_prime(n):\n",
    "    if n<2: return False\n",
    "    if n==2 and n==3: return True\n",
    "\n",
    "    for i in range(2,int(n**0.5)+1):\n",
    "        if n%i == 0:\n",
    "            return False\n",
    "    return True"
   ]
  },
  {
   "cell_type": "code",
   "execution_count": 66,
   "id": "646ccccf-d116-4eb5-8564-da09547a9ac1",
   "metadata": {},
   "outputs": [
    {
     "name": "stdout",
     "output_type": "stream",
     "text": [
      "28\n"
     ]
    }
   ],
   "source": [
    "lst = [1,2,3,5,7,8,9,11]\n",
    "\n",
    "prime_sum = sum([num for num in lst if is_prime(num)])\n",
    "\n",
    "print(prime_sum)"
   ]
  },
  {
   "cell_type": "code",
   "execution_count": null,
   "id": "c24f3227-858d-4715-ab00-35da90d79cc8",
   "metadata": {},
   "outputs": [],
   "source": []
  },
  {
   "cell_type": "markdown",
   "id": "43656a80-ccf4-45c7-a531-896287cb4af3",
   "metadata": {},
   "source": [
    "<code>\n",
    "2. Write a Python program that checks whether the absolute difference between two consecutive digits is two or not. Return true otherwise false.\n",
    "Sample Data:\n",
    "(666) -> False\n",
    "(3579) -> True\n",
    "(2468) -> True\n",
    "(20420) -> False\n",
    "<code>"
   ]
  },
  {
   "cell_type": "code",
   "execution_count": 91,
   "id": "bca71310-1c37-4646-959a-64c1a3e06bf5",
   "metadata": {},
   "outputs": [],
   "source": [
    "def is_diff_two(num) -> bool:\n",
    "    lst = []\n",
    "    i = 1\n",
    "    j = 0\n",
    "    lst.append(num%10)\n",
    "    num = num//10\n",
    "    while num>0:\n",
    "        lst.append(num%10)\n",
    "        print(lst)\n",
    "        if abs(lst[i] - lst[j]) != 2:\n",
    "            return False\n",
    "        i += 1\n",
    "        j += 1\n",
    "        num //= 10\n",
    "    print(lst)\n",
    "    return True"
   ]
  },
  {
   "cell_type": "code",
   "execution_count": 96,
   "id": "cfa9b685-e577-4c19-bd47-9a6bcf721ded",
   "metadata": {},
   "outputs": [],
   "source": [
    "# or else\n",
    "def is_diff_two_2(num):\n",
    "    return all(abs(int(x) - int(y)) == 2 for x, y in zip(str(num), str(num)[1:]))"
   ]
  },
  {
   "cell_type": "code",
   "execution_count": 95,
   "id": "e35df186-3ca7-44f1-b40f-0bfa92c0dfc0",
   "metadata": {},
   "outputs": [
    {
     "name": "stdout",
     "output_type": "stream",
     "text": [
      "[6, 4]\n",
      "[6, 4, 2]\n",
      "[6, 4, 2, 0]\n",
      "[6, 4, 2, 0, 2]\n",
      "[6, 4, 2, 0, 2]\n"
     ]
    },
    {
     "data": {
      "text/plain": [
       "True"
      ]
     },
     "execution_count": 95,
     "metadata": {},
     "output_type": "execute_result"
    }
   ],
   "source": [
    "is_diff_two(20246)"
   ]
  },
  {
   "cell_type": "code",
   "execution_count": 98,
   "id": "643e7e8a-7f92-4a47-9321-384d6ead8376",
   "metadata": {},
   "outputs": [
    {
     "data": {
      "text/plain": [
       "False"
      ]
     },
     "execution_count": 98,
     "metadata": {},
     "output_type": "execute_result"
    }
   ],
   "source": [
    "is_diff_two_2(666)"
   ]
  },
  {
   "cell_type": "code",
   "execution_count": null,
   "id": "ac20c846-3c27-4500-969d-89dc7a90ea84",
   "metadata": {},
   "outputs": [],
   "source": []
  },
  {
   "cell_type": "markdown",
   "id": "142007b0-ec18-433b-8e4a-44401f3dc83f",
   "metadata": {},
   "source": [
    "### Requests Module Exercises in Python"
   ]
  },
  {
   "cell_type": "code",
   "execution_count": 100,
   "id": "f2e9d4e4-6cd5-4204-9359-e19c00bcfc29",
   "metadata": {
    "collapsed": true,
    "jupyter": {
     "outputs_hidden": true
    }
   },
   "outputs": [
    {
     "name": "stdout",
     "output_type": "stream",
     "text": [
      "Python Requests module - version: 2.32.3\n",
      "Licence: Apache-2.0\n",
      "Copyright: Copyright Kenneth Reitz\n",
      "Author: Kenneth Reitz\n",
      "Author email: me@kennethreitz.org\n",
      "Document url, title, description:\n",
      "https://requests.readthedocs.io\n",
      "requests\n",
      "Python HTTP for Humans.\n"
     ]
    }
   ],
   "source": [
    "import requests\n",
    "print(\"Python Requests module - version:\",requests.__version__)\n",
    "print(\"Licence:\",requests. __license__)\n",
    "print(\"Copyright:\",requests.__copyright__)\n",
    "print(\"Author:\",requests.__author__)\n",
    "print(\"Author email:\",requests.__author_email__)\n",
    "print(\"Document url, title, description:\")\n",
    "print(requests.__url__)\n",
    "print(requests.__title__)\n",
    "print(requests.__description__)"
   ]
  },
  {
   "cell_type": "code",
   "execution_count": null,
   "id": "571daa4a-05bf-4234-bcf9-e1f5df240e40",
   "metadata": {},
   "outputs": [],
   "source": []
  },
  {
   "cell_type": "markdown",
   "id": "6d5d42ed-d74a-4897-bab9-88e495eef975",
   "metadata": {},
   "source": [
    "1. Write a Python program to send a request to a web page, and print the response text and content. Also get the raw socket response from the server."
   ]
  },
  {
   "cell_type": "code",
   "execution_count": 102,
   "id": "efcdb45f-bb81-4403-abf3-26b29921366f",
   "metadata": {},
   "outputs": [],
   "source": [
    "import requests\n",
    "import asyncio"
   ]
  },
  {
   "cell_type": "code",
   "execution_count": 117,
   "id": "1e686146-c511-40c2-bf3a-c5cda263bfc7",
   "metadata": {
    "scrolled": true
   },
   "outputs": [
    {
     "name": "stdout",
     "output_type": "stream",
     "text": [
      "Status Code: 200\n",
      "Response Text: \n",
      "<!doctype html>\n",
      "<html>\n",
      "<head>\n",
      "    <title>Example Domain</title>\n",
      "\n",
      "    <meta charset=\"utf-8\" />\n",
      "    <meta http-equiv=\"Content-type\" content=\"text/html; charset=utf-8\" />\n",
      "    <meta name=\"viewport\" content=\"width=device-width, initial-scale=1\" />\n",
      "    <style type=\"text/css\">\n",
      "    body {\n",
      "        background-color: #f0f0f2;\n",
      "        margin: 0;\n",
      "        padding: 0;\n",
      "        font-family: -apple-system, system-ui, BlinkMacSystemFont, \"Segoe UI\", \"Open Sans\", \"Helvetica Neue\", Helvetica, Arial, sans-serif;\n",
      "        \n",
      "    }\n",
      "    div {\n",
      "        width: 600px;\n",
      "        margin: 5em auto;\n",
      "        padding: 2em;\n",
      "        background-color: #fdfdff;\n",
      "        border-radius: 0.5em;\n",
      "        box-shadow: 2px 3px 7px 2px rgba(0,0,0,0.02);\n",
      "    }\n",
      "    a:link, a:visited {\n",
      "        color: #38488f;\n",
      "        text-decoration: none;\n",
      "    }\n",
      "    @media (max-width: 700px) {\n",
      "        div {\n",
      "            margin: 0 auto;\n",
      "            width: auto;\n",
      "        }\n",
      "    }\n",
      "    </style>    \n",
      "</head>\n",
      "\n",
      "<body>\n",
      "<div>\n",
      "    <h1>Example Domain</h1>\n",
      "    <p>This domain is for use in illustrative examples in documents. You may use this\n",
      "    domain in literature without prior coordination or asking for permission.</p>\n",
      "    <p><a href=\"https://www.iana.org/domains/example\">More information...</a></p>\n",
      "</div>\n",
      "</body>\n",
      "</html>\n",
      "\n"
     ]
    }
   ],
   "source": [
    "res = requests.get(\"https://www.example.com\")\n",
    "print(f\"Status Code: {res.status_code}\")\n",
    "print(f\"Response Text: \\n{res.text}\")"
   ]
  },
  {
   "cell_type": "code",
   "execution_count": 118,
   "id": "d4ebe618-2996-488f-9199-4ed694530eba",
   "metadata": {
    "scrolled": true
   },
   "outputs": [
    {
     "name": "stdout",
     "output_type": "stream",
     "text": [
      "Response Contet: \n",
      "b'<!doctype html>\\n<html>\\n<head>\\n    <title>Example Domain</title>\\n\\n    <meta charset=\"utf-8\" />\\n    <meta http-equiv=\"Content-type\" content=\"text/html; charset=utf-8\" />\\n    <meta name=\"viewport\" content=\"width=device-width, initial-scale=1\" />\\n    <style type=\"text/css\">\\n    body {\\n        background-color: #f0f0f2;\\n        margin: 0;\\n        padding: 0;\\n        font-family: -apple-system, system-ui, BlinkMacSystemFont, \"Segoe UI\", \"Open Sans\", \"Helvetica Neue\", Helvetica, Arial, sans-serif;\\n        \\n    }\\n    div {\\n        width: 600px;\\n        margin: 5em auto;\\n        padding: 2em;\\n        background-color: #fdfdff;\\n        border-radius: 0.5em;\\n        box-shadow: 2px 3px 7px 2px rgba(0,0,0,0.02);\\n    }\\n    a:link, a:visited {\\n        color: #38488f;\\n        text-decoration: none;\\n    }\\n    @media (max-width: 700px) {\\n        div {\\n            margin: 0 auto;\\n            width: auto;\\n        }\\n    }\\n    </style>    \\n</head>\\n\\n<body>\\n<div>\\n    <h1>Example Domain</h1>\\n    <p>This domain is for use in illustrative examples in documents. You may use this\\n    domain in literature without prior coordination or asking for permission.</p>\\n    <p><a href=\"https://www.iana.org/domains/example\">More information...</a></p>\\n</div>\\n</body>\\n</html>\\n'\n"
     ]
    }
   ],
   "source": [
    "print(f\"Response Contet: \\n{res.content}\")"
   ]
  },
  {
   "cell_type": "code",
   "execution_count": 119,
   "id": "976158f5-280a-4a84-8066-b06a18907009",
   "metadata": {},
   "outputs": [
    {
     "name": "stdout",
     "output_type": "stream",
     "text": [
      "Row Content: \n",
      "\n",
      "<urllib3.response.HTTPResponse object at 0x00000243BB7E2F50>\n",
      "b'\\x1f\\x8b\\x08\\x00\\x00\\x00\\x00\\x00\\x00\\x00}TMs\\xdb'\n"
     ]
    }
   ],
   "source": [
    "print(f\"Row Content: \\n\")\n",
    "r = requests.get(\"https://www.example.com\", stream=True)\n",
    "print(r.raw)\n",
    "print(r.raw.read(15))"
   ]
  },
  {
   "cell_type": "code",
   "execution_count": 120,
   "id": "bdb925f6-d0da-4d35-9561-18e657e8df43",
   "metadata": {},
   "outputs": [
    {
     "name": "stdout",
     "output_type": "stream",
     "text": [
      "['__attrs__', '__bool__', '__class__', '__delattr__', '__dict__', '__dir__', '__doc__', '__enter__', '__eq__', '__exit__', '__format__', '__ge__', '__getattribute__', '__getstate__', '__gt__', '__hash__', '__init__', '__init_subclass__', '__iter__', '__le__', '__lt__', '__module__', '__ne__', '__new__', '__nonzero__', '__reduce__', '__reduce_ex__', '__repr__', '__setattr__', '__setstate__', '__sizeof__', '__str__', '__subclasshook__', '__weakref__', '_content', '_content_consumed', '_next', 'apparent_encoding', 'close', 'connection', 'content', 'cookies', 'elapsed', 'encoding', 'headers', 'history', 'is_permanent_redirect', 'is_redirect', 'iter_content', 'iter_lines', 'json', 'links', 'next', 'ok', 'raise_for_status', 'raw', 'reason', 'request', 'status_code', 'text', 'url']\n"
     ]
    }
   ],
   "source": [
    "print(dir(res))"
   ]
  },
  {
   "cell_type": "code",
   "execution_count": null,
   "id": "ddd79041-6589-472e-80e3-3bd3d8c81e62",
   "metadata": {},
   "outputs": [],
   "source": []
  },
  {
   "cell_type": "markdown",
   "id": "9f67ee39-3480-443f-9c7f-53cfff2936b8",
   "metadata": {},
   "source": [
    "### SQLite3 Database Practices"
   ]
  },
  {
   "cell_type": "markdown",
   "id": "ebe8e188-ab06-4dc4-814f-7b30070cb27c",
   "metadata": {},
   "source": [
    "1. Write a Python program to update all the values of a specific column of a given SQLite table."
   ]
  },
  {
   "cell_type": "code",
   "execution_count": 1,
   "id": "6659280e-c078-41c8-aff1-2ee5cea35d0e",
   "metadata": {},
   "outputs": [],
   "source": [
    "import sqlite3"
   ]
  },
  {
   "cell_type": "code",
   "execution_count": 2,
   "id": "1822de8a-baca-4250-a97e-307630654af9",
   "metadata": {},
   "outputs": [
    {
     "data": {
      "text/plain": [
       "[(1, 'Karan', 21, 'abc20@gmail.com'),\n",
       " (2, 'Aditya', 23, 'abc23@gmail.com'),\n",
       " (3, 'Deep', 21, 'abc21@gmail.com'),\n",
       " (4, 'Pratik', 22, 'abc22@gmail.com')]"
      ]
     },
     "execution_count": 2,
     "metadata": {},
     "output_type": "execute_result"
    }
   ],
   "source": [
    "conn = sqlite3.connect(\"11_example.db\")\n",
    "cursor = conn.cursor()\n",
    "\n",
    "cursor.execute(\"\"\"\n",
    "CREATE TABLE IF NOT EXISTS users (\n",
    "    id INTEGER PRIMARY KEY AUTOINCREMENT,\n",
    "    name TEXT NOT NULL,\n",
    "    age INTEGER,\n",
    "    email TEXT UNIQUE\n",
    ")\n",
    "\"\"\")\n",
    "\n",
    "users = [\n",
    "    (\"Karan\", 21, \"abc20@gmail.com\"),\n",
    "    (\"Aditya\", 23, \"abc23@gmail.com\"),\n",
    "    (\"Deep\", 21, \"abc21@gmail.com\"),\n",
    "    (\"Pratik\", 22, \"abc22@gmail.com\")\n",
    "]\n",
    "\n",
    "cursor.executemany(\"INSERT INTO users (name, age, email) VALUES (?, ?, ?)\", users)\n",
    "\n",
    "conn.commit()\n",
    "\n",
    "cursor.execute(\"SELECt * FROM users\")\n",
    "cursor.fetchall()"
   ]
  },
  {
   "cell_type": "code",
   "execution_count": 3,
   "id": "eb4f4f45-7aa4-47eb-b01a-0c021d8ce6f7",
   "metadata": {},
   "outputs": [],
   "source": [
    "try:\n",
    "    cursor.execute(\"UPDATE users SET name=?, age=?, email=? WHERE name='Karan'\", (\"XYZ\", 21, \"xyz21@gmail.com\"))\n",
    "except:\n",
    "    print(f\"Some error occured while updating\")"
   ]
  },
  {
   "cell_type": "code",
   "execution_count": 4,
   "id": "8edbf3d9-996e-4f01-8d95-af3b4466ad25",
   "metadata": {},
   "outputs": [],
   "source": [
    "conn.commit()"
   ]
  },
  {
   "cell_type": "code",
   "execution_count": 5,
   "id": "24ed963c-9e53-4629-aef1-bd8289d8d616",
   "metadata": {},
   "outputs": [
    {
     "data": {
      "text/plain": [
       "<sqlite3.Cursor at 0x1c6ff96f940>"
      ]
     },
     "execution_count": 5,
     "metadata": {},
     "output_type": "execute_result"
    }
   ],
   "source": [
    "cursor.execute(\"SELECt * FROM users\")"
   ]
  },
  {
   "cell_type": "code",
   "execution_count": 6,
   "id": "5b2e0249-7677-4fbb-837b-59806b0e33e6",
   "metadata": {},
   "outputs": [
    {
     "data": {
      "text/plain": [
       "[(1, 'XYZ', 21, 'xyz21@gmail.com'),\n",
       " (2, 'Aditya', 23, 'abc23@gmail.com'),\n",
       " (3, 'Deep', 21, 'abc21@gmail.com'),\n",
       " (4, 'Pratik', 22, 'abc22@gmail.com')]"
      ]
     },
     "execution_count": 6,
     "metadata": {},
     "output_type": "execute_result"
    }
   ],
   "source": [
    "cursor.fetchall()"
   ]
  },
  {
   "cell_type": "code",
   "execution_count": null,
   "id": "ff9500f9-ce09-4730-8be5-bf0c14171082",
   "metadata": {},
   "outputs": [],
   "source": []
  },
  {
   "cell_type": "code",
   "execution_count": null,
   "id": "9a483b46-c0e0-472a-b805-555c9262cb0c",
   "metadata": {},
   "outputs": [],
   "source": []
  }
 ],
 "metadata": {
  "kernelspec": {
   "display_name": "Python 3 (ipykernel)",
   "language": "python",
   "name": "python3"
  },
  "language_info": {
   "codemirror_mode": {
    "name": "ipython",
    "version": 3
   },
   "file_extension": ".py",
   "mimetype": "text/x-python",
   "name": "python",
   "nbconvert_exporter": "python",
   "pygments_lexer": "ipython3",
   "version": "3.12.7"
  }
 },
 "nbformat": 4,
 "nbformat_minor": 5
}

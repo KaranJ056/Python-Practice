{
 "cells": [
  {
   "cell_type": "markdown",
   "id": "e7840a1b-e9b0-46f7-b5d5-c4a604800b66",
   "metadata": {},
   "source": [
    "### Pyhton Date and Time Exercises"
   ]
  },
  {
   "cell_type": "markdown",
   "id": "c4148ed7-7f69-4507-8cfa-8d4a85845817",
   "metadata": {},
   "source": [
    "### Python Date and Time\n",
    "##### https://www.w3resource.com/python-exercises/date-time-exercise/index.php"
   ]
  },
  {
   "cell_type": "raw",
   "id": "4d18f7f2-e63e-4f0c-9216-9b1cf6bdddf8",
   "metadata": {},
   "source": [
    "1. Write a Python script to display the various Date Time formats -\n",
    "a) Current date and time\n",
    "b) Current year\n",
    "c) Month of year\n",
    "d) Week number of the year\n",
    "e) Weekday of the week\n",
    "f) Day of year\n",
    "g) Day of the month\n",
    "h) Day of week"
   ]
  },
  {
   "cell_type": "code",
   "execution_count": 9,
   "id": "0a5715ad-e2f1-4d6a-8bfa-6f9f99661e41",
   "metadata": {},
   "outputs": [
    {
     "name": "stdout",
     "output_type": "stream",
     "text": [
      "2025-01-24 12:42:37.958539\n",
      "2025\n",
      "1\n",
      "03\n",
      "Fri\n",
      "024\n",
      "24\n",
      "Friday\n"
     ]
    }
   ],
   "source": [
    "from datetime import datetime\n",
    "\n",
    "curr_date = datetime.now()\n",
    "\n",
    "print(curr_date)\n",
    "print(curr_date.year)\n",
    "print(curr_date.month)\n",
    "print(datetime.strftime(curr_date, \"%W\"))\n",
    "print(datetime.strftime(curr_date, \"%a\"))\n",
    "print(datetime.strftime(curr_date, \"%j\"))\n",
    "print(datetime.strftime(curr_date, \"%d\"))\n",
    "print(datetime.strftime(curr_date, \"%A\"))"
   ]
  },
  {
   "cell_type": "code",
   "execution_count": null,
   "id": "b4ab18a8-bec0-4932-abdd-07f7210220fb",
   "metadata": {},
   "outputs": [],
   "source": []
  },
  {
   "cell_type": "raw",
   "id": "5ae91c44-99f8-4029-8482-195304780fcd",
   "metadata": {},
   "source": [
    "2. Write a Python program to convert a Unix timestamp string to a readable date.\n",
    "Sample Unix timestamp string : 1284105682\n",
    "Expected Output : 2010-09-10 13:31:22"
   ]
  },
  {
   "cell_type": "code",
   "execution_count": 15,
   "id": "60d0439e-c6ac-4ace-a9fe-815c0e77ad23",
   "metadata": {},
   "outputs": [
    {
     "name": "stdout",
     "output_type": "stream",
     "text": [
      "2010-09-10 13:31:22\n"
     ]
    }
   ],
   "source": [
    "unix_string = \"1284105682\"\n",
    "\n",
    "print(datetime.fromtimestamp(int(unix_string)).strftime(\"%Y-%m-%d %H:%M:%S\"))"
   ]
  },
  {
   "cell_type": "code",
   "execution_count": null,
   "id": "5914e5b9-ea16-46cb-b72e-949b0a905b01",
   "metadata": {},
   "outputs": [],
   "source": []
  },
  {
   "cell_type": "raw",
   "id": "699fa411-c909-49d3-9d66-4d424707e9e6",
   "metadata": {},
   "source": [
    "3. Python: Get the date of the last Tuesday"
   ]
  },
  {
   "cell_type": "code",
   "execution_count": 27,
   "id": "cda5aef8-a39d-4ef8-a9a8-24f29406d228",
   "metadata": {},
   "outputs": [
    {
     "name": "stdout",
     "output_type": "stream",
     "text": [
      "24\n",
      "Last tuesday was on 2025-01-21\n"
     ]
    }
   ],
   "source": [
    "from datetime import date\n",
    "from datetime import timedelta\n",
    "\n",
    "curr_day = date.today()\n",
    "print(curr_date)\n",
    "\n",
    "offset = (curr_day.weekday() - 1)%7\n",
    "\n",
    "print(f\"Last tuesday was on {curr_day - timedelta(days=offset)}\")"
   ]
  },
  {
   "cell_type": "code",
   "execution_count": null,
   "id": "150ee647-1863-417c-b317-98fa99dc2847",
   "metadata": {},
   "outputs": [],
   "source": []
  },
  {
   "cell_type": "markdown",
   "id": "491f2039-9588-48da-8ac0-3f2deefb182e",
   "metadata": {},
   "source": [
    "### Python Pendulum Module\n",
    "##### https://www.w3resource.com/python-exercises/python_pendulum_module.php"
   ]
  },
  {
   "cell_type": "code",
   "execution_count": 29,
   "id": "234a8b72-6c65-47f5-b326-f27a59d8aa30",
   "metadata": {},
   "outputs": [
    {
     "name": "stdout",
     "output_type": "stream",
     "text": [
      "Collecting pendulum\n",
      "  Downloading pendulum-3.0.0-cp312-none-win_amd64.whl.metadata (7.0 kB)\n",
      "Requirement already satisfied: python-dateutil>=2.6 in c:\\users\\karanjjoshi\\anaconda3\\lib\\site-packages (from pendulum) (2.9.0.post0)\n",
      "Requirement already satisfied: tzdata>=2020.1 in c:\\users\\karanjjoshi\\anaconda3\\lib\\site-packages (from pendulum) (2023.3)\n",
      "Collecting time-machine>=2.6.0 (from pendulum)\n",
      "  Downloading time_machine-2.16.0-cp312-cp312-win_amd64.whl.metadata (21 kB)\n",
      "Requirement already satisfied: six>=1.5 in c:\\users\\karanjjoshi\\anaconda3\\lib\\site-packages (from python-dateutil>=2.6->pendulum) (1.16.0)\n",
      "Downloading pendulum-3.0.0-cp312-none-win_amd64.whl (293 kB)\n",
      "Downloading time_machine-2.16.0-cp312-cp312-win_amd64.whl (19 kB)\n",
      "Installing collected packages: time-machine, pendulum\n",
      "Successfully installed pendulum-3.0.0 time-machine-2.16.0\n",
      "Note: you may need to restart the kernel to use updated packages.\n"
     ]
    }
   ],
   "source": [
    "%pip install pendulum"
   ]
  },
  {
   "cell_type": "code",
   "execution_count": 30,
   "id": "dc3f04d1-c29a-4c94-824e-d0aac7dd55e5",
   "metadata": {},
   "outputs": [],
   "source": [
    "import pendulum"
   ]
  },
  {
   "cell_type": "code",
   "execution_count": 31,
   "id": "66eb27af-5071-4eaf-a85e-faf32890a338",
   "metadata": {},
   "outputs": [
    {
     "data": {
      "text/plain": [
       "DateTime(2025, 1, 24, 13, 38, 1, 987389, tzinfo=Timezone('Asia/Calcutta'))"
      ]
     },
     "execution_count": 31,
     "metadata": {},
     "output_type": "execute_result"
    }
   ],
   "source": [
    "pendulum.now()"
   ]
  },
  {
   "cell_type": "code",
   "execution_count": 33,
   "id": "fe39fd83-0351-44a4-9e76-4e249096c138",
   "metadata": {},
   "outputs": [
    {
     "name": "stdout",
     "output_type": "stream",
     "text": [
      "Tomorrow : \n",
      "2025-01-25 00:00:00+05:30\n"
     ]
    }
   ],
   "source": [
    "print(\"Tomorrow : \")\n",
    "print(pendulum.today().add(days=1))"
   ]
  },
  {
   "cell_type": "code",
   "execution_count": null,
   "id": "b96df90d-7c58-4e8a-a1a0-85b81c406c96",
   "metadata": {},
   "outputs": [],
   "source": []
  },
  {
   "cell_type": "raw",
   "id": "f0a3c15a-316c-406f-b823-0829e55350f0",
   "metadata": {},
   "source": [
    "Time Until Next Weekend:\n",
    "\n",
    "1. Write a Python program to calculate and print the amount of time until the next Saturday using Pendulum module."
   ]
  },
  {
   "cell_type": "code",
   "execution_count": 50,
   "id": "4c602666-df1d-4054-8943-863699379102",
   "metadata": {},
   "outputs": [],
   "source": [
    "import pendulum\n",
    "\n",
    "def time_until_next_weekend():\n",
    "    # curr_day = pendulum.now().weekday()\n",
    "    curr_day = pendulum.parse(\"2025-01-25\").weekday()\n",
    "    if curr_day < 5: time_till_next_weekend = 5 - curr_day\n",
    "    else: time_till_next_weekend = 7\n",
    "    print(f\"Time untill next weekend : {time_till_next_weekend} days\")"
   ]
  },
  {
   "cell_type": "code",
   "execution_count": 51,
   "id": "27e5bf9e-bb27-48ec-ac79-614b69206128",
   "metadata": {},
   "outputs": [
    {
     "name": "stdout",
     "output_type": "stream",
     "text": [
      "Time untill next weekend : 7 days\n"
     ]
    }
   ],
   "source": [
    "time_until_next_weekend()"
   ]
  },
  {
   "cell_type": "code",
   "execution_count": null,
   "id": "a3059a34-6c02-4c3d-b699-a0a24ba0e2f8",
   "metadata": {},
   "outputs": [],
   "source": []
  },
  {
   "cell_type": "raw",
   "id": "065cb643-7793-4ff1-a46d-7c785bd3d849",
   "metadata": {},
   "source": [
    "2. Write a Python program to calculate and print the amount of time until midnight from the current time using Pendulum module."
   ]
  },
  {
   "cell_type": "code",
   "execution_count": 54,
   "id": "00b27408-bbca-4230-8ad6-eaf31a49bbea",
   "metadata": {},
   "outputs": [],
   "source": [
    "def time_till_midnight():\n",
    "    curr_datetime = pendulum.now()\n",
    "    print(f\"Time till midnight form now : {curr_datetime.end_of('day').diff(curr_datetime).in_words()}\")"
   ]
  },
  {
   "cell_type": "code",
   "execution_count": 55,
   "id": "59edd4fe-7259-42a4-ac7b-a632772c0a9f",
   "metadata": {},
   "outputs": [
    {
     "name": "stdout",
     "output_type": "stream",
     "text": [
      "Time till midnight form now : 10 hours 1 minute 2 seconds\n"
     ]
    }
   ],
   "source": [
    "time_till_midnight()"
   ]
  },
  {
   "cell_type": "code",
   "execution_count": null,
   "id": "3251724b-6e9e-4994-a3e7-84193e705736",
   "metadata": {},
   "outputs": [],
   "source": []
  }
 ],
 "metadata": {
  "kernelspec": {
   "display_name": "Python 3 (ipykernel)",
   "language": "python",
   "name": "python3"
  },
  "language_info": {
   "codemirror_mode": {
    "name": "ipython",
    "version": 3
   },
   "file_extension": ".py",
   "mimetype": "text/x-python",
   "name": "python",
   "nbconvert_exporter": "python",
   "pygments_lexer": "ipython3",
   "version": "3.12.7"
  }
 },
 "nbformat": 4,
 "nbformat_minor": 5
}

{
 "cells": [
  {
   "cell_type": "markdown",
   "id": "07e39e85-c7d4-47d0-bde4-f6b9b57624b2",
   "metadata": {},
   "source": [
    "### Pyhton Programming Puzzels\n",
    "\n",
    "##### https://www.w3resource.com/python-exercises/puzzles/index.php"
   ]
  },
  {
   "cell_type": "markdown",
   "id": "1f76c5af-1725-49ac-b307-6dedec53b65b",
   "metadata": {},
   "source": [
    "<code>\n",
    "1. Check Nineteen and Five Occurrences\n",
    "\n",
    "Write a Python program to find a list of integers with exactly two occurrences of nineteen and at least three occurrences of five. Return True otherwise False.\n",
    "Input:\n",
    "[19, 19, 15, 5, 3, 5, 5, 2]\n",
    "Output:\n",
    "True\n",
    "Input:\n",
    "[19, 15, 15, 5, 3, 3, 5, 2]\n",
    "Output:\n",
    "False\n",
    "</code>"
   ]
  },
  {
   "cell_type": "code",
   "execution_count": 14,
   "id": "bf337efe-40f7-4c8c-b142-756dca8be5c2",
   "metadata": {},
   "outputs": [],
   "source": [
    "def check_1(lst):\n",
    "    # count_19 = 0\n",
    "    # count_5 = 0\n",
    "    # for num in lst:\n",
    "    #     if num == 19:\n",
    "    #         count_19 += 1\n",
    "    #     if num == 5:\n",
    "    #         count_5 += 1\n",
    "    # return count_19 == 2 and count_5 >= 3\n",
    "\n",
    "    # or else simply do following\n",
    "    return lst.count(19) == 2 and lst.count(5) >= 3"
   ]
  },
  {
   "cell_type": "code",
   "execution_count": 15,
   "id": "2fef841d-7b71-4c19-a2f1-97ad91d168a0",
   "metadata": {},
   "outputs": [
    {
     "data": {
      "text/plain": [
       "True"
      ]
     },
     "execution_count": 15,
     "metadata": {},
     "output_type": "execute_result"
    }
   ],
   "source": [
    "check_1([19, 19, 15, 5, 3, 5, 5, 2])"
   ]
  },
  {
   "cell_type": "code",
   "execution_count": 16,
   "id": "90f085b2-0200-443b-835d-396a284b927f",
   "metadata": {},
   "outputs": [
    {
     "data": {
      "text/plain": [
       "False"
      ]
     },
     "execution_count": 16,
     "metadata": {},
     "output_type": "execute_result"
    }
   ],
   "source": [
    "check_1([19, 15, 15, 5, 3, 3, 5, 2])"
   ]
  },
  {
   "cell_type": "code",
   "execution_count": null,
   "id": "5735c7da-494e-4881-a7a5-978f747b6a48",
   "metadata": {},
   "outputs": [],
   "source": []
  },
  {
   "cell_type": "markdown",
   "id": "66fddb7b-6586-4883-b5d3-b102e778e53b",
   "metadata": {},
   "source": [
    "<code>\n",
    "8. Split String into Words and Separators\n",
    "\n",
    "Write a Python program to split a string of words separated by commas and spaces into two lists, words and separators.\n",
    "Input: W3resource Python, Exercises.\n",
    "Output:\n",
    "[['W3resource', 'Python', 'Exercises.'], [' ', ', ']]\n",
    "Input: The dance, held in the school gym, ended at midnight.\n",
    "Output:\n",
    "[['The', 'dance', 'held', 'in', 'the', 'school', 'gym', 'ended', 'at', 'midnight.'], [' ', ', ', ' ', ' ', ' ', ' ', ', ', ' ', ' ']]\n",
    "</code>"
   ]
  },
  {
   "cell_type": "code",
   "execution_count": 70,
   "id": "1f4fd133-216f-42fc-b3b9-3fefba47d9ef",
   "metadata": {},
   "outputs": [],
   "source": [
    "import re\n",
    "def split_string(txt):\n",
    "    pattern = r\"([ ,]+)\"\n",
    "    merged = re.split(pattern, txt)\n",
    "    return (merged[::2], merged[1::2])"
   ]
  },
  {
   "cell_type": "code",
   "execution_count": 71,
   "id": "aead7b9a-b76b-4082-b923-2d32722695fe",
   "metadata": {},
   "outputs": [
    {
     "data": {
      "text/plain": [
       "(['W3resource', 'Python', 'Exercises.'], [' ', ', '])"
      ]
     },
     "execution_count": 71,
     "metadata": {},
     "output_type": "execute_result"
    }
   ],
   "source": [
    "split_string(\"W3resource Python, Exercises.\")"
   ]
  },
  {
   "cell_type": "code",
   "execution_count": null,
   "id": "6da19fa1-d0fd-44b2-80ce-03cf4bc8ba37",
   "metadata": {},
   "outputs": [],
   "source": []
  }
 ],
 "metadata": {
  "kernelspec": {
   "display_name": "Python 3 (ipykernel)",
   "language": "python",
   "name": "python3"
  },
  "language_info": {
   "codemirror_mode": {
    "name": "ipython",
    "version": 3
   },
   "file_extension": ".py",
   "mimetype": "text/x-python",
   "name": "python",
   "nbconvert_exporter": "python",
   "pygments_lexer": "ipython3",
   "version": "3.12.7"
  }
 },
 "nbformat": 4,
 "nbformat_minor": 5
}

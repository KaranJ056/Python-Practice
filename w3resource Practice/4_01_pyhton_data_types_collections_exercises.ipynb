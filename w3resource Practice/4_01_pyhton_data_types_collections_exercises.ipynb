{
 "cells": [
  {
   "cell_type": "markdown",
   "id": "1b74e8db-cd3b-4fb0-9e20-ddc0f9d8b5e1",
   "metadata": {},
   "source": [
    "### Collections Exercises\n",
    "##### https://www.w3resource.com/python-exercises/collections/index.php"
   ]
  },
  {
   "cell_type": "raw",
   "id": "d9a84442-8ee3-4c91-abbd-31de423ac1f3",
   "metadata": {},
   "source": [
    "1. Write a Python program to find the occurrences of the 10 most common words in a given text.\n",
    "Sample Output:\n",
    "[('Python', 6), ('the', 6), ('and', 5), ('We', 2), ('with', 2), ('The', 1), ('Software', 1), ('Foundation', 1), ('PSF', 1), ('is', 1)]"
   ]
  },
  {
   "cell_type": "code",
   "execution_count": 19,
   "id": "f135660e-acfd-46e3-a616-eebc8455ad7e",
   "metadata": {},
   "outputs": [],
   "source": [
    "from collections import Counter\n",
    "import re\n",
    "\n",
    "def find_10_common_occurences(txt):\n",
    "    words_list = re.split(r\"[\\s\\.,]+\", txt)\n",
    "    words_cnt = Counter(words_list)\n",
    "    return words_cnt.most_common(10)"
   ]
  },
  {
   "cell_type": "code",
   "execution_count": 20,
   "id": "6545ddac-dd44-45fe-be51-635329712bc9",
   "metadata": {},
   "outputs": [],
   "source": [
    "txt = \"\"\"The Python Software Foundation (PSF) is a 501(c)(3) non-profit \n",
    "corporation that holds the intellectual property rights behind\n",
    "the Python programming language. We manage the open source licensing \n",
    "for Python version 2.1 and later and own and protect the trademarks \n",
    "associated with Python. We also run the North American PyCon conference \n",
    "annually, support other Python conferences around the world, and \n",
    "fund Python related development with our grants program and by funding \n",
    "special projects.\"\"\""
   ]
  },
  {
   "cell_type": "code",
   "execution_count": 21,
   "id": "f388f015-2c63-47cd-9ca1-83653ffd9a7e",
   "metadata": {},
   "outputs": [
    {
     "data": {
      "text/plain": [
       "[('Python', 6),\n",
       " ('the', 6),\n",
       " ('and', 5),\n",
       " ('We', 2),\n",
       " ('with', 2),\n",
       " ('The', 1),\n",
       " ('Software', 1),\n",
       " ('Foundation', 1),\n",
       " ('(PSF)', 1),\n",
       " ('is', 1)]"
      ]
     },
     "execution_count": 21,
     "metadata": {},
     "output_type": "execute_result"
    }
   ],
   "source": [
    "find_10_common_occurences(txt)"
   ]
  },
  {
   "cell_type": "code",
   "execution_count": null,
   "id": "211789fa-ac94-40f8-8f19-d2680cf72872",
   "metadata": {},
   "outputs": [],
   "source": []
  },
  {
   "cell_type": "raw",
   "id": "573a832b-b13f-4d83-8778-4e1c30904a02",
   "metadata": {},
   "source": [
    "2. Write a Python program to find the most common elements and their counts in a specified text.\n",
    "Original string: lkseropewdssafsdfafkpwe\n",
    "Most common three characters of the said string:\n",
    "[('s', 4), ('e', 3), ('f', 3)]"
   ]
  },
  {
   "cell_type": "code",
   "execution_count": 24,
   "id": "85695a4a-baad-4f9d-841d-57dde80310fa",
   "metadata": {},
   "outputs": [],
   "source": [
    "def find_most_common(txt):\n",
    "    letter_cnt = Counter(txt)\n",
    "    return letter_cnt.most_common()[:3]"
   ]
  },
  {
   "cell_type": "code",
   "execution_count": 25,
   "id": "a09d27c2-7fdd-4406-8b96-64cd4047f74a",
   "metadata": {},
   "outputs": [
    {
     "data": {
      "text/plain": [
       "[('s', 4), ('e', 3), ('f', 3)]"
      ]
     },
     "execution_count": 25,
     "metadata": {},
     "output_type": "execute_result"
    }
   ],
   "source": [
    "find_most_common(\"lkseropewdssafsdfafkpwe\")"
   ]
  },
  {
   "cell_type": "code",
   "execution_count": null,
   "id": "5b17d0df-262b-4402-bbfe-59f1fa368783",
   "metadata": {},
   "outputs": [],
   "source": []
  }
 ],
 "metadata": {
  "kernelspec": {
   "display_name": "Python 3 (ipykernel)",
   "language": "python",
   "name": "python3"
  },
  "language_info": {
   "codemirror_mode": {
    "name": "ipython",
    "version": 3
   },
   "file_extension": ".py",
   "mimetype": "text/x-python",
   "name": "python",
   "nbconvert_exporter": "python",
   "pygments_lexer": "ipython3",
   "version": "3.12.7"
  }
 },
 "nbformat": 4,
 "nbformat_minor": 5
}

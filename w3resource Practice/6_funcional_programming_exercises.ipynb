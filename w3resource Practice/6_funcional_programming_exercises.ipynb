{
 "cells": [
  {
   "cell_type": "markdown",
   "id": "b2ce4dd9-55be-4c1e-adad-63265181058a",
   "metadata": {},
   "source": [
    "## Functional Programming Exercises"
   ]
  },
  {
   "cell_type": "markdown",
   "id": "f8c57d3b-031f-424a-985a-a772a2e023db",
   "metadata": {},
   "source": [
    "### Functions\n",
    "##### https://www.w3resource.com/python-exercises/python-functions-exercises.php"
   ]
  },
  {
   "cell_type": "markdown",
   "id": "56932455-183f-4d7c-958a-cbf813918d02",
   "metadata": {},
   "source": [
    "<code>\n",
    "1. Write a Python function that prints out the first n rows of Pascal's triangle.\n",
    "Note : Pascal's triangle is an arithmetic and geometric figure first imagined by Blaise Pascal.\n",
    "<code>"
   ]
  },
  {
   "cell_type": "code",
   "execution_count": 4,
   "id": "9e3af3ff-80e8-4382-8d7e-d10e138de446",
   "metadata": {},
   "outputs": [],
   "source": [
    "def print_pascals_triangle(num):\n",
    "    if num<=0:\n",
    "        print(f\"Row num can not be zero\")\n",
    "        return\n",
    "    triangle = []\n",
    "    for i in range(num):\n",
    "        row = [1]*(i+1)\n",
    "        for j in range(1, i):\n",
    "            row[j] = triangle[i-1][j-1] + triangle[i-1][j]\n",
    "        triangle.append(row)\n",
    "    for row in triangle:\n",
    "        print(row)"
   ]
  },
  {
   "cell_type": "code",
   "execution_count": 5,
   "id": "3065a6ac-1fc1-4845-9924-75bfa57e971a",
   "metadata": {},
   "outputs": [
    {
     "name": "stdout",
     "output_type": "stream",
     "text": [
      "[1]\n",
      "[1, 1]\n",
      "[1, 2, 1]\n",
      "[1, 3, 3, 1]\n",
      "[1, 4, 6, 4, 1]\n"
     ]
    }
   ],
   "source": [
    "print_pascals_triangle(5)"
   ]
  },
  {
   "cell_type": "code",
   "execution_count": null,
   "id": "d4d6b08a-8571-4d8a-8955-7f1a61eac05e",
   "metadata": {},
   "outputs": [],
   "source": []
  },
  {
   "cell_type": "markdown",
   "id": "ad8f80d0-7f43-4e5f-9ad7-235dc2b6ef48",
   "metadata": {},
   "source": [
    "### Lambda Functions\n",
    "##### https://www.w3resource.com/python-exercises/lambda/index.php"
   ]
  },
  {
   "cell_type": "markdown",
   "id": "119c6a04-6bdf-4f45-9deb-81c49d9ac64f",
   "metadata": {},
   "source": [
    "<code>\n",
    "1. Write a Python program to create a function that takes one argument, and that argument will be multiplied with an unknown given number.\n",
    "Sample Output:\n",
    "Double the number of 15 = 30\n",
    "Triple the number of 15 = 45\n",
    "Quadruple the number of 15 = 60\n",
    "Quintuple the number 15 = 75\n",
    "<code>"
   ]
  },
  {
   "cell_type": "code",
   "execution_count": 25,
   "id": "13ac36d7-b921-4d52-87c9-bd45fa50a147",
   "metadata": {},
   "outputs": [],
   "source": [
    "from random import randint\n",
    "\n",
    "def mul_with_random_num(num):\n",
    "    random_num = randint(1, 21)\n",
    "    print(f\"{random_num} times {num} = {num*random_num}\")\n",
    "\n",
    "# 2nd way\n",
    "def mul_with_random_num2(num):\n",
    "    return lambda x: x*num\n",
    "\n",
    "result = mul_with_random_num2(2)"
   ]
  },
  {
   "cell_type": "code",
   "execution_count": 24,
   "id": "1d40bf20-badb-43b5-b091-35c4ac9f6f06",
   "metadata": {},
   "outputs": [
    {
     "name": "stdout",
     "output_type": "stream",
     "text": [
      "12 times 15 = 180\n"
     ]
    }
   ],
   "source": [
    "mul_with_random_num(15)"
   ]
  },
  {
   "cell_type": "code",
   "execution_count": 27,
   "id": "f7660590-c55f-4aeb-853c-f03ec982e011",
   "metadata": {},
   "outputs": [
    {
     "name": "stdout",
     "output_type": "stream",
     "text": [
      "Double of 15 is 30\n"
     ]
    }
   ],
   "source": [
    "print(f\"Double of 15 is {result(15)}\")"
   ]
  },
  {
   "cell_type": "code",
   "execution_count": null,
   "id": "55bf445e-cd71-4220-afb4-ab05d6b9e736",
   "metadata": {},
   "outputs": [],
   "source": []
  },
  {
   "cell_type": "markdown",
   "id": "89855d07-d5a4-4849-a667-c0e88304af42",
   "metadata": {},
   "source": [
    "<code>\n",
    "2. Write a Python program to find a list with maximum and minimum length using lambda.\n",
    "Original list:\n",
    "[[0], [1, 3], [5, 7], [9, 11], [13, 15, 17]]\n",
    "List with maximum length of lists:\n",
    "(3, [13, 15, 17])\n",
    "List with minimum length of lists:\n",
    "(1, [0])\n",
    "<code>"
   ]
  },
  {
   "cell_type": "code",
   "execution_count": 34,
   "id": "d62ef8c6-e38f-4c86-ae40-b0057f0db444",
   "metadata": {},
   "outputs": [],
   "source": [
    "def max_len_list(lst):\n",
    "    max_list = max(lst, key=lambda i: len(i))\n",
    "    return (len(max_list), max_list)\n",
    "\n",
    "def min_len_list(lst):\n",
    "    min_list = min(lst, key=lambda i: len(i))\n",
    "    return (len(min_list), min_list)"
   ]
  },
  {
   "cell_type": "code",
   "execution_count": 37,
   "id": "88d36e12-0f76-40d0-830e-aa022e4ec41e",
   "metadata": {},
   "outputs": [
    {
     "name": "stdout",
     "output_type": "stream",
     "text": [
      "Max length element and its length is\n",
      "(3, [13, 15, 17])\n",
      "Min length element and its length is\n",
      "(1, [0])\n"
     ]
    }
   ],
   "source": [
    "lst = [[0], [1, 3], [5, 7], [9, 11], [13, 15, 17]]\n",
    "\n",
    "print(f\"Max length element and its length is\")\n",
    "print(f\"{max_len_list(lst)}\")\n",
    "\n",
    "print(f\"Min length element and its length is\")\n",
    "print(f\"{min_len_list(lst)}\")"
   ]
  },
  {
   "cell_type": "code",
   "execution_count": null,
   "id": "8920eae7-9dee-4e64-b81a-175af0b4d859",
   "metadata": {},
   "outputs": [],
   "source": []
  },
  {
   "cell_type": "markdown",
   "id": "0b55a669-474d-44e9-88e5-dacb9554e7d6",
   "metadata": {},
   "source": [
    "### Map Exercises\n",
    "##### https://www.w3resource.com/python-exercises/map/index.php"
   ]
  },
  {
   "cell_type": "markdown",
   "id": "05ff0033-8ad0-4f0c-b690-a58d340c0208",
   "metadata": {},
   "source": [
    "1. Write a Python program to convert a given list of integers and a tuple of integers in a list of strings."
   ]
  },
  {
   "cell_type": "code",
   "execution_count": 7,
   "id": "7a5ffbb8-f50c-4da5-ac19-b81378bd4caf",
   "metadata": {},
   "outputs": [
    {
     "name": "stdout",
     "output_type": "stream",
     "text": [
      "['1', '2', '3', '4', '5', '6']\n",
      "('1.2', '3.4', '5.6')\n",
      "\n",
      "['1', '2', '3', '4', '5', '6']\n",
      "('1.2', '3.4', '5.6')\n"
     ]
    }
   ],
   "source": [
    "lst = [1, 2, 3, 4, 5, 6]\n",
    "tup = (1.2, 3.4, 5.6)\n",
    "\n",
    "print(list(map(lambda x: str(x), lst)))\n",
    "print(tuple(map(lambda x: str(x), tup)))\n",
    "\n",
    "print()\n",
    "# instead do following\n",
    "print(list(map(str, lst)))\n",
    "print(tuple(map(str, tup)))"
   ]
  },
  {
   "cell_type": "code",
   "execution_count": null,
   "id": "c58ca0ce-093a-4304-9dc3-4b7cc5173010",
   "metadata": {},
   "outputs": [],
   "source": []
  },
  {
   "cell_type": "markdown",
   "id": "b4ec49a2-2bb5-4019-a91f-fd125009c3b6",
   "metadata": {},
   "source": [
    "2. Python: Convert a given list of tuples to a list of strings using map function"
   ]
  },
  {
   "cell_type": "code",
   "execution_count": 18,
   "id": "485e6778-b938-46eb-b80f-b665889835cf",
   "metadata": {},
   "outputs": [],
   "source": [
    "lst_of_tuples = [('red', 'pink'), ('white', 'black'), ('orange', 'green')]\n",
    "\n",
    "to_string = lambda tup: f\"{tup[0]} {tup[1]}\"\n",
    "\n",
    "def convert_list_of_tuples_to_string(lst):\n",
    "    # return list(map(to_string, lst))\n",
    "    return list(map(\" \".join, lst))"
   ]
  },
  {
   "cell_type": "code",
   "execution_count": 19,
   "id": "eb1d852c-272f-48de-bd51-5d448871a97d",
   "metadata": {},
   "outputs": [
    {
     "data": {
      "text/plain": [
       "['red pink', 'white black', 'orange green']"
      ]
     },
     "execution_count": 19,
     "metadata": {},
     "output_type": "execute_result"
    }
   ],
   "source": [
    "convert_list_of_tuples_to_string(lst_of_tuples)"
   ]
  },
  {
   "cell_type": "code",
   "execution_count": 20,
   "id": "71cfd17d-034a-4521-87b9-a9395df526ab",
   "metadata": {},
   "outputs": [
    {
     "data": {
      "text/plain": [
       "'red pink'"
      ]
     },
     "execution_count": 20,
     "metadata": {},
     "output_type": "execute_result"
    }
   ],
   "source": [
    "\" \".join(('red', 'pink'))"
   ]
  },
  {
   "cell_type": "code",
   "execution_count": null,
   "id": "d0b403bc-78ef-4b72-b4de-b712da67156b",
   "metadata": {},
   "outputs": [],
   "source": []
  },
  {
   "cell_type": "raw",
   "id": "3deae6e9-72a7-49d0-947f-eb51df9cbf81",
   "metadata": {},
   "source": [
    "3. Python: Convert a given list of strings into list of lists using map function"
   ]
  },
  {
   "cell_type": "code",
   "execution_count": 25,
   "id": "5e21a46b-7c1b-489b-81aa-5d3078c33c52",
   "metadata": {},
   "outputs": [],
   "source": [
    "lst = ['Red', 'Green', 'Black', 'Orange']\n",
    "\n",
    "def str_to_list(lst):\n",
    "    return list(map(list, lst))"
   ]
  },
  {
   "cell_type": "code",
   "execution_count": 26,
   "id": "08d55415-16c8-4280-88a0-ff702e6529e4",
   "metadata": {},
   "outputs": [
    {
     "data": {
      "text/plain": [
       "[['R', 'e', 'd'],\n",
       " ['G', 'r', 'e', 'e', 'n'],\n",
       " ['B', 'l', 'a', 'c', 'k'],\n",
       " ['O', 'r', 'a', 'n', 'g', 'e']]"
      ]
     },
     "execution_count": 26,
     "metadata": {},
     "output_type": "execute_result"
    }
   ],
   "source": [
    "str_to_list(lst)"
   ]
  },
  {
   "cell_type": "code",
   "execution_count": null,
   "id": "0a0d339c-74b9-4bfe-9035-c7cb3d203386",
   "metadata": {},
   "outputs": [],
   "source": []
  },
  {
   "cell_type": "markdown",
   "id": "533c6380-18dc-4372-bd68-245a2f727af1",
   "metadata": {},
   "source": [
    "### Itertools\n",
    "##### https://www.w3resource.com/python-exercises/itertools/index.php"
   ]
  },
  {
   "cell_type": "markdown",
   "id": "4037adc0-e33a-424f-a0ce-78cfc19674f4",
   "metadata": {},
   "source": [
    "1. Write a Python program to count the frequency of the elements of a given unordered list."
   ]
  },
  {
   "cell_type": "code",
   "execution_count": 34,
   "id": "0dc1eec2-997a-4c3c-97e5-b8f5a72119bb",
   "metadata": {},
   "outputs": [
    {
     "name": "stdout",
     "output_type": "stream",
     "text": [
      "{1: 3, 2: 1, 3: 1, 6: 1, 9: 1, 10: 2, 11: 1}\n"
     ]
    }
   ],
   "source": [
    "from itertools import groupby\n",
    "\n",
    "lst = [1, 2, 1, 6, 3, 9, 1, 10, 11, 10]\n",
    "lst.sort()\n",
    "grouped_list = groupby(lst,)\n",
    "freq_dict = {key:len(list(group)) for key, group in grouped_list}\n",
    "print(freq_dict)"
   ]
  },
  {
   "cell_type": "code",
   "execution_count": null,
   "id": "0521524e-f84a-4951-bc6c-f0fd603104f6",
   "metadata": {},
   "outputs": [],
   "source": []
  },
  {
   "cell_type": "markdown",
   "id": "8e03ccb2-edec-46f4-9d97-09e4bfa88d8f",
   "metadata": {},
   "source": [
    "2. Write a Python program to extract a non-zero block from a given integer list."
   ]
  },
  {
   "cell_type": "code",
   "execution_count": 46,
   "id": "a13461df-e2be-454f-8db0-b4bffa71d5d6",
   "metadata": {},
   "outputs": [],
   "source": [
    "lst = [3,4,6,2,0,0,0,0,0,0,6,7,6,9,10,0,0,0,0,0,7,4,4,0,0,0,0,0,0,5,3,2,9,7,1]\n",
    "\n",
    "def extract_non_zeros(lst):\n",
    "    return [list(x[1]) for x in groupby(lst, lambda x: x == 0) if not x[0]]\n",
    "\n",
    "def extract_non_zeros_2(lst):\n",
    "    return list(filter(lambda x: x!= 0, lst))"
   ]
  },
  {
   "cell_type": "code",
   "execution_count": 49,
   "id": "0d6b9e2d-a958-4ecb-b334-8bf559468c8c",
   "metadata": {},
   "outputs": [
    {
     "data": {
      "text/plain": [
       "[[3, 4, 6, 2], [6, 7, 6, 9, 10], [7, 4, 4], [5, 3, 2, 9, 7, 1]]"
      ]
     },
     "execution_count": 49,
     "metadata": {},
     "output_type": "execute_result"
    }
   ],
   "source": [
    "extract_non_zeros(lst)"
   ]
  },
  {
   "cell_type": "code",
   "execution_count": 50,
   "id": "ac3f98ba-c789-452d-a647-7828fc7fc3f9",
   "metadata": {},
   "outputs": [
    {
     "data": {
      "text/plain": [
       "[3, 4, 6, 2, 6, 7, 6, 9, 10, 7, 4, 4, 5, 3, 2, 9, 7, 1]"
      ]
     },
     "execution_count": 50,
     "metadata": {},
     "output_type": "execute_result"
    }
   ],
   "source": [
    "extract_non_zeros_2(lst)"
   ]
  },
  {
   "cell_type": "code",
   "execution_count": null,
   "id": "0e2baa01-7370-4516-88d3-d119c5079f1d",
   "metadata": {},
   "outputs": [],
   "source": []
  },
  {
   "cell_type": "markdown",
   "id": "505cbc7a-8970-45f4-b6cc-bb04c51f73ee",
   "metadata": {},
   "source": [
    "### Filter\n",
    "##### https://www.w3resource.com/python-exercises/filter/index.php"
   ]
  },
  {
   "cell_type": "markdown",
   "id": "6d5fd466-37e0-4774-a8e2-beefc0a80af4",
   "metadata": {},
   "source": [
    "1. Write a Python program that creates a list of tuples, each containing a city name and its population. Use the filter function to extract cities with a population greater than 2 million."
   ]
  },
  {
   "cell_type": "code",
   "execution_count": 57,
   "id": "5044c063-e4ac-42ab-aa30-09934a74e7ee",
   "metadata": {},
   "outputs": [
    {
     "data": {
      "text/plain": [
       "[('Surat', 2500123), ('Vadodara', 3345134)]"
      ]
     },
     "execution_count": 57,
     "metadata": {},
     "output_type": "execute_result"
    }
   ],
   "source": [
    "city_with_population = zip([\"Surat\", \"Ahmedabad\", \"Vadodara\", \"Bhuj\"], [ 2500123,1341234,3345134,145141])\n",
    "list(filter(lambda x: x[1] > 2000000, city_with_population))"
   ]
  },
  {
   "cell_type": "code",
   "execution_count": null,
   "id": "1d873230-7742-45ba-adfd-eb9009c4a9e9",
   "metadata": {},
   "outputs": [],
   "source": []
  },
  {
   "cell_type": "markdown",
   "id": "3e0f8cb8-d40b-494b-9c98-7e381339a6a3",
   "metadata": {},
   "source": [
    "2. Write a Python program that implements a Python program that filters out dates (in the format \"YYYY-MM-DD\") that are in the future using the filter function."
   ]
  },
  {
   "cell_type": "code",
   "execution_count": 76,
   "id": "0a7d18ad-c48c-4aff-bbc9-cfe43c22ab71",
   "metadata": {},
   "outputs": [],
   "source": [
    "from datetime import datetime\n",
    "\n",
    "dates_list = ['2023-07-11', '2022-02-22', '2024-05-11', '2025-12-31', '2021-01-01']\n",
    "\n",
    "def extract_future_dates_list(lst):\n",
    "    dates = [datetime.strptime(date, \"%Y-%m-%d\") for date in lst]\n",
    "    current_date = datetime.now()\n",
    "    dates = (list(filter(lambda date: date > current_date, dates)))\n",
    "    return list(map(lambda date: datetime.strftime(date, \"%Y-%m-%d\"), dates))"
   ]
  },
  {
   "cell_type": "code",
   "execution_count": 77,
   "id": "8415ba52-deed-4cc9-a6c5-a5fa4b8502e3",
   "metadata": {},
   "outputs": [
    {
     "data": {
      "text/plain": [
       "['2025-12-31']"
      ]
     },
     "execution_count": 77,
     "metadata": {},
     "output_type": "execute_result"
    }
   ],
   "source": [
    "extract_future_dates_list(dates_list)"
   ]
  },
  {
   "cell_type": "code",
   "execution_count": null,
   "id": "de376260-3fca-44bd-b0b9-2abe381a877c",
   "metadata": {},
   "outputs": [],
   "source": []
  },
  {
   "cell_type": "code",
   "execution_count": null,
   "id": "7a21e1dc-a20b-42c9-89bc-0d02f432f360",
   "metadata": {},
   "outputs": [],
   "source": []
  }
 ],
 "metadata": {
  "kernelspec": {
   "display_name": "Python 3 (ipykernel)",
   "language": "python",
   "name": "python3"
  },
  "language_info": {
   "codemirror_mode": {
    "name": "ipython",
    "version": 3
   },
   "file_extension": ".py",
   "mimetype": "text/x-python",
   "name": "python",
   "nbconvert_exporter": "python",
   "pygments_lexer": "ipython3",
   "version": "3.12.7"
  }
 },
 "nbformat": 4,
 "nbformat_minor": 5
}

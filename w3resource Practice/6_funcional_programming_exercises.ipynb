{
 "cells": [
  {
   "cell_type": "markdown",
   "id": "b2ce4dd9-55be-4c1e-adad-63265181058a",
   "metadata": {},
   "source": [
    "## Functional Programming Exercises"
   ]
  },
  {
   "cell_type": "markdown",
   "id": "f8c57d3b-031f-424a-985a-a772a2e023db",
   "metadata": {},
   "source": [
    "### Functions\n",
    "##### https://www.w3resource.com/python-exercises/python-functions-exercises.php"
   ]
  },
  {
   "cell_type": "raw",
   "id": "d0068907-3fed-4858-ba3b-51ba398ba29f",
   "metadata": {},
   "source": [
    "1. Write a Python function that prints out the first n rows of Pascal's triangle.\n",
    "Note : Pascal's triangle is an arithmetic and geometric figure first imagined by Blaise Pascal."
   ]
  },
  {
   "cell_type": "code",
   "execution_count": 4,
   "id": "9e3af3ff-80e8-4382-8d7e-d10e138de446",
   "metadata": {},
   "outputs": [],
   "source": [
    "def print_pascals_triangle(num):\n",
    "    if num<=0:\n",
    "        print(f\"Row num can not be zero\")\n",
    "        return\n",
    "    triangle = []\n",
    "    for i in range(num):\n",
    "        row = [1]*(i+1)\n",
    "        for j in range(1, i):\n",
    "            row[j] = triangle[i-1][j-1] + triangle[i-1][j]\n",
    "        triangle.append(row)\n",
    "    for row in triangle:\n",
    "        print(row)"
   ]
  },
  {
   "cell_type": "code",
   "execution_count": 5,
   "id": "3065a6ac-1fc1-4845-9924-75bfa57e971a",
   "metadata": {},
   "outputs": [
    {
     "name": "stdout",
     "output_type": "stream",
     "text": [
      "[1]\n",
      "[1, 1]\n",
      "[1, 2, 1]\n",
      "[1, 3, 3, 1]\n",
      "[1, 4, 6, 4, 1]\n"
     ]
    }
   ],
   "source": [
    "print_pascals_triangle(5)"
   ]
  },
  {
   "cell_type": "code",
   "execution_count": null,
   "id": "d4d6b08a-8571-4d8a-8955-7f1a61eac05e",
   "metadata": {},
   "outputs": [],
   "source": []
  },
  {
   "cell_type": "markdown",
   "id": "ad8f80d0-7f43-4e5f-9ad7-235dc2b6ef48",
   "metadata": {},
   "source": [
    "### Lambda Functions\n",
    "##### https://www.w3resource.com/python-exercises/lambda/index.php"
   ]
  },
  {
   "cell_type": "raw",
   "id": "f6074585-03df-4802-b730-377cd5fb1999",
   "metadata": {},
   "source": [
    "1. Write a Python program to create a function that takes one argument, and that argument will be multiplied with an unknown given number.\n",
    "Sample Output:\n",
    "Double the number of 15 = 30\n",
    "Triple the number of 15 = 45\n",
    "Quadruple the number of 15 = 60\n",
    "Quintuple the number 15 = 75"
   ]
  },
  {
   "cell_type": "code",
   "execution_count": 25,
   "id": "13ac36d7-b921-4d52-87c9-bd45fa50a147",
   "metadata": {},
   "outputs": [],
   "source": [
    "from random import randint\n",
    "\n",
    "def mul_with_random_num(num):\n",
    "    random_num = randint(1, 21)\n",
    "    print(f\"{random_num} times {num} = {num*random_num}\")\n",
    "\n",
    "# 2nd way\n",
    "def mul_with_random_num2(num):\n",
    "    return lambda x: x*num\n",
    "\n",
    "result = mul_with_random_num2(2)"
   ]
  },
  {
   "cell_type": "code",
   "execution_count": 24,
   "id": "1d40bf20-badb-43b5-b091-35c4ac9f6f06",
   "metadata": {},
   "outputs": [
    {
     "name": "stdout",
     "output_type": "stream",
     "text": [
      "12 times 15 = 180\n"
     ]
    }
   ],
   "source": [
    "mul_with_random_num(15)"
   ]
  },
  {
   "cell_type": "code",
   "execution_count": 27,
   "id": "f7660590-c55f-4aeb-853c-f03ec982e011",
   "metadata": {},
   "outputs": [
    {
     "name": "stdout",
     "output_type": "stream",
     "text": [
      "Double of 15 is 30\n"
     ]
    }
   ],
   "source": [
    "print(f\"Double of 15 is {result(15)}\")"
   ]
  },
  {
   "cell_type": "code",
   "execution_count": null,
   "id": "55bf445e-cd71-4220-afb4-ab05d6b9e736",
   "metadata": {},
   "outputs": [],
   "source": []
  },
  {
   "cell_type": "raw",
   "id": "9a8f862d-72b7-47c1-8430-afc0dbd78078",
   "metadata": {},
   "source": [
    "2. Write a Python program to find a list with maximum and minimum length using lambda.\n",
    "Original list:\n",
    "[[0], [1, 3], [5, 7], [9, 11], [13, 15, 17]]\n",
    "List with maximum length of lists:\n",
    "(3, [13, 15, 17])\n",
    "List with minimum length of lists:\n",
    "(1, [0])"
   ]
  },
  {
   "cell_type": "code",
   "execution_count": 34,
   "id": "d62ef8c6-e38f-4c86-ae40-b0057f0db444",
   "metadata": {},
   "outputs": [],
   "source": [
    "def max_len_list(lst):\n",
    "    max_list = max(lst, key=lambda i: len(i))\n",
    "    return (len(max_list), max_list)\n",
    "\n",
    "def min_len_list(lst):\n",
    "    min_list = min(lst, key=lambda i: len(i))\n",
    "    return (len(min_list), min_list)"
   ]
  },
  {
   "cell_type": "code",
   "execution_count": 37,
   "id": "88d36e12-0f76-40d0-830e-aa022e4ec41e",
   "metadata": {},
   "outputs": [
    {
     "name": "stdout",
     "output_type": "stream",
     "text": [
      "Max length element and its length is\n",
      "(3, [13, 15, 17])\n",
      "Min length element and its length is\n",
      "(1, [0])\n"
     ]
    }
   ],
   "source": [
    "lst = [[0], [1, 3], [5, 7], [9, 11], [13, 15, 17]]\n",
    "\n",
    "print(f\"Max length element and its length is\")\n",
    "print(f\"{max_len_list(lst)}\")\n",
    "\n",
    "print(f\"Min length element and its length is\")\n",
    "print(f\"{min_len_list(lst)}\")"
   ]
  },
  {
   "cell_type": "code",
   "execution_count": null,
   "id": "8920eae7-9dee-4e64-b81a-175af0b4d859",
   "metadata": {},
   "outputs": [],
   "source": []
  }
 ],
 "metadata": {
  "kernelspec": {
   "display_name": "Python 3 (ipykernel)",
   "language": "python",
   "name": "python3"
  },
  "language_info": {
   "codemirror_mode": {
    "name": "ipython",
    "version": 3
   },
   "file_extension": ".py",
   "mimetype": "text/x-python",
   "name": "python",
   "nbconvert_exporter": "python",
   "pygments_lexer": "ipython3",
   "version": "3.12.7"
  }
 },
 "nbformat": 4,
 "nbformat_minor": 5
}

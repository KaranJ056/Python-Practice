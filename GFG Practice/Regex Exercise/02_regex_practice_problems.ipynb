{
 "cells": [
  {
   "cell_type": "markdown",
   "id": "418345f5-f3df-4806-b077-5bb4a8b4f757",
   "metadata": {},
   "source": [
    "## RegEx Practice Problems"
   ]
  },
  {
   "cell_type": "markdown",
   "id": "52880164-0149-47dd-a06c-4aaca2b94ef1",
   "metadata": {},
   "source": [
    "### 1. Python program to find the type of IP Address using Regex"
   ]
  },
  {
   "cell_type": "raw",
   "id": "c04347fe-b886-4c0f-a8de-18c5929cb158",
   "metadata": {},
   "source": [
    "Input: 192.0.2.126\n",
    "Output: IPv4\n",
    "\n",
    "Input: 3001:0da8:75a3:0000:0000:8a2e:0370:7334\n",
    "Output: IPv6\n",
    "\n",
    "Input: 36.12.08.20.52\n",
    "Output: Neither"
   ]
  },
  {
   "cell_type": "code",
   "execution_count": 40,
   "id": "7ed0deae-0143-4799-a4bc-50b3d75c8c89",
   "metadata": {},
   "outputs": [],
   "source": [
    "import re"
   ]
  },
  {
   "cell_type": "code",
   "execution_count": 41,
   "id": "d18b4800-6247-4805-b9f9-849be397e68e",
   "metadata": {},
   "outputs": [],
   "source": [
    "ipv4 = \"192.92.2.126\"\n",
    "ipv6 = \"3001:0da8:75a3:0000:0000:8a2e:0370:7334\"\n",
    "none = \"36.12.08.20.52\"\n",
    "\n",
    "def find_ip(address):\n",
    "    ipv4_pattern = r\"^((25[0-5]|2[0-4][0-9]|[0-1]?[0-9][0-9]?)\\.){3}(25[0-5]|2[0-4][0-9]|[0-1]?[0-9][0-9]?)$\"\n",
    "    ipv6_pattern = r\"^([0-9a-fA-F]{1,4}:){7}[0-9a-fA-F]{1,4}$\"\n",
    "\n",
    "    if re.search(ipv4_pattern, address):\n",
    "        return \"IPv4\"\n",
    "    elif re.search(ipv6_pattern, address):\n",
    "        return \"IPv6\"\n",
    "    else:\n",
    "        return \"Neither\""
   ]
  },
  {
   "cell_type": "code",
   "execution_count": 42,
   "id": "903c9a5f-f462-490f-a835-4fe670f9e878",
   "metadata": {},
   "outputs": [
    {
     "data": {
      "text/plain": [
       "'IPv4'"
      ]
     },
     "execution_count": 42,
     "metadata": {},
     "output_type": "execute_result"
    }
   ],
   "source": [
    "find_ip(ipv4)"
   ]
  },
  {
   "cell_type": "code",
   "execution_count": 43,
   "id": "f448cc94-3d70-4f58-9d12-81bbb535cdf9",
   "metadata": {},
   "outputs": [
    {
     "data": {
      "text/plain": [
       "'IPv6'"
      ]
     },
     "execution_count": 43,
     "metadata": {},
     "output_type": "execute_result"
    }
   ],
   "source": [
    "find_ip(ipv6)"
   ]
  },
  {
   "cell_type": "code",
   "execution_count": 66,
   "id": "9e14b074-0cd1-49c6-852c-e3175452cfa1",
   "metadata": {},
   "outputs": [
    {
     "data": {
      "text/plain": [
       "'Neither'"
      ]
     },
     "execution_count": 66,
     "metadata": {},
     "output_type": "execute_result"
    }
   ],
   "source": [
    "find_ip(none)"
   ]
  },
  {
   "cell_type": "code",
   "execution_count": 67,
   "id": "19b16643-dc10-4e5f-b0cf-c794d71c39de",
   "metadata": {},
   "outputs": [
    {
     "data": {
      "text/plain": [
       "[('2.', '2', '126')]"
      ]
     },
     "execution_count": 67,
     "metadata": {},
     "output_type": "execute_result"
    }
   ],
   "source": [
    "re.findall(ipv4_pattern, ipv4)"
   ]
  },
  {
   "cell_type": "code",
   "execution_count": null,
   "id": "ecf4de83-e334-488f-8473-41bbb50fcc11",
   "metadata": {},
   "outputs": [],
   "source": []
  },
  {
   "cell_type": "markdown",
   "id": "f971a1fd-4860-4121-9727-7ccd56549234",
   "metadata": {},
   "source": [
    "### 2. Python program to find Indices of Overlapping Substrings"
   ]
  },
  {
   "cell_type": "raw",
   "id": "06c06d31-5420-4ca0-a5c6-21c0643551c7",
   "metadata": {},
   "source": [
    "Input: String: “geeksforgeeksforgeeks” ; Pattern: “geeksforgeeks” \n",
    "Output: [0, 8] \n",
    "Explanation: The pattern is overlapping the string from 0th index to 12th index and again overlapping it from 8th index to 20th index. Hence, the output is the starting positions of overlapping i.e index 0 and index 8.   \n",
    "\n",
    "Input: String: “barfoobarfoobarfoobarfoobarfoo” ;  Pattern: “foobarfoo” \n",
    "Output: [3, 9,15, 21] \n",
    "Explanation: The pattern is overlapping the string from index 3, 9 , 15 and 21."
   ]
  },
  {
   "cell_type": "code",
   "execution_count": 54,
   "id": "382adecc-c5dc-4b24-a20d-aa464383a90a",
   "metadata": {},
   "outputs": [],
   "source": [
    "str = \"geeksforgeeksforgeeks\"\n",
    "pattern = \"geeksforgeeks\"\n",
    "\n",
    "res = re.search(pattern, str)"
   ]
  },
  {
   "cell_type": "code",
   "execution_count": 55,
   "id": "0d421813-504f-44d9-b386-e13699b1fb3e",
   "metadata": {},
   "outputs": [
    {
     "data": {
      "text/plain": [
       "<re.Match object; span=(0, 13), match='geeksforgeeks'>"
      ]
     },
     "execution_count": 55,
     "metadata": {},
     "output_type": "execute_result"
    }
   ],
   "source": [
    "res"
   ]
  },
  {
   "cell_type": "code",
   "execution_count": 59,
   "id": "9ae6c19d-5cee-4410-86f5-7542feea4eaa",
   "metadata": {},
   "outputs": [],
   "source": [
    "def count_sub_str_start(pattern, string):\n",
    "    start_indices = []\n",
    "    for match in re.finditer('(?={0})'.format(re.escape(pattern)), string):\n",
    "        start_indices.append(match.start())\n",
    "    return start_indices"
   ]
  },
  {
   "cell_type": "code",
   "execution_count": 60,
   "id": "b5c25f1e-1ec2-4f58-a8dd-201bf11ad89b",
   "metadata": {},
   "outputs": [
    {
     "data": {
      "text/plain": [
       "[0, 8]"
      ]
     },
     "execution_count": 60,
     "metadata": {},
     "output_type": "execute_result"
    }
   ],
   "source": [
    "count_sub_str_start(pattern, str)"
   ]
  },
  {
   "cell_type": "code",
   "execution_count": null,
   "id": "45e70c7d-9111-4c67-9863-de5b54ceb146",
   "metadata": {},
   "outputs": [],
   "source": []
  },
  {
   "cell_type": "markdown",
   "id": "7bdea646-7752-49a4-bebf-6292d3a1e531",
   "metadata": {},
   "source": [
    "### 3. Python program to extract Strings between HTML Tags\n"
   ]
  },
  {
   "cell_type": "raw",
   "id": "ef5cf1ce-7e3a-42ef-a750-f96040170351",
   "metadata": {},
   "source": [
    "Input :  ‘<b>Gfg</b> is <b>Best</b>. I love <b>Reading CS</b> from it.’ , tag = “b” \n",
    "Output : [‘Gfg’, ‘Best’, ‘Reading CS’]\n",
    "Explanation : All strings between “br” tag are extracted.\n",
    "\n",
    "\n",
    "Input : ‘<h1>Gfg</h1> is <h1>Best</h1> I love <h1>Reading CS</h1>’  , tag = “h1” \n",
    "Output : [‘Gfg’, ‘Best’, ‘Reading CS’] \n",
    "Explanation : All strings between “h1” tag are extracted. "
   ]
  },
  {
   "cell_type": "code",
   "execution_count": 62,
   "id": "60e57bca-2d77-4df5-9460-cf02ed6e52bb",
   "metadata": {},
   "outputs": [],
   "source": [
    "import re"
   ]
  },
  {
   "cell_type": "code",
   "execution_count": 65,
   "id": "6ae7a771-74e8-4828-969a-bbadc65b624a",
   "metadata": {},
   "outputs": [
    {
     "data": {
      "text/plain": [
       "['Gfg', 'Best', 'Reading CS']"
      ]
     },
     "execution_count": 65,
     "metadata": {},
     "output_type": "execute_result"
    }
   ],
   "source": [
    "html_string = \"<b>Gfg</b> is <b>Best</b>. I love <b>Reading CS</b> from it.\"\n",
    "tag = \"b\"\n",
    "\n",
    "pattern = \"<\"+tag+\">(.*?)</\"+tag+\">\"\n",
    "pattern = r\"<b>(.*?)</b>\"\n",
    "re.findall(pattern, html_string)"
   ]
  },
  {
   "cell_type": "code",
   "execution_count": null,
   "id": "c51cb6f3-3cef-46fe-bf0d-3d2c8db751e4",
   "metadata": {},
   "outputs": [],
   "source": []
  },
  {
   "cell_type": "markdown",
   "id": "27bc7e70-2b95-493c-90b5-1a48d7463ed9",
   "metadata": {},
   "source": [
    "### 4. Python – Check if String Contain Only Defined Characters using Regex"
   ]
  },
  {
   "cell_type": "raw",
   "id": "a3b44de0-59b1-41c9-9c4c-fd186ae90048",
   "metadata": {},
   "source": [
    "Input: ‘657’ let us say regular expression contains the following characters- (‘78653’)\n",
    "Output: Valid\n",
    "Explanation: The Input string only consists of characters present in the given string.\n",
    "\n",
    "Input: ‘7606’ let us say regular expression contains the following characters-\n",
    "(‘102’) \n",
    "Output: Invalid\n",
    "Explanation: The input string consists of characters not present in given string."
   ]
  },
  {
   "cell_type": "code",
   "execution_count": 69,
   "id": "058ca71e-acd8-4521-8a6f-f6017d3b1b84",
   "metadata": {},
   "outputs": [],
   "source": [
    "import re\n",
    "\n",
    "str1 = \"123128\"\n",
    "str2 = \"823547\""
   ]
  },
  {
   "cell_type": "code",
   "execution_count": 72,
   "id": "13276c22-68a4-475f-adcb-e7e4e6385ed1",
   "metadata": {},
   "outputs": [],
   "source": [
    "def check(string, pattern):\n",
    "    if re.search(pattern, string):\n",
    "        return \"valid\"\n",
    "    else:\n",
    "        return \"Invalid\""
   ]
  },
  {
   "cell_type": "code",
   "execution_count": 71,
   "id": "8c4c90f3-5971-47bf-b684-85f3410aa9c3",
   "metadata": {},
   "outputs": [
    {
     "data": {
      "text/plain": [
       "re.compile(r'^[1238]+$', re.UNICODE)"
      ]
     },
     "execution_count": 71,
     "metadata": {},
     "output_type": "execute_result"
    }
   ],
   "source": [
    "re.compile(r\"^[1238]+$\")"
   ]
  },
  {
   "cell_type": "code",
   "execution_count": 74,
   "id": "bf3e8fd7-98c3-4ebb-b19f-d46af7e1eeef",
   "metadata": {},
   "outputs": [
    {
     "data": {
      "text/plain": [
       "'valid'"
      ]
     },
     "execution_count": 74,
     "metadata": {},
     "output_type": "execute_result"
    }
   ],
   "source": [
    "check(str1, r\"^[1238]+$\")"
   ]
  },
  {
   "cell_type": "code",
   "execution_count": 75,
   "id": "e056a180-d69f-4e28-b8bf-3667a2c48c8d",
   "metadata": {},
   "outputs": [
    {
     "data": {
      "text/plain": [
       "'Invalid'"
      ]
     },
     "execution_count": 75,
     "metadata": {},
     "output_type": "execute_result"
    }
   ],
   "source": [
    "check(str2, r\"^[1238]+$\")"
   ]
  },
  {
   "cell_type": "code",
   "execution_count": null,
   "id": "61bdf08b-3268-464b-af2a-72c1526933c5",
   "metadata": {},
   "outputs": [],
   "source": []
  },
  {
   "cell_type": "markdown",
   "id": "6158ef1a-6e36-49e1-a4fb-60e4778c1deb",
   "metadata": {},
   "source": [
    "### 5. Python program to find files having a particular extension using RegEx"
   ]
  },
  {
   "cell_type": "code",
   "execution_count": 76,
   "id": "83feb933-91ed-420f-92b9-6a40d3c51515",
   "metadata": {},
   "outputs": [],
   "source": [
    "import re"
   ]
  },
  {
   "cell_type": "code",
   "execution_count": 77,
   "id": "9896948b-3edb-4f6a-a87b-8d1a2b53b348",
   "metadata": {},
   "outputs": [],
   "source": [
    "filenames = [\"gfg.html\", \"geeks.xml\",  \n",
    "            \"computer.txt\", \"geeksforgeeks.jpg\"]"
   ]
  },
  {
   "cell_type": "code",
   "execution_count": 78,
   "id": "f5700643-a76d-426d-9963-e3a49d4f1421",
   "metadata": {},
   "outputs": [],
   "source": [
    "# find files that have .xml extension\n",
    "exe = \".exe\""
   ]
  },
  {
   "cell_type": "code",
   "execution_count": 80,
   "id": "650e404d-72f3-4180-81c9-b5911be92aed",
   "metadata": {},
   "outputs": [
    {
     "name": "stdout",
     "output_type": "stream",
     "text": [
      "Files with .xml extensions: \n"
     ]
    },
    {
     "data": {
      "text/plain": [
       "['geeks.xml']"
      ]
     },
     "execution_count": 80,
     "metadata": {},
     "output_type": "execute_result"
    }
   ],
   "source": [
    "pattern = r\"\\.xml$\"\n",
    "xml_files = []\n",
    "for file in filenames:\n",
    "    if re.search(pattern, file):\n",
    "        xml_files.append(file)\n",
    "print(f\"Files with .xml extensions: \")\n",
    "xml_files"
   ]
  },
  {
   "cell_type": "code",
   "execution_count": null,
   "id": "8fc6d7ad-b557-43e3-81d6-8684b82c79a2",
   "metadata": {},
   "outputs": [],
   "source": []
  }
 ],
 "metadata": {
  "kernelspec": {
   "display_name": "Python 3 (ipykernel)",
   "language": "python",
   "name": "python3"
  },
  "language_info": {
   "codemirror_mode": {
    "name": "ipython",
    "version": 3
   },
   "file_extension": ".py",
   "mimetype": "text/x-python",
   "name": "python",
   "nbconvert_exporter": "python",
   "pygments_lexer": "ipython3",
   "version": "3.12.7"
  }
 },
 "nbformat": 4,
 "nbformat_minor": 5
}

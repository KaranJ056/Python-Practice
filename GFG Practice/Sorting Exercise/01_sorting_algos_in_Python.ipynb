{
 "cells": [
  {
   "cell_type": "markdown",
   "id": "cae2297d-355a-4905-9660-9e10143ba8ff",
   "metadata": {},
   "source": [
    "### Sorting Algorithms in Python"
   ]
  },
  {
   "cell_type": "raw",
   "id": "c8a8611b-3d91-4570-b1cc-1996a53fcdd4",
   "metadata": {},
   "source": [
    "1. Bubble Sort Algo\n",
    "2. Selection Sort Algo\n",
    "3. Insertion Sort Algo"
   ]
  },
  {
   "cell_type": "markdown",
   "id": "8988540f-be90-46c2-b07b-fd0b11acff42",
   "metadata": {},
   "source": [
    "### 1. Bubble Sort Algo"
   ]
  },
  {
   "cell_type": "code",
   "execution_count": 14,
   "id": "b34cc345-af3f-45ad-918c-41d718ca46c6",
   "metadata": {},
   "outputs": [],
   "source": [
    "arr = [1,2,4,8,9,0,11]"
   ]
  },
  {
   "cell_type": "code",
   "execution_count": 11,
   "id": "cb03ef53-f0b7-4163-bee4-3c28b29c8265",
   "metadata": {},
   "outputs": [],
   "source": [
    "def bubble_sort(arr):\n",
    "    for i in range(len(arr)):\n",
    "        for j in range(len(arr)-i-1):\n",
    "            if arr[j] > arr[j+1]:\n",
    "                arr[j], arr[j+1] = arr[j+1], arr[j]"
   ]
  },
  {
   "cell_type": "code",
   "execution_count": 12,
   "id": "f04ef5dc-0ca4-474a-bfbc-d5c2a547cf89",
   "metadata": {},
   "outputs": [
    {
     "data": {
      "text/plain": [
       "[0, 1, 2, 4, 8, 9, 11]"
      ]
     },
     "execution_count": 12,
     "metadata": {},
     "output_type": "execute_result"
    }
   ],
   "source": [
    "bubble_sort(arr)\n",
    "arr"
   ]
  },
  {
   "cell_type": "code",
   "execution_count": null,
   "id": "1210d634-deac-4398-abb8-6f92022789cd",
   "metadata": {},
   "outputs": [],
   "source": []
  },
  {
   "cell_type": "markdown",
   "id": "b45d5d33-cdc2-4e9f-9769-3d642c9d270f",
   "metadata": {},
   "source": [
    "### 2. Selection Sort Algo"
   ]
  },
  {
   "cell_type": "code",
   "execution_count": 21,
   "id": "b65fbad1-1045-485d-907b-eab6d394a7c5",
   "metadata": {},
   "outputs": [],
   "source": [
    "arr = [1,2,5,0,5,89,21]"
   ]
  },
  {
   "cell_type": "code",
   "execution_count": 22,
   "id": "1b8388fe-7923-494c-9c76-da76f98ad567",
   "metadata": {},
   "outputs": [],
   "source": [
    "def selection_sort(arr):\n",
    "    for i in range(len(arr)-1):\n",
    "        min_idx = i\n",
    "        for j in range(i+1, len(arr)):\n",
    "            if arr[j] < arr[min_idx]:\n",
    "                min_idx = j\n",
    "        arr[i], arr[min_idx] = arr[min_idx], arr[i]"
   ]
  },
  {
   "cell_type": "code",
   "execution_count": 23,
   "id": "b1ad6f50-969c-4759-94aa-0c39d8e39967",
   "metadata": {},
   "outputs": [
    {
     "data": {
      "text/plain": [
       "[0, 1, 2, 5, 5, 21, 89]"
      ]
     },
     "execution_count": 23,
     "metadata": {},
     "output_type": "execute_result"
    }
   ],
   "source": [
    "selection_sort(arr)\n",
    "arr"
   ]
  },
  {
   "cell_type": "code",
   "execution_count": null,
   "id": "e72a1ab5-0747-40f5-96fb-c26f8a0495dc",
   "metadata": {},
   "outputs": [],
   "source": []
  },
  {
   "cell_type": "markdown",
   "id": "a8900b3f-7188-49f0-86d6-d28ef940caf9",
   "metadata": {},
   "source": [
    "### 3. Insertion Sort"
   ]
  },
  {
   "cell_type": "code",
   "execution_count": 57,
   "id": "66cf2d87-b4ac-474d-bbfa-90e5445d6b35",
   "metadata": {},
   "outputs": [],
   "source": [
    "arr = [1,2,5,0,5,89,21]"
   ]
  },
  {
   "cell_type": "code",
   "execution_count": 58,
   "id": "5c80563d-508c-42fb-9b63-9172628437a5",
   "metadata": {},
   "outputs": [],
   "source": [
    "def insertion_sort(arr):\n",
    "    for i in range(1, len(arr)):\n",
    "        j = i-1\n",
    "        ele = arr[i]\n",
    "        while j>=0 and ele<arr[j]:\n",
    "            arr[j+1] = arr[j]\n",
    "            j -= 1\n",
    "        arr[j+1] = ele"
   ]
  },
  {
   "cell_type": "code",
   "execution_count": 59,
   "id": "d23395ca-63cd-499f-8d02-52cfa342c875",
   "metadata": {},
   "outputs": [
    {
     "data": {
      "text/plain": [
       "[0, 1, 2, 5, 5, 21, 89]"
      ]
     },
     "execution_count": 59,
     "metadata": {},
     "output_type": "execute_result"
    }
   ],
   "source": [
    "insertion_sort(arr)\n",
    "arr"
   ]
  },
  {
   "cell_type": "code",
   "execution_count": null,
   "id": "e0fd5a60-8970-4658-ae4c-72440dcfa80f",
   "metadata": {},
   "outputs": [],
   "source": []
  },
  {
   "cell_type": "markdown",
   "id": "45570dd2-2d0a-4356-8197-acd0cbb4b36e",
   "metadata": {},
   "source": [
    "### 4. Quick Sort Algo"
   ]
  },
  {
   "cell_type": "code",
   "execution_count": 84,
   "id": "6ad8d1d8-3cc7-4463-adfb-ac1b284f6632",
   "metadata": {},
   "outputs": [],
   "source": [
    "def quick_sort(arr, low, high):\n",
    "   if low < high:\n",
    "       pat_idx = partition(arr, low, high)\n",
    "       quick_sort(arr, low, pat_idx-1)\n",
    "       quick_sort(arr, pat_idx+1, high)\n",
    "\n",
    "def partition(arr, low, high):\n",
    "    pivot = arr[low]\n",
    "    i = low+1\n",
    "    for j in range(low+1, high+1):\n",
    "        if arr[j] < pivot:\n",
    "            arr[i], arr[j] = arr[j], arr[i]\n",
    "            i += 1\n",
    "\n",
    "    arr[low], arr[i-1] = arr[i-1], arr[low]\n",
    "    return i-1\n",
    "\n",
    "arr = [1, 4, 11,14, 19, 0, 3]"
   ]
  },
  {
   "cell_type": "code",
   "execution_count": 85,
   "id": "518cfc59-322e-49b5-8fde-3b9b821f2cbe",
   "metadata": {},
   "outputs": [],
   "source": [
    "quick_sort(arr, 0, len(arr)-1)"
   ]
  },
  {
   "cell_type": "code",
   "execution_count": 86,
   "id": "38128ade-dba2-4d93-8552-6c6312222cda",
   "metadata": {},
   "outputs": [
    {
     "data": {
      "text/plain": [
       "[0, 1, 3, 4, 11, 14, 19]"
      ]
     },
     "execution_count": 86,
     "metadata": {},
     "output_type": "execute_result"
    }
   ],
   "source": [
    "arr"
   ]
  },
  {
   "cell_type": "code",
   "execution_count": null,
   "id": "c05d0a0a-f9fc-49cc-962d-565ab64bbc9a",
   "metadata": {},
   "outputs": [],
   "source": []
  },
  {
   "cell_type": "markdown",
   "id": "47ab7612-2bb3-430f-85ae-131ee44e24c8",
   "metadata": {},
   "source": [
    "### Sort a string"
   ]
  },
  {
   "cell_type": "code",
   "execution_count": 81,
   "id": "ddcf9731-f9db-4194-b895-a31c4eb4f131",
   "metadata": {},
   "outputs": [],
   "source": [
    "class Solution:\n",
    "    def sort(self, s): \n",
    "        #code here\n",
    "        lst = [letter for letter in s]\n",
    "        lst.sort()\n",
    "        ans = \"\"\n",
    "        for letter in lst:\n",
    "            ans += letter\n",
    "        print(ans)\n",
    "        return ans"
   ]
  },
  {
   "cell_type": "code",
   "execution_count": 80,
   "id": "897f4488-6efb-4878-89da-6a3228d8d28c",
   "metadata": {},
   "outputs": [
    {
     "name": "stdout",
     "output_type": "stream",
     "text": [
      "adddjss\n"
     ]
    },
    {
     "data": {
      "text/plain": [
       "'adddjss'"
      ]
     },
     "execution_count": 80,
     "metadata": {},
     "output_type": "execute_result"
    }
   ],
   "source": [
    "s2 = Solution()\n",
    "s2.sort(\"sdasddj\")"
   ]
  },
  {
   "cell_type": "code",
   "execution_count": null,
   "id": "3f854a7d-2490-459f-a3e3-7e256bea5c7b",
   "metadata": {},
   "outputs": [],
   "source": []
  }
 ],
 "metadata": {
  "kernelspec": {
   "display_name": "Python 3 (ipykernel)",
   "language": "python",
   "name": "python3"
  },
  "language_info": {
   "codemirror_mode": {
    "name": "ipython",
    "version": 3
   },
   "file_extension": ".py",
   "mimetype": "text/x-python",
   "name": "python",
   "nbconvert_exporter": "python",
   "pygments_lexer": "ipython3",
   "version": "3.12.7"
  }
 },
 "nbformat": 4,
 "nbformat_minor": 5
}

{
 "cells": [
  {
   "cell_type": "markdown",
   "id": "137896b6-6624-4038-8edf-62f7da0306be",
   "metadata": {},
   "source": [
    "### File Handling Practice Problems"
   ]
  },
  {
   "cell_type": "markdown",
   "id": "fb3fb33e-16af-4baa-9297-6edfc21a8930",
   "metadata": {},
   "source": [
    "### 1. Read content from one file and write it into another file"
   ]
  },
  {
   "cell_type": "code",
   "execution_count": 1,
   "id": "f2e3966a-194b-4ac7-928b-ceb5826617fb",
   "metadata": {},
   "outputs": [],
   "source": [
    "# Read and write whole contennt of one file to another file using inbuilt function"
   ]
  },
  {
   "cell_type": "code",
   "execution_count": 4,
   "id": "0f7e431c-85ae-445c-abed-3d7a4093119a",
   "metadata": {},
   "outputs": [],
   "source": [
    "with open(\"To Read From File.txt\", \"r\") as read_file:\n",
    "    with open(\"To Write File.txt\", \"w\") as write_file:\n",
    "        data = read_file.read()\n",
    "        write_file.write(data)"
   ]
  },
  {
   "cell_type": "code",
   "execution_count": 5,
   "id": "a3f1b145-fba8-4074-90e7-8eab11089065",
   "metadata": {},
   "outputs": [],
   "source": [
    "# using loops"
   ]
  },
  {
   "cell_type": "code",
   "execution_count": 6,
   "id": "66ea1b21-1614-4d04-ab14-54d5dceedb8c",
   "metadata": {},
   "outputs": [],
   "source": [
    "with open(\"To Read From File.txt\", \"r\") as read_file:\n",
    "    with open(\"To Write File.txt\", \"w\") as write_file:\n",
    "        for line in read_file:\n",
    "            write_file.write(line)"
   ]
  },
  {
   "cell_type": "code",
   "execution_count": null,
   "id": "c914f75e-382a-4241-acd1-5dfb2675c524",
   "metadata": {},
   "outputs": [],
   "source": []
  },
  {
   "cell_type": "markdown",
   "id": "eec76395-0109-4f41-9004-0521acedb51c",
   "metadata": {},
   "source": [
    "### 2. Write a dictionary to a file in Python"
   ]
  },
  {
   "cell_type": "raw",
   "id": "4fca1a9b-3362-4852-8cc9-d8e72763eec0",
   "metadata": {},
   "source": [
    "# we can do this in 2 ways:\n",
    "1. Either using json lib \n",
    "2. or converting dict to str and then write it to a file"
   ]
  },
  {
   "cell_type": "code",
   "execution_count": 9,
   "id": "e9c8d06d-985b-4071-9dd3-318e36c85937",
   "metadata": {},
   "outputs": [],
   "source": [
    "my_dict = {\"name\": \"Karan\", \"age\": 20, \"city\": \"Surat\"}"
   ]
  },
  {
   "cell_type": "code",
   "execution_count": 13,
   "id": "04665b0b-208b-40ef-87be-b1b98a80ad20",
   "metadata": {},
   "outputs": [],
   "source": [
    "# 1.\n",
    "import json\n",
    "\n",
    "with open(\"dict_to_str_using_json.txt\", \"w\") as f:\n",
    "    f.write(json.dumps(my_dict))    "
   ]
  },
  {
   "cell_type": "code",
   "execution_count": 14,
   "id": "ce8a8b6e-e3e4-485d-9c8a-1e5839a38185",
   "metadata": {},
   "outputs": [],
   "source": [
    "# 2.\n",
    "with open(\"dict_to_str.txt\", \"w\") as f:\n",
    "    f.write(str(my_dict))    "
   ]
  },
  {
   "cell_type": "code",
   "execution_count": null,
   "id": "f126fe4a-34e4-4a8f-bade-8cc26a95760e",
   "metadata": {},
   "outputs": [],
   "source": []
  },
  {
   "cell_type": "markdown",
   "id": "2ab40d9e-2f4c-4fd7-adac-eae78694011c",
   "metadata": {},
   "source": [
    "### 3. How to check file size in Python?"
   ]
  },
  {
   "cell_type": "raw",
   "id": "540adaf6-4a3c-40a1-8fa8-6c62930a71ef",
   "metadata": {},
   "source": [
    "# 2 ways:\n",
    "1. Using Pathlib\n",
    "2. Using os"
   ]
  },
  {
   "cell_type": "code",
   "execution_count": 15,
   "id": "884b469d-d82c-45c5-a3c6-ee2f64cc39cd",
   "metadata": {},
   "outputs": [
    {
     "name": "stdout",
     "output_type": "stream",
     "text": [
      "129\n"
     ]
    }
   ],
   "source": [
    "# 1.\n",
    "from pathlib import Path \n",
    "  \n",
    "sz = Path('To Write File.txt').stat().st_size \n",
    "print(sz) "
   ]
  },
  {
   "cell_type": "code",
   "execution_count": 16,
   "id": "1a9d92d2-09ec-4604-b7bc-85ab0f7cbffd",
   "metadata": {},
   "outputs": [
    {
     "name": "stdout",
     "output_type": "stream",
     "text": [
      "129\n"
     ]
    }
   ],
   "source": [
    "# 2.\n",
    "import os\n",
    "\n",
    "print(os.path.getsize('To Write File.txt'))"
   ]
  },
  {
   "cell_type": "code",
   "execution_count": null,
   "id": "ade43907-ca30-4ab7-8ca1-3c3f7788de56",
   "metadata": {},
   "outputs": [],
   "source": []
  },
  {
   "cell_type": "markdown",
   "id": "e3120496-b938-4763-a15d-1806bc3fa2f7",
   "metadata": {},
   "source": [
    "### 4. Find the most repeated word in a text file"
   ]
  },
  {
   "cell_type": "code",
   "execution_count": 27,
   "id": "0dfade4c-3b35-4f3b-b979-65ced4ac7304",
   "metadata": {},
   "outputs": [
    {
     "name": "stdout",
     "output_type": "stream",
     "text": [
      "risus\n"
     ]
    }
   ],
   "source": [
    "with open(\"To read From File.txt\",\"r\") as f:\n",
    "    words_list = []\n",
    "    frequent_word = \"\"\n",
    "\n",
    "    for line in f:\n",
    "        line_words = line.lower().replace(\",\",\"\").replace(\".\",\"\").split(\" \")\n",
    "        for word in line_words:\n",
    "            words_list.append(word)\n",
    "    \n",
    "    max_count = 0\n",
    "    for word in words_list:\n",
    "        count = words_list.count(word)\n",
    "        if count > max_count:\n",
    "            frequent_word = word\n",
    "            max_count = count\n",
    "\n",
    "    print(frequent_word)"
   ]
  },
  {
   "cell_type": "code",
   "execution_count": null,
   "id": "24d85d04-b9a4-47d6-a0dd-0aed55abbe09",
   "metadata": {},
   "outputs": [],
   "source": []
  },
  {
   "cell_type": "markdown",
   "id": "ae8b10bd-fe37-4134-a19a-636b4abd8139",
   "metadata": {},
   "source": [
    "### 5. How to read specific lines from a File in Python?"
   ]
  },
  {
   "cell_type": "raw",
   "id": "45b84f69-ae0f-42a6-8c6b-85e3eb036b98",
   "metadata": {},
   "source": [
    "# 3 ways\n",
    "1. fileobject.readlines()\n",
    "2. linecache package : linecache.getLine()\n",
    "3. by enumerating file"
   ]
  },
  {
   "cell_type": "code",
   "execution_count": 43,
   "id": "481b1f8a-5deb-48c2-9134-0e8e28e587f3",
   "metadata": {},
   "outputs": [],
   "source": [
    "file = open(\"text.txt\", \"r\")\n",
    "content = file.readlines()\n",
    "file.close()"
   ]
  },
  {
   "cell_type": "code",
   "execution_count": 44,
   "id": "4abf4d4d-9e2c-4449-8ef3-dac5e307da2b",
   "metadata": {},
   "outputs": [
    {
     "name": "stdout",
     "output_type": "stream",
     "text": [
      "This is line 3\n",
      "\n"
     ]
    }
   ],
   "source": [
    "print(content[2])"
   ]
  },
  {
   "cell_type": "code",
   "execution_count": 45,
   "id": "1cb093c0-bd11-4418-b2d5-3b1db267e90c",
   "metadata": {
    "scrolled": true
   },
   "outputs": [
    {
     "name": "stdout",
     "output_type": "stream",
     "text": [
      "This is line 3\n",
      "\n",
      "This is line 5\n",
      "\n",
      "['This is line 11\\n', 'This is line 12\\n', 'This is line 13\\n', 'This is line 14']\n"
     ]
    }
   ],
   "source": [
    "print(content[2])\n",
    "print(content[4])\n",
    "print(content[10:])\n"
   ]
  },
  {
   "cell_type": "code",
   "execution_count": 46,
   "id": "d5c8ac98-f253-4609-b3cf-a25b20f884c3",
   "metadata": {},
   "outputs": [
    {
     "data": {
      "text/plain": [
       "'This is line 6\\n'"
      ]
     },
     "execution_count": 46,
     "metadata": {},
     "output_type": "execute_result"
    }
   ],
   "source": [
    "# 2.\n",
    "import linecache\n",
    "\n",
    "line2 = linecache.getline(\"text.txt\", 6)\n",
    "line2"
   ]
  },
  {
   "cell_type": "code",
   "execution_count": 50,
   "id": "7678b177-8ff8-4e14-9a8e-dcd088460977",
   "metadata": {
    "scrolled": true
   },
   "outputs": [
    {
     "name": "stdout",
     "output_type": "stream",
     "text": [
      "This is line 1\n",
      "\n",
      "This is line 9\n",
      "\n",
      "This is line 12\n",
      "\n"
     ]
    }
   ],
   "source": [
    "# 3.\n",
    "file = open(\"text.txt\", \"r\")\n",
    "specified_lines = [0, 8, 11]\n",
    "for pos, line in enumerate(file):\n",
    "    if pos in specified_lines:\n",
    "        print(line)"
   ]
  },
  {
   "cell_type": "code",
   "execution_count": null,
   "id": "15f6dd3c-d6bb-4316-b508-c05a11028979",
   "metadata": {},
   "outputs": [],
   "source": []
  },
  {
   "cell_type": "code",
   "execution_count": null,
   "id": "5696f432-14b8-40dc-ba7a-251c1d6e740e",
   "metadata": {},
   "outputs": [],
   "source": []
  },
  {
   "cell_type": "code",
   "execution_count": null,
   "id": "3a5a4927-5f83-4948-928c-7a0723d9463b",
   "metadata": {},
   "outputs": [],
   "source": []
  },
  {
   "cell_type": "code",
   "execution_count": null,
   "id": "8b576ef5-8ce0-4b63-84f9-0c064c83cdef",
   "metadata": {},
   "outputs": [],
   "source": []
  },
  {
   "cell_type": "code",
   "execution_count": null,
   "id": "4fa6ea2f-f414-43f0-a28a-cb5ea403d1b0",
   "metadata": {},
   "outputs": [],
   "source": []
  },
  {
   "cell_type": "code",
   "execution_count": null,
   "id": "cf6439dc-3681-453f-901a-4eca59f141ef",
   "metadata": {},
   "outputs": [],
   "source": []
  }
 ],
 "metadata": {
  "kernelspec": {
   "display_name": "Python 3 (ipykernel)",
   "language": "python",
   "name": "python3"
  },
  "language_info": {
   "codemirror_mode": {
    "name": "ipython",
    "version": 3
   },
   "file_extension": ".py",
   "mimetype": "text/x-python",
   "name": "python",
   "nbconvert_exporter": "python",
   "pygments_lexer": "ipython3",
   "version": "3.12.7"
  }
 },
 "nbformat": 4,
 "nbformat_minor": 5
}

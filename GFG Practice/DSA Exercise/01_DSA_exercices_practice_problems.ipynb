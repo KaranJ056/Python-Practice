{
 "cells": [
  {
   "cell_type": "markdown",
   "id": "81972a91-e013-455d-9090-ccfb418c85e0",
   "metadata": {},
   "source": [
    "### DSA Exercises"
   ]
  },
  {
   "cell_type": "markdown",
   "id": "8de3b52e-b2bd-4eda-8cb9-add362f25e17",
   "metadata": {},
   "source": [
    "### 1. Python program to reverse a stack"
   ]
  },
  {
   "cell_type": "code",
   "execution_count": 39,
   "id": "7573db17-fa65-4e07-a641-a08fbc885916",
   "metadata": {},
   "outputs": [],
   "source": [
    "class Stack:\n",
    "    def __init__(self):\n",
    "        self.top = -1\n",
    "        self.elems = []\n",
    "        \n",
    "    def push(self, data):\n",
    "        self.elems.append(data)\n",
    "        self.top += 1\n",
    "\n",
    "    def pop(self):\n",
    "        if s.empty():\n",
    "            return -1\n",
    "        self.top -= 1\n",
    "        return self.elems.pop()\n",
    "\n",
    "    def show(self):\n",
    "        print(self.elems)\n",
    "\n",
    "    def empty(self):\n",
    "        if self.elems == []:\n",
    "            return True\n",
    "        return False"
   ]
  },
  {
   "cell_type": "code",
   "execution_count": 40,
   "id": "ef4af8c2-e9c5-49fb-bbd5-58d5cb660b8d",
   "metadata": {},
   "outputs": [],
   "source": [
    "def bottom_insert(s, data):\n",
    "    pass"
   ]
  },
  {
   "cell_type": "code",
   "execution_count": 43,
   "id": "3642499a-9e00-4a40-ab13-2db3145ce645",
   "metadata": {},
   "outputs": [],
   "source": [
    "def reverse(s):\n",
    "    new_stack = Stack()\n",
    "    n = len(s.elems)\n",
    "    for i in range(n):\n",
    "        new_stack.push(s.pop())\n",
    "    return new_stack"
   ]
  },
  {
   "cell_type": "code",
   "execution_count": 44,
   "id": "b99e5586-4de4-4f23-a25c-79380e907d9c",
   "metadata": {},
   "outputs": [
    {
     "name": "stdout",
     "output_type": "stream",
     "text": [
      "[1, 2, 3, 4, 5, 6, 7]\n",
      "[7, 6, 5, 4, 3, 2, 1]\n"
     ]
    }
   ],
   "source": [
    "s = Stack()\n",
    "\n",
    "s.push(1)\n",
    "s.push(2)\n",
    "s.push(3)\n",
    "s.push(4)\n",
    "s.push(5)\n",
    "s.push(6)\n",
    "s.push(7)\n",
    "\n",
    "s.show()\n",
    "\n",
    "s = reverse(s)\n",
    "\n",
    "s.show()"
   ]
  },
  {
   "cell_type": "code",
   "execution_count": null,
   "id": "7bf72c9b-a895-4218-bbc5-cdb743ef9cd0",
   "metadata": {},
   "outputs": [],
   "source": []
  },
  {
   "cell_type": "markdown",
   "id": "8d3ecc30-0a77-4e48-a49a-8a492bb9bdd7",
   "metadata": {},
   "source": [
    "### 2. Check whether the given string is Palindrome using Stack"
   ]
  },
  {
   "cell_type": "code",
   "execution_count": 45,
   "id": "423f2139-f92d-4eaa-a04e-7b6ce42fc09d",
   "metadata": {},
   "outputs": [],
   "source": [
    "string = \"abcba\""
   ]
  },
  {
   "cell_type": "code",
   "execution_count": 46,
   "id": "79f64700-1dcf-41f6-ad97-8a15ad07e334",
   "metadata": {},
   "outputs": [],
   "source": [
    "def check_palindrome(txt):\n",
    "    s = Stack()\n",
    "    for letter in txt:\n",
    "        s.push(letter)\n",
    "    reverse = \"\"\n",
    "    for i in range(len(txt)):\n",
    "        reverse += s.pop()\n",
    "    return reverse == txt"
   ]
  },
  {
   "cell_type": "code",
   "execution_count": 47,
   "id": "9cc8c403-b662-49d7-a1bc-9165454b4e2e",
   "metadata": {},
   "outputs": [
    {
     "data": {
      "text/plain": [
       "True"
      ]
     },
     "execution_count": 47,
     "metadata": {},
     "output_type": "execute_result"
    }
   ],
   "source": [
    "check_palindrome(string)"
   ]
  },
  {
   "cell_type": "code",
   "execution_count": 48,
   "id": "38bb2c1e-693b-4957-b11d-c70e7292de4a",
   "metadata": {},
   "outputs": [
    {
     "data": {
      "text/plain": [
       "False"
      ]
     },
     "execution_count": 48,
     "metadata": {},
     "output_type": "execute_result"
    }
   ],
   "source": [
    "check_palindrome(\"asfasmd\")"
   ]
  },
  {
   "cell_type": "code",
   "execution_count": null,
   "id": "76caf06b-20ad-4adf-a11f-ec6885c801ce",
   "metadata": {},
   "outputs": [],
   "source": []
  },
  {
   "cell_type": "code",
   "execution_count": null,
   "id": "9c794f57-c157-4e30-bf88-ad511b7dae09",
   "metadata": {},
   "outputs": [],
   "source": []
  }
 ],
 "metadata": {
  "kernelspec": {
   "display_name": "Python 3 (ipykernel)",
   "language": "python",
   "name": "python3"
  },
  "language_info": {
   "codemirror_mode": {
    "name": "ipython",
    "version": 3
   },
   "file_extension": ".py",
   "mimetype": "text/x-python",
   "name": "python",
   "nbconvert_exporter": "python",
   "pygments_lexer": "ipython3",
   "version": "3.12.7"
  }
 },
 "nbformat": 4,
 "nbformat_minor": 5
}

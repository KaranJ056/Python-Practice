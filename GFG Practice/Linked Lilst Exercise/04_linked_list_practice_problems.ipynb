{
 "cells": [
  {
   "cell_type": "markdown",
   "id": "afb2aa48-1c07-46f4-851e-531036d9c67f",
   "metadata": {},
   "source": [
    "### Linked List Practice Problems"
   ]
  },
  {
   "cell_type": "markdown",
   "id": "1a0adcb8-d21e-4b22-b01e-e056aadba9fa",
   "metadata": {},
   "source": [
    "### 1. Python program to Search an Element in a Circular Linked List"
   ]
  },
  {
   "cell_type": "raw",
   "id": "ba5cee08-e2d5-437c-bad5-e6d8779d4f7d",
   "metadata": {},
   "source": [
    "Input: CList = 6->5->4->3->2, find = 3\n",
    "Output: Element is present\n",
    " \n",
    "Input: CList = 6->5->4->3->2, find = 1\n",
    "Output: Element is not present"
   ]
  },
  {
   "cell_type": "code",
   "execution_count": 8,
   "id": "c8eb991c-4584-4872-b3c0-6d887cd91712",
   "metadata": {},
   "outputs": [
    {
     "name": "stdout",
     "output_type": "stream",
     "text": [
      "Element is not present in linked list\n",
      "Element is present in linked list\n"
     ]
    }
   ],
   "source": [
    "class Node:  \n",
    "    def __init__(self,data):     \n",
    "        self.data = data \n",
    "        self.next = None\n",
    "          \n",
    "class CircularLinkedList:\n",
    "    def __init__(self):     \n",
    "        self.head = Node(None)     \n",
    "        self.tail = Node(None)     \n",
    "        self.head.next = self.tail     \n",
    "        self.tail.next = self.head \n",
    "\n",
    "    def add(self,data):  \n",
    "        newNode = Node(data)\n",
    "        if self.head.data is None:\n",
    "            self.head = newNode \n",
    "            self.tail = newNode\n",
    "            newNode.next = self.head \n",
    "        else:\n",
    "            self.tail.next = newNode \n",
    "            self.tail = newNode \n",
    "            self.tail.next = self.head\n",
    "\n",
    "    def findNode(self, data):\n",
    "        if self.head is None:\n",
    "            return f\"List is empty\"\n",
    "        temp = self.head\n",
    "        while temp != self.tail:\n",
    "            if temp.data == data:\n",
    "                return f\"Element is present in linked list\"\n",
    "            temp = temp.next\n",
    "\n",
    "        return f\"Element is not present in linked list\"\n",
    "\n",
    "if __name__ == \"__main__\":\n",
    "    circularLinkedList = CircularLinkedList(); \n",
    "    \n",
    "    circularLinkedList.add(6); \n",
    "    circularLinkedList.add(5); \n",
    "    circularLinkedList.add(4); \n",
    "    circularLinkedList.add(3); \n",
    "    circularLinkedList.add(2); \n",
    "    circularLinkedList.add(1); \n",
    "    \n",
    "    print(circularLinkedList.findNode(8)); \n",
    "    \n",
    "    print(circularLinkedList.findNode(2));"
   ]
  },
  {
   "cell_type": "code",
   "execution_count": null,
   "id": "81701253-030e-4868-8459-659088e481de",
   "metadata": {},
   "outputs": [],
   "source": []
  },
  {
   "cell_type": "markdown",
   "id": "e4cc74b2-2408-4375-9a8e-127e95f5270d",
   "metadata": {},
   "source": [
    "### 2. Pretty print Linked List in Python"
   ]
  },
  {
   "cell_type": "raw",
   "id": "d811b102-de02-4daa-a1d5-9d25e02c5af5",
   "metadata": {},
   "source": [
    "Example: Pretty print a singly linked list 10->15->20 as [10, 15, 20]\n",
    "space complexity: O(1)\n",
    "time complexity: O(n)"
   ]
  },
  {
   "cell_type": "code",
   "execution_count": 11,
   "id": "3a763bee-0e4e-43ef-96ab-77bcc9d0f620",
   "metadata": {},
   "outputs": [
    {
     "name": "stdout",
     "output_type": "stream",
     "text": [
      "[1, 2, 3, 4, 5]\n"
     ]
    }
   ],
   "source": [
    "class Node:\n",
    "    def __init__(self, data):\n",
    "        self.data = data\n",
    "        self.next = None\n",
    "\n",
    "class SinglyLinkedList:\n",
    "    def __init__(self):\n",
    "        self.head = None\n",
    "        self.current = None\n",
    "\n",
    "    def add_last(self, data):\n",
    "        if self.head is None:\n",
    "            nn = Node(data)\n",
    "            self.head = nn\n",
    "            self.current = self.head\n",
    "        else:\n",
    "            nn = Node(data)\n",
    "            self.current.next = nn\n",
    "            self.current = nn\n",
    "\n",
    "    def __str__(self):\n",
    "        temp = self.head\n",
    "        res = \"\"\n",
    "        while temp.next is not None:\n",
    "            res += str(temp.data)+\", \"\n",
    "            temp = temp.next\n",
    "        res += str(temp.data)\n",
    "        res = \"[\"+res+\"]\"\n",
    "        return res\n",
    "\n",
    "if __name__ == \"__main__\":\n",
    "    sll = SinglyLinkedList()\n",
    "\n",
    "    sll.add_last(1)\n",
    "    sll.add_last(2)\n",
    "    sll.add_last(3)\n",
    "    sll.add_last(4)\n",
    "    sll.add_last(5)\n",
    "\n",
    "    print(sll)"
   ]
  },
  {
   "cell_type": "code",
   "execution_count": null,
   "id": "ad309e6c-577c-45b3-a379-afa30e7a8621",
   "metadata": {},
   "outputs": [],
   "source": []
  },
  {
   "cell_type": "markdown",
   "id": "763263d9-95c9-4634-808e-29416bfde3ae",
   "metadata": {},
   "source": [
    "### 3. Python program to find middle of a linked list using one traversal"
   ]
  },
  {
   "cell_type": "raw",
   "id": "d0662ac6-d9f7-4b7a-a4d1-d8ca7d06777b",
   "metadata": {},
   "source": [
    "Given a singly linked list, find the middle of the linked list. Given a singly linked list, find the middle of the linked list. \n",
    "For example, if the given linked list is 1->2->3->4->5 then the output should be 3."
   ]
  },
  {
   "cell_type": "code",
   "execution_count": 19,
   "id": "fb501183-1bfe-4bf4-a920-fdc940a9b3e1",
   "metadata": {},
   "outputs": [
    {
     "name": "stdout",
     "output_type": "stream",
     "text": [
      "3\n",
      "3\n"
     ]
    }
   ],
   "source": [
    "class Node:\n",
    "    def __init__(self, data):\n",
    "        self.data = data\n",
    "        self.next = None\n",
    "\n",
    "class SinglyLinkedList:\n",
    "    def __init__(self):\n",
    "        self.head = None\n",
    "        self.current = None\n",
    "\n",
    "    def add_last(self, data):\n",
    "        if self.head is None:\n",
    "            nn = Node(data)\n",
    "            self.head = nn\n",
    "            self.current = self.head\n",
    "        else:\n",
    "            nn = Node(data)\n",
    "            self.current.next = nn\n",
    "            self.current = nn\n",
    "\n",
    "    def find_len(self):\n",
    "        temp = self.head\n",
    "        sll_len = 0\n",
    "        while temp is not None:\n",
    "            sll_len += 1\n",
    "            temp = temp.next\n",
    "        return sll_len\n",
    "    \n",
    "    # 1st way : Find through length\n",
    "    def find_middle1(self):\n",
    "        sll_len = self.find_len()\n",
    "        idx = sll_len//2\n",
    "        temp = self.head\n",
    "        for i in range(idx):\n",
    "            temp = temp.next\n",
    "        return temp.data\n",
    "\n",
    "    # 2nd way : using fast and slow pointer\n",
    "    def find_middle2(self):\n",
    "        if self.head:\n",
    "            temp_1 = self.head\n",
    "            temp_2 = self.head\n",
    "            while temp_1 is not None and temp_1.next is not None:\n",
    "                temp_1 = temp_1.next.next\n",
    "                temp_2 = temp_2.next\n",
    "            return temp_2.data\n",
    "        else:\n",
    "            return \"Lined list is empty\"\n",
    "        \n",
    "if __name__ == \"__main__\":\n",
    "    sll = SinglyLinkedList()\n",
    "\n",
    "    sll.add_last(1)\n",
    "    sll.add_last(2)\n",
    "    sll.add_last(3)\n",
    "    sll.add_last(4)\n",
    "    # sll.add_last(5)\n",
    "\n",
    "    print(sll.find_middle1())\n",
    "    print(sll.find_middle2())"
   ]
  },
  {
   "cell_type": "code",
   "execution_count": null,
   "id": "aa44a91b-8ced-44e7-a8a6-e4a493e32e5d",
   "metadata": {},
   "outputs": [],
   "source": []
  },
  {
   "cell_type": "raw",
   "id": "2d8ff04c-2244-4fea-a354-445c86143037",
   "metadata": {},
   "source": [
    "# Extra Practice problems\n",
    "1. Implement a stack using singly linked list\n",
    "1. Implement a queue using singly linked list"
   ]
  }
 ],
 "metadata": {
  "kernelspec": {
   "display_name": "Python 3 (ipykernel)",
   "language": "python",
   "name": "python3"
  },
  "language_info": {
   "codemirror_mode": {
    "name": "ipython",
    "version": 3
   },
   "file_extension": ".py",
   "mimetype": "text/x-python",
   "name": "python",
   "nbconvert_exporter": "python",
   "pygments_lexer": "ipython3",
   "version": "3.12.7"
  }
 },
 "nbformat": 4,
 "nbformat_minor": 5
}

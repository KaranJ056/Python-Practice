{
 "cells": [
  {
   "cell_type": "markdown",
   "id": "37066014-b12a-4cc8-bcdd-c7c11a896cec",
   "metadata": {},
   "source": [
    "## OOPs practicee problems in Python"
   ]
  },
  {
   "cell_type": "markdown",
   "id": "9bddb31d-eaeb-4b4a-a61a-3df99c1a7e80",
   "metadata": {},
   "source": [
    "### 1. Python program to build flashcard using class in Python"
   ]
  },
  {
   "cell_type": "raw",
   "id": "3b3d9fff-1d68-4488-94fe-fffdc1596343",
   "metadata": {},
   "source": [
    "In this article, we will see how to build a flashcard using class in python. A flashcard is a card having information on both sides, which can be used as an aid in memoization. Flashcards usually have a question on one side and an answer on the other. Particularly in this article, we are going to create flashcards that will be having a word and its meaning."
   ]
  },
  {
   "cell_type": "code",
   "execution_count": 4,
   "id": "e3c05775-5ee4-41ea-86c5-0f0f01e79317",
   "metadata": {},
   "outputs": [
    {
     "name": "stdout",
     "output_type": "stream",
     "text": [
      "DSA (Data Structures and Algorithms)\n",
      "BDA (Big Data Analytics)\n",
      "IT (Information Technology)\n"
     ]
    }
   ],
   "source": [
    "# example 1:\n",
    "\n",
    "class flashcard:\n",
    "\n",
    "    def __init__(self, word, meaning):\n",
    "        self.word = word\n",
    "        self.meaning = meaning\n",
    "\n",
    "    def __str__(self):\n",
    "        return f\"{self.word} ({self.meaning})\"\n",
    "\n",
    "flashcards = []\n",
    "\n",
    "flashcards.append(flashcard(\"DSA\", \"Data Structures and Algorithms\"))\n",
    "flashcards.append(flashcard(\"BDA\", \"Big Data Analytics\"))\n",
    "flashcards.append(flashcard(\"IT\", \"Information Technology\"))\n",
    "\n",
    "for card in flashcards:\n",
    "    print(card)"
   ]
  },
  {
   "cell_type": "code",
   "execution_count": null,
   "id": "f9128283-1a16-48c8-9b37-e7665c688c33",
   "metadata": {},
   "outputs": [],
   "source": []
  },
  {
   "cell_type": "raw",
   "id": "f7956c2c-ffec-4f55-ba3e-b795d39eca2f",
   "metadata": {},
   "source": [
    "Create a class named flashcard.\n",
    "Initialize dictionary fruits using __init__() method.\n",
    "Now randomly choose a pair from fruits using choice() method and store the key in variable fruit and value in variable color.\n",
    "Now prompt the user to answer the color of the randomly chosen fruit.\n",
    "If correct print correct else print wrong."
   ]
  },
  {
   "cell_type": "code",
   "execution_count": 15,
   "id": "f308455d-133b-46f2-9995-1f774a7c7c68",
   "metadata": {},
   "outputs": [
    {
     "data": {
      "text/plain": [
       "dict_keys(['Apple', 'Watermelon', 'Banana'])"
      ]
     },
     "execution_count": 15,
     "metadata": {},
     "output_type": "execute_result"
    }
   ],
   "source": [
    "fruits = {\n",
    "            \"Apple\": \"red\",\n",
    "            \"Watermelon\": \"green\",\n",
    "            \"Banana\": \"yellow\",\n",
    "        }\n",
    "\n",
    "fruits.keys()"
   ]
  },
  {
   "cell_type": "code",
   "execution_count": 21,
   "id": "99c6b891-9236-4baf-ba95-7f8a0ba2fad3",
   "metadata": {},
   "outputs": [
    {
     "name": "stdin",
     "output_type": "stream",
     "text": [
      "Enter a color of a fruit Apple yerllow\n"
     ]
    },
    {
     "name": "stdout",
     "output_type": "stream",
     "text": [
      "Oh no! You guessed the color of a fruit Apple wrong!\n"
     ]
    },
    {
     "name": "stdin",
     "output_type": "stream",
     "text": [
      "You want to try again! 'Y or N' Y\n",
      "Enter a color of a fruit Watermelon Green\n"
     ]
    },
    {
     "name": "stdout",
     "output_type": "stream",
     "text": [
      "Yay! You guessed the color of a fruit Watermelon correctly!\n"
     ]
    },
    {
     "name": "stdin",
     "output_type": "stream",
     "text": [
      "You want to try again! 'Y or N' N\n"
     ]
    }
   ],
   "source": [
    "import random\n",
    "\n",
    "class flashcard:\n",
    "\n",
    "    def __init__(self):\n",
    "        self.fruits = {\n",
    "            \"Apple\": \"red\",\n",
    "            \"Watermelon\": \"green\",\n",
    "            \"Banana\": \"yellow\",\n",
    "        }\n",
    "\n",
    "    def get_random_fruit(self):\n",
    "        return random.choice(list(self.fruits.keys()))\n",
    "\n",
    "playing = True\n",
    "flashcard_1 = flashcard()\n",
    "while playing:\n",
    "    fruit = flashcard_1.get_random_fruit()\n",
    "    ans = input(f\"Enter a color of a fruit {fruit}\")\n",
    "    if flashcard_1.fruits[fruit] == ans.lower():\n",
    "        print(f\"Yay! You guessed the color of a fruit {fruit} correctly!\")\n",
    "    else:\n",
    "        print(f\"Oh no! You guessed the color of a fruit {fruit} wrong!\")\n",
    "    playing = input(\"You want to try again! 'Y or N'\")\n",
    "    if playing != \"Y\":\n",
    "        playing = False"
   ]
  },
  {
   "cell_type": "code",
   "execution_count": null,
   "id": "13865a1e-d7c9-4937-80fe-7932c1df53af",
   "metadata": {},
   "outputs": [],
   "source": []
  },
  {
   "cell_type": "markdown",
   "id": "b6c022bd-6d1b-4bb5-9bd5-12a846cb9b12",
   "metadata": {},
   "source": [
    "### 2. Shuffle a deck of card with OOPS in Python"
   ]
  },
  {
   "cell_type": "raw",
   "id": "69d2dd97-fad6-4ac6-912a-90f40ac83fb8",
   "metadata": {},
   "source": [
    "The objective is to distribute a deck of cards among two players. The code for the Shuffle Deck of Cards in Python can be used to shuffle the cards. The shuffle method, which is a built-in feature of the random library, is used to mix and randomize the order of the data before printing it."
   ]
  },
  {
   "cell_type": "code",
   "execution_count": 31,
   "id": "14b3bfff-1812-42cf-b3b7-5475d45e1ab0",
   "metadata": {
    "scrolled": true
   },
   "outputs": [
    {
     "name": "stdout",
     "output_type": "stream",
     "text": [
      "Jack of Hearts\n",
      "Queen of Spades\n",
      "7 of Diamonds\n",
      "8 of Diamonds\n",
      "Queen of Clubs\n",
      "6 of Clubs\n",
      "7 of Clubs\n",
      "Ace of Spades\n",
      "8 of Spades\n",
      "8 of Clubs\n",
      "5 of Hearts\n",
      "10 of Clubs\n",
      "3 of Spades\n",
      "King of Clubs\n",
      "Queen of Diamonds\n",
      "2 of Diamonds\n",
      "10 of Spades\n",
      "King of Diamonds\n",
      "10 of Diamonds\n",
      "2 of Clubs\n",
      "5 of Clubs\n",
      "3 of Hearts\n",
      "6 of Diamonds\n",
      "6 of Hearts\n",
      "4 of Hearts\n",
      "8 of Hearts\n",
      "9 of Spades\n",
      "Jack of Spades\n",
      "King of Spades\n",
      "King of Hearts\n",
      "Queen of Hearts\n",
      "Jack of Clubs\n",
      "2 of Spades\n",
      "10 of Hearts\n",
      "3 of Diamonds\n",
      "Ace of Diamonds\n",
      "2 of Hearts\n",
      "Jack of Diamonds\n",
      "3 of Clubs\n",
      "9 of Hearts\n",
      "4 of Diamonds\n",
      "6 of Spades\n",
      "Ace of Clubs\n",
      "9 of Clubs\n",
      "4 of Clubs\n",
      "9 of Diamonds\n",
      "5 of Diamonds\n",
      "7 of Spades\n",
      "5 of Spades\n",
      "Ace of Hearts\n",
      "7 of Hearts\n",
      "4 of Spades\n",
      "\n",
      "I have 52 available\n"
     ]
    }
   ],
   "source": [
    "import random\n",
    "\n",
    "suits = [\"Hearts\", \"Diamonds\", \"Spades\", \"Clubs\"]\n",
    "ranks = {\"2\", \"3\", \"4\", \"5\", \"6\", \"7\", \"8\", \"9\", \"10\", \"Jack\", \"Queen\", \"King\", \"Ace\"}\n",
    "values = {\"2\":2, \"3\":3, \"4\":4, \"5\":5, \"6\":6, \"7\":7, \"8\":8, \"9\":9, \"10\":10, \"Jack\":11, \"Queen\":12, \"King\":13, \"Ace\":1}\n",
    "\n",
    "class Card:\n",
    "\n",
    "    def __init__(self, suit, rank):\n",
    "        self.suit = suit\n",
    "        self.rank = rank\n",
    "        self.value = values[rank]\n",
    "\n",
    "    def __str__(self):\n",
    "        return f\"{self.rank} of {self.suit}\"\n",
    "\n",
    "class Deck:\n",
    "\n",
    "    def __init__(self):\n",
    "        self.cards = []\n",
    "        for suit in suits:\n",
    "            for rank in ranks:\n",
    "                self.cards.append(Card(suit, rank))\n",
    "\n",
    "    def shuffle(self):\n",
    "        random.shuffle(self.cards)\n",
    "\n",
    "    def __str__(self):\n",
    "        for card in self.cards:\n",
    "            print(card)\n",
    "        return f\"\\nI have {len(self.cards)} available\"\n",
    "\n",
    "my_deck1 = Deck()\n",
    "my_deck1.shuffle()\n",
    "print(my_deck1)\n",
    "            "
   ]
  },
  {
   "cell_type": "code",
   "execution_count": null,
   "id": "8922e2db-1a9a-45d0-885c-90a3970dd7cc",
   "metadata": {},
   "outputs": [],
   "source": []
  },
  {
   "cell_type": "markdown",
   "id": "614ee7c9-ffdc-4561-a6fe-a8ceee4fc8f8",
   "metadata": {},
   "source": [
    "### 3. How to define an empty class in Python"
   ]
  },
  {
   "cell_type": "raw",
   "id": "f525e242-ae7a-4a5b-8efa-039bf67fbb70",
   "metadata": {},
   "source": [
    "For defining an empty class we can use pass keyword."
   ]
  },
  {
   "cell_type": "code",
   "execution_count": 32,
   "id": "4d50c864-c6d0-4a49-b3b9-2cd43e37fc00",
   "metadata": {},
   "outputs": [
    {
     "ename": "SyntaxError",
     "evalue": "incomplete input (2978046111.py, line 3)",
     "output_type": "error",
     "traceback": [
      "\u001b[1;36m  Cell \u001b[1;32mIn[32], line 3\u001b[1;36m\u001b[0m\n\u001b[1;33m    # this will throw an error : SynbtaxError\u001b[0m\n\u001b[1;37m                                             ^\u001b[0m\n\u001b[1;31mSyntaxError\u001b[0m\u001b[1;31m:\u001b[0m incomplete input\n"
     ]
    }
   ],
   "source": [
    "# Example\n",
    "class MyClass:\n",
    "    # this will throw an error : SynbtaxError"
   ]
  },
  {
   "cell_type": "code",
   "execution_count": 34,
   "id": "b30c15d1-41c2-4e69-b096-f761bf6283e0",
   "metadata": {},
   "outputs": [],
   "source": [
    "# Instead we can do following\n",
    "class MyClass:\n",
    "    pass"
   ]
  },
  {
   "cell_type": "code",
   "execution_count": null,
   "id": "5489c8ba-682d-4e4e-b170-eeec36af943f",
   "metadata": {},
   "outputs": [],
   "source": []
  },
  {
   "cell_type": "markdown",
   "id": "4288993f-05b6-49fc-808c-bcb5c0bbf857",
   "metadata": {},
   "source": [
    "### 4. Student Management Systyem in Python"
   ]
  },
  {
   "cell_type": "raw",
   "id": "06acebfc-b08f-430f-ae5c-3b2f6839ffa5",
   "metadata": {},
   "source": [
    "Problem Statement: Write a program to build a simple Student Management System using Python which can perform the following operations:\n",
    "\n",
    "Accept\n",
    "Display\n",
    "Search\n",
    "Delete\n",
    "Update"
   ]
  },
  {
   "cell_type": "code",
   "execution_count": 54,
   "id": "2660739b-7422-4b9a-bb9a-97754e3387eb",
   "metadata": {
    "scrolled": true
   },
   "outputs": [
    {
     "name": "stdout",
     "output_type": "stream",
     "text": [
      "\n",
      "Student Deatils :\n",
      "Name: Karan\n",
      "Student id: 1\n",
      "Address: Bhuj\n",
      "Standard: 12\n",
      "\n",
      "Student Deatils :\n",
      "Name: Deep\n",
      "Student id: 2\n",
      "Address: Umreth\n",
      "Standard: 11\n",
      "\n",
      "Student Deatils :\n",
      "Name: Aditya\n",
      "Student id: 3\n",
      "Address: Ambaji\n",
      "Standard: 12\n",
      "\n",
      "Student Deatils :\n",
      "Name: Pratik\n",
      "Student id: 4\n",
      "Address: Surat\n",
      "Standard: 10\n",
      "\n",
      "\n",
      "Student Found\n",
      "\n",
      "Student Deatils :\n",
      "Name: Pratik\n",
      "Student id: 4\n",
      "Address: Surat\n",
      "Standard: 10\n",
      "List after updation\n",
      "\n",
      "Student Deatils :\n",
      "Name: Karan\n",
      "Student id: 1\n",
      "Address: Bhuj\n",
      "Standard: 12\n",
      "\n",
      "Student Deatils :\n",
      "Name: Deep\n",
      "Student id: 5\n",
      "Address: Umreth\n",
      "Standard: 11\n",
      "\n",
      "Student Deatils :\n",
      "Name: Aditya\n",
      "Student id: 3\n",
      "Address: Ambaji\n",
      "Standard: 12\n",
      "\n",
      "Student Deatils :\n",
      "Name: Pratik\n",
      "Student id: 4\n",
      "Address: Surat\n",
      "Standard: 10\n",
      "List after updation\n",
      "\n",
      "Student Deatils :\n",
      "Name: Karan\n",
      "Student id: 1\n",
      "Address: Bhuj\n",
      "Standard: 12\n",
      "\n",
      "Student Deatils :\n",
      "Name: Deep\n",
      "Student id: 5\n",
      "Address: Umreth\n",
      "Standard: 11\n",
      "\n",
      "Student Deatils :\n",
      "Name: Pratik\n",
      "Student id: 4\n",
      "Address: Surat\n",
      "Standard: 10\n"
     ]
    }
   ],
   "source": [
    "class Student:\n",
    "    student_list = []\n",
    "\n",
    "    def __init__(self, st_id, name, add, std): \n",
    "        self.st_id = st_id\n",
    "        self.name = name\n",
    "        self.add = add\n",
    "        self.std = std\n",
    "\n",
    "    def display(self):\n",
    "        print(f\"\\nStudent Deatils :\")\n",
    "        print(f\"Name: {self.name}\")\n",
    "        print(f\"Student id: {self.st_id}\")\n",
    "        print(f\"Address: {self.add}\")\n",
    "        print(f\"Standard: {self.std}\")\n",
    "\n",
    "    def accept(self, st_id, name, add, std):\n",
    "        self.student_list.append(Student(st_id, name, add, std))\n",
    "\n",
    "    def search(self, id):\n",
    "        for stu in self.student_list:\n",
    "            if stu.st_id == id:\n",
    "                return self.student_list.index(stu)\n",
    "\n",
    "    def update(self, id, new_id):\n",
    "        st_idx = self.search(id)\n",
    "        self.student_list[st_idx].st_id = new_id\n",
    "\n",
    "    def delete(self, id):\n",
    "        st_idx = self.search(id)\n",
    "        del self.student_list[st_idx]\n",
    "        # self.student_list.remove(st_idx)\n",
    "\n",
    "obj = Student(0, \"\", \"\", 0)\n",
    "\n",
    "# adding new students\n",
    "obj.accept(1, \"Karan\", \"Bhuj\", 12)\n",
    "obj.accept(2, \"Deep\", \"Umreth\", 11)\n",
    "obj.accept(3, \"Aditya\", \"Ambaji\", 12)\n",
    "obj.accept(4, \"Pratik\", \"Surat\", 10)\n",
    "\n",
    "# displaying students\n",
    "for student in Student.student_list:\n",
    "    student.display()\n",
    "\n",
    "# searching\n",
    "srch = obj.search(4)\n",
    "if srch:\n",
    "    print(f\"\\n\\nStudent Found\")\n",
    "    Student.student_list[srch].display()\n",
    "\n",
    "# updating\n",
    "obj.update(2, 5)\n",
    "print(f\"List after updation\")\n",
    "for student in Student.student_list:\n",
    "    student.display()\n",
    "\n",
    "# deleting\n",
    "obj.delete(3)\n",
    "print(f\"List after updation\")\n",
    "for student in Student.student_list:\n",
    "    student.display()"
   ]
  },
  {
   "cell_type": "code",
   "execution_count": null,
   "id": "13613436-3327-4120-863a-1cd235c27fb5",
   "metadata": {},
   "outputs": [],
   "source": []
  },
  {
   "cell_type": "code",
   "execution_count": null,
   "id": "e41de5e5-58f1-4eaa-bd66-056e98ce3c33",
   "metadata": {},
   "outputs": [],
   "source": []
  }
 ],
 "metadata": {
  "kernelspec": {
   "display_name": "Python 3 (ipykernel)",
   "language": "python",
   "name": "python3"
  },
  "language_info": {
   "codemirror_mode": {
    "name": "ipython",
    "version": 3
   },
   "file_extension": ".py",
   "mimetype": "text/x-python",
   "name": "python",
   "nbconvert_exporter": "python",
   "pygments_lexer": "ipython3",
   "version": "3.12.7"
  }
 },
 "nbformat": 4,
 "nbformat_minor": 5
}

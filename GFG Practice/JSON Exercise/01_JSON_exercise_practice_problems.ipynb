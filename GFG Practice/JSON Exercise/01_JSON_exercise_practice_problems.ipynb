{
 "cells": [
  {
   "cell_type": "markdown",
   "id": "3a263058-c50f-4b59-acf4-bfcf35cc3fad",
   "metadata": {},
   "source": [
    "### Python JSON"
   ]
  },
  {
   "cell_type": "raw",
   "id": "aaeae58d-3b0b-4728-ab8a-bd7ecac781f2",
   "metadata": {},
   "source": [
    "Python too supports JSON with a built-in package called JSON. \n",
    "This package provides all the necessary tools for working with JSON Objects including parsing, serializing, deserializing, and many more. "
   ]
  },
  {
   "cell_type": "raw",
   "id": "dac8fd65-2482-4044-8192-5c6ae53f7e0a",
   "metadata": {},
   "source": [
    "# Main methods:\n",
    "\n",
    "1. json.loads() => used to convert valid Python string into a Python Dictionary\n",
    "2. json.dumps() => used to convert valid json objct/Python dictionary into a string"
   ]
  },
  {
   "cell_type": "code",
   "execution_count": null,
   "id": "c6a1b1ea-ce5f-453d-8361-ef5f9e8e96e9",
   "metadata": {},
   "outputs": [],
   "source": []
  },
  {
   "cell_type": "markdown",
   "id": "8b7bf4fd-3f27-4ee2-9ee2-45c3912647a8",
   "metadata": {},
   "source": [
    "### 1. Convert class object to JSON in Python"
   ]
  },
  {
   "cell_type": "code",
   "execution_count": 1,
   "id": "355ca7db-52cd-489a-953c-10a11e955c31",
   "metadata": {},
   "outputs": [
    {
     "name": "stdout",
     "output_type": "stream",
     "text": [
      "{\"roll_no\": \"85\", \"name\": \"Swapnil\", \"batch\": \"IMT\"}\n",
      "{\"roll_no\": \"124\", \"name\": \"Akash\", \"batch\": \"IMT\"}\n",
      "{\"brand\": \"Honda\", \"name\": \"city\", \"batch\": \"2005\"}\n",
      "{\"brand\": \"Honda\", \"name\": \"Amaze\", \"batch\": \"2011\"}\n"
     ]
    }
   ],
   "source": [
    "import json \n",
    "\n",
    "class Student: \n",
    "\tdef __init__(self, roll_no, name, batch): \n",
    "\t\tself.roll_no = roll_no \n",
    "\t\tself.name = name \n",
    "\t\tself.batch = batch \n",
    "        \n",
    "\n",
    "class Car: \n",
    "\tdef __init__(self, brand, name, batch): \n",
    "\t\tself.brand = brand \n",
    "\t\tself.name = name \n",
    "\t\tself.batch = batch \n",
    "\n",
    "\n",
    "# main function \n",
    "if __name__ == \"__main__\": \n",
    "\t\n",
    "\t# create two new student objects \n",
    "\ts1 = Student(\"85\", \"Swapnil\", \"IMT\") \n",
    "\ts2 = Student(\"124\", \"Akash\", \"IMT\") \n",
    "\n",
    "\t# create two new car objects \n",
    "\tc1 = Car(\"Honda\", \"city\", \"2005\") \n",
    "\tc2 = Car(\"Honda\", \"Amaze\", \"2011\") \n",
    "\n",
    "\t# convert to JSON format \n",
    "\tjsonstr1 = json.dumps(s1.__dict__) \n",
    "\tjsonstr2 = json.dumps(s2.__dict__) \n",
    "\tjsonstr3 = json.dumps(c1.__dict__) \n",
    "\tjsonstr4 = json.dumps(c2.__dict__) \n",
    "\n",
    "\t# print created JSON objects \n",
    "\tprint(jsonstr1) \n",
    "\tprint(jsonstr2) \n",
    "\tprint(jsonstr3) \n",
    "\tprint(jsonstr4) "
   ]
  },
  {
   "cell_type": "code",
   "execution_count": null,
   "id": "7d7ce9a8-e925-4eef-9924-26531028e6c0",
   "metadata": {},
   "outputs": [],
   "source": []
  },
  {
   "cell_type": "markdown",
   "id": "815e47f2-77fa-4ecd-a722-4c2711d866c3",
   "metadata": {},
   "source": [
    "### 2. Convert JSON data Into a Custom Python Object"
   ]
  },
  {
   "cell_type": "code",
   "execution_count": 2,
   "id": "f09d8db6-4323-41f4-8972-2c0c7694957d",
   "metadata": {},
   "outputs": [],
   "source": [
    "import json\n",
    "from collections import namedtuple"
   ]
  },
  {
   "cell_type": "code",
   "execution_count": 5,
   "id": "afc8441e-2bcb-4bc8-b0f8-39b57a6fded3",
   "metadata": {},
   "outputs": [],
   "source": [
    "data = '{\"name\":\"Karan\", \"city\":\"Surat\", \"age\":20}'"
   ]
  },
  {
   "cell_type": "code",
   "execution_count": 9,
   "id": "7ca13293-b86c-40bc-bea7-35ebfac7299b",
   "metadata": {},
   "outputs": [],
   "source": [
    "# x = json.loads(data, object_hook=\n",
    "#                lambda d: namedtuple('X', d.keys())\n",
    "#                 (*d.values()))\n",
    "\n",
    "x = json.loads(data)"
   ]
  },
  {
   "cell_type": "code",
   "execution_count": 12,
   "id": "d64f2e7f-91c6-4867-95c4-be9482035e67",
   "metadata": {},
   "outputs": [
    {
     "data": {
      "text/plain": [
       "dict"
      ]
     },
     "execution_count": 12,
     "metadata": {},
     "output_type": "execute_result"
    }
   ],
   "source": [
    "type(x)"
   ]
  },
  {
   "cell_type": "code",
   "execution_count": 14,
   "id": "3047e495-a952-4e4c-ba7d-e79898c37259",
   "metadata": {},
   "outputs": [
    {
     "data": {
      "text/plain": [
       "'Karan'"
      ]
     },
     "execution_count": 14,
     "metadata": {},
     "output_type": "execute_result"
    }
   ],
   "source": [
    "x['name']"
   ]
  },
  {
   "cell_type": "code",
   "execution_count": null,
   "id": "b2db865e-d57c-44ef-b102-b85f4c117c52",
   "metadata": {},
   "outputs": [],
   "source": []
  },
  {
   "cell_type": "markdown",
   "id": "02b4eec5-cc9b-463d-9651-f0fb321789a6",
   "metadata": {},
   "source": [
    "### 4. Convert CSV to JSON using Python"
   ]
  },
  {
   "cell_type": "code",
   "execution_count": 15,
   "id": "815c6374-a01d-4bce-84d0-5ed1c553c86a",
   "metadata": {},
   "outputs": [],
   "source": [
    "import csv\n",
    "import json"
   ]
  },
  {
   "cell_type": "code",
   "execution_count": 27,
   "id": "0e52a12a-a7d3-4df3-9df2-b31300fd418b",
   "metadata": {},
   "outputs": [],
   "source": [
    "def make_json(csv_file, json_file):\n",
    "    data = {}\n",
    "    with open(csv_file, encoding=\"utf-8\") as csvf:\n",
    "        reader = csv.DictReader(csvf)\n",
    "        for row in reader:\n",
    "            key = row[\"No\"]\n",
    "            data[key] = row\n",
    "    with open(json_file, \"w\", encoding=\"utf-8\") as jsonf:\n",
    "        jsonf.write(json.dumps(data, indent=4))"
   ]
  },
  {
   "cell_type": "code",
   "execution_count": 28,
   "id": "861194f1-b7c3-40dc-8085-92eb99e76d02",
   "metadata": {},
   "outputs": [],
   "source": [
    "make_json(\"data.csv\", \"data.json\")"
   ]
  },
  {
   "cell_type": "code",
   "execution_count": null,
   "id": "f22dcd0a-9b94-4222-b241-e51fd78e851c",
   "metadata": {},
   "outputs": [],
   "source": []
  }
 ],
 "metadata": {
  "kernelspec": {
   "display_name": "Python 3 (ipykernel)",
   "language": "python",
   "name": "python3"
  },
  "language_info": {
   "codemirror_mode": {
    "name": "ipython",
    "version": 3
   },
   "file_extension": ".py",
   "mimetype": "text/x-python",
   "name": "python",
   "nbconvert_exporter": "python",
   "pygments_lexer": "ipython3",
   "version": "3.12.7"
  }
 },
 "nbformat": 4,
 "nbformat_minor": 5
}

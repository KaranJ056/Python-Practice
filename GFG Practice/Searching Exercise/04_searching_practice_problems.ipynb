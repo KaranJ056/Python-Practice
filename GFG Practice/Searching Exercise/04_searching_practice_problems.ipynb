{
 "cells": [
  {
   "cell_type": "markdown",
   "id": "196e6f5b-6839-49b4-ac8d-efd7ab09ff57",
   "metadata": {},
   "source": [
    "### Searching Practice Problems"
   ]
  },
  {
   "cell_type": "markdown",
   "id": "442a72da-2d01-40c6-a369-212d778ec5c7",
   "metadata": {},
   "source": [
    "### 1. Python Program for Linear Search"
   ]
  },
  {
   "cell_type": "raw",
   "id": "cfefa354-d96b-434d-9af8-16a39b797581",
   "metadata": {},
   "source": [
    "Input: arr = ['A', 'B', 'C', 'D', 'E', 'F', 'G', 'H', 'I', 'J', 'K', 'L', 'M', 'N', 'O', 'P', 'Q', 'R', \n",
    "              'S', 'T', 'U', 'V', 'W', 'X', 'Y', 'Z']          \n",
    "            # Element to Find             \n",
    "                x = 'J'  \n",
    "Output : 9"
   ]
  },
  {
   "cell_type": "code",
   "execution_count": 2,
   "id": "cf6e94db-4e63-43f0-929a-a165553831a7",
   "metadata": {},
   "outputs": [],
   "source": [
    "arr = ['A', 'B', 'C', 'D', 'E', 'F', 'G', 'H', 'I', 'J', 'K', 'L', 'M', 'N', 'O', 'P', 'Q', 'R', \n",
    "       'S', 'T', 'U', 'V', 'W', 'X', 'Y', 'Z']  \n",
    "ele = 'K'"
   ]
  },
  {
   "cell_type": "code",
   "execution_count": 3,
   "id": "8b5a137a-44a8-4d40-935a-82236d850e9b",
   "metadata": {},
   "outputs": [],
   "source": [
    "def linear_search_iterative(arr, ele):\n",
    "    for i in range(len(arr)):\n",
    "        if arr[i] == ele:\n",
    "            return i\n",
    "    return -1"
   ]
  },
  {
   "cell_type": "code",
   "execution_count": 9,
   "id": "40cca95e-f531-4a48-9b17-bc85387b991a",
   "metadata": {},
   "outputs": [],
   "source": [
    "def linear_search_recursive(arr, ele, index=0):\n",
    "    if index == len(arr):\n",
    "        return -1\n",
    "    if arr[index] == ele:\n",
    "        return index\n",
    "    return linear_search_recursive(arr, ele, index+1)"
   ]
  },
  {
   "cell_type": "code",
   "execution_count": 10,
   "id": "6f0a3907-05e8-4cf7-94e6-15538bb85a82",
   "metadata": {},
   "outputs": [
    {
     "data": {
      "text/plain": [
       "10"
      ]
     },
     "execution_count": 10,
     "metadata": {},
     "output_type": "execute_result"
    }
   ],
   "source": [
    "linear_search_iterative(arr, ele)"
   ]
  },
  {
   "cell_type": "code",
   "execution_count": 12,
   "id": "fbcd7b9a-e9bf-4c2a-b410-c35c45f7f041",
   "metadata": {},
   "outputs": [
    {
     "data": {
      "text/plain": [
       "10"
      ]
     },
     "execution_count": 12,
     "metadata": {},
     "output_type": "execute_result"
    }
   ],
   "source": [
    "linear_search_recursive(arr, ele)"
   ]
  },
  {
   "cell_type": "code",
   "execution_count": null,
   "id": "d8054222-4118-46b7-8ee3-f6e81fa81517",
   "metadata": {},
   "outputs": [],
   "source": []
  },
  {
   "cell_type": "markdown",
   "id": "6f5600ff-a3ad-450e-ba05-fb16ab1a7a67",
   "metadata": {},
   "source": [
    "### 2. Bninary Search Recursive"
   ]
  },
  {
   "cell_type": "code",
   "execution_count": null,
   "id": "08f404bd-a992-4c79-a6ee-22aa277c4891",
   "metadata": {},
   "outputs": [],
   "source": [
    "def binary_search_recursive(arr, ele, left, right):\n",
    "    mid = (left + right)//2\n",
    "    if arr[mid] == ele:\n",
    "        return mid\n",
    "    elif arr[mid] < ele:\n",
    "        return binary_search_recursive(arr, ele, mid+1, right)\n",
    "    else:\n",
    "        binary_search_recursive(arr, ele, left, mid-1)"
   ]
  },
  {
   "cell_type": "code",
   "execution_count": 17,
   "id": "8f078703-4d66-4f05-9a6f-76dc05316855",
   "metadata": {},
   "outputs": [],
   "source": [
    "arr = [1,2,3,4,5,6,90]\n",
    "ele = 90"
   ]
  },
  {
   "cell_type": "code",
   "execution_count": 18,
   "id": "35a6615a-e620-4e82-92b3-6a4ce3e68e44",
   "metadata": {},
   "outputs": [
    {
     "data": {
      "text/plain": [
       "6"
      ]
     },
     "execution_count": 18,
     "metadata": {},
     "output_type": "execute_result"
    }
   ],
   "source": [
    "binary_search_recursive(arr, ele, 0, len(arr)-1)"
   ]
  },
  {
   "cell_type": "code",
   "execution_count": null,
   "id": "f7eb0314-df28-4514-ae60-97ca5713d318",
   "metadata": {},
   "outputs": [],
   "source": []
  },
  {
   "cell_type": "markdown",
   "id": "5cb53948-3e95-4e25-a249-e1be23c6024f",
   "metadata": {},
   "source": [
    "### 3. Python Program for Anagram Substring Search (Or Search for all permutations)"
   ]
  },
  {
   "cell_type": "code",
   "execution_count": 12,
   "id": "25b1109f-dae3-486c-9a1f-e1240b00d6ff",
   "metadata": {},
   "outputs": [],
   "source": [
    "import itertools"
   ]
  },
  {
   "cell_type": "code",
   "execution_count": 13,
   "id": "ec8e143f-a98c-4c3e-83fe-964cf571c2cb",
   "metadata": {},
   "outputs": [],
   "source": [
    "from collections import Counter\n",
    "\n",
    "class Solution:\n",
    "    def search(self, pat, txt):\n",
    "        m = len(pat)\n",
    "        n = len(txt)\n",
    "        pat_dict = Counter(pat)\n",
    "        cnt = 0\n",
    "        for i in range(n-m+1):\n",
    "            test_dict = Counter(txt[i:i+m])\n",
    "            if pat_dict == test_dict:\n",
    "                cnt += 1\n",
    "        return cnt"
   ]
  },
  {
   "cell_type": "code",
   "execution_count": 14,
   "id": "482d41b3-321c-456f-94e9-f3a68cd3e708",
   "metadata": {
    "scrolled": true
   },
   "outputs": [
    {
     "data": {
      "text/plain": [
       "3"
      ]
     },
     "execution_count": 14,
     "metadata": {},
     "output_type": "execute_result"
    }
   ],
   "source": [
    "s1 = Solution()\n",
    "s1.search(\"for\", \"forxxorfxdofr\")"
   ]
  },
  {
   "cell_type": "code",
   "execution_count": 15,
   "id": "96555def-1ff8-4f7b-a5ed-01e2b577e69d",
   "metadata": {},
   "outputs": [
    {
     "data": {
      "text/plain": [
       "[('a', 'b', 'c'),\n",
       " ('a', 'c', 'b'),\n",
       " ('b', 'a', 'c'),\n",
       " ('b', 'c', 'a'),\n",
       " ('c', 'a', 'b'),\n",
       " ('c', 'b', 'a')]"
      ]
     },
     "execution_count": 15,
     "metadata": {},
     "output_type": "execute_result"
    }
   ],
   "source": [
    "[p for p in itertools.permutations(\"abc\")]"
   ]
  },
  {
   "cell_type": "code",
   "execution_count": null,
   "id": "396f6ab3-2784-43e0-b2c1-79441dbd8c75",
   "metadata": {},
   "outputs": [],
   "source": []
  },
  {
   "cell_type": "code",
   "execution_count": null,
   "id": "d20ab59d-53a4-4673-b8a6-d77f2ff7c3e8",
   "metadata": {},
   "outputs": [],
   "source": []
  }
 ],
 "metadata": {
  "kernelspec": {
   "display_name": "Python 3 (ipykernel)",
   "language": "python",
   "name": "python3"
  },
  "language_info": {
   "codemirror_mode": {
    "name": "ipython",
    "version": 3
   },
   "file_extension": ".py",
   "mimetype": "text/x-python",
   "name": "python",
   "nbconvert_exporter": "python",
   "pygments_lexer": "ipython3",
   "version": "3.12.7"
  }
 },
 "nbformat": 4,
 "nbformat_minor": 5
}

{
 "cells": [
  {
   "cell_type": "markdown",
   "id": "58f8077b-c828-4b28-962b-29ea8afeaa8c",
   "metadata": {},
   "source": [
    "### 1. Assigning Subsequent Rows to Matrix first row elements\n",
    "\n",
    "#### Input : test_list = [[5, 8, 10], [2, 0, 9], [5, 4, 2], [2, 3, 9]] Output : {5: [2, 0, 9], 8: [5, 4, 2], 10: [2, 3, 9]} \n",
    "#### Explanation : 5 paired with 2nd row, 8 with 3rd and 10 with 4th \n",
    "#### Input : test_list = [[5, 8], [2, 0], [5, 4]] Output : {5: [2, 0], 8: [5, 4]} \n",
    "#### Explanation : 5 paired with 2nd row, 8 with 3rd."
   ]
  },
  {
   "cell_type": "code",
   "execution_count": 3,
   "id": "970d1cc3-3793-453e-8e89-539b555a0c83",
   "metadata": {},
   "outputs": [
    {
     "name": "stdout",
     "output_type": "stream",
     "text": [
      "{5: [2, 3, 9], 8: [2, 3, 9], 10: [2, 3, 9]}\n",
      "{5: [2, 0, 9], 8: [5, 4, 2], 10: [2, 3, 9]}\n",
      "{5: [2, 0, 9], 8: [5, 4, 2], 10: [2, 3, 9]}\n"
     ]
    }
   ],
   "source": [
    "# Solution:\n",
    "\n",
    "test_list = [[5, 8, 10], [2, 0, 9], [5, 4, 2], [2, 3, 9]]\n",
    "\n",
    "# 1st way\n",
    "ans_dict1 = {num:list for num in test_list[0] for list in test_list[1:]}\n",
    "\n",
    "# 2nd way\n",
    "ans_dict2 = {test_list[0][ele]:test_list[ele+1] for ele in range(len(test_list)-1)}\n",
    "\n",
    "# 3rd way\n",
    "ans_dict3 = dict(zip(test_list[0], test_list[1:]))\n",
    "\n",
    "print(ans_dict1)\n",
    "print(ans_dict2)\n",
    "print(ans_dict3)"
   ]
  },
  {
   "cell_type": "code",
   "execution_count": null,
   "id": "d0e82031-1487-4c5b-b836-04144d45fadf",
   "metadata": {},
   "outputs": [],
   "source": []
  },
  {
   "cell_type": "markdown",
   "id": "d767f9e5-012d-4247-9c14-b73452e89f23",
   "metadata": {},
   "source": [
    "### 2. Adding and Subtracting Matrices in Python\n",
    "<code>\n",
    "Suppose we have two matrices A and B.\n",
    "A = [[1,2],[3,4]]\n",
    "B = [[4,5],[6,7]]\n",
    "\n",
    "then we get\n",
    "A+B = [[5,7],[9,11]]\n",
    "A-B = [[-3,-3],[-3,-3]]\n",
    "<code>"
   ]
  },
  {
   "cell_type": "code",
   "execution_count": 24,
   "id": "2e1e8d8f-93df-45c8-90c2-d3091e8b5184",
   "metadata": {},
   "outputs": [],
   "source": [
    "A = [[1,2], [3,4]]\n",
    "B = [[4,5], [6,7]]\n",
    "Add1 = [[],[]]\n",
    "Sub1 = [[],[]]\n",
    "for i in range(len(A)):\n",
    "    for j in range(len(A)):\n",
    "        Add1[i].append(A[i][j] + B[i][j])\n",
    "        Sub1[i].append(A[i][j] - B[i][j])"
   ]
  },
  {
   "cell_type": "code",
   "execution_count": 25,
   "id": "e421a27c-1a65-473b-8509-5058dc6a5a14",
   "metadata": {},
   "outputs": [
    {
     "name": "stdout",
     "output_type": "stream",
     "text": [
      "[[5, 7], [9, 11]]\n",
      "[[-3, -3], [-3, -3]]\n"
     ]
    }
   ],
   "source": [
    "print(Add1)\n",
    "print(Sub1)"
   ]
  },
  {
   "cell_type": "code",
   "execution_count": 27,
   "id": "da7b1bd3-10b4-4ada-97ed-81a75245522b",
   "metadata": {},
   "outputs": [
    {
     "name": "stdout",
     "output_type": "stream",
     "text": [
      "[[ 5  7]\n",
      " [ 9 11]]\n",
      "[[-3 -3]\n",
      " [-3 -3]]\n"
     ]
    }
   ],
   "source": [
    "# 2nd way\n",
    "# use np\n",
    "import numpy as np\n",
    "\n",
    "A = np.array(A)\n",
    "B = np.array(B)\n",
    "\n",
    "print(np.add(A, B))\n",
    "print(np.subtract(A, B))\n"
   ]
  },
  {
   "cell_type": "code",
   "execution_count": null,
   "id": "5b4bd2ed-e6d2-4f3e-96ea-5cec5371765c",
   "metadata": {},
   "outputs": [],
   "source": []
  },
  {
   "cell_type": "markdown",
   "id": "58cd7527-bbaa-4c2f-8f02-5d961d7c6833",
   "metadata": {},
   "source": [
    "### 3. Python – Group similar elements into Matrix\n",
    "\n",
    "#### Input : test_list = [1, 3, 4, 4, 2, 3] \n",
    "#### Output : [[1], [2], [3, 3], [4, 4]] \n",
    "#### Input : test_list = [1, 3, 4, 2] \n",
    "#### Output : [[1], [2], [3], [4]]"
   ]
  },
  {
   "cell_type": "code",
   "execution_count": 39,
   "id": "31a97fe5-5e44-4c40-aa87-288a402553e3",
   "metadata": {},
   "outputs": [
    {
     "name": "stdout",
     "output_type": "stream",
     "text": [
      "[1, 2, 3, 3, 4, 4]\n"
     ]
    }
   ],
   "source": [
    "test_list = [1,3,4,4,2,3]\n",
    "\n",
    "grouped_list = []\n",
    "sorted_list = sorted(test_list)\n",
    "print(sorted_list)\n",
    "count_dict = {}\n",
    "for num in sorted_list:\n",
    "    count_dict[str(num)] = sorted_list.count(num)\n",
    "for k in count_dict:\n",
    "    grouped_list.append(list(int(k) for num in range(count_dict[k])))"
   ]
  },
  {
   "cell_type": "code",
   "execution_count": 45,
   "id": "a6b0d305-6b72-48cc-af91-7ce29a7bf2db",
   "metadata": {},
   "outputs": [],
   "source": [
    "# 2nd way \n",
    "from itertools import groupby\n",
    "ans_list = [list(group) for elem, group in groupby(sorted(test_list))]"
   ]
  },
  {
   "cell_type": "code",
   "execution_count": 46,
   "id": "556c0c7a-ec40-4018-8c09-66522f1ba319",
   "metadata": {},
   "outputs": [
    {
     "data": {
      "text/plain": [
       "[[1], [2], [3, 3], [4, 4]]"
      ]
     },
     "execution_count": 46,
     "metadata": {},
     "output_type": "execute_result"
    }
   ],
   "source": [
    "ans_list"
   ]
  },
  {
   "cell_type": "code",
   "execution_count": 52,
   "id": "627ff1eb-8745-499c-8d5e-e112dd434b0a",
   "metadata": {},
   "outputs": [
    {
     "data": {
      "text/plain": [
       "[[1], [3, 3], [4, 4], [2]]"
      ]
     },
     "execution_count": 52,
     "metadata": {},
     "output_type": "execute_result"
    }
   ],
   "source": [
    "# 3rd way : Counter\n",
    "from collections import Counter\n",
    "\n",
    "test_list = [1,3,4,4,2,3]\n",
    "\n",
    "grouped = Counter(test_list)\n",
    "\n",
    "ans = [[k]*v for k, v in grouped.items()]\n",
    "\n",
    "ans"
   ]
  },
  {
   "cell_type": "code",
   "execution_count": 54,
   "id": "77b5dc8e-bd37-46da-b604-8a2d94c9b915",
   "metadata": {},
   "outputs": [
    {
     "data": {
      "text/plain": [
       "[[1], [2], [3, 3], [4, 4]]"
      ]
     },
     "execution_count": 54,
     "metadata": {},
     "output_type": "execute_result"
    }
   ],
   "source": [
    "# 4th way : set\n",
    "\n",
    "uniques = set(test_list)\n",
    "ans = []\n",
    "for ele in uniques:\n",
    "    sub_list = [x for x in test_list if ele==x]\n",
    "    ans.append(sub_list)\n",
    "\n",
    "ans"
   ]
  },
  {
   "cell_type": "code",
   "execution_count": 56,
   "id": "79cf77b8-8c83-4667-afec-af155dc2e955",
   "metadata": {},
   "outputs": [
    {
     "name": "stdout",
     "output_type": "stream",
     "text": [
      "Matrix after grouping: [[1, 1], [2, 2], [3, 3], [4], [5, 5]]\n"
     ]
    }
   ],
   "source": [
    "# 5th way : using NumPy\n",
    "\n",
    "import numpy as np\n",
    "\n",
    "test_list = [1, 3, 5, 1, 3, 2, 5, 4, 2]\n",
    "\n",
    "# Step 1: Use np.unique() to get unique elements of the list\n",
    "unique, counts = np.unique(test_list, return_counts=True)\n",
    "# Step 2: Use np.zeros() to create a matrix of zeros with the shape (len(unique), max(counts))\n",
    "matrix = np.zeros((len(unique), np.max(counts)), dtype=int)\n",
    "\n",
    "# Step 3: Use nested loops to iterate through the unique elements and their counts, and fill in the matrix with the corresponding elements\n",
    "for i, element in enumerate(unique):\n",
    "\tfor j in range(counts[i]):\n",
    "\t\tmatrix[i,j] = element\n",
    "\n",
    "# Step 4: Remove the extra zeros\n",
    "result = []\n",
    "for row in matrix:\n",
    "\tresult.append([x for x in row if x != 0])\n",
    "\n",
    "# Step 5: Print the matrix\n",
    "print(\"Matrix after grouping: \" + str(result))\n"
   ]
  },
  {
   "cell_type": "code",
   "execution_count": null,
   "id": "25bd8ac4-118a-4da2-9f15-b8c6bf244f2f",
   "metadata": {},
   "outputs": [],
   "source": []
  },
  {
   "cell_type": "markdown",
   "id": "8e55a507-a1de-4de8-a24e-7b40d0190e51",
   "metadata": {},
   "source": [
    "### 4. Python – Row-wise element Addition in Tuple Matrix\n",
    "\n",
    "<code>\n",
    "nput : test_list = [[(‘Gfg’, 3)], [(‘best’, 1)]] cus_eles = [1, 2] \n",
    "Output : [[(‘Gfg’, 3, 1)], [(‘best’, 1, 2)]] \n",
    "\n",
    "\n",
    "Input : test_list = [[(‘Gfg’, 6), (‘Gfg’, 3)]] cus_eles = [7] \n",
    "Output : [[(‘Gfg’, 6, 7), (‘Gfg’, 3, 7)]]\n",
    "</code>"
   ]
  },
  {
   "cell_type": "code",
   "execution_count": 65,
   "id": "2f6cf4a5-1fae-434d-8e0d-9bd8b2c835a4",
   "metadata": {},
   "outputs": [
    {
     "data": {
      "text/plain": [
       "[('Gfg', 3, 1), ('best', 1, 1)]"
      ]
     },
     "execution_count": 65,
     "metadata": {},
     "output_type": "execute_result"
    }
   ],
   "source": [
    "test_list = [[(\"Gfg\", 3)], [(\"best\", 1)]]\n",
    "cus_eles = [1]\n",
    "\n",
    "m = len(test_list)\n",
    "n = len(cus_eles)\n",
    "\n",
    "if m == n:\n",
    "    for i in range(len(test_list)):\n",
    "        x_lst = list(test_list[i][0])\n",
    "        x_lst.append(cus_eles[i])\n",
    "        test_list[i] = tuple(x_lst)\n",
    "else:\n",
    "    for i in range(len(test_list)):\n",
    "        x_lst = list(test_list[i][0])\n",
    "        x_lst.append(cus_eles[i%len(cus_eles)])\n",
    "        test_list[i] = tuple(x_lst)\n",
    "test_list"
   ]
  },
  {
   "cell_type": "code",
   "execution_count": 96,
   "id": "03c2b90f-6a35-45f5-84e9-096a640a3763",
   "metadata": {},
   "outputs": [
    {
     "name": "stdout",
     "output_type": "stream",
     "text": [
      "[[('Gfg', 6, 7), ('Gfg', 3, 7)]]\n",
      "[[('Gfg', 6, 7), ('Gfg', 3, 7)]]\n"
     ]
    }
   ],
   "source": [
    "# 2nd way\n",
    "test_list = [[(\"Gfg\", 6), (\"Gfg\", 3)]] \n",
    "cus_eles = [7]\n",
    "\n",
    "res = [[sub + (cus_eles[idx], ) for sub in val] for idx, val in enumerate(test_list)]\n",
    "print(res)\n",
    "\n",
    "# 3rd way\n",
    "res = [[(x + (val, )) for x in key] for key, val in zip(test_list, cus_eles)]\n",
    "print(res)"
   ]
  },
  {
   "cell_type": "code",
   "execution_count": 86,
   "id": "68f9a1e7-5379-426a-b079-48fb9001491f",
   "metadata": {},
   "outputs": [
    {
     "name": "stdout",
     "output_type": "stream",
     "text": [
      "0\n",
      "[('Gfg', 6), ('Gfg', 3)]\n",
      "('Gfg', 6, 7)\n",
      "('Gfg', 3, 7)\n"
     ]
    }
   ],
   "source": [
    "for idx, val in enumerate(test_list):\n",
    "    print(idx)\n",
    "    print(val)\n",
    "    for sub in val:\n",
    "        print(sub + (7, ))"
   ]
  },
  {
   "cell_type": "code",
   "execution_count": 94,
   "id": "c0a4161e-6148-4335-93f7-3eed6b2d79a7",
   "metadata": {},
   "outputs": [
    {
     "name": "stdout",
     "output_type": "stream",
     "text": [
      "[('Gfg', 6), ('Gfg', 3)]\n",
      "7\n",
      "('Gfg', 6, 7)\n",
      "('Gfg', 3, 7)\n"
     ]
    }
   ],
   "source": [
    "for key, val in zip(test_list, cus_eles):\n",
    "    print(key)\n",
    "    print(val)\n",
    "    for x in key:\n",
    "        print(x + (val, ))"
   ]
  },
  {
   "cell_type": "code",
   "execution_count": null,
   "id": "919f3e8c-d390-4972-a750-a0513ee5b13d",
   "metadata": {},
   "outputs": [],
   "source": []
  },
  {
   "cell_type": "markdown",
   "id": "9d5f2055-a13f-48c0-8720-247589dcfac1",
   "metadata": {},
   "source": [
    "### 3. Create an n x n square matrix, where all the sub-matrix have the sum of opposite corner elements as even"
   ]
  },
  {
   "cell_type": "code",
   "execution_count": null,
   "id": "e260546f-d59e-4ebe-b915-f8d14c0d4517",
   "metadata": {},
   "outputs": [],
   "source": []
  }
 ],
 "metadata": {
  "kernelspec": {
   "display_name": "Python 3 (ipykernel)",
   "language": "python",
   "name": "python3"
  },
  "language_info": {
   "codemirror_mode": {
    "name": "ipython",
    "version": 3
   },
   "file_extension": ".py",
   "mimetype": "text/x-python",
   "name": "python",
   "nbconvert_exporter": "python",
   "pygments_lexer": "ipython3",
   "version": "3.12.7"
  }
 },
 "nbformat": 4,
 "nbformat_minor": 5
}
